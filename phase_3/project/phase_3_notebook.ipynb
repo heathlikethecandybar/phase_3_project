{
 "cells": [
  {
   "cell_type": "markdown",
   "metadata": {},
   "source": [
    "# Final Project Submission\n",
    "\n",
    "* Student name: Heath Rittler\n",
    "* Student pace: Self paced\n",
    "* Scheduled project review date/time: \n",
    "* Instructor name: Mark Barbour\n",
    "* Blog post URL: https://medium.com/@heathlikethecandybar/"
   ]
  },
  {
   "cell_type": "markdown",
   "metadata": {
    "ExecuteTime": {
     "end_time": "2022-12-05T23:31:24.225801Z",
     "start_time": "2022-12-05T23:31:24.222306Z"
    }
   },
   "source": [
    "# Introduction"
   ]
  },
  {
   "cell_type": "markdown",
   "metadata": {},
   "source": [
    "## Business Case/ Summary"
   ]
  },
  {
   "cell_type": "markdown",
   "metadata": {},
   "source": [
    "SyriaTel, a telecommunications company wants to identify the leading factors of why a customer cancels their service.  This is also referred to as 'Churn.'  If they understand the factors that lead to churn, the company can implement programs to reduce the risk of churn, and increase the lifetime value of and for their customers.\n",
    "\n",
    "My goal is to build a classifer to predict whether a customer will stop doing business with SyriaTel using information such as usage, interactions with SyriaTel, and certain features that the customer has purchased.  I am mostly focused on reducing the rate of false negatives."
   ]
  },
  {
   "cell_type": "markdown",
   "metadata": {
    "ExecuteTime": {
     "end_time": "2022-12-05T23:31:56.326643Z",
     "start_time": "2022-12-05T23:31:56.324175Z"
    }
   },
   "source": [
    "## Core Field Names and Definitions from Data Source"
   ]
  },
  {
   "cell_type": "markdown",
   "metadata": {},
   "source": [
    "https://www.kaggle.com/datasets/becksddf/churn-in-telecoms-dataset\n",
    "\n",
    "* `state`- The state in which the account owner resides.\n",
    "* `account length` - \n",
    "* `area code` - Primary 3 digit area of the line for the account.\n",
    "* `phone number` - Primary 7 digit area of the line for the account.\n",
    "* `international plan` - Indicator denoting whether or not the account has an international feature.\n",
    "* `voice mail plan` - Indicator denoting whether or not the account has an voice mail feature.\n",
    "* `number vmail messages` - Usage metric counting the total number of voicemails for the phone number in question.\n",
    "* `total day minutes` - Usage metric indicating how many minutes (call time) were used between 6:00am and 5:00pm.\n",
    "* `total day calls` - Usage metric indicating how many calls were used between 6:00am and 5:00pm. \n",
    "* `total day charge` - Usage metric indicating how much the user was charged for their usage between 6:00am and 5:00pm.\n",
    "* `total eve minutes` - Usage metric indicating how many minutes (call time) were used between 5:01pm and 8:00pm.\n",
    "* `total eve calls` - Usage metric indicating how many calls were used between 5:01pm and 8:00pm. \n",
    "* `total eve charge` - Usage metric indicating how much the user was charged for their usage between 5:01pm and 8:00pm.\n",
    "* `total night minutes` - Usage metric indicating how many minutes (call time) were used between 8:01pm and 5:59am.\n",
    "* `total night calls` - Usage metric indicating how many calls were used between 8:01pm and 5:59am.\n",
    "* `total night charge` - Usage metric indicating how much the user was charged for their usage between 8:01pm and 5:59a.\n",
    "* `total intl minutes` - Usage metric indicating how many minutes (call time) were used internationally.\n",
    "* `total intl calls` - Usage metric indicating how many calls were made internationally.\n",
    "* `total intl charge` - Usage metric indicating how much the user was charged for their international call usage.\n",
    "* `customer service calls` - The total number of customer service calls made by the user to the Skyvia Customer Service line.\n",
    "* `churn` - Our target category indicating whether or not the customer churned/ cancelled their plan."
   ]
  },
  {
   "cell_type": "markdown",
   "metadata": {
    "ExecuteTime": {
     "end_time": "2022-12-05T23:33:58.458765Z",
     "start_time": "2022-12-05T23:33:58.456116Z"
    }
   },
   "source": [
    "# Data Load, Cleaning"
   ]
  },
  {
   "cell_type": "markdown",
   "metadata": {
    "ExecuteTime": {
     "end_time": "2022-12-05T23:34:45.455453Z",
     "start_time": "2022-12-05T23:34:45.452940Z"
    }
   },
   "source": [
    "## Importing Packages"
   ]
  },
  {
   "cell_type": "code",
   "execution_count": 286,
   "metadata": {
    "ExecuteTime": {
     "end_time": "2023-01-03T22:38:09.345291Z",
     "start_time": "2023-01-03T22:38:09.328764Z"
    }
   },
   "outputs": [],
   "source": [
    "# Importing packages for analysis\n",
    "\n",
    "import pandas as pd\n",
    "import numpy as np\n",
    "\n",
    "from matplotlib import pyplot as plt\n",
    "import matplotlib.ticker as mtick\n",
    "import seaborn as sns\n",
    "import statsmodels.api as sm\n",
    "from sklearn.linear_model import LinearRegression, LogisticRegression\n",
    "from sklearn.model_selection import train_test_split, cross_val_score, GridSearchCV, StratifiedKFold\n",
    "from sklearn.preprocessing import LabelEncoder\n",
    "from sklearn.pipeline import Pipeline\n",
    "from sklearn.preprocessing import OneHotEncoder, StandardScaler, FunctionTransformer\n",
    "from sklearn.impute import MissingIndicator, SimpleImputer\n",
    "from sklearn.compose import ColumnTransformer\n",
    "from sklearn.dummy import DummyClassifier\n",
    "from sklearn.metrics import plot_confusion_matrix\n",
    "from sklearn.metrics import confusion_matrix\n",
    "from sklearn.metrics import plot_roc_curve\n",
    "from sklearn.metrics import classification_report\n",
    "from sklearn.metrics import plot_roc_curve, roc_curve, roc_auc_score\n",
    "from sklearn.metrics import precision_score, recall_score, accuracy_score, f1_score\n",
    "from sklearn.neighbors import KNeighborsClassifier, NearestNeighbors\n",
    "from sklearn.ensemble import AdaBoostRegressor, GradientBoostingRegressor, \\\n",
    "AdaBoostClassifier, GradientBoostingClassifier\n",
    "from sklearn.tree import DecisionTreeRegressor, DecisionTreeClassifier, plot_tree\n",
    "\n",
    "import xgboost\n",
    "\n",
    "lr = LinearRegression()\n",
    "plt.style.use('seaborn-talk')\n",
    "import sklearn.metrics as metrics\n",
    "\n",
    "\n",
    "%matplotlib inline"
   ]
  },
  {
   "cell_type": "markdown",
   "metadata": {
    "ExecuteTime": {
     "end_time": "2022-12-05T23:35:01.964010Z",
     "start_time": "2022-12-05T23:35:01.961530Z"
    }
   },
   "source": [
    "## Choosing Colors & Templates"
   ]
  },
  {
   "cell_type": "code",
   "execution_count": 473,
   "metadata": {
    "ExecuteTime": {
     "end_time": "2023-01-04T04:12:43.878234Z",
     "start_time": "2023-01-04T04:12:43.794889Z"
    }
   },
   "outputs": [
    {
     "data": {
      "image/png": "[encoded data removed]",
      "text/plain": [
       "<Figure size 360x72 with 1 Axes>"
      ]
     },
     "metadata": {
      "needs_background": "light"
     },
     "output_type": "display_data"
    }
   ],
   "source": [
    "# Choosing standard colors for project\n",
    "\n",
    "pal = ['#37648C',\n",
    "        '#5687A6',\n",
    "        '#F2E4BB',\n",
    "        '#F29D52',\n",
    "        '#F26A4B']\n",
    "\n",
    "color_codes = ['darkblue', 'blue', 'beige', 'orange', 'redorange']\n",
    "\n",
    "c = lambda x: pal[color_codes.index(x)]\n",
    "\n",
    "sns.palplot(sns.color_palette(pal))\n",
    "\n",
    "div = []"
   ]
  },
  {
   "cell_type": "markdown",
   "metadata": {
    "ExecuteTime": {
     "end_time": "2022-12-05T23:35:49.207235Z",
     "start_time": "2022-12-05T23:35:49.204872Z"
    }
   },
   "source": [
    "## Import data"
   ]
  },
  {
   "cell_type": "code",
   "execution_count": 288,
   "metadata": {
    "ExecuteTime": {
     "end_time": "2023-01-03T22:38:09.470113Z",
     "start_time": "2023-01-03T22:38:09.420944Z"
    }
   },
   "outputs": [
    {
     "data": {
      "text/html": [
       "<div>\n",
       "<style scoped>\n",
       "    .dataframe tbody tr th:only-of-type {\n",
       "        vertical-align: middle;\n",
       "    }\n",
       "\n",
       "    .dataframe tbody tr th {\n",
       "        vertical-align: top;\n",
       "    }\n",
       "\n",
       "    .dataframe thead th {\n",
       "        text-align: right;\n",
       "    }\n",
       "</style>\n",
       "<table border=\"1\" class=\"dataframe\">\n",
       "  <thead>\n",
       "    <tr style=\"text-align: right;\">\n",
       "      <th></th>\n",
       "      <th>state</th>\n",
       "      <th>account length</th>\n",
       "      <th>area code</th>\n",
       "      <th>phone number</th>\n",
       "      <th>international plan</th>\n",
       "      <th>voice mail plan</th>\n",
       "      <th>number vmail messages</th>\n",
       "      <th>total day minutes</th>\n",
       "      <th>total day calls</th>\n",
       "      <th>total day charge</th>\n",
       "      <th>...</th>\n",
       "      <th>total eve calls</th>\n",
       "      <th>total eve charge</th>\n",
       "      <th>total night minutes</th>\n",
       "      <th>total night calls</th>\n",
       "      <th>total night charge</th>\n",
       "      <th>total intl minutes</th>\n",
       "      <th>total intl calls</th>\n",
       "      <th>total intl charge</th>\n",
       "      <th>customer service calls</th>\n",
       "      <th>churn</th>\n",
       "    </tr>\n",
       "  </thead>\n",
       "  <tbody>\n",
       "    <tr>\n",
       "      <th>0</th>\n",
       "      <td>KS</td>\n",
       "      <td>128</td>\n",
       "      <td>415</td>\n",
       "      <td>382-4657</td>\n",
       "      <td>no</td>\n",
       "      <td>yes</td>\n",
       "      <td>25</td>\n",
       "      <td>265.1</td>\n",
       "      <td>110</td>\n",
       "      <td>45.07</td>\n",
       "      <td>...</td>\n",
       "      <td>99</td>\n",
       "      <td>16.78</td>\n",
       "      <td>244.7</td>\n",
       "      <td>91</td>\n",
       "      <td>11.01</td>\n",
       "      <td>10.0</td>\n",
       "      <td>3</td>\n",
       "      <td>2.70</td>\n",
       "      <td>1</td>\n",
       "      <td>False</td>\n",
       "    </tr>\n",
       "    <tr>\n",
       "      <th>1</th>\n",
       "      <td>OH</td>\n",
       "      <td>107</td>\n",
       "      <td>415</td>\n",
       "      <td>371-7191</td>\n",
       "      <td>no</td>\n",
       "      <td>yes</td>\n",
       "      <td>26</td>\n",
       "      <td>161.6</td>\n",
       "      <td>123</td>\n",
       "      <td>27.47</td>\n",
       "      <td>...</td>\n",
       "      <td>103</td>\n",
       "      <td>16.62</td>\n",
       "      <td>254.4</td>\n",
       "      <td>103</td>\n",
       "      <td>11.45</td>\n",
       "      <td>13.7</td>\n",
       "      <td>3</td>\n",
       "      <td>3.70</td>\n",
       "      <td>1</td>\n",
       "      <td>False</td>\n",
       "    </tr>\n",
       "    <tr>\n",
       "      <th>2</th>\n",
       "      <td>NJ</td>\n",
       "      <td>137</td>\n",
       "      <td>415</td>\n",
       "      <td>358-1921</td>\n",
       "      <td>no</td>\n",
       "      <td>no</td>\n",
       "      <td>0</td>\n",
       "      <td>243.4</td>\n",
       "      <td>114</td>\n",
       "      <td>41.38</td>\n",
       "      <td>...</td>\n",
       "      <td>110</td>\n",
       "      <td>10.30</td>\n",
       "      <td>162.6</td>\n",
       "      <td>104</td>\n",
       "      <td>7.32</td>\n",
       "      <td>12.2</td>\n",
       "      <td>5</td>\n",
       "      <td>3.29</td>\n",
       "      <td>0</td>\n",
       "      <td>False</td>\n",
       "    </tr>\n",
       "    <tr>\n",
       "      <th>3</th>\n",
       "      <td>OH</td>\n",
       "      <td>84</td>\n",
       "      <td>408</td>\n",
       "      <td>375-9999</td>\n",
       "      <td>yes</td>\n",
       "      <td>no</td>\n",
       "      <td>0</td>\n",
       "      <td>299.4</td>\n",
       "      <td>71</td>\n",
       "      <td>50.90</td>\n",
       "      <td>...</td>\n",
       "      <td>88</td>\n",
       "      <td>5.26</td>\n",
       "      <td>196.9</td>\n",
       "      <td>89</td>\n",
       "      <td>8.86</td>\n",
       "      <td>6.6</td>\n",
       "      <td>7</td>\n",
       "      <td>1.78</td>\n",
       "      <td>2</td>\n",
       "      <td>False</td>\n",
       "    </tr>\n",
       "    <tr>\n",
       "      <th>4</th>\n",
       "      <td>OK</td>\n",
       "      <td>75</td>\n",
       "      <td>415</td>\n",
       "      <td>330-6626</td>\n",
       "      <td>yes</td>\n",
       "      <td>no</td>\n",
       "      <td>0</td>\n",
       "      <td>166.7</td>\n",
       "      <td>113</td>\n",
       "      <td>28.34</td>\n",
       "      <td>...</td>\n",
       "      <td>122</td>\n",
       "      <td>12.61</td>\n",
       "      <td>186.9</td>\n",
       "      <td>121</td>\n",
       "      <td>8.41</td>\n",
       "      <td>10.1</td>\n",
       "      <td>3</td>\n",
       "      <td>2.73</td>\n",
       "      <td>3</td>\n",
       "      <td>False</td>\n",
       "    </tr>\n",
       "  </tbody>\n",
       "</table>\n",
       "<p>5 rows × 21 columns</p>\n",
       "</div>"
      ],
      "text/plain": [
       "  state  account length  area code phone number international plan  \\\n",
       "0    KS             128        415     382-4657                 no   \n",
       "1    OH             107        415     371-7191                 no   \n",
       "2    NJ             137        415     358-1921                 no   \n",
       "3    OH              84        408     375-9999                yes   \n",
       "4    OK              75        415     330-6626                yes   \n",
       "\n",
       "  voice mail plan  number vmail messages  total day minutes  total day calls  \\\n",
       "0             yes                     25              265.1              110   \n",
       "1             yes                     26              161.6              123   \n",
       "2              no                      0              243.4              114   \n",
       "3              no                      0              299.4               71   \n",
       "4              no                      0              166.7              113   \n",
       "\n",
       "   total day charge  ...  total eve calls  total eve charge  \\\n",
       "0             45.07  ...               99             16.78   \n",
       "1             27.47  ...              103             16.62   \n",
       "2             41.38  ...              110             10.30   \n",
       "3             50.90  ...               88              5.26   \n",
       "4             28.34  ...              122             12.61   \n",
       "\n",
       "   total night minutes  total night calls  total night charge  \\\n",
       "0                244.7                 91               11.01   \n",
       "1                254.4                103               11.45   \n",
       "2                162.6                104                7.32   \n",
       "3                196.9                 89                8.86   \n",
       "4                186.9                121                8.41   \n",
       "\n",
       "   total intl minutes  total intl calls  total intl charge  \\\n",
       "0                10.0                 3               2.70   \n",
       "1                13.7                 3               3.70   \n",
       "2                12.2                 5               3.29   \n",
       "3                 6.6                 7               1.78   \n",
       "4                10.1                 3               2.73   \n",
       "\n",
       "   customer service calls  churn  \n",
       "0                       1  False  \n",
       "1                       1  False  \n",
       "2                       0  False  \n",
       "3                       2  False  \n",
       "4                       3  False  \n",
       "\n",
       "[5 rows x 21 columns]"
      ]
     },
     "execution_count": 288,
     "metadata": {},
     "output_type": "execute_result"
    }
   ],
   "source": [
    "# Importing data and viewing the first 5 rows\n",
    "\n",
    "df = pd.read_csv('data/data.csv')\n",
    "\n",
    "df.head()"
   ]
  },
  {
   "cell_type": "code",
   "execution_count": 289,
   "metadata": {
    "ExecuteTime": {
     "end_time": "2023-01-03T22:38:09.476416Z",
     "start_time": "2023-01-03T22:38:09.473057Z"
    }
   },
   "outputs": [],
   "source": [
    "# Updating column names to have an _ vs a space\n",
    "\n",
    "df.columns = [c.replace(' ', '_') for c in df.columns]"
   ]
  },
  {
   "cell_type": "code",
   "execution_count": 290,
   "metadata": {
    "ExecuteTime": {
     "end_time": "2023-01-03T22:38:09.491947Z",
     "start_time": "2023-01-03T22:38:09.479013Z"
    },
    "scrolled": false
   },
   "outputs": [
    {
     "name": "stdout",
     "output_type": "stream",
     "text": [
      "<class 'pandas.core.frame.DataFrame'>\n",
      "RangeIndex: 3333 entries, 0 to 3332\n",
      "Data columns (total 21 columns):\n",
      " #   Column                  Non-Null Count  Dtype  \n",
      "---  ------                  --------------  -----  \n",
      " 0   state                   3333 non-null   object \n",
      " 1   account_length          3333 non-null   int64  \n",
      " 2   area_code               3333 non-null   int64  \n",
      " 3   phone_number            3333 non-null   object \n",
      " 4   international_plan      3333 non-null   object \n",
      " 5   voice_mail_plan         3333 non-null   object \n",
      " 6   number_vmail_messages   3333 non-null   int64  \n",
      " 7   total_day_minutes       3333 non-null   float64\n",
      " 8   total_day_calls         3333 non-null   int64  \n",
      " 9   total_day_charge        3333 non-null   float64\n",
      " 10  total_eve_minutes       3333 non-null   float64\n",
      " 11  total_eve_calls         3333 non-null   int64  \n",
      " 12  total_eve_charge        3333 non-null   float64\n",
      " 13  total_night_minutes     3333 non-null   float64\n",
      " 14  total_night_calls       3333 non-null   int64  \n",
      " 15  total_night_charge      3333 non-null   float64\n",
      " 16  total_intl_minutes      3333 non-null   float64\n",
      " 17  total_intl_calls        3333 non-null   int64  \n",
      " 18  total_intl_charge       3333 non-null   float64\n",
      " 19  customer_service_calls  3333 non-null   int64  \n",
      " 20  churn                   3333 non-null   bool   \n",
      "dtypes: bool(1), float64(8), int64(8), object(4)\n",
      "memory usage: 524.2+ KB\n"
     ]
    }
   ],
   "source": [
    "# Taking a quick peak at our datatypes for any transformations needed.\n",
    "\n",
    "df.info()"
   ]
  },
  {
   "cell_type": "markdown",
   "metadata": {},
   "source": [
    "Looks like we have a few categorical variables in which we will need to encode.  Well look at that here in a bit.  First I want to make sure our dataset is complete. Moving on to checking to see if we need to remove or impute any data before any transformations."
   ]
  },
  {
   "cell_type": "code",
   "execution_count": 291,
   "metadata": {
    "ExecuteTime": {
     "end_time": "2023-01-03T22:38:09.502787Z",
     "start_time": "2023-01-03T22:38:09.494490Z"
    }
   },
   "outputs": [
    {
     "data": {
      "text/plain": [
       "state                     0\n",
       "account_length            0\n",
       "area_code                 0\n",
       "phone_number              0\n",
       "international_plan        0\n",
       "voice_mail_plan           0\n",
       "number_vmail_messages     0\n",
       "total_day_minutes         0\n",
       "total_day_calls           0\n",
       "total_day_charge          0\n",
       "total_eve_minutes         0\n",
       "total_eve_calls           0\n",
       "total_eve_charge          0\n",
       "total_night_minutes       0\n",
       "total_night_calls         0\n",
       "total_night_charge        0\n",
       "total_intl_minutes        0\n",
       "total_intl_calls          0\n",
       "total_intl_charge         0\n",
       "customer_service_calls    0\n",
       "churn                     0\n",
       "dtype: int64"
      ]
     },
     "execution_count": 291,
     "metadata": {},
     "output_type": "execute_result"
    }
   ],
   "source": [
    "# Checking for missing values.\n",
    "\n",
    "df.isna().sum()"
   ]
  },
  {
   "cell_type": "markdown",
   "metadata": {},
   "source": [
    "No missing values. Going to create some columns to add together all of our minutes, calls, and charges.  We might be able to reduce the number of dimensions we have if the customer is not using the plan at all.  We may drop these later, but let's add them while we are in the mood."
   ]
  },
  {
   "cell_type": "code",
   "execution_count": 292,
   "metadata": {
    "ExecuteTime": {
     "end_time": "2023-01-03T22:38:09.511186Z",
     "start_time": "2023-01-03T22:38:09.505631Z"
    }
   },
   "outputs": [],
   "source": [
    "# Adding column for total calls\n",
    "\n",
    "df['total_calls'] = (df['total_day_calls'] +\n",
    "                    df['total_eve_calls'] + \n",
    "                    df['total_night_calls'] + \n",
    "                    df['total_intl_calls']\n",
    "                    )"
   ]
  },
  {
   "cell_type": "code",
   "execution_count": 293,
   "metadata": {
    "ExecuteTime": {
     "end_time": "2023-01-03T22:38:10.019590Z",
     "start_time": "2023-01-03T22:38:09.575137Z"
    }
   },
   "outputs": [],
   "source": [
    "# Adding column for total minutes\n",
    "\n",
    "df['total_charges'] = (df['total_day_charge'] + \n",
    "                    df['total_eve_charge'] + \n",
    "                    df['total_night_charge'] + \n",
    "                    df['total_intl_charge']\n",
    "                      )"
   ]
  },
  {
   "cell_type": "code",
   "execution_count": 294,
   "metadata": {
    "ExecuteTime": {
     "end_time": "2023-01-03T22:38:10.029762Z",
     "start_time": "2023-01-03T22:38:10.022891Z"
    }
   },
   "outputs": [],
   "source": [
    "# Adding column for total charges\n",
    "\n",
    "df['total_minutes'] = (df['total_day_minutes'] + \n",
    "                    df['total_eve_minutes'] + \n",
    "                    df['total_night_minutes'] + \n",
    "                    df['total_intl_minutes']\n",
    "                      )"
   ]
  },
  {
   "cell_type": "code",
   "execution_count": 295,
   "metadata": {
    "ExecuteTime": {
     "end_time": "2023-01-03T22:38:10.037431Z",
     "start_time": "2023-01-03T22:38:10.032859Z"
    }
   },
   "outputs": [],
   "source": [
    "df['price_per_minute'] = df['total_day_charge']/df['total_minutes']"
   ]
  },
  {
   "cell_type": "code",
   "execution_count": 296,
   "metadata": {
    "ExecuteTime": {
     "end_time": "2023-01-03T22:38:10.072258Z",
     "start_time": "2023-01-03T22:38:10.040133Z"
    },
    "scrolled": true
   },
   "outputs": [
    {
     "data": {
      "text/html": [
       "<div>\n",
       "<style scoped>\n",
       "    .dataframe tbody tr th:only-of-type {\n",
       "        vertical-align: middle;\n",
       "    }\n",
       "\n",
       "    .dataframe tbody tr th {\n",
       "        vertical-align: top;\n",
       "    }\n",
       "\n",
       "    .dataframe thead th {\n",
       "        text-align: right;\n",
       "    }\n",
       "</style>\n",
       "<table border=\"1\" class=\"dataframe\">\n",
       "  <thead>\n",
       "    <tr style=\"text-align: right;\">\n",
       "      <th></th>\n",
       "      <th>state</th>\n",
       "      <th>account_length</th>\n",
       "      <th>area_code</th>\n",
       "      <th>phone_number</th>\n",
       "      <th>international_plan</th>\n",
       "      <th>voice_mail_plan</th>\n",
       "      <th>number_vmail_messages</th>\n",
       "      <th>total_day_minutes</th>\n",
       "      <th>total_day_calls</th>\n",
       "      <th>total_day_charge</th>\n",
       "      <th>...</th>\n",
       "      <th>total_night_charge</th>\n",
       "      <th>total_intl_minutes</th>\n",
       "      <th>total_intl_calls</th>\n",
       "      <th>total_intl_charge</th>\n",
       "      <th>customer_service_calls</th>\n",
       "      <th>churn</th>\n",
       "      <th>total_calls</th>\n",
       "      <th>total_charges</th>\n",
       "      <th>total_minutes</th>\n",
       "      <th>price_per_minute</th>\n",
       "    </tr>\n",
       "  </thead>\n",
       "  <tbody>\n",
       "    <tr>\n",
       "      <th>0</th>\n",
       "      <td>KS</td>\n",
       "      <td>128</td>\n",
       "      <td>415</td>\n",
       "      <td>382-4657</td>\n",
       "      <td>no</td>\n",
       "      <td>yes</td>\n",
       "      <td>25</td>\n",
       "      <td>265.1</td>\n",
       "      <td>110</td>\n",
       "      <td>45.07</td>\n",
       "      <td>...</td>\n",
       "      <td>11.01</td>\n",
       "      <td>10.0</td>\n",
       "      <td>3</td>\n",
       "      <td>2.70</td>\n",
       "      <td>1</td>\n",
       "      <td>False</td>\n",
       "      <td>303</td>\n",
       "      <td>75.56</td>\n",
       "      <td>717.2</td>\n",
       "      <td>0.062842</td>\n",
       "    </tr>\n",
       "    <tr>\n",
       "      <th>1</th>\n",
       "      <td>OH</td>\n",
       "      <td>107</td>\n",
       "      <td>415</td>\n",
       "      <td>371-7191</td>\n",
       "      <td>no</td>\n",
       "      <td>yes</td>\n",
       "      <td>26</td>\n",
       "      <td>161.6</td>\n",
       "      <td>123</td>\n",
       "      <td>27.47</td>\n",
       "      <td>...</td>\n",
       "      <td>11.45</td>\n",
       "      <td>13.7</td>\n",
       "      <td>3</td>\n",
       "      <td>3.70</td>\n",
       "      <td>1</td>\n",
       "      <td>False</td>\n",
       "      <td>332</td>\n",
       "      <td>59.24</td>\n",
       "      <td>625.2</td>\n",
       "      <td>0.043938</td>\n",
       "    </tr>\n",
       "    <tr>\n",
       "      <th>2</th>\n",
       "      <td>NJ</td>\n",
       "      <td>137</td>\n",
       "      <td>415</td>\n",
       "      <td>358-1921</td>\n",
       "      <td>no</td>\n",
       "      <td>no</td>\n",
       "      <td>0</td>\n",
       "      <td>243.4</td>\n",
       "      <td>114</td>\n",
       "      <td>41.38</td>\n",
       "      <td>...</td>\n",
       "      <td>7.32</td>\n",
       "      <td>12.2</td>\n",
       "      <td>5</td>\n",
       "      <td>3.29</td>\n",
       "      <td>0</td>\n",
       "      <td>False</td>\n",
       "      <td>333</td>\n",
       "      <td>62.29</td>\n",
       "      <td>539.4</td>\n",
       "      <td>0.076715</td>\n",
       "    </tr>\n",
       "    <tr>\n",
       "      <th>3</th>\n",
       "      <td>OH</td>\n",
       "      <td>84</td>\n",
       "      <td>408</td>\n",
       "      <td>375-9999</td>\n",
       "      <td>yes</td>\n",
       "      <td>no</td>\n",
       "      <td>0</td>\n",
       "      <td>299.4</td>\n",
       "      <td>71</td>\n",
       "      <td>50.90</td>\n",
       "      <td>...</td>\n",
       "      <td>8.86</td>\n",
       "      <td>6.6</td>\n",
       "      <td>7</td>\n",
       "      <td>1.78</td>\n",
       "      <td>2</td>\n",
       "      <td>False</td>\n",
       "      <td>255</td>\n",
       "      <td>66.80</td>\n",
       "      <td>564.8</td>\n",
       "      <td>0.090120</td>\n",
       "    </tr>\n",
       "    <tr>\n",
       "      <th>4</th>\n",
       "      <td>OK</td>\n",
       "      <td>75</td>\n",
       "      <td>415</td>\n",
       "      <td>330-6626</td>\n",
       "      <td>yes</td>\n",
       "      <td>no</td>\n",
       "      <td>0</td>\n",
       "      <td>166.7</td>\n",
       "      <td>113</td>\n",
       "      <td>28.34</td>\n",
       "      <td>...</td>\n",
       "      <td>8.41</td>\n",
       "      <td>10.1</td>\n",
       "      <td>3</td>\n",
       "      <td>2.73</td>\n",
       "      <td>3</td>\n",
       "      <td>False</td>\n",
       "      <td>359</td>\n",
       "      <td>52.09</td>\n",
       "      <td>512.0</td>\n",
       "      <td>0.055352</td>\n",
       "    </tr>\n",
       "  </tbody>\n",
       "</table>\n",
       "<p>5 rows × 25 columns</p>\n",
       "</div>"
      ],
      "text/plain": [
       "  state  account_length  area_code phone_number international_plan  \\\n",
       "0    KS             128        415     382-4657                 no   \n",
       "1    OH             107        415     371-7191                 no   \n",
       "2    NJ             137        415     358-1921                 no   \n",
       "3    OH              84        408     375-9999                yes   \n",
       "4    OK              75        415     330-6626                yes   \n",
       "\n",
       "  voice_mail_plan  number_vmail_messages  total_day_minutes  total_day_calls  \\\n",
       "0             yes                     25              265.1              110   \n",
       "1             yes                     26              161.6              123   \n",
       "2              no                      0              243.4              114   \n",
       "3              no                      0              299.4               71   \n",
       "4              no                      0              166.7              113   \n",
       "\n",
       "   total_day_charge  ...  total_night_charge  total_intl_minutes  \\\n",
       "0             45.07  ...               11.01                10.0   \n",
       "1             27.47  ...               11.45                13.7   \n",
       "2             41.38  ...                7.32                12.2   \n",
       "3             50.90  ...                8.86                 6.6   \n",
       "4             28.34  ...                8.41                10.1   \n",
       "\n",
       "   total_intl_calls  total_intl_charge  customer_service_calls  churn  \\\n",
       "0                 3               2.70                       1  False   \n",
       "1                 3               3.70                       1  False   \n",
       "2                 5               3.29                       0  False   \n",
       "3                 7               1.78                       2  False   \n",
       "4                 3               2.73                       3  False   \n",
       "\n",
       "   total_calls  total_charges  total_minutes  price_per_minute  \n",
       "0          303          75.56          717.2          0.062842  \n",
       "1          332          59.24          625.2          0.043938  \n",
       "2          333          62.29          539.4          0.076715  \n",
       "3          255          66.80          564.8          0.090120  \n",
       "4          359          52.09          512.0          0.055352  \n",
       "\n",
       "[5 rows x 25 columns]"
      ]
     },
     "execution_count": 296,
     "metadata": {},
     "output_type": "execute_result"
    }
   ],
   "source": [
    "# Quick check to make sure our columns were added correctly and math checks out\n",
    "\n",
    "df.head()"
   ]
  },
  {
   "cell_type": "markdown",
   "metadata": {},
   "source": [
    "Going to look at some summary statistics of the dataset based on where we are at."
   ]
  },
  {
   "cell_type": "code",
   "execution_count": 297,
   "metadata": {
    "ExecuteTime": {
     "end_time": "2023-01-03T22:38:10.169503Z",
     "start_time": "2023-01-03T22:38:10.074449Z"
    },
    "scrolled": true
   },
   "outputs": [
    {
     "data": {
      "text/html": [
       "<div>\n",
       "<style scoped>\n",
       "    .dataframe tbody tr th:only-of-type {\n",
       "        vertical-align: middle;\n",
       "    }\n",
       "\n",
       "    .dataframe tbody tr th {\n",
       "        vertical-align: top;\n",
       "    }\n",
       "\n",
       "    .dataframe thead th {\n",
       "        text-align: right;\n",
       "    }\n",
       "</style>\n",
       "<table border=\"1\" class=\"dataframe\">\n",
       "  <thead>\n",
       "    <tr style=\"text-align: right;\">\n",
       "      <th></th>\n",
       "      <th>account_length</th>\n",
       "      <th>area_code</th>\n",
       "      <th>number_vmail_messages</th>\n",
       "      <th>total_day_minutes</th>\n",
       "      <th>total_day_calls</th>\n",
       "      <th>total_day_charge</th>\n",
       "      <th>total_eve_minutes</th>\n",
       "      <th>total_eve_calls</th>\n",
       "      <th>total_eve_charge</th>\n",
       "      <th>total_night_minutes</th>\n",
       "      <th>total_night_calls</th>\n",
       "      <th>total_night_charge</th>\n",
       "      <th>total_intl_minutes</th>\n",
       "      <th>total_intl_calls</th>\n",
       "      <th>total_intl_charge</th>\n",
       "      <th>customer_service_calls</th>\n",
       "      <th>total_calls</th>\n",
       "      <th>total_charges</th>\n",
       "      <th>total_minutes</th>\n",
       "      <th>price_per_minute</th>\n",
       "    </tr>\n",
       "  </thead>\n",
       "  <tbody>\n",
       "    <tr>\n",
       "      <th>count</th>\n",
       "      <td>3333.000000</td>\n",
       "      <td>3333.000000</td>\n",
       "      <td>3333.000000</td>\n",
       "      <td>3333.000000</td>\n",
       "      <td>3333.000000</td>\n",
       "      <td>3333.000000</td>\n",
       "      <td>3333.000000</td>\n",
       "      <td>3333.000000</td>\n",
       "      <td>3333.000000</td>\n",
       "      <td>3333.000000</td>\n",
       "      <td>3333.000000</td>\n",
       "      <td>3333.000000</td>\n",
       "      <td>3333.000000</td>\n",
       "      <td>3333.000000</td>\n",
       "      <td>3333.000000</td>\n",
       "      <td>3333.000000</td>\n",
       "      <td>3333.000000</td>\n",
       "      <td>3333.000000</td>\n",
       "      <td>3333.000000</td>\n",
       "      <td>3333.000000</td>\n",
       "    </tr>\n",
       "    <tr>\n",
       "      <th>mean</th>\n",
       "      <td>101.064806</td>\n",
       "      <td>437.182418</td>\n",
       "      <td>8.099010</td>\n",
       "      <td>179.775098</td>\n",
       "      <td>100.435644</td>\n",
       "      <td>30.562307</td>\n",
       "      <td>200.980348</td>\n",
       "      <td>100.114311</td>\n",
       "      <td>17.083540</td>\n",
       "      <td>200.872037</td>\n",
       "      <td>100.107711</td>\n",
       "      <td>9.039325</td>\n",
       "      <td>10.237294</td>\n",
       "      <td>4.479448</td>\n",
       "      <td>2.764581</td>\n",
       "      <td>1.562856</td>\n",
       "      <td>305.137114</td>\n",
       "      <td>59.449754</td>\n",
       "      <td>591.864776</td>\n",
       "      <td>0.051355</td>\n",
       "    </tr>\n",
       "    <tr>\n",
       "      <th>std</th>\n",
       "      <td>39.822106</td>\n",
       "      <td>42.371290</td>\n",
       "      <td>13.688365</td>\n",
       "      <td>54.467389</td>\n",
       "      <td>20.069084</td>\n",
       "      <td>9.259435</td>\n",
       "      <td>50.713844</td>\n",
       "      <td>19.922625</td>\n",
       "      <td>4.310668</td>\n",
       "      <td>50.573847</td>\n",
       "      <td>19.568609</td>\n",
       "      <td>2.275873</td>\n",
       "      <td>2.791840</td>\n",
       "      <td>2.461214</td>\n",
       "      <td>0.753773</td>\n",
       "      <td>1.315491</td>\n",
       "      <td>34.448164</td>\n",
       "      <td>10.502261</td>\n",
       "      <td>89.954251</td>\n",
       "      <td>0.013085</td>\n",
       "    </tr>\n",
       "    <tr>\n",
       "      <th>min</th>\n",
       "      <td>1.000000</td>\n",
       "      <td>408.000000</td>\n",
       "      <td>0.000000</td>\n",
       "      <td>0.000000</td>\n",
       "      <td>0.000000</td>\n",
       "      <td>0.000000</td>\n",
       "      <td>0.000000</td>\n",
       "      <td>0.000000</td>\n",
       "      <td>0.000000</td>\n",
       "      <td>23.200000</td>\n",
       "      <td>33.000000</td>\n",
       "      <td>1.040000</td>\n",
       "      <td>0.000000</td>\n",
       "      <td>0.000000</td>\n",
       "      <td>0.000000</td>\n",
       "      <td>0.000000</td>\n",
       "      <td>191.000000</td>\n",
       "      <td>22.930000</td>\n",
       "      <td>284.300000</td>\n",
       "      <td>0.000000</td>\n",
       "    </tr>\n",
       "    <tr>\n",
       "      <th>25%</th>\n",
       "      <td>74.000000</td>\n",
       "      <td>408.000000</td>\n",
       "      <td>0.000000</td>\n",
       "      <td>143.700000</td>\n",
       "      <td>87.000000</td>\n",
       "      <td>24.430000</td>\n",
       "      <td>166.600000</td>\n",
       "      <td>87.000000</td>\n",
       "      <td>14.160000</td>\n",
       "      <td>167.000000</td>\n",
       "      <td>87.000000</td>\n",
       "      <td>7.520000</td>\n",
       "      <td>8.500000</td>\n",
       "      <td>3.000000</td>\n",
       "      <td>2.300000</td>\n",
       "      <td>1.000000</td>\n",
       "      <td>282.000000</td>\n",
       "      <td>52.380000</td>\n",
       "      <td>531.500000</td>\n",
       "      <td>0.042939</td>\n",
       "    </tr>\n",
       "    <tr>\n",
       "      <th>50%</th>\n",
       "      <td>101.000000</td>\n",
       "      <td>415.000000</td>\n",
       "      <td>0.000000</td>\n",
       "      <td>179.400000</td>\n",
       "      <td>101.000000</td>\n",
       "      <td>30.500000</td>\n",
       "      <td>201.400000</td>\n",
       "      <td>100.000000</td>\n",
       "      <td>17.120000</td>\n",
       "      <td>201.200000</td>\n",
       "      <td>100.000000</td>\n",
       "      <td>9.050000</td>\n",
       "      <td>10.300000</td>\n",
       "      <td>4.000000</td>\n",
       "      <td>2.780000</td>\n",
       "      <td>1.000000</td>\n",
       "      <td>305.000000</td>\n",
       "      <td>59.470000</td>\n",
       "      <td>593.600000</td>\n",
       "      <td>0.051557</td>\n",
       "    </tr>\n",
       "    <tr>\n",
       "      <th>75%</th>\n",
       "      <td>127.000000</td>\n",
       "      <td>510.000000</td>\n",
       "      <td>20.000000</td>\n",
       "      <td>216.400000</td>\n",
       "      <td>114.000000</td>\n",
       "      <td>36.790000</td>\n",
       "      <td>235.300000</td>\n",
       "      <td>114.000000</td>\n",
       "      <td>20.000000</td>\n",
       "      <td>235.300000</td>\n",
       "      <td>113.000000</td>\n",
       "      <td>10.590000</td>\n",
       "      <td>12.100000</td>\n",
       "      <td>6.000000</td>\n",
       "      <td>3.270000</td>\n",
       "      <td>2.000000</td>\n",
       "      <td>328.000000</td>\n",
       "      <td>66.480000</td>\n",
       "      <td>652.400000</td>\n",
       "      <td>0.060121</td>\n",
       "    </tr>\n",
       "    <tr>\n",
       "      <th>max</th>\n",
       "      <td>243.000000</td>\n",
       "      <td>510.000000</td>\n",
       "      <td>51.000000</td>\n",
       "      <td>350.800000</td>\n",
       "      <td>165.000000</td>\n",
       "      <td>59.640000</td>\n",
       "      <td>363.700000</td>\n",
       "      <td>170.000000</td>\n",
       "      <td>30.910000</td>\n",
       "      <td>395.000000</td>\n",
       "      <td>175.000000</td>\n",
       "      <td>17.770000</td>\n",
       "      <td>20.000000</td>\n",
       "      <td>20.000000</td>\n",
       "      <td>5.400000</td>\n",
       "      <td>9.000000</td>\n",
       "      <td>416.000000</td>\n",
       "      <td>96.150000</td>\n",
       "      <td>885.000000</td>\n",
       "      <td>0.096748</td>\n",
       "    </tr>\n",
       "  </tbody>\n",
       "</table>\n",
       "</div>"
      ],
      "text/plain": [
       "       account_length    area_code  number_vmail_messages  total_day_minutes  \\\n",
       "count     3333.000000  3333.000000            3333.000000        3333.000000   \n",
       "mean       101.064806   437.182418               8.099010         179.775098   \n",
       "std         39.822106    42.371290              13.688365          54.467389   \n",
       "min          1.000000   408.000000               0.000000           0.000000   \n",
       "25%         74.000000   408.000000               0.000000         143.700000   \n",
       "50%        101.000000   415.000000               0.000000         179.400000   \n",
       "75%        127.000000   510.000000              20.000000         216.400000   \n",
       "max        243.000000   510.000000              51.000000         350.800000   \n",
       "\n",
       "       total_day_calls  total_day_charge  total_eve_minutes  total_eve_calls  \\\n",
       "count      3333.000000       3333.000000        3333.000000      3333.000000   \n",
       "mean        100.435644         30.562307         200.980348       100.114311   \n",
       "std          20.069084          9.259435          50.713844        19.922625   \n",
       "min           0.000000          0.000000           0.000000         0.000000   \n",
       "25%          87.000000         24.430000         166.600000        87.000000   \n",
       "50%         101.000000         30.500000         201.400000       100.000000   \n",
       "75%         114.000000         36.790000         235.300000       114.000000   \n",
       "max         165.000000         59.640000         363.700000       170.000000   \n",
       "\n",
       "       total_eve_charge  total_night_minutes  total_night_calls  \\\n",
       "count       3333.000000          3333.000000        3333.000000   \n",
       "mean          17.083540           200.872037         100.107711   \n",
       "std            4.310668            50.573847          19.568609   \n",
       "min            0.000000            23.200000          33.000000   \n",
       "25%           14.160000           167.000000          87.000000   \n",
       "50%           17.120000           201.200000         100.000000   \n",
       "75%           20.000000           235.300000         113.000000   \n",
       "max           30.910000           395.000000         175.000000   \n",
       "\n",
       "       total_night_charge  total_intl_minutes  total_intl_calls  \\\n",
       "count         3333.000000         3333.000000       3333.000000   \n",
       "mean             9.039325           10.237294          4.479448   \n",
       "std              2.275873            2.791840          2.461214   \n",
       "min              1.040000            0.000000          0.000000   \n",
       "25%              7.520000            8.500000          3.000000   \n",
       "50%              9.050000           10.300000          4.000000   \n",
       "75%             10.590000           12.100000          6.000000   \n",
       "max             17.770000           20.000000         20.000000   \n",
       "\n",
       "       total_intl_charge  customer_service_calls  total_calls  total_charges  \\\n",
       "count        3333.000000             3333.000000  3333.000000    3333.000000   \n",
       "mean            2.764581                1.562856   305.137114      59.449754   \n",
       "std             0.753773                1.315491    34.448164      10.502261   \n",
       "min             0.000000                0.000000   191.000000      22.930000   \n",
       "25%             2.300000                1.000000   282.000000      52.380000   \n",
       "50%             2.780000                1.000000   305.000000      59.470000   \n",
       "75%             3.270000                2.000000   328.000000      66.480000   \n",
       "max             5.400000                9.000000   416.000000      96.150000   \n",
       "\n",
       "       total_minutes  price_per_minute  \n",
       "count    3333.000000       3333.000000  \n",
       "mean      591.864776          0.051355  \n",
       "std        89.954251          0.013085  \n",
       "min       284.300000          0.000000  \n",
       "25%       531.500000          0.042939  \n",
       "50%       593.600000          0.051557  \n",
       "75%       652.400000          0.060121  \n",
       "max       885.000000          0.096748  "
      ]
     },
     "execution_count": 297,
     "metadata": {},
     "output_type": "execute_result"
    }
   ],
   "source": [
    "df.describe()"
   ]
  },
  {
   "cell_type": "code",
   "execution_count": 298,
   "metadata": {
    "ExecuteTime": {
     "end_time": "2023-01-03T22:38:10.381106Z",
     "start_time": "2023-01-03T22:38:10.171784Z"
    },
    "scrolled": false
   },
   "outputs": [
    {
     "data": {
      "image/png": "[encoded data removed]",
      "text/plain": [
       "<Figure size 1440x864 with 1 Axes>"
      ]
     },
     "metadata": {
      "needs_background": "light"
     },
     "output_type": "display_data"
    }
   ],
   "source": [
    "fix, ax = plt.subplots(figsize=(20,12))\n",
    "\n",
    "df['international_plan'].value_counts().plot(kind='bar', color=c('blue'))\n",
    "\n",
    "ax.set_title('# of Customers with International Plan')\n",
    "ax.set_xlabel('Internation Plan Purchased?', labelpad=15, fontsize=16)\n",
    "ax.set_ylabel('# of Customers', labelpad=15, fontsize=16)\n",
    "\n",
    "plt.show()"
   ]
  },
  {
   "cell_type": "markdown",
   "metadata": {},
   "source": [
    "There are 323 accounts that purchased a international plan (roughly 10% of customers.). Going to take a look to see if churn within the international accounts is similar to those accounts that did not purchase international plans."
   ]
  },
  {
   "cell_type": "code",
   "execution_count": 299,
   "metadata": {
    "ExecuteTime": {
     "end_time": "2023-01-03T22:38:10.405509Z",
     "start_time": "2023-01-03T22:38:10.384212Z"
    },
    "scrolled": true
   },
   "outputs": [
    {
     "data": {
      "text/html": [
       "<div>\n",
       "<style scoped>\n",
       "    .dataframe tbody tr th:only-of-type {\n",
       "        vertical-align: middle;\n",
       "    }\n",
       "\n",
       "    .dataframe tbody tr th {\n",
       "        vertical-align: top;\n",
       "    }\n",
       "\n",
       "    .dataframe thead th {\n",
       "        text-align: right;\n",
       "    }\n",
       "</style>\n",
       "<table border=\"1\" class=\"dataframe\">\n",
       "  <thead>\n",
       "    <tr style=\"text-align: right;\">\n",
       "      <th>churn</th>\n",
       "      <th>False</th>\n",
       "      <th>True</th>\n",
       "    </tr>\n",
       "    <tr>\n",
       "      <th>international_plan</th>\n",
       "      <th></th>\n",
       "      <th></th>\n",
       "    </tr>\n",
       "  </thead>\n",
       "  <tbody>\n",
       "    <tr>\n",
       "      <th>no</th>\n",
       "      <td>2664</td>\n",
       "      <td>346</td>\n",
       "    </tr>\n",
       "    <tr>\n",
       "      <th>yes</th>\n",
       "      <td>186</td>\n",
       "      <td>137</td>\n",
       "    </tr>\n",
       "  </tbody>\n",
       "</table>\n",
       "</div>"
      ],
      "text/plain": [
       "churn               False  True \n",
       "international_plan              \n",
       "no                   2664    346\n",
       "yes                   186    137"
      ]
     },
     "execution_count": 299,
     "metadata": {},
     "output_type": "execute_result"
    }
   ],
   "source": [
    "# Checking our target/ dataset for balance before creating our baseline classifcation model.\n",
    "\n",
    "pd.pivot_table(df, \n",
    "               values='account_length', \n",
    "               index='international_plan', \n",
    "               columns='churn',\n",
    "               aggfunc='count'\n",
    "              )"
   ]
  },
  {
   "cell_type": "markdown",
   "metadata": {},
   "source": [
    "International plans experience a higher churn percentage than those without.  Going to remove those international plans as it is a small percentage of my overall records (roughly 10%).  We can always come back to these if necessary.  Going to also look at voice mail plans.  However, according to this, about 1/3 of the churn that was experienced were customers that had purchased the international plan.\n"
   ]
  },
  {
   "cell_type": "code",
   "execution_count": 300,
   "metadata": {
    "ExecuteTime": {
     "end_time": "2023-01-03T22:38:10.432700Z",
     "start_time": "2023-01-03T22:38:10.407778Z"
    }
   },
   "outputs": [
    {
     "data": {
      "text/html": [
       "<div>\n",
       "<style scoped>\n",
       "    .dataframe tbody tr th:only-of-type {\n",
       "        vertical-align: middle;\n",
       "    }\n",
       "\n",
       "    .dataframe tbody tr th {\n",
       "        vertical-align: top;\n",
       "    }\n",
       "\n",
       "    .dataframe thead th {\n",
       "        text-align: right;\n",
       "    }\n",
       "</style>\n",
       "<table border=\"1\" class=\"dataframe\">\n",
       "  <thead>\n",
       "    <tr style=\"text-align: right;\">\n",
       "      <th>churn</th>\n",
       "      <th>False</th>\n",
       "      <th>True</th>\n",
       "    </tr>\n",
       "    <tr>\n",
       "      <th>voice_mail_plan</th>\n",
       "      <th></th>\n",
       "      <th></th>\n",
       "    </tr>\n",
       "  </thead>\n",
       "  <tbody>\n",
       "    <tr>\n",
       "      <th>no</th>\n",
       "      <td>2008</td>\n",
       "      <td>403</td>\n",
       "    </tr>\n",
       "    <tr>\n",
       "      <th>yes</th>\n",
       "      <td>842</td>\n",
       "      <td>80</td>\n",
       "    </tr>\n",
       "  </tbody>\n",
       "</table>\n",
       "</div>"
      ],
      "text/plain": [
       "churn            False  True \n",
       "voice_mail_plan              \n",
       "no                2008    403\n",
       "yes                842     80"
      ]
     },
     "execution_count": 300,
     "metadata": {},
     "output_type": "execute_result"
    }
   ],
   "source": [
    "# Creating pivot table for voice mail plan vs churn.\n",
    "\n",
    "pd.pivot_table(df, \n",
    "               values='account_length', \n",
    "               index='voice_mail_plan', \n",
    "               columns='churn',\n",
    "               aggfunc='count'\n",
    "              )"
   ]
  },
  {
   "cell_type": "markdown",
   "metadata": {},
   "source": [
    "Looks like those plans with a voice mail plan have a lower churn percentage than those without. 10% of those with the voice mail plan vs 20% of those without a voice mail plan churn.  We will keep this in mind as we complete our analyses.  We could always remove later.\n"
   ]
  },
  {
   "cell_type": "code",
   "execution_count": 301,
   "metadata": {
    "ExecuteTime": {
     "end_time": "2023-01-03T22:38:11.707143Z",
     "start_time": "2023-01-03T22:38:10.436232Z"
    },
    "scrolled": false
   },
   "outputs": [
    {
     "data": {
      "image/png": "[encoded data removed]",
      "text/plain": [
       "<Figure size 1440x864 with 1 Axes>"
      ]
     },
     "metadata": {
      "needs_background": "light"
     },
     "output_type": "display_data"
    }
   ],
   "source": [
    "fix, ax = plt.subplots(figsize=(20,12))\n",
    "\n",
    "df['state'].value_counts().plot(kind='bar', color=c('blue'))\n",
    "\n",
    "ax.set_title('# of Customers by State')\n",
    "ax.set_xlabel('State', labelpad=15, fontsize=16)\n",
    "ax.set_ylabel('# of Customers', labelpad= 15, fontsize=16)\n",
    "\n",
    "plt.show()"
   ]
  },
  {
   "cell_type": "markdown",
   "metadata": {},
   "source": [
    "Overall the distribution of states is pretty good!  No concerns here, however we will need to encode this categorical column if we want to retain this information."
   ]
  },
  {
   "cell_type": "code",
   "execution_count": 302,
   "metadata": {
    "ExecuteTime": {
     "end_time": "2023-01-03T22:38:11.787381Z",
     "start_time": "2023-01-03T22:38:11.710291Z"
    }
   },
   "outputs": [
    {
     "data": {
      "text/html": [
       "<div>\n",
       "<style scoped>\n",
       "    .dataframe tbody tr th:only-of-type {\n",
       "        vertical-align: middle;\n",
       "    }\n",
       "\n",
       "    .dataframe tbody tr th {\n",
       "        vertical-align: top;\n",
       "    }\n",
       "\n",
       "    .dataframe thead th {\n",
       "        text-align: right;\n",
       "    }\n",
       "</style>\n",
       "<table border=\"1\" class=\"dataframe\">\n",
       "  <thead>\n",
       "    <tr style=\"text-align: right;\">\n",
       "      <th></th>\n",
       "      <th>state</th>\n",
       "      <th>account_length</th>\n",
       "      <th>area_code</th>\n",
       "      <th>phone_number</th>\n",
       "      <th>international_plan</th>\n",
       "      <th>voice_mail_plan</th>\n",
       "      <th>number_vmail_messages</th>\n",
       "      <th>total_day_minutes</th>\n",
       "      <th>total_day_calls</th>\n",
       "      <th>total_day_charge</th>\n",
       "      <th>...</th>\n",
       "      <th>total_intl_calls</th>\n",
       "      <th>total_intl_charge</th>\n",
       "      <th>customer_service_calls</th>\n",
       "      <th>churn</th>\n",
       "      <th>total_calls</th>\n",
       "      <th>total_charges</th>\n",
       "      <th>total_minutes</th>\n",
       "      <th>price_per_minute</th>\n",
       "      <th>phone_number_prefix</th>\n",
       "      <th>line_number</th>\n",
       "    </tr>\n",
       "  </thead>\n",
       "  <tbody>\n",
       "    <tr>\n",
       "      <th>0</th>\n",
       "      <td>KS</td>\n",
       "      <td>128</td>\n",
       "      <td>415</td>\n",
       "      <td>382-4657</td>\n",
       "      <td>no</td>\n",
       "      <td>yes</td>\n",
       "      <td>25</td>\n",
       "      <td>265.1</td>\n",
       "      <td>110</td>\n",
       "      <td>45.07</td>\n",
       "      <td>...</td>\n",
       "      <td>3</td>\n",
       "      <td>2.70</td>\n",
       "      <td>1</td>\n",
       "      <td>False</td>\n",
       "      <td>303</td>\n",
       "      <td>75.56</td>\n",
       "      <td>717.2</td>\n",
       "      <td>0.062842</td>\n",
       "      <td>382</td>\n",
       "      <td>4657</td>\n",
       "    </tr>\n",
       "    <tr>\n",
       "      <th>1</th>\n",
       "      <td>OH</td>\n",
       "      <td>107</td>\n",
       "      <td>415</td>\n",
       "      <td>371-7191</td>\n",
       "      <td>no</td>\n",
       "      <td>yes</td>\n",
       "      <td>26</td>\n",
       "      <td>161.6</td>\n",
       "      <td>123</td>\n",
       "      <td>27.47</td>\n",
       "      <td>...</td>\n",
       "      <td>3</td>\n",
       "      <td>3.70</td>\n",
       "      <td>1</td>\n",
       "      <td>False</td>\n",
       "      <td>332</td>\n",
       "      <td>59.24</td>\n",
       "      <td>625.2</td>\n",
       "      <td>0.043938</td>\n",
       "      <td>371</td>\n",
       "      <td>7191</td>\n",
       "    </tr>\n",
       "    <tr>\n",
       "      <th>2</th>\n",
       "      <td>NJ</td>\n",
       "      <td>137</td>\n",
       "      <td>415</td>\n",
       "      <td>358-1921</td>\n",
       "      <td>no</td>\n",
       "      <td>no</td>\n",
       "      <td>0</td>\n",
       "      <td>243.4</td>\n",
       "      <td>114</td>\n",
       "      <td>41.38</td>\n",
       "      <td>...</td>\n",
       "      <td>5</td>\n",
       "      <td>3.29</td>\n",
       "      <td>0</td>\n",
       "      <td>False</td>\n",
       "      <td>333</td>\n",
       "      <td>62.29</td>\n",
       "      <td>539.4</td>\n",
       "      <td>0.076715</td>\n",
       "      <td>358</td>\n",
       "      <td>1921</td>\n",
       "    </tr>\n",
       "    <tr>\n",
       "      <th>3</th>\n",
       "      <td>OH</td>\n",
       "      <td>84</td>\n",
       "      <td>408</td>\n",
       "      <td>375-9999</td>\n",
       "      <td>yes</td>\n",
       "      <td>no</td>\n",
       "      <td>0</td>\n",
       "      <td>299.4</td>\n",
       "      <td>71</td>\n",
       "      <td>50.90</td>\n",
       "      <td>...</td>\n",
       "      <td>7</td>\n",
       "      <td>1.78</td>\n",
       "      <td>2</td>\n",
       "      <td>False</td>\n",
       "      <td>255</td>\n",
       "      <td>66.80</td>\n",
       "      <td>564.8</td>\n",
       "      <td>0.090120</td>\n",
       "      <td>375</td>\n",
       "      <td>9999</td>\n",
       "    </tr>\n",
       "    <tr>\n",
       "      <th>4</th>\n",
       "      <td>OK</td>\n",
       "      <td>75</td>\n",
       "      <td>415</td>\n",
       "      <td>330-6626</td>\n",
       "      <td>yes</td>\n",
       "      <td>no</td>\n",
       "      <td>0</td>\n",
       "      <td>166.7</td>\n",
       "      <td>113</td>\n",
       "      <td>28.34</td>\n",
       "      <td>...</td>\n",
       "      <td>3</td>\n",
       "      <td>2.73</td>\n",
       "      <td>3</td>\n",
       "      <td>False</td>\n",
       "      <td>359</td>\n",
       "      <td>52.09</td>\n",
       "      <td>512.0</td>\n",
       "      <td>0.055352</td>\n",
       "      <td>330</td>\n",
       "      <td>6626</td>\n",
       "    </tr>\n",
       "    <tr>\n",
       "      <th>...</th>\n",
       "      <td>...</td>\n",
       "      <td>...</td>\n",
       "      <td>...</td>\n",
       "      <td>...</td>\n",
       "      <td>...</td>\n",
       "      <td>...</td>\n",
       "      <td>...</td>\n",
       "      <td>...</td>\n",
       "      <td>...</td>\n",
       "      <td>...</td>\n",
       "      <td>...</td>\n",
       "      <td>...</td>\n",
       "      <td>...</td>\n",
       "      <td>...</td>\n",
       "      <td>...</td>\n",
       "      <td>...</td>\n",
       "      <td>...</td>\n",
       "      <td>...</td>\n",
       "      <td>...</td>\n",
       "      <td>...</td>\n",
       "      <td>...</td>\n",
       "    </tr>\n",
       "    <tr>\n",
       "      <th>3328</th>\n",
       "      <td>AZ</td>\n",
       "      <td>192</td>\n",
       "      <td>415</td>\n",
       "      <td>414-4276</td>\n",
       "      <td>no</td>\n",
       "      <td>yes</td>\n",
       "      <td>36</td>\n",
       "      <td>156.2</td>\n",
       "      <td>77</td>\n",
       "      <td>26.55</td>\n",
       "      <td>...</td>\n",
       "      <td>6</td>\n",
       "      <td>2.67</td>\n",
       "      <td>2</td>\n",
       "      <td>False</td>\n",
       "      <td>292</td>\n",
       "      <td>60.10</td>\n",
       "      <td>660.7</td>\n",
       "      <td>0.040185</td>\n",
       "      <td>414</td>\n",
       "      <td>4276</td>\n",
       "    </tr>\n",
       "    <tr>\n",
       "      <th>3329</th>\n",
       "      <td>WV</td>\n",
       "      <td>68</td>\n",
       "      <td>415</td>\n",
       "      <td>370-3271</td>\n",
       "      <td>no</td>\n",
       "      <td>no</td>\n",
       "      <td>0</td>\n",
       "      <td>231.1</td>\n",
       "      <td>57</td>\n",
       "      <td>39.29</td>\n",
       "      <td>...</td>\n",
       "      <td>4</td>\n",
       "      <td>2.59</td>\n",
       "      <td>3</td>\n",
       "      <td>False</td>\n",
       "      <td>239</td>\n",
       "      <td>63.53</td>\n",
       "      <td>585.4</td>\n",
       "      <td>0.067117</td>\n",
       "      <td>370</td>\n",
       "      <td>3271</td>\n",
       "    </tr>\n",
       "    <tr>\n",
       "      <th>3330</th>\n",
       "      <td>RI</td>\n",
       "      <td>28</td>\n",
       "      <td>510</td>\n",
       "      <td>328-8230</td>\n",
       "      <td>no</td>\n",
       "      <td>no</td>\n",
       "      <td>0</td>\n",
       "      <td>180.8</td>\n",
       "      <td>109</td>\n",
       "      <td>30.74</td>\n",
       "      <td>...</td>\n",
       "      <td>6</td>\n",
       "      <td>3.81</td>\n",
       "      <td>2</td>\n",
       "      <td>False</td>\n",
       "      <td>264</td>\n",
       "      <td>67.74</td>\n",
       "      <td>675.6</td>\n",
       "      <td>0.045500</td>\n",
       "      <td>328</td>\n",
       "      <td>8230</td>\n",
       "    </tr>\n",
       "    <tr>\n",
       "      <th>3331</th>\n",
       "      <td>CT</td>\n",
       "      <td>184</td>\n",
       "      <td>510</td>\n",
       "      <td>364-6381</td>\n",
       "      <td>yes</td>\n",
       "      <td>no</td>\n",
       "      <td>0</td>\n",
       "      <td>213.8</td>\n",
       "      <td>105</td>\n",
       "      <td>36.35</td>\n",
       "      <td>...</td>\n",
       "      <td>10</td>\n",
       "      <td>1.35</td>\n",
       "      <td>2</td>\n",
       "      <td>False</td>\n",
       "      <td>336</td>\n",
       "      <td>57.53</td>\n",
       "      <td>517.6</td>\n",
       "      <td>0.070228</td>\n",
       "      <td>364</td>\n",
       "      <td>6381</td>\n",
       "    </tr>\n",
       "    <tr>\n",
       "      <th>3332</th>\n",
       "      <td>TN</td>\n",
       "      <td>74</td>\n",
       "      <td>415</td>\n",
       "      <td>400-4344</td>\n",
       "      <td>no</td>\n",
       "      <td>yes</td>\n",
       "      <td>25</td>\n",
       "      <td>234.4</td>\n",
       "      <td>113</td>\n",
       "      <td>39.85</td>\n",
       "      <td>...</td>\n",
       "      <td>4</td>\n",
       "      <td>3.70</td>\n",
       "      <td>0</td>\n",
       "      <td>False</td>\n",
       "      <td>276</td>\n",
       "      <td>77.01</td>\n",
       "      <td>755.4</td>\n",
       "      <td>0.052754</td>\n",
       "      <td>400</td>\n",
       "      <td>4344</td>\n",
       "    </tr>\n",
       "  </tbody>\n",
       "</table>\n",
       "<p>3333 rows × 27 columns</p>\n",
       "</div>"
      ],
      "text/plain": [
       "     state  account_length  area_code phone_number international_plan  \\\n",
       "0       KS             128        415     382-4657                 no   \n",
       "1       OH             107        415     371-7191                 no   \n",
       "2       NJ             137        415     358-1921                 no   \n",
       "3       OH              84        408     375-9999                yes   \n",
       "4       OK              75        415     330-6626                yes   \n",
       "...    ...             ...        ...          ...                ...   \n",
       "3328    AZ             192        415     414-4276                 no   \n",
       "3329    WV              68        415     370-3271                 no   \n",
       "3330    RI              28        510     328-8230                 no   \n",
       "3331    CT             184        510     364-6381                yes   \n",
       "3332    TN              74        415     400-4344                 no   \n",
       "\n",
       "     voice_mail_plan  number_vmail_messages  total_day_minutes  \\\n",
       "0                yes                     25              265.1   \n",
       "1                yes                     26              161.6   \n",
       "2                 no                      0              243.4   \n",
       "3                 no                      0              299.4   \n",
       "4                 no                      0              166.7   \n",
       "...              ...                    ...                ...   \n",
       "3328             yes                     36              156.2   \n",
       "3329              no                      0              231.1   \n",
       "3330              no                      0              180.8   \n",
       "3331              no                      0              213.8   \n",
       "3332             yes                     25              234.4   \n",
       "\n",
       "      total_day_calls  total_day_charge  ...  total_intl_calls  \\\n",
       "0                 110             45.07  ...                 3   \n",
       "1                 123             27.47  ...                 3   \n",
       "2                 114             41.38  ...                 5   \n",
       "3                  71             50.90  ...                 7   \n",
       "4                 113             28.34  ...                 3   \n",
       "...               ...               ...  ...               ...   \n",
       "3328               77             26.55  ...                 6   \n",
       "3329               57             39.29  ...                 4   \n",
       "3330              109             30.74  ...                 6   \n",
       "3331              105             36.35  ...                10   \n",
       "3332              113             39.85  ...                 4   \n",
       "\n",
       "      total_intl_charge  customer_service_calls  churn  total_calls  \\\n",
       "0                  2.70                       1  False          303   \n",
       "1                  3.70                       1  False          332   \n",
       "2                  3.29                       0  False          333   \n",
       "3                  1.78                       2  False          255   \n",
       "4                  2.73                       3  False          359   \n",
       "...                 ...                     ...    ...          ...   \n",
       "3328               2.67                       2  False          292   \n",
       "3329               2.59                       3  False          239   \n",
       "3330               3.81                       2  False          264   \n",
       "3331               1.35                       2  False          336   \n",
       "3332               3.70                       0  False          276   \n",
       "\n",
       "      total_charges  total_minutes  price_per_minute  phone_number_prefix  \\\n",
       "0             75.56          717.2          0.062842                  382   \n",
       "1             59.24          625.2          0.043938                  371   \n",
       "2             62.29          539.4          0.076715                  358   \n",
       "3             66.80          564.8          0.090120                  375   \n",
       "4             52.09          512.0          0.055352                  330   \n",
       "...             ...            ...               ...                  ...   \n",
       "3328          60.10          660.7          0.040185                  414   \n",
       "3329          63.53          585.4          0.067117                  370   \n",
       "3330          67.74          675.6          0.045500                  328   \n",
       "3331          57.53          517.6          0.070228                  364   \n",
       "3332          77.01          755.4          0.052754                  400   \n",
       "\n",
       "      line_number  \n",
       "0            4657  \n",
       "1            7191  \n",
       "2            1921  \n",
       "3            9999  \n",
       "4            6626  \n",
       "...           ...  \n",
       "3328         4276  \n",
       "3329         3271  \n",
       "3330         8230  \n",
       "3331         6381  \n",
       "3332         4344  \n",
       "\n",
       "[3333 rows x 27 columns]"
      ]
     },
     "execution_count": 302,
     "metadata": {},
     "output_type": "execute_result"
    }
   ],
   "source": [
    "# Since we are thinking about dropping our state column, we still have area_code, and our phone_number_prefix,\n",
    "# to give us an idea of where the users are located.  Going to split those columns out from the line_number,\n",
    "# which won't really help us.\n",
    "\n",
    "df[['phone_number_prefix','line_number']] = df.phone_number.str.split(\"-\",expand=True,).astype(int)\n",
    "df"
   ]
  },
  {
   "cell_type": "code",
   "execution_count": 437,
   "metadata": {
    "ExecuteTime": {
     "end_time": "2023-01-04T04:05:03.889960Z",
     "start_time": "2023-01-04T04:05:03.869634Z"
    }
   },
   "outputs": [
    {
     "ename": "KeyError",
     "evalue": "\"['phone_number' 'line_number'] not found in axis\"",
     "output_type": "error",
     "traceback": [
      "\u001b[0;31m---------------------------------------------------------------------------\u001b[0m",
      "\u001b[0;31mKeyError\u001b[0m                                  Traceback (most recent call last)",
      "\u001b[0;32m<ipython-input-437-98e3a76c9233>\u001b[0m in \u001b[0;36m<module>\u001b[0;34m\u001b[0m\n\u001b[1;32m      1\u001b[0m \u001b[0;31m# dropping state, and phone number\u001b[0m\u001b[0;34m\u001b[0m\u001b[0;34m\u001b[0m\u001b[0;34m\u001b[0m\u001b[0m\n\u001b[1;32m      2\u001b[0m \u001b[0;34m\u001b[0m\u001b[0m\n\u001b[0;32m----> 3\u001b[0;31m df = df.drop(['phone_number', \n\u001b[0m\u001b[1;32m      4\u001b[0m               \u001b[0;34m'line_number'\u001b[0m\u001b[0;34m,\u001b[0m\u001b[0;34m\u001b[0m\u001b[0;34m\u001b[0m\u001b[0m\n\u001b[1;32m      5\u001b[0m               \u001b[0;34m'state'\u001b[0m\u001b[0;34m\u001b[0m\u001b[0;34m\u001b[0m\u001b[0m\n",
      "\u001b[0;32m~/opt/anaconda3/envs/learn-env/lib/python3.8/site-packages/pandas/core/frame.py\u001b[0m in \u001b[0;36mdrop\u001b[0;34m(self, labels, axis, index, columns, level, inplace, errors)\u001b[0m\n\u001b[1;32m   4161\u001b[0m                 \u001b[0mweight\u001b[0m  \u001b[0;36m1.0\u001b[0m     \u001b[0;36m0.8\u001b[0m\u001b[0;34m\u001b[0m\u001b[0;34m\u001b[0m\u001b[0m\n\u001b[1;32m   4162\u001b[0m         \"\"\"\n\u001b[0;32m-> 4163\u001b[0;31m         return super().drop(\n\u001b[0m\u001b[1;32m   4164\u001b[0m             \u001b[0mlabels\u001b[0m\u001b[0;34m=\u001b[0m\u001b[0mlabels\u001b[0m\u001b[0;34m,\u001b[0m\u001b[0;34m\u001b[0m\u001b[0;34m\u001b[0m\u001b[0m\n\u001b[1;32m   4165\u001b[0m             \u001b[0maxis\u001b[0m\u001b[0;34m=\u001b[0m\u001b[0maxis\u001b[0m\u001b[0;34m,\u001b[0m\u001b[0;34m\u001b[0m\u001b[0;34m\u001b[0m\u001b[0m\n",
      "\u001b[0;32m~/opt/anaconda3/envs/learn-env/lib/python3.8/site-packages/pandas/core/generic.py\u001b[0m in \u001b[0;36mdrop\u001b[0;34m(self, labels, axis, index, columns, level, inplace, errors)\u001b[0m\n\u001b[1;32m   3885\u001b[0m         \u001b[0;32mfor\u001b[0m \u001b[0maxis\u001b[0m\u001b[0;34m,\u001b[0m \u001b[0mlabels\u001b[0m \u001b[0;32min\u001b[0m \u001b[0maxes\u001b[0m\u001b[0;34m.\u001b[0m\u001b[0mitems\u001b[0m\u001b[0;34m(\u001b[0m\u001b[0;34m)\u001b[0m\u001b[0;34m:\u001b[0m\u001b[0;34m\u001b[0m\u001b[0;34m\u001b[0m\u001b[0m\n\u001b[1;32m   3886\u001b[0m             \u001b[0;32mif\u001b[0m \u001b[0mlabels\u001b[0m \u001b[0;32mis\u001b[0m \u001b[0;32mnot\u001b[0m \u001b[0;32mNone\u001b[0m\u001b[0;34m:\u001b[0m\u001b[0;34m\u001b[0m\u001b[0;34m\u001b[0m\u001b[0m\n\u001b[0;32m-> 3887\u001b[0;31m                 \u001b[0mobj\u001b[0m \u001b[0;34m=\u001b[0m \u001b[0mobj\u001b[0m\u001b[0;34m.\u001b[0m\u001b[0m_drop_axis\u001b[0m\u001b[0;34m(\u001b[0m\u001b[0mlabels\u001b[0m\u001b[0;34m,\u001b[0m \u001b[0maxis\u001b[0m\u001b[0;34m,\u001b[0m \u001b[0mlevel\u001b[0m\u001b[0;34m=\u001b[0m\u001b[0mlevel\u001b[0m\u001b[0;34m,\u001b[0m \u001b[0merrors\u001b[0m\u001b[0;34m=\u001b[0m\u001b[0merrors\u001b[0m\u001b[0;34m)\u001b[0m\u001b[0;34m\u001b[0m\u001b[0;34m\u001b[0m\u001b[0m\n\u001b[0m\u001b[1;32m   3888\u001b[0m \u001b[0;34m\u001b[0m\u001b[0m\n\u001b[1;32m   3889\u001b[0m         \u001b[0;32mif\u001b[0m \u001b[0minplace\u001b[0m\u001b[0;34m:\u001b[0m\u001b[0;34m\u001b[0m\u001b[0;34m\u001b[0m\u001b[0m\n",
      "\u001b[0;32m~/opt/anaconda3/envs/learn-env/lib/python3.8/site-packages/pandas/core/generic.py\u001b[0m in \u001b[0;36m_drop_axis\u001b[0;34m(self, labels, axis, level, errors)\u001b[0m\n\u001b[1;32m   3919\u001b[0m                 \u001b[0mnew_axis\u001b[0m \u001b[0;34m=\u001b[0m \u001b[0maxis\u001b[0m\u001b[0;34m.\u001b[0m\u001b[0mdrop\u001b[0m\u001b[0;34m(\u001b[0m\u001b[0mlabels\u001b[0m\u001b[0;34m,\u001b[0m \u001b[0mlevel\u001b[0m\u001b[0;34m=\u001b[0m\u001b[0mlevel\u001b[0m\u001b[0;34m,\u001b[0m \u001b[0merrors\u001b[0m\u001b[0;34m=\u001b[0m\u001b[0merrors\u001b[0m\u001b[0;34m)\u001b[0m\u001b[0;34m\u001b[0m\u001b[0;34m\u001b[0m\u001b[0m\n\u001b[1;32m   3920\u001b[0m             \u001b[0;32melse\u001b[0m\u001b[0;34m:\u001b[0m\u001b[0;34m\u001b[0m\u001b[0;34m\u001b[0m\u001b[0m\n\u001b[0;32m-> 3921\u001b[0;31m                 \u001b[0mnew_axis\u001b[0m \u001b[0;34m=\u001b[0m \u001b[0maxis\u001b[0m\u001b[0;34m.\u001b[0m\u001b[0mdrop\u001b[0m\u001b[0;34m(\u001b[0m\u001b[0mlabels\u001b[0m\u001b[0;34m,\u001b[0m \u001b[0merrors\u001b[0m\u001b[0;34m=\u001b[0m\u001b[0merrors\u001b[0m\u001b[0;34m)\u001b[0m\u001b[0;34m\u001b[0m\u001b[0;34m\u001b[0m\u001b[0m\n\u001b[0m\u001b[1;32m   3922\u001b[0m             \u001b[0mresult\u001b[0m \u001b[0;34m=\u001b[0m \u001b[0mself\u001b[0m\u001b[0;34m.\u001b[0m\u001b[0mreindex\u001b[0m\u001b[0;34m(\u001b[0m\u001b[0;34m**\u001b[0m\u001b[0;34m{\u001b[0m\u001b[0maxis_name\u001b[0m\u001b[0;34m:\u001b[0m \u001b[0mnew_axis\u001b[0m\u001b[0;34m}\u001b[0m\u001b[0;34m)\u001b[0m\u001b[0;34m\u001b[0m\u001b[0;34m\u001b[0m\u001b[0m\n\u001b[1;32m   3923\u001b[0m \u001b[0;34m\u001b[0m\u001b[0m\n",
      "\u001b[0;32m~/opt/anaconda3/envs/learn-env/lib/python3.8/site-packages/pandas/core/indexes/base.py\u001b[0m in \u001b[0;36mdrop\u001b[0;34m(self, labels, errors)\u001b[0m\n\u001b[1;32m   5280\u001b[0m         \u001b[0;32mif\u001b[0m \u001b[0mmask\u001b[0m\u001b[0;34m.\u001b[0m\u001b[0many\u001b[0m\u001b[0;34m(\u001b[0m\u001b[0;34m)\u001b[0m\u001b[0;34m:\u001b[0m\u001b[0;34m\u001b[0m\u001b[0;34m\u001b[0m\u001b[0m\n\u001b[1;32m   5281\u001b[0m             \u001b[0;32mif\u001b[0m \u001b[0merrors\u001b[0m \u001b[0;34m!=\u001b[0m \u001b[0;34m\"ignore\"\u001b[0m\u001b[0;34m:\u001b[0m\u001b[0;34m\u001b[0m\u001b[0;34m\u001b[0m\u001b[0m\n\u001b[0;32m-> 5282\u001b[0;31m                 \u001b[0;32mraise\u001b[0m \u001b[0mKeyError\u001b[0m\u001b[0;34m(\u001b[0m\u001b[0;34mf\"{labels[mask]} not found in axis\"\u001b[0m\u001b[0;34m)\u001b[0m\u001b[0;34m\u001b[0m\u001b[0;34m\u001b[0m\u001b[0m\n\u001b[0m\u001b[1;32m   5283\u001b[0m             \u001b[0mindexer\u001b[0m \u001b[0;34m=\u001b[0m \u001b[0mindexer\u001b[0m\u001b[0;34m[\u001b[0m\u001b[0;34m~\u001b[0m\u001b[0mmask\u001b[0m\u001b[0;34m]\u001b[0m\u001b[0;34m\u001b[0m\u001b[0;34m\u001b[0m\u001b[0m\n\u001b[1;32m   5284\u001b[0m         \u001b[0;32mreturn\u001b[0m \u001b[0mself\u001b[0m\u001b[0;34m.\u001b[0m\u001b[0mdelete\u001b[0m\u001b[0;34m(\u001b[0m\u001b[0mindexer\u001b[0m\u001b[0;34m)\u001b[0m\u001b[0;34m\u001b[0m\u001b[0;34m\u001b[0m\u001b[0m\n",
      "\u001b[0;31mKeyError\u001b[0m: \"['phone_number' 'line_number'] not found in axis\""
     ]
    }
   ],
   "source": [
    "# dropping state, and phone number\n",
    "\n",
    "df = df.drop(['phone_number', \n",
    "              'line_number',\n",
    "              'state'\n",
    "             ], \n",
    "             axis=1\n",
    "            )"
   ]
  },
  {
   "cell_type": "code",
   "execution_count": 438,
   "metadata": {
    "ExecuteTime": {
     "end_time": "2023-01-04T04:05:13.237851Z",
     "start_time": "2023-01-04T04:05:13.204308Z"
    }
   },
   "outputs": [
    {
     "ename": "TypeError",
     "evalue": "Cannot compare types 'ndarray(dtype=int64)' and 'str'",
     "output_type": "error",
     "traceback": [
      "\u001b[0;31m---------------------------------------------------------------------------\u001b[0m",
      "\u001b[0;31mTypeError\u001b[0m                                 Traceback (most recent call last)",
      "\u001b[0;32m<ipython-input-438-1599eb53045f>\u001b[0m in \u001b[0;36m<module>\u001b[0;34m\u001b[0m\n\u001b[1;32m      1\u001b[0m \u001b[0;31m# Going back to look at our columns that need transformed from string to integer // international plan\u001b[0m\u001b[0;34m\u001b[0m\u001b[0;34m\u001b[0m\u001b[0;34m\u001b[0m\u001b[0m\n\u001b[1;32m      2\u001b[0m \u001b[0;34m\u001b[0m\u001b[0m\n\u001b[0;32m----> 3\u001b[0;31m df = df.replace({'international_plan': \n\u001b[0m\u001b[1;32m      4\u001b[0m                  {'yes': 1, \n\u001b[1;32m      5\u001b[0m                   \u001b[0;34m'no'\u001b[0m\u001b[0;34m:\u001b[0m \u001b[0;36m0\u001b[0m\u001b[0;34m\u001b[0m\u001b[0;34m\u001b[0m\u001b[0m\n",
      "\u001b[0;32m~/opt/anaconda3/envs/learn-env/lib/python3.8/site-packages/pandas/core/frame.py\u001b[0m in \u001b[0;36mreplace\u001b[0;34m(self, to_replace, value, inplace, limit, regex, method)\u001b[0m\n\u001b[1;32m   4377\u001b[0m         \u001b[0mmethod\u001b[0m\u001b[0;34m=\u001b[0m\u001b[0;34m\"pad\"\u001b[0m\u001b[0;34m,\u001b[0m\u001b[0;34m\u001b[0m\u001b[0;34m\u001b[0m\u001b[0m\n\u001b[1;32m   4378\u001b[0m     ):\n\u001b[0;32m-> 4379\u001b[0;31m         return super().replace(\n\u001b[0m\u001b[1;32m   4380\u001b[0m             \u001b[0mto_replace\u001b[0m\u001b[0;34m=\u001b[0m\u001b[0mto_replace\u001b[0m\u001b[0;34m,\u001b[0m\u001b[0;34m\u001b[0m\u001b[0;34m\u001b[0m\u001b[0m\n\u001b[1;32m   4381\u001b[0m             \u001b[0mvalue\u001b[0m\u001b[0;34m=\u001b[0m\u001b[0mvalue\u001b[0m\u001b[0;34m,\u001b[0m\u001b[0;34m\u001b[0m\u001b[0;34m\u001b[0m\u001b[0m\n",
      "\u001b[0;32m~/opt/anaconda3/envs/learn-env/lib/python3.8/site-packages/pandas/core/generic.py\u001b[0m in \u001b[0;36mreplace\u001b[0;34m(self, to_replace, value, inplace, limit, regex, method)\u001b[0m\n\u001b[1;32m   6498\u001b[0m                 \u001b[0mto_replace\u001b[0m\u001b[0;34m,\u001b[0m \u001b[0mvalue\u001b[0m \u001b[0;34m=\u001b[0m \u001b[0mkeys\u001b[0m\u001b[0;34m,\u001b[0m \u001b[0mvalues\u001b[0m\u001b[0;34m\u001b[0m\u001b[0;34m\u001b[0m\u001b[0m\n\u001b[1;32m   6499\u001b[0m \u001b[0;34m\u001b[0m\u001b[0m\n\u001b[0;32m-> 6500\u001b[0;31m             return self.replace(\n\u001b[0m\u001b[1;32m   6501\u001b[0m                 \u001b[0mto_replace\u001b[0m\u001b[0;34m,\u001b[0m \u001b[0mvalue\u001b[0m\u001b[0;34m,\u001b[0m \u001b[0minplace\u001b[0m\u001b[0;34m=\u001b[0m\u001b[0minplace\u001b[0m\u001b[0;34m,\u001b[0m \u001b[0mlimit\u001b[0m\u001b[0;34m=\u001b[0m\u001b[0mlimit\u001b[0m\u001b[0;34m,\u001b[0m \u001b[0mregex\u001b[0m\u001b[0;34m=\u001b[0m\u001b[0mregex\u001b[0m\u001b[0;34m\u001b[0m\u001b[0;34m\u001b[0m\u001b[0m\n\u001b[1;32m   6502\u001b[0m             )\n",
      "\u001b[0;32m~/opt/anaconda3/envs/learn-env/lib/python3.8/site-packages/pandas/core/frame.py\u001b[0m in \u001b[0;36mreplace\u001b[0;34m(self, to_replace, value, inplace, limit, regex, method)\u001b[0m\n\u001b[1;32m   4377\u001b[0m         \u001b[0mmethod\u001b[0m\u001b[0;34m=\u001b[0m\u001b[0;34m\"pad\"\u001b[0m\u001b[0;34m,\u001b[0m\u001b[0;34m\u001b[0m\u001b[0;34m\u001b[0m\u001b[0m\n\u001b[1;32m   4378\u001b[0m     ):\n\u001b[0;32m-> 4379\u001b[0;31m         return super().replace(\n\u001b[0m\u001b[1;32m   4380\u001b[0m             \u001b[0mto_replace\u001b[0m\u001b[0;34m=\u001b[0m\u001b[0mto_replace\u001b[0m\u001b[0;34m,\u001b[0m\u001b[0;34m\u001b[0m\u001b[0;34m\u001b[0m\u001b[0m\n\u001b[1;32m   4381\u001b[0m             \u001b[0mvalue\u001b[0m\u001b[0;34m=\u001b[0m\u001b[0mvalue\u001b[0m\u001b[0;34m,\u001b[0m\u001b[0;34m\u001b[0m\u001b[0;34m\u001b[0m\u001b[0m\n",
      "\u001b[0;32m~/opt/anaconda3/envs/learn-env/lib/python3.8/site-packages/pandas/core/generic.py\u001b[0m in \u001b[0;36mreplace\u001b[0;34m(self, to_replace, value, inplace, limit, regex, method)\u001b[0m\n\u001b[1;32m   6516\u001b[0m                         \u001b[0;32mif\u001b[0m \u001b[0mcol\u001b[0m \u001b[0;32min\u001b[0m \u001b[0mvalue\u001b[0m\u001b[0;34m.\u001b[0m\u001b[0mkeys\u001b[0m\u001b[0;34m(\u001b[0m\u001b[0;34m)\u001b[0m \u001b[0;32mand\u001b[0m \u001b[0mcol\u001b[0m \u001b[0;32min\u001b[0m \u001b[0mself\u001b[0m\u001b[0;34m\u001b[0m\u001b[0;34m\u001b[0m\u001b[0m\n\u001b[1;32m   6517\u001b[0m                     }\n\u001b[0;32m-> 6518\u001b[0;31m                     \u001b[0;32mreturn\u001b[0m \u001b[0mself\u001b[0m\u001b[0;34m.\u001b[0m\u001b[0m_replace_columnwise\u001b[0m\u001b[0;34m(\u001b[0m\u001b[0mmapping\u001b[0m\u001b[0;34m,\u001b[0m \u001b[0minplace\u001b[0m\u001b[0;34m,\u001b[0m \u001b[0mregex\u001b[0m\u001b[0;34m)\u001b[0m\u001b[0;34m\u001b[0m\u001b[0;34m\u001b[0m\u001b[0m\n\u001b[0m\u001b[1;32m   6519\u001b[0m \u001b[0;34m\u001b[0m\u001b[0m\n\u001b[1;32m   6520\u001b[0m                 \u001b[0;31m# {'A': NA} -> 0\u001b[0m\u001b[0;34m\u001b[0m\u001b[0;34m\u001b[0m\u001b[0;34m\u001b[0m\u001b[0m\n",
      "\u001b[0;32m~/opt/anaconda3/envs/learn-env/lib/python3.8/site-packages/pandas/core/frame.py\u001b[0m in \u001b[0;36m_replace_columnwise\u001b[0;34m(self, mapping, inplace, regex)\u001b[0m\n\u001b[1;32m   4413\u001b[0m \u001b[0;34m\u001b[0m\u001b[0m\n\u001b[1;32m   4414\u001b[0m                 \u001b[0mtarget\u001b[0m\u001b[0;34m,\u001b[0m \u001b[0mvalue\u001b[0m \u001b[0;34m=\u001b[0m \u001b[0mmapping\u001b[0m\u001b[0;34m[\u001b[0m\u001b[0max\u001b[0m\u001b[0;34m[\u001b[0m\u001b[0mi\u001b[0m\u001b[0;34m]\u001b[0m\u001b[0;34m]\u001b[0m\u001b[0;34m\u001b[0m\u001b[0;34m\u001b[0m\u001b[0m\n\u001b[0;32m-> 4415\u001b[0;31m                 \u001b[0mnewobj\u001b[0m \u001b[0;34m=\u001b[0m \u001b[0mser\u001b[0m\u001b[0;34m.\u001b[0m\u001b[0mreplace\u001b[0m\u001b[0;34m(\u001b[0m\u001b[0mtarget\u001b[0m\u001b[0;34m,\u001b[0m \u001b[0mvalue\u001b[0m\u001b[0;34m,\u001b[0m \u001b[0mregex\u001b[0m\u001b[0;34m=\u001b[0m\u001b[0mregex\u001b[0m\u001b[0;34m)\u001b[0m\u001b[0;34m\u001b[0m\u001b[0;34m\u001b[0m\u001b[0m\n\u001b[0m\u001b[1;32m   4416\u001b[0m \u001b[0;34m\u001b[0m\u001b[0m\n\u001b[1;32m   4417\u001b[0m                 \u001b[0mres\u001b[0m\u001b[0;34m.\u001b[0m\u001b[0miloc\u001b[0m\u001b[0;34m[\u001b[0m\u001b[0;34m:\u001b[0m\u001b[0;34m,\u001b[0m \u001b[0mi\u001b[0m\u001b[0;34m]\u001b[0m \u001b[0;34m=\u001b[0m \u001b[0mnewobj\u001b[0m\u001b[0;34m\u001b[0m\u001b[0;34m\u001b[0m\u001b[0m\n",
      "\u001b[0;32m~/opt/anaconda3/envs/learn-env/lib/python3.8/site-packages/pandas/core/series.py\u001b[0m in \u001b[0;36mreplace\u001b[0;34m(self, to_replace, value, inplace, limit, regex, method)\u001b[0m\n\u001b[1;32m   4561\u001b[0m         \u001b[0mmethod\u001b[0m\u001b[0;34m=\u001b[0m\u001b[0;34m\"pad\"\u001b[0m\u001b[0;34m,\u001b[0m\u001b[0;34m\u001b[0m\u001b[0;34m\u001b[0m\u001b[0m\n\u001b[1;32m   4562\u001b[0m     ):\n\u001b[0;32m-> 4563\u001b[0;31m         return super().replace(\n\u001b[0m\u001b[1;32m   4564\u001b[0m             \u001b[0mto_replace\u001b[0m\u001b[0;34m=\u001b[0m\u001b[0mto_replace\u001b[0m\u001b[0;34m,\u001b[0m\u001b[0;34m\u001b[0m\u001b[0;34m\u001b[0m\u001b[0m\n\u001b[1;32m   4565\u001b[0m             \u001b[0mvalue\u001b[0m\u001b[0;34m=\u001b[0m\u001b[0mvalue\u001b[0m\u001b[0;34m,\u001b[0m\u001b[0;34m\u001b[0m\u001b[0;34m\u001b[0m\u001b[0m\n",
      "\u001b[0;32m~/opt/anaconda3/envs/learn-env/lib/python3.8/site-packages/pandas/core/generic.py\u001b[0m in \u001b[0;36mreplace\u001b[0;34m(self, to_replace, value, inplace, limit, regex, method)\u001b[0m\n\u001b[1;32m   6541\u001b[0m                         )\n\u001b[1;32m   6542\u001b[0m                     \u001b[0mself\u001b[0m\u001b[0;34m.\u001b[0m\u001b[0m_consolidate_inplace\u001b[0m\u001b[0;34m(\u001b[0m\u001b[0;34m)\u001b[0m\u001b[0;34m\u001b[0m\u001b[0;34m\u001b[0m\u001b[0m\n\u001b[0;32m-> 6543\u001b[0;31m                     new_data = self._mgr.replace_list(\n\u001b[0m\u001b[1;32m   6544\u001b[0m                         \u001b[0msrc_list\u001b[0m\u001b[0;34m=\u001b[0m\u001b[0mto_replace\u001b[0m\u001b[0;34m,\u001b[0m\u001b[0;34m\u001b[0m\u001b[0;34m\u001b[0m\u001b[0m\n\u001b[1;32m   6545\u001b[0m                         \u001b[0mdest_list\u001b[0m\u001b[0;34m=\u001b[0m\u001b[0mvalue\u001b[0m\u001b[0;34m,\u001b[0m\u001b[0;34m\u001b[0m\u001b[0;34m\u001b[0m\u001b[0m\n",
      "\u001b[0;32m~/opt/anaconda3/envs/learn-env/lib/python3.8/site-packages/pandas/core/internals/managers.py\u001b[0m in \u001b[0;36mreplace_list\u001b[0;34m(self, src_list, dest_list, inplace, regex)\u001b[0m\n\u001b[1;32m    640\u001b[0m         \u001b[0mmask\u001b[0m \u001b[0;34m=\u001b[0m \u001b[0;34m~\u001b[0m\u001b[0misna\u001b[0m\u001b[0;34m(\u001b[0m\u001b[0mvalues\u001b[0m\u001b[0;34m)\u001b[0m\u001b[0;34m\u001b[0m\u001b[0;34m\u001b[0m\u001b[0m\n\u001b[1;32m    641\u001b[0m \u001b[0;34m\u001b[0m\u001b[0m\n\u001b[0;32m--> 642\u001b[0;31m         \u001b[0mmasks\u001b[0m \u001b[0;34m=\u001b[0m \u001b[0;34m[\u001b[0m\u001b[0mcomp\u001b[0m\u001b[0;34m(\u001b[0m\u001b[0ms\u001b[0m\u001b[0;34m,\u001b[0m \u001b[0mmask\u001b[0m\u001b[0;34m,\u001b[0m \u001b[0mregex\u001b[0m\u001b[0;34m)\u001b[0m \u001b[0;32mfor\u001b[0m \u001b[0ms\u001b[0m \u001b[0;32min\u001b[0m \u001b[0msrc_list\u001b[0m\u001b[0;34m]\u001b[0m\u001b[0;34m\u001b[0m\u001b[0;34m\u001b[0m\u001b[0m\n\u001b[0m\u001b[1;32m    643\u001b[0m \u001b[0;34m\u001b[0m\u001b[0m\n\u001b[1;32m    644\u001b[0m         \u001b[0mresult_blocks\u001b[0m \u001b[0;34m=\u001b[0m \u001b[0;34m[\u001b[0m\u001b[0;34m]\u001b[0m\u001b[0;34m\u001b[0m\u001b[0;34m\u001b[0m\u001b[0m\n",
      "\u001b[0;32m~/opt/anaconda3/envs/learn-env/lib/python3.8/site-packages/pandas/core/internals/managers.py\u001b[0m in \u001b[0;36m<listcomp>\u001b[0;34m(.0)\u001b[0m\n\u001b[1;32m    640\u001b[0m         \u001b[0mmask\u001b[0m \u001b[0;34m=\u001b[0m \u001b[0;34m~\u001b[0m\u001b[0misna\u001b[0m\u001b[0;34m(\u001b[0m\u001b[0mvalues\u001b[0m\u001b[0;34m)\u001b[0m\u001b[0;34m\u001b[0m\u001b[0;34m\u001b[0m\u001b[0m\n\u001b[1;32m    641\u001b[0m \u001b[0;34m\u001b[0m\u001b[0m\n\u001b[0;32m--> 642\u001b[0;31m         \u001b[0mmasks\u001b[0m \u001b[0;34m=\u001b[0m \u001b[0;34m[\u001b[0m\u001b[0mcomp\u001b[0m\u001b[0;34m(\u001b[0m\u001b[0ms\u001b[0m\u001b[0;34m,\u001b[0m \u001b[0mmask\u001b[0m\u001b[0;34m,\u001b[0m \u001b[0mregex\u001b[0m\u001b[0;34m)\u001b[0m \u001b[0;32mfor\u001b[0m \u001b[0ms\u001b[0m \u001b[0;32min\u001b[0m \u001b[0msrc_list\u001b[0m\u001b[0;34m]\u001b[0m\u001b[0;34m\u001b[0m\u001b[0;34m\u001b[0m\u001b[0m\n\u001b[0m\u001b[1;32m    643\u001b[0m \u001b[0;34m\u001b[0m\u001b[0m\n\u001b[1;32m    644\u001b[0m         \u001b[0mresult_blocks\u001b[0m \u001b[0;34m=\u001b[0m \u001b[0;34m[\u001b[0m\u001b[0;34m]\u001b[0m\u001b[0;34m\u001b[0m\u001b[0;34m\u001b[0m\u001b[0m\n",
      "\u001b[0;32m~/opt/anaconda3/envs/learn-env/lib/python3.8/site-packages/pandas/core/internals/managers.py\u001b[0m in \u001b[0;36mcomp\u001b[0;34m(s, mask, regex)\u001b[0m\n\u001b[1;32m    634\u001b[0m \u001b[0;34m\u001b[0m\u001b[0m\n\u001b[1;32m    635\u001b[0m             \u001b[0ms\u001b[0m \u001b[0;34m=\u001b[0m \u001b[0mcom\u001b[0m\u001b[0;34m.\u001b[0m\u001b[0mmaybe_box_datetimelike\u001b[0m\u001b[0;34m(\u001b[0m\u001b[0ms\u001b[0m\u001b[0;34m)\u001b[0m\u001b[0;34m\u001b[0m\u001b[0;34m\u001b[0m\u001b[0m\n\u001b[0;32m--> 636\u001b[0;31m             \u001b[0;32mreturn\u001b[0m \u001b[0m_compare_or_regex_search\u001b[0m\u001b[0;34m(\u001b[0m\u001b[0mvalues\u001b[0m\u001b[0;34m,\u001b[0m \u001b[0ms\u001b[0m\u001b[0;34m,\u001b[0m \u001b[0mregex\u001b[0m\u001b[0;34m,\u001b[0m \u001b[0mmask\u001b[0m\u001b[0;34m)\u001b[0m\u001b[0;34m\u001b[0m\u001b[0;34m\u001b[0m\u001b[0m\n\u001b[0m\u001b[1;32m    637\u001b[0m \u001b[0;34m\u001b[0m\u001b[0m\n\u001b[1;32m    638\u001b[0m         \u001b[0;31m# Calculate the mask once, prior to the call of comp\u001b[0m\u001b[0;34m\u001b[0m\u001b[0;34m\u001b[0m\u001b[0;34m\u001b[0m\u001b[0m\n",
      "\u001b[0;32m~/opt/anaconda3/envs/learn-env/lib/python3.8/site-packages/pandas/core/internals/managers.py\u001b[0m in \u001b[0;36m_compare_or_regex_search\u001b[0;34m(a, b, regex, mask)\u001b[0m\n\u001b[1;32m   1990\u001b[0m     \u001b[0;32mif\u001b[0m \u001b[0mis_datetimelike_v_numeric\u001b[0m\u001b[0;34m(\u001b[0m\u001b[0ma\u001b[0m\u001b[0;34m,\u001b[0m \u001b[0mb\u001b[0m\u001b[0;34m)\u001b[0m \u001b[0;32mor\u001b[0m \u001b[0mis_numeric_v_string_like\u001b[0m\u001b[0;34m(\u001b[0m\u001b[0ma\u001b[0m\u001b[0;34m,\u001b[0m \u001b[0mb\u001b[0m\u001b[0;34m)\u001b[0m\u001b[0;34m:\u001b[0m\u001b[0;34m\u001b[0m\u001b[0;34m\u001b[0m\u001b[0m\n\u001b[1;32m   1991\u001b[0m         \u001b[0;31m# GH#29553 avoid deprecation warnings from numpy\u001b[0m\u001b[0;34m\u001b[0m\u001b[0;34m\u001b[0m\u001b[0;34m\u001b[0m\u001b[0m\n\u001b[0;32m-> 1992\u001b[0;31m         \u001b[0m_check_comparison_types\u001b[0m\u001b[0;34m(\u001b[0m\u001b[0;32mFalse\u001b[0m\u001b[0;34m,\u001b[0m \u001b[0ma\u001b[0m\u001b[0;34m,\u001b[0m \u001b[0mb\u001b[0m\u001b[0;34m)\u001b[0m\u001b[0;34m\u001b[0m\u001b[0;34m\u001b[0m\u001b[0m\n\u001b[0m\u001b[1;32m   1993\u001b[0m         \u001b[0;32mreturn\u001b[0m \u001b[0;32mFalse\u001b[0m\u001b[0;34m\u001b[0m\u001b[0;34m\u001b[0m\u001b[0m\n\u001b[1;32m   1994\u001b[0m \u001b[0;34m\u001b[0m\u001b[0m\n",
      "\u001b[0;32m~/opt/anaconda3/envs/learn-env/lib/python3.8/site-packages/pandas/core/internals/managers.py\u001b[0m in \u001b[0;36m_check_comparison_types\u001b[0;34m(result, a, b)\u001b[0m\n\u001b[1;32m   1969\u001b[0m                 \u001b[0mtype_names\u001b[0m\u001b[0;34m[\u001b[0m\u001b[0;36m0\u001b[0m\u001b[0;34m]\u001b[0m \u001b[0;34m=\u001b[0m \u001b[0;34mf\"ndarray(dtype={a.dtype})\"\u001b[0m\u001b[0;34m\u001b[0m\u001b[0;34m\u001b[0m\u001b[0m\n\u001b[1;32m   1970\u001b[0m \u001b[0;34m\u001b[0m\u001b[0m\n\u001b[0;32m-> 1971\u001b[0;31m             raise TypeError(\n\u001b[0m\u001b[1;32m   1972\u001b[0m                 \u001b[0;34mf\"Cannot compare types {repr(type_names[0])} and {repr(type_names[1])}\"\u001b[0m\u001b[0;34m\u001b[0m\u001b[0;34m\u001b[0m\u001b[0m\n\u001b[1;32m   1973\u001b[0m             )\n",
      "\u001b[0;31mTypeError\u001b[0m: Cannot compare types 'ndarray(dtype=int64)' and 'str'"
     ]
    }
   ],
   "source": [
    "# Going back to look at our columns that need transformed from string to integer // international plan\n",
    "\n",
    "df = df.replace({'international_plan': \n",
    "                 {'yes': 1, \n",
    "                  'no': 0\n",
    "                 }\n",
    "                }\n",
    "               )"
   ]
  },
  {
   "cell_type": "code",
   "execution_count": 439,
   "metadata": {
    "ExecuteTime": {
     "end_time": "2023-01-04T04:05:13.435854Z",
     "start_time": "2023-01-04T04:05:13.406443Z"
    }
   },
   "outputs": [
    {
     "ename": "TypeError",
     "evalue": "Cannot compare types 'ndarray(dtype=int64)' and 'str'",
     "output_type": "error",
     "traceback": [
      "\u001b[0;31m---------------------------------------------------------------------------\u001b[0m",
      "\u001b[0;31mTypeError\u001b[0m                                 Traceback (most recent call last)",
      "\u001b[0;32m<ipython-input-439-87081b60918d>\u001b[0m in \u001b[0;36m<module>\u001b[0;34m\u001b[0m\n\u001b[1;32m      1\u001b[0m \u001b[0;31m# Going back to look at our columns that need transformed from string to integer // voice mail plan\u001b[0m\u001b[0;34m\u001b[0m\u001b[0;34m\u001b[0m\u001b[0;34m\u001b[0m\u001b[0m\n\u001b[1;32m      2\u001b[0m \u001b[0;34m\u001b[0m\u001b[0m\n\u001b[0;32m----> 3\u001b[0;31m df = df.replace({'voice_mail_plan': \n\u001b[0m\u001b[1;32m      4\u001b[0m                  {'yes': 1, \n\u001b[1;32m      5\u001b[0m                   \u001b[0;34m'no'\u001b[0m\u001b[0;34m:\u001b[0m \u001b[0;36m0\u001b[0m\u001b[0;34m\u001b[0m\u001b[0;34m\u001b[0m\u001b[0m\n",
      "\u001b[0;32m~/opt/anaconda3/envs/learn-env/lib/python3.8/site-packages/pandas/core/frame.py\u001b[0m in \u001b[0;36mreplace\u001b[0;34m(self, to_replace, value, inplace, limit, regex, method)\u001b[0m\n\u001b[1;32m   4377\u001b[0m         \u001b[0mmethod\u001b[0m\u001b[0;34m=\u001b[0m\u001b[0;34m\"pad\"\u001b[0m\u001b[0;34m,\u001b[0m\u001b[0;34m\u001b[0m\u001b[0;34m\u001b[0m\u001b[0m\n\u001b[1;32m   4378\u001b[0m     ):\n\u001b[0;32m-> 4379\u001b[0;31m         return super().replace(\n\u001b[0m\u001b[1;32m   4380\u001b[0m             \u001b[0mto_replace\u001b[0m\u001b[0;34m=\u001b[0m\u001b[0mto_replace\u001b[0m\u001b[0;34m,\u001b[0m\u001b[0;34m\u001b[0m\u001b[0;34m\u001b[0m\u001b[0m\n\u001b[1;32m   4381\u001b[0m             \u001b[0mvalue\u001b[0m\u001b[0;34m=\u001b[0m\u001b[0mvalue\u001b[0m\u001b[0;34m,\u001b[0m\u001b[0;34m\u001b[0m\u001b[0;34m\u001b[0m\u001b[0m\n",
      "\u001b[0;32m~/opt/anaconda3/envs/learn-env/lib/python3.8/site-packages/pandas/core/generic.py\u001b[0m in \u001b[0;36mreplace\u001b[0;34m(self, to_replace, value, inplace, limit, regex, method)\u001b[0m\n\u001b[1;32m   6498\u001b[0m                 \u001b[0mto_replace\u001b[0m\u001b[0;34m,\u001b[0m \u001b[0mvalue\u001b[0m \u001b[0;34m=\u001b[0m \u001b[0mkeys\u001b[0m\u001b[0;34m,\u001b[0m \u001b[0mvalues\u001b[0m\u001b[0;34m\u001b[0m\u001b[0;34m\u001b[0m\u001b[0m\n\u001b[1;32m   6499\u001b[0m \u001b[0;34m\u001b[0m\u001b[0m\n\u001b[0;32m-> 6500\u001b[0;31m             return self.replace(\n\u001b[0m\u001b[1;32m   6501\u001b[0m                 \u001b[0mto_replace\u001b[0m\u001b[0;34m,\u001b[0m \u001b[0mvalue\u001b[0m\u001b[0;34m,\u001b[0m \u001b[0minplace\u001b[0m\u001b[0;34m=\u001b[0m\u001b[0minplace\u001b[0m\u001b[0;34m,\u001b[0m \u001b[0mlimit\u001b[0m\u001b[0;34m=\u001b[0m\u001b[0mlimit\u001b[0m\u001b[0;34m,\u001b[0m \u001b[0mregex\u001b[0m\u001b[0;34m=\u001b[0m\u001b[0mregex\u001b[0m\u001b[0;34m\u001b[0m\u001b[0;34m\u001b[0m\u001b[0m\n\u001b[1;32m   6502\u001b[0m             )\n",
      "\u001b[0;32m~/opt/anaconda3/envs/learn-env/lib/python3.8/site-packages/pandas/core/frame.py\u001b[0m in \u001b[0;36mreplace\u001b[0;34m(self, to_replace, value, inplace, limit, regex, method)\u001b[0m\n\u001b[1;32m   4377\u001b[0m         \u001b[0mmethod\u001b[0m\u001b[0;34m=\u001b[0m\u001b[0;34m\"pad\"\u001b[0m\u001b[0;34m,\u001b[0m\u001b[0;34m\u001b[0m\u001b[0;34m\u001b[0m\u001b[0m\n\u001b[1;32m   4378\u001b[0m     ):\n\u001b[0;32m-> 4379\u001b[0;31m         return super().replace(\n\u001b[0m\u001b[1;32m   4380\u001b[0m             \u001b[0mto_replace\u001b[0m\u001b[0;34m=\u001b[0m\u001b[0mto_replace\u001b[0m\u001b[0;34m,\u001b[0m\u001b[0;34m\u001b[0m\u001b[0;34m\u001b[0m\u001b[0m\n\u001b[1;32m   4381\u001b[0m             \u001b[0mvalue\u001b[0m\u001b[0;34m=\u001b[0m\u001b[0mvalue\u001b[0m\u001b[0;34m,\u001b[0m\u001b[0;34m\u001b[0m\u001b[0;34m\u001b[0m\u001b[0m\n",
      "\u001b[0;32m~/opt/anaconda3/envs/learn-env/lib/python3.8/site-packages/pandas/core/generic.py\u001b[0m in \u001b[0;36mreplace\u001b[0;34m(self, to_replace, value, inplace, limit, regex, method)\u001b[0m\n\u001b[1;32m   6516\u001b[0m                         \u001b[0;32mif\u001b[0m \u001b[0mcol\u001b[0m \u001b[0;32min\u001b[0m \u001b[0mvalue\u001b[0m\u001b[0;34m.\u001b[0m\u001b[0mkeys\u001b[0m\u001b[0;34m(\u001b[0m\u001b[0;34m)\u001b[0m \u001b[0;32mand\u001b[0m \u001b[0mcol\u001b[0m \u001b[0;32min\u001b[0m \u001b[0mself\u001b[0m\u001b[0;34m\u001b[0m\u001b[0;34m\u001b[0m\u001b[0m\n\u001b[1;32m   6517\u001b[0m                     }\n\u001b[0;32m-> 6518\u001b[0;31m                     \u001b[0;32mreturn\u001b[0m \u001b[0mself\u001b[0m\u001b[0;34m.\u001b[0m\u001b[0m_replace_columnwise\u001b[0m\u001b[0;34m(\u001b[0m\u001b[0mmapping\u001b[0m\u001b[0;34m,\u001b[0m \u001b[0minplace\u001b[0m\u001b[0;34m,\u001b[0m \u001b[0mregex\u001b[0m\u001b[0;34m)\u001b[0m\u001b[0;34m\u001b[0m\u001b[0;34m\u001b[0m\u001b[0m\n\u001b[0m\u001b[1;32m   6519\u001b[0m \u001b[0;34m\u001b[0m\u001b[0m\n\u001b[1;32m   6520\u001b[0m                 \u001b[0;31m# {'A': NA} -> 0\u001b[0m\u001b[0;34m\u001b[0m\u001b[0;34m\u001b[0m\u001b[0;34m\u001b[0m\u001b[0m\n",
      "\u001b[0;32m~/opt/anaconda3/envs/learn-env/lib/python3.8/site-packages/pandas/core/frame.py\u001b[0m in \u001b[0;36m_replace_columnwise\u001b[0;34m(self, mapping, inplace, regex)\u001b[0m\n\u001b[1;32m   4413\u001b[0m \u001b[0;34m\u001b[0m\u001b[0m\n\u001b[1;32m   4414\u001b[0m                 \u001b[0mtarget\u001b[0m\u001b[0;34m,\u001b[0m \u001b[0mvalue\u001b[0m \u001b[0;34m=\u001b[0m \u001b[0mmapping\u001b[0m\u001b[0;34m[\u001b[0m\u001b[0max\u001b[0m\u001b[0;34m[\u001b[0m\u001b[0mi\u001b[0m\u001b[0;34m]\u001b[0m\u001b[0;34m]\u001b[0m\u001b[0;34m\u001b[0m\u001b[0;34m\u001b[0m\u001b[0m\n\u001b[0;32m-> 4415\u001b[0;31m                 \u001b[0mnewobj\u001b[0m \u001b[0;34m=\u001b[0m \u001b[0mser\u001b[0m\u001b[0;34m.\u001b[0m\u001b[0mreplace\u001b[0m\u001b[0;34m(\u001b[0m\u001b[0mtarget\u001b[0m\u001b[0;34m,\u001b[0m \u001b[0mvalue\u001b[0m\u001b[0;34m,\u001b[0m \u001b[0mregex\u001b[0m\u001b[0;34m=\u001b[0m\u001b[0mregex\u001b[0m\u001b[0;34m)\u001b[0m\u001b[0;34m\u001b[0m\u001b[0;34m\u001b[0m\u001b[0m\n\u001b[0m\u001b[1;32m   4416\u001b[0m \u001b[0;34m\u001b[0m\u001b[0m\n\u001b[1;32m   4417\u001b[0m                 \u001b[0mres\u001b[0m\u001b[0;34m.\u001b[0m\u001b[0miloc\u001b[0m\u001b[0;34m[\u001b[0m\u001b[0;34m:\u001b[0m\u001b[0;34m,\u001b[0m \u001b[0mi\u001b[0m\u001b[0;34m]\u001b[0m \u001b[0;34m=\u001b[0m \u001b[0mnewobj\u001b[0m\u001b[0;34m\u001b[0m\u001b[0;34m\u001b[0m\u001b[0m\n",
      "\u001b[0;32m~/opt/anaconda3/envs/learn-env/lib/python3.8/site-packages/pandas/core/series.py\u001b[0m in \u001b[0;36mreplace\u001b[0;34m(self, to_replace, value, inplace, limit, regex, method)\u001b[0m\n\u001b[1;32m   4561\u001b[0m         \u001b[0mmethod\u001b[0m\u001b[0;34m=\u001b[0m\u001b[0;34m\"pad\"\u001b[0m\u001b[0;34m,\u001b[0m\u001b[0;34m\u001b[0m\u001b[0;34m\u001b[0m\u001b[0m\n\u001b[1;32m   4562\u001b[0m     ):\n\u001b[0;32m-> 4563\u001b[0;31m         return super().replace(\n\u001b[0m\u001b[1;32m   4564\u001b[0m             \u001b[0mto_replace\u001b[0m\u001b[0;34m=\u001b[0m\u001b[0mto_replace\u001b[0m\u001b[0;34m,\u001b[0m\u001b[0;34m\u001b[0m\u001b[0;34m\u001b[0m\u001b[0m\n\u001b[1;32m   4565\u001b[0m             \u001b[0mvalue\u001b[0m\u001b[0;34m=\u001b[0m\u001b[0mvalue\u001b[0m\u001b[0;34m,\u001b[0m\u001b[0;34m\u001b[0m\u001b[0;34m\u001b[0m\u001b[0m\n",
      "\u001b[0;32m~/opt/anaconda3/envs/learn-env/lib/python3.8/site-packages/pandas/core/generic.py\u001b[0m in \u001b[0;36mreplace\u001b[0;34m(self, to_replace, value, inplace, limit, regex, method)\u001b[0m\n\u001b[1;32m   6541\u001b[0m                         )\n\u001b[1;32m   6542\u001b[0m                     \u001b[0mself\u001b[0m\u001b[0;34m.\u001b[0m\u001b[0m_consolidate_inplace\u001b[0m\u001b[0;34m(\u001b[0m\u001b[0;34m)\u001b[0m\u001b[0;34m\u001b[0m\u001b[0;34m\u001b[0m\u001b[0m\n\u001b[0;32m-> 6543\u001b[0;31m                     new_data = self._mgr.replace_list(\n\u001b[0m\u001b[1;32m   6544\u001b[0m                         \u001b[0msrc_list\u001b[0m\u001b[0;34m=\u001b[0m\u001b[0mto_replace\u001b[0m\u001b[0;34m,\u001b[0m\u001b[0;34m\u001b[0m\u001b[0;34m\u001b[0m\u001b[0m\n\u001b[1;32m   6545\u001b[0m                         \u001b[0mdest_list\u001b[0m\u001b[0;34m=\u001b[0m\u001b[0mvalue\u001b[0m\u001b[0;34m,\u001b[0m\u001b[0;34m\u001b[0m\u001b[0;34m\u001b[0m\u001b[0m\n",
      "\u001b[0;32m~/opt/anaconda3/envs/learn-env/lib/python3.8/site-packages/pandas/core/internals/managers.py\u001b[0m in \u001b[0;36mreplace_list\u001b[0;34m(self, src_list, dest_list, inplace, regex)\u001b[0m\n\u001b[1;32m    640\u001b[0m         \u001b[0mmask\u001b[0m \u001b[0;34m=\u001b[0m \u001b[0;34m~\u001b[0m\u001b[0misna\u001b[0m\u001b[0;34m(\u001b[0m\u001b[0mvalues\u001b[0m\u001b[0;34m)\u001b[0m\u001b[0;34m\u001b[0m\u001b[0;34m\u001b[0m\u001b[0m\n\u001b[1;32m    641\u001b[0m \u001b[0;34m\u001b[0m\u001b[0m\n\u001b[0;32m--> 642\u001b[0;31m         \u001b[0mmasks\u001b[0m \u001b[0;34m=\u001b[0m \u001b[0;34m[\u001b[0m\u001b[0mcomp\u001b[0m\u001b[0;34m(\u001b[0m\u001b[0ms\u001b[0m\u001b[0;34m,\u001b[0m \u001b[0mmask\u001b[0m\u001b[0;34m,\u001b[0m \u001b[0mregex\u001b[0m\u001b[0;34m)\u001b[0m \u001b[0;32mfor\u001b[0m \u001b[0ms\u001b[0m \u001b[0;32min\u001b[0m \u001b[0msrc_list\u001b[0m\u001b[0;34m]\u001b[0m\u001b[0;34m\u001b[0m\u001b[0;34m\u001b[0m\u001b[0m\n\u001b[0m\u001b[1;32m    643\u001b[0m \u001b[0;34m\u001b[0m\u001b[0m\n\u001b[1;32m    644\u001b[0m         \u001b[0mresult_blocks\u001b[0m \u001b[0;34m=\u001b[0m \u001b[0;34m[\u001b[0m\u001b[0;34m]\u001b[0m\u001b[0;34m\u001b[0m\u001b[0;34m\u001b[0m\u001b[0m\n",
      "\u001b[0;32m~/opt/anaconda3/envs/learn-env/lib/python3.8/site-packages/pandas/core/internals/managers.py\u001b[0m in \u001b[0;36m<listcomp>\u001b[0;34m(.0)\u001b[0m\n\u001b[1;32m    640\u001b[0m         \u001b[0mmask\u001b[0m \u001b[0;34m=\u001b[0m \u001b[0;34m~\u001b[0m\u001b[0misna\u001b[0m\u001b[0;34m(\u001b[0m\u001b[0mvalues\u001b[0m\u001b[0;34m)\u001b[0m\u001b[0;34m\u001b[0m\u001b[0;34m\u001b[0m\u001b[0m\n\u001b[1;32m    641\u001b[0m \u001b[0;34m\u001b[0m\u001b[0m\n\u001b[0;32m--> 642\u001b[0;31m         \u001b[0mmasks\u001b[0m \u001b[0;34m=\u001b[0m \u001b[0;34m[\u001b[0m\u001b[0mcomp\u001b[0m\u001b[0;34m(\u001b[0m\u001b[0ms\u001b[0m\u001b[0;34m,\u001b[0m \u001b[0mmask\u001b[0m\u001b[0;34m,\u001b[0m \u001b[0mregex\u001b[0m\u001b[0;34m)\u001b[0m \u001b[0;32mfor\u001b[0m \u001b[0ms\u001b[0m \u001b[0;32min\u001b[0m \u001b[0msrc_list\u001b[0m\u001b[0;34m]\u001b[0m\u001b[0;34m\u001b[0m\u001b[0;34m\u001b[0m\u001b[0m\n\u001b[0m\u001b[1;32m    643\u001b[0m \u001b[0;34m\u001b[0m\u001b[0m\n\u001b[1;32m    644\u001b[0m         \u001b[0mresult_blocks\u001b[0m \u001b[0;34m=\u001b[0m \u001b[0;34m[\u001b[0m\u001b[0;34m]\u001b[0m\u001b[0;34m\u001b[0m\u001b[0;34m\u001b[0m\u001b[0m\n",
      "\u001b[0;32m~/opt/anaconda3/envs/learn-env/lib/python3.8/site-packages/pandas/core/internals/managers.py\u001b[0m in \u001b[0;36mcomp\u001b[0;34m(s, mask, regex)\u001b[0m\n\u001b[1;32m    634\u001b[0m \u001b[0;34m\u001b[0m\u001b[0m\n\u001b[1;32m    635\u001b[0m             \u001b[0ms\u001b[0m \u001b[0;34m=\u001b[0m \u001b[0mcom\u001b[0m\u001b[0;34m.\u001b[0m\u001b[0mmaybe_box_datetimelike\u001b[0m\u001b[0;34m(\u001b[0m\u001b[0ms\u001b[0m\u001b[0;34m)\u001b[0m\u001b[0;34m\u001b[0m\u001b[0;34m\u001b[0m\u001b[0m\n\u001b[0;32m--> 636\u001b[0;31m             \u001b[0;32mreturn\u001b[0m \u001b[0m_compare_or_regex_search\u001b[0m\u001b[0;34m(\u001b[0m\u001b[0mvalues\u001b[0m\u001b[0;34m,\u001b[0m \u001b[0ms\u001b[0m\u001b[0;34m,\u001b[0m \u001b[0mregex\u001b[0m\u001b[0;34m,\u001b[0m \u001b[0mmask\u001b[0m\u001b[0;34m)\u001b[0m\u001b[0;34m\u001b[0m\u001b[0;34m\u001b[0m\u001b[0m\n\u001b[0m\u001b[1;32m    637\u001b[0m \u001b[0;34m\u001b[0m\u001b[0m\n\u001b[1;32m    638\u001b[0m         \u001b[0;31m# Calculate the mask once, prior to the call of comp\u001b[0m\u001b[0;34m\u001b[0m\u001b[0;34m\u001b[0m\u001b[0;34m\u001b[0m\u001b[0m\n",
      "\u001b[0;32m~/opt/anaconda3/envs/learn-env/lib/python3.8/site-packages/pandas/core/internals/managers.py\u001b[0m in \u001b[0;36m_compare_or_regex_search\u001b[0;34m(a, b, regex, mask)\u001b[0m\n\u001b[1;32m   1990\u001b[0m     \u001b[0;32mif\u001b[0m \u001b[0mis_datetimelike_v_numeric\u001b[0m\u001b[0;34m(\u001b[0m\u001b[0ma\u001b[0m\u001b[0;34m,\u001b[0m \u001b[0mb\u001b[0m\u001b[0;34m)\u001b[0m \u001b[0;32mor\u001b[0m \u001b[0mis_numeric_v_string_like\u001b[0m\u001b[0;34m(\u001b[0m\u001b[0ma\u001b[0m\u001b[0;34m,\u001b[0m \u001b[0mb\u001b[0m\u001b[0;34m)\u001b[0m\u001b[0;34m:\u001b[0m\u001b[0;34m\u001b[0m\u001b[0;34m\u001b[0m\u001b[0m\n\u001b[1;32m   1991\u001b[0m         \u001b[0;31m# GH#29553 avoid deprecation warnings from numpy\u001b[0m\u001b[0;34m\u001b[0m\u001b[0;34m\u001b[0m\u001b[0;34m\u001b[0m\u001b[0m\n\u001b[0;32m-> 1992\u001b[0;31m         \u001b[0m_check_comparison_types\u001b[0m\u001b[0;34m(\u001b[0m\u001b[0;32mFalse\u001b[0m\u001b[0;34m,\u001b[0m \u001b[0ma\u001b[0m\u001b[0;34m,\u001b[0m \u001b[0mb\u001b[0m\u001b[0;34m)\u001b[0m\u001b[0;34m\u001b[0m\u001b[0;34m\u001b[0m\u001b[0m\n\u001b[0m\u001b[1;32m   1993\u001b[0m         \u001b[0;32mreturn\u001b[0m \u001b[0;32mFalse\u001b[0m\u001b[0;34m\u001b[0m\u001b[0;34m\u001b[0m\u001b[0m\n\u001b[1;32m   1994\u001b[0m \u001b[0;34m\u001b[0m\u001b[0m\n",
      "\u001b[0;32m~/opt/anaconda3/envs/learn-env/lib/python3.8/site-packages/pandas/core/internals/managers.py\u001b[0m in \u001b[0;36m_check_comparison_types\u001b[0;34m(result, a, b)\u001b[0m\n\u001b[1;32m   1969\u001b[0m                 \u001b[0mtype_names\u001b[0m\u001b[0;34m[\u001b[0m\u001b[0;36m0\u001b[0m\u001b[0;34m]\u001b[0m \u001b[0;34m=\u001b[0m \u001b[0;34mf\"ndarray(dtype={a.dtype})\"\u001b[0m\u001b[0;34m\u001b[0m\u001b[0;34m\u001b[0m\u001b[0m\n\u001b[1;32m   1970\u001b[0m \u001b[0;34m\u001b[0m\u001b[0m\n\u001b[0;32m-> 1971\u001b[0;31m             raise TypeError(\n\u001b[0m\u001b[1;32m   1972\u001b[0m                 \u001b[0;34mf\"Cannot compare types {repr(type_names[0])} and {repr(type_names[1])}\"\u001b[0m\u001b[0;34m\u001b[0m\u001b[0;34m\u001b[0m\u001b[0m\n\u001b[1;32m   1973\u001b[0m             )\n",
      "\u001b[0;31mTypeError\u001b[0m: Cannot compare types 'ndarray(dtype=int64)' and 'str'"
     ]
    }
   ],
   "source": [
    "# Going back to look at our columns that need transformed from string to integer // voice mail plan\n",
    "\n",
    "df = df.replace({'voice_mail_plan': \n",
    "                 {'yes': 1, \n",
    "                  'no': 0\n",
    "                 }\n",
    "                }\n",
    "               )"
   ]
  },
  {
   "cell_type": "code",
   "execution_count": 440,
   "metadata": {
    "ExecuteTime": {
     "end_time": "2023-01-04T04:05:13.615102Z",
     "start_time": "2023-01-04T04:05:13.611295Z"
    }
   },
   "outputs": [],
   "source": [
    "# Going back to look at our columns that need transformed from string to integer // voice mail plan\n",
    "\n",
    "df['churn'] = df['churn'].astype(int)"
   ]
  },
  {
   "cell_type": "code",
   "execution_count": 441,
   "metadata": {
    "ExecuteTime": {
     "end_time": "2023-01-04T04:05:14.787050Z",
     "start_time": "2023-01-04T04:05:14.770779Z"
    }
   },
   "outputs": [
    {
     "name": "stdout",
     "output_type": "stream",
     "text": [
      "<class 'pandas.core.frame.DataFrame'>\n",
      "RangeIndex: 3333 entries, 0 to 3332\n",
      "Data columns (total 25 columns):\n",
      " #   Column                  Non-Null Count  Dtype  \n",
      "---  ------                  --------------  -----  \n",
      " 0   state                   3333 non-null   object \n",
      " 1   account_length          3333 non-null   int64  \n",
      " 2   area_code               3333 non-null   object \n",
      " 3   international_plan      3333 non-null   int64  \n",
      " 4   voice_mail_plan         3333 non-null   int64  \n",
      " 5   number_vmail_messages   3333 non-null   int64  \n",
      " 6   total_day_minutes       3333 non-null   float64\n",
      " 7   total_day_calls         3333 non-null   int64  \n",
      " 8   total_day_charge        3333 non-null   float64\n",
      " 9   total_eve_minutes       3333 non-null   float64\n",
      " 10  total_eve_calls         3333 non-null   int64  \n",
      " 11  total_eve_charge        3333 non-null   float64\n",
      " 12  total_night_minutes     3333 non-null   float64\n",
      " 13  total_night_calls       3333 non-null   int64  \n",
      " 14  total_night_charge      3333 non-null   float64\n",
      " 15  total_intl_minutes      3333 non-null   float64\n",
      " 16  total_intl_calls        3333 non-null   int64  \n",
      " 17  total_intl_charge       3333 non-null   float64\n",
      " 18  customer_service_calls  3333 non-null   int64  \n",
      " 19  churn                   3333 non-null   int64  \n",
      " 20  total_calls             3333 non-null   int64  \n",
      " 21  total_charges           3333 non-null   float64\n",
      " 22  total_minutes           3333 non-null   float64\n",
      " 23  price_per_minute        3333 non-null   float64\n",
      " 24  phone_number_prefix     3333 non-null   object \n",
      "dtypes: float64(11), int64(11), object(3)\n",
      "memory usage: 651.1+ KB\n"
     ]
    }
   ],
   "source": [
    "df.info()"
   ]
  },
  {
   "cell_type": "code",
   "execution_count": 442,
   "metadata": {
    "ExecuteTime": {
     "end_time": "2023-01-04T04:05:21.382662Z",
     "start_time": "2023-01-04T04:05:15.991677Z"
    },
    "scrolled": false
   },
   "outputs": [
    {
     "data": {
      "image/png": "[encoded data removed]",
      "text/plain": [
       "<Figure size 2880x2880 with 25 Axes>"
      ]
     },
     "metadata": {
      "needs_background": "light"
     },
     "output_type": "display_data"
    }
   ],
   "source": [
    "# Going to look at overall distribution and histograms to visually inspect our data\n",
    "\n",
    "df.hist(bins='auto', \n",
    "        figsize=(40,40),\n",
    "        color=c('blue')\n",
    "       );"
   ]
  },
  {
   "cell_type": "code",
   "execution_count": 443,
   "metadata": {
    "ExecuteTime": {
     "end_time": "2023-01-04T04:05:21.437405Z",
     "start_time": "2023-01-04T04:05:21.386061Z"
    },
    "scrolled": true
   },
   "outputs": [
    {
     "data": {
      "text/html": [
       "<div>\n",
       "<style scoped>\n",
       "    .dataframe tbody tr th:only-of-type {\n",
       "        vertical-align: middle;\n",
       "    }\n",
       "\n",
       "    .dataframe tbody tr th {\n",
       "        vertical-align: top;\n",
       "    }\n",
       "\n",
       "    .dataframe thead th {\n",
       "        text-align: right;\n",
       "    }\n",
       "</style>\n",
       "<table border=\"1\" class=\"dataframe\">\n",
       "  <thead>\n",
       "    <tr style=\"text-align: right;\">\n",
       "      <th>phone_number_prefix</th>\n",
       "      <th>0       382\\n1       371\\n2       358\\n3       375\\n4       330\\n       ... \\n3328    414\\n3329    370\\n3330    328\\n3331    364\\n3332    400\\nName: phone_number_prefix, Length: 3333, dtype: int64</th>\n",
       "    </tr>\n",
       "    <tr>\n",
       "      <th>area_code</th>\n",
       "      <th></th>\n",
       "    </tr>\n",
       "  </thead>\n",
       "  <tbody>\n",
       "    <tr>\n",
       "      <th>0       415\\n1       415\\n2       415\\n3       408\\n4       415\\n       ... \\n3328    415\\n3329    415\\n3330    510\\n3331    510\\n3332    415\\nName: area_code, Length: 3333, dtype: int64</th>\n",
       "      <td>3333</td>\n",
       "    </tr>\n",
       "  </tbody>\n",
       "</table>\n",
       "</div>"
      ],
      "text/plain": [
       "phone_number_prefix                                 0       382\\n1       371\\n2       358\\n3       375\\n4       330\\n       ... \\n3328    414\\n3329    370\\n3330    328\\n3331    364\\n3332    400\\nName: phone_number_prefix, Length: 3333, dtype: int64\n",
       "area_code                                                                                                                                                                                                                                               \n",
       "0       415\\n1       415\\n2       415\\n3       ...                                               3333                                                                                                                                                   "
      ]
     },
     "execution_count": 443,
     "metadata": {},
     "output_type": "execute_result"
    }
   ],
   "source": [
    "# Before summarizing the table above, I am going to take a peek at the area code column vs the prefix columns.\n",
    "\n",
    "df['area_code'].value_counts()\n",
    "\n",
    "\n",
    "pd.pivot_table(df, \n",
    "               values='account_length', \n",
    "               index='area_code', \n",
    "               columns='phone_number_prefix',\n",
    "               aggfunc='count'\n",
    "              )"
   ]
  },
  {
   "cell_type": "markdown",
   "metadata": {},
   "source": [
    "The histograms above show a pretty good distribution of values across the board.  We only have 3 area codes for the all the prefixes that we see.  We may want to encode this category since it is categorical feature.  I will also encode the phone number prefix, and the state columns before running any models.  Going to continue to review."
   ]
  },
  {
   "cell_type": "code",
   "execution_count": 444,
   "metadata": {
    "ExecuteTime": {
     "end_time": "2023-01-04T04:05:21.468074Z",
     "start_time": "2023-01-04T04:05:21.440834Z"
    }
   },
   "outputs": [
    {
     "name": "stdout",
     "output_type": "stream",
     "text": [
      "<class 'pandas.core.frame.DataFrame'>\n",
      "RangeIndex: 3333 entries, 0 to 3332\n",
      "Data columns (total 25 columns):\n",
      " #   Column                  Non-Null Count  Dtype  \n",
      "---  ------                  --------------  -----  \n",
      " 0   state                   3333 non-null   object \n",
      " 1   account_length          3333 non-null   int64  \n",
      " 2   area_code               3333 non-null   object \n",
      " 3   international_plan      3333 non-null   int64  \n",
      " 4   voice_mail_plan         3333 non-null   int64  \n",
      " 5   number_vmail_messages   3333 non-null   int64  \n",
      " 6   total_day_minutes       3333 non-null   float64\n",
      " 7   total_day_calls         3333 non-null   int64  \n",
      " 8   total_day_charge        3333 non-null   float64\n",
      " 9   total_eve_minutes       3333 non-null   float64\n",
      " 10  total_eve_calls         3333 non-null   int64  \n",
      " 11  total_eve_charge        3333 non-null   float64\n",
      " 12  total_night_minutes     3333 non-null   float64\n",
      " 13  total_night_calls       3333 non-null   int64  \n",
      " 14  total_night_charge      3333 non-null   float64\n",
      " 15  total_intl_minutes      3333 non-null   float64\n",
      " 16  total_intl_calls        3333 non-null   int64  \n",
      " 17  total_intl_charge       3333 non-null   float64\n",
      " 18  customer_service_calls  3333 non-null   int64  \n",
      " 19  churn                   3333 non-null   int64  \n",
      " 20  total_calls             3333 non-null   int64  \n",
      " 21  total_charges           3333 non-null   float64\n",
      " 22  total_minutes           3333 non-null   float64\n",
      " 23  price_per_minute        3333 non-null   float64\n",
      " 24  phone_number_prefix     3333 non-null   object \n",
      "dtypes: float64(11), int64(11), object(3)\n",
      "memory usage: 651.1+ KB\n"
     ]
    }
   ],
   "source": [
    "# Updating international and voicemail indicators to boolean, and area code and phone_num prefix to strings\n",
    "\n",
    "df['area_code'] = str(df['area_code'])\n",
    "df['phone_number_prefix'] = str(df['phone_number_prefix'])\n",
    "\n",
    "\n",
    "df.info()"
   ]
  },
  {
   "cell_type": "code",
   "execution_count": 445,
   "metadata": {
    "ExecuteTime": {
     "end_time": "2023-01-04T04:05:24.748648Z",
     "start_time": "2023-01-04T04:05:21.472077Z"
    },
    "scrolled": false
   },
   "outputs": [
    {
     "data": {
      "image/png": "[encoded data removed]",
      "text/plain": [
       "<Figure size 1728x1080 with 2 Axes>"
      ]
     },
     "metadata": {
      "needs_background": "light"
     },
     "output_type": "display_data"
    }
   ],
   "source": [
    "# Creating a heatmap to look at colinearity and potential categories that will lead to churn prediction.\n",
    "\n",
    "corr = df.corr().abs()\n",
    "\n",
    "fix, ax = plt.subplots(figsize = (24,15))\n",
    "matrix = np.triu(corr)\n",
    "ax.set_title('Feature Correlation Matrix', pad=15, fontsize=15)\n",
    "heatmap = sns.heatmap(corr, annot=True, cmap=pal, fmt='.2f', mask=matrix, linewidths=1)\n",
    "plt.show()"
   ]
  },
  {
   "cell_type": "markdown",
   "metadata": {},
   "source": [
    "Charges and total minutes are perfectly correlated, which makes sense.  I wonder if the price per minute is the same for all customers, or if it is different.  Also the number of voicemail messages, and the voice mail plan category are also highly correlated.  Meaning if they purchased the plan, it is highly likely that they used it.  Day minutes were highly correlated with the total minutes vs evening minutes.  It looks like churn had the highest correlation with the international plan (which we identified as a possibility earlier).  Total day minutes, total day charges, and customer service calls.  Customer service calls could be related to the actual service that the customer experienced, or could be the fact that the customer had to call in to cancel their plan, thus driving that columns correlation higher."
   ]
  },
  {
   "cell_type": "code",
   "execution_count": 446,
   "metadata": {
    "ExecuteTime": {
     "end_time": "2023-01-04T04:05:24.760415Z",
     "start_time": "2023-01-04T04:05:24.750816Z"
    }
   },
   "outputs": [
    {
     "name": "stdout",
     "output_type": "stream",
     "text": [
      "Raw Counts\n",
      "0    2850\n",
      "1     483\n",
      "Name: churn, dtype: int64\n",
      "\n",
      "Percentages\n",
      "0    0.855086\n",
      "1    0.144914\n",
      "Name: churn, dtype: float64\n"
     ]
    }
   ],
   "source": [
    "# Checking our target/ dataset for balance before creating our baseline classifcation model.\n",
    "\n",
    "print('Raw Counts')\n",
    "print(df['churn'].value_counts())\n",
    "print()\n",
    "print('Percentages')\n",
    "print(df['churn'].value_counts(normalize=True))"
   ]
  },
  {
   "cell_type": "markdown",
   "metadata": {},
   "source": [
    "A baseline model that always chose the majority class would have an accuracy of over 88%. Therefore we will want to report additional metrics at the end."
   ]
  },
  {
   "cell_type": "markdown",
   "metadata": {},
   "source": [
    "# Baseline Logistic Regression Model"
   ]
  },
  {
   "cell_type": "code",
   "execution_count": 447,
   "metadata": {
    "ExecuteTime": {
     "end_time": "2023-01-04T04:05:24.805626Z",
     "start_time": "2023-01-04T04:05:24.768003Z"
    }
   },
   "outputs": [
    {
     "name": "stdout",
     "output_type": "stream",
     "text": [
      "<class 'pandas.core.frame.DataFrame'>\n",
      "RangeIndex: 3333 entries, 0 to 3332\n",
      "Data columns (total 25 columns):\n",
      " #   Column                  Non-Null Count  Dtype  \n",
      "---  ------                  --------------  -----  \n",
      " 0   state                   3333 non-null   object \n",
      " 1   account_length          3333 non-null   int64  \n",
      " 2   area_code               3333 non-null   object \n",
      " 3   international_plan      3333 non-null   int64  \n",
      " 4   voice_mail_plan         3333 non-null   int64  \n",
      " 5   number_vmail_messages   3333 non-null   int64  \n",
      " 6   total_day_minutes       3333 non-null   float64\n",
      " 7   total_day_calls         3333 non-null   int64  \n",
      " 8   total_day_charge        3333 non-null   float64\n",
      " 9   total_eve_minutes       3333 non-null   float64\n",
      " 10  total_eve_calls         3333 non-null   int64  \n",
      " 11  total_eve_charge        3333 non-null   float64\n",
      " 12  total_night_minutes     3333 non-null   float64\n",
      " 13  total_night_calls       3333 non-null   int64  \n",
      " 14  total_night_charge      3333 non-null   float64\n",
      " 15  total_intl_minutes      3333 non-null   float64\n",
      " 16  total_intl_calls        3333 non-null   int64  \n",
      " 17  total_intl_charge       3333 non-null   float64\n",
      " 18  customer_service_calls  3333 non-null   int64  \n",
      " 19  churn                   3333 non-null   int64  \n",
      " 20  total_calls             3333 non-null   int64  \n",
      " 21  total_charges           3333 non-null   float64\n",
      " 22  total_minutes           3333 non-null   float64\n",
      " 23  price_per_minute        3333 non-null   float64\n",
      " 24  phone_number_prefix     3333 non-null   object \n",
      "dtypes: float64(11), int64(11), object(3)\n",
      "memory usage: 651.1+ KB\n"
     ]
    }
   ],
   "source": [
    "# Quick look at our dataframe\n",
    "\n",
    "df.info()"
   ]
  },
  {
   "cell_type": "code",
   "execution_count": 448,
   "metadata": {
    "ExecuteTime": {
     "end_time": "2023-01-04T04:05:24.823449Z",
     "start_time": "2023-01-04T04:05:24.810086Z"
    }
   },
   "outputs": [],
   "source": [
    "# situate target and non-target features\n",
    "X = df.drop('churn', axis=1)\n",
    "y = df['churn']\n",
    "\n",
    "# create splits\n",
    "X_train, X_test, y_train, y_test = train_test_split(X, y, random_state=42)"
   ]
  },
  {
   "cell_type": "code",
   "execution_count": 449,
   "metadata": {
    "ExecuteTime": {
     "end_time": "2023-01-04T04:05:24.864785Z",
     "start_time": "2023-01-04T04:05:24.827974Z"
    }
   },
   "outputs": [
    {
     "data": {
      "text/plain": [
       "0.8567430861723446"
      ]
     },
     "execution_count": 449,
     "metadata": {},
     "output_type": "execute_result"
    }
   ],
   "source": [
    "# Also looking at a dummy model with 5 cross validation folds.  Mean accuracy is about\n",
    "# 86%.  This aligns with our assumption above with the imbalance of our churned \n",
    "# customer count.\n",
    "\n",
    "dummy_model = DummyClassifier(strategy='most_frequent')\n",
    "\n",
    "cv_results = cross_val_score(dummy_model, \n",
    "                             X_train, \n",
    "                             y_train, \n",
    "                             cv=5)\n",
    "\n",
    "dummy_model.fit(X_train, y_train)\n",
    "\n",
    "np.mean(cv_results)"
   ]
  },
  {
   "cell_type": "code",
   "execution_count": 450,
   "metadata": {
    "ExecuteTime": {
     "end_time": "2023-01-04T04:05:25.777754Z",
     "start_time": "2023-01-04T04:05:25.564148Z"
    }
   },
   "outputs": [
    {
     "data": {
      "image/png": "[encoded data removed]",
      "text/plain": [
       "<Figure size 432x288 with 2 Axes>"
      ]
     },
     "metadata": {
      "needs_background": "light"
     },
     "output_type": "display_data"
    }
   ],
   "source": [
    "# Visualize dummy model confusion matrix\n",
    "\n",
    "fig, ax = plt.subplots()\n",
    "\n",
    "fig.suptitle(\"Dummy Model\")\n",
    "\n",
    "plot_confusion_matrix(dummy_model, \n",
    "                      X_train, \n",
    "                      y_train, \n",
    "                      ax=ax,\n",
    "                      cmap='Blues'\n",
    "                     );"
   ]
  },
  {
   "cell_type": "code",
   "execution_count": 451,
   "metadata": {
    "ExecuteTime": {
     "end_time": "2023-01-04T04:05:26.488596Z",
     "start_time": "2023-01-04T04:05:26.234394Z"
    },
    "scrolled": true
   },
   "outputs": [
    {
     "data": {
      "image/png": "[encoded data removed]",
      "text/plain": [
       "<Figure size 432x288 with 1 Axes>"
      ]
     },
     "metadata": {
      "needs_background": "light"
     },
     "output_type": "display_data"
    }
   ],
   "source": [
    "# Hallmark curve for dummy model\n",
    "\n",
    "plot_roc_curve(dummy_model, X_train, y_train);"
   ]
  },
  {
   "cell_type": "code",
   "execution_count": 452,
   "metadata": {
    "ExecuteTime": {
     "end_time": "2023-01-04T04:05:27.053028Z",
     "start_time": "2023-01-04T04:05:27.046384Z"
    },
    "scrolled": true
   },
   "outputs": [
    {
     "name": "stdout",
     "output_type": "stream",
     "text": [
      "Train percent churn: 0.14325730292116848\n",
      "Test percent churn:  0.1498800959232614\n"
     ]
    }
   ],
   "source": [
    "# Looking for similar values for target distribution roughly 85/15.\n",
    "\n",
    "print(\"Train percent churn:\", y_train.value_counts(normalize=True)[1])\n",
    "print(\"Test percent churn: \", y_test.value_counts(normalize=True)[1])"
   ]
  },
  {
   "cell_type": "markdown",
   "metadata": {},
   "source": [
    "## Pipeline & Logistic Regression Model"
   ]
  },
  {
   "cell_type": "code",
   "execution_count": 454,
   "metadata": {
    "ExecuteTime": {
     "end_time": "2023-01-04T04:05:33.306554Z",
     "start_time": "2023-01-04T04:05:33.302556Z"
    }
   },
   "outputs": [],
   "source": [
    "# Labeling columns for different preprocessing steps\n",
    "\n",
    "categorical_columns = ['area_code', 'phone_number_prefix']\n",
    "\n",
    "numerical_columns = ['account_length', 'number_vmail_messages', 'total_day_minutes', 'total_day_calls',\n",
    "            'total_day_charge', 'total_eve_minutes', 'total_eve_calls', 'total_eve_charge',\n",
    "            'total_night_minutes', 'total_night_calls', 'total_night_charge', 'total_intl_minutes',\n",
    "            'total_intl_calls', 'total_intl_charge', 'customer_service_calls', 'total_calls', 'total_charges',\n",
    "            'total_minutes', 'price_per_minute'\n",
    "           ]\n",
    "\n",
    "binary_columns = ['international_plan', 'voice_mail_plan']"
   ]
  },
  {
   "cell_type": "code",
   "execution_count": 455,
   "metadata": {
    "ExecuteTime": {
     "end_time": "2023-01-04T04:05:34.113686Z",
     "start_time": "2023-01-04T04:05:34.108368Z"
    }
   },
   "outputs": [
    {
     "data": {
      "text/plain": [
       "False"
      ]
     },
     "execution_count": 455,
     "metadata": {},
     "output_type": "execute_result"
    }
   ],
   "source": [
    "# Check to make sure we have all our columns accounted for\n",
    "\n",
    "(len(categorical_columns)+len(numerical_columns)+len(binary_columns)) == (df.shape[1]-1)"
   ]
  },
  {
   "cell_type": "code",
   "execution_count": 456,
   "metadata": {
    "ExecuteTime": {
     "end_time": "2023-01-04T04:05:34.760100Z",
     "start_time": "2023-01-04T04:05:34.754571Z"
    }
   },
   "outputs": [],
   "source": [
    "# Create subsets of the dataset representing binary, numerical and categorical data \n",
    "# to be able to preprocess them differently for modeling. \\\n",
    "X_train_binary = X_train[binary_columns]\n",
    "X_train_nums = X_train[numerical_columns]\n",
    "X_train_cats = X_train[categorical_columns]"
   ]
  },
  {
   "cell_type": "code",
   "execution_count": 457,
   "metadata": {
    "ExecuteTime": {
     "end_time": "2023-01-04T04:05:35.812587Z",
     "start_time": "2023-01-04T04:05:35.806924Z"
    }
   },
   "outputs": [],
   "source": [
    "binary_preprocessing = Pipeline(steps=[\n",
    "    ('simple_imputer', SimpleImputer(strategy='most_frequent'))\n",
    "])\n",
    "\n",
    "numerical_preprocessing = Pipeline(steps=[\n",
    "    ('simple_imputer', SimpleImputer(strategy='median')),\n",
    "    ('scaler', StandardScaler())\n",
    "])\n",
    "\n",
    "categorical_preprocessing = Pipeline(steps=[\n",
    "    ('simple_imputer', SimpleImputer(strategy='constant', fill_value='missing')),\n",
    "    ('ohe', OneHotEncoder(drop='first', sparse=False))\n",
    "])\n",
    "\n",
    "#grab columns out of a pandas data frame and then apply a specified transformer.\n",
    "preprocessor = ColumnTransformer(transformers=[\n",
    "    ('binary_preprocess', binary_preprocessing, X_train_binary.columns),\n",
    "    ('num_preprocess', numerical_preprocessing, X_train_nums.columns),\n",
    "    ('cat_preprocess', categorical_preprocessing, X_train_cats.columns)]\n",
    ")"
   ]
  },
  {
   "cell_type": "code",
   "execution_count": 458,
   "metadata": {
    "ExecuteTime": {
     "end_time": "2023-01-04T04:05:36.741316Z",
     "start_time": "2023-01-04T04:05:36.685898Z"
    },
    "code_folding": [],
    "scrolled": false
   },
   "outputs": [],
   "source": [
    "# Baseline Logistic Regression model \n",
    "baseline_logreg = Pipeline([\n",
    "    (\"preprocessor\", preprocessor),\n",
    "    (\"estimator\", LogisticRegression(random_state=42))\n",
    "])\n",
    "    \n",
    "# Train model\n",
    "baseline_logreg.fit(X_train, y_train);"
   ]
  },
  {
   "cell_type": "code",
   "execution_count": 459,
   "metadata": {
    "ExecuteTime": {
     "end_time": "2023-01-04T04:05:37.596120Z",
     "start_time": "2023-01-04T04:05:37.533720Z"
    }
   },
   "outputs": [
    {
     "data": {
      "text/html": [
       "<div>\n",
       "<style scoped>\n",
       "    .dataframe tbody tr th:only-of-type {\n",
       "        vertical-align: middle;\n",
       "    }\n",
       "\n",
       "    .dataframe tbody tr th {\n",
       "        vertical-align: top;\n",
       "    }\n",
       "\n",
       "    .dataframe thead th {\n",
       "        text-align: right;\n",
       "    }\n",
       "</style>\n",
       "<table border=\"1\" class=\"dataframe\">\n",
       "  <thead>\n",
       "    <tr style=\"text-align: right;\">\n",
       "      <th></th>\n",
       "      <th>international_plan</th>\n",
       "      <th>voice_mail_plan</th>\n",
       "      <th>account_length</th>\n",
       "      <th>number_vmail_messages</th>\n",
       "      <th>total_day_minutes</th>\n",
       "      <th>total_day_calls</th>\n",
       "      <th>total_day_charge</th>\n",
       "      <th>total_eve_minutes</th>\n",
       "      <th>total_eve_calls</th>\n",
       "      <th>total_eve_charge</th>\n",
       "      <th>...</th>\n",
       "      <th>total_night_calls</th>\n",
       "      <th>total_night_charge</th>\n",
       "      <th>total_intl_minutes</th>\n",
       "      <th>total_intl_calls</th>\n",
       "      <th>total_intl_charge</th>\n",
       "      <th>customer_service_calls</th>\n",
       "      <th>total_calls</th>\n",
       "      <th>total_charges</th>\n",
       "      <th>total_minutes</th>\n",
       "      <th>price_per_minute</th>\n",
       "    </tr>\n",
       "  </thead>\n",
       "  <tbody>\n",
       "    <tr>\n",
       "      <th>0</th>\n",
       "      <td>0.0</td>\n",
       "      <td>0.0</td>\n",
       "      <td>-1.404508</td>\n",
       "      <td>-0.584700</td>\n",
       "      <td>-1.883677</td>\n",
       "      <td>1.330852</td>\n",
       "      <td>-1.884170</td>\n",
       "      <td>1.037727</td>\n",
       "      <td>0.401340</td>\n",
       "      <td>1.037905</td>\n",
       "      <td>...</td>\n",
       "      <td>0.004940</td>\n",
       "      <td>1.071757</td>\n",
       "      <td>2.768109</td>\n",
       "      <td>-0.595235</td>\n",
       "      <td>2.767357</td>\n",
       "      <td>-0.427903</td>\n",
       "      <td>0.969919</td>\n",
       "      <td>-0.798317</td>\n",
       "      <td>0.143574</td>\n",
       "      <td>-2.273379</td>\n",
       "    </tr>\n",
       "    <tr>\n",
       "      <th>1</th>\n",
       "      <td>0.0</td>\n",
       "      <td>0.0</td>\n",
       "      <td>0.366388</td>\n",
       "      <td>-0.584700</td>\n",
       "      <td>0.294083</td>\n",
       "      <td>0.529165</td>\n",
       "      <td>0.293703</td>\n",
       "      <td>0.516178</td>\n",
       "      <td>0.401340</td>\n",
       "      <td>0.517286</td>\n",
       "      <td>...</td>\n",
       "      <td>0.670832</td>\n",
       "      <td>2.212569</td>\n",
       "      <td>1.051970</td>\n",
       "      <td>-1.417963</td>\n",
       "      <td>1.045965</td>\n",
       "      <td>0.324616</td>\n",
       "      <td>0.824133</td>\n",
       "      <td>1.035986</td>\n",
       "      <td>1.761137</td>\n",
       "      <td>-0.541475</td>\n",
       "    </tr>\n",
       "    <tr>\n",
       "      <th>2</th>\n",
       "      <td>0.0</td>\n",
       "      <td>1.0</td>\n",
       "      <td>0.518179</td>\n",
       "      <td>1.685101</td>\n",
       "      <td>1.056392</td>\n",
       "      <td>-1.875896</td>\n",
       "      <td>1.056666</td>\n",
       "      <td>0.093407</td>\n",
       "      <td>0.849774</td>\n",
       "      <td>0.094283</td>\n",
       "      <td>...</td>\n",
       "      <td>-0.763398</td>\n",
       "      <td>-0.077797</td>\n",
       "      <td>-0.056369</td>\n",
       "      <td>0.227493</td>\n",
       "      <td>-0.053077</td>\n",
       "      <td>1.829653</td>\n",
       "      <td>-1.012762</td>\n",
       "      <td>0.951385</td>\n",
       "      <td>0.645500</td>\n",
       "      <td>0.817341</td>\n",
       "    </tr>\n",
       "    <tr>\n",
       "      <th>3</th>\n",
       "      <td>0.0</td>\n",
       "      <td>0.0</td>\n",
       "      <td>2.010792</td>\n",
       "      <td>-0.584700</td>\n",
       "      <td>-0.679156</td>\n",
       "      <td>1.681590</td>\n",
       "      <td>-0.679320</td>\n",
       "      <td>-0.402459</td>\n",
       "      <td>0.650470</td>\n",
       "      <td>-0.403094</td>\n",
       "      <td>...</td>\n",
       "      <td>-0.660953</td>\n",
       "      <td>-0.322569</td>\n",
       "      <td>-0.056369</td>\n",
       "      <td>-0.183871</td>\n",
       "      <td>-0.053077</td>\n",
       "      <td>-0.427903</td>\n",
       "      <td>0.969919</td>\n",
       "      <td>-0.841579</td>\n",
       "      <td>-0.823386</td>\n",
       "      <td>-0.342801</td>\n",
       "    </tr>\n",
       "    <tr>\n",
       "      <th>4</th>\n",
       "      <td>0.0</td>\n",
       "      <td>0.0</td>\n",
       "      <td>0.290493</td>\n",
       "      <td>-0.584700</td>\n",
       "      <td>0.484660</td>\n",
       "      <td>1.080325</td>\n",
       "      <td>0.484172</td>\n",
       "      <td>-0.718549</td>\n",
       "      <td>-0.296224</td>\n",
       "      <td>-0.719184</td>\n",
       "      <td>...</td>\n",
       "      <td>0.056162</td>\n",
       "      <td>-1.188013</td>\n",
       "      <td>0.837453</td>\n",
       "      <td>1.050221</td>\n",
       "      <td>0.834102</td>\n",
       "      <td>1.077134</td>\n",
       "      <td>0.561720</td>\n",
       "      <td>-0.070556</td>\n",
       "      <td>-0.761903</td>\n",
       "      <td>1.193432</td>\n",
       "    </tr>\n",
       "    <tr>\n",
       "      <th>...</th>\n",
       "      <td>...</td>\n",
       "      <td>...</td>\n",
       "      <td>...</td>\n",
       "      <td>...</td>\n",
       "      <td>...</td>\n",
       "      <td>...</td>\n",
       "      <td>...</td>\n",
       "      <td>...</td>\n",
       "      <td>...</td>\n",
       "      <td>...</td>\n",
       "      <td>...</td>\n",
       "      <td>...</td>\n",
       "      <td>...</td>\n",
       "      <td>...</td>\n",
       "      <td>...</td>\n",
       "      <td>...</td>\n",
       "      <td>...</td>\n",
       "      <td>...</td>\n",
       "      <td>...</td>\n",
       "      <td>...</td>\n",
       "      <td>...</td>\n",
       "    </tr>\n",
       "    <tr>\n",
       "      <th>2494</th>\n",
       "      <td>0.0</td>\n",
       "      <td>0.0</td>\n",
       "      <td>0.138701</td>\n",
       "      <td>-0.584700</td>\n",
       "      <td>1.746540</td>\n",
       "      <td>0.980114</td>\n",
       "      <td>1.746707</td>\n",
       "      <td>-0.044882</td>\n",
       "      <td>-0.894137</td>\n",
       "      <td>-0.045169</td>\n",
       "      <td>...</td>\n",
       "      <td>-1.941515</td>\n",
       "      <td>-0.781516</td>\n",
       "      <td>-1.522237</td>\n",
       "      <td>-0.595235</td>\n",
       "      <td>-1.522881</td>\n",
       "      <td>-0.427903</td>\n",
       "      <td>-1.100233</td>\n",
       "      <td>1.241720</td>\n",
       "      <td>0.537066</td>\n",
       "      <td>1.654014</td>\n",
       "    </tr>\n",
       "    <tr>\n",
       "      <th>2495</th>\n",
       "      <td>0.0</td>\n",
       "      <td>0.0</td>\n",
       "      <td>0.543478</td>\n",
       "      <td>-0.584700</td>\n",
       "      <td>-2.681141</td>\n",
       "      <td>-1.926002</td>\n",
       "      <td>-2.680873</td>\n",
       "      <td>-0.396533</td>\n",
       "      <td>-0.545355</td>\n",
       "      <td>-0.396122</td>\n",
       "      <td>...</td>\n",
       "      <td>-2.146405</td>\n",
       "      <td>1.001822</td>\n",
       "      <td>0.873206</td>\n",
       "      <td>-1.006599</td>\n",
       "      <td>0.873826</td>\n",
       "      <td>-0.427903</td>\n",
       "      <td>-2.733029</td>\n",
       "      <td>-2.248070</td>\n",
       "      <td>-1.247060</td>\n",
       "      <td>-3.009721</td>\n",
       "    </tr>\n",
       "    <tr>\n",
       "      <th>2496</th>\n",
       "      <td>0.0</td>\n",
       "      <td>0.0</td>\n",
       "      <td>-0.873239</td>\n",
       "      <td>-0.584700</td>\n",
       "      <td>-1.709753</td>\n",
       "      <td>-1.224526</td>\n",
       "      <td>-1.710027</td>\n",
       "      <td>1.207625</td>\n",
       "      <td>0.550818</td>\n",
       "      <td>1.207571</td>\n",
       "      <td>...</td>\n",
       "      <td>1.285502</td>\n",
       "      <td>-0.313827</td>\n",
       "      <td>-0.378145</td>\n",
       "      <td>0.227493</td>\n",
       "      <td>-0.384114</td>\n",
       "      <td>-0.427903</td>\n",
       "      <td>0.357620</td>\n",
       "      <td>-1.107879</td>\n",
       "      <td>-0.540564</td>\n",
       "      <td>-1.855434</td>\n",
       "    </tr>\n",
       "    <tr>\n",
       "      <th>2497</th>\n",
       "      <td>0.0</td>\n",
       "      <td>0.0</td>\n",
       "      <td>1.732508</td>\n",
       "      <td>-0.584700</td>\n",
       "      <td>-0.014911</td>\n",
       "      <td>0.529165</td>\n",
       "      <td>-0.015400</td>\n",
       "      <td>-0.507164</td>\n",
       "      <td>1.497512</td>\n",
       "      <td>-0.507683</td>\n",
       "      <td>...</td>\n",
       "      <td>-0.404840</td>\n",
       "      <td>0.551617</td>\n",
       "      <td>-0.127875</td>\n",
       "      <td>0.638857</td>\n",
       "      <td>-0.132526</td>\n",
       "      <td>0.324616</td>\n",
       "      <td>0.999076</td>\n",
       "      <td>-0.111895</td>\n",
       "      <td>0.012783</td>\n",
       "      <td>-0.006857</td>\n",
       "    </tr>\n",
       "    <tr>\n",
       "      <th>2498</th>\n",
       "      <td>0.0</td>\n",
       "      <td>1.0</td>\n",
       "      <td>-1.632195</td>\n",
       "      <td>2.563733</td>\n",
       "      <td>-2.777355</td>\n",
       "      <td>1.130430</td>\n",
       "      <td>-2.777740</td>\n",
       "      <td>-1.417899</td>\n",
       "      <td>0.849774</td>\n",
       "      <td>-1.418766</td>\n",
       "      <td>...</td>\n",
       "      <td>0.261052</td>\n",
       "      <td>2.466083</td>\n",
       "      <td>-0.592662</td>\n",
       "      <td>0.638857</td>\n",
       "      <td>-0.595978</td>\n",
       "      <td>0.324616</td>\n",
       "      <td>1.348961</td>\n",
       "      <td>-2.541289</td>\n",
       "      <td>-1.098383</td>\n",
       "      <td>-3.174622</td>\n",
       "    </tr>\n",
       "  </tbody>\n",
       "</table>\n",
       "<p>2499 rows × 21 columns</p>\n",
       "</div>"
      ],
      "text/plain": [
       "      international_plan  voice_mail_plan  account_length  \\\n",
       "0                    0.0              0.0       -1.404508   \n",
       "1                    0.0              0.0        0.366388   \n",
       "2                    0.0              1.0        0.518179   \n",
       "3                    0.0              0.0        2.010792   \n",
       "4                    0.0              0.0        0.290493   \n",
       "...                  ...              ...             ...   \n",
       "2494                 0.0              0.0        0.138701   \n",
       "2495                 0.0              0.0        0.543478   \n",
       "2496                 0.0              0.0       -0.873239   \n",
       "2497                 0.0              0.0        1.732508   \n",
       "2498                 0.0              1.0       -1.632195   \n",
       "\n",
       "      number_vmail_messages  total_day_minutes  total_day_calls  \\\n",
       "0                 -0.584700          -1.883677         1.330852   \n",
       "1                 -0.584700           0.294083         0.529165   \n",
       "2                  1.685101           1.056392        -1.875896   \n",
       "3                 -0.584700          -0.679156         1.681590   \n",
       "4                 -0.584700           0.484660         1.080325   \n",
       "...                     ...                ...              ...   \n",
       "2494              -0.584700           1.746540         0.980114   \n",
       "2495              -0.584700          -2.681141        -1.926002   \n",
       "2496              -0.584700          -1.709753        -1.224526   \n",
       "2497              -0.584700          -0.014911         0.529165   \n",
       "2498               2.563733          -2.777355         1.130430   \n",
       "\n",
       "      total_day_charge  total_eve_minutes  total_eve_calls  total_eve_charge  \\\n",
       "0            -1.884170           1.037727         0.401340          1.037905   \n",
       "1             0.293703           0.516178         0.401340          0.517286   \n",
       "2             1.056666           0.093407         0.849774          0.094283   \n",
       "3            -0.679320          -0.402459         0.650470         -0.403094   \n",
       "4             0.484172          -0.718549        -0.296224         -0.719184   \n",
       "...                ...                ...              ...               ...   \n",
       "2494          1.746707          -0.044882        -0.894137         -0.045169   \n",
       "2495         -2.680873          -0.396533        -0.545355         -0.396122   \n",
       "2496         -1.710027           1.207625         0.550818          1.207571   \n",
       "2497         -0.015400          -0.507164         1.497512         -0.507683   \n",
       "2498         -2.777740          -1.417899         0.849774         -1.418766   \n",
       "\n",
       "      ...  total_night_calls  total_night_charge  total_intl_minutes  \\\n",
       "0     ...           0.004940            1.071757            2.768109   \n",
       "1     ...           0.670832            2.212569            1.051970   \n",
       "2     ...          -0.763398           -0.077797           -0.056369   \n",
       "3     ...          -0.660953           -0.322569           -0.056369   \n",
       "4     ...           0.056162           -1.188013            0.837453   \n",
       "...   ...                ...                 ...                 ...   \n",
       "2494  ...          -1.941515           -0.781516           -1.522237   \n",
       "2495  ...          -2.146405            1.001822            0.873206   \n",
       "2496  ...           1.285502           -0.313827           -0.378145   \n",
       "2497  ...          -0.404840            0.551617           -0.127875   \n",
       "2498  ...           0.261052            2.466083           -0.592662   \n",
       "\n",
       "      total_intl_calls  total_intl_charge  customer_service_calls  \\\n",
       "0            -0.595235           2.767357               -0.427903   \n",
       "1            -1.417963           1.045965                0.324616   \n",
       "2             0.227493          -0.053077                1.829653   \n",
       "3            -0.183871          -0.053077               -0.427903   \n",
       "4             1.050221           0.834102                1.077134   \n",
       "...                ...                ...                     ...   \n",
       "2494         -0.595235          -1.522881               -0.427903   \n",
       "2495         -1.006599           0.873826               -0.427903   \n",
       "2496          0.227493          -0.384114               -0.427903   \n",
       "2497          0.638857          -0.132526                0.324616   \n",
       "2498          0.638857          -0.595978                0.324616   \n",
       "\n",
       "      total_calls  total_charges  total_minutes  price_per_minute  \n",
       "0        0.969919      -0.798317       0.143574         -2.273379  \n",
       "1        0.824133       1.035986       1.761137         -0.541475  \n",
       "2       -1.012762       0.951385       0.645500          0.817341  \n",
       "3        0.969919      -0.841579      -0.823386         -0.342801  \n",
       "4        0.561720      -0.070556      -0.761903          1.193432  \n",
       "...           ...            ...            ...               ...  \n",
       "2494    -1.100233       1.241720       0.537066          1.654014  \n",
       "2495    -2.733029      -2.248070      -1.247060         -3.009721  \n",
       "2496     0.357620      -1.107879      -0.540564         -1.855434  \n",
       "2497     0.999076      -0.111895       0.012783         -0.006857  \n",
       "2498     1.348961      -2.541289      -1.098383         -3.174622  \n",
       "\n",
       "[2499 rows x 21 columns]"
      ]
     },
     "execution_count": 459,
     "metadata": {},
     "output_type": "execute_result"
    }
   ],
   "source": [
    "# Display the train data frame after preprocessing:\n",
    "cat_feature_names = preprocessor.named_transformers_['cat_preprocess'].named_steps['ohe'].get_feature_names(X_train_cats.columns)\n",
    "feature_names = np.r_[X_train_binary.columns, X_train_nums.columns, cat_feature_names]\n",
    "\n",
    "X_train_transformed = pd.DataFrame(preprocessor.fit_transform(X_train), columns= feature_names)\n",
    "X_train_transformed"
   ]
  },
  {
   "cell_type": "code",
   "execution_count": 460,
   "metadata": {
    "ExecuteTime": {
     "end_time": "2023-01-04T04:05:49.638233Z",
     "start_time": "2023-01-04T04:05:49.245121Z"
    },
    "scrolled": false
   },
   "outputs": [
    {
     "data": {
      "text/plain": [
       "Text(0.5, 1.0, 'Confusion Matrix - Test')"
      ]
     },
     "execution_count": 460,
     "metadata": {},
     "output_type": "execute_result"
    },
    {
     "data": {
      "image/png": "[encoded data removed]",
      "text/plain": [
       "<Figure size 864x360 with 3 Axes>"
      ]
     },
     "metadata": {
      "needs_background": "light"
     },
     "output_type": "display_data"
    }
   ],
   "source": [
    "fig, (ax1, ax2) = plt.subplots(ncols=2, figsize=(12, 5))\n",
    "\n",
    "\n",
    "#plot confusion matrix on \n",
    "plot_confusion_matrix(baseline_logreg, X_test, y_test, normalize='true', ax=ax1,  cmap='Blues') \n",
    "ax1.set_title(\"Confusion Matrix - Test\")\n",
    "\n"
   ]
  },
  {
   "cell_type": "code",
   "execution_count": 461,
   "metadata": {
    "ExecuteTime": {
     "end_time": "2023-01-04T04:05:53.043928Z",
     "start_time": "2023-01-04T04:05:52.772813Z"
    }
   },
   "outputs": [
    {
     "data": {
      "image/png": "[encoded data removed]",
      "text/plain": [
       "<Figure size 576x432 with 1 Axes>"
      ]
     },
     "metadata": {
      "needs_background": "light"
     },
     "output_type": "display_data"
    }
   ],
   "source": [
    "fig, ax2 = plt.subplots(figsize=(8, 6))\n",
    "plot_roc_curve(baseline_logreg, X_train, y_train, ax=ax2, name ='Train ROC curve', color=c(\"blue\"))\n",
    "plot_roc_curve(baseline_logreg, X_test, y_test, ax=ax2, name ='Test ROC curve', color=c(\"redorange\") )\n",
    "ax2.plot([0, 1], [0, 1], color='lightgray', lw=1, linestyle='-.')\n",
    "ax2.set_xlabel('False Positive Rate')\n",
    "ax2.set_ylabel('True Positive Rate')\n",
    "ax2.set_title('Receiver operating characteristic (ROC) Curve')\n",
    "plt.show();\n"
   ]
  },
  {
   "cell_type": "code",
   "execution_count": 462,
   "metadata": {
    "ExecuteTime": {
     "end_time": "2023-01-04T04:05:56.266545Z",
     "start_time": "2023-01-04T04:05:56.241379Z"
    }
   },
   "outputs": [
    {
     "name": "stdout",
     "output_type": "stream",
     "text": [
      "\n",
      "\n",
      "------------------------------------------------------------\n",
      "Classification Report - Test:\n",
      "------------------------------------------------------------\n",
      "              precision    recall  f1-score   support\n",
      "\n",
      "           0      0.881     0.979     0.927       709\n",
      "           1      0.674     0.248     0.363       125\n",
      "\n",
      "    accuracy                          0.869       834\n",
      "   macro avg      0.777     0.613     0.645       834\n",
      "weighted avg      0.850     0.869     0.843       834\n",
      "\n",
      "------------------------------------------------------------\n",
      "------------------------------------------------------------\n",
      "\n",
      "\n"
     ]
    }
   ],
   "source": [
    "# Print classification Scores for the test set\n",
    "y_true = y_test\n",
    "y_pred = baseline_logreg.predict(X_test)\n",
    "divider = ('-' * 60) \n",
    "table_title = 'Classification Report - Test:'\n",
    "table = classification_report(y_true, y_pred, digits=3)\n",
    "print('\\n', divider, table_title, divider, table, divider, divider, '\\n' , sep='\\n') "
   ]
  },
  {
   "cell_type": "code",
   "execution_count": 463,
   "metadata": {
    "ExecuteTime": {
     "end_time": "2023-01-04T04:06:00.106997Z",
     "start_time": "2023-01-04T04:05:59.610876Z"
    }
   },
   "outputs": [
    {
     "name": "stdout",
     "output_type": "stream",
     "text": [
      " Mean Cross Validated Roc_Auc Score: 83.23%\n",
      " Train Roc_Auc Score: 84.11%\n",
      " Test Roc_Auc Score: 85.67%\n",
      "\n",
      "\n",
      "------------------------------------------------------------\n",
      "------------------------------------------------------------\n",
      "\n",
      "\n",
      " Train Accuracy Score: 87.23%\n",
      " Test Accuracy Score: 86.93%\n",
      "\n",
      "\n",
      "------------------------------------------------------------\n",
      "------------------------------------------------------------\n",
      "\n",
      "\n",
      " Train Recall score: 25.98%\n",
      " Test Recall score: 24.80%\n",
      "\n",
      "\n",
      "------------------------------------------------------------\n",
      "------------------------------------------------------------\n",
      "\n",
      "\n",
      " Train Precision score: 97.48%\n",
      " Test Precision Score: 97.88%\n",
      "\n",
      "\n",
      "------------------------------------------------------------\n",
      "------------------------------------------------------------\n",
      "\n",
      "\n"
     ]
    }
   ],
   "source": [
    "# Print roc_auc for test and train \n",
    "roc_score_train_cv = cross_val_score(estimator=baseline_logreg, X=X_train,  y=y_train, \n",
    "                                         cv=StratifiedKFold(shuffle=True), scoring='roc_auc').mean()\n",
    "roc_score_train = roc_auc_score(y_train, baseline_logreg.predict_proba(X_train)[:, 1]) \n",
    "roc_score_test = roc_auc_score(y_test, baseline_logreg.predict_proba(X_test)[:, 1])\n",
    "        \n",
    "        # Find Sensitivity and Specificity Scores:\n",
    "recall_score_train = recall_score(y_train, baseline_logreg.predict(X_train))\n",
    "recall_score_test = recall_score(y_test, baseline_logreg.predict(X_test))\n",
    "        \n",
    "tn, fp, fn, tp = confusion_matrix(y_train, baseline_logreg.predict(X_train)).ravel()\n",
    "specificity_score_train = tn / (tn+fp) \n",
    "        \n",
    "tn1, fp1, fn1, tp1 = confusion_matrix(y_test, baseline_logreg.predict(X_test)).ravel()\n",
    "specificity_score_test = tn1 / (tn1+fp1) \n",
    "        \n",
    "        # Print accuracy for test and train \n",
    "acc_score_train = accuracy_score(y_train, baseline_logreg.predict(X_train)) \n",
    "acc_score_test = accuracy_score(y_test, baseline_logreg.predict(X_test))\n",
    "        \n",
    "print(f\" Mean Cross Validated Roc_Auc Score: {roc_score_train_cv :.2%}\")    \n",
    "print(f\" Train Roc_Auc Score: {roc_score_train :.2%}\")  \n",
    "print(f\" Test Roc_Auc Score: {roc_score_test :.2%}\")    \n",
    "print('\\n', divider, divider, '\\n' , sep='\\n')\n",
    "        \n",
    "print(f\" Train Accuracy Score: {acc_score_train :.2%}\")  \n",
    "print(f\" Test Accuracy Score: {acc_score_test :.2%}\")    \n",
    "print('\\n', divider, divider, '\\n' , sep='\\n')\n",
    "        \n",
    "print(f\" Train Recall score: {recall_score_train :.2%}\")    \n",
    "print(f\" Test Recall score: {recall_score_test :.2%}\")  \n",
    "print('\\n', divider, divider, '\\n' , sep='\\n')\n",
    "        \n",
    "print(f\" Train Precision score: {specificity_score_train :.2%}\")    \n",
    "print(f\" Test Precision Score: {specificity_score_test :.2%}\")   \n",
    "print('\\n', divider, divider, '\\n' , sep='\\n')"
   ]
  },
  {
   "cell_type": "code",
   "execution_count": 464,
   "metadata": {
    "ExecuteTime": {
     "end_time": "2023-01-04T04:06:00.997805Z",
     "start_time": "2023-01-04T04:06:00.992997Z"
    }
   },
   "outputs": [],
   "source": [
    "# There should be two underscores between estimator name and it's parameters in a Pipeline\n",
    "\n",
    "parameters = {\n",
    "    'estimator__penalty' : ['l1','l2'], # default = l2 elasticnet is both\n",
    "    'estimator__fit_intercept':[True, False],\n",
    "    'estimator__C'       : [0.001,0.01,0.1,0.5,1,10,100], #np.logspace(-3,3,7) # default=1.0\n",
    "    'estimator__solver'  : ['newton-cg', 'lbfgs', 'liblinear'], # default = ’lbfgs’\n",
    "    'estimator__max_iter'  : [50,100,200,300]  # default = 100\n",
    "}\n",
    "      \n",
    "# Create the grid, with \"logreg_pipeline\" as the estimator\n",
    "best_logreg = GridSearchCV(estimator = baseline_logreg,   # model\n",
    "                          param_grid = parameters,        # hyperparameters\n",
    "                          scoring ='roc_auc',             # metric for scoring\n",
    "                          cv = 5,                         # number of folds for cross-validation\n",
    "                          n_jobs = -1                     # 1 job per core of the computer.\n",
    ")                      \n",
    "\n"
   ]
  },
  {
   "cell_type": "code",
   "execution_count": 465,
   "metadata": {
    "ExecuteTime": {
     "end_time": "2023-01-04T04:06:58.193747Z",
     "start_time": "2023-01-04T04:06:02.187776Z"
    }
   },
   "outputs": [
    {
     "data": {
      "text/plain": [
       "{'estimator__C': 10,\n",
       " 'estimator__fit_intercept': True,\n",
       " 'estimator__max_iter': 100,\n",
       " 'estimator__penalty': 'l2',\n",
       " 'estimator__solver': 'lbfgs'}"
      ]
     },
     "execution_count": 465,
     "metadata": {},
     "output_type": "execute_result"
    }
   ],
   "source": [
    "# Train the pipeline (tranformations & predictor)\n",
    "best_logreg.fit(X_train, y_train);\n",
    "best_logreg.best_params_"
   ]
  },
  {
   "cell_type": "code",
   "execution_count": 466,
   "metadata": {
    "ExecuteTime": {
     "end_time": "2023-01-04T04:06:58.750433Z",
     "start_time": "2023-01-04T04:06:58.197506Z"
    },
    "scrolled": false
   },
   "outputs": [
    {
     "data": {
      "image/png": "[encoded data removed]",
      "text/plain": [
       "<Figure size 864x360 with 3 Axes>"
      ]
     },
     "metadata": {
      "needs_background": "light"
     },
     "output_type": "display_data"
    }
   ],
   "source": [
    "fig, (ax1, ax2) = plt.subplots(ncols=2, figsize=(12, 5))\n",
    "plot_confusion_matrix(best_logreg.best_estimator_, X_test, y_test, normalize = 'true', ax=ax1,  cmap='BuPu') \n",
    "ax1.grid(False) \n",
    "ax1.set_title(\"Confusion Matrix - Train\")\n",
    "\n",
    "plot_roc_curve(best_logreg.best_estimator_, X_train, y_train, ax=ax2, name ='Train ROC curve', color=c(\"darkblue\"))\n",
    "plot_roc_curve(best_logreg.best_estimator_, X_test, y_test, ax=ax2, name ='Test ROC curve', color=c(\"redorange\") )\n",
    "ax2.plot([0, 1], [0, 1], color='navy', lw=2, linestyle='--')\n",
    "ax2.set_xlabel('False Positive Rate')\n",
    "ax2.set_ylabel('True Positive Rate')\n",
    "ax2.set_title('Receiver operating characteristic (ROC) Curve')\n",
    "plt.show();"
   ]
  },
  {
   "cell_type": "code",
   "execution_count": 467,
   "metadata": {
    "ExecuteTime": {
     "end_time": "2023-01-04T04:06:58.809660Z",
     "start_time": "2023-01-04T04:06:58.754309Z"
    },
    "scrolled": false
   },
   "outputs": [
    {
     "data": {
      "text/html": [
       "<div>\n",
       "<style scoped>\n",
       "    .dataframe tbody tr th:only-of-type {\n",
       "        vertical-align: middle;\n",
       "    }\n",
       "\n",
       "    .dataframe tbody tr th {\n",
       "        vertical-align: top;\n",
       "    }\n",
       "\n",
       "    .dataframe thead th {\n",
       "        text-align: right;\n",
       "    }\n",
       "</style>\n",
       "<table border=\"1\" class=\"dataframe\">\n",
       "  <thead>\n",
       "    <tr style=\"text-align: right;\">\n",
       "      <th></th>\n",
       "      <th>international_plan</th>\n",
       "      <th>voice_mail_plan</th>\n",
       "      <th>account_length</th>\n",
       "      <th>number_vmail_messages</th>\n",
       "      <th>total_day_minutes</th>\n",
       "      <th>total_day_calls</th>\n",
       "      <th>total_day_charge</th>\n",
       "      <th>total_eve_minutes</th>\n",
       "      <th>total_eve_calls</th>\n",
       "      <th>total_eve_charge</th>\n",
       "      <th>...</th>\n",
       "      <th>total_night_calls</th>\n",
       "      <th>total_night_charge</th>\n",
       "      <th>total_intl_minutes</th>\n",
       "      <th>total_intl_calls</th>\n",
       "      <th>total_intl_charge</th>\n",
       "      <th>customer_service_calls</th>\n",
       "      <th>total_calls</th>\n",
       "      <th>total_charges</th>\n",
       "      <th>total_minutes</th>\n",
       "      <th>price_per_minute</th>\n",
       "    </tr>\n",
       "  </thead>\n",
       "  <tbody>\n",
       "    <tr>\n",
       "      <th>0</th>\n",
       "      <td>0.0</td>\n",
       "      <td>0.0</td>\n",
       "      <td>0.315791</td>\n",
       "      <td>-0.584700</td>\n",
       "      <td>-0.462675</td>\n",
       "      <td>-0.372733</td>\n",
       "      <td>-0.462730</td>\n",
       "      <td>2.562862</td>\n",
       "      <td>0.301688</td>\n",
       "      <td>2.562574</td>\n",
       "      <td>...</td>\n",
       "      <td>1.183057</td>\n",
       "      <td>-0.222038</td>\n",
       "      <td>1.159229</td>\n",
       "      <td>-0.595235</td>\n",
       "      <td>1.165138</td>\n",
       "      <td>-0.427903</td>\n",
       "      <td>0.590877</td>\n",
       "      <td>0.687007</td>\n",
       "      <td>1.081470</td>\n",
       "      <td>-1.017237</td>\n",
       "    </tr>\n",
       "    <tr>\n",
       "      <th>1</th>\n",
       "      <td>0.0</td>\n",
       "      <td>0.0</td>\n",
       "      <td>-0.847941</td>\n",
       "      <td>-0.584700</td>\n",
       "      <td>-1.311946</td>\n",
       "      <td>0.829797</td>\n",
       "      <td>-1.311676</td>\n",
       "      <td>0.326524</td>\n",
       "      <td>1.198556</td>\n",
       "      <td>0.326702</td>\n",
       "      <td>...</td>\n",
       "      <td>2.105062</td>\n",
       "      <td>-0.239521</td>\n",
       "      <td>0.908959</td>\n",
       "      <td>0.638857</td>\n",
       "      <td>0.913550</td>\n",
       "      <td>-1.180421</td>\n",
       "      <td>2.427772</td>\n",
       "      <td>-1.009819</td>\n",
       "      <td>-0.716070</td>\n",
       "      <td>-1.257750</td>\n",
       "    </tr>\n",
       "    <tr>\n",
       "      <th>2</th>\n",
       "      <td>0.0</td>\n",
       "      <td>0.0</td>\n",
       "      <td>-0.063687</td>\n",
       "      <td>-0.584700</td>\n",
       "      <td>-3.330584</td>\n",
       "      <td>-5.032539</td>\n",
       "      <td>-3.330643</td>\n",
       "      <td>-0.815352</td>\n",
       "      <td>1.497512</td>\n",
       "      <td>-0.814476</td>\n",
       "      <td>...</td>\n",
       "      <td>-0.609730</td>\n",
       "      <td>-0.659130</td>\n",
       "      <td>-1.236214</td>\n",
       "      <td>-1.417963</td>\n",
       "      <td>-1.231568</td>\n",
       "      <td>1.829653</td>\n",
       "      <td>-2.499772</td>\n",
       "      <td>-3.513239</td>\n",
       "      <td>-2.886980</td>\n",
       "      <td>-3.968384</td>\n",
       "    </tr>\n",
       "    <tr>\n",
       "      <th>3</th>\n",
       "      <td>0.0</td>\n",
       "      <td>0.0</td>\n",
       "      <td>1.175941</td>\n",
       "      <td>-0.584700</td>\n",
       "      <td>0.606778</td>\n",
       "      <td>-1.074209</td>\n",
       "      <td>0.607160</td>\n",
       "      <td>0.063774</td>\n",
       "      <td>-0.445702</td>\n",
       "      <td>0.064068</td>\n",
       "      <td>...</td>\n",
       "      <td>0.670832</td>\n",
       "      <td>-0.873306</td>\n",
       "      <td>-0.020616</td>\n",
       "      <td>-1.006599</td>\n",
       "      <td>-0.026594</td>\n",
       "      <td>-0.427903</td>\n",
       "      <td>-0.575406</td>\n",
       "      <td>0.368792</td>\n",
       "      <td>-0.094533</td>\n",
       "      <td>0.814510</td>\n",
       "    </tr>\n",
       "    <tr>\n",
       "      <th>4</th>\n",
       "      <td>0.0</td>\n",
       "      <td>0.0</td>\n",
       "      <td>-0.114284</td>\n",
       "      <td>-0.584700</td>\n",
       "      <td>-0.666204</td>\n",
       "      <td>0.078216</td>\n",
       "      <td>-0.666259</td>\n",
       "      <td>0.470740</td>\n",
       "      <td>-1.342571</td>\n",
       "      <td>0.470802</td>\n",
       "      <td>...</td>\n",
       "      <td>-0.456063</td>\n",
       "      <td>0.534133</td>\n",
       "      <td>-0.092122</td>\n",
       "      <td>1.050221</td>\n",
       "      <td>-0.092802</td>\n",
       "      <td>-0.427903</td>\n",
       "      <td>-0.925291</td>\n",
       "      <td>-0.283020</td>\n",
       "      <td>0.163696</td>\n",
       "      <td>-0.855476</td>\n",
       "    </tr>\n",
       "    <tr>\n",
       "      <th>...</th>\n",
       "      <td>...</td>\n",
       "      <td>...</td>\n",
       "      <td>...</td>\n",
       "      <td>...</td>\n",
       "      <td>...</td>\n",
       "      <td>...</td>\n",
       "      <td>...</td>\n",
       "      <td>...</td>\n",
       "      <td>...</td>\n",
       "      <td>...</td>\n",
       "      <td>...</td>\n",
       "      <td>...</td>\n",
       "      <td>...</td>\n",
       "      <td>...</td>\n",
       "      <td>...</td>\n",
       "      <td>...</td>\n",
       "      <td>...</td>\n",
       "      <td>...</td>\n",
       "      <td>...</td>\n",
       "      <td>...</td>\n",
       "      <td>...</td>\n",
       "    </tr>\n",
       "    <tr>\n",
       "      <th>829</th>\n",
       "      <td>0.0</td>\n",
       "      <td>0.0</td>\n",
       "      <td>1.783105</td>\n",
       "      <td>-0.584700</td>\n",
       "      <td>-0.786471</td>\n",
       "      <td>0.479059</td>\n",
       "      <td>-0.785982</td>\n",
       "      <td>-0.054760</td>\n",
       "      <td>0.451166</td>\n",
       "      <td>-0.054466</td>\n",
       "      <td>...</td>\n",
       "      <td>1.592837</td>\n",
       "      <td>1.810444</td>\n",
       "      <td>1.087723</td>\n",
       "      <td>0.227493</td>\n",
       "      <td>1.085690</td>\n",
       "      <td>0.324616</td>\n",
       "      <td>1.465589</td>\n",
       "      <td>-0.239758</td>\n",
       "      <td>0.557188</td>\n",
       "      <td>-1.158462</td>\n",
       "    </tr>\n",
       "    <tr>\n",
       "      <th>830</th>\n",
       "      <td>0.0</td>\n",
       "      <td>0.0</td>\n",
       "      <td>-0.291373</td>\n",
       "      <td>-0.584700</td>\n",
       "      <td>-1.807817</td>\n",
       "      <td>-1.174420</td>\n",
       "      <td>-1.807982</td>\n",
       "      <td>-0.665209</td>\n",
       "      <td>-0.993789</td>\n",
       "      <td>-0.665728</td>\n",
       "      <td>...</td>\n",
       "      <td>-1.531735</td>\n",
       "      <td>-0.117135</td>\n",
       "      <td>-1.093203</td>\n",
       "      <td>-0.183871</td>\n",
       "      <td>-1.099154</td>\n",
       "      <td>-0.427903</td>\n",
       "      <td>-2.149887</td>\n",
       "      <td>-1.977923</td>\n",
       "      <td>-1.569007</td>\n",
       "      <td>-1.578536</td>\n",
       "    </tr>\n",
       "    <tr>\n",
       "      <th>831</th>\n",
       "      <td>0.0</td>\n",
       "      <td>1.0</td>\n",
       "      <td>-0.569657</td>\n",
       "      <td>0.952907</td>\n",
       "      <td>-0.359060</td>\n",
       "      <td>-0.773577</td>\n",
       "      <td>-0.359332</td>\n",
       "      <td>0.439131</td>\n",
       "      <td>-1.043615</td>\n",
       "      <td>0.438263</td>\n",
       "      <td>...</td>\n",
       "      <td>-0.404840</td>\n",
       "      <td>-1.507090</td>\n",
       "      <td>-0.270886</td>\n",
       "      <td>-1.417963</td>\n",
       "      <td>-0.264941</td>\n",
       "      <td>0.324616</td>\n",
       "      <td>-1.391804</td>\n",
       "      <td>-0.486831</td>\n",
       "      <td>-0.833447</td>\n",
       "      <td>0.101840</td>\n",
       "    </tr>\n",
       "    <tr>\n",
       "      <th>832</th>\n",
       "      <td>0.0</td>\n",
       "      <td>1.0</td>\n",
       "      <td>1.024150</td>\n",
       "      <td>2.270856</td>\n",
       "      <td>-1.167625</td>\n",
       "      <td>1.330852</td>\n",
       "      <td>-1.168008</td>\n",
       "      <td>1.494082</td>\n",
       "      <td>-0.595181</td>\n",
       "      <td>1.493446</td>\n",
       "      <td>...</td>\n",
       "      <td>1.285502</td>\n",
       "      <td>1.757993</td>\n",
       "      <td>0.730194</td>\n",
       "      <td>-1.006599</td>\n",
       "      <td>0.728170</td>\n",
       "      <td>-1.180421</td>\n",
       "      <td>1.086547</td>\n",
       "      <td>0.025581</td>\n",
       "      <td>1.160839</td>\n",
       "      <td>-1.765699</td>\n",
       "    </tr>\n",
       "    <tr>\n",
       "      <th>833</th>\n",
       "      <td>0.0</td>\n",
       "      <td>0.0</td>\n",
       "      <td>0.138701</td>\n",
       "      <td>-0.584700</td>\n",
       "      <td>0.795505</td>\n",
       "      <td>1.030219</td>\n",
       "      <td>0.795452</td>\n",
       "      <td>-1.793256</td>\n",
       "      <td>-0.096920</td>\n",
       "      <td>-1.792961</td>\n",
       "      <td>...</td>\n",
       "      <td>0.363497</td>\n",
       "      <td>-0.235150</td>\n",
       "      <td>-1.128956</td>\n",
       "      <td>3.107041</td>\n",
       "      <td>-1.125637</td>\n",
       "      <td>-1.180421</td>\n",
       "      <td>0.969919</td>\n",
       "      <td>-0.172462</td>\n",
       "      <td>-0.702656</td>\n",
       "      <td>1.558678</td>\n",
       "    </tr>\n",
       "  </tbody>\n",
       "</table>\n",
       "<p>834 rows × 21 columns</p>\n",
       "</div>"
      ],
      "text/plain": [
       "     international_plan  voice_mail_plan  account_length  \\\n",
       "0                   0.0              0.0        0.315791   \n",
       "1                   0.0              0.0       -0.847941   \n",
       "2                   0.0              0.0       -0.063687   \n",
       "3                   0.0              0.0        1.175941   \n",
       "4                   0.0              0.0       -0.114284   \n",
       "..                  ...              ...             ...   \n",
       "829                 0.0              0.0        1.783105   \n",
       "830                 0.0              0.0       -0.291373   \n",
       "831                 0.0              1.0       -0.569657   \n",
       "832                 0.0              1.0        1.024150   \n",
       "833                 0.0              0.0        0.138701   \n",
       "\n",
       "     number_vmail_messages  total_day_minutes  total_day_calls  \\\n",
       "0                -0.584700          -0.462675        -0.372733   \n",
       "1                -0.584700          -1.311946         0.829797   \n",
       "2                -0.584700          -3.330584        -5.032539   \n",
       "3                -0.584700           0.606778        -1.074209   \n",
       "4                -0.584700          -0.666204         0.078216   \n",
       "..                     ...                ...              ...   \n",
       "829              -0.584700          -0.786471         0.479059   \n",
       "830              -0.584700          -1.807817        -1.174420   \n",
       "831               0.952907          -0.359060        -0.773577   \n",
       "832               2.270856          -1.167625         1.330852   \n",
       "833              -0.584700           0.795505         1.030219   \n",
       "\n",
       "     total_day_charge  total_eve_minutes  total_eve_calls  total_eve_charge  \\\n",
       "0           -0.462730           2.562862         0.301688          2.562574   \n",
       "1           -1.311676           0.326524         1.198556          0.326702   \n",
       "2           -3.330643          -0.815352         1.497512         -0.814476   \n",
       "3            0.607160           0.063774        -0.445702          0.064068   \n",
       "4           -0.666259           0.470740        -1.342571          0.470802   \n",
       "..                ...                ...              ...               ...   \n",
       "829         -0.785982          -0.054760         0.451166         -0.054466   \n",
       "830         -1.807982          -0.665209        -0.993789         -0.665728   \n",
       "831         -0.359332           0.439131        -1.043615          0.438263   \n",
       "832         -1.168008           1.494082        -0.595181          1.493446   \n",
       "833          0.795452          -1.793256        -0.096920         -1.792961   \n",
       "\n",
       "     ...  total_night_calls  total_night_charge  total_intl_minutes  \\\n",
       "0    ...           1.183057           -0.222038            1.159229   \n",
       "1    ...           2.105062           -0.239521            0.908959   \n",
       "2    ...          -0.609730           -0.659130           -1.236214   \n",
       "3    ...           0.670832           -0.873306           -0.020616   \n",
       "4    ...          -0.456063            0.534133           -0.092122   \n",
       "..   ...                ...                 ...                 ...   \n",
       "829  ...           1.592837            1.810444            1.087723   \n",
       "830  ...          -1.531735           -0.117135           -1.093203   \n",
       "831  ...          -0.404840           -1.507090           -0.270886   \n",
       "832  ...           1.285502            1.757993            0.730194   \n",
       "833  ...           0.363497           -0.235150           -1.128956   \n",
       "\n",
       "     total_intl_calls  total_intl_charge  customer_service_calls  total_calls  \\\n",
       "0           -0.595235           1.165138               -0.427903     0.590877   \n",
       "1            0.638857           0.913550               -1.180421     2.427772   \n",
       "2           -1.417963          -1.231568                1.829653    -2.499772   \n",
       "3           -1.006599          -0.026594               -0.427903    -0.575406   \n",
       "4            1.050221          -0.092802               -0.427903    -0.925291   \n",
       "..                ...                ...                     ...          ...   \n",
       "829          0.227493           1.085690                0.324616     1.465589   \n",
       "830         -0.183871          -1.099154               -0.427903    -2.149887   \n",
       "831         -1.417963          -0.264941                0.324616    -1.391804   \n",
       "832         -1.006599           0.728170               -1.180421     1.086547   \n",
       "833          3.107041          -1.125637               -1.180421     0.969919   \n",
       "\n",
       "     total_charges  total_minutes  price_per_minute  \n",
       "0         0.687007       1.081470         -1.017237  \n",
       "1        -1.009819      -0.716070         -1.257750  \n",
       "2        -3.513239      -2.886980         -3.968384  \n",
       "3         0.368792      -0.094533          0.814510  \n",
       "4        -0.283020       0.163696         -0.855476  \n",
       "..             ...            ...               ...  \n",
       "829      -0.239758       0.557188         -1.158462  \n",
       "830      -1.977923      -1.569007         -1.578536  \n",
       "831      -0.486831      -0.833447          0.101840  \n",
       "832       0.025581       1.160839         -1.765699  \n",
       "833      -0.172462      -0.702656          1.558678  \n",
       "\n",
       "[834 rows x 21 columns]"
      ]
     },
     "execution_count": 467,
     "metadata": {},
     "output_type": "execute_result"
    }
   ],
   "source": [
    "# Display the test data frame after preprocessing:\n",
    "X_test_transformed = pd.DataFrame(preprocessor.transform(X_test), columns= feature_names)\n",
    "X_test_transformed"
   ]
  },
  {
   "cell_type": "code",
   "execution_count": 476,
   "metadata": {
    "ExecuteTime": {
     "end_time": "2023-01-04T04:13:10.552250Z",
     "start_time": "2023-01-04T04:13:09.808216Z"
    }
   },
   "outputs": [
    {
     "data": {
      "image/png": "[encoded data removed]",
      "text/plain": [
       "<Figure size 720x720 with 1 Axes>"
      ]
     },
     "metadata": {
      "needs_background": "light"
     },
     "output_type": "display_data"
    }
   ],
   "source": [
    "# estimator = name of the estimator in the pipeline\n",
    "# Create a function to visualize feature importance using Logistic Regression\n",
    "\n",
    "coeffs = best_logreg.best_estimator_.named_steps['estimator'].coef_ \n",
    "importance = pd.Series(abs(coeffs[0]), index=feature_names) # logreg_coeffs[0] = getting the one-dim list inside the list\n",
    "    \n",
    "fig, ax = plt.subplots(figsize=(10,10))\n",
    "importance.sort_values().tail(20).plot.barh(ax=ax);        \n",
    "ax.set_title(\"Relative Importance of Features \\n for Predicting Churn \\n\", fontsize=18, fontweight='bold') \n",
    "ax.set_xlabel('Feature importance')\n",
    "ax.set_ylabel('Features')\n",
    "fig.tight_layout()"
   ]
  },
  {
   "cell_type": "markdown",
   "metadata": {
    "ExecuteTime": {
     "end_time": "2022-12-22T23:13:51.618037Z",
     "start_time": "2022-12-22T23:13:51.614994Z"
    },
    "heading_collapsed": true
   },
   "source": [
    "# Build KNN Model"
   ]
  },
  {
   "cell_type": "code",
   "execution_count": 112,
   "metadata": {
    "ExecuteTime": {
     "end_time": "2022-12-31T15:29:09.110651Z",
     "start_time": "2022-12-31T15:29:09.096138Z"
    },
    "hidden": true
   },
   "outputs": [],
   "source": [
    "# import class\n",
    "from sklearn.preprocessing import StandardScaler\n",
    "\n",
    "scaler = StandardScaler()\n",
    "scaler.fit(X_train)\n",
    "\n",
    "X_train_scaled = scaler.transform(X_train)\n",
    "X_test_scaled = scaler.transform(X_test)"
   ]
  },
  {
   "cell_type": "code",
   "execution_count": 113,
   "metadata": {
    "ExecuteTime": {
     "end_time": "2022-12-31T15:29:09.907854Z",
     "start_time": "2022-12-31T15:29:09.587176Z"
    },
    "hidden": true
   },
   "outputs": [
    {
     "data": {
      "text/plain": [
       "1.038909487455165"
      ]
     },
     "execution_count": 113,
     "metadata": {},
     "output_type": "execute_result"
    }
   ],
   "source": [
    "# Relevant imports\n",
    "from sklearn.neighbors import KNeighborsClassifier\n",
    "from sklearn.model_selection import cross_val_score\n",
    "\n",
    "# Creating the model\n",
    "knn_baseline_model = KNeighborsClassifier()\n",
    "\n",
    "# Perform cross-validation\n",
    "knn_baseline_log_loss = -cross_val_score(knn_baseline_model, X_train_scaled, y_train, scoring=\"neg_log_loss\").mean()\n",
    "\n",
    "knn_baseline_log_loss"
   ]
  },
  {
   "cell_type": "code",
   "execution_count": 114,
   "metadata": {
    "ExecuteTime": {
     "end_time": "2022-12-31T15:29:11.067787Z",
     "start_time": "2022-12-31T15:29:10.714971Z"
    },
    "hidden": true
   },
   "outputs": [
    {
     "data": {
      "text/plain": [
       "0.4244979271230056"
      ]
     },
     "execution_count": 114,
     "metadata": {},
     "output_type": "execute_result"
    }
   ],
   "source": [
    "# Your code here (add more cells as needed)\n",
    "# Adjusting the neighbors value to see if we are overfitting with the default = 5.\n",
    "knn_second_model = KNeighborsClassifier(n_neighbors=25)\n",
    "\n",
    "knn_second_log_loss = -cross_val_score(knn_second_model, X_train_scaled, y_train, scoring=\"neg_log_loss\").mean()\n",
    "knn_second_log_loss"
   ]
  },
  {
   "cell_type": "code",
   "execution_count": 115,
   "metadata": {
    "ExecuteTime": {
     "end_time": "2022-12-31T15:29:11.617460Z",
     "start_time": "2022-12-31T15:29:11.247682Z"
    },
    "hidden": true
   },
   "outputs": [
    {
     "data": {
      "text/plain": [
       "0.41417928373727547"
      ]
     },
     "execution_count": 115,
     "metadata": {},
     "output_type": "execute_result"
    }
   ],
   "source": [
    "# Your code here (add more cells as needed)\n",
    "# Changing from Euclidean difference to manhattan difference\n",
    "knn_3_model = KNeighborsClassifier(n_neighbors=25, metric=\"manhattan\")\n",
    "\n",
    "knn_3_log_loss = -cross_val_score(knn_3_model, X_train_scaled, y_train, scoring=\"neg_log_loss\").mean()\n",
    "knn_3_log_loss"
   ]
  },
  {
   "cell_type": "code",
   "execution_count": 116,
   "metadata": {
    "ExecuteTime": {
     "end_time": "2022-12-31T15:29:12.369056Z",
     "start_time": "2022-12-31T15:29:11.999746Z"
    },
    "hidden": true
   },
   "outputs": [
    {
     "data": {
      "text/plain": [
       "0.3266754422380838"
      ]
     },
     "execution_count": 116,
     "metadata": {},
     "output_type": "execute_result"
    }
   ],
   "source": [
    "# Adjusting the number of neighbors once again to see if we can increase performance.\n",
    "knn_4_model = KNeighborsClassifier(n_neighbors=40, metric=\"manhattan\")\n",
    "\n",
    "knn_4_log_loss = -cross_val_score(knn_4_model, X_train_scaled, y_train, scoring=\"neg_log_loss\").mean()\n",
    "knn_4_log_loss"
   ]
  },
  {
   "cell_type": "code",
   "execution_count": 117,
   "metadata": {
    "ExecuteTime": {
     "end_time": "2022-12-31T15:29:12.749598Z",
     "start_time": "2022-12-31T15:29:12.372495Z"
    },
    "hidden": true
   },
   "outputs": [
    {
     "data": {
      "text/plain": [
       "0.33791503480549256"
      ]
     },
     "execution_count": 117,
     "metadata": {},
     "output_type": "execute_result"
    }
   ],
   "source": [
    "# Backtracking to see what increased neighbors looks like with Euclidean distance.\n",
    "knn_5_model = KNeighborsClassifier(n_neighbors=40)\n",
    "\n",
    "knn_5_log_loss = -cross_val_score(knn_5_model, X_train_scaled, y_train, scoring=\"neg_log_loss\").mean()\n",
    "knn_5_log_loss"
   ]
  },
  {
   "cell_type": "code",
   "execution_count": 118,
   "metadata": {
    "ExecuteTime": {
     "end_time": "2022-12-31T15:29:13.216894Z",
     "start_time": "2022-12-31T15:29:12.860623Z"
    },
    "hidden": true
   },
   "outputs": [
    {
     "data": {
      "text/plain": [
       "0.5662196185569204"
      ]
     },
     "execution_count": 118,
     "metadata": {},
     "output_type": "execute_result"
    }
   ],
   "source": [
    "# Backtracking to see what increased neighbors looks like with Euclidean distance.\n",
    "knn_6_model = KNeighborsClassifier(n_neighbors=15)\n",
    "\n",
    "knn_6_log_loss = -cross_val_score(knn_6_model, X_train_scaled, y_train, scoring=\"neg_log_loss\").mean()\n",
    "knn_6_log_loss"
   ]
  },
  {
   "cell_type": "markdown",
   "metadata": {},
   "source": [
    "# Build Decision Tree Model"
   ]
  },
  {
   "cell_type": "code",
   "execution_count": 59,
   "metadata": {
    "ExecuteTime": {
     "end_time": "2023-01-02T04:29:58.916001Z",
     "start_time": "2023-01-02T04:29:58.845116Z"
    }
   },
   "outputs": [],
   "source": [
    "# Baseline model \n",
    "baseline_tree = Pipeline([\n",
    "    (\"preprocessor\", preprocessor),\n",
    "    (\"estimator\", DecisionTreeClassifier(random_state=42))\n",
    "])\n",
    "\n",
    "# Train model\n",
    "baseline_tree.fit(X_train, y_train);"
   ]
  },
  {
   "cell_type": "code",
   "execution_count": 60,
   "metadata": {
    "ExecuteTime": {
     "end_time": "2023-01-02T04:29:59.381668Z",
     "start_time": "2023-01-02T04:29:59.361927Z"
    }
   },
   "outputs": [
    {
     "data": {
      "text/plain": [
       "1.0"
      ]
     },
     "execution_count": 60,
     "metadata": {},
     "output_type": "execute_result"
    }
   ],
   "source": [
    "baseline_tree.score(X_train, y_train)"
   ]
  },
  {
   "cell_type": "code",
   "execution_count": 61,
   "metadata": {
    "ExecuteTime": {
     "end_time": "2023-01-02T04:30:00.760654Z",
     "start_time": "2023-01-02T04:29:59.924921Z"
    },
    "scrolled": false
   },
   "outputs": [
    {
     "data": {
      "image/png": "[encoded data removed]",
      "text/plain": [
       "<Figure size 864x360 with 3 Axes>"
      ]
     },
     "metadata": {
      "needs_background": "light"
     },
     "output_type": "display_data"
    },
    {
     "name": "stdout",
     "output_type": "stream",
     "text": [
      "\n",
      "\n",
      "--------------------------------------------------------\n",
      "Classification Report - Test:\n",
      "--------------------------------------------------------\n",
      "              precision    recall  f1-score   support\n",
      "\n",
      "           0      0.951     0.951     0.951       713\n",
      "           1      0.711     0.711     0.711       121\n",
      "\n",
      "    accuracy                          0.916       834\n",
      "   macro avg      0.831     0.831     0.831       834\n",
      "weighted avg      0.916     0.916     0.916       834\n",
      "\n",
      "--------------------------------------------------------\n",
      "--------------------------------------------------------\n",
      "\n",
      "\n",
      " Mean Cross Validated Roc_Auc Score: 85.81%\n",
      " Train Roc_Auc Score: 100.00%\n",
      " Test Roc_Auc Score: 83.08%\n",
      "\n",
      "\n",
      "--------------------------------------------------------\n",
      "--------------------------------------------------------\n",
      "\n",
      "\n",
      " Train Accuracy Score: 100.00%\n",
      " Test Accuracy Score: 91.61%\n",
      "\n",
      "\n",
      "--------------------------------------------------------\n",
      "--------------------------------------------------------\n",
      "\n",
      "\n",
      " Train Sensitivity/Recall score: 100.00%\n",
      " Test Sensitivity/Recall score: 71.07%\n",
      "\n",
      "\n",
      "--------------------------------------------------------\n",
      "--------------------------------------------------------\n",
      "\n",
      "\n",
      " Train Specificity score: 100.00%\n",
      " Test Specificity Score: 95.09%\n",
      "\n",
      "\n",
      "--------------------------------------------------------\n",
      "--------------------------------------------------------\n",
      "\n",
      "\n"
     ]
    }
   ],
   "source": [
    "model_evaluation_roc_auc(baseline_tree)"
   ]
  },
  {
   "cell_type": "code",
   "execution_count": 477,
   "metadata": {
    "ExecuteTime": {
     "end_time": "2023-01-04T04:16:06.849265Z",
     "start_time": "2023-01-04T04:16:06.844604Z"
    }
   },
   "outputs": [],
   "source": [
    "# There should be two underscores between estimator name and it's parameters in a Pipeline\n",
    "\n",
    "parameters = {\n",
    "    'estimator__criterion': ['gini', 'entropy'],\n",
    "    'estimator__max_depth': [None, 2, 3, 4, 5, 6],\n",
    "    'estimator__max_features': [None, 15,  5],\n",
    "    'estimator__min_samples_split': [2, 5, 10],\n",
    "    'estimator__min_samples_leaf': [1, 2, 3, 4, 5, 6]\n",
    "}\n",
    "      \n",
    "# Create the grid, with \"logreg_pipeline\" as the estimator\n",
    "best_tree = GridSearchCV(estimator = baseline_tree,    # model\n",
    "                          param_grid = parameters,     # hyperparameters\n",
    "                          scoring ='roc_auc',          # metric for scoring\n",
    "                          cv = 5,                      # number of folds for cross-validation\n",
    "                          n_jobs = -1                  # 1 job per core of the computer.\n",
    ")                      \n",
    "\n"
   ]
  },
  {
   "cell_type": "code",
   "execution_count": 478,
   "metadata": {
    "ExecuteTime": {
     "end_time": "2023-01-04T04:16:53.283534Z",
     "start_time": "2023-01-04T04:16:07.438241Z"
    }
   },
   "outputs": [
    {
     "data": {
      "text/plain": [
       "{'estimator__criterion': 'gini',\n",
       " 'estimator__max_depth': None,\n",
       " 'estimator__max_features': 15,\n",
       " 'estimator__min_samples_leaf': 6,\n",
       " 'estimator__min_samples_split': 2}"
      ]
     },
     "execution_count": 478,
     "metadata": {},
     "output_type": "execute_result"
    }
   ],
   "source": [
    "# Train the pipeline (tranformations & predictor)\n",
    "best_tree.fit(X_train, y_train);\n",
    "best_tree.best_params_"
   ]
  },
  {
   "cell_type": "code",
   "execution_count": 70,
   "metadata": {
    "ExecuteTime": {
     "end_time": "2023-01-02T04:34:01.245465Z",
     "start_time": "2023-01-02T04:34:00.449639Z"
    }
   },
   "outputs": [
    {
     "data": {
      "image/png": "[encoded data removed]",
      "text/plain": [
       "<Figure size 864x360 with 3 Axes>"
      ]
     },
     "metadata": {
      "needs_background": "light"
     },
     "output_type": "display_data"
    },
    {
     "name": "stdout",
     "output_type": "stream",
     "text": [
      "\n",
      "\n",
      "--------------------------------------------------------\n",
      "Classification Report - Test:\n",
      "--------------------------------------------------------\n",
      "              precision    recall  f1-score   support\n",
      "\n",
      "           0      0.951     0.989     0.970       713\n",
      "           1      0.914     0.702     0.794       121\n",
      "\n",
      "    accuracy                          0.947       834\n",
      "   macro avg      0.933     0.846     0.882       834\n",
      "weighted avg      0.946     0.947     0.944       834\n",
      "\n",
      "--------------------------------------------------------\n",
      "--------------------------------------------------------\n",
      "\n",
      "\n",
      " Mean Cross Validated Roc_Auc Score: 90.15%\n",
      " Train Roc_Auc Score: 95.04%\n",
      " Test Roc_Auc Score: 85.65%\n",
      "\n",
      "\n",
      "--------------------------------------------------------\n",
      "--------------------------------------------------------\n",
      "\n",
      "\n",
      " Train Accuracy Score: 96.48%\n",
      " Test Accuracy Score: 94.72%\n",
      "\n",
      "\n",
      "--------------------------------------------------------\n",
      "--------------------------------------------------------\n",
      "\n",
      "\n",
      " Train Sensitivity/Recall score: 79.56%\n",
      " Test Sensitivity/Recall score: 70.25%\n",
      "\n",
      "\n",
      "--------------------------------------------------------\n",
      "--------------------------------------------------------\n",
      "\n",
      "\n",
      " Train Specificity score: 99.34%\n",
      " Test Specificity Score: 98.88%\n",
      "\n",
      "\n",
      "--------------------------------------------------------\n",
      "--------------------------------------------------------\n",
      "\n",
      "\n"
     ]
    }
   ],
   "source": [
    "model_evaluation_roc_auc(best_tree.best_estimator_)"
   ]
  },
  {
   "cell_type": "markdown",
   "metadata": {
    "ExecuteTime": {
     "end_time": "2022-12-24T16:55:11.032900Z",
     "start_time": "2022-12-24T16:55:11.030485Z"
    }
   },
   "source": [
    "# Random Forest"
   ]
  },
  {
   "cell_type": "markdown",
   "metadata": {},
   "source": [
    "## Baseline Forest"
   ]
  },
  {
   "cell_type": "code",
   "execution_count": null,
   "metadata": {},
   "outputs": [],
   "source": [
    "base_RF = Pipeline([(\"preprocessor\", preprocessor), \n",
    "                    ('estimator', RandomForestClassifier(random_state=42)\n",
    "                    )\n",
    "                   ])\n",
    "\n",
    "# Train model\n",
    "base_RF.fit(X_train, \n",
    "            y_train);"
   ]
  },
  {
   "cell_type": "markdown",
   "metadata": {
    "ExecuteTime": {
     "end_time": "2023-01-04T04:29:06.321358Z",
     "start_time": "2023-01-04T04:29:06.317849Z"
    }
   },
   "source": [
    "## Tuned Forest"
   ]
  },
  {
   "cell_type": "code",
   "execution_count": null,
   "metadata": {},
   "outputs": [],
   "source": []
  },
  {
   "cell_type": "code",
   "execution_count": null,
   "metadata": {},
   "outputs": [],
   "source": [
    "parameters = {\n",
    "    'estimator__n_estimators': [150],                  # default=100 Number of trees. , Higher values prevent overfitting \n",
    "    'estimator__criterion': ['entropy', 'gini'],       # default = gini\n",
    "    'estimator__max_depth': [6, 7, 8],                 # default = None, Lower depth prevents overfitting\n",
    "    'estimator__max_features': [None, 5, 10, 15],      # default = None (n_features), Lower values prevent overfitting  \n",
    "    'estimator__min_samples_split': [10, 20, 50],      # default = 2, Higher values prevent overfitting \n",
    "    'estimator__min_samples_leaf': [2, 4, 6]           # default = 1, Higher values prevent overfitting \n",
    "}     \n",
    "        \n",
    "best_RF = GridSearchCV(estimator = baseline_RF,   \n",
    "                        param_grid = parameters,     \n",
    "                        scoring ='roc_auc',          \n",
    "                        cv = 5,\n",
    "                        n_jobs = -1)                      \n",
    "\n",
    "best_RF.fit(X_train, y_train);"
   ]
  },
  {
   "cell_type": "markdown",
   "metadata": {},
   "source": [
    "# Build Another Model (XGBoost, other?)"
   ]
  },
  {
   "cell_type": "code",
   "execution_count": null,
   "metadata": {},
   "outputs": [],
   "source": [
    "baseline_xgb = Pipeline([\n",
    "    (\"preprocessor\", preprocessor),\n",
    "    ('estimator', XGBClassifier(objective=\"binary:logistic\", random_state=42))\n",
    "])\n",
    "\n",
    "# Train model\n",
    "baseline_xgb.fit(X_train, y_btrain);"
   ]
  },
  {
   "cell_type": "code",
   "execution_count": null,
   "metadata": {},
   "outputs": [],
   "source": [
    "parameters = {\n",
    "    \"estimator__n_estimators\": [75],              # default = 100, To avoid overfitting use \"fewer\" trees unlike RF.\n",
    "    \"estimator__learning_rate\": [0.05, 0.1, 0.2], # default = 0.3, Lower ratios avoid over-fitting. If you reduce the learning rate in your XGBoost model, your model will also be less likely to overfit. \n",
    "    \"estimator__max_depth\": [4, 5, 6],            # default = 6, It is used to control over-fitting as higher depth will allow model to learn relations very specific to a particular sample.\n",
    "    'estimator__gamma': [0.5, 1],                 # default = 0 , Larger values avoid over-fitting.\n",
    "    'estimator__min_child_weight': [3, 4, 5],     # default = 1, Larger values avoid over-fitting. The larger min_child_weight is, the more conservative the algorithm will be. \n",
    "    'estimator__subsample': [0.5, 0.75],          # default = 1, Lower ratios avoid over-fitting.\n",
    "    'estimator__colsample_bytree':[0.5, 0.75]     # default = 1, Lower ratios avoid over-fitting.\n",
    "}\n",
    "\n",
    "best_xgb = GridSearchCV(estimator = baseline_xgb,       \n",
    "                        param_grid = parameters,     \n",
    "                        scoring ='roc_auc',          \n",
    "                        cv = 5,\n",
    "                        n_jobs = -1\n",
    ")                      \n",
    "\n",
    "# Train the pipeline (tranformations & predictor)ui0\n",
    "best_xgb.fit(X_train, y_train);"
   ]
  },
  {
   "cell_type": "markdown",
   "metadata": {
    "ExecuteTime": {
     "end_time": "2022-12-24T13:50:56.380600Z",
     "start_time": "2022-12-24T13:50:56.351609Z"
    }
   },
   "source": [
    "# Model Evalution"
   ]
  },
  {
   "cell_type": "markdown",
   "metadata": {
    "ExecuteTime": {
     "end_time": "2022-12-24T13:50:59.998772Z",
     "start_time": "2022-12-24T13:50:59.996257Z"
    }
   },
   "source": [
    "# Final Model"
   ]
  },
  {
   "cell_type": "code",
   "execution_count": null,
   "metadata": {},
   "outputs": [],
   "source": []
  }
 ],
 "metadata": {
  "kernelspec": {
   "display_name": "Python (learn-env)",
   "language": "python",
   "name": "learn-env"
  },
  "language_info": {
   "codemirror_mode": {
    "name": "ipython",
    "version": 3
   },
   "file_extension": ".py",
   "mimetype": "text/x-python",
   "name": "python",
   "nbconvert_exporter": "python",
   "pygments_lexer": "ipython3",
   "version": "3.8.5"
  },
  "toc": {
   "base_numbering": 1,
   "nav_menu": {},
   "number_sections": true,
   "sideBar": true,
   "skip_h1_title": false,
   "title_cell": "Table of Contents",
   "title_sidebar": "Contents",
   "toc_cell": false,
   "toc_position": {},
   "toc_section_display": true,
   "toc_window_display": false
  }
 },
 "nbformat": 4,
 "nbformat_minor": 4
}
