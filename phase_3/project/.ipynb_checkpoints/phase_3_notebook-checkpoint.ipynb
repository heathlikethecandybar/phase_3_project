{
 "cells": [
  {
   "cell_type": "markdown",
   "metadata": {},
   "source": [
    "# Final Project Submission\n",
    "\n",
    "* Student name: Heath Rittler\n",
    "* Student pace: Self paced\n",
    "* Scheduled project review date/time: \n",
    "* Instructor name: Mark Barbour\n",
    "* Blog post URL: https://medium.com/@heathlikethecandybar/"
   ]
  },
  {
   "cell_type": "markdown",
   "metadata": {
    "ExecuteTime": {
     "end_time": "2022-12-05T23:31:24.225801Z",
     "start_time": "2022-12-05T23:31:24.222306Z"
    }
   },
   "source": [
    "# Introduction"
   ]
  },
  {
   "cell_type": "markdown",
   "metadata": {},
   "source": [
    "## Business Case/ Summary"
   ]
  },
  {
   "cell_type": "markdown",
   "metadata": {},
   "source": [
    "SyriaTel, a telecommunications company wants to identify the leading factors of why a customer cancels their service.  This is also referred to as 'Churn.'  If they understand the factors that lead to churn, the company can implement programs to reduce the risk of churn, and increase the lifetime value of and for their customers.\n",
    "\n",
    "My goal is to build a classifer to predict whether a customer will stop doing business with SyriaTel using information such as usage, interactions with SyriaTel, and certain features that the customer has purchased.  I am mostly focused on reducing the rate of false negatives."
   ]
  },
  {
   "cell_type": "markdown",
   "metadata": {
    "ExecuteTime": {
     "end_time": "2022-12-05T23:31:56.326643Z",
     "start_time": "2022-12-05T23:31:56.324175Z"
    }
   },
   "source": [
    "## Core Field Names and Definitions from Data Source"
   ]
  },
  {
   "cell_type": "markdown",
   "metadata": {},
   "source": [
    "https://www.kaggle.com/datasets/becksddf/churn-in-telecoms-dataset\n",
    "\n",
    "* `state`- The state in which the account owner resides.\n",
    "* `account length` - \n",
    "* `area code` - Primary 3 digit area of the line for the account.\n",
    "* `phone number` - Primary 7 digit area of the line for the account.\n",
    "* `international plan` - Indicator denoting whether or not the account has an international feature.\n",
    "* `voice mail plan` - Indicator denoting whether or not the account has an voice mail feature.\n",
    "* `number vmail messages` - Usage metric counting the total number of voicemails for the phone number in question.\n",
    "* `total day minutes` - Usage metric indicating how many minutes (call time) were used between 6:00am and 5:00pm.\n",
    "* `total day calls` - Usage metric indicating how many calls were used between 6:00am and 5:00pm. \n",
    "* `total day charge` - Usage metric indicating how much the user was charged for their usage between 6:00am and 5:00pm.\n",
    "* `total eve minutes` - Usage metric indicating how many minutes (call time) were used between 5:01pm and 8:00pm.\n",
    "* `total eve calls` - Usage metric indicating how many calls were used between 5:01pm and 8:00pm. \n",
    "* `total eve charge` - Usage metric indicating how much the user was charged for their usage between 5:01pm and 8:00pm.\n",
    "* `total night minutes` - Usage metric indicating how many minutes (call time) were used between 8:01pm and 5:59am.\n",
    "* `total night calls` - Usage metric indicating how many calls were used between 8:01pm and 5:59am.\n",
    "* `total night charge` - Usage metric indicating how much the user was charged for their usage between 8:01pm and 5:59a.\n",
    "* `total intl minutes` - Usage metric indicating how many minutes (call time) were used internationally.\n",
    "* `total intl calls` - Usage metric indicating how many calls were made internationally.\n",
    "* `total intl charge` - Usage metric indicating how much the user was charged for their international call usage.\n",
    "* `customer service calls` - The total number of customer service calls made by the user to the Skyvia Customer Service line.\n",
    "* `churn` - Our target category indicating whether or not the customer churned/ cancelled their plan."
   ]
  },
  {
   "cell_type": "markdown",
   "metadata": {
    "ExecuteTime": {
     "end_time": "2022-12-05T23:33:58.458765Z",
     "start_time": "2022-12-05T23:33:58.456116Z"
    }
   },
   "source": [
    "# Data Load, Cleaning"
   ]
  },
  {
   "cell_type": "markdown",
   "metadata": {
    "ExecuteTime": {
     "end_time": "2022-12-05T23:34:45.455453Z",
     "start_time": "2022-12-05T23:34:45.452940Z"
    }
   },
   "source": [
    "## Importing Packages"
   ]
  },
  {
   "cell_type": "code",
   "execution_count": 255,
   "metadata": {
    "ExecuteTime": {
     "end_time": "2023-01-24T04:29:10.472138Z",
     "start_time": "2023-01-24T04:29:10.460769Z"
    }
   },
   "outputs": [],
   "source": [
    "# Importing packages for analysis\n",
    "\n",
    "import pandas as pd\n",
    "import numpy as np\n",
    "\n",
    "from matplotlib import pyplot as plt\n",
    "import matplotlib.ticker as mtick\n",
    "import seaborn as sns\n",
    "import statsmodels.api as sm\n",
    "from sklearn.linear_model import LinearRegression, LogisticRegression\n",
    "from sklearn.model_selection import train_test_split, cross_val_score, GridSearchCV, StratifiedKFold\n",
    "from sklearn.preprocessing import LabelEncoder\n",
    "from sklearn.pipeline import Pipeline\n",
    "from sklearn.preprocessing import OneHotEncoder, StandardScaler, FunctionTransformer\n",
    "from sklearn.impute import MissingIndicator, SimpleImputer\n",
    "from sklearn.compose import ColumnTransformer\n",
    "from sklearn.dummy import DummyClassifier\n",
    "from sklearn.metrics import plot_confusion_matrix\n",
    "from sklearn.metrics import confusion_matrix\n",
    "from sklearn.metrics import plot_roc_curve\n",
    "from sklearn.metrics import classification_report\n",
    "from sklearn.metrics import plot_roc_curve, roc_curve, roc_auc_score\n",
    "from sklearn.metrics import precision_score, recall_score, accuracy_score, f1_score\n",
    "from sklearn.neighbors import KNeighborsClassifier, NearestNeighbors\n",
    "from sklearn.ensemble import AdaBoostRegressor, GradientBoostingRegressor, AdaBoostClassifier, GradientBoostingClassifier, RandomForestClassifier\n",
    "from sklearn.tree import DecisionTreeRegressor, DecisionTreeClassifier, plot_tree\n",
    "from imblearn.over_sampling import SMOTE\n",
    "from imblearn.pipeline import Pipeline as ImPipeline\n",
    "\n",
    "import xgboost\n",
    "\n",
    "lr = LinearRegression()\n",
    "plt.style.use('seaborn-talk')\n",
    "import sklearn.metrics as metrics\n",
    "\n",
    "\n",
    "%matplotlib inline"
   ]
  },
  {
   "cell_type": "markdown",
   "metadata": {
    "ExecuteTime": {
     "end_time": "2022-12-05T23:35:01.964010Z",
     "start_time": "2022-12-05T23:35:01.961530Z"
    }
   },
   "source": [
    "## Choosing Colors & Templates"
   ]
  },
  {
   "cell_type": "code",
   "execution_count": 256,
   "metadata": {
    "ExecuteTime": {
     "end_time": "2023-01-24T04:29:10.544544Z",
     "start_time": "2023-01-24T04:29:10.475138Z"
    }
   },
   "outputs": [
    {
     "data": {
      "image/png": "[encoded data removed]",
      "text/plain": [
       "<Figure size 360x72 with 1 Axes>"
      ]
     },
     "metadata": {
      "needs_background": "light"
     },
     "output_type": "display_data"
    }
   ],
   "source": [
    "# Choosing standard colors for project\n",
    "\n",
    "pal = ['#37648C',\n",
    "        '#5687A6',\n",
    "        '#F2E4BB',\n",
    "        '#F29D52',\n",
    "        '#F26A4B']\n",
    "\n",
    "color_codes = ['darkblue', 'blue', 'beige', 'orange', 'redorange']\n",
    "\n",
    "c = lambda x: pal[color_codes.index(x)]\n",
    "\n",
    "sns.palplot(sns.color_palette(pal))\n",
    "\n",
    "div = []"
   ]
  },
  {
   "cell_type": "markdown",
   "metadata": {
    "ExecuteTime": {
     "end_time": "2022-12-05T23:35:49.207235Z",
     "start_time": "2022-12-05T23:35:49.204872Z"
    }
   },
   "source": [
    "## Import data"
   ]
  },
  {
   "cell_type": "code",
   "execution_count": 257,
   "metadata": {
    "ExecuteTime": {
     "end_time": "2023-01-24T04:29:10.588578Z",
     "start_time": "2023-01-24T04:29:10.547619Z"
    }
   },
   "outputs": [
    {
     "data": {
      "text/html": [
       "<div>\n",
       "<style scoped>\n",
       "    .dataframe tbody tr th:only-of-type {\n",
       "        vertical-align: middle;\n",
       "    }\n",
       "\n",
       "    .dataframe tbody tr th {\n",
       "        vertical-align: top;\n",
       "    }\n",
       "\n",
       "    .dataframe thead th {\n",
       "        text-align: right;\n",
       "    }\n",
       "</style>\n",
       "<table border=\"1\" class=\"dataframe\">\n",
       "  <thead>\n",
       "    <tr style=\"text-align: right;\">\n",
       "      <th></th>\n",
       "      <th>state</th>\n",
       "      <th>account length</th>\n",
       "      <th>area code</th>\n",
       "      <th>phone number</th>\n",
       "      <th>international plan</th>\n",
       "      <th>voice mail plan</th>\n",
       "      <th>number vmail messages</th>\n",
       "      <th>total day minutes</th>\n",
       "      <th>total day calls</th>\n",
       "      <th>total day charge</th>\n",
       "      <th>...</th>\n",
       "      <th>total eve calls</th>\n",
       "      <th>total eve charge</th>\n",
       "      <th>total night minutes</th>\n",
       "      <th>total night calls</th>\n",
       "      <th>total night charge</th>\n",
       "      <th>total intl minutes</th>\n",
       "      <th>total intl calls</th>\n",
       "      <th>total intl charge</th>\n",
       "      <th>customer service calls</th>\n",
       "      <th>churn</th>\n",
       "    </tr>\n",
       "  </thead>\n",
       "  <tbody>\n",
       "    <tr>\n",
       "      <th>0</th>\n",
       "      <td>KS</td>\n",
       "      <td>128</td>\n",
       "      <td>415</td>\n",
       "      <td>382-4657</td>\n",
       "      <td>no</td>\n",
       "      <td>yes</td>\n",
       "      <td>25</td>\n",
       "      <td>265.1</td>\n",
       "      <td>110</td>\n",
       "      <td>45.07</td>\n",
       "      <td>...</td>\n",
       "      <td>99</td>\n",
       "      <td>16.78</td>\n",
       "      <td>244.7</td>\n",
       "      <td>91</td>\n",
       "      <td>11.01</td>\n",
       "      <td>10.0</td>\n",
       "      <td>3</td>\n",
       "      <td>2.70</td>\n",
       "      <td>1</td>\n",
       "      <td>False</td>\n",
       "    </tr>\n",
       "    <tr>\n",
       "      <th>1</th>\n",
       "      <td>OH</td>\n",
       "      <td>107</td>\n",
       "      <td>415</td>\n",
       "      <td>371-7191</td>\n",
       "      <td>no</td>\n",
       "      <td>yes</td>\n",
       "      <td>26</td>\n",
       "      <td>161.6</td>\n",
       "      <td>123</td>\n",
       "      <td>27.47</td>\n",
       "      <td>...</td>\n",
       "      <td>103</td>\n",
       "      <td>16.62</td>\n",
       "      <td>254.4</td>\n",
       "      <td>103</td>\n",
       "      <td>11.45</td>\n",
       "      <td>13.7</td>\n",
       "      <td>3</td>\n",
       "      <td>3.70</td>\n",
       "      <td>1</td>\n",
       "      <td>False</td>\n",
       "    </tr>\n",
       "    <tr>\n",
       "      <th>2</th>\n",
       "      <td>NJ</td>\n",
       "      <td>137</td>\n",
       "      <td>415</td>\n",
       "      <td>358-1921</td>\n",
       "      <td>no</td>\n",
       "      <td>no</td>\n",
       "      <td>0</td>\n",
       "      <td>243.4</td>\n",
       "      <td>114</td>\n",
       "      <td>41.38</td>\n",
       "      <td>...</td>\n",
       "      <td>110</td>\n",
       "      <td>10.30</td>\n",
       "      <td>162.6</td>\n",
       "      <td>104</td>\n",
       "      <td>7.32</td>\n",
       "      <td>12.2</td>\n",
       "      <td>5</td>\n",
       "      <td>3.29</td>\n",
       "      <td>0</td>\n",
       "      <td>False</td>\n",
       "    </tr>\n",
       "    <tr>\n",
       "      <th>3</th>\n",
       "      <td>OH</td>\n",
       "      <td>84</td>\n",
       "      <td>408</td>\n",
       "      <td>375-9999</td>\n",
       "      <td>yes</td>\n",
       "      <td>no</td>\n",
       "      <td>0</td>\n",
       "      <td>299.4</td>\n",
       "      <td>71</td>\n",
       "      <td>50.90</td>\n",
       "      <td>...</td>\n",
       "      <td>88</td>\n",
       "      <td>5.26</td>\n",
       "      <td>196.9</td>\n",
       "      <td>89</td>\n",
       "      <td>8.86</td>\n",
       "      <td>6.6</td>\n",
       "      <td>7</td>\n",
       "      <td>1.78</td>\n",
       "      <td>2</td>\n",
       "      <td>False</td>\n",
       "    </tr>\n",
       "    <tr>\n",
       "      <th>4</th>\n",
       "      <td>OK</td>\n",
       "      <td>75</td>\n",
       "      <td>415</td>\n",
       "      <td>330-6626</td>\n",
       "      <td>yes</td>\n",
       "      <td>no</td>\n",
       "      <td>0</td>\n",
       "      <td>166.7</td>\n",
       "      <td>113</td>\n",
       "      <td>28.34</td>\n",
       "      <td>...</td>\n",
       "      <td>122</td>\n",
       "      <td>12.61</td>\n",
       "      <td>186.9</td>\n",
       "      <td>121</td>\n",
       "      <td>8.41</td>\n",
       "      <td>10.1</td>\n",
       "      <td>3</td>\n",
       "      <td>2.73</td>\n",
       "      <td>3</td>\n",
       "      <td>False</td>\n",
       "    </tr>\n",
       "  </tbody>\n",
       "</table>\n",
       "<p>5 rows × 21 columns</p>\n",
       "</div>"
      ],
      "text/plain": [
       "  state  account length  area code phone number international plan  \\\n",
       "0    KS             128        415     382-4657                 no   \n",
       "1    OH             107        415     371-7191                 no   \n",
       "2    NJ             137        415     358-1921                 no   \n",
       "3    OH              84        408     375-9999                yes   \n",
       "4    OK              75        415     330-6626                yes   \n",
       "\n",
       "  voice mail plan  number vmail messages  total day minutes  total day calls  \\\n",
       "0             yes                     25              265.1              110   \n",
       "1             yes                     26              161.6              123   \n",
       "2              no                      0              243.4              114   \n",
       "3              no                      0              299.4               71   \n",
       "4              no                      0              166.7              113   \n",
       "\n",
       "   total day charge  ...  total eve calls  total eve charge  \\\n",
       "0             45.07  ...               99             16.78   \n",
       "1             27.47  ...              103             16.62   \n",
       "2             41.38  ...              110             10.30   \n",
       "3             50.90  ...               88              5.26   \n",
       "4             28.34  ...              122             12.61   \n",
       "\n",
       "   total night minutes  total night calls  total night charge  \\\n",
       "0                244.7                 91               11.01   \n",
       "1                254.4                103               11.45   \n",
       "2                162.6                104                7.32   \n",
       "3                196.9                 89                8.86   \n",
       "4                186.9                121                8.41   \n",
       "\n",
       "   total intl minutes  total intl calls  total intl charge  \\\n",
       "0                10.0                 3               2.70   \n",
       "1                13.7                 3               3.70   \n",
       "2                12.2                 5               3.29   \n",
       "3                 6.6                 7               1.78   \n",
       "4                10.1                 3               2.73   \n",
       "\n",
       "   customer service calls  churn  \n",
       "0                       1  False  \n",
       "1                       1  False  \n",
       "2                       0  False  \n",
       "3                       2  False  \n",
       "4                       3  False  \n",
       "\n",
       "[5 rows x 21 columns]"
      ]
     },
     "execution_count": 257,
     "metadata": {},
     "output_type": "execute_result"
    }
   ],
   "source": [
    "# Importing data and viewing the first 5 rows\n",
    "\n",
    "df = pd.read_csv('data/data.csv')\n",
    "\n",
    "df.head()"
   ]
  },
  {
   "cell_type": "code",
   "execution_count": 258,
   "metadata": {
    "ExecuteTime": {
     "end_time": "2023-01-24T04:29:10.594742Z",
     "start_time": "2023-01-24T04:29:10.591545Z"
    }
   },
   "outputs": [],
   "source": [
    "# Updating column names to have an _ vs a space\n",
    "\n",
    "df.columns = [c.replace(' ', '_') for c in df.columns]"
   ]
  },
  {
   "cell_type": "code",
   "execution_count": 259,
   "metadata": {
    "ExecuteTime": {
     "end_time": "2023-01-24T04:29:10.608508Z",
     "start_time": "2023-01-24T04:29:10.597219Z"
    },
    "scrolled": false
   },
   "outputs": [
    {
     "name": "stdout",
     "output_type": "stream",
     "text": [
      "<class 'pandas.core.frame.DataFrame'>\n",
      "RangeIndex: 3333 entries, 0 to 3332\n",
      "Data columns (total 21 columns):\n",
      " #   Column                  Non-Null Count  Dtype  \n",
      "---  ------                  --------------  -----  \n",
      " 0   state                   3333 non-null   object \n",
      " 1   account_length          3333 non-null   int64  \n",
      " 2   area_code               3333 non-null   int64  \n",
      " 3   phone_number            3333 non-null   object \n",
      " 4   international_plan      3333 non-null   object \n",
      " 5   voice_mail_plan         3333 non-null   object \n",
      " 6   number_vmail_messages   3333 non-null   int64  \n",
      " 7   total_day_minutes       3333 non-null   float64\n",
      " 8   total_day_calls         3333 non-null   int64  \n",
      " 9   total_day_charge        3333 non-null   float64\n",
      " 10  total_eve_minutes       3333 non-null   float64\n",
      " 11  total_eve_calls         3333 non-null   int64  \n",
      " 12  total_eve_charge        3333 non-null   float64\n",
      " 13  total_night_minutes     3333 non-null   float64\n",
      " 14  total_night_calls       3333 non-null   int64  \n",
      " 15  total_night_charge      3333 non-null   float64\n",
      " 16  total_intl_minutes      3333 non-null   float64\n",
      " 17  total_intl_calls        3333 non-null   int64  \n",
      " 18  total_intl_charge       3333 non-null   float64\n",
      " 19  customer_service_calls  3333 non-null   int64  \n",
      " 20  churn                   3333 non-null   bool   \n",
      "dtypes: bool(1), float64(8), int64(8), object(4)\n",
      "memory usage: 524.2+ KB\n"
     ]
    }
   ],
   "source": [
    "# Taking a quick peak at our datatypes for any transformations needed.\n",
    "\n",
    "df.info()"
   ]
  },
  {
   "cell_type": "markdown",
   "metadata": {},
   "source": [
    "Looks like we have a few categorical variables in which we will need to encode.  We'll look at that here in a bit.  First I want to make sure our dataset is complete. Moving on to checking to see if we need to remove or impute any data before any transformations."
   ]
  },
  {
   "cell_type": "code",
   "execution_count": 260,
   "metadata": {
    "ExecuteTime": {
     "end_time": "2023-01-24T04:29:10.618035Z",
     "start_time": "2023-01-24T04:29:10.610901Z"
    }
   },
   "outputs": [
    {
     "data": {
      "text/plain": [
       "state                     0\n",
       "account_length            0\n",
       "area_code                 0\n",
       "phone_number              0\n",
       "international_plan        0\n",
       "voice_mail_plan           0\n",
       "number_vmail_messages     0\n",
       "total_day_minutes         0\n",
       "total_day_calls           0\n",
       "total_day_charge          0\n",
       "total_eve_minutes         0\n",
       "total_eve_calls           0\n",
       "total_eve_charge          0\n",
       "total_night_minutes       0\n",
       "total_night_calls         0\n",
       "total_night_charge        0\n",
       "total_intl_minutes        0\n",
       "total_intl_calls          0\n",
       "total_intl_charge         0\n",
       "customer_service_calls    0\n",
       "churn                     0\n",
       "dtype: int64"
      ]
     },
     "execution_count": 260,
     "metadata": {},
     "output_type": "execute_result"
    }
   ],
   "source": [
    "# Checking for missing values.\n",
    "\n",
    "df.isna().sum()"
   ]
  },
  {
   "cell_type": "markdown",
   "metadata": {},
   "source": [
    "No missing values. Going to create some columns to add together all of our minutes, calls, and charges.  We might be able to reduce the number of dimensions we have if the customer is not using the plan at all.  We may drop these later, but let's add them while we are in the mood."
   ]
  },
  {
   "cell_type": "code",
   "execution_count": 261,
   "metadata": {
    "ExecuteTime": {
     "end_time": "2023-01-24T04:29:10.624690Z",
     "start_time": "2023-01-24T04:29:10.620190Z"
    }
   },
   "outputs": [],
   "source": [
    "# Adding column for total calls\n",
    "\n",
    "df['total_calls'] = (df['total_day_calls'] +\n",
    "                    df['total_eve_calls'] + \n",
    "                    df['total_night_calls'] + \n",
    "                    df['total_intl_calls']\n",
    "                    )"
   ]
  },
  {
   "cell_type": "code",
   "execution_count": 262,
   "metadata": {
    "ExecuteTime": {
     "end_time": "2023-01-24T04:29:10.633265Z",
     "start_time": "2023-01-24T04:29:10.629011Z"
    }
   },
   "outputs": [],
   "source": [
    "# Adding column for total minutes\n",
    "\n",
    "df['total_charges'] = (df['total_day_charge'] + \n",
    "                    df['total_eve_charge'] + \n",
    "                    df['total_night_charge'] + \n",
    "                    df['total_intl_charge']\n",
    "                      )"
   ]
  },
  {
   "cell_type": "code",
   "execution_count": 263,
   "metadata": {
    "ExecuteTime": {
     "end_time": "2023-01-24T04:29:10.641366Z",
     "start_time": "2023-01-24T04:29:10.637039Z"
    }
   },
   "outputs": [],
   "source": [
    "# Adding column for total charges\n",
    "\n",
    "df['total_minutes'] = (df['total_day_minutes'] + \n",
    "                    df['total_eve_minutes'] + \n",
    "                    df['total_night_minutes'] + \n",
    "                    df['total_intl_minutes']\n",
    "                      )"
   ]
  },
  {
   "cell_type": "code",
   "execution_count": 264,
   "metadata": {
    "ExecuteTime": {
     "end_time": "2023-01-24T04:29:10.647919Z",
     "start_time": "2023-01-24T04:29:10.644250Z"
    }
   },
   "outputs": [],
   "source": [
    "# Adding column for price per minute\n",
    "\n",
    "df['price_per_minute'] = df['total_day_charge']/df['total_minutes']"
   ]
  },
  {
   "cell_type": "code",
   "execution_count": 265,
   "metadata": {
    "ExecuteTime": {
     "end_time": "2023-01-24T04:29:10.678552Z",
     "start_time": "2023-01-24T04:29:10.650455Z"
    },
    "scrolled": true
   },
   "outputs": [
    {
     "data": {
      "text/html": [
       "<div>\n",
       "<style scoped>\n",
       "    .dataframe tbody tr th:only-of-type {\n",
       "        vertical-align: middle;\n",
       "    }\n",
       "\n",
       "    .dataframe tbody tr th {\n",
       "        vertical-align: top;\n",
       "    }\n",
       "\n",
       "    .dataframe thead th {\n",
       "        text-align: right;\n",
       "    }\n",
       "</style>\n",
       "<table border=\"1\" class=\"dataframe\">\n",
       "  <thead>\n",
       "    <tr style=\"text-align: right;\">\n",
       "      <th></th>\n",
       "      <th>state</th>\n",
       "      <th>account_length</th>\n",
       "      <th>area_code</th>\n",
       "      <th>phone_number</th>\n",
       "      <th>international_plan</th>\n",
       "      <th>voice_mail_plan</th>\n",
       "      <th>number_vmail_messages</th>\n",
       "      <th>total_day_minutes</th>\n",
       "      <th>total_day_calls</th>\n",
       "      <th>total_day_charge</th>\n",
       "      <th>...</th>\n",
       "      <th>total_night_charge</th>\n",
       "      <th>total_intl_minutes</th>\n",
       "      <th>total_intl_calls</th>\n",
       "      <th>total_intl_charge</th>\n",
       "      <th>customer_service_calls</th>\n",
       "      <th>churn</th>\n",
       "      <th>total_calls</th>\n",
       "      <th>total_charges</th>\n",
       "      <th>total_minutes</th>\n",
       "      <th>price_per_minute</th>\n",
       "    </tr>\n",
       "  </thead>\n",
       "  <tbody>\n",
       "    <tr>\n",
       "      <th>0</th>\n",
       "      <td>KS</td>\n",
       "      <td>128</td>\n",
       "      <td>415</td>\n",
       "      <td>382-4657</td>\n",
       "      <td>no</td>\n",
       "      <td>yes</td>\n",
       "      <td>25</td>\n",
       "      <td>265.1</td>\n",
       "      <td>110</td>\n",
       "      <td>45.07</td>\n",
       "      <td>...</td>\n",
       "      <td>11.01</td>\n",
       "      <td>10.0</td>\n",
       "      <td>3</td>\n",
       "      <td>2.70</td>\n",
       "      <td>1</td>\n",
       "      <td>False</td>\n",
       "      <td>303</td>\n",
       "      <td>75.56</td>\n",
       "      <td>717.2</td>\n",
       "      <td>0.062842</td>\n",
       "    </tr>\n",
       "    <tr>\n",
       "      <th>1</th>\n",
       "      <td>OH</td>\n",
       "      <td>107</td>\n",
       "      <td>415</td>\n",
       "      <td>371-7191</td>\n",
       "      <td>no</td>\n",
       "      <td>yes</td>\n",
       "      <td>26</td>\n",
       "      <td>161.6</td>\n",
       "      <td>123</td>\n",
       "      <td>27.47</td>\n",
       "      <td>...</td>\n",
       "      <td>11.45</td>\n",
       "      <td>13.7</td>\n",
       "      <td>3</td>\n",
       "      <td>3.70</td>\n",
       "      <td>1</td>\n",
       "      <td>False</td>\n",
       "      <td>332</td>\n",
       "      <td>59.24</td>\n",
       "      <td>625.2</td>\n",
       "      <td>0.043938</td>\n",
       "    </tr>\n",
       "    <tr>\n",
       "      <th>2</th>\n",
       "      <td>NJ</td>\n",
       "      <td>137</td>\n",
       "      <td>415</td>\n",
       "      <td>358-1921</td>\n",
       "      <td>no</td>\n",
       "      <td>no</td>\n",
       "      <td>0</td>\n",
       "      <td>243.4</td>\n",
       "      <td>114</td>\n",
       "      <td>41.38</td>\n",
       "      <td>...</td>\n",
       "      <td>7.32</td>\n",
       "      <td>12.2</td>\n",
       "      <td>5</td>\n",
       "      <td>3.29</td>\n",
       "      <td>0</td>\n",
       "      <td>False</td>\n",
       "      <td>333</td>\n",
       "      <td>62.29</td>\n",
       "      <td>539.4</td>\n",
       "      <td>0.076715</td>\n",
       "    </tr>\n",
       "    <tr>\n",
       "      <th>3</th>\n",
       "      <td>OH</td>\n",
       "      <td>84</td>\n",
       "      <td>408</td>\n",
       "      <td>375-9999</td>\n",
       "      <td>yes</td>\n",
       "      <td>no</td>\n",
       "      <td>0</td>\n",
       "      <td>299.4</td>\n",
       "      <td>71</td>\n",
       "      <td>50.90</td>\n",
       "      <td>...</td>\n",
       "      <td>8.86</td>\n",
       "      <td>6.6</td>\n",
       "      <td>7</td>\n",
       "      <td>1.78</td>\n",
       "      <td>2</td>\n",
       "      <td>False</td>\n",
       "      <td>255</td>\n",
       "      <td>66.80</td>\n",
       "      <td>564.8</td>\n",
       "      <td>0.090120</td>\n",
       "    </tr>\n",
       "    <tr>\n",
       "      <th>4</th>\n",
       "      <td>OK</td>\n",
       "      <td>75</td>\n",
       "      <td>415</td>\n",
       "      <td>330-6626</td>\n",
       "      <td>yes</td>\n",
       "      <td>no</td>\n",
       "      <td>0</td>\n",
       "      <td>166.7</td>\n",
       "      <td>113</td>\n",
       "      <td>28.34</td>\n",
       "      <td>...</td>\n",
       "      <td>8.41</td>\n",
       "      <td>10.1</td>\n",
       "      <td>3</td>\n",
       "      <td>2.73</td>\n",
       "      <td>3</td>\n",
       "      <td>False</td>\n",
       "      <td>359</td>\n",
       "      <td>52.09</td>\n",
       "      <td>512.0</td>\n",
       "      <td>0.055352</td>\n",
       "    </tr>\n",
       "  </tbody>\n",
       "</table>\n",
       "<p>5 rows × 25 columns</p>\n",
       "</div>"
      ],
      "text/plain": [
       "  state  account_length  area_code phone_number international_plan  \\\n",
       "0    KS             128        415     382-4657                 no   \n",
       "1    OH             107        415     371-7191                 no   \n",
       "2    NJ             137        415     358-1921                 no   \n",
       "3    OH              84        408     375-9999                yes   \n",
       "4    OK              75        415     330-6626                yes   \n",
       "\n",
       "  voice_mail_plan  number_vmail_messages  total_day_minutes  total_day_calls  \\\n",
       "0             yes                     25              265.1              110   \n",
       "1             yes                     26              161.6              123   \n",
       "2              no                      0              243.4              114   \n",
       "3              no                      0              299.4               71   \n",
       "4              no                      0              166.7              113   \n",
       "\n",
       "   total_day_charge  ...  total_night_charge  total_intl_minutes  \\\n",
       "0             45.07  ...               11.01                10.0   \n",
       "1             27.47  ...               11.45                13.7   \n",
       "2             41.38  ...                7.32                12.2   \n",
       "3             50.90  ...                8.86                 6.6   \n",
       "4             28.34  ...                8.41                10.1   \n",
       "\n",
       "   total_intl_calls  total_intl_charge  customer_service_calls  churn  \\\n",
       "0                 3               2.70                       1  False   \n",
       "1                 3               3.70                       1  False   \n",
       "2                 5               3.29                       0  False   \n",
       "3                 7               1.78                       2  False   \n",
       "4                 3               2.73                       3  False   \n",
       "\n",
       "   total_calls  total_charges  total_minutes  price_per_minute  \n",
       "0          303          75.56          717.2          0.062842  \n",
       "1          332          59.24          625.2          0.043938  \n",
       "2          333          62.29          539.4          0.076715  \n",
       "3          255          66.80          564.8          0.090120  \n",
       "4          359          52.09          512.0          0.055352  \n",
       "\n",
       "[5 rows x 25 columns]"
      ]
     },
     "execution_count": 265,
     "metadata": {},
     "output_type": "execute_result"
    }
   ],
   "source": [
    "# Quick check to make sure our columns were added correctly and math checks out\n",
    "\n",
    "df.head()"
   ]
  },
  {
   "cell_type": "markdown",
   "metadata": {},
   "source": [
    "Calculations are looking good.  These will primarily serve as EDA helper stats.  Since they are formulas based on existing fields, I would assume that we will see a high level of colinearity within these added metrics."
   ]
  },
  {
   "cell_type": "code",
   "execution_count": 266,
   "metadata": {
    "ExecuteTime": {
     "end_time": "2023-01-24T04:29:10.761389Z",
     "start_time": "2023-01-24T04:29:10.680866Z"
    },
    "scrolled": false
   },
   "outputs": [
    {
     "data": {
      "text/html": [
       "<div>\n",
       "<style scoped>\n",
       "    .dataframe tbody tr th:only-of-type {\n",
       "        vertical-align: middle;\n",
       "    }\n",
       "\n",
       "    .dataframe tbody tr th {\n",
       "        vertical-align: top;\n",
       "    }\n",
       "\n",
       "    .dataframe thead th {\n",
       "        text-align: right;\n",
       "    }\n",
       "</style>\n",
       "<table border=\"1\" class=\"dataframe\">\n",
       "  <thead>\n",
       "    <tr style=\"text-align: right;\">\n",
       "      <th></th>\n",
       "      <th>account_length</th>\n",
       "      <th>area_code</th>\n",
       "      <th>number_vmail_messages</th>\n",
       "      <th>total_day_minutes</th>\n",
       "      <th>total_day_calls</th>\n",
       "      <th>total_day_charge</th>\n",
       "      <th>total_eve_minutes</th>\n",
       "      <th>total_eve_calls</th>\n",
       "      <th>total_eve_charge</th>\n",
       "      <th>total_night_minutes</th>\n",
       "      <th>total_night_calls</th>\n",
       "      <th>total_night_charge</th>\n",
       "      <th>total_intl_minutes</th>\n",
       "      <th>total_intl_calls</th>\n",
       "      <th>total_intl_charge</th>\n",
       "      <th>customer_service_calls</th>\n",
       "      <th>total_calls</th>\n",
       "      <th>total_charges</th>\n",
       "      <th>total_minutes</th>\n",
       "      <th>price_per_minute</th>\n",
       "    </tr>\n",
       "  </thead>\n",
       "  <tbody>\n",
       "    <tr>\n",
       "      <th>count</th>\n",
       "      <td>3333.000000</td>\n",
       "      <td>3333.000000</td>\n",
       "      <td>3333.000000</td>\n",
       "      <td>3333.000000</td>\n",
       "      <td>3333.000000</td>\n",
       "      <td>3333.000000</td>\n",
       "      <td>3333.000000</td>\n",
       "      <td>3333.000000</td>\n",
       "      <td>3333.000000</td>\n",
       "      <td>3333.000000</td>\n",
       "      <td>3333.000000</td>\n",
       "      <td>3333.000000</td>\n",
       "      <td>3333.000000</td>\n",
       "      <td>3333.000000</td>\n",
       "      <td>3333.000000</td>\n",
       "      <td>3333.000000</td>\n",
       "      <td>3333.000000</td>\n",
       "      <td>3333.000000</td>\n",
       "      <td>3333.000000</td>\n",
       "      <td>3333.000000</td>\n",
       "    </tr>\n",
       "    <tr>\n",
       "      <th>mean</th>\n",
       "      <td>101.064806</td>\n",
       "      <td>437.182418</td>\n",
       "      <td>8.099010</td>\n",
       "      <td>179.775098</td>\n",
       "      <td>100.435644</td>\n",
       "      <td>30.562307</td>\n",
       "      <td>200.980348</td>\n",
       "      <td>100.114311</td>\n",
       "      <td>17.083540</td>\n",
       "      <td>200.872037</td>\n",
       "      <td>100.107711</td>\n",
       "      <td>9.039325</td>\n",
       "      <td>10.237294</td>\n",
       "      <td>4.479448</td>\n",
       "      <td>2.764581</td>\n",
       "      <td>1.562856</td>\n",
       "      <td>305.137114</td>\n",
       "      <td>59.449754</td>\n",
       "      <td>591.864776</td>\n",
       "      <td>0.051355</td>\n",
       "    </tr>\n",
       "    <tr>\n",
       "      <th>std</th>\n",
       "      <td>39.822106</td>\n",
       "      <td>42.371290</td>\n",
       "      <td>13.688365</td>\n",
       "      <td>54.467389</td>\n",
       "      <td>20.069084</td>\n",
       "      <td>9.259435</td>\n",
       "      <td>50.713844</td>\n",
       "      <td>19.922625</td>\n",
       "      <td>4.310668</td>\n",
       "      <td>50.573847</td>\n",
       "      <td>19.568609</td>\n",
       "      <td>2.275873</td>\n",
       "      <td>2.791840</td>\n",
       "      <td>2.461214</td>\n",
       "      <td>0.753773</td>\n",
       "      <td>1.315491</td>\n",
       "      <td>34.448164</td>\n",
       "      <td>10.502261</td>\n",
       "      <td>89.954251</td>\n",
       "      <td>0.013085</td>\n",
       "    </tr>\n",
       "    <tr>\n",
       "      <th>min</th>\n",
       "      <td>1.000000</td>\n",
       "      <td>408.000000</td>\n",
       "      <td>0.000000</td>\n",
       "      <td>0.000000</td>\n",
       "      <td>0.000000</td>\n",
       "      <td>0.000000</td>\n",
       "      <td>0.000000</td>\n",
       "      <td>0.000000</td>\n",
       "      <td>0.000000</td>\n",
       "      <td>23.200000</td>\n",
       "      <td>33.000000</td>\n",
       "      <td>1.040000</td>\n",
       "      <td>0.000000</td>\n",
       "      <td>0.000000</td>\n",
       "      <td>0.000000</td>\n",
       "      <td>0.000000</td>\n",
       "      <td>191.000000</td>\n",
       "      <td>22.930000</td>\n",
       "      <td>284.300000</td>\n",
       "      <td>0.000000</td>\n",
       "    </tr>\n",
       "    <tr>\n",
       "      <th>25%</th>\n",
       "      <td>74.000000</td>\n",
       "      <td>408.000000</td>\n",
       "      <td>0.000000</td>\n",
       "      <td>143.700000</td>\n",
       "      <td>87.000000</td>\n",
       "      <td>24.430000</td>\n",
       "      <td>166.600000</td>\n",
       "      <td>87.000000</td>\n",
       "      <td>14.160000</td>\n",
       "      <td>167.000000</td>\n",
       "      <td>87.000000</td>\n",
       "      <td>7.520000</td>\n",
       "      <td>8.500000</td>\n",
       "      <td>3.000000</td>\n",
       "      <td>2.300000</td>\n",
       "      <td>1.000000</td>\n",
       "      <td>282.000000</td>\n",
       "      <td>52.380000</td>\n",
       "      <td>531.500000</td>\n",
       "      <td>0.042939</td>\n",
       "    </tr>\n",
       "    <tr>\n",
       "      <th>50%</th>\n",
       "      <td>101.000000</td>\n",
       "      <td>415.000000</td>\n",
       "      <td>0.000000</td>\n",
       "      <td>179.400000</td>\n",
       "      <td>101.000000</td>\n",
       "      <td>30.500000</td>\n",
       "      <td>201.400000</td>\n",
       "      <td>100.000000</td>\n",
       "      <td>17.120000</td>\n",
       "      <td>201.200000</td>\n",
       "      <td>100.000000</td>\n",
       "      <td>9.050000</td>\n",
       "      <td>10.300000</td>\n",
       "      <td>4.000000</td>\n",
       "      <td>2.780000</td>\n",
       "      <td>1.000000</td>\n",
       "      <td>305.000000</td>\n",
       "      <td>59.470000</td>\n",
       "      <td>593.600000</td>\n",
       "      <td>0.051557</td>\n",
       "    </tr>\n",
       "    <tr>\n",
       "      <th>75%</th>\n",
       "      <td>127.000000</td>\n",
       "      <td>510.000000</td>\n",
       "      <td>20.000000</td>\n",
       "      <td>216.400000</td>\n",
       "      <td>114.000000</td>\n",
       "      <td>36.790000</td>\n",
       "      <td>235.300000</td>\n",
       "      <td>114.000000</td>\n",
       "      <td>20.000000</td>\n",
       "      <td>235.300000</td>\n",
       "      <td>113.000000</td>\n",
       "      <td>10.590000</td>\n",
       "      <td>12.100000</td>\n",
       "      <td>6.000000</td>\n",
       "      <td>3.270000</td>\n",
       "      <td>2.000000</td>\n",
       "      <td>328.000000</td>\n",
       "      <td>66.480000</td>\n",
       "      <td>652.400000</td>\n",
       "      <td>0.060121</td>\n",
       "    </tr>\n",
       "    <tr>\n",
       "      <th>max</th>\n",
       "      <td>243.000000</td>\n",
       "      <td>510.000000</td>\n",
       "      <td>51.000000</td>\n",
       "      <td>350.800000</td>\n",
       "      <td>165.000000</td>\n",
       "      <td>59.640000</td>\n",
       "      <td>363.700000</td>\n",
       "      <td>170.000000</td>\n",
       "      <td>30.910000</td>\n",
       "      <td>395.000000</td>\n",
       "      <td>175.000000</td>\n",
       "      <td>17.770000</td>\n",
       "      <td>20.000000</td>\n",
       "      <td>20.000000</td>\n",
       "      <td>5.400000</td>\n",
       "      <td>9.000000</td>\n",
       "      <td>416.000000</td>\n",
       "      <td>96.150000</td>\n",
       "      <td>885.000000</td>\n",
       "      <td>0.096748</td>\n",
       "    </tr>\n",
       "  </tbody>\n",
       "</table>\n",
       "</div>"
      ],
      "text/plain": [
       "       account_length    area_code  number_vmail_messages  total_day_minutes  \\\n",
       "count     3333.000000  3333.000000            3333.000000        3333.000000   \n",
       "mean       101.064806   437.182418               8.099010         179.775098   \n",
       "std         39.822106    42.371290              13.688365          54.467389   \n",
       "min          1.000000   408.000000               0.000000           0.000000   \n",
       "25%         74.000000   408.000000               0.000000         143.700000   \n",
       "50%        101.000000   415.000000               0.000000         179.400000   \n",
       "75%        127.000000   510.000000              20.000000         216.400000   \n",
       "max        243.000000   510.000000              51.000000         350.800000   \n",
       "\n",
       "       total_day_calls  total_day_charge  total_eve_minutes  total_eve_calls  \\\n",
       "count      3333.000000       3333.000000        3333.000000      3333.000000   \n",
       "mean        100.435644         30.562307         200.980348       100.114311   \n",
       "std          20.069084          9.259435          50.713844        19.922625   \n",
       "min           0.000000          0.000000           0.000000         0.000000   \n",
       "25%          87.000000         24.430000         166.600000        87.000000   \n",
       "50%         101.000000         30.500000         201.400000       100.000000   \n",
       "75%         114.000000         36.790000         235.300000       114.000000   \n",
       "max         165.000000         59.640000         363.700000       170.000000   \n",
       "\n",
       "       total_eve_charge  total_night_minutes  total_night_calls  \\\n",
       "count       3333.000000          3333.000000        3333.000000   \n",
       "mean          17.083540           200.872037         100.107711   \n",
       "std            4.310668            50.573847          19.568609   \n",
       "min            0.000000            23.200000          33.000000   \n",
       "25%           14.160000           167.000000          87.000000   \n",
       "50%           17.120000           201.200000         100.000000   \n",
       "75%           20.000000           235.300000         113.000000   \n",
       "max           30.910000           395.000000         175.000000   \n",
       "\n",
       "       total_night_charge  total_intl_minutes  total_intl_calls  \\\n",
       "count         3333.000000         3333.000000       3333.000000   \n",
       "mean             9.039325           10.237294          4.479448   \n",
       "std              2.275873            2.791840          2.461214   \n",
       "min              1.040000            0.000000          0.000000   \n",
       "25%              7.520000            8.500000          3.000000   \n",
       "50%              9.050000           10.300000          4.000000   \n",
       "75%             10.590000           12.100000          6.000000   \n",
       "max             17.770000           20.000000         20.000000   \n",
       "\n",
       "       total_intl_charge  customer_service_calls  total_calls  total_charges  \\\n",
       "count        3333.000000             3333.000000  3333.000000    3333.000000   \n",
       "mean            2.764581                1.562856   305.137114      59.449754   \n",
       "std             0.753773                1.315491    34.448164      10.502261   \n",
       "min             0.000000                0.000000   191.000000      22.930000   \n",
       "25%             2.300000                1.000000   282.000000      52.380000   \n",
       "50%             2.780000                1.000000   305.000000      59.470000   \n",
       "75%             3.270000                2.000000   328.000000      66.480000   \n",
       "max             5.400000                9.000000   416.000000      96.150000   \n",
       "\n",
       "       total_minutes  price_per_minute  \n",
       "count    3333.000000       3333.000000  \n",
       "mean      591.864776          0.051355  \n",
       "std        89.954251          0.013085  \n",
       "min       284.300000          0.000000  \n",
       "25%       531.500000          0.042939  \n",
       "50%       593.600000          0.051557  \n",
       "75%       652.400000          0.060121  \n",
       "max       885.000000          0.096748  "
      ]
     },
     "execution_count": 266,
     "metadata": {},
     "output_type": "execute_result"
    }
   ],
   "source": [
    "df.describe()"
   ]
  },
  {
   "cell_type": "markdown",
   "metadata": {},
   "source": [
    "## Features of the cell phone plan EDA"
   ]
  },
  {
   "cell_type": "markdown",
   "metadata": {},
   "source": [
    "At first glance, our data seems to be pretty well distributed within our numeric columns.  This is evidenced by the closeness between our mean and median values.  Since we know that our target variable is imbalanced (churn accounts for roughly 15% of the total dataset).  There are only a few other features that are tied to the account besides the usage, and those are voice_mail_plan, international_plan, and customer_service_calls.  Let's dig into those next!"
   ]
  },
  {
   "cell_type": "markdown",
   "metadata": {},
   "source": [
    "There are 323 accounts that purchased a international plan (roughly 10% of customers.). Going to take a look to see if churn within the international accounts is similar to those accounts that did not purchase international plans."
   ]
  },
  {
   "cell_type": "code",
   "execution_count": 267,
   "metadata": {
    "ExecuteTime": {
     "end_time": "2023-01-24T04:29:10.781145Z",
     "start_time": "2023-01-24T04:29:10.763740Z"
    },
    "scrolled": false
   },
   "outputs": [
    {
     "data": {
      "text/html": [
       "<div>\n",
       "<style scoped>\n",
       "    .dataframe tbody tr th:only-of-type {\n",
       "        vertical-align: middle;\n",
       "    }\n",
       "\n",
       "    .dataframe tbody tr th {\n",
       "        vertical-align: top;\n",
       "    }\n",
       "\n",
       "    .dataframe thead th {\n",
       "        text-align: right;\n",
       "    }\n",
       "</style>\n",
       "<table border=\"1\" class=\"dataframe\">\n",
       "  <thead>\n",
       "    <tr style=\"text-align: right;\">\n",
       "      <th>churn</th>\n",
       "      <th>False</th>\n",
       "      <th>True</th>\n",
       "    </tr>\n",
       "    <tr>\n",
       "      <th>international_plan</th>\n",
       "      <th></th>\n",
       "      <th></th>\n",
       "    </tr>\n",
       "  </thead>\n",
       "  <tbody>\n",
       "    <tr>\n",
       "      <th>no</th>\n",
       "      <td>2664</td>\n",
       "      <td>346</td>\n",
       "    </tr>\n",
       "    <tr>\n",
       "      <th>yes</th>\n",
       "      <td>186</td>\n",
       "      <td>137</td>\n",
       "    </tr>\n",
       "  </tbody>\n",
       "</table>\n",
       "</div>"
      ],
      "text/plain": [
       "churn               False  True \n",
       "international_plan              \n",
       "no                   2664    346\n",
       "yes                   186    137"
      ]
     },
     "execution_count": 267,
     "metadata": {},
     "output_type": "execute_result"
    }
   ],
   "source": [
    "# Checking our target/ dataset for balance before creating our baseline classifcation model.\n",
    "\n",
    "pd.pivot_table(df, \n",
    "               values='account_length', \n",
    "               index='international_plan', \n",
    "               columns='churn',\n",
    "               aggfunc='count'\n",
    "              )\n"
   ]
  },
  {
   "cell_type": "code",
   "execution_count": 268,
   "metadata": {
    "ExecuteTime": {
     "end_time": "2023-01-24T04:29:11.081441Z",
     "start_time": "2023-01-24T04:29:10.783758Z"
    }
   },
   "outputs": [
    {
     "data": {
      "image/png": "[encoded data removed]",
      "text/plain": [
       "<Figure size 1440x864 with 1 Axes>"
      ]
     },
     "metadata": {
      "needs_background": "light"
     },
     "output_type": "display_data"
    }
   ],
   "source": [
    "fix, ax = plt.subplots(figsize=(20,12))\n",
    "\n",
    "sns.barplot(x='international_plan', y='churn', data=df, palette=pal)\n",
    "\n",
    "ax.set_title('% of Customers that Churned by International Plan')\n",
    "ax.set_xlabel('International Plan', labelpad=15, fontsize=16)\n",
    "ax.set_ylabel('% of Customers', labelpad= 15, fontsize=16)\n",
    "\n",
    "plt.show()"
   ]
  },
  {
   "cell_type": "markdown",
   "metadata": {},
   "source": [
    "International plans experience a higher churn percentage than those without; just over 40% of those that had the interntational plan, and about 10% for those without.  About 1/3 of the total churn that was experienced were customers that had purchased the international plan.\n"
   ]
  },
  {
   "cell_type": "code",
   "execution_count": 269,
   "metadata": {
    "ExecuteTime": {
     "end_time": "2023-01-24T04:29:11.103252Z",
     "start_time": "2023-01-24T04:29:11.084287Z"
    }
   },
   "outputs": [
    {
     "data": {
      "text/html": [
       "<div>\n",
       "<style scoped>\n",
       "    .dataframe tbody tr th:only-of-type {\n",
       "        vertical-align: middle;\n",
       "    }\n",
       "\n",
       "    .dataframe tbody tr th {\n",
       "        vertical-align: top;\n",
       "    }\n",
       "\n",
       "    .dataframe thead th {\n",
       "        text-align: right;\n",
       "    }\n",
       "</style>\n",
       "<table border=\"1\" class=\"dataframe\">\n",
       "  <thead>\n",
       "    <tr style=\"text-align: right;\">\n",
       "      <th>churn</th>\n",
       "      <th>False</th>\n",
       "      <th>True</th>\n",
       "    </tr>\n",
       "    <tr>\n",
       "      <th>voice_mail_plan</th>\n",
       "      <th></th>\n",
       "      <th></th>\n",
       "    </tr>\n",
       "  </thead>\n",
       "  <tbody>\n",
       "    <tr>\n",
       "      <th>no</th>\n",
       "      <td>2008</td>\n",
       "      <td>403</td>\n",
       "    </tr>\n",
       "    <tr>\n",
       "      <th>yes</th>\n",
       "      <td>842</td>\n",
       "      <td>80</td>\n",
       "    </tr>\n",
       "  </tbody>\n",
       "</table>\n",
       "</div>"
      ],
      "text/plain": [
       "churn            False  True \n",
       "voice_mail_plan              \n",
       "no                2008    403\n",
       "yes                842     80"
      ]
     },
     "execution_count": 269,
     "metadata": {},
     "output_type": "execute_result"
    }
   ],
   "source": [
    "# Creating pivot table for voice mail plan vs churn.\n",
    "\n",
    "pd.pivot_table(df, \n",
    "               values='account_length', \n",
    "               index='voice_mail_plan', \n",
    "               columns='churn',\n",
    "               aggfunc='count'\n",
    "              )"
   ]
  },
  {
   "cell_type": "code",
   "execution_count": 270,
   "metadata": {
    "ExecuteTime": {
     "end_time": "2023-01-24T04:29:11.411421Z",
     "start_time": "2023-01-24T04:29:11.105422Z"
    }
   },
   "outputs": [
    {
     "data": {
      "image/png": "[encoded data removed]",
      "text/plain": [
       "<Figure size 1440x864 with 1 Axes>"
      ]
     },
     "metadata": {
      "needs_background": "light"
     },
     "output_type": "display_data"
    }
   ],
   "source": [
    "# Creating visual to display numbers from above\n",
    "\n",
    "fix, ax = plt.subplots(figsize=(20,12))\n",
    "\n",
    "sns.barplot(x='voice_mail_plan', y='churn', data=df, palette=pal)\n",
    "\n",
    "ax.set_title('% of Customers that Churned by Voice Mail Plan')\n",
    "ax.set_xlabel('Voice Mail Plan', labelpad=15, fontsize=16)\n",
    "ax.set_ylabel('% of Customers', labelpad= 15, fontsize=16)\n",
    "\n",
    "plt.show()"
   ]
  },
  {
   "cell_type": "markdown",
   "metadata": {},
   "source": [
    "Looks like those plans with a voice mail plan have a lower churn percentage than those without. 10% of those with the voice mail plan vs 20% of those without a voice mail plan churn.  We will keep this in mind as we complete our analyses.  So as of right now, it would suffice us to say that customers with the voicemail plan were more satisfied than those customers without that feature.\n"
   ]
  },
  {
   "cell_type": "code",
   "execution_count": 271,
   "metadata": {
    "ExecuteTime": {
     "end_time": "2023-01-24T04:29:11.433371Z",
     "start_time": "2023-01-24T04:29:11.413531Z"
    },
    "scrolled": true
   },
   "outputs": [
    {
     "data": {
      "text/html": [
       "<div>\n",
       "<style scoped>\n",
       "    .dataframe tbody tr th:only-of-type {\n",
       "        vertical-align: middle;\n",
       "    }\n",
       "\n",
       "    .dataframe tbody tr th {\n",
       "        vertical-align: top;\n",
       "    }\n",
       "\n",
       "    .dataframe thead th {\n",
       "        text-align: right;\n",
       "    }\n",
       "</style>\n",
       "<table border=\"1\" class=\"dataframe\">\n",
       "  <thead>\n",
       "    <tr style=\"text-align: right;\">\n",
       "      <th></th>\n",
       "      <th>churn</th>\n",
       "      <th>False</th>\n",
       "      <th>True</th>\n",
       "    </tr>\n",
       "    <tr>\n",
       "      <th>voice_mail_plan</th>\n",
       "      <th>international_plan</th>\n",
       "      <th></th>\n",
       "      <th></th>\n",
       "    </tr>\n",
       "  </thead>\n",
       "  <tbody>\n",
       "    <tr>\n",
       "      <th rowspan=\"2\" valign=\"top\">no</th>\n",
       "      <th>no</th>\n",
       "      <td>1878</td>\n",
       "      <td>302</td>\n",
       "    </tr>\n",
       "    <tr>\n",
       "      <th>yes</th>\n",
       "      <td>130</td>\n",
       "      <td>101</td>\n",
       "    </tr>\n",
       "    <tr>\n",
       "      <th rowspan=\"2\" valign=\"top\">yes</th>\n",
       "      <th>no</th>\n",
       "      <td>786</td>\n",
       "      <td>44</td>\n",
       "    </tr>\n",
       "    <tr>\n",
       "      <th>yes</th>\n",
       "      <td>56</td>\n",
       "      <td>36</td>\n",
       "    </tr>\n",
       "  </tbody>\n",
       "</table>\n",
       "</div>"
      ],
      "text/plain": [
       "churn                               False  True \n",
       "voice_mail_plan international_plan              \n",
       "no              no                   1878    302\n",
       "                yes                   130    101\n",
       "yes             no                    786     44\n",
       "                yes                    56     36"
      ]
     },
     "execution_count": 271,
     "metadata": {},
     "output_type": "execute_result"
    }
   ],
   "source": [
    "pd.pivot_table(df, \n",
    "               values='account_length', \n",
    "               index=['voice_mail_plan', 'international_plan'],\n",
    "               columns='churn',\n",
    "               aggfunc='count'\n",
    "              )"
   ]
  },
  {
   "cell_type": "markdown",
   "metadata": {},
   "source": [
    "So between our two features above, it looks like:\n",
    "\n",
    "No voice mail plan & no interntational plan = 14% churn\n",
    "No voice mail plan & interntational plan = 44% churn\n",
    "Voice mail plan & no international plan = 5% churn\n",
    "Voice mail plan & international plan = 39% churn\n",
    "\n",
    "\n",
    "So customers that had the voice mail plan & no international plan, or no features at all performed be best (5%, and 14% respectively).  Again, this could mean that the service of the international plan does meet the expectations of the customers.  With that being said, the voice mail feature/ functionality does generally pretty well, and customers see the value in that feature."
   ]
  },
  {
   "cell_type": "code",
   "execution_count": 272,
   "metadata": {
    "ExecuteTime": {
     "end_time": "2023-01-24T04:29:11.457480Z",
     "start_time": "2023-01-24T04:29:11.435343Z"
    }
   },
   "outputs": [
    {
     "data": {
      "text/html": [
       "<div>\n",
       "<style scoped>\n",
       "    .dataframe tbody tr th:only-of-type {\n",
       "        vertical-align: middle;\n",
       "    }\n",
       "\n",
       "    .dataframe tbody tr th {\n",
       "        vertical-align: top;\n",
       "    }\n",
       "\n",
       "    .dataframe thead th {\n",
       "        text-align: right;\n",
       "    }\n",
       "</style>\n",
       "<table border=\"1\" class=\"dataframe\">\n",
       "  <thead>\n",
       "    <tr style=\"text-align: right;\">\n",
       "      <th></th>\n",
       "      <th>churn</th>\n",
       "      <th>False</th>\n",
       "      <th>True</th>\n",
       "    </tr>\n",
       "    <tr>\n",
       "      <th>voice_mail_plan</th>\n",
       "      <th>international_plan</th>\n",
       "      <th></th>\n",
       "      <th></th>\n",
       "    </tr>\n",
       "  </thead>\n",
       "  <tbody>\n",
       "    <tr>\n",
       "      <th rowspan=\"2\" valign=\"top\">no</th>\n",
       "      <th>no</th>\n",
       "      <td>0.050518</td>\n",
       "      <td>0.055644</td>\n",
       "    </tr>\n",
       "    <tr>\n",
       "      <th>yes</th>\n",
       "      <td>0.053261</td>\n",
       "      <td>0.053121</td>\n",
       "    </tr>\n",
       "    <tr>\n",
       "      <th rowspan=\"2\" valign=\"top\">yes</th>\n",
       "      <th>no</th>\n",
       "      <td>0.051141</td>\n",
       "      <td>0.049108</td>\n",
       "    </tr>\n",
       "    <tr>\n",
       "      <th>yes</th>\n",
       "      <td>0.051807</td>\n",
       "      <td>0.053927</td>\n",
       "    </tr>\n",
       "  </tbody>\n",
       "</table>\n",
       "</div>"
      ],
      "text/plain": [
       "churn                                  False     True \n",
       "voice_mail_plan international_plan                    \n",
       "no              no                  0.050518  0.055644\n",
       "                yes                 0.053261  0.053121\n",
       "yes             no                  0.051141  0.049108\n",
       "                yes                 0.051807  0.053927"
      ]
     },
     "execution_count": 272,
     "metadata": {},
     "output_type": "execute_result"
    }
   ],
   "source": [
    "pd.pivot_table(df, \n",
    "               values='price_per_minute', \n",
    "               index=['voice_mail_plan', 'international_plan'],\n",
    "               columns='churn',\n",
    "               aggfunc=np.mean\n",
    "              )"
   ]
  },
  {
   "cell_type": "markdown",
   "metadata": {
    "ExecuteTime": {
     "end_time": "2023-01-24T04:04:09.197717Z",
     "start_time": "2023-01-24T04:04:09.193680Z"
    }
   },
   "source": [
    "Now taking a look at the average price paid per minute between the same feature diagram we looked at above, it looks like those plans with the international plan pay more on average than those without.\n",
    "\n",
    "Here is the comparison of price between the churn, and non-churn groups that we looked at above:\n",
    "\n",
    "No voice mail plan & no interntational plan = 14% churn, 10% higher cost\n",
    "No voice mail plan & interntational plan = 44% churn, 0% difference\n",
    "Voice mail plan & no international plan = 5% churn, -4% difference\n",
    "Voice mail plan & international plan = 39% churn, 4% higher cost\n",
    "\n",
    "This would indicate that there really isn't much price difference when looking at the per minute costs for these additional features.  Or at least the customers that churned weren't paying that much more than the customers that were retained, providing support for the fact that those features value were really based on if they worked or not."
   ]
  },
  {
   "cell_type": "markdown",
   "metadata": {
    "ExecuteTime": {
     "end_time": "2023-01-24T04:12:10.413077Z",
     "start_time": "2023-01-24T04:12:10.410115Z"
    }
   },
   "source": [
    "## Demographics EDA"
   ]
  },
  {
   "cell_type": "code",
   "execution_count": 273,
   "metadata": {
    "ExecuteTime": {
     "end_time": "2023-01-24T04:29:12.836493Z",
     "start_time": "2023-01-24T04:29:11.460569Z"
    },
    "scrolled": false
   },
   "outputs": [
    {
     "data": {
      "image/png": "[encoded data removed]",
      "text/plain": [
       "<Figure size 1440x864 with 1 Axes>"
      ]
     },
     "metadata": {
      "needs_background": "light"
     },
     "output_type": "display_data"
    }
   ],
   "source": [
    "fix, ax = plt.subplots(figsize=(20,12))\n",
    "\n",
    "df['state'].value_counts().plot(kind='bar', color=c('blue'))\n",
    "\n",
    "ax.set_title('# of Customers by State')\n",
    "ax.set_xlabel('State', labelpad=15, fontsize=16)\n",
    "ax.set_ylabel('# of Customers', labelpad= 15, fontsize=16)\n",
    "\n",
    "plt.show()"
   ]
  },
  {
   "cell_type": "markdown",
   "metadata": {},
   "source": [
    "Overall the distribution of states is pretty good!  No concerns here, however we will need to encode this categorical column if we want to retain this information."
   ]
  },
  {
   "cell_type": "code",
   "execution_count": 274,
   "metadata": {
    "ExecuteTime": {
     "end_time": "2023-01-24T04:29:12.900409Z",
     "start_time": "2023-01-24T04:29:12.838796Z"
    }
   },
   "outputs": [
    {
     "data": {
      "text/html": [
       "<div>\n",
       "<style scoped>\n",
       "    .dataframe tbody tr th:only-of-type {\n",
       "        vertical-align: middle;\n",
       "    }\n",
       "\n",
       "    .dataframe tbody tr th {\n",
       "        vertical-align: top;\n",
       "    }\n",
       "\n",
       "    .dataframe thead th {\n",
       "        text-align: right;\n",
       "    }\n",
       "</style>\n",
       "<table border=\"1\" class=\"dataframe\">\n",
       "  <thead>\n",
       "    <tr style=\"text-align: right;\">\n",
       "      <th></th>\n",
       "      <th>state</th>\n",
       "      <th>account_length</th>\n",
       "      <th>area_code</th>\n",
       "      <th>phone_number</th>\n",
       "      <th>international_plan</th>\n",
       "      <th>voice_mail_plan</th>\n",
       "      <th>number_vmail_messages</th>\n",
       "      <th>total_day_minutes</th>\n",
       "      <th>total_day_calls</th>\n",
       "      <th>total_day_charge</th>\n",
       "      <th>...</th>\n",
       "      <th>total_intl_calls</th>\n",
       "      <th>total_intl_charge</th>\n",
       "      <th>customer_service_calls</th>\n",
       "      <th>churn</th>\n",
       "      <th>total_calls</th>\n",
       "      <th>total_charges</th>\n",
       "      <th>total_minutes</th>\n",
       "      <th>price_per_minute</th>\n",
       "      <th>phone_number_prefix</th>\n",
       "      <th>line_number</th>\n",
       "    </tr>\n",
       "  </thead>\n",
       "  <tbody>\n",
       "    <tr>\n",
       "      <th>0</th>\n",
       "      <td>KS</td>\n",
       "      <td>128</td>\n",
       "      <td>415</td>\n",
       "      <td>382-4657</td>\n",
       "      <td>no</td>\n",
       "      <td>yes</td>\n",
       "      <td>25</td>\n",
       "      <td>265.1</td>\n",
       "      <td>110</td>\n",
       "      <td>45.07</td>\n",
       "      <td>...</td>\n",
       "      <td>3</td>\n",
       "      <td>2.70</td>\n",
       "      <td>1</td>\n",
       "      <td>False</td>\n",
       "      <td>303</td>\n",
       "      <td>75.56</td>\n",
       "      <td>717.2</td>\n",
       "      <td>0.062842</td>\n",
       "      <td>382</td>\n",
       "      <td>4657</td>\n",
       "    </tr>\n",
       "    <tr>\n",
       "      <th>1</th>\n",
       "      <td>OH</td>\n",
       "      <td>107</td>\n",
       "      <td>415</td>\n",
       "      <td>371-7191</td>\n",
       "      <td>no</td>\n",
       "      <td>yes</td>\n",
       "      <td>26</td>\n",
       "      <td>161.6</td>\n",
       "      <td>123</td>\n",
       "      <td>27.47</td>\n",
       "      <td>...</td>\n",
       "      <td>3</td>\n",
       "      <td>3.70</td>\n",
       "      <td>1</td>\n",
       "      <td>False</td>\n",
       "      <td>332</td>\n",
       "      <td>59.24</td>\n",
       "      <td>625.2</td>\n",
       "      <td>0.043938</td>\n",
       "      <td>371</td>\n",
       "      <td>7191</td>\n",
       "    </tr>\n",
       "    <tr>\n",
       "      <th>2</th>\n",
       "      <td>NJ</td>\n",
       "      <td>137</td>\n",
       "      <td>415</td>\n",
       "      <td>358-1921</td>\n",
       "      <td>no</td>\n",
       "      <td>no</td>\n",
       "      <td>0</td>\n",
       "      <td>243.4</td>\n",
       "      <td>114</td>\n",
       "      <td>41.38</td>\n",
       "      <td>...</td>\n",
       "      <td>5</td>\n",
       "      <td>3.29</td>\n",
       "      <td>0</td>\n",
       "      <td>False</td>\n",
       "      <td>333</td>\n",
       "      <td>62.29</td>\n",
       "      <td>539.4</td>\n",
       "      <td>0.076715</td>\n",
       "      <td>358</td>\n",
       "      <td>1921</td>\n",
       "    </tr>\n",
       "    <tr>\n",
       "      <th>3</th>\n",
       "      <td>OH</td>\n",
       "      <td>84</td>\n",
       "      <td>408</td>\n",
       "      <td>375-9999</td>\n",
       "      <td>yes</td>\n",
       "      <td>no</td>\n",
       "      <td>0</td>\n",
       "      <td>299.4</td>\n",
       "      <td>71</td>\n",
       "      <td>50.90</td>\n",
       "      <td>...</td>\n",
       "      <td>7</td>\n",
       "      <td>1.78</td>\n",
       "      <td>2</td>\n",
       "      <td>False</td>\n",
       "      <td>255</td>\n",
       "      <td>66.80</td>\n",
       "      <td>564.8</td>\n",
       "      <td>0.090120</td>\n",
       "      <td>375</td>\n",
       "      <td>9999</td>\n",
       "    </tr>\n",
       "    <tr>\n",
       "      <th>4</th>\n",
       "      <td>OK</td>\n",
       "      <td>75</td>\n",
       "      <td>415</td>\n",
       "      <td>330-6626</td>\n",
       "      <td>yes</td>\n",
       "      <td>no</td>\n",
       "      <td>0</td>\n",
       "      <td>166.7</td>\n",
       "      <td>113</td>\n",
       "      <td>28.34</td>\n",
       "      <td>...</td>\n",
       "      <td>3</td>\n",
       "      <td>2.73</td>\n",
       "      <td>3</td>\n",
       "      <td>False</td>\n",
       "      <td>359</td>\n",
       "      <td>52.09</td>\n",
       "      <td>512.0</td>\n",
       "      <td>0.055352</td>\n",
       "      <td>330</td>\n",
       "      <td>6626</td>\n",
       "    </tr>\n",
       "    <tr>\n",
       "      <th>...</th>\n",
       "      <td>...</td>\n",
       "      <td>...</td>\n",
       "      <td>...</td>\n",
       "      <td>...</td>\n",
       "      <td>...</td>\n",
       "      <td>...</td>\n",
       "      <td>...</td>\n",
       "      <td>...</td>\n",
       "      <td>...</td>\n",
       "      <td>...</td>\n",
       "      <td>...</td>\n",
       "      <td>...</td>\n",
       "      <td>...</td>\n",
       "      <td>...</td>\n",
       "      <td>...</td>\n",
       "      <td>...</td>\n",
       "      <td>...</td>\n",
       "      <td>...</td>\n",
       "      <td>...</td>\n",
       "      <td>...</td>\n",
       "      <td>...</td>\n",
       "    </tr>\n",
       "    <tr>\n",
       "      <th>3328</th>\n",
       "      <td>AZ</td>\n",
       "      <td>192</td>\n",
       "      <td>415</td>\n",
       "      <td>414-4276</td>\n",
       "      <td>no</td>\n",
       "      <td>yes</td>\n",
       "      <td>36</td>\n",
       "      <td>156.2</td>\n",
       "      <td>77</td>\n",
       "      <td>26.55</td>\n",
       "      <td>...</td>\n",
       "      <td>6</td>\n",
       "      <td>2.67</td>\n",
       "      <td>2</td>\n",
       "      <td>False</td>\n",
       "      <td>292</td>\n",
       "      <td>60.10</td>\n",
       "      <td>660.7</td>\n",
       "      <td>0.040185</td>\n",
       "      <td>414</td>\n",
       "      <td>4276</td>\n",
       "    </tr>\n",
       "    <tr>\n",
       "      <th>3329</th>\n",
       "      <td>WV</td>\n",
       "      <td>68</td>\n",
       "      <td>415</td>\n",
       "      <td>370-3271</td>\n",
       "      <td>no</td>\n",
       "      <td>no</td>\n",
       "      <td>0</td>\n",
       "      <td>231.1</td>\n",
       "      <td>57</td>\n",
       "      <td>39.29</td>\n",
       "      <td>...</td>\n",
       "      <td>4</td>\n",
       "      <td>2.59</td>\n",
       "      <td>3</td>\n",
       "      <td>False</td>\n",
       "      <td>239</td>\n",
       "      <td>63.53</td>\n",
       "      <td>585.4</td>\n",
       "      <td>0.067117</td>\n",
       "      <td>370</td>\n",
       "      <td>3271</td>\n",
       "    </tr>\n",
       "    <tr>\n",
       "      <th>3330</th>\n",
       "      <td>RI</td>\n",
       "      <td>28</td>\n",
       "      <td>510</td>\n",
       "      <td>328-8230</td>\n",
       "      <td>no</td>\n",
       "      <td>no</td>\n",
       "      <td>0</td>\n",
       "      <td>180.8</td>\n",
       "      <td>109</td>\n",
       "      <td>30.74</td>\n",
       "      <td>...</td>\n",
       "      <td>6</td>\n",
       "      <td>3.81</td>\n",
       "      <td>2</td>\n",
       "      <td>False</td>\n",
       "      <td>264</td>\n",
       "      <td>67.74</td>\n",
       "      <td>675.6</td>\n",
       "      <td>0.045500</td>\n",
       "      <td>328</td>\n",
       "      <td>8230</td>\n",
       "    </tr>\n",
       "    <tr>\n",
       "      <th>3331</th>\n",
       "      <td>CT</td>\n",
       "      <td>184</td>\n",
       "      <td>510</td>\n",
       "      <td>364-6381</td>\n",
       "      <td>yes</td>\n",
       "      <td>no</td>\n",
       "      <td>0</td>\n",
       "      <td>213.8</td>\n",
       "      <td>105</td>\n",
       "      <td>36.35</td>\n",
       "      <td>...</td>\n",
       "      <td>10</td>\n",
       "      <td>1.35</td>\n",
       "      <td>2</td>\n",
       "      <td>False</td>\n",
       "      <td>336</td>\n",
       "      <td>57.53</td>\n",
       "      <td>517.6</td>\n",
       "      <td>0.070228</td>\n",
       "      <td>364</td>\n",
       "      <td>6381</td>\n",
       "    </tr>\n",
       "    <tr>\n",
       "      <th>3332</th>\n",
       "      <td>TN</td>\n",
       "      <td>74</td>\n",
       "      <td>415</td>\n",
       "      <td>400-4344</td>\n",
       "      <td>no</td>\n",
       "      <td>yes</td>\n",
       "      <td>25</td>\n",
       "      <td>234.4</td>\n",
       "      <td>113</td>\n",
       "      <td>39.85</td>\n",
       "      <td>...</td>\n",
       "      <td>4</td>\n",
       "      <td>3.70</td>\n",
       "      <td>0</td>\n",
       "      <td>False</td>\n",
       "      <td>276</td>\n",
       "      <td>77.01</td>\n",
       "      <td>755.4</td>\n",
       "      <td>0.052754</td>\n",
       "      <td>400</td>\n",
       "      <td>4344</td>\n",
       "    </tr>\n",
       "  </tbody>\n",
       "</table>\n",
       "<p>3333 rows × 27 columns</p>\n",
       "</div>"
      ],
      "text/plain": [
       "     state  account_length  area_code phone_number international_plan  \\\n",
       "0       KS             128        415     382-4657                 no   \n",
       "1       OH             107        415     371-7191                 no   \n",
       "2       NJ             137        415     358-1921                 no   \n",
       "3       OH              84        408     375-9999                yes   \n",
       "4       OK              75        415     330-6626                yes   \n",
       "...    ...             ...        ...          ...                ...   \n",
       "3328    AZ             192        415     414-4276                 no   \n",
       "3329    WV              68        415     370-3271                 no   \n",
       "3330    RI              28        510     328-8230                 no   \n",
       "3331    CT             184        510     364-6381                yes   \n",
       "3332    TN              74        415     400-4344                 no   \n",
       "\n",
       "     voice_mail_plan  number_vmail_messages  total_day_minutes  \\\n",
       "0                yes                     25              265.1   \n",
       "1                yes                     26              161.6   \n",
       "2                 no                      0              243.4   \n",
       "3                 no                      0              299.4   \n",
       "4                 no                      0              166.7   \n",
       "...              ...                    ...                ...   \n",
       "3328             yes                     36              156.2   \n",
       "3329              no                      0              231.1   \n",
       "3330              no                      0              180.8   \n",
       "3331              no                      0              213.8   \n",
       "3332             yes                     25              234.4   \n",
       "\n",
       "      total_day_calls  total_day_charge  ...  total_intl_calls  \\\n",
       "0                 110             45.07  ...                 3   \n",
       "1                 123             27.47  ...                 3   \n",
       "2                 114             41.38  ...                 5   \n",
       "3                  71             50.90  ...                 7   \n",
       "4                 113             28.34  ...                 3   \n",
       "...               ...               ...  ...               ...   \n",
       "3328               77             26.55  ...                 6   \n",
       "3329               57             39.29  ...                 4   \n",
       "3330              109             30.74  ...                 6   \n",
       "3331              105             36.35  ...                10   \n",
       "3332              113             39.85  ...                 4   \n",
       "\n",
       "      total_intl_charge  customer_service_calls  churn  total_calls  \\\n",
       "0                  2.70                       1  False          303   \n",
       "1                  3.70                       1  False          332   \n",
       "2                  3.29                       0  False          333   \n",
       "3                  1.78                       2  False          255   \n",
       "4                  2.73                       3  False          359   \n",
       "...                 ...                     ...    ...          ...   \n",
       "3328               2.67                       2  False          292   \n",
       "3329               2.59                       3  False          239   \n",
       "3330               3.81                       2  False          264   \n",
       "3331               1.35                       2  False          336   \n",
       "3332               3.70                       0  False          276   \n",
       "\n",
       "      total_charges  total_minutes  price_per_minute  phone_number_prefix  \\\n",
       "0             75.56          717.2          0.062842                  382   \n",
       "1             59.24          625.2          0.043938                  371   \n",
       "2             62.29          539.4          0.076715                  358   \n",
       "3             66.80          564.8          0.090120                  375   \n",
       "4             52.09          512.0          0.055352                  330   \n",
       "...             ...            ...               ...                  ...   \n",
       "3328          60.10          660.7          0.040185                  414   \n",
       "3329          63.53          585.4          0.067117                  370   \n",
       "3330          67.74          675.6          0.045500                  328   \n",
       "3331          57.53          517.6          0.070228                  364   \n",
       "3332          77.01          755.4          0.052754                  400   \n",
       "\n",
       "      line_number  \n",
       "0            4657  \n",
       "1            7191  \n",
       "2            1921  \n",
       "3            9999  \n",
       "4            6626  \n",
       "...           ...  \n",
       "3328         4276  \n",
       "3329         3271  \n",
       "3330         8230  \n",
       "3331         6381  \n",
       "3332         4344  \n",
       "\n",
       "[3333 rows x 27 columns]"
      ]
     },
     "execution_count": 274,
     "metadata": {},
     "output_type": "execute_result"
    }
   ],
   "source": [
    "# Since we are thinking about dropping our state column, we still have area_code, and our phone_number_prefix,\n",
    "# to give us an idea of where the users are located.  Going to split those columns out from the line_number,\n",
    "# which won't really help us.\n",
    "\n",
    "df[['phone_number_prefix','line_number']] = df.phone_number.str.split(\"-\",expand=True,).astype(int)\n",
    "df"
   ]
  },
  {
   "cell_type": "code",
   "execution_count": 275,
   "metadata": {
    "ExecuteTime": {
     "end_time": "2023-01-24T04:29:12.911608Z",
     "start_time": "2023-01-24T04:29:12.903479Z"
    }
   },
   "outputs": [],
   "source": [
    "# dropping state, and phone number\n",
    "\n",
    "df = df.drop(['phone_number', \n",
    "              'line_number',\n",
    "              'state'\n",
    "             ], \n",
    "             axis=1\n",
    "            )"
   ]
  },
  {
   "cell_type": "code",
   "execution_count": 276,
   "metadata": {
    "ExecuteTime": {
     "end_time": "2023-01-24T04:29:12.923028Z",
     "start_time": "2023-01-24T04:29:12.913894Z"
    }
   },
   "outputs": [],
   "source": [
    "# Going back to look at our columns that need transformed from string to integer // international plan\n",
    "\n",
    "df = df.replace({'international_plan': \n",
    "                 {'yes': 1, \n",
    "                  'no': 0\n",
    "                 }\n",
    "                }\n",
    "               )"
   ]
  },
  {
   "cell_type": "code",
   "execution_count": 277,
   "metadata": {
    "ExecuteTime": {
     "end_time": "2023-01-24T04:29:12.938001Z",
     "start_time": "2023-01-24T04:29:12.929934Z"
    }
   },
   "outputs": [],
   "source": [
    "# Going back to look at our columns that need transformed from string to integer // voice mail plan\n",
    "\n",
    "df = df.replace({'voice_mail_plan': \n",
    "                 {'yes': 1, \n",
    "                  'no': 0\n",
    "                 }\n",
    "                }\n",
    "               )"
   ]
  },
  {
   "cell_type": "code",
   "execution_count": 278,
   "metadata": {
    "ExecuteTime": {
     "end_time": "2023-01-24T04:29:12.944891Z",
     "start_time": "2023-01-24T04:29:12.941545Z"
    }
   },
   "outputs": [],
   "source": [
    "# Going back to look at our columns that need transformed from string to integer // voice mail plan\n",
    "\n",
    "df['churn'] = df['churn'].astype(int)"
   ]
  },
  {
   "cell_type": "code",
   "execution_count": 279,
   "metadata": {
    "ExecuteTime": {
     "end_time": "2023-01-24T04:29:12.958667Z",
     "start_time": "2023-01-24T04:29:12.947122Z"
    },
    "scrolled": false
   },
   "outputs": [
    {
     "name": "stdout",
     "output_type": "stream",
     "text": [
      "<class 'pandas.core.frame.DataFrame'>\n",
      "RangeIndex: 3333 entries, 0 to 3332\n",
      "Data columns (total 24 columns):\n",
      " #   Column                  Non-Null Count  Dtype  \n",
      "---  ------                  --------------  -----  \n",
      " 0   account_length          3333 non-null   int64  \n",
      " 1   area_code               3333 non-null   int64  \n",
      " 2   international_plan      3333 non-null   int64  \n",
      " 3   voice_mail_plan         3333 non-null   int64  \n",
      " 4   number_vmail_messages   3333 non-null   int64  \n",
      " 5   total_day_minutes       3333 non-null   float64\n",
      " 6   total_day_calls         3333 non-null   int64  \n",
      " 7   total_day_charge        3333 non-null   float64\n",
      " 8   total_eve_minutes       3333 non-null   float64\n",
      " 9   total_eve_calls         3333 non-null   int64  \n",
      " 10  total_eve_charge        3333 non-null   float64\n",
      " 11  total_night_minutes     3333 non-null   float64\n",
      " 12  total_night_calls       3333 non-null   int64  \n",
      " 13  total_night_charge      3333 non-null   float64\n",
      " 14  total_intl_minutes      3333 non-null   float64\n",
      " 15  total_intl_calls        3333 non-null   int64  \n",
      " 16  total_intl_charge       3333 non-null   float64\n",
      " 17  customer_service_calls  3333 non-null   int64  \n",
      " 18  churn                   3333 non-null   int64  \n",
      " 19  total_calls             3333 non-null   int64  \n",
      " 20  total_charges           3333 non-null   float64\n",
      " 21  total_minutes           3333 non-null   float64\n",
      " 22  price_per_minute        3333 non-null   float64\n",
      " 23  phone_number_prefix     3333 non-null   int64  \n",
      "dtypes: float64(11), int64(13)\n",
      "memory usage: 625.1 KB\n"
     ]
    }
   ],
   "source": [
    "df.info()"
   ]
  },
  {
   "cell_type": "markdown",
   "metadata": {
    "ExecuteTime": {
     "end_time": "2023-01-24T04:12:50.314150Z",
     "start_time": "2023-01-24T04:12:50.311772Z"
    }
   },
   "source": [
    "## Usage EDA"
   ]
  },
  {
   "cell_type": "code",
   "execution_count": 280,
   "metadata": {
    "ExecuteTime": {
     "end_time": "2023-01-24T04:29:12.990880Z",
     "start_time": "2023-01-24T04:29:12.960848Z"
    }
   },
   "outputs": [
    {
     "data": {
      "text/html": [
       "<div>\n",
       "<style scoped>\n",
       "    .dataframe tbody tr th:only-of-type {\n",
       "        vertical-align: middle;\n",
       "    }\n",
       "\n",
       "    .dataframe tbody tr th {\n",
       "        vertical-align: top;\n",
       "    }\n",
       "\n",
       "    .dataframe thead th {\n",
       "        text-align: right;\n",
       "    }\n",
       "</style>\n",
       "<table border=\"1\" class=\"dataframe\">\n",
       "  <thead>\n",
       "    <tr style=\"text-align: right;\">\n",
       "      <th></th>\n",
       "      <th>account_length</th>\n",
       "      <th>area_code</th>\n",
       "      <th>international_plan</th>\n",
       "      <th>voice_mail_plan</th>\n",
       "      <th>number_vmail_messages</th>\n",
       "      <th>total_day_minutes</th>\n",
       "      <th>total_day_calls</th>\n",
       "      <th>total_day_charge</th>\n",
       "      <th>total_eve_minutes</th>\n",
       "      <th>total_eve_calls</th>\n",
       "      <th>...</th>\n",
       "      <th>total_night_charge</th>\n",
       "      <th>total_intl_minutes</th>\n",
       "      <th>total_intl_calls</th>\n",
       "      <th>total_intl_charge</th>\n",
       "      <th>customer_service_calls</th>\n",
       "      <th>total_calls</th>\n",
       "      <th>total_charges</th>\n",
       "      <th>total_minutes</th>\n",
       "      <th>price_per_minute</th>\n",
       "      <th>phone_number_prefix</th>\n",
       "    </tr>\n",
       "    <tr>\n",
       "      <th>churn</th>\n",
       "      <th></th>\n",
       "      <th></th>\n",
       "      <th></th>\n",
       "      <th></th>\n",
       "      <th></th>\n",
       "      <th></th>\n",
       "      <th></th>\n",
       "      <th></th>\n",
       "      <th></th>\n",
       "      <th></th>\n",
       "      <th></th>\n",
       "      <th></th>\n",
       "      <th></th>\n",
       "      <th></th>\n",
       "      <th></th>\n",
       "      <th></th>\n",
       "      <th></th>\n",
       "      <th></th>\n",
       "      <th></th>\n",
       "      <th></th>\n",
       "      <th></th>\n",
       "    </tr>\n",
       "  </thead>\n",
       "  <tbody>\n",
       "    <tr>\n",
       "      <th>0</th>\n",
       "      <td>100.793684</td>\n",
       "      <td>437.074737</td>\n",
       "      <td>0.065263</td>\n",
       "      <td>0.295439</td>\n",
       "      <td>8.604561</td>\n",
       "      <td>175.175754</td>\n",
       "      <td>100.283158</td>\n",
       "      <td>29.780421</td>\n",
       "      <td>199.043298</td>\n",
       "      <td>100.038596</td>\n",
       "      <td>...</td>\n",
       "      <td>9.006074</td>\n",
       "      <td>10.158877</td>\n",
       "      <td>4.532982</td>\n",
       "      <td>2.743404</td>\n",
       "      <td>1.449825</td>\n",
       "      <td>304.912982</td>\n",
       "      <td>58.448807</td>\n",
       "      <td>584.511123</td>\n",
       "      <td>0.050840</td>\n",
       "      <td>374.008421</td>\n",
       "    </tr>\n",
       "    <tr>\n",
       "      <th>1</th>\n",
       "      <td>102.664596</td>\n",
       "      <td>437.817805</td>\n",
       "      <td>0.283644</td>\n",
       "      <td>0.165631</td>\n",
       "      <td>5.115942</td>\n",
       "      <td>206.914079</td>\n",
       "      <td>101.335404</td>\n",
       "      <td>35.175921</td>\n",
       "      <td>212.410145</td>\n",
       "      <td>100.561077</td>\n",
       "      <td>...</td>\n",
       "      <td>9.235528</td>\n",
       "      <td>10.700000</td>\n",
       "      <td>4.163561</td>\n",
       "      <td>2.889545</td>\n",
       "      <td>2.229814</td>\n",
       "      <td>306.459627</td>\n",
       "      <td>65.355963</td>\n",
       "      <td>635.255901</td>\n",
       "      <td>0.054393</td>\n",
       "      <td>374.463768</td>\n",
       "    </tr>\n",
       "  </tbody>\n",
       "</table>\n",
       "<p>2 rows × 23 columns</p>\n",
       "</div>"
      ],
      "text/plain": [
       "       account_length   area_code  international_plan  voice_mail_plan  \\\n",
       "churn                                                                    \n",
       "0          100.793684  437.074737            0.065263         0.295439   \n",
       "1          102.664596  437.817805            0.283644         0.165631   \n",
       "\n",
       "       number_vmail_messages  total_day_minutes  total_day_calls  \\\n",
       "churn                                                              \n",
       "0                   8.604561         175.175754       100.283158   \n",
       "1                   5.115942         206.914079       101.335404   \n",
       "\n",
       "       total_day_charge  total_eve_minutes  total_eve_calls  ...  \\\n",
       "churn                                                        ...   \n",
       "0             29.780421         199.043298       100.038596  ...   \n",
       "1             35.175921         212.410145       100.561077  ...   \n",
       "\n",
       "       total_night_charge  total_intl_minutes  total_intl_calls  \\\n",
       "churn                                                             \n",
       "0                9.006074           10.158877          4.532982   \n",
       "1                9.235528           10.700000          4.163561   \n",
       "\n",
       "       total_intl_charge  customer_service_calls  total_calls  total_charges  \\\n",
       "churn                                                                          \n",
       "0               2.743404                1.449825   304.912982      58.448807   \n",
       "1               2.889545                2.229814   306.459627      65.355963   \n",
       "\n",
       "       total_minutes  price_per_minute  phone_number_prefix  \n",
       "churn                                                        \n",
       "0         584.511123          0.050840           374.008421  \n",
       "1         635.255901          0.054393           374.463768  \n",
       "\n",
       "[2 rows x 23 columns]"
      ]
     },
     "execution_count": 280,
     "metadata": {},
     "output_type": "execute_result"
    }
   ],
   "source": [
    "df.groupby(['churn']).mean()"
   ]
  },
  {
   "cell_type": "markdown",
   "metadata": {
    "ExecuteTime": {
     "end_time": "2023-01-24T04:13:12.016722Z",
     "start_time": "2023-01-24T04:13:12.014503Z"
    }
   },
   "source": [
    "## Distribution, Linearity, Correlation EDA"
   ]
  },
  {
   "cell_type": "code",
   "execution_count": 281,
   "metadata": {
    "ExecuteTime": {
     "end_time": "2023-01-24T04:29:18.560459Z",
     "start_time": "2023-01-24T04:29:12.993262Z"
    },
    "scrolled": false
   },
   "outputs": [
    {
     "data": {
      "image/png": "[encoded data removed]",
      "text/plain": [
       "<Figure size 2880x2880 with 25 Axes>"
      ]
     },
     "metadata": {
      "needs_background": "light"
     },
     "output_type": "display_data"
    }
   ],
   "source": [
    "# Going to look at overall distribution and histograms to visually inspect our data\n",
    "\n",
    "df.hist(bins='auto', \n",
    "        figsize=(40,40),\n",
    "        color=c('blue')\n",
    "       );"
   ]
  },
  {
   "cell_type": "markdown",
   "metadata": {},
   "source": [
    "These look great.  Reminds me of why I choose this dataset in the first place!"
   ]
  },
  {
   "cell_type": "code",
   "execution_count": 282,
   "metadata": {
    "ExecuteTime": {
     "end_time": "2023-01-24T04:29:18.588523Z",
     "start_time": "2023-01-24T04:29:18.562518Z"
    },
    "scrolled": true
   },
   "outputs": [
    {
     "data": {
      "text/html": [
       "<div>\n",
       "<style scoped>\n",
       "    .dataframe tbody tr th:only-of-type {\n",
       "        vertical-align: middle;\n",
       "    }\n",
       "\n",
       "    .dataframe tbody tr th {\n",
       "        vertical-align: top;\n",
       "    }\n",
       "\n",
       "    .dataframe thead th {\n",
       "        text-align: right;\n",
       "    }\n",
       "</style>\n",
       "<table border=\"1\" class=\"dataframe\">\n",
       "  <thead>\n",
       "    <tr style=\"text-align: right;\">\n",
       "      <th>phone_number_prefix</th>\n",
       "      <th>327</th>\n",
       "      <th>328</th>\n",
       "      <th>329</th>\n",
       "      <th>330</th>\n",
       "      <th>331</th>\n",
       "      <th>332</th>\n",
       "      <th>333</th>\n",
       "      <th>334</th>\n",
       "      <th>335</th>\n",
       "      <th>336</th>\n",
       "      <th>...</th>\n",
       "      <th>413</th>\n",
       "      <th>414</th>\n",
       "      <th>415</th>\n",
       "      <th>416</th>\n",
       "      <th>417</th>\n",
       "      <th>418</th>\n",
       "      <th>419</th>\n",
       "      <th>420</th>\n",
       "      <th>421</th>\n",
       "      <th>422</th>\n",
       "    </tr>\n",
       "    <tr>\n",
       "      <th>area_code</th>\n",
       "      <th></th>\n",
       "      <th></th>\n",
       "      <th></th>\n",
       "      <th></th>\n",
       "      <th></th>\n",
       "      <th></th>\n",
       "      <th></th>\n",
       "      <th></th>\n",
       "      <th></th>\n",
       "      <th></th>\n",
       "      <th></th>\n",
       "      <th></th>\n",
       "      <th></th>\n",
       "      <th></th>\n",
       "      <th></th>\n",
       "      <th></th>\n",
       "      <th></th>\n",
       "      <th></th>\n",
       "      <th></th>\n",
       "      <th></th>\n",
       "      <th></th>\n",
       "    </tr>\n",
       "  </thead>\n",
       "  <tbody>\n",
       "    <tr>\n",
       "      <th>408</th>\n",
       "      <td>3</td>\n",
       "      <td>9</td>\n",
       "      <td>9</td>\n",
       "      <td>5</td>\n",
       "      <td>6</td>\n",
       "      <td>12</td>\n",
       "      <td>13</td>\n",
       "      <td>11</td>\n",
       "      <td>10</td>\n",
       "      <td>14</td>\n",
       "      <td>...</td>\n",
       "      <td>6</td>\n",
       "      <td>4</td>\n",
       "      <td>10</td>\n",
       "      <td>10</td>\n",
       "      <td>15</td>\n",
       "      <td>6</td>\n",
       "      <td>6</td>\n",
       "      <td>9</td>\n",
       "      <td>5</td>\n",
       "      <td>7</td>\n",
       "    </tr>\n",
       "    <tr>\n",
       "      <th>415</th>\n",
       "      <td>10</td>\n",
       "      <td>12</td>\n",
       "      <td>17</td>\n",
       "      <td>20</td>\n",
       "      <td>10</td>\n",
       "      <td>21</td>\n",
       "      <td>25</td>\n",
       "      <td>20</td>\n",
       "      <td>16</td>\n",
       "      <td>20</td>\n",
       "      <td>...</td>\n",
       "      <td>12</td>\n",
       "      <td>15</td>\n",
       "      <td>21</td>\n",
       "      <td>22</td>\n",
       "      <td>21</td>\n",
       "      <td>21</td>\n",
       "      <td>13</td>\n",
       "      <td>18</td>\n",
       "      <td>13</td>\n",
       "      <td>9</td>\n",
       "    </tr>\n",
       "    <tr>\n",
       "      <th>510</th>\n",
       "      <td>6</td>\n",
       "      <td>11</td>\n",
       "      <td>11</td>\n",
       "      <td>9</td>\n",
       "      <td>9</td>\n",
       "      <td>11</td>\n",
       "      <td>8</td>\n",
       "      <td>7</td>\n",
       "      <td>8</td>\n",
       "      <td>7</td>\n",
       "      <td>...</td>\n",
       "      <td>10</td>\n",
       "      <td>10</td>\n",
       "      <td>5</td>\n",
       "      <td>5</td>\n",
       "      <td>10</td>\n",
       "      <td>5</td>\n",
       "      <td>8</td>\n",
       "      <td>8</td>\n",
       "      <td>6</td>\n",
       "      <td>3</td>\n",
       "    </tr>\n",
       "  </tbody>\n",
       "</table>\n",
       "<p>3 rows × 96 columns</p>\n",
       "</div>"
      ],
      "text/plain": [
       "phone_number_prefix  327  328  329  330  331  332  333  334  335  336  ...  \\\n",
       "area_code                                                              ...   \n",
       "408                    3    9    9    5    6   12   13   11   10   14  ...   \n",
       "415                   10   12   17   20   10   21   25   20   16   20  ...   \n",
       "510                    6   11   11    9    9   11    8    7    8    7  ...   \n",
       "\n",
       "phone_number_prefix  413  414  415  416  417  418  419  420  421  422  \n",
       "area_code                                                              \n",
       "408                    6    4   10   10   15    6    6    9    5    7  \n",
       "415                   12   15   21   22   21   21   13   18   13    9  \n",
       "510                   10   10    5    5   10    5    8    8    6    3  \n",
       "\n",
       "[3 rows x 96 columns]"
      ]
     },
     "execution_count": 282,
     "metadata": {},
     "output_type": "execute_result"
    }
   ],
   "source": [
    "# Before summarizing the table above, I am going to take a peek at the area code column vs the prefix columns.\n",
    "\n",
    "df['area_code'].value_counts()\n",
    "\n",
    "\n",
    "pd.pivot_table(df, \n",
    "               values='account_length', \n",
    "               index='area_code', \n",
    "               columns='phone_number_prefix',\n",
    "               aggfunc='count'\n",
    "              )"
   ]
  },
  {
   "cell_type": "markdown",
   "metadata": {},
   "source": [
    "We only have 3 area codes for the all the prefixes that we see.  We may want to encode this category since it is categorical feature.  I will also encode the phone number prefix, and the state columns before running any models.  Going to continue to review."
   ]
  },
  {
   "cell_type": "code",
   "execution_count": 283,
   "metadata": {
    "ExecuteTime": {
     "end_time": "2023-01-24T04:29:18.622990Z",
     "start_time": "2023-01-24T04:29:18.590952Z"
    },
    "scrolled": false
   },
   "outputs": [
    {
     "name": "stdout",
     "output_type": "stream",
     "text": [
      "<class 'pandas.core.frame.DataFrame'>\n",
      "RangeIndex: 3333 entries, 0 to 3332\n",
      "Data columns (total 24 columns):\n",
      " #   Column                  Non-Null Count  Dtype  \n",
      "---  ------                  --------------  -----  \n",
      " 0   account_length          3333 non-null   int64  \n",
      " 1   area_code               3333 non-null   object \n",
      " 2   international_plan      3333 non-null   int64  \n",
      " 3   voice_mail_plan         3333 non-null   int64  \n",
      " 4   number_vmail_messages   3333 non-null   int64  \n",
      " 5   total_day_minutes       3333 non-null   float64\n",
      " 6   total_day_calls         3333 non-null   int64  \n",
      " 7   total_day_charge        3333 non-null   float64\n",
      " 8   total_eve_minutes       3333 non-null   float64\n",
      " 9   total_eve_calls         3333 non-null   int64  \n",
      " 10  total_eve_charge        3333 non-null   float64\n",
      " 11  total_night_minutes     3333 non-null   float64\n",
      " 12  total_night_calls       3333 non-null   int64  \n",
      " 13  total_night_charge      3333 non-null   float64\n",
      " 14  total_intl_minutes      3333 non-null   float64\n",
      " 15  total_intl_calls        3333 non-null   int64  \n",
      " 16  total_intl_charge       3333 non-null   float64\n",
      " 17  customer_service_calls  3333 non-null   int64  \n",
      " 18  churn                   3333 non-null   int64  \n",
      " 19  total_calls             3333 non-null   int64  \n",
      " 20  total_charges           3333 non-null   float64\n",
      " 21  total_minutes           3333 non-null   float64\n",
      " 22  price_per_minute        3333 non-null   float64\n",
      " 23  phone_number_prefix     3333 non-null   object \n",
      "dtypes: float64(11), int64(11), object(2)\n",
      "memory usage: 625.1+ KB\n"
     ]
    }
   ],
   "source": [
    "# Updating international and voicemail indicators to boolean, and area code and phone_num prefix to strings\n",
    "\n",
    "df['area_code'] = df['area_code'].astype(str)\n",
    "df['phone_number_prefix'] = df['phone_number_prefix'].astype(str)\n",
    "\n",
    "\n",
    "df.info()"
   ]
  },
  {
   "cell_type": "code",
   "execution_count": 284,
   "metadata": {
    "ExecuteTime": {
     "end_time": "2023-01-24T04:29:18.653593Z",
     "start_time": "2023-01-24T04:29:18.626358Z"
    }
   },
   "outputs": [
    {
     "data": {
      "text/html": [
       "<div>\n",
       "<style scoped>\n",
       "    .dataframe tbody tr th:only-of-type {\n",
       "        vertical-align: middle;\n",
       "    }\n",
       "\n",
       "    .dataframe tbody tr th {\n",
       "        vertical-align: top;\n",
       "    }\n",
       "\n",
       "    .dataframe thead th {\n",
       "        text-align: right;\n",
       "    }\n",
       "</style>\n",
       "<table border=\"1\" class=\"dataframe\">\n",
       "  <thead>\n",
       "    <tr style=\"text-align: right;\">\n",
       "      <th></th>\n",
       "      <th>account_length</th>\n",
       "      <th>area_code</th>\n",
       "      <th>international_plan</th>\n",
       "      <th>voice_mail_plan</th>\n",
       "      <th>number_vmail_messages</th>\n",
       "      <th>total_day_minutes</th>\n",
       "      <th>total_day_calls</th>\n",
       "      <th>total_day_charge</th>\n",
       "      <th>total_eve_minutes</th>\n",
       "      <th>total_eve_calls</th>\n",
       "      <th>...</th>\n",
       "      <th>total_intl_minutes</th>\n",
       "      <th>total_intl_calls</th>\n",
       "      <th>total_intl_charge</th>\n",
       "      <th>customer_service_calls</th>\n",
       "      <th>churn</th>\n",
       "      <th>total_calls</th>\n",
       "      <th>total_charges</th>\n",
       "      <th>total_minutes</th>\n",
       "      <th>price_per_minute</th>\n",
       "      <th>phone_number_prefix</th>\n",
       "    </tr>\n",
       "  </thead>\n",
       "  <tbody>\n",
       "    <tr>\n",
       "      <th>0</th>\n",
       "      <td>128</td>\n",
       "      <td>415</td>\n",
       "      <td>0</td>\n",
       "      <td>1</td>\n",
       "      <td>25</td>\n",
       "      <td>265.1</td>\n",
       "      <td>110</td>\n",
       "      <td>45.07</td>\n",
       "      <td>197.4</td>\n",
       "      <td>99</td>\n",
       "      <td>...</td>\n",
       "      <td>10.0</td>\n",
       "      <td>3</td>\n",
       "      <td>2.70</td>\n",
       "      <td>1</td>\n",
       "      <td>0</td>\n",
       "      <td>303</td>\n",
       "      <td>75.56</td>\n",
       "      <td>717.2</td>\n",
       "      <td>0.062842</td>\n",
       "      <td>382</td>\n",
       "    </tr>\n",
       "    <tr>\n",
       "      <th>1</th>\n",
       "      <td>107</td>\n",
       "      <td>415</td>\n",
       "      <td>0</td>\n",
       "      <td>1</td>\n",
       "      <td>26</td>\n",
       "      <td>161.6</td>\n",
       "      <td>123</td>\n",
       "      <td>27.47</td>\n",
       "      <td>195.5</td>\n",
       "      <td>103</td>\n",
       "      <td>...</td>\n",
       "      <td>13.7</td>\n",
       "      <td>3</td>\n",
       "      <td>3.70</td>\n",
       "      <td>1</td>\n",
       "      <td>0</td>\n",
       "      <td>332</td>\n",
       "      <td>59.24</td>\n",
       "      <td>625.2</td>\n",
       "      <td>0.043938</td>\n",
       "      <td>371</td>\n",
       "    </tr>\n",
       "    <tr>\n",
       "      <th>2</th>\n",
       "      <td>137</td>\n",
       "      <td>415</td>\n",
       "      <td>0</td>\n",
       "      <td>0</td>\n",
       "      <td>0</td>\n",
       "      <td>243.4</td>\n",
       "      <td>114</td>\n",
       "      <td>41.38</td>\n",
       "      <td>121.2</td>\n",
       "      <td>110</td>\n",
       "      <td>...</td>\n",
       "      <td>12.2</td>\n",
       "      <td>5</td>\n",
       "      <td>3.29</td>\n",
       "      <td>0</td>\n",
       "      <td>0</td>\n",
       "      <td>333</td>\n",
       "      <td>62.29</td>\n",
       "      <td>539.4</td>\n",
       "      <td>0.076715</td>\n",
       "      <td>358</td>\n",
       "    </tr>\n",
       "    <tr>\n",
       "      <th>3</th>\n",
       "      <td>84</td>\n",
       "      <td>408</td>\n",
       "      <td>1</td>\n",
       "      <td>0</td>\n",
       "      <td>0</td>\n",
       "      <td>299.4</td>\n",
       "      <td>71</td>\n",
       "      <td>50.90</td>\n",
       "      <td>61.9</td>\n",
       "      <td>88</td>\n",
       "      <td>...</td>\n",
       "      <td>6.6</td>\n",
       "      <td>7</td>\n",
       "      <td>1.78</td>\n",
       "      <td>2</td>\n",
       "      <td>0</td>\n",
       "      <td>255</td>\n",
       "      <td>66.80</td>\n",
       "      <td>564.8</td>\n",
       "      <td>0.090120</td>\n",
       "      <td>375</td>\n",
       "    </tr>\n",
       "    <tr>\n",
       "      <th>4</th>\n",
       "      <td>75</td>\n",
       "      <td>415</td>\n",
       "      <td>1</td>\n",
       "      <td>0</td>\n",
       "      <td>0</td>\n",
       "      <td>166.7</td>\n",
       "      <td>113</td>\n",
       "      <td>28.34</td>\n",
       "      <td>148.3</td>\n",
       "      <td>122</td>\n",
       "      <td>...</td>\n",
       "      <td>10.1</td>\n",
       "      <td>3</td>\n",
       "      <td>2.73</td>\n",
       "      <td>3</td>\n",
       "      <td>0</td>\n",
       "      <td>359</td>\n",
       "      <td>52.09</td>\n",
       "      <td>512.0</td>\n",
       "      <td>0.055352</td>\n",
       "      <td>330</td>\n",
       "    </tr>\n",
       "  </tbody>\n",
       "</table>\n",
       "<p>5 rows × 24 columns</p>\n",
       "</div>"
      ],
      "text/plain": [
       "   account_length area_code  international_plan  voice_mail_plan  \\\n",
       "0             128       415                   0                1   \n",
       "1             107       415                   0                1   \n",
       "2             137       415                   0                0   \n",
       "3              84       408                   1                0   \n",
       "4              75       415                   1                0   \n",
       "\n",
       "   number_vmail_messages  total_day_minutes  total_day_calls  \\\n",
       "0                     25              265.1              110   \n",
       "1                     26              161.6              123   \n",
       "2                      0              243.4              114   \n",
       "3                      0              299.4               71   \n",
       "4                      0              166.7              113   \n",
       "\n",
       "   total_day_charge  total_eve_minutes  total_eve_calls  ...  \\\n",
       "0             45.07              197.4               99  ...   \n",
       "1             27.47              195.5              103  ...   \n",
       "2             41.38              121.2              110  ...   \n",
       "3             50.90               61.9               88  ...   \n",
       "4             28.34              148.3              122  ...   \n",
       "\n",
       "   total_intl_minutes  total_intl_calls  total_intl_charge  \\\n",
       "0                10.0                 3               2.70   \n",
       "1                13.7                 3               3.70   \n",
       "2                12.2                 5               3.29   \n",
       "3                 6.6                 7               1.78   \n",
       "4                10.1                 3               2.73   \n",
       "\n",
       "   customer_service_calls  churn  total_calls  total_charges  total_minutes  \\\n",
       "0                       1      0          303          75.56          717.2   \n",
       "1                       1      0          332          59.24          625.2   \n",
       "2                       0      0          333          62.29          539.4   \n",
       "3                       2      0          255          66.80          564.8   \n",
       "4                       3      0          359          52.09          512.0   \n",
       "\n",
       "   price_per_minute  phone_number_prefix  \n",
       "0          0.062842                  382  \n",
       "1          0.043938                  371  \n",
       "2          0.076715                  358  \n",
       "3          0.090120                  375  \n",
       "4          0.055352                  330  \n",
       "\n",
       "[5 rows x 24 columns]"
      ]
     },
     "execution_count": 284,
     "metadata": {},
     "output_type": "execute_result"
    }
   ],
   "source": [
    "df.head()"
   ]
  },
  {
   "cell_type": "code",
   "execution_count": 285,
   "metadata": {
    "ExecuteTime": {
     "end_time": "2023-01-24T04:29:22.492757Z",
     "start_time": "2023-01-24T04:29:18.656210Z"
    },
    "scrolled": false
   },
   "outputs": [
    {
     "data": {
      "image/png": "[encoded data removed]",
      "text/plain": [
       "<Figure size 1728x1080 with 2 Axes>"
      ]
     },
     "metadata": {
      "needs_background": "light"
     },
     "output_type": "display_data"
    }
   ],
   "source": [
    "# Creating a heatmap to look at colinearity and potential categories that will lead to churn prediction.\n",
    "\n",
    "corr = df.corr().abs()\n",
    "\n",
    "fix, ax = plt.subplots(figsize = (24,15))\n",
    "matrix = np.triu(corr)\n",
    "ax.set_title('Feature Correlation Matrix', pad=15, fontsize=15)\n",
    "heatmap = sns.heatmap(corr, annot=True, cmap=pal, fmt='.2f', mask=matrix, linewidths=1)\n",
    "plt.show()"
   ]
  },
  {
   "cell_type": "markdown",
   "metadata": {},
   "source": [
    "Charges and total minutes are perfectly correlated, which makes sense.  Also the number of voicemail messages, and the voice mail plan category are also highly correlated.  Meaning if they purchased the plan, it is highly likely that they used it.  Day minutes were highly correlated with the total minutes vs evening minutes.  It looks like churn had the highest correlation with the international plan (which we identified as a possibility earlier).  Total day minutes, total day charges, and customer service calls.  Customer service calls could be related to the actual service that the customer experienced, or could be the fact that the customer had to call in to cancel their plan, thus driving that columns correlation higher.  "
   ]
  },
  {
   "cell_type": "markdown",
   "metadata": {
    "ExecuteTime": {
     "end_time": "2023-01-22T21:56:47.897975Z",
     "start_time": "2023-01-22T21:56:47.891487Z"
    }
   },
   "source": [
    "Going to drop the columns we added earlier, and columns that are dependent on another for its calculation (i.e. charges).  They are too dependent on the source features."
   ]
  },
  {
   "cell_type": "code",
   "execution_count": 286,
   "metadata": {
    "ExecuteTime": {
     "end_time": "2023-01-24T04:29:22.499510Z",
     "start_time": "2023-01-24T04:29:22.494900Z"
    },
    "scrolled": false
   },
   "outputs": [],
   "source": [
    "df = df.drop(['total_charges', \n",
    "         'total_intl_charge', \n",
    "         'total_eve_charge', \n",
    "         'total_day_charge', \n",
    "         'total_night_charge',\n",
    "         'number_vmail_messages',\n",
    "         'total_calls',\n",
    "         'total_minutes',\n",
    "         'price_per_minute'\n",
    "        ],\n",
    "         axis=1)"
   ]
  },
  {
   "cell_type": "code",
   "execution_count": 287,
   "metadata": {
    "ExecuteTime": {
     "end_time": "2023-01-24T04:29:23.772939Z",
     "start_time": "2023-01-24T04:29:22.501720Z"
    }
   },
   "outputs": [
    {
     "data": {
      "image/png": "[encoded data removed]",
      "text/plain": [
       "<Figure size 1728x1080 with 2 Axes>"
      ]
     },
     "metadata": {
      "needs_background": "light"
     },
     "output_type": "display_data"
    }
   ],
   "source": [
    "# Creating a heatmap to look at colinearity and potential categories that will lead to churn prediction.\n",
    "\n",
    "corr = df.corr().abs()\n",
    "\n",
    "fix, ax = plt.subplots(figsize = (24,15))\n",
    "matrix = np.triu(corr)\n",
    "ax.set_title('Feature Correlation Matrix', pad=15, fontsize=15)\n",
    "heatmap = sns.heatmap(corr, annot=True, cmap=pal, fmt='.2f', mask=matrix, linewidths=1)\n",
    "plt.show()"
   ]
  },
  {
   "cell_type": "markdown",
   "metadata": {
    "ExecuteTime": {
     "end_time": "2023-01-24T04:20:30.829904Z",
     "start_time": "2023-01-24T04:20:30.826053Z"
    }
   },
   "source": [
    "Looking much better.  Looks liek that international plan, the total day minutes, and customer serivce calls are all showing some correlation to our target variable of churn."
   ]
  },
  {
   "cell_type": "code",
   "execution_count": 288,
   "metadata": {
    "ExecuteTime": {
     "end_time": "2023-01-24T04:29:23.783318Z",
     "start_time": "2023-01-24T04:29:23.775156Z"
    }
   },
   "outputs": [
    {
     "name": "stdout",
     "output_type": "stream",
     "text": [
      "Raw Counts\n",
      "0    2850\n",
      "1     483\n",
      "Name: churn, dtype: int64\n",
      "\n",
      "Percentages\n",
      "0    0.855086\n",
      "1    0.144914\n",
      "Name: churn, dtype: float64\n"
     ]
    }
   ],
   "source": [
    "# Checking our target/ dataset for balance before creating our baseline classifcation model.\n",
    "\n",
    "print('Raw Counts')\n",
    "print(df['churn'].value_counts())\n",
    "print()\n",
    "print('Percentages')\n",
    "print(df['churn'].value_counts(normalize=True))"
   ]
  },
  {
   "cell_type": "markdown",
   "metadata": {},
   "source": [
    "A baseline model that always chose the majority class would have an accuracy of over 85%. Therefore we will want to report additional metrics at the end."
   ]
  },
  {
   "cell_type": "markdown",
   "metadata": {},
   "source": [
    "# Classfication Modeling"
   ]
  },
  {
   "cell_type": "code",
   "execution_count": 289,
   "metadata": {
    "ExecuteTime": {
     "end_time": "2023-01-24T04:29:23.797005Z",
     "start_time": "2023-01-24T04:29:23.785671Z"
    }
   },
   "outputs": [
    {
     "name": "stdout",
     "output_type": "stream",
     "text": [
      "<class 'pandas.core.frame.DataFrame'>\n",
      "RangeIndex: 3333 entries, 0 to 3332\n",
      "Data columns (total 15 columns):\n",
      " #   Column                  Non-Null Count  Dtype  \n",
      "---  ------                  --------------  -----  \n",
      " 0   account_length          3333 non-null   int64  \n",
      " 1   area_code               3333 non-null   object \n",
      " 2   international_plan      3333 non-null   int64  \n",
      " 3   voice_mail_plan         3333 non-null   int64  \n",
      " 4   total_day_minutes       3333 non-null   float64\n",
      " 5   total_day_calls         3333 non-null   int64  \n",
      " 6   total_eve_minutes       3333 non-null   float64\n",
      " 7   total_eve_calls         3333 non-null   int64  \n",
      " 8   total_night_minutes     3333 non-null   float64\n",
      " 9   total_night_calls       3333 non-null   int64  \n",
      " 10  total_intl_minutes      3333 non-null   float64\n",
      " 11  total_intl_calls        3333 non-null   int64  \n",
      " 12  customer_service_calls  3333 non-null   int64  \n",
      " 13  churn                   3333 non-null   int64  \n",
      " 14  phone_number_prefix     3333 non-null   object \n",
      "dtypes: float64(4), int64(9), object(2)\n",
      "memory usage: 390.7+ KB\n"
     ]
    }
   ],
   "source": [
    "# Quick look at our dataframe\n",
    "\n",
    "df.info()"
   ]
  },
  {
   "cell_type": "code",
   "execution_count": 290,
   "metadata": {
    "ExecuteTime": {
     "end_time": "2023-01-24T04:29:23.817693Z",
     "start_time": "2023-01-24T04:29:23.800190Z"
    }
   },
   "outputs": [],
   "source": [
    "# Situate target and non-target features\n",
    "\n",
    "X = df.drop('churn', axis=1)\n",
    "y = df['churn']\n",
    "\n",
    "# Create splits\n",
    "\n",
    "X_train, X_test, y_train, y_test = train_test_split(X, y, random_state=42)"
   ]
  },
  {
   "cell_type": "code",
   "execution_count": 291,
   "metadata": {
    "ExecuteTime": {
     "end_time": "2023-01-24T04:29:23.850535Z",
     "start_time": "2023-01-24T04:29:23.826502Z"
    }
   },
   "outputs": [
    {
     "data": {
      "text/plain": [
       "0.8567430861723446"
      ]
     },
     "execution_count": 291,
     "metadata": {},
     "output_type": "execute_result"
    }
   ],
   "source": [
    "# Also looking at a dummy model with 5 cross validation folds.  Mean accuracy is about\n",
    "# 86%.  This aligns with our assumption above with the imbalance of our churned \n",
    "# customer count.\n",
    "\n",
    "dummy_model = DummyClassifier(strategy='most_frequent')\n",
    "\n",
    "cv_results = cross_val_score(dummy_model, \n",
    "                             X_train, \n",
    "                             y_train, \n",
    "                             cv=5)\n",
    "\n",
    "dummy_model.fit(X_train, y_train)\n",
    "\n",
    "np.mean(cv_results)"
   ]
  },
  {
   "cell_type": "markdown",
   "metadata": {},
   "source": [
    "Case and point from our statement earlier, a most frequent model could capture around 86% of the correct cases.  With that being said, the metric we will be evaluating is recall.  Recall is calculated by taking the number of True Positives divided by the True Positives and the False Negative classes.  Recall is typically good when we want to limit false negatives.  For our use case, false negatives would be a customer that churned, and we didn't predict them to churn, thus never giving our partners in Customer Success the opportunity to \"save\" the client.\n"
   ]
  },
  {
   "cell_type": "markdown",
   "metadata": {},
   "source": [
    "## Pipeline"
   ]
  },
  {
   "cell_type": "code",
   "execution_count": 292,
   "metadata": {
    "ExecuteTime": {
     "end_time": "2023-01-24T04:29:23.867736Z",
     "start_time": "2023-01-24T04:29:23.852872Z"
    }
   },
   "outputs": [
    {
     "data": {
      "text/html": [
       "<div>\n",
       "<style scoped>\n",
       "    .dataframe tbody tr th:only-of-type {\n",
       "        vertical-align: middle;\n",
       "    }\n",
       "\n",
       "    .dataframe tbody tr th {\n",
       "        vertical-align: top;\n",
       "    }\n",
       "\n",
       "    .dataframe thead th {\n",
       "        text-align: right;\n",
       "    }\n",
       "</style>\n",
       "<table border=\"1\" class=\"dataframe\">\n",
       "  <thead>\n",
       "    <tr style=\"text-align: right;\">\n",
       "      <th></th>\n",
       "      <th>account_length</th>\n",
       "      <th>area_code</th>\n",
       "      <th>international_plan</th>\n",
       "      <th>voice_mail_plan</th>\n",
       "      <th>total_day_minutes</th>\n",
       "      <th>total_day_calls</th>\n",
       "      <th>total_eve_minutes</th>\n",
       "      <th>total_eve_calls</th>\n",
       "      <th>total_night_minutes</th>\n",
       "      <th>total_night_calls</th>\n",
       "      <th>total_intl_minutes</th>\n",
       "      <th>total_intl_calls</th>\n",
       "      <th>customer_service_calls</th>\n",
       "      <th>phone_number_prefix</th>\n",
       "    </tr>\n",
       "  </thead>\n",
       "  <tbody>\n",
       "    <tr>\n",
       "      <th>367</th>\n",
       "      <td>45</td>\n",
       "      <td>415</td>\n",
       "      <td>0</td>\n",
       "      <td>0</td>\n",
       "      <td>78.2</td>\n",
       "      <td>127</td>\n",
       "      <td>253.4</td>\n",
       "      <td>108</td>\n",
       "      <td>255.0</td>\n",
       "      <td>100</td>\n",
       "      <td>18.0</td>\n",
       "      <td>3</td>\n",
       "      <td>1</td>\n",
       "      <td>350</td>\n",
       "    </tr>\n",
       "    <tr>\n",
       "      <th>3103</th>\n",
       "      <td>115</td>\n",
       "      <td>415</td>\n",
       "      <td>0</td>\n",
       "      <td>0</td>\n",
       "      <td>195.9</td>\n",
       "      <td>111</td>\n",
       "      <td>227.0</td>\n",
       "      <td>108</td>\n",
       "      <td>313.2</td>\n",
       "      <td>113</td>\n",
       "      <td>13.2</td>\n",
       "      <td>1</td>\n",
       "      <td>2</td>\n",
       "      <td>415</td>\n",
       "    </tr>\n",
       "    <tr>\n",
       "      <th>549</th>\n",
       "      <td>121</td>\n",
       "      <td>408</td>\n",
       "      <td>0</td>\n",
       "      <td>1</td>\n",
       "      <td>237.1</td>\n",
       "      <td>63</td>\n",
       "      <td>205.6</td>\n",
       "      <td>117</td>\n",
       "      <td>196.7</td>\n",
       "      <td>85</td>\n",
       "      <td>10.1</td>\n",
       "      <td>5</td>\n",
       "      <td>4</td>\n",
       "      <td>364</td>\n",
       "    </tr>\n",
       "    <tr>\n",
       "      <th>2531</th>\n",
       "      <td>180</td>\n",
       "      <td>415</td>\n",
       "      <td>0</td>\n",
       "      <td>0</td>\n",
       "      <td>143.3</td>\n",
       "      <td>134</td>\n",
       "      <td>180.5</td>\n",
       "      <td>113</td>\n",
       "      <td>184.2</td>\n",
       "      <td>87</td>\n",
       "      <td>10.1</td>\n",
       "      <td>4</td>\n",
       "      <td>1</td>\n",
       "      <td>366</td>\n",
       "    </tr>\n",
       "    <tr>\n",
       "      <th>2378</th>\n",
       "      <td>112</td>\n",
       "      <td>510</td>\n",
       "      <td>0</td>\n",
       "      <td>0</td>\n",
       "      <td>206.2</td>\n",
       "      <td>122</td>\n",
       "      <td>164.5</td>\n",
       "      <td>94</td>\n",
       "      <td>140.3</td>\n",
       "      <td>101</td>\n",
       "      <td>12.6</td>\n",
       "      <td>7</td>\n",
       "      <td>3</td>\n",
       "      <td>396</td>\n",
       "    </tr>\n",
       "  </tbody>\n",
       "</table>\n",
       "</div>"
      ],
      "text/plain": [
       "      account_length area_code  international_plan  voice_mail_plan  \\\n",
       "367               45       415                   0                0   \n",
       "3103             115       415                   0                0   \n",
       "549              121       408                   0                1   \n",
       "2531             180       415                   0                0   \n",
       "2378             112       510                   0                0   \n",
       "\n",
       "      total_day_minutes  total_day_calls  total_eve_minutes  total_eve_calls  \\\n",
       "367                78.2              127              253.4              108   \n",
       "3103              195.9              111              227.0              108   \n",
       "549               237.1               63              205.6              117   \n",
       "2531              143.3              134              180.5              113   \n",
       "2378              206.2              122              164.5               94   \n",
       "\n",
       "      total_night_minutes  total_night_calls  total_intl_minutes  \\\n",
       "367                 255.0                100                18.0   \n",
       "3103                313.2                113                13.2   \n",
       "549                 196.7                 85                10.1   \n",
       "2531                184.2                 87                10.1   \n",
       "2378                140.3                101                12.6   \n",
       "\n",
       "      total_intl_calls  customer_service_calls phone_number_prefix  \n",
       "367                  3                       1                 350  \n",
       "3103                 1                       2                 415  \n",
       "549                  5                       4                 364  \n",
       "2531                 4                       1                 366  \n",
       "2378                 7                       3                 396  "
      ]
     },
     "execution_count": 292,
     "metadata": {},
     "output_type": "execute_result"
    }
   ],
   "source": [
    "# Saving a copy of our data frame to reference columns later.\n",
    "\n",
    "df_X_train_copy_orig = X_train.iloc[:10]\n",
    "df_X_train_copy_orig.head()"
   ]
  },
  {
   "cell_type": "code",
   "execution_count": 293,
   "metadata": {
    "ExecuteTime": {
     "end_time": "2023-01-24T04:29:23.873307Z",
     "start_time": "2023-01-24T04:29:23.870124Z"
    }
   },
   "outputs": [],
   "source": [
    "# Labeling columns for different preprocessing steps\n",
    "\n",
    "categorical_columns = ['area_code', 'phone_number_prefix']\n",
    "\n",
    "numerical_columns = ['account_length', 'total_day_minutes', \n",
    "                     'total_day_calls', 'total_eve_minutes', 'total_eve_calls', \n",
    "                     'total_night_calls', 'total_intl_minutes', 'total_intl_calls',\n",
    "                     'customer_service_calls', 'total_night_minutes'\n",
    "                    ]\n",
    "\n",
    "binary_columns = ['international_plan', 'voice_mail_plan']"
   ]
  },
  {
   "cell_type": "code",
   "execution_count": 294,
   "metadata": {
    "ExecuteTime": {
     "end_time": "2023-01-24T04:29:23.883842Z",
     "start_time": "2023-01-24T04:29:23.877403Z"
    },
    "scrolled": false
   },
   "outputs": [
    {
     "data": {
      "text/plain": [
       "True"
      ]
     },
     "execution_count": 294,
     "metadata": {},
     "output_type": "execute_result"
    }
   ],
   "source": [
    "# Check to make sure we have all our columns accounted for\n",
    "\n",
    "(len(categorical_columns)+len(numerical_columns)+len(binary_columns)) == (df.shape[1]-1)"
   ]
  },
  {
   "cell_type": "code",
   "execution_count": 295,
   "metadata": {
    "ExecuteTime": {
     "end_time": "2023-01-24T04:29:23.929864Z",
     "start_time": "2023-01-24T04:29:23.887092Z"
    },
    "scrolled": true
   },
   "outputs": [
    {
     "data": {
      "text/html": [
       "<div>\n",
       "<style scoped>\n",
       "    .dataframe tbody tr th:only-of-type {\n",
       "        vertical-align: middle;\n",
       "    }\n",
       "\n",
       "    .dataframe tbody tr th {\n",
       "        vertical-align: top;\n",
       "    }\n",
       "\n",
       "    .dataframe thead th {\n",
       "        text-align: right;\n",
       "    }\n",
       "</style>\n",
       "<table border=\"1\" class=\"dataframe\">\n",
       "  <thead>\n",
       "    <tr style=\"text-align: right;\">\n",
       "      <th></th>\n",
       "      <th>account_length</th>\n",
       "      <th>international_plan</th>\n",
       "      <th>voice_mail_plan</th>\n",
       "      <th>total_day_minutes</th>\n",
       "      <th>total_day_calls</th>\n",
       "      <th>total_eve_minutes</th>\n",
       "      <th>total_eve_calls</th>\n",
       "      <th>total_night_minutes</th>\n",
       "      <th>total_night_calls</th>\n",
       "      <th>total_intl_minutes</th>\n",
       "      <th>...</th>\n",
       "      <th>x1_413</th>\n",
       "      <th>x1_414</th>\n",
       "      <th>x1_415</th>\n",
       "      <th>x1_416</th>\n",
       "      <th>x1_417</th>\n",
       "      <th>x1_418</th>\n",
       "      <th>x1_419</th>\n",
       "      <th>x1_420</th>\n",
       "      <th>x1_421</th>\n",
       "      <th>x1_422</th>\n",
       "    </tr>\n",
       "  </thead>\n",
       "  <tbody>\n",
       "    <tr>\n",
       "      <th>367</th>\n",
       "      <td>45</td>\n",
       "      <td>0</td>\n",
       "      <td>0</td>\n",
       "      <td>78.2</td>\n",
       "      <td>127</td>\n",
       "      <td>253.4</td>\n",
       "      <td>108</td>\n",
       "      <td>255.0</td>\n",
       "      <td>100</td>\n",
       "      <td>18.0</td>\n",
       "      <td>...</td>\n",
       "      <td>0.0</td>\n",
       "      <td>0.0</td>\n",
       "      <td>0.0</td>\n",
       "      <td>0.0</td>\n",
       "      <td>0.0</td>\n",
       "      <td>0.0</td>\n",
       "      <td>0.0</td>\n",
       "      <td>0.0</td>\n",
       "      <td>0.0</td>\n",
       "      <td>0.0</td>\n",
       "    </tr>\n",
       "    <tr>\n",
       "      <th>3103</th>\n",
       "      <td>115</td>\n",
       "      <td>0</td>\n",
       "      <td>0</td>\n",
       "      <td>195.9</td>\n",
       "      <td>111</td>\n",
       "      <td>227.0</td>\n",
       "      <td>108</td>\n",
       "      <td>313.2</td>\n",
       "      <td>113</td>\n",
       "      <td>13.2</td>\n",
       "      <td>...</td>\n",
       "      <td>0.0</td>\n",
       "      <td>0.0</td>\n",
       "      <td>1.0</td>\n",
       "      <td>0.0</td>\n",
       "      <td>0.0</td>\n",
       "      <td>0.0</td>\n",
       "      <td>0.0</td>\n",
       "      <td>0.0</td>\n",
       "      <td>0.0</td>\n",
       "      <td>0.0</td>\n",
       "    </tr>\n",
       "    <tr>\n",
       "      <th>549</th>\n",
       "      <td>121</td>\n",
       "      <td>0</td>\n",
       "      <td>1</td>\n",
       "      <td>237.1</td>\n",
       "      <td>63</td>\n",
       "      <td>205.6</td>\n",
       "      <td>117</td>\n",
       "      <td>196.7</td>\n",
       "      <td>85</td>\n",
       "      <td>10.1</td>\n",
       "      <td>...</td>\n",
       "      <td>0.0</td>\n",
       "      <td>0.0</td>\n",
       "      <td>0.0</td>\n",
       "      <td>0.0</td>\n",
       "      <td>0.0</td>\n",
       "      <td>0.0</td>\n",
       "      <td>0.0</td>\n",
       "      <td>0.0</td>\n",
       "      <td>0.0</td>\n",
       "      <td>0.0</td>\n",
       "    </tr>\n",
       "    <tr>\n",
       "      <th>2531</th>\n",
       "      <td>180</td>\n",
       "      <td>0</td>\n",
       "      <td>0</td>\n",
       "      <td>143.3</td>\n",
       "      <td>134</td>\n",
       "      <td>180.5</td>\n",
       "      <td>113</td>\n",
       "      <td>184.2</td>\n",
       "      <td>87</td>\n",
       "      <td>10.1</td>\n",
       "      <td>...</td>\n",
       "      <td>0.0</td>\n",
       "      <td>0.0</td>\n",
       "      <td>0.0</td>\n",
       "      <td>0.0</td>\n",
       "      <td>0.0</td>\n",
       "      <td>0.0</td>\n",
       "      <td>0.0</td>\n",
       "      <td>0.0</td>\n",
       "      <td>0.0</td>\n",
       "      <td>0.0</td>\n",
       "    </tr>\n",
       "    <tr>\n",
       "      <th>2378</th>\n",
       "      <td>112</td>\n",
       "      <td>0</td>\n",
       "      <td>0</td>\n",
       "      <td>206.2</td>\n",
       "      <td>122</td>\n",
       "      <td>164.5</td>\n",
       "      <td>94</td>\n",
       "      <td>140.3</td>\n",
       "      <td>101</td>\n",
       "      <td>12.6</td>\n",
       "      <td>...</td>\n",
       "      <td>0.0</td>\n",
       "      <td>0.0</td>\n",
       "      <td>0.0</td>\n",
       "      <td>0.0</td>\n",
       "      <td>0.0</td>\n",
       "      <td>0.0</td>\n",
       "      <td>0.0</td>\n",
       "      <td>0.0</td>\n",
       "      <td>0.0</td>\n",
       "      <td>0.0</td>\n",
       "    </tr>\n",
       "  </tbody>\n",
       "</table>\n",
       "<p>5 rows × 109 columns</p>\n",
       "</div>"
      ],
      "text/plain": [
       "      account_length  international_plan  voice_mail_plan  total_day_minutes  \\\n",
       "367               45                   0                0               78.2   \n",
       "3103             115                   0                0              195.9   \n",
       "549              121                   0                1              237.1   \n",
       "2531             180                   0                0              143.3   \n",
       "2378             112                   0                0              206.2   \n",
       "\n",
       "      total_day_calls  total_eve_minutes  total_eve_calls  \\\n",
       "367               127              253.4              108   \n",
       "3103              111              227.0              108   \n",
       "549                63              205.6              117   \n",
       "2531              134              180.5              113   \n",
       "2378              122              164.5               94   \n",
       "\n",
       "      total_night_minutes  total_night_calls  total_intl_minutes  ...  x1_413  \\\n",
       "367                 255.0                100                18.0  ...     0.0   \n",
       "3103                313.2                113                13.2  ...     0.0   \n",
       "549                 196.7                 85                10.1  ...     0.0   \n",
       "2531                184.2                 87                10.1  ...     0.0   \n",
       "2378                140.3                101                12.6  ...     0.0   \n",
       "\n",
       "      x1_414  x1_415  x1_416  x1_417  x1_418  x1_419  x1_420  x1_421  x1_422  \n",
       "367      0.0     0.0     0.0     0.0     0.0     0.0     0.0     0.0     0.0  \n",
       "3103     0.0     1.0     0.0     0.0     0.0     0.0     0.0     0.0     0.0  \n",
       "549      0.0     0.0     0.0     0.0     0.0     0.0     0.0     0.0     0.0  \n",
       "2531     0.0     0.0     0.0     0.0     0.0     0.0     0.0     0.0     0.0  \n",
       "2378     0.0     0.0     0.0     0.0     0.0     0.0     0.0     0.0     0.0  \n",
       "\n",
       "[5 rows x 109 columns]"
      ]
     },
     "execution_count": 295,
     "metadata": {},
     "output_type": "execute_result"
    }
   ],
   "source": [
    "# One Hot Encoding out categorical variables on our TRAINING data\n",
    "\n",
    "categorical_Xtr_df = pd.DataFrame(X_train, columns=categorical_columns)\n",
    "\n",
    "ohe = OneHotEncoder(drop='first',\n",
    "                    sparse = False) \n",
    "\n",
    "ohe_data = ohe.fit_transform(categorical_Xtr_df)\n",
    "\n",
    "# Dum dums\n",
    "\n",
    "ohe_data_df = pd.DataFrame(ohe_data,\n",
    "                     columns=ohe.get_feature_names(),\n",
    "                     index=categorical_Xtr_df.index)#make sure to pass an index\n",
    "\n",
    "clean_df = X_train.drop(categorical_Xtr_df, axis=1)\n",
    "\n",
    "# Putting humpty back together again\n",
    "\n",
    "X_train = pd.concat([clean_df, ohe_data_df], axis=1)\n",
    "\n",
    "# Quick peek \n",
    "X_train.head()"
   ]
  },
  {
   "cell_type": "code",
   "execution_count": 296,
   "metadata": {
    "ExecuteTime": {
     "end_time": "2023-01-24T04:29:31.240282Z",
     "start_time": "2023-01-24T04:29:31.205517Z"
    },
    "scrolled": false
   },
   "outputs": [
    {
     "data": {
      "text/html": [
       "<div>\n",
       "<style scoped>\n",
       "    .dataframe tbody tr th:only-of-type {\n",
       "        vertical-align: middle;\n",
       "    }\n",
       "\n",
       "    .dataframe tbody tr th {\n",
       "        vertical-align: top;\n",
       "    }\n",
       "\n",
       "    .dataframe thead th {\n",
       "        text-align: right;\n",
       "    }\n",
       "</style>\n",
       "<table border=\"1\" class=\"dataframe\">\n",
       "  <thead>\n",
       "    <tr style=\"text-align: right;\">\n",
       "      <th></th>\n",
       "      <th>account_length</th>\n",
       "      <th>international_plan</th>\n",
       "      <th>voice_mail_plan</th>\n",
       "      <th>total_day_minutes</th>\n",
       "      <th>total_day_calls</th>\n",
       "      <th>total_eve_minutes</th>\n",
       "      <th>total_eve_calls</th>\n",
       "      <th>total_night_minutes</th>\n",
       "      <th>total_night_calls</th>\n",
       "      <th>total_intl_minutes</th>\n",
       "      <th>...</th>\n",
       "      <th>x1_413</th>\n",
       "      <th>x1_414</th>\n",
       "      <th>x1_415</th>\n",
       "      <th>x1_416</th>\n",
       "      <th>x1_417</th>\n",
       "      <th>x1_418</th>\n",
       "      <th>x1_419</th>\n",
       "      <th>x1_420</th>\n",
       "      <th>x1_421</th>\n",
       "      <th>x1_422</th>\n",
       "    </tr>\n",
       "  </thead>\n",
       "  <tbody>\n",
       "    <tr>\n",
       "      <th>438</th>\n",
       "      <td>113</td>\n",
       "      <td>0</td>\n",
       "      <td>0</td>\n",
       "      <td>155.0</td>\n",
       "      <td>93</td>\n",
       "      <td>330.6</td>\n",
       "      <td>106</td>\n",
       "      <td>189.4</td>\n",
       "      <td>123</td>\n",
       "      <td>13.5</td>\n",
       "      <td>...</td>\n",
       "      <td>0.0</td>\n",
       "      <td>0.0</td>\n",
       "      <td>0.0</td>\n",
       "      <td>0.0</td>\n",
       "      <td>0.0</td>\n",
       "      <td>0.0</td>\n",
       "      <td>0.0</td>\n",
       "      <td>0.0</td>\n",
       "      <td>0.0</td>\n",
       "      <td>0.0</td>\n",
       "    </tr>\n",
       "    <tr>\n",
       "      <th>2674</th>\n",
       "      <td>67</td>\n",
       "      <td>0</td>\n",
       "      <td>0</td>\n",
       "      <td>109.1</td>\n",
       "      <td>117</td>\n",
       "      <td>217.4</td>\n",
       "      <td>124</td>\n",
       "      <td>188.4</td>\n",
       "      <td>141</td>\n",
       "      <td>12.8</td>\n",
       "      <td>...</td>\n",
       "      <td>0.0</td>\n",
       "      <td>0.0</td>\n",
       "      <td>0.0</td>\n",
       "      <td>0.0</td>\n",
       "      <td>0.0</td>\n",
       "      <td>0.0</td>\n",
       "      <td>0.0</td>\n",
       "      <td>0.0</td>\n",
       "      <td>0.0</td>\n",
       "      <td>0.0</td>\n",
       "    </tr>\n",
       "    <tr>\n",
       "      <th>1345</th>\n",
       "      <td>98</td>\n",
       "      <td>0</td>\n",
       "      <td>0</td>\n",
       "      <td>0.0</td>\n",
       "      <td>0</td>\n",
       "      <td>159.6</td>\n",
       "      <td>130</td>\n",
       "      <td>167.1</td>\n",
       "      <td>88</td>\n",
       "      <td>6.8</td>\n",
       "      <td>...</td>\n",
       "      <td>0.0</td>\n",
       "      <td>0.0</td>\n",
       "      <td>0.0</td>\n",
       "      <td>0.0</td>\n",
       "      <td>0.0</td>\n",
       "      <td>0.0</td>\n",
       "      <td>0.0</td>\n",
       "      <td>0.0</td>\n",
       "      <td>0.0</td>\n",
       "      <td>0.0</td>\n",
       "    </tr>\n",
       "    <tr>\n",
       "      <th>1957</th>\n",
       "      <td>147</td>\n",
       "      <td>0</td>\n",
       "      <td>0</td>\n",
       "      <td>212.8</td>\n",
       "      <td>79</td>\n",
       "      <td>204.1</td>\n",
       "      <td>91</td>\n",
       "      <td>156.2</td>\n",
       "      <td>113</td>\n",
       "      <td>10.2</td>\n",
       "      <td>...</td>\n",
       "      <td>0.0</td>\n",
       "      <td>0.0</td>\n",
       "      <td>0.0</td>\n",
       "      <td>0.0</td>\n",
       "      <td>0.0</td>\n",
       "      <td>0.0</td>\n",
       "      <td>0.0</td>\n",
       "      <td>0.0</td>\n",
       "      <td>0.0</td>\n",
       "      <td>0.0</td>\n",
       "    </tr>\n",
       "    <tr>\n",
       "      <th>2148</th>\n",
       "      <td>96</td>\n",
       "      <td>0</td>\n",
       "      <td>0</td>\n",
       "      <td>144.0</td>\n",
       "      <td>102</td>\n",
       "      <td>224.7</td>\n",
       "      <td>73</td>\n",
       "      <td>227.7</td>\n",
       "      <td>91</td>\n",
       "      <td>10.0</td>\n",
       "      <td>...</td>\n",
       "      <td>0.0</td>\n",
       "      <td>0.0</td>\n",
       "      <td>0.0</td>\n",
       "      <td>0.0</td>\n",
       "      <td>0.0</td>\n",
       "      <td>0.0</td>\n",
       "      <td>0.0</td>\n",
       "      <td>0.0</td>\n",
       "      <td>0.0</td>\n",
       "      <td>0.0</td>\n",
       "    </tr>\n",
       "  </tbody>\n",
       "</table>\n",
       "<p>5 rows × 109 columns</p>\n",
       "</div>"
      ],
      "text/plain": [
       "      account_length  international_plan  voice_mail_plan  total_day_minutes  \\\n",
       "438              113                   0                0              155.0   \n",
       "2674              67                   0                0              109.1   \n",
       "1345              98                   0                0                0.0   \n",
       "1957             147                   0                0              212.8   \n",
       "2148              96                   0                0              144.0   \n",
       "\n",
       "      total_day_calls  total_eve_minutes  total_eve_calls  \\\n",
       "438                93              330.6              106   \n",
       "2674              117              217.4              124   \n",
       "1345                0              159.6              130   \n",
       "1957               79              204.1               91   \n",
       "2148              102              224.7               73   \n",
       "\n",
       "      total_night_minutes  total_night_calls  total_intl_minutes  ...  x1_413  \\\n",
       "438                 189.4                123                13.5  ...     0.0   \n",
       "2674                188.4                141                12.8  ...     0.0   \n",
       "1345                167.1                 88                 6.8  ...     0.0   \n",
       "1957                156.2                113                10.2  ...     0.0   \n",
       "2148                227.7                 91                10.0  ...     0.0   \n",
       "\n",
       "      x1_414  x1_415  x1_416  x1_417  x1_418  x1_419  x1_420  x1_421  x1_422  \n",
       "438      0.0     0.0     0.0     0.0     0.0     0.0     0.0     0.0     0.0  \n",
       "2674     0.0     0.0     0.0     0.0     0.0     0.0     0.0     0.0     0.0  \n",
       "1345     0.0     0.0     0.0     0.0     0.0     0.0     0.0     0.0     0.0  \n",
       "1957     0.0     0.0     0.0     0.0     0.0     0.0     0.0     0.0     0.0  \n",
       "2148     0.0     0.0     0.0     0.0     0.0     0.0     0.0     0.0     0.0  \n",
       "\n",
       "[5 rows x 109 columns]"
      ]
     },
     "execution_count": 296,
     "metadata": {},
     "output_type": "execute_result"
    }
   ],
   "source": [
    "# One Hot Encoding out categorical variables on our TEST data\n",
    "\n",
    "categorical_Xts_df = pd.DataFrame(X_test, columns=categorical_columns)\n",
    "\n",
    "ohe = OneHotEncoder(drop='first',\n",
    "                    sparse = False) \n",
    "\n",
    "ohe_data = ohe.fit_transform(categorical_Xts_df)\n",
    "\n",
    "# Dum dums\n",
    "\n",
    "ohe_data_df = pd.DataFrame(ohe_data,\n",
    "                     columns=ohe.get_feature_names(),\n",
    "                     index=categorical_Xts_df.index)#make sure to pass an index\n",
    "\n",
    "clean_df = X_test.drop(categorical_Xts_df, axis=1)\n",
    "\n",
    "# Putting humpty back together again\n",
    "\n",
    "X_test = pd.concat([clean_df, ohe_data_df], axis=1)\n",
    "\n",
    "# Quick peek \n",
    "X_test.head()"
   ]
  },
  {
   "cell_type": "code",
   "execution_count": 297,
   "metadata": {
    "ExecuteTime": {
     "end_time": "2023-01-24T04:29:33.356774Z",
     "start_time": "2023-01-24T04:29:33.353680Z"
    }
   },
   "outputs": [],
   "source": [
    "# Saving a copy of our data frame to reference columns later.\n",
    "\n",
    "df_X_train_copy = X_train.iloc[:10]\n",
    "\n",
    "df_X_test_copy = X_test.iloc[:10]\n"
   ]
  },
  {
   "cell_type": "code",
   "execution_count": 298,
   "metadata": {
    "ExecuteTime": {
     "end_time": "2023-01-24T04:29:35.079525Z",
     "start_time": "2023-01-24T04:29:35.052238Z"
    }
   },
   "outputs": [],
   "source": [
    "# Scaling our data to prevent features from outweight others\n",
    "\n",
    "SC = StandardScaler()\n",
    "X_train = SC.fit_transform(X_train)\n",
    "X_test = SC.transform(X_test)"
   ]
  },
  {
   "cell_type": "markdown",
   "metadata": {},
   "source": [
    "## SMOTE Work"
   ]
  },
  {
   "cell_type": "code",
   "execution_count": 299,
   "metadata": {
    "ExecuteTime": {
     "end_time": "2023-01-24T04:29:36.452741Z",
     "start_time": "2023-01-24T04:29:36.447561Z"
    }
   },
   "outputs": [
    {
     "data": {
      "text/plain": [
       "0    2141\n",
       "1     358\n",
       "Name: churn, dtype: int64"
      ]
     },
     "execution_count": 299,
     "metadata": {},
     "output_type": "execute_result"
    }
   ],
   "source": [
    "# Let's take a quick look at that imbalance once more.\n",
    "\n",
    "y_train.value_counts()"
   ]
  },
  {
   "cell_type": "code",
   "execution_count": 300,
   "metadata": {
    "ExecuteTime": {
     "end_time": "2023-01-24T04:29:36.989987Z",
     "start_time": "2023-01-24T04:29:36.986800Z"
    }
   },
   "outputs": [],
   "source": [
    "# Instantiating SMOTE \n",
    "\n",
    "sm = SMOTE(sampling_strategy='auto', random_state=42)"
   ]
  },
  {
   "cell_type": "code",
   "execution_count": 301,
   "metadata": {
    "ExecuteTime": {
     "end_time": "2023-01-24T04:29:37.609353Z",
     "start_time": "2023-01-24T04:29:37.572149Z"
    }
   },
   "outputs": [
    {
     "data": {
      "text/plain": [
       "1    2141\n",
       "0    2141\n",
       "Name: churn, dtype: int64"
      ]
     },
     "execution_count": 301,
     "metadata": {},
     "output_type": "execute_result"
    }
   ],
   "source": [
    "X_train, y_train = sm.fit_resample(X_train, y_train)\n",
    "\n",
    "y_train.value_counts()"
   ]
  },
  {
   "cell_type": "markdown",
   "metadata": {
    "ExecuteTime": {
     "end_time": "2023-01-16T02:01:16.034888Z",
     "start_time": "2023-01-16T02:01:16.032324Z"
    }
   },
   "source": [
    "# Logistic Regression Model"
   ]
  },
  {
   "cell_type": "markdown",
   "metadata": {},
   "source": [
    "## Baseline Log Reg"
   ]
  },
  {
   "cell_type": "code",
   "execution_count": 302,
   "metadata": {
    "ExecuteTime": {
     "end_time": "2023-01-24T04:29:39.733863Z",
     "start_time": "2023-01-24T04:29:39.663459Z"
    },
    "code_folding": [],
    "scrolled": false
   },
   "outputs": [],
   "source": [
    "# Baseline Logistic Regression model \n",
    "baseline_logreg = ImPipeline(steps=[('sm', SMOTE(random_state=42)),\n",
    "                            ('estimator', LogisticRegression(random_state=42))])\n",
    "\n",
    "# Train model\n",
    "baseline_logreg.fit(X_train, y_train);"
   ]
  },
  {
   "cell_type": "code",
   "execution_count": 303,
   "metadata": {
    "ExecuteTime": {
     "end_time": "2023-01-24T04:29:41.383868Z",
     "start_time": "2023-01-24T04:29:41.151206Z"
    },
    "scrolled": true
   },
   "outputs": [
    {
     "data": {
      "image/png": "[encoded data removed]",
      "text/plain": [
       "<Figure size 576x360 with 1 Axes>"
      ]
     },
     "metadata": {
      "needs_background": "light"
     },
     "output_type": "display_data"
    }
   ],
   "source": [
    "# Quick look at the performance of our baseline model.  We'll take a peek\n",
    "# at the ROC curve first, even though our metric of interest is recall, and F1.\n",
    "fig, ax2 = plt.subplots(figsize=(8,5))\n",
    "plot_roc_curve(baseline_logreg, X_train, y_train, ax=ax2, name ='Train ROC curve', color=c(\"blue\"))\n",
    "plot_roc_curve(baseline_logreg, X_test, y_test, ax=ax2, name ='Test ROC curve', color=c(\"redorange\") )\n",
    "ax2.plot([0, 1], [0, 1], color='lightgray', lw=1, linestyle='-.')\n",
    "ax2.set_xlabel('False Positive Rate')\n",
    "ax2.set_ylabel('True Positive Rate')\n",
    "ax2.set_title('Receiver operating characteristic (ROC) Curve')\n",
    "plt.show();\n"
   ]
  },
  {
   "cell_type": "markdown",
   "metadata": {},
   "source": [
    "Looks like we have a bit of overfitting going on with our train and test sets.  Going to look at the confusion matrix for our model to check in on our Recall score."
   ]
  },
  {
   "cell_type": "code",
   "execution_count": 319,
   "metadata": {
    "ExecuteTime": {
     "end_time": "2023-01-24T04:46:07.441155Z",
     "start_time": "2023-01-24T04:46:06.945060Z"
    },
    "scrolled": false
   },
   "outputs": [
    {
     "data": {
      "image/png": "[encoded data removed]",
      "text/plain": [
       "<Figure size 576x360 with 2 Axes>"
      ]
     },
     "metadata": {
      "needs_background": "light"
     },
     "output_type": "display_data"
    },
    {
     "data": {
      "image/png": "[encoded data removed]",
      "text/plain": [
       "<Figure size 576x360 with 2 Axes>"
      ]
     },
     "metadata": {
      "needs_background": "light"
     },
     "output_type": "display_data"
    }
   ],
   "source": [
    "# Plotting confusion matrix for our baseline logistic regression - Test\n",
    "fig, ax = plt.subplots(figsize=(8,5))\n",
    "\n",
    "plot_confusion_matrix(baseline_logreg, X_test, y_test, ax=ax,  cmap='Blues', normalize='true') \n",
    "ax.set_title(\"Baseline Logistic Regression Confusion Matrix - Test\");\n",
    "\n",
    "# Plotting confusion matrix for our baseline logistic regression - Train\n",
    "fig, ax = plt.subplots(figsize=(8,5))\n",
    "\n",
    "plot_confusion_matrix(baseline_logreg, X_train, y_train, ax=ax,  cmap='Blues', normalize='true') \n",
    "ax.set_title(\"Baseline Logistic Regression Confusion Matrix - Train\");"
   ]
  },
  {
   "cell_type": "markdown",
   "metadata": {
    "ExecuteTime": {
     "end_time": "2023-01-23T01:59:56.402325Z",
     "start_time": "2023-01-23T01:59:56.397926Z"
    }
   },
   "source": [
    "**NEED Analysis here!**"
   ]
  },
  {
   "cell_type": "code",
   "execution_count": 305,
   "metadata": {
    "ExecuteTime": {
     "end_time": "2023-01-24T04:30:23.037528Z",
     "start_time": "2023-01-24T04:30:23.025134Z"
    }
   },
   "outputs": [
    {
     "name": "stdout",
     "output_type": "stream",
     "text": [
      "\n",
      " Classification Report - Test \n",
      "\n",
      "------------------------------------------------------------\n",
      "              precision    recall  f1-score   support\n",
      "\n",
      "           0      0.918     0.807     0.859       709\n",
      "           1      0.351     0.592     0.440       125\n",
      "\n",
      "    accuracy                          0.775       834\n",
      "   macro avg      0.634     0.699     0.650       834\n",
      "weighted avg      0.833     0.775     0.796       834\n",
      "\n"
     ]
    }
   ],
   "source": [
    "# Print classification Scores for the test set\n",
    "y_pred = baseline_logreg.predict(X_test)\n",
    "divider = ('-' * 60)\n",
    "table = classification_report(y_test, y_pred, digits=3)\n",
    "\n",
    "print('\\n', 'Classification Report - Test', '\\n')\n",
    "print(divider) \n",
    "print(table) \n"
   ]
  },
  {
   "cell_type": "markdown",
   "metadata": {},
   "source": [
    "**Need analysis here!**"
   ]
  },
  {
   "cell_type": "code",
   "execution_count": 306,
   "metadata": {
    "ExecuteTime": {
     "end_time": "2023-01-24T04:30:27.304254Z",
     "start_time": "2023-01-24T04:30:26.387765Z"
    },
    "scrolled": true
   },
   "outputs": [
    {
     "name": "stdout",
     "output_type": "stream",
     "text": [
      "\n",
      " Performance Comparison \n",
      "\n",
      "------------------------------------------------------------\n",
      " Mean Cross Validated Roc_Auc Score: 88.07%\n",
      " Train Roc_Auc Score: 89.58%\n",
      " Test Roc_Auc Score: 75.13%\n",
      "------------------------------------------------------------\n",
      " Train Recall score: 84.91%\n",
      " Test Recall score: 59.20%\n",
      "------------------------------------------------------------\n",
      " Train F1 score: 83.11%\n",
      " Test F1 score: 44.05%\n",
      "------------------------------------------------------------ \n",
      "\n"
     ]
    }
   ],
   "source": [
    "# Capture roc_auc for cross val, test, and train \n",
    "roc_score_train_cv = cross_val_score(estimator=baseline_logreg, X=X_train,  y=y_train, \n",
    "                                         cv=StratifiedKFold(shuffle=True), scoring='roc_auc').mean()\n",
    "\n",
    "roc_score_train = roc_auc_score(y_train, baseline_logreg.predict_proba(X_train)[:, 1]) \n",
    "roc_score_test = roc_auc_score(y_test, baseline_logreg.predict_proba(X_test)[:, 1])\n",
    "        \n",
    "# Capture recall scores for test and train\n",
    "recall_score_train = recall_score(y_train, baseline_logreg.predict(X_train))\n",
    "recall_score_test = recall_score(y_test, baseline_logreg.predict(X_test))\n",
    "\n",
    "f1_score_train = f1_score(y_train, baseline_logreg.predict(X_train))\n",
    "f1_score_test = f1_score(y_test, baseline_logreg.predict(X_test))\n",
    "        \n",
    "\n",
    "print('\\n', \"Performance Comparison\", '\\n')\n",
    "print(divider)    \n",
    "print(f\" Mean Cross Validated Roc_Auc Score: {roc_score_train_cv :.2%}\")    \n",
    "print(f\" Train Roc_Auc Score: {roc_score_train :.2%}\")  \n",
    "print(f\" Test Roc_Auc Score: {roc_score_test :.2%}\")    \n",
    "print(divider)\n",
    "     \n",
    "print(f\" Train Recall score: {recall_score_train :.2%}\")    \n",
    "print(f\" Test Recall score: {recall_score_test :.2%}\")  \n",
    "print(divider)\n",
    "\n",
    "print(f\" Train F1 score: {f1_score_train :.2%}\")    \n",
    "print(f\" Test F1 score: {f1_score_test :.2%}\")  \n",
    "print(divider, '\\n')"
   ]
  },
  {
   "cell_type": "markdown",
   "metadata": {},
   "source": [
    "**Need analysis here!**"
   ]
  },
  {
   "cell_type": "markdown",
   "metadata": {
    "ExecuteTime": {
     "end_time": "2023-01-16T01:23:06.555548Z",
     "start_time": "2023-01-16T01:23:06.546395Z"
    }
   },
   "source": [
    "## Tuned Logisitic Regression model"
   ]
  },
  {
   "cell_type": "code",
   "execution_count": 307,
   "metadata": {
    "ExecuteTime": {
     "end_time": "2023-01-24T04:30:42.639537Z",
     "start_time": "2023-01-24T04:30:42.632393Z"
    }
   },
   "outputs": [],
   "source": [
    "# Creating a pipeline for our parameters.  Not a ton to automate here, but looks nice.\n",
    "\n",
    "parameters = {\n",
    "    'estimator__penalty' : ['l1','l2'], \n",
    "    'estimator__fit_intercept':[True, False],\n",
    "    'estimator__C'       : [0.001,0.01,0.1,0.5,1,10,100],\n",
    "    'estimator__solver'  : ['newton-cg', 'lbfgs', 'liblinear'], \n",
    "    'estimator__max_iter'  : [50,100,200,300]  \n",
    "}\n",
    "      \n",
    "# Create the grid, with \"logreg_pipeline\" as the estimator\n",
    "best_logreg = GridSearchCV(estimator=baseline_logreg,   # model\n",
    "                          param_grid=parameters,        \n",
    "                          scoring='recall',             # my metric for scoring\n",
    "                          cv=5,                         # default folds\n",
    "                          n_jobs=-1                     \n",
    ")                      \n"
   ]
  },
  {
   "cell_type": "code",
   "execution_count": 308,
   "metadata": {
    "ExecuteTime": {
     "end_time": "2023-01-24T04:32:23.152632Z",
     "start_time": "2023-01-24T04:30:44.367078Z"
    },
    "scrolled": false
   },
   "outputs": [
    {
     "data": {
      "text/plain": [
       "{'estimator__C': 1,\n",
       " 'estimator__fit_intercept': False,\n",
       " 'estimator__max_iter': 50,\n",
       " 'estimator__penalty': 'l1',\n",
       " 'estimator__solver': 'liblinear'}"
      ]
     },
     "execution_count": 308,
     "metadata": {},
     "output_type": "execute_result"
    }
   ],
   "source": [
    "# Train the pipeline (tranformations & predictor)\n",
    "best_logreg.fit(X_train, y_train);\n",
    "\n",
    "# Let's take a look at our best parameters\n",
    "best_logreg.best_params_"
   ]
  },
  {
   "cell_type": "code",
   "execution_count": 314,
   "metadata": {
    "ExecuteTime": {
     "end_time": "2023-01-24T04:41:54.159246Z",
     "start_time": "2023-01-24T04:41:53.676493Z"
    }
   },
   "outputs": [
    {
     "data": {
      "image/png": "[encoded data removed]",
      "text/plain": [
       "<Figure size 576x360 with 2 Axes>"
      ]
     },
     "metadata": {
      "needs_background": "light"
     },
     "output_type": "display_data"
    },
    {
     "data": {
      "image/png": "[encoded data removed]",
      "text/plain": [
       "<Figure size 576x360 with 2 Axes>"
      ]
     },
     "metadata": {
      "needs_background": "light"
     },
     "output_type": "display_data"
    }
   ],
   "source": [
    "# plotting confusion matrix for our tuned logistic regression - Test\n",
    "fig, ax = plt.subplots(figsize=(8,5))\n",
    "\n",
    "plot_confusion_matrix(best_logreg, X_test, y_test, ax=ax,  cmap='Blues', normalize='true') \n",
    "ax.set_title(\"Baseline Logistic Regression Confusion Matrix - Test\");\n",
    "\n",
    "# plotting confusion matrix for our tuned logistic regression - Train\n",
    "fig, ax = plt.subplots(figsize=(8,5))\n",
    "\n",
    "plot_confusion_matrix(best_logreg, X_train, y_train, ax=ax,  cmap='Blues', normalize='true') \n",
    "ax.set_title(\"Baseline Logistic Regression Confusion Matrix - Train\");"
   ]
  },
  {
   "cell_type": "code",
   "execution_count": 310,
   "metadata": {
    "ExecuteTime": {
     "end_time": "2023-01-24T04:33:05.402361Z",
     "start_time": "2023-01-24T04:33:05.389822Z"
    }
   },
   "outputs": [
    {
     "name": "stdout",
     "output_type": "stream",
     "text": [
      "\n",
      " Classification Report - Test \n",
      "\n",
      "------------------------------------------------------------\n",
      "              precision    recall  f1-score   support\n",
      "\n",
      "           0      0.950     0.618     0.749       709\n",
      "           1      0.273     0.816     0.410       125\n",
      "\n",
      "    accuracy                          0.647       834\n",
      "   macro avg      0.612     0.717     0.579       834\n",
      "weighted avg      0.849     0.647     0.698       834\n",
      "\n"
     ]
    }
   ],
   "source": [
    "# Print classification scores for the test set\n",
    "\n",
    "y_pred = best_logreg.predict(X_test)\n",
    "divider = ('-' * 60)\n",
    "table = classification_report(y_test, y_pred, digits=3)\n",
    "\n",
    "print('\\n', 'Classification Report - Test', '\\n')\n",
    "print(divider) \n",
    "print(table) "
   ]
  },
  {
   "cell_type": "code",
   "execution_count": 316,
   "metadata": {
    "ExecuteTime": {
     "end_time": "2023-01-24T04:43:33.135339Z",
     "start_time": "2023-01-24T04:43:33.112682Z"
    },
    "scrolled": true
   },
   "outputs": [
    {
     "name": "stdout",
     "output_type": "stream",
     "text": [
      "\n",
      " Performance Comparison \n",
      "\n",
      "------------------------------------------------------------\n",
      " Mean Cross Validated Roc_Auc Score: 88.07%\n",
      " Train Roc_Auc Score: 89.58%\n",
      " Test Roc_Auc Score: 75.13%\n",
      "------------------------------------------------------------\n",
      " Train Recall score: 95.94%\n",
      " Test Recall score: 81.60%\n",
      "------------------------------------------------------------\n",
      " Train F1 score: 81.59%\n",
      " Test F1 score: 40.96%\n",
      "------------------------------------------------------------ \n",
      "\n"
     ]
    }
   ],
   "source": [
    "# Capture roc_auc for cross val, test, and train \n",
    "roc_score_train_cv = cross_val_score(estimator=best_logreg, X=X_train,  y=y_train, \n",
    "                                         cv=StratifiedKFold(shuffle=True), scoring='recall').mean()\n",
    "\n",
    "roc_score_train = roc_auc_score(y_train, best_logreg.predict_proba(X_train)[:, 1]) \n",
    "roc_score_test = roc_auc_score(y_test, best_logreg.predict_proba(X_test)[:, 1])\n",
    "        \n",
    "# Capture recall scores for test and train\n",
    "recall_score_train = recall_score(y_train, best_logreg.predict(X_train))\n",
    "recall_score_test = recall_score(y_test, best_logreg.predict(X_test))\n",
    "\n",
    "f1_score_train = f1_score(y_train, best_logreg.predict(X_train))\n",
    "f1_score_test = f1_score(y_test, best_logreg.predict(X_test))\n",
    "        \n",
    "\n",
    "print('\\n', \"Performance Comparison\", '\\n')\n",
    "print(divider)    \n",
    "print(f\" Mean Cross Validated Roc_Auc Score: {roc_score_train_cv :.2%}\")    \n",
    "print(f\" Train Roc_Auc Score: {roc_score_train :.2%}\")  \n",
    "print(f\" Test Roc_Auc Score: {roc_score_test :.2%}\")    \n",
    "print(divider)\n",
    "     \n",
    "print(f\" Train Recall score: {recall_score_train :.2%}\")    \n",
    "print(f\" Test Recall score: {recall_score_test :.2%}\")  \n",
    "print(divider)\n",
    "\n",
    "print(f\" Train F1 score: {f1_score_train :.2%}\")    \n",
    "print(f\" Test F1 score: {f1_score_test :.2%}\")  \n",
    "print(divider, '\\n')"
   ]
  },
  {
   "cell_type": "markdown",
   "metadata": {
    "ExecuteTime": {
     "end_time": "2022-12-22T23:13:51.618037Z",
     "start_time": "2022-12-22T23:13:51.614994Z"
    },
    "heading_collapsed": true
   },
   "source": [
    "# Build KNN Model"
   ]
  },
  {
   "cell_type": "code",
   "execution_count": 495,
   "metadata": {
    "ExecuteTime": {
     "end_time": "2023-01-23T02:42:07.214590Z",
     "start_time": "2023-01-23T02:42:07.182845Z"
    },
    "hidden": true
   },
   "outputs": [
    {
     "ename": "TypeError",
     "evalue": "__init__() got an unexpected keyword argument 'random_state'",
     "output_type": "error",
     "traceback": [
      "\u001b[0;31m---------------------------------------------------------------------------\u001b[0m",
      "\u001b[0;31mTypeError\u001b[0m                                 Traceback (most recent call last)",
      "\u001b[0;32m<ipython-input-495-8c904fba9c32>\u001b[0m in \u001b[0;36m<module>\u001b[0;34m\u001b[0m\n\u001b[1;32m      1\u001b[0m \u001b[0;31m# Baseline KNN model\u001b[0m\u001b[0;34m\u001b[0m\u001b[0;34m\u001b[0m\u001b[0;34m\u001b[0m\u001b[0m\n\u001b[1;32m      2\u001b[0m baseline_logreg_knn = Pipeline([\n\u001b[0;32m----> 3\u001b[0;31m     \u001b[0;34m(\u001b[0m\u001b[0;34m\"estimator\"\u001b[0m\u001b[0;34m,\u001b[0m \u001b[0mKNeighborsClassifier\u001b[0m\u001b[0;34m(\u001b[0m\u001b[0mrandom_state\u001b[0m\u001b[0;34m=\u001b[0m\u001b[0;36m42\u001b[0m\u001b[0;34m)\u001b[0m\u001b[0;34m)\u001b[0m\u001b[0;34m\u001b[0m\u001b[0;34m\u001b[0m\u001b[0m\n\u001b[0m\u001b[1;32m      4\u001b[0m ])\n\u001b[1;32m      5\u001b[0m \u001b[0;34m\u001b[0m\u001b[0m\n",
      "\u001b[0;32m~/opt/anaconda3/envs/learn-env/lib/python3.8/site-packages/sklearn/utils/validation.py\u001b[0m in \u001b[0;36minner_f\u001b[0;34m(*args, **kwargs)\u001b[0m\n\u001b[1;32m     70\u001b[0m                           FutureWarning)\n\u001b[1;32m     71\u001b[0m         \u001b[0mkwargs\u001b[0m\u001b[0;34m.\u001b[0m\u001b[0mupdate\u001b[0m\u001b[0;34m(\u001b[0m\u001b[0;34m{\u001b[0m\u001b[0mk\u001b[0m\u001b[0;34m:\u001b[0m \u001b[0marg\u001b[0m \u001b[0;32mfor\u001b[0m \u001b[0mk\u001b[0m\u001b[0;34m,\u001b[0m \u001b[0marg\u001b[0m \u001b[0;32min\u001b[0m \u001b[0mzip\u001b[0m\u001b[0;34m(\u001b[0m\u001b[0msig\u001b[0m\u001b[0;34m.\u001b[0m\u001b[0mparameters\u001b[0m\u001b[0;34m,\u001b[0m \u001b[0margs\u001b[0m\u001b[0;34m)\u001b[0m\u001b[0;34m}\u001b[0m\u001b[0;34m)\u001b[0m\u001b[0;34m\u001b[0m\u001b[0;34m\u001b[0m\u001b[0m\n\u001b[0;32m---> 72\u001b[0;31m         \u001b[0;32mreturn\u001b[0m \u001b[0mf\u001b[0m\u001b[0;34m(\u001b[0m\u001b[0;34m**\u001b[0m\u001b[0mkwargs\u001b[0m\u001b[0;34m)\u001b[0m\u001b[0;34m\u001b[0m\u001b[0;34m\u001b[0m\u001b[0m\n\u001b[0m\u001b[1;32m     73\u001b[0m     \u001b[0;32mreturn\u001b[0m \u001b[0minner_f\u001b[0m\u001b[0;34m\u001b[0m\u001b[0;34m\u001b[0m\u001b[0m\n\u001b[1;32m     74\u001b[0m \u001b[0;34m\u001b[0m\u001b[0m\n",
      "\u001b[0;32m~/opt/anaconda3/envs/learn-env/lib/python3.8/site-packages/sklearn/neighbors/_classification.py\u001b[0m in \u001b[0;36m__init__\u001b[0;34m(self, n_neighbors, weights, algorithm, leaf_size, p, metric, metric_params, n_jobs, **kwargs)\u001b[0m\n\u001b[1;32m    149\u001b[0m                  \u001b[0mp\u001b[0m\u001b[0;34m=\u001b[0m\u001b[0;36m2\u001b[0m\u001b[0;34m,\u001b[0m \u001b[0mmetric\u001b[0m\u001b[0;34m=\u001b[0m\u001b[0;34m'minkowski'\u001b[0m\u001b[0;34m,\u001b[0m \u001b[0mmetric_params\u001b[0m\u001b[0;34m=\u001b[0m\u001b[0;32mNone\u001b[0m\u001b[0;34m,\u001b[0m \u001b[0mn_jobs\u001b[0m\u001b[0;34m=\u001b[0m\u001b[0;32mNone\u001b[0m\u001b[0;34m,\u001b[0m\u001b[0;34m\u001b[0m\u001b[0;34m\u001b[0m\u001b[0m\n\u001b[1;32m    150\u001b[0m                  **kwargs):\n\u001b[0;32m--> 151\u001b[0;31m         super().__init__(\n\u001b[0m\u001b[1;32m    152\u001b[0m             \u001b[0mn_neighbors\u001b[0m\u001b[0;34m=\u001b[0m\u001b[0mn_neighbors\u001b[0m\u001b[0;34m,\u001b[0m\u001b[0;34m\u001b[0m\u001b[0;34m\u001b[0m\u001b[0m\n\u001b[1;32m    153\u001b[0m             \u001b[0malgorithm\u001b[0m\u001b[0;34m=\u001b[0m\u001b[0malgorithm\u001b[0m\u001b[0;34m,\u001b[0m\u001b[0;34m\u001b[0m\u001b[0;34m\u001b[0m\u001b[0m\n",
      "\u001b[0;31mTypeError\u001b[0m: __init__() got an unexpected keyword argument 'random_state'"
     ]
    }
   ],
   "source": [
    "# Baseline KNN model \n",
    "baseline_logreg_knn = Pipeline([\n",
    "    (\"estimator\", KNeighborsClassifier(random_state=42))\n",
    "])\n",
    "    \n",
    "# Train model\n",
    "baseline_knn_knn.fit(X_train, y_train);"
   ]
  },
  {
   "cell_type": "code",
   "execution_count": null,
   "metadata": {
    "ExecuteTime": {
     "end_time": "2023-01-15T14:34:27.707333Z",
     "start_time": "2023-01-15T14:33:16.897Z"
    },
    "hidden": true
   },
   "outputs": [],
   "source": [
    "# Relevant imports\n",
    "from sklearn.neighbors import KNeighborsClassifier\n",
    "from sklearn.model_selection import cross_val_score\n",
    "\n",
    "# Creating the model\n",
    "knn_baseline_model = KNeighborsClassifier()\n",
    "\n",
    "# Perform cross-validation\n",
    "knn_baseline_log_loss = -cross_val_score(knn_baseline_model, X_train_scaled, y_train, scoring=\"recall\").mean()\n",
    "\n",
    "knn_baseline_log_loss"
   ]
  },
  {
   "cell_type": "code",
   "execution_count": null,
   "metadata": {
    "ExecuteTime": {
     "end_time": "2023-01-15T14:34:27.708842Z",
     "start_time": "2023-01-15T14:33:16.900Z"
    },
    "hidden": true
   },
   "outputs": [],
   "source": [
    "# Your code here (add more cells as needed)\n",
    "# Adjusting the neighbors value to see if we are overfitting with the default = 5.\n",
    "knn_second_model = KNeighborsClassifier(n_neighbors=25)\n",
    "\n",
    "knn_second_log_loss = -cross_val_score(knn_second_model, X_train_scaled, y_train, scoring=\"neg_log_loss\").mean()\n",
    "knn_second_log_loss"
   ]
  },
  {
   "cell_type": "code",
   "execution_count": null,
   "metadata": {
    "ExecuteTime": {
     "end_time": "2023-01-15T14:34:27.710572Z",
     "start_time": "2023-01-15T14:33:16.903Z"
    },
    "hidden": true
   },
   "outputs": [],
   "source": [
    "# Your code here (add more cells as needed)\n",
    "# Changing from Euclidean difference to manhattan difference\n",
    "knn_3_model = KNeighborsClassifier(n_neighbors=25, metric=\"manhattan\")\n",
    "\n",
    "knn_3_log_loss = -cross_val_score(knn_3_model, X_train_scaled, y_train, scoring=\"neg_log_loss\").mean()\n",
    "knn_3_log_loss"
   ]
  },
  {
   "cell_type": "code",
   "execution_count": null,
   "metadata": {
    "ExecuteTime": {
     "end_time": "2023-01-15T14:34:27.712287Z",
     "start_time": "2023-01-15T14:33:16.907Z"
    },
    "hidden": true
   },
   "outputs": [],
   "source": [
    "# Adjusting the number of neighbors once again to see if we can increase performance.\n",
    "knn_4_model = KNeighborsClassifier(n_neighbors=40, metric=\"manhattan\")\n",
    "\n",
    "knn_4_log_loss = -cross_val_score(knn_4_model, X_train_scaled, y_train, scoring=\"neg_log_loss\").mean()\n",
    "knn_4_log_loss"
   ]
  },
  {
   "cell_type": "code",
   "execution_count": null,
   "metadata": {
    "ExecuteTime": {
     "end_time": "2023-01-15T14:34:27.713896Z",
     "start_time": "2023-01-15T14:33:16.910Z"
    },
    "hidden": true
   },
   "outputs": [],
   "source": [
    "# Backtracking to see what increased neighbors looks like with Euclidean distance.\n",
    "knn_5_model = KNeighborsClassifier(n_neighbors=40)\n",
    "\n",
    "knn_5_log_loss = -cross_val_score(knn_5_model, X_train_scaled, y_train, scoring=\"neg_log_loss\").mean()\n",
    "knn_5_log_loss"
   ]
  },
  {
   "cell_type": "code",
   "execution_count": null,
   "metadata": {
    "ExecuteTime": {
     "end_time": "2023-01-15T14:34:27.715590Z",
     "start_time": "2023-01-15T14:33:16.912Z"
    },
    "hidden": true
   },
   "outputs": [],
   "source": [
    "# Backtracking to see what increased neighbors looks like with Euclidean distance.\n",
    "knn_6_model = KNeighborsClassifier(n_neighbors=15)\n",
    "\n",
    "knn_6_log_loss = -cross_val_score(knn_6_model, X_train_scaled, y_train, scoring=\"neg_log_loss\").mean()\n",
    "knn_6_log_loss"
   ]
  },
  {
   "cell_type": "markdown",
   "metadata": {},
   "source": [
    "# Decision Tree Model"
   ]
  },
  {
   "cell_type": "markdown",
   "metadata": {},
   "source": [
    "## Baseline Decision Tree"
   ]
  },
  {
   "cell_type": "code",
   "execution_count": 317,
   "metadata": {
    "ExecuteTime": {
     "end_time": "2023-01-24T04:43:59.365594Z",
     "start_time": "2023-01-24T04:43:59.266622Z"
    }
   },
   "outputs": [],
   "source": [
    "# Baseline model \n",
    "baseline_tree = ImPipeline(steps=[('sm', SMOTE(random_state=42)),\n",
    "                            ('estimator', DecisionTreeClassifier(random_state=42))])\n",
    "\n",
    "# Train model\n",
    "baseline_tree.fit(X_train, y_train);"
   ]
  },
  {
   "cell_type": "code",
   "execution_count": 320,
   "metadata": {
    "ExecuteTime": {
     "end_time": "2023-01-24T04:48:01.717586Z",
     "start_time": "2023-01-24T04:48:01.194663Z"
    },
    "scrolled": false
   },
   "outputs": [
    {
     "data": {
      "image/png": "[encoded data removed]",
      "text/plain": [
       "<Figure size 576x360 with 2 Axes>"
      ]
     },
     "metadata": {
      "needs_background": "light"
     },
     "output_type": "display_data"
    },
    {
     "data": {
      "image/png": "[encoded data removed]",
      "text/plain": [
       "<Figure size 576x360 with 2 Axes>"
      ]
     },
     "metadata": {
      "needs_background": "light"
     },
     "output_type": "display_data"
    }
   ],
   "source": [
    "# plotting confusion matrix for our baseline decision tree - Test\n",
    "fig, ax = plt.subplots(figsize=(8,5))\n",
    "\n",
    "plot_confusion_matrix(baseline_tree, X_test, y_test, ax=ax,  cmap='Blues', normalize='true') \n",
    "ax.set_title(\"Baseline Confusion Matrix - Test\");\n",
    "\n",
    "# plotting confusion matrix for our baseline decision tree - Train\n",
    "fig, ax = plt.subplots(figsize=(8,5))\n",
    "\n",
    "plot_confusion_matrix(baseline_tree, X_train, y_train, ax=ax,  cmap='Blues', normalize='true') \n",
    "ax.set_title(\"Baseline Confusion Matrix - Train\");"
   ]
  },
  {
   "cell_type": "code",
   "execution_count": 321,
   "metadata": {
    "ExecuteTime": {
     "end_time": "2023-01-24T04:48:12.490023Z",
     "start_time": "2023-01-24T04:48:12.478389Z"
    }
   },
   "outputs": [
    {
     "name": "stdout",
     "output_type": "stream",
     "text": [
      "\n",
      " Classification Report - Test \n",
      "\n",
      "------------------------------------------------------------\n",
      "              precision    recall  f1-score   support\n",
      "\n",
      "           0      0.950     0.934     0.942       709\n",
      "           1      0.657     0.720     0.687       125\n",
      "\n",
      "    accuracy                          0.902       834\n",
      "   macro avg      0.803     0.827     0.814       834\n",
      "weighted avg      0.906     0.902     0.904       834\n",
      "\n"
     ]
    }
   ],
   "source": [
    "# Print classification Scores for the test set\n",
    "y_pred = baseline_tree.predict(X_test)\n",
    "divider = ('-' * 60)\n",
    "table = classification_report(y_test, y_pred, digits=3)\n",
    "\n",
    "print('\\n', 'Classification Report - Test', '\\n')\n",
    "print(divider) \n",
    "print(table) "
   ]
  },
  {
   "cell_type": "code",
   "execution_count": 322,
   "metadata": {
    "ExecuteTime": {
     "end_time": "2023-01-24T04:48:28.929697Z",
     "start_time": "2023-01-24T04:48:27.845127Z"
    }
   },
   "outputs": [
    {
     "name": "stdout",
     "output_type": "stream",
     "text": [
      "\n",
      " Performance Comparison \n",
      "\n",
      "------------------------------------------------------------\n",
      " Mean Cross Validated Roc_Auc Score: 93.93%\n",
      " Train Roc_Auc Score: 100.00%\n",
      " Test Roc_Auc Score: 82.69%\n",
      "------------------------------------------------------------\n",
      " Train Recall score: 100.00%\n",
      " Test Recall score: 72.00%\n",
      "------------------------------------------------------------\n",
      " Train F1 score: 100.00%\n",
      " Test F1 score: 68.70%\n",
      "------------------------------------------------------------ \n",
      "\n"
     ]
    }
   ],
   "source": [
    "# Capture roc_auc for cross val, test, and train \n",
    "roc_score_train_cv = cross_val_score(estimator=baseline_tree, X=X_train,  y=y_train, \n",
    "                                         cv=StratifiedKFold(shuffle=True), scoring='recall').mean()\n",
    "\n",
    "roc_score_train = roc_auc_score(y_train, baseline_tree.predict_proba(X_train)[:, 1]) \n",
    "roc_score_test = roc_auc_score(y_test, baseline_tree.predict_proba(X_test)[:, 1])\n",
    "        \n",
    "# Capture recall scores for test and train\n",
    "recall_score_train = recall_score(y_train, baseline_tree.predict(X_train))\n",
    "recall_score_test = recall_score(y_test, baseline_tree.predict(X_test))\n",
    "\n",
    "f1_score_train = f1_score(y_train, baseline_tree.predict(X_train))\n",
    "f1_score_test = f1_score(y_test, baseline_tree.predict(X_test))\n",
    "        \n",
    "\n",
    "print('\\n', \"Performance Comparison\", '\\n')\n",
    "print(divider)    \n",
    "print(f\" Mean Cross Validated Roc_Auc Score: {roc_score_train_cv :.2%}\")    \n",
    "print(f\" Train Roc_Auc Score: {roc_score_train :.2%}\")  \n",
    "print(f\" Test Roc_Auc Score: {roc_score_test :.2%}\")    \n",
    "print(divider)\n",
    "     \n",
    "print(f\" Train Recall score: {recall_score_train :.2%}\")    \n",
    "print(f\" Test Recall score: {recall_score_test :.2%}\")  \n",
    "print(divider)\n",
    "\n",
    "print(f\" Train F1 score: {f1_score_train :.2%}\")    \n",
    "print(f\" Test F1 score: {f1_score_test :.2%}\")  \n",
    "print(divider, '\\n')"
   ]
  },
  {
   "cell_type": "markdown",
   "metadata": {},
   "source": [
    "## Tuned Decision Tree Model"
   ]
  },
  {
   "cell_type": "code",
   "execution_count": 323,
   "metadata": {
    "ExecuteTime": {
     "end_time": "2023-01-24T04:48:41.160614Z",
     "start_time": "2023-01-24T04:48:41.156015Z"
    }
   },
   "outputs": [],
   "source": [
    "\n",
    "\n",
    "parameters = {\n",
    "    'estimator__criterion': ['gini', 'entropy'],\n",
    "    'estimator__max_depth': [None, 2, 3, 4, 5, 6],\n",
    "    'estimator__max_features': [None, 15,  5],\n",
    "    'estimator__min_samples_split': [2, 5, 10],\n",
    "    'estimator__min_samples_leaf': [1, 2, 3, 4, 5, 6]\n",
    "}\n",
    "      \n",
    "# Grid with our baseline tree as our estimator\n",
    "best_tree = GridSearchCV(estimator=baseline_tree,    # model\n",
    "                          param_grid=parameters,     # hyperparameters\n",
    "                          scoring='recall',          # metric for scoring\n",
    "                          cv=5,                      # number of folds for cross-validation\n",
    "                          n_jobs=-1                  # 1 job per core of the computer.\n",
    ")                      \n",
    "\n"
   ]
  },
  {
   "cell_type": "code",
   "execution_count": 324,
   "metadata": {
    "ExecuteTime": {
     "end_time": "2023-01-24T04:51:03.024007Z",
     "start_time": "2023-01-24T04:48:45.193547Z"
    }
   },
   "outputs": [
    {
     "data": {
      "text/plain": [
       "{'estimator__criterion': 'gini',\n",
       " 'estimator__max_depth': None,\n",
       " 'estimator__max_features': None,\n",
       " 'estimator__min_samples_leaf': 1,\n",
       " 'estimator__min_samples_split': 5}"
      ]
     },
     "execution_count": 324,
     "metadata": {},
     "output_type": "execute_result"
    }
   ],
   "source": [
    "# Train the pipeline based on our most appropriate parameters\n",
    "best_tree.fit(X_train, y_train);\n",
    "best_tree.best_params_"
   ]
  },
  {
   "cell_type": "code",
   "execution_count": 325,
   "metadata": {
    "ExecuteTime": {
     "end_time": "2023-01-24T04:51:22.456768Z",
     "start_time": "2023-01-24T04:51:22.444006Z"
    },
    "scrolled": true
   },
   "outputs": [
    {
     "name": "stdout",
     "output_type": "stream",
     "text": [
      "\n",
      " Classification Report - Test \n",
      "\n",
      "------------------------------------------------------------\n",
      "              precision    recall  f1-score   support\n",
      "\n",
      "           0      0.950     0.941     0.945       709\n",
      "           1      0.682     0.720     0.700       125\n",
      "\n",
      "    accuracy                          0.908       834\n",
      "   macro avg      0.816     0.830     0.823       834\n",
      "weighted avg      0.910     0.908     0.909       834\n",
      "\n"
     ]
    }
   ],
   "source": [
    "# Print classification Scores for the test set\n",
    "y_pred = best_tree.predict(X_test)\n",
    "divider = ('-' * 60)\n",
    "table = classification_report(y_test, y_pred, digits=3)\n",
    "\n",
    "print('\\n', 'Classification Report - Test', '\\n')\n",
    "print(divider) \n",
    "print(table) "
   ]
  },
  {
   "cell_type": "code",
   "execution_count": 328,
   "metadata": {
    "ExecuteTime": {
     "end_time": "2023-01-24T05:01:12.943587Z",
     "start_time": "2023-01-24T05:01:12.922780Z"
    }
   },
   "outputs": [
    {
     "name": "stdout",
     "output_type": "stream",
     "text": [
      "\n",
      " Performance Comparison \n",
      "\n",
      "------------------------------------------------------------\n",
      " Mean Cross Validated Roc_Auc Score: 93.93%\n",
      " Train Roc_Auc Score: 99.99%\n",
      " Test Roc_Auc Score: 83.13%\n",
      "------------------------------------------------------------\n",
      " Train Recall score: 98.97%\n",
      " Test Recall score: 72.00%\n",
      "------------------------------------------------------------\n",
      " Train F1 score: 99.34%\n",
      " Test F1 score: 70.04%\n",
      "------------------------------------------------------------ \n",
      "\n"
     ]
    }
   ],
   "source": [
    "# Capture roc_auc for cross val, test, and train \n",
    "roc_score_train_cv = cross_val_score(estimator=best_tree, X=X_train,  y=y_train, \n",
    "                                         cv=StratifiedKFold(shuffle=True), scoring='recall').mean()\n",
    "\n",
    "roc_score_train = roc_auc_score(y_train, baseline_tree.predict_proba(X_train)[:, 1]) \n",
    "roc_score_test = roc_auc_score(y_test, baseline_tree.predict_proba(X_test)[:, 1])\n",
    "        \n",
    "# Capture recall scores for test and train\n",
    "recall_score_train = recall_score(y_train, best_tree.predict(X_train))\n",
    "recall_score_test = recall_score(y_test, best_tree.predict(X_test))\n",
    "\n",
    "f1_score_train = f1_score(y_train, best_tree.predict(X_train))\n",
    "f1_score_test = f1_score(y_test, best_tree.predict(X_test))\n",
    "        \n",
    "\n",
    "print('\\n', \"Performance Comparison\", '\\n')\n",
    "print(divider)    \n",
    "print(f\" Mean Cross Validated Roc_Auc Score: {roc_score_train_cv :.2%}\")    \n",
    "print(f\" Train Roc_Auc Score: {roc_score_train :.2%}\")  \n",
    "print(f\" Test Roc_Auc Score: {roc_score_test :.2%}\")    \n",
    "print(divider)\n",
    "     \n",
    "print(f\" Train Recall score: {recall_score_train :.2%}\")    \n",
    "print(f\" Test Recall score: {recall_score_test :.2%}\")  \n",
    "print(divider)\n",
    "\n",
    "print(f\" Train F1 score: {f1_score_train :.2%}\")    \n",
    "print(f\" Test F1 score: {f1_score_test :.2%}\")  \n",
    "print(divider, '\\n')"
   ]
  },
  {
   "cell_type": "code",
   "execution_count": 330,
   "metadata": {
    "ExecuteTime": {
     "end_time": "2023-01-24T05:01:56.577312Z",
     "start_time": "2023-01-24T05:01:56.098555Z"
    }
   },
   "outputs": [
    {
     "data": {
      "image/png": "[encoded data removed]",
      "text/plain": [
       "<Figure size 576x360 with 2 Axes>"
      ]
     },
     "metadata": {
      "needs_background": "light"
     },
     "output_type": "display_data"
    },
    {
     "data": {
      "image/png": "[encoded data removed]",
      "text/plain": [
       "<Figure size 576x360 with 2 Axes>"
      ]
     },
     "metadata": {
      "needs_background": "light"
     },
     "output_type": "display_data"
    }
   ],
   "source": [
    "# plotting confusion matrix for our best decision tree - Test\n",
    "fig, ax = plt.subplots(figsize=(8,5))\n",
    "\n",
    "plot_confusion_matrix(best_tree, X_test, y_test, ax=ax,  cmap='Blues', normalize='true') \n",
    "ax.set_title(\"Baseline Confusion Matrix - Test\");\n",
    "\n",
    "# plotting confusion matrix for our best decision tree - Train\n",
    "fig, ax = plt.subplots(figsize=(8,5))\n",
    "\n",
    "plot_confusion_matrix(best_tree, X_train, y_train, ax=ax,  cmap='Blues', normalize='true') \n",
    "ax.set_title(\"Baseline Confusion Matrix - Train\");"
   ]
  },
  {
   "cell_type": "markdown",
   "metadata": {
    "ExecuteTime": {
     "end_time": "2022-12-24T16:55:11.032900Z",
     "start_time": "2022-12-24T16:55:11.030485Z"
    }
   },
   "source": [
    "# Random Forest"
   ]
  },
  {
   "cell_type": "markdown",
   "metadata": {},
   "source": [
    "## Baseline Forest"
   ]
  },
  {
   "cell_type": "code",
   "execution_count": 331,
   "metadata": {
    "ExecuteTime": {
     "end_time": "2023-01-24T05:02:44.956868Z",
     "start_time": "2023-01-24T05:02:44.105112Z"
    }
   },
   "outputs": [],
   "source": [
    "#\n",
    "baseline_RF = ImPipeline(steps=[('sm', SMOTE(random_state=42)),\n",
    "                            ('estimator', RandomForestClassifier(random_state=42))])\n",
    "\n",
    "# Train model\n",
    "baseline_RF.fit(X_train, y_train);"
   ]
  },
  {
   "cell_type": "code",
   "execution_count": 332,
   "metadata": {
    "ExecuteTime": {
     "end_time": "2023-01-24T05:02:50.843558Z",
     "start_time": "2023-01-24T05:02:50.292502Z"
    }
   },
   "outputs": [
    {
     "data": {
      "image/png": "[encoded data removed]",
      "text/plain": [
       "<Figure size 576x360 with 2 Axes>"
      ]
     },
     "metadata": {
      "needs_background": "light"
     },
     "output_type": "display_data"
    },
    {
     "data": {
      "image/png": "[encoded data removed]",
      "text/plain": [
       "<Figure size 576x360 with 2 Axes>"
      ]
     },
     "metadata": {
      "needs_background": "light"
     },
     "output_type": "display_data"
    }
   ],
   "source": [
    "# plotting confusion matrix for our baseline Random Forest - Test\n",
    "fig, ax = plt.subplots(figsize=(8,5))\n",
    "\n",
    "plot_confusion_matrix(baseline_RF, X_test, y_test, ax=ax,  cmap='Blues', normalize='true') \n",
    "ax.set_title(\"Baseline Confusion Matrix - Test\");\n",
    "\n",
    "# plotting confusion matrix for our baseline Random Forest - Train\n",
    "fig, ax = plt.subplots(figsize=(8,5))\n",
    "\n",
    "plot_confusion_matrix(baseline_RF, X_train, y_train, ax=ax,  cmap='Blues', normalize='true') \n",
    "ax.set_title(\"Baseline Confusion Matrix - Train\");"
   ]
  },
  {
   "cell_type": "code",
   "execution_count": 333,
   "metadata": {
    "ExecuteTime": {
     "end_time": "2023-01-24T05:02:58.600701Z",
     "start_time": "2023-01-24T05:02:58.562071Z"
    }
   },
   "outputs": [
    {
     "name": "stdout",
     "output_type": "stream",
     "text": [
      "\n",
      " Classification Report - Test \n",
      "\n",
      "------------------------------------------------------------\n",
      "              precision    recall  f1-score   support\n",
      "\n",
      "           0      0.928     0.975     0.950       709\n",
      "           1      0.798     0.568     0.664       125\n",
      "\n",
      "    accuracy                          0.914       834\n",
      "   macro avg      0.863     0.771     0.807       834\n",
      "weighted avg      0.908     0.914     0.907       834\n",
      "\n"
     ]
    }
   ],
   "source": [
    "# Print classification Scores for the test set\n",
    "y_pred = baseline_RF.predict(X_test)\n",
    "divider = ('-' * 60)\n",
    "table = classification_report(y_test, y_pred, digits=3)\n",
    "\n",
    "print('\\n', 'Classification Report - Test', '\\n')\n",
    "print(divider) \n",
    "print(table) "
   ]
  },
  {
   "cell_type": "code",
   "execution_count": 334,
   "metadata": {
    "ExecuteTime": {
     "end_time": "2023-01-24T05:03:10.717121Z",
     "start_time": "2023-01-24T05:03:06.008436Z"
    }
   },
   "outputs": [
    {
     "name": "stdout",
     "output_type": "stream",
     "text": [
      "\n",
      " Performance Comparison \n",
      "\n",
      "------------------------------------------------------------\n",
      " Mean Cross Validated Roc_Auc Score: 95.33%\n",
      " Train Roc_Auc Score: 100.00%\n",
      " Test Roc_Auc Score: 91.01%\n",
      "------------------------------------------------------------\n",
      " Train Recall score: 100.00%\n",
      " Test Recall score: 56.80%\n",
      "------------------------------------------------------------\n",
      " Train F1 score: 100.00%\n",
      " Test F1 score: 66.36%\n",
      "------------------------------------------------------------ \n",
      "\n"
     ]
    }
   ],
   "source": [
    "# Capture roc_auc for cross val, test, and train \n",
    "roc_score_train_cv = cross_val_score(estimator=baseline_RF, X=X_train,  y=y_train, \n",
    "                                         cv=StratifiedKFold(shuffle=True), scoring='recall').mean()\n",
    "\n",
    "roc_score_train = roc_auc_score(y_train, baseline_RF.predict_proba(X_train)[:, 1]) \n",
    "roc_score_test = roc_auc_score(y_test, baseline_RF.predict_proba(X_test)[:, 1])\n",
    "        \n",
    "# Capture recall scores for test and train\n",
    "recall_score_train = recall_score(y_train, baseline_RF.predict(X_train))\n",
    "recall_score_test = recall_score(y_test, baseline_RF.predict(X_test))\n",
    "\n",
    "f1_score_train = f1_score(y_train, baseline_RF.predict(X_train))\n",
    "f1_score_test = f1_score(y_test, baseline_RF.predict(X_test))\n",
    "        \n",
    "\n",
    "print('\\n', \"Performance Comparison\", '\\n')\n",
    "print(divider)    \n",
    "print(f\" Mean Cross Validated Roc_Auc Score: {roc_score_train_cv :.2%}\")    \n",
    "print(f\" Train Roc_Auc Score: {roc_score_train :.2%}\")  \n",
    "print(f\" Test Roc_Auc Score: {roc_score_test :.2%}\")    \n",
    "print(divider)\n",
    "     \n",
    "print(f\" Train Recall score: {recall_score_train :.2%}\")    \n",
    "print(f\" Test Recall score: {recall_score_test :.2%}\")  \n",
    "print(divider)\n",
    "\n",
    "print(f\" Train F1 score: {f1_score_train :.2%}\")    \n",
    "print(f\" Test F1 score: {f1_score_test :.2%}\")  \n",
    "print(divider, '\\n')"
   ]
  },
  {
   "cell_type": "markdown",
   "metadata": {
    "ExecuteTime": {
     "end_time": "2023-01-04T04:29:06.321358Z",
     "start_time": "2023-01-04T04:29:06.317849Z"
    }
   },
   "source": [
    "## Tuned Forest"
   ]
  },
  {
   "cell_type": "code",
   "execution_count": 335,
   "metadata": {
    "ExecuteTime": {
     "end_time": "2023-01-24T05:08:59.809058Z",
     "start_time": "2023-01-24T05:03:13.625284Z"
    }
   },
   "outputs": [
    {
     "ename": "KeyboardInterrupt",
     "evalue": "",
     "output_type": "error",
     "traceback": [
      "\u001b[0;31m---------------------------------------------------------------------------\u001b[0m",
      "\u001b[0;31mKeyboardInterrupt\u001b[0m                         Traceback (most recent call last)",
      "\u001b[0;32m<ipython-input-335-ed58b7c84bdf>\u001b[0m in \u001b[0;36m<module>\u001b[0;34m\u001b[0m\n\u001b[1;32m     14\u001b[0m                         n_jobs = -1)                      \n\u001b[1;32m     15\u001b[0m \u001b[0;34m\u001b[0m\u001b[0m\n\u001b[0;32m---> 16\u001b[0;31m \u001b[0mbest_RF\u001b[0m\u001b[0;34m.\u001b[0m\u001b[0mfit\u001b[0m\u001b[0;34m(\u001b[0m\u001b[0mX_train\u001b[0m\u001b[0;34m,\u001b[0m \u001b[0my_train\u001b[0m\u001b[0;34m)\u001b[0m\u001b[0;34m;\u001b[0m\u001b[0;34m\u001b[0m\u001b[0;34m\u001b[0m\u001b[0m\n\u001b[0m",
      "\u001b[0;32m~/opt/anaconda3/envs/learn-env/lib/python3.8/site-packages/sklearn/utils/validation.py\u001b[0m in \u001b[0;36minner_f\u001b[0;34m(*args, **kwargs)\u001b[0m\n\u001b[1;32m     70\u001b[0m                           FutureWarning)\n\u001b[1;32m     71\u001b[0m         \u001b[0mkwargs\u001b[0m\u001b[0;34m.\u001b[0m\u001b[0mupdate\u001b[0m\u001b[0;34m(\u001b[0m\u001b[0;34m{\u001b[0m\u001b[0mk\u001b[0m\u001b[0;34m:\u001b[0m \u001b[0marg\u001b[0m \u001b[0;32mfor\u001b[0m \u001b[0mk\u001b[0m\u001b[0;34m,\u001b[0m \u001b[0marg\u001b[0m \u001b[0;32min\u001b[0m \u001b[0mzip\u001b[0m\u001b[0;34m(\u001b[0m\u001b[0msig\u001b[0m\u001b[0;34m.\u001b[0m\u001b[0mparameters\u001b[0m\u001b[0;34m,\u001b[0m \u001b[0margs\u001b[0m\u001b[0;34m)\u001b[0m\u001b[0;34m}\u001b[0m\u001b[0;34m)\u001b[0m\u001b[0;34m\u001b[0m\u001b[0;34m\u001b[0m\u001b[0m\n\u001b[0;32m---> 72\u001b[0;31m         \u001b[0;32mreturn\u001b[0m \u001b[0mf\u001b[0m\u001b[0;34m(\u001b[0m\u001b[0;34m**\u001b[0m\u001b[0mkwargs\u001b[0m\u001b[0;34m)\u001b[0m\u001b[0;34m\u001b[0m\u001b[0;34m\u001b[0m\u001b[0m\n\u001b[0m\u001b[1;32m     73\u001b[0m     \u001b[0;32mreturn\u001b[0m \u001b[0minner_f\u001b[0m\u001b[0;34m\u001b[0m\u001b[0;34m\u001b[0m\u001b[0m\n\u001b[1;32m     74\u001b[0m \u001b[0;34m\u001b[0m\u001b[0m\n",
      "\u001b[0;32m~/opt/anaconda3/envs/learn-env/lib/python3.8/site-packages/sklearn/model_selection/_search.py\u001b[0m in \u001b[0;36mfit\u001b[0;34m(self, X, y, groups, **fit_params)\u001b[0m\n\u001b[1;32m    734\u001b[0m                 \u001b[0;32mreturn\u001b[0m \u001b[0mresults\u001b[0m\u001b[0;34m\u001b[0m\u001b[0;34m\u001b[0m\u001b[0m\n\u001b[1;32m    735\u001b[0m \u001b[0;34m\u001b[0m\u001b[0m\n\u001b[0;32m--> 736\u001b[0;31m             \u001b[0mself\u001b[0m\u001b[0;34m.\u001b[0m\u001b[0m_run_search\u001b[0m\u001b[0;34m(\u001b[0m\u001b[0mevaluate_candidates\u001b[0m\u001b[0;34m)\u001b[0m\u001b[0;34m\u001b[0m\u001b[0;34m\u001b[0m\u001b[0m\n\u001b[0m\u001b[1;32m    737\u001b[0m \u001b[0;34m\u001b[0m\u001b[0m\n\u001b[1;32m    738\u001b[0m         \u001b[0;31m# For multi-metric evaluation, store the best_index_, best_params_ and\u001b[0m\u001b[0;34m\u001b[0m\u001b[0;34m\u001b[0m\u001b[0;34m\u001b[0m\u001b[0m\n",
      "\u001b[0;32m~/opt/anaconda3/envs/learn-env/lib/python3.8/site-packages/sklearn/model_selection/_search.py\u001b[0m in \u001b[0;36m_run_search\u001b[0;34m(self, evaluate_candidates)\u001b[0m\n\u001b[1;32m   1186\u001b[0m     \u001b[0;32mdef\u001b[0m \u001b[0m_run_search\u001b[0m\u001b[0;34m(\u001b[0m\u001b[0mself\u001b[0m\u001b[0;34m,\u001b[0m \u001b[0mevaluate_candidates\u001b[0m\u001b[0;34m)\u001b[0m\u001b[0;34m:\u001b[0m\u001b[0;34m\u001b[0m\u001b[0;34m\u001b[0m\u001b[0m\n\u001b[1;32m   1187\u001b[0m         \u001b[0;34m\"\"\"Search all candidates in param_grid\"\"\"\u001b[0m\u001b[0;34m\u001b[0m\u001b[0;34m\u001b[0m\u001b[0m\n\u001b[0;32m-> 1188\u001b[0;31m         \u001b[0mevaluate_candidates\u001b[0m\u001b[0;34m(\u001b[0m\u001b[0mParameterGrid\u001b[0m\u001b[0;34m(\u001b[0m\u001b[0mself\u001b[0m\u001b[0;34m.\u001b[0m\u001b[0mparam_grid\u001b[0m\u001b[0;34m)\u001b[0m\u001b[0;34m)\u001b[0m\u001b[0;34m\u001b[0m\u001b[0;34m\u001b[0m\u001b[0m\n\u001b[0m\u001b[1;32m   1189\u001b[0m \u001b[0;34m\u001b[0m\u001b[0m\n\u001b[1;32m   1190\u001b[0m \u001b[0;34m\u001b[0m\u001b[0m\n",
      "\u001b[0;32m~/opt/anaconda3/envs/learn-env/lib/python3.8/site-packages/sklearn/model_selection/_search.py\u001b[0m in \u001b[0;36mevaluate_candidates\u001b[0;34m(candidate_params)\u001b[0m\n\u001b[1;32m    706\u001b[0m                               n_splits, n_candidates, n_candidates * n_splits))\n\u001b[1;32m    707\u001b[0m \u001b[0;34m\u001b[0m\u001b[0m\n\u001b[0;32m--> 708\u001b[0;31m                 out = parallel(delayed(_fit_and_score)(clone(base_estimator),\n\u001b[0m\u001b[1;32m    709\u001b[0m                                                        \u001b[0mX\u001b[0m\u001b[0;34m,\u001b[0m \u001b[0my\u001b[0m\u001b[0;34m,\u001b[0m\u001b[0;34m\u001b[0m\u001b[0;34m\u001b[0m\u001b[0m\n\u001b[1;32m    710\u001b[0m                                                        \u001b[0mtrain\u001b[0m\u001b[0;34m=\u001b[0m\u001b[0mtrain\u001b[0m\u001b[0;34m,\u001b[0m \u001b[0mtest\u001b[0m\u001b[0;34m=\u001b[0m\u001b[0mtest\u001b[0m\u001b[0;34m,\u001b[0m\u001b[0;34m\u001b[0m\u001b[0;34m\u001b[0m\u001b[0m\n",
      "\u001b[0;32m~/opt/anaconda3/envs/learn-env/lib/python3.8/site-packages/joblib/parallel.py\u001b[0m in \u001b[0;36m__call__\u001b[0;34m(self, iterable)\u001b[0m\n\u001b[1;32m   1059\u001b[0m \u001b[0;34m\u001b[0m\u001b[0m\n\u001b[1;32m   1060\u001b[0m             \u001b[0;32mwith\u001b[0m \u001b[0mself\u001b[0m\u001b[0;34m.\u001b[0m\u001b[0m_backend\u001b[0m\u001b[0;34m.\u001b[0m\u001b[0mretrieval_context\u001b[0m\u001b[0;34m(\u001b[0m\u001b[0;34m)\u001b[0m\u001b[0;34m:\u001b[0m\u001b[0;34m\u001b[0m\u001b[0;34m\u001b[0m\u001b[0m\n\u001b[0;32m-> 1061\u001b[0;31m                 \u001b[0mself\u001b[0m\u001b[0;34m.\u001b[0m\u001b[0mretrieve\u001b[0m\u001b[0;34m(\u001b[0m\u001b[0;34m)\u001b[0m\u001b[0;34m\u001b[0m\u001b[0;34m\u001b[0m\u001b[0m\n\u001b[0m\u001b[1;32m   1062\u001b[0m             \u001b[0;31m# Make sure that we get a last message telling us we are done\u001b[0m\u001b[0;34m\u001b[0m\u001b[0;34m\u001b[0m\u001b[0;34m\u001b[0m\u001b[0m\n\u001b[1;32m   1063\u001b[0m             \u001b[0melapsed_time\u001b[0m \u001b[0;34m=\u001b[0m \u001b[0mtime\u001b[0m\u001b[0;34m.\u001b[0m\u001b[0mtime\u001b[0m\u001b[0;34m(\u001b[0m\u001b[0;34m)\u001b[0m \u001b[0;34m-\u001b[0m \u001b[0mself\u001b[0m\u001b[0;34m.\u001b[0m\u001b[0m_start_time\u001b[0m\u001b[0;34m\u001b[0m\u001b[0;34m\u001b[0m\u001b[0m\n",
      "\u001b[0;32m~/opt/anaconda3/envs/learn-env/lib/python3.8/site-packages/joblib/parallel.py\u001b[0m in \u001b[0;36mretrieve\u001b[0;34m(self)\u001b[0m\n\u001b[1;32m    938\u001b[0m             \u001b[0;32mtry\u001b[0m\u001b[0;34m:\u001b[0m\u001b[0;34m\u001b[0m\u001b[0;34m\u001b[0m\u001b[0m\n\u001b[1;32m    939\u001b[0m                 \u001b[0;32mif\u001b[0m \u001b[0mgetattr\u001b[0m\u001b[0;34m(\u001b[0m\u001b[0mself\u001b[0m\u001b[0;34m.\u001b[0m\u001b[0m_backend\u001b[0m\u001b[0;34m,\u001b[0m \u001b[0;34m'supports_timeout'\u001b[0m\u001b[0;34m,\u001b[0m \u001b[0;32mFalse\u001b[0m\u001b[0;34m)\u001b[0m\u001b[0;34m:\u001b[0m\u001b[0;34m\u001b[0m\u001b[0;34m\u001b[0m\u001b[0m\n\u001b[0;32m--> 940\u001b[0;31m                     \u001b[0mself\u001b[0m\u001b[0;34m.\u001b[0m\u001b[0m_output\u001b[0m\u001b[0;34m.\u001b[0m\u001b[0mextend\u001b[0m\u001b[0;34m(\u001b[0m\u001b[0mjob\u001b[0m\u001b[0;34m.\u001b[0m\u001b[0mget\u001b[0m\u001b[0;34m(\u001b[0m\u001b[0mtimeout\u001b[0m\u001b[0;34m=\u001b[0m\u001b[0mself\u001b[0m\u001b[0;34m.\u001b[0m\u001b[0mtimeout\u001b[0m\u001b[0;34m)\u001b[0m\u001b[0;34m)\u001b[0m\u001b[0;34m\u001b[0m\u001b[0;34m\u001b[0m\u001b[0m\n\u001b[0m\u001b[1;32m    941\u001b[0m                 \u001b[0;32melse\u001b[0m\u001b[0;34m:\u001b[0m\u001b[0;34m\u001b[0m\u001b[0;34m\u001b[0m\u001b[0m\n\u001b[1;32m    942\u001b[0m                     \u001b[0mself\u001b[0m\u001b[0;34m.\u001b[0m\u001b[0m_output\u001b[0m\u001b[0;34m.\u001b[0m\u001b[0mextend\u001b[0m\u001b[0;34m(\u001b[0m\u001b[0mjob\u001b[0m\u001b[0;34m.\u001b[0m\u001b[0mget\u001b[0m\u001b[0;34m(\u001b[0m\u001b[0;34m)\u001b[0m\u001b[0;34m)\u001b[0m\u001b[0;34m\u001b[0m\u001b[0;34m\u001b[0m\u001b[0m\n",
      "\u001b[0;32m~/opt/anaconda3/envs/learn-env/lib/python3.8/site-packages/joblib/_parallel_backends.py\u001b[0m in \u001b[0;36mwrap_future_result\u001b[0;34m(future, timeout)\u001b[0m\n\u001b[1;32m    540\u001b[0m         AsyncResults.get from multiprocessing.\"\"\"\n\u001b[1;32m    541\u001b[0m         \u001b[0;32mtry\u001b[0m\u001b[0;34m:\u001b[0m\u001b[0;34m\u001b[0m\u001b[0;34m\u001b[0m\u001b[0m\n\u001b[0;32m--> 542\u001b[0;31m             \u001b[0;32mreturn\u001b[0m \u001b[0mfuture\u001b[0m\u001b[0;34m.\u001b[0m\u001b[0mresult\u001b[0m\u001b[0;34m(\u001b[0m\u001b[0mtimeout\u001b[0m\u001b[0;34m=\u001b[0m\u001b[0mtimeout\u001b[0m\u001b[0;34m)\u001b[0m\u001b[0;34m\u001b[0m\u001b[0;34m\u001b[0m\u001b[0m\n\u001b[0m\u001b[1;32m    543\u001b[0m         \u001b[0;32mexcept\u001b[0m \u001b[0mCfTimeoutError\u001b[0m \u001b[0;32mas\u001b[0m \u001b[0me\u001b[0m\u001b[0;34m:\u001b[0m\u001b[0;34m\u001b[0m\u001b[0;34m\u001b[0m\u001b[0m\n\u001b[1;32m    544\u001b[0m             \u001b[0;32mraise\u001b[0m \u001b[0mTimeoutError\u001b[0m \u001b[0;32mfrom\u001b[0m \u001b[0me\u001b[0m\u001b[0;34m\u001b[0m\u001b[0;34m\u001b[0m\u001b[0m\n",
      "\u001b[0;32m~/opt/anaconda3/envs/learn-env/lib/python3.8/concurrent/futures/_base.py\u001b[0m in \u001b[0;36mresult\u001b[0;34m(self, timeout)\u001b[0m\n\u001b[1;32m    432\u001b[0m                 \u001b[0;32mreturn\u001b[0m \u001b[0mself\u001b[0m\u001b[0;34m.\u001b[0m\u001b[0m__get_result\u001b[0m\u001b[0;34m(\u001b[0m\u001b[0;34m)\u001b[0m\u001b[0;34m\u001b[0m\u001b[0;34m\u001b[0m\u001b[0m\n\u001b[1;32m    433\u001b[0m \u001b[0;34m\u001b[0m\u001b[0m\n\u001b[0;32m--> 434\u001b[0;31m             \u001b[0mself\u001b[0m\u001b[0;34m.\u001b[0m\u001b[0m_condition\u001b[0m\u001b[0;34m.\u001b[0m\u001b[0mwait\u001b[0m\u001b[0;34m(\u001b[0m\u001b[0mtimeout\u001b[0m\u001b[0;34m)\u001b[0m\u001b[0;34m\u001b[0m\u001b[0;34m\u001b[0m\u001b[0m\n\u001b[0m\u001b[1;32m    435\u001b[0m \u001b[0;34m\u001b[0m\u001b[0m\n\u001b[1;32m    436\u001b[0m             \u001b[0;32mif\u001b[0m \u001b[0mself\u001b[0m\u001b[0;34m.\u001b[0m\u001b[0m_state\u001b[0m \u001b[0;32min\u001b[0m \u001b[0;34m[\u001b[0m\u001b[0mCANCELLED\u001b[0m\u001b[0;34m,\u001b[0m \u001b[0mCANCELLED_AND_NOTIFIED\u001b[0m\u001b[0;34m]\u001b[0m\u001b[0;34m:\u001b[0m\u001b[0;34m\u001b[0m\u001b[0;34m\u001b[0m\u001b[0m\n",
      "\u001b[0;32m~/opt/anaconda3/envs/learn-env/lib/python3.8/threading.py\u001b[0m in \u001b[0;36mwait\u001b[0;34m(self, timeout)\u001b[0m\n\u001b[1;32m    300\u001b[0m         \u001b[0;32mtry\u001b[0m\u001b[0;34m:\u001b[0m    \u001b[0;31m# restore state no matter what (e.g., KeyboardInterrupt)\u001b[0m\u001b[0;34m\u001b[0m\u001b[0;34m\u001b[0m\u001b[0m\n\u001b[1;32m    301\u001b[0m             \u001b[0;32mif\u001b[0m \u001b[0mtimeout\u001b[0m \u001b[0;32mis\u001b[0m \u001b[0;32mNone\u001b[0m\u001b[0;34m:\u001b[0m\u001b[0;34m\u001b[0m\u001b[0;34m\u001b[0m\u001b[0m\n\u001b[0;32m--> 302\u001b[0;31m                 \u001b[0mwaiter\u001b[0m\u001b[0;34m.\u001b[0m\u001b[0macquire\u001b[0m\u001b[0;34m(\u001b[0m\u001b[0;34m)\u001b[0m\u001b[0;34m\u001b[0m\u001b[0;34m\u001b[0m\u001b[0m\n\u001b[0m\u001b[1;32m    303\u001b[0m                 \u001b[0mgotit\u001b[0m \u001b[0;34m=\u001b[0m \u001b[0;32mTrue\u001b[0m\u001b[0;34m\u001b[0m\u001b[0;34m\u001b[0m\u001b[0m\n\u001b[1;32m    304\u001b[0m             \u001b[0;32melse\u001b[0m\u001b[0;34m:\u001b[0m\u001b[0;34m\u001b[0m\u001b[0;34m\u001b[0m\u001b[0m\n",
      "\u001b[0;31mKeyboardInterrupt\u001b[0m: "
     ]
    }
   ],
   "source": [
    "parameters = {\n",
    "    'estimator__n_estimators': [150],                  # default=100 Number of trees. , Higher values prevent overfitting \n",
    "    'estimator__criterion': ['entropy', 'gini'],       # default = gini\n",
    "    'estimator__max_depth': [6, 7, 8],                 # default = None, Lower depth prevents overfitting\n",
    "    'estimator__max_features': [None, 5, 10, 15],      # default = None (n_features), Lower values prevent overfitting  \n",
    "    'estimator__min_samples_split': [10, 20, 50],      # default = 2, Higher values prevent overfitting \n",
    "    'estimator__min_samples_leaf': [2, 4, 6]           # default = 1, Higher values prevent overfitting \n",
    "}     \n",
    "        \n",
    "best_RF = GridSearchCV(estimator=baseline_RF,   \n",
    "                        param_grid=parameters,     \n",
    "                        scoring='recall',          \n",
    "                        cv=5,\n",
    "                        n_jobs=-1)                      \n",
    "\n",
    "best_RF.fit(X_train, y_train);"
   ]
  },
  {
   "cell_type": "code",
   "execution_count": null,
   "metadata": {
    "ExecuteTime": {
     "end_time": "2023-01-24T05:08:59.813183Z",
     "start_time": "2023-01-24T05:03:31.726Z"
    }
   },
   "outputs": [],
   "source": [
    "# Capture roc_auc for cross val, test, and train \n",
    "roc_score_train_cv = cross_val_score(estimator=best_RF, X=X_train,  y=y_train, \n",
    "                                         cv=StratifiedKFold(shuffle=True), scoring='recall').mean()\n",
    "\n",
    "roc_score_train = roc_auc_score(y_train, best_RF.predict_proba(X_train)[:, 1]) \n",
    "roc_score_test = roc_auc_score(y_test, best_RF.predict_proba(X_test)[:, 1])\n",
    "        \n",
    "# Capture recall scores for test and train\n",
    "recall_score_train = recall_score(y_train, best_RF.predict(X_train))\n",
    "recall_score_test = recall_score(y_test, best_RF.predict(X_test))\n",
    "\n",
    "f1_score_train = f1_score(y_train, best_RF.predict(X_train))\n",
    "f1_score_test = f1_score(y_test, best_RF.predict(X_test))\n",
    "        \n",
    "\n",
    "print('\\n', \"Performance Comparison\", '\\n')\n",
    "print(divider)    \n",
    "print(f\" Mean Cross Validated Roc_Auc Score: {roc_score_train_cv :.2%}\")    \n",
    "print(f\" Train Roc_Auc Score: {roc_score_train :.2%}\")  \n",
    "print(f\" Test Roc_Auc Score: {roc_score_test :.2%}\")    \n",
    "print(divider)\n",
    "     \n",
    "print(f\" Train Recall score: {recall_score_train :.2%}\")    \n",
    "print(f\" Test Recall score: {recall_score_test :.2%}\")  \n",
    "print(divider)\n",
    "\n",
    "print(f\" Train F1 score: {f1_score_train :.2%}\")    \n",
    "print(f\" Test F1 score: {f1_score_test :.2%}\")  \n",
    "print(divider, '\\n')"
   ]
  },
  {
   "cell_type": "markdown",
   "metadata": {},
   "source": [
    "# Build Another Model (XGBoost, other?)"
   ]
  },
  {
   "cell_type": "markdown",
   "metadata": {},
   "source": [
    "## Baseline XGBoost"
   ]
  },
  {
   "cell_type": "code",
   "execution_count": null,
   "metadata": {
    "ExecuteTime": {
     "end_time": "2023-01-15T14:34:27.729826Z",
     "start_time": "2023-01-15T14:33:16.945Z"
    }
   },
   "outputs": [],
   "source": [
    "baseline_xgb = Pipeline([\n",
    "    (\"preprocessor\", preprocessor),\n",
    "    ('estimator', XGBClassifier(objective=\"binary:logistic\", random_state=42))\n",
    "])\n",
    "\n",
    "# Train model\n",
    "baseline_xgb.fit(X_train, y_train);"
   ]
  },
  {
   "cell_type": "markdown",
   "metadata": {
    "ExecuteTime": {
     "end_time": "2023-01-16T02:04:48.630883Z",
     "start_time": "2023-01-16T02:04:48.626661Z"
    }
   },
   "source": [
    "## Tuned XGBoost"
   ]
  },
  {
   "cell_type": "code",
   "execution_count": null,
   "metadata": {
    "ExecuteTime": {
     "end_time": "2023-01-15T14:34:27.731564Z",
     "start_time": "2023-01-15T14:33:16.948Z"
    }
   },
   "outputs": [],
   "source": [
    "parameters = {\n",
    "    \"estimator__n_estimators\": [75],              # default = 100, To avoid overfitting use \"fewer\" trees unlike RF.\n",
    "    \"estimator__learning_rate\": [0.05, 0.1, 0.2], # default = 0.3, Lower ratios avoid over-fitting. If you reduce the learning rate in your XGBoost model, your model will also be less likely to overfit. \n",
    "    \"estimator__max_depth\": [4, 5, 6],            # default = 6, It is used to control over-fitting as higher depth will allow model to learn relations very specific to a particular sample.\n",
    "    'estimator__gamma': [0.5, 1],                 # default = 0 , Larger values avoid over-fitting.\n",
    "    'estimator__min_child_weight': [3, 4, 5],     # default = 1, Larger values avoid over-fitting. The larger min_child_weight is, the more conservative the algorithm will be. \n",
    "    'estimator__subsample': [0.5, 0.75],          # default = 1, Lower ratios avoid over-fitting.\n",
    "    'estimator__colsample_bytree':[0.5, 0.75]     # default = 1, Lower ratios avoid over-fitting.\n",
    "}\n",
    "\n",
    "best_xgb = GridSearchCV(estimator=baseline_xgb,       \n",
    "                        param_grid=parameters,     \n",
    "                        scoring='roc_auc',          \n",
    "                        cv=5,\n",
    "                        n_jobs=-1\n",
    ")                      \n",
    "\n",
    "# Train the pipeline (tranformations & predictor)ui0\n",
    "best_xgb.fit(X_train, y_train);"
   ]
  },
  {
   "cell_type": "markdown",
   "metadata": {},
   "source": [
    "# Gradient Boosting"
   ]
  },
  {
   "cell_type": "code",
   "execution_count": null,
   "metadata": {},
   "outputs": [],
   "source": [
    "GradientBoostingClassifier()\n",
    "\n",
    "https://scikit-learn.org/stable/modules/ensemble.html#gradient-tree-boostingb"
   ]
  },
  {
   "cell_type": "code",
   "execution_count": null,
   "metadata": {},
   "outputs": [],
   "source": [
    "AdaBoostClassifier()\n",
    "\n",
    "https://scikit-learn.org/stable/modules/ensemble.html#adaboost"
   ]
  },
  {
   "cell_type": "markdown",
   "metadata": {
    "ExecuteTime": {
     "end_time": "2022-12-24T13:50:56.380600Z",
     "start_time": "2022-12-24T13:50:56.351609Z"
    }
   },
   "source": [
    "# Model Evalution"
   ]
  },
  {
   "cell_type": "markdown",
   "metadata": {},
   "source": [
    "## Comparison between Models"
   ]
  },
  {
   "cell_type": "code",
   "execution_count": null,
   "metadata": {},
   "outputs": [],
   "source": []
  },
  {
   "cell_type": "markdown",
   "metadata": {
    "ExecuteTime": {
     "end_time": "2022-12-24T13:50:59.998772Z",
     "start_time": "2022-12-24T13:50:59.996257Z"
    }
   },
   "source": [
    "# Final Model"
   ]
  },
  {
   "cell_type": "code",
   "execution_count": null,
   "metadata": {},
   "outputs": [],
   "source": []
  }
 ],
 "metadata": {
  "kernelspec": {
   "display_name": "Python (learn-env)",
   "language": "python",
   "name": "learn-env"
  },
  "language_info": {
   "codemirror_mode": {
    "name": "ipython",
    "version": 3
   },
   "file_extension": ".py",
   "mimetype": "text/x-python",
   "name": "python",
   "nbconvert_exporter": "python",
   "pygments_lexer": "ipython3",
   "version": "3.8.5"
  },
  "toc": {
   "base_numbering": 1,
   "nav_menu": {},
   "number_sections": true,
   "sideBar": true,
   "skip_h1_title": false,
   "title_cell": "Table of Contents",
   "title_sidebar": "Contents",
   "toc_cell": false,
   "toc_position": {
    "height": "calc(100% - 180px)",
    "left": "10px",
    "top": "150px",
    "width": "228px"
   },
   "toc_section_display": true,
   "toc_window_display": true
  }
 },
 "nbformat": 4,
 "nbformat_minor": 4
}
