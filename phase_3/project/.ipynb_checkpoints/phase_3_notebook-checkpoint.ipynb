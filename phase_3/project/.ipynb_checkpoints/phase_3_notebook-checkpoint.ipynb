{
 "cells": [
  {
   "cell_type": "markdown",
   "metadata": {},
   "source": [
    "# Final Project Submission\n",
    "\n",
    "* Student name: Heath Rittler\n",
    "* Student pace: Self paced\n",
    "* Scheduled project review date/time: \n",
    "* Instructor name: Mark Barbour\n",
    "* Blog post URL: https://medium.com/@heathlikethecandybar/"
   ]
  },
  {
   "cell_type": "markdown",
   "metadata": {
    "ExecuteTime": {
     "end_time": "2022-12-05T23:31:24.225801Z",
     "start_time": "2022-12-05T23:31:24.222306Z"
    }
   },
   "source": [
    "# Introduction"
   ]
  },
  {
   "cell_type": "markdown",
   "metadata": {},
   "source": [
    "## Business Case/ Summary"
   ]
  },
  {
   "cell_type": "markdown",
   "metadata": {},
   "source": [
    "SyriaTel, a telecommunications company wants to identify the leading factors of why a customer cancels their service.  This is also referred to as 'Churn.'  If they understand the factors that lead to churn, the company can implement programs to reduce the risk of churn, and increase the lifetime value of and for their customers.\n",
    "\n",
    "My goal is to build a classifer to predict whether a customer will stop doing business with SyriaTel using information such as usage, interactions with SyriaTel, and certain features that the customer has purchased.  I am mostly focused on reducing the rate of false negatives."
   ]
  },
  {
   "cell_type": "markdown",
   "metadata": {
    "ExecuteTime": {
     "end_time": "2022-12-05T23:31:56.326643Z",
     "start_time": "2022-12-05T23:31:56.324175Z"
    }
   },
   "source": [
    "## Core Field Names and Definitions from Data Source"
   ]
  },
  {
   "cell_type": "markdown",
   "metadata": {},
   "source": [
    "https://www.kaggle.com/datasets/becksddf/churn-in-telecoms-dataset\n",
    "\n",
    "* `state`- The state in which the account owner resides.\n",
    "* `account length` - \n",
    "* `area code` - Primary 3 digit area of the line for the account.\n",
    "* `phone number` - Primary 7 digit area of the line for the account.\n",
    "* `international plan` - Indicator denoting whether or not the account has an international feature.\n",
    "* `voice mail plan` - Indicator denoting whether or not the account has an voice mail feature.\n",
    "* `number vmail messages` - Usage metric counting the total number of voicemails for the phone number in question.\n",
    "* `total day minutes` - Usage metric indicating how many minutes (call time) were used between 6:00am and 5:00pm.\n",
    "* `total day calls` - Usage metric indicating how many calls were used between 6:00am and 5:00pm. \n",
    "* `total day charge` - Usage metric indicating how much the user was charged for their usage between 6:00am and 5:00pm.\n",
    "* `total eve minutes` - Usage metric indicating how many minutes (call time) were used between 5:01pm and 8:00pm.\n",
    "* `total eve calls` - Usage metric indicating how many calls were used between 5:01pm and 8:00pm. \n",
    "* `total eve charge` - Usage metric indicating how much the user was charged for their usage between 5:01pm and 8:00pm.\n",
    "* `total night minutes` - Usage metric indicating how many minutes (call time) were used between 8:01pm and 5:59am.\n",
    "* `total night calls` - Usage metric indicating how many calls were used between 8:01pm and 5:59am.\n",
    "* `total night charge` - Usage metric indicating how much the user was charged for their usage between 8:01pm and 5:59a.\n",
    "* `total intl minutes` - Usage metric indicating how many minutes (call time) were used internationally.\n",
    "* `total intl calls` - Usage metric indicating how many calls were made internationally.\n",
    "* `total intl charge` - Usage metric indicating how much the user was charged for their international call usage.\n",
    "* `customer service calls` - The total number of customer service calls made by the user to the Skyvia Customer Service line.\n",
    "* `churn` - Our target category indicating whether or not the customer churned/ cancelled their plan."
   ]
  },
  {
   "cell_type": "markdown",
   "metadata": {
    "ExecuteTime": {
     "end_time": "2022-12-05T23:33:58.458765Z",
     "start_time": "2022-12-05T23:33:58.456116Z"
    }
   },
   "source": [
    "# Data Load, Cleaning"
   ]
  },
  {
   "cell_type": "markdown",
   "metadata": {
    "ExecuteTime": {
     "end_time": "2022-12-05T23:34:45.455453Z",
     "start_time": "2022-12-05T23:34:45.452940Z"
    }
   },
   "source": [
    "## Importing Packages"
   ]
  },
  {
   "cell_type": "code",
   "execution_count": 839,
   "metadata": {
    "ExecuteTime": {
     "end_time": "2022-12-29T20:58:27.421982Z",
     "start_time": "2022-12-29T20:58:27.409673Z"
    }
   },
   "outputs": [],
   "source": [
    "# Importing packages for analysis\n",
    "\n",
    "import pandas as pd\n",
    "import numpy as np\n",
    "\n",
    "from matplotlib import pyplot as plt\n",
    "import matplotlib.ticker as mtick\n",
    "import seaborn as sns\n",
    "import statsmodels.api as sm\n",
    "from sklearn.linear_model import LinearRegression\n",
    "from sklearn.model_selection import train_test_split, cross_val_score, GridSearchCV\n",
    "\n",
    "from sklearn.preprocessing import LabelEncoder\n",
    "from sklearn.pipeline import Pipeline\n",
    "from sklearn.preprocessing import OneHotEncoder, StandardScaler, FunctionTransformer\n",
    "from sklearn.impute import MissingIndicator, SimpleImputer\n",
    "from sklearn.compose import ColumnTransformer\n",
    "from sklearn.dummy import DummyClassifier\n",
    "from sklearn.metrics import plot_confusion_matrix\n",
    "from sklearn.metrics import confusion_matrix\n",
    "from sklearn.metrics import plot_roc_curve\n",
    "from sklearn.metrics import classification_report\n",
    "from sklearn.metrics import plot_roc_curve, roc_curve, roc_auc_score\n",
    "from sklearn.metrics import precision_score, recall_score, accuracy_score, f1_score\n",
    "\n",
    "lr = LinearRegression()\n",
    "plt.style.use('seaborn-talk')\n",
    "import sklearn.metrics as metrics\n",
    "\n",
    "\n",
    "%matplotlib inline"
   ]
  },
  {
   "cell_type": "markdown",
   "metadata": {
    "ExecuteTime": {
     "end_time": "2022-12-05T23:35:01.964010Z",
     "start_time": "2022-12-05T23:35:01.961530Z"
    }
   },
   "source": [
    "## Choosing Colors & Templates"
   ]
  },
  {
   "cell_type": "code",
   "execution_count": 840,
   "metadata": {
    "ExecuteTime": {
     "end_time": "2022-12-29T20:58:27.487222Z",
     "start_time": "2022-12-29T20:58:27.424805Z"
    }
   },
   "outputs": [
    {
     "data": {
      "image/png": "[encoded data removed]",
      "text/plain": [
       "<Figure size 360x72 with 1 Axes>"
      ]
     },
     "metadata": {
      "needs_background": "light"
     },
     "output_type": "display_data"
    }
   ],
   "source": [
    "# Choosing standard colors for project\n",
    "\n",
    "pal = ['#37648C',\n",
    "        '#5687A6',\n",
    "        '#F2E4BB',\n",
    "        '#F29D52',\n",
    "        '#F26A4B']\n",
    "\n",
    "color_codes = ['darkblue', 'blue', 'beige', 'orange', 'redorange']\n",
    "\n",
    "c = lambda x: pal[color_codes.index(x)]\n",
    "\n",
    "sns.palplot(sns.color_palette(pal))\n",
    "\n",
    "div = []"
   ]
  },
  {
   "cell_type": "markdown",
   "metadata": {
    "ExecuteTime": {
     "end_time": "2022-12-05T23:35:49.207235Z",
     "start_time": "2022-12-05T23:35:49.204872Z"
    }
   },
   "source": [
    "## Import data"
   ]
  },
  {
   "cell_type": "code",
   "execution_count": 841,
   "metadata": {
    "ExecuteTime": {
     "end_time": "2022-12-29T20:58:27.531385Z",
     "start_time": "2022-12-29T20:58:27.490282Z"
    }
   },
   "outputs": [
    {
     "data": {
      "text/html": [
       "<div>\n",
       "<style scoped>\n",
       "    .dataframe tbody tr th:only-of-type {\n",
       "        vertical-align: middle;\n",
       "    }\n",
       "\n",
       "    .dataframe tbody tr th {\n",
       "        vertical-align: top;\n",
       "    }\n",
       "\n",
       "    .dataframe thead th {\n",
       "        text-align: right;\n",
       "    }\n",
       "</style>\n",
       "<table border=\"1\" class=\"dataframe\">\n",
       "  <thead>\n",
       "    <tr style=\"text-align: right;\">\n",
       "      <th></th>\n",
       "      <th>state</th>\n",
       "      <th>account length</th>\n",
       "      <th>area code</th>\n",
       "      <th>phone number</th>\n",
       "      <th>international plan</th>\n",
       "      <th>voice mail plan</th>\n",
       "      <th>number vmail messages</th>\n",
       "      <th>total day minutes</th>\n",
       "      <th>total day calls</th>\n",
       "      <th>total day charge</th>\n",
       "      <th>...</th>\n",
       "      <th>total eve calls</th>\n",
       "      <th>total eve charge</th>\n",
       "      <th>total night minutes</th>\n",
       "      <th>total night calls</th>\n",
       "      <th>total night charge</th>\n",
       "      <th>total intl minutes</th>\n",
       "      <th>total intl calls</th>\n",
       "      <th>total intl charge</th>\n",
       "      <th>customer service calls</th>\n",
       "      <th>churn</th>\n",
       "    </tr>\n",
       "  </thead>\n",
       "  <tbody>\n",
       "    <tr>\n",
       "      <th>0</th>\n",
       "      <td>KS</td>\n",
       "      <td>128</td>\n",
       "      <td>415</td>\n",
       "      <td>382-4657</td>\n",
       "      <td>no</td>\n",
       "      <td>yes</td>\n",
       "      <td>25</td>\n",
       "      <td>265.1</td>\n",
       "      <td>110</td>\n",
       "      <td>45.07</td>\n",
       "      <td>...</td>\n",
       "      <td>99</td>\n",
       "      <td>16.78</td>\n",
       "      <td>244.7</td>\n",
       "      <td>91</td>\n",
       "      <td>11.01</td>\n",
       "      <td>10.0</td>\n",
       "      <td>3</td>\n",
       "      <td>2.70</td>\n",
       "      <td>1</td>\n",
       "      <td>False</td>\n",
       "    </tr>\n",
       "    <tr>\n",
       "      <th>1</th>\n",
       "      <td>OH</td>\n",
       "      <td>107</td>\n",
       "      <td>415</td>\n",
       "      <td>371-7191</td>\n",
       "      <td>no</td>\n",
       "      <td>yes</td>\n",
       "      <td>26</td>\n",
       "      <td>161.6</td>\n",
       "      <td>123</td>\n",
       "      <td>27.47</td>\n",
       "      <td>...</td>\n",
       "      <td>103</td>\n",
       "      <td>16.62</td>\n",
       "      <td>254.4</td>\n",
       "      <td>103</td>\n",
       "      <td>11.45</td>\n",
       "      <td>13.7</td>\n",
       "      <td>3</td>\n",
       "      <td>3.70</td>\n",
       "      <td>1</td>\n",
       "      <td>False</td>\n",
       "    </tr>\n",
       "    <tr>\n",
       "      <th>2</th>\n",
       "      <td>NJ</td>\n",
       "      <td>137</td>\n",
       "      <td>415</td>\n",
       "      <td>358-1921</td>\n",
       "      <td>no</td>\n",
       "      <td>no</td>\n",
       "      <td>0</td>\n",
       "      <td>243.4</td>\n",
       "      <td>114</td>\n",
       "      <td>41.38</td>\n",
       "      <td>...</td>\n",
       "      <td>110</td>\n",
       "      <td>10.30</td>\n",
       "      <td>162.6</td>\n",
       "      <td>104</td>\n",
       "      <td>7.32</td>\n",
       "      <td>12.2</td>\n",
       "      <td>5</td>\n",
       "      <td>3.29</td>\n",
       "      <td>0</td>\n",
       "      <td>False</td>\n",
       "    </tr>\n",
       "    <tr>\n",
       "      <th>3</th>\n",
       "      <td>OH</td>\n",
       "      <td>84</td>\n",
       "      <td>408</td>\n",
       "      <td>375-9999</td>\n",
       "      <td>yes</td>\n",
       "      <td>no</td>\n",
       "      <td>0</td>\n",
       "      <td>299.4</td>\n",
       "      <td>71</td>\n",
       "      <td>50.90</td>\n",
       "      <td>...</td>\n",
       "      <td>88</td>\n",
       "      <td>5.26</td>\n",
       "      <td>196.9</td>\n",
       "      <td>89</td>\n",
       "      <td>8.86</td>\n",
       "      <td>6.6</td>\n",
       "      <td>7</td>\n",
       "      <td>1.78</td>\n",
       "      <td>2</td>\n",
       "      <td>False</td>\n",
       "    </tr>\n",
       "    <tr>\n",
       "      <th>4</th>\n",
       "      <td>OK</td>\n",
       "      <td>75</td>\n",
       "      <td>415</td>\n",
       "      <td>330-6626</td>\n",
       "      <td>yes</td>\n",
       "      <td>no</td>\n",
       "      <td>0</td>\n",
       "      <td>166.7</td>\n",
       "      <td>113</td>\n",
       "      <td>28.34</td>\n",
       "      <td>...</td>\n",
       "      <td>122</td>\n",
       "      <td>12.61</td>\n",
       "      <td>186.9</td>\n",
       "      <td>121</td>\n",
       "      <td>8.41</td>\n",
       "      <td>10.1</td>\n",
       "      <td>3</td>\n",
       "      <td>2.73</td>\n",
       "      <td>3</td>\n",
       "      <td>False</td>\n",
       "    </tr>\n",
       "  </tbody>\n",
       "</table>\n",
       "<p>5 rows × 21 columns</p>\n",
       "</div>"
      ],
      "text/plain": [
       "  state  account length  area code phone number international plan  \\\n",
       "0    KS             128        415     382-4657                 no   \n",
       "1    OH             107        415     371-7191                 no   \n",
       "2    NJ             137        415     358-1921                 no   \n",
       "3    OH              84        408     375-9999                yes   \n",
       "4    OK              75        415     330-6626                yes   \n",
       "\n",
       "  voice mail plan  number vmail messages  total day minutes  total day calls  \\\n",
       "0             yes                     25              265.1              110   \n",
       "1             yes                     26              161.6              123   \n",
       "2              no                      0              243.4              114   \n",
       "3              no                      0              299.4               71   \n",
       "4              no                      0              166.7              113   \n",
       "\n",
       "   total day charge  ...  total eve calls  total eve charge  \\\n",
       "0             45.07  ...               99             16.78   \n",
       "1             27.47  ...              103             16.62   \n",
       "2             41.38  ...              110             10.30   \n",
       "3             50.90  ...               88              5.26   \n",
       "4             28.34  ...              122             12.61   \n",
       "\n",
       "   total night minutes  total night calls  total night charge  \\\n",
       "0                244.7                 91               11.01   \n",
       "1                254.4                103               11.45   \n",
       "2                162.6                104                7.32   \n",
       "3                196.9                 89                8.86   \n",
       "4                186.9                121                8.41   \n",
       "\n",
       "   total intl minutes  total intl calls  total intl charge  \\\n",
       "0                10.0                 3               2.70   \n",
       "1                13.7                 3               3.70   \n",
       "2                12.2                 5               3.29   \n",
       "3                 6.6                 7               1.78   \n",
       "4                10.1                 3               2.73   \n",
       "\n",
       "   customer service calls  churn  \n",
       "0                       1  False  \n",
       "1                       1  False  \n",
       "2                       0  False  \n",
       "3                       2  False  \n",
       "4                       3  False  \n",
       "\n",
       "[5 rows x 21 columns]"
      ]
     },
     "execution_count": 841,
     "metadata": {},
     "output_type": "execute_result"
    }
   ],
   "source": [
    "# Importing data and viewing the first 5 rows\n",
    "\n",
    "df = pd.read_csv('data.csv')\n",
    "\n",
    "df.head()"
   ]
  },
  {
   "cell_type": "code",
   "execution_count": 842,
   "metadata": {
    "ExecuteTime": {
     "end_time": "2022-12-29T20:58:27.538467Z",
     "start_time": "2022-12-29T20:58:27.534823Z"
    }
   },
   "outputs": [],
   "source": [
    "# Updating column names to have an _ vs a space\n",
    "\n",
    "df.columns = [c.replace(' ', '_') for c in df.columns]"
   ]
  },
  {
   "cell_type": "code",
   "execution_count": 843,
   "metadata": {
    "ExecuteTime": {
     "end_time": "2022-12-29T20:58:27.553290Z",
     "start_time": "2022-12-29T20:58:27.541097Z"
    },
    "scrolled": false
   },
   "outputs": [
    {
     "name": "stdout",
     "output_type": "stream",
     "text": [
      "<class 'pandas.core.frame.DataFrame'>\n",
      "RangeIndex: 3333 entries, 0 to 3332\n",
      "Data columns (total 21 columns):\n",
      " #   Column                  Non-Null Count  Dtype  \n",
      "---  ------                  --------------  -----  \n",
      " 0   state                   3333 non-null   object \n",
      " 1   account_length          3333 non-null   int64  \n",
      " 2   area_code               3333 non-null   int64  \n",
      " 3   phone_number            3333 non-null   object \n",
      " 4   international_plan      3333 non-null   object \n",
      " 5   voice_mail_plan         3333 non-null   object \n",
      " 6   number_vmail_messages   3333 non-null   int64  \n",
      " 7   total_day_minutes       3333 non-null   float64\n",
      " 8   total_day_calls         3333 non-null   int64  \n",
      " 9   total_day_charge        3333 non-null   float64\n",
      " 10  total_eve_minutes       3333 non-null   float64\n",
      " 11  total_eve_calls         3333 non-null   int64  \n",
      " 12  total_eve_charge        3333 non-null   float64\n",
      " 13  total_night_minutes     3333 non-null   float64\n",
      " 14  total_night_calls       3333 non-null   int64  \n",
      " 15  total_night_charge      3333 non-null   float64\n",
      " 16  total_intl_minutes      3333 non-null   float64\n",
      " 17  total_intl_calls        3333 non-null   int64  \n",
      " 18  total_intl_charge       3333 non-null   float64\n",
      " 19  customer_service_calls  3333 non-null   int64  \n",
      " 20  churn                   3333 non-null   bool   \n",
      "dtypes: bool(1), float64(8), int64(8), object(4)\n",
      "memory usage: 524.2+ KB\n"
     ]
    }
   ],
   "source": [
    "# Taking a quick peak at our datatypes for any transformations needed.\n",
    "\n",
    "df.info()"
   ]
  },
  {
   "cell_type": "markdown",
   "metadata": {},
   "source": [
    "Looks like we have a few categorical variables in which we will need to encode.  Well look at that here in a bit.  First I want to make sure our dataset is complete. Moving on to checking to see if we need to remove or impute any data before any transformations."
   ]
  },
  {
   "cell_type": "code",
   "execution_count": 844,
   "metadata": {
    "ExecuteTime": {
     "end_time": "2022-12-29T20:58:27.562802Z",
     "start_time": "2022-12-29T20:58:27.555501Z"
    }
   },
   "outputs": [
    {
     "data": {
      "text/plain": [
       "state                     0\n",
       "account_length            0\n",
       "area_code                 0\n",
       "phone_number              0\n",
       "international_plan        0\n",
       "voice_mail_plan           0\n",
       "number_vmail_messages     0\n",
       "total_day_minutes         0\n",
       "total_day_calls           0\n",
       "total_day_charge          0\n",
       "total_eve_minutes         0\n",
       "total_eve_calls           0\n",
       "total_eve_charge          0\n",
       "total_night_minutes       0\n",
       "total_night_calls         0\n",
       "total_night_charge        0\n",
       "total_intl_minutes        0\n",
       "total_intl_calls          0\n",
       "total_intl_charge         0\n",
       "customer_service_calls    0\n",
       "churn                     0\n",
       "dtype: int64"
      ]
     },
     "execution_count": 844,
     "metadata": {},
     "output_type": "execute_result"
    }
   ],
   "source": [
    "# Checking for missing values.\n",
    "\n",
    "df.isna().sum()"
   ]
  },
  {
   "cell_type": "markdown",
   "metadata": {},
   "source": [
    "No missing values. Going to create some columns to add together all of our minutes, calls, and charges.  We might be able to reduce the number of dimensions we have if the customer is not using the plan at all.  We may drop these later, but let's add them while we are in the mood."
   ]
  },
  {
   "cell_type": "code",
   "execution_count": 845,
   "metadata": {
    "ExecuteTime": {
     "end_time": "2022-12-29T20:58:27.569495Z",
     "start_time": "2022-12-29T20:58:27.564993Z"
    }
   },
   "outputs": [],
   "source": [
    "# Adding column for total calls\n",
    "\n",
    "df['total_calls'] = (df['total_day_calls'] +\n",
    "                    df['total_eve_calls'] + \n",
    "                    df['total_night_calls'] + \n",
    "                    df['total_intl_calls']\n",
    "                    )"
   ]
  },
  {
   "cell_type": "code",
   "execution_count": 846,
   "metadata": {
    "ExecuteTime": {
     "end_time": "2022-12-29T20:58:27.579505Z",
     "start_time": "2022-12-29T20:58:27.575252Z"
    }
   },
   "outputs": [],
   "source": [
    "# Adding column for total minutes\n",
    "\n",
    "df['total_charges'] = (df['total_day_charge'] + \n",
    "                    df['total_eve_charge'] + \n",
    "                    df['total_night_charge'] + \n",
    "                    df['total_intl_charge']\n",
    "                      )"
   ]
  },
  {
   "cell_type": "code",
   "execution_count": 847,
   "metadata": {
    "ExecuteTime": {
     "end_time": "2022-12-29T20:58:27.587733Z",
     "start_time": "2022-12-29T20:58:27.583574Z"
    }
   },
   "outputs": [],
   "source": [
    "# Adding column for total charges\n",
    "\n",
    "df['total_minutes'] = (df['total_day_minutes'] + \n",
    "                    df['total_eve_minutes'] + \n",
    "                    df['total_night_minutes'] + \n",
    "                    df['total_intl_minutes']\n",
    "                      )"
   ]
  },
  {
   "cell_type": "code",
   "execution_count": 848,
   "metadata": {
    "ExecuteTime": {
     "end_time": "2022-12-29T20:58:27.598817Z",
     "start_time": "2022-12-29T20:58:27.592894Z"
    }
   },
   "outputs": [],
   "source": [
    "df['price_per_minute'] = df['total_day_charge']/df['total_minutes']"
   ]
  },
  {
   "cell_type": "code",
   "execution_count": 849,
   "metadata": {
    "ExecuteTime": {
     "end_time": "2022-12-29T20:58:27.634673Z",
     "start_time": "2022-12-29T20:58:27.601568Z"
    },
    "scrolled": true
   },
   "outputs": [
    {
     "data": {
      "text/html": [
       "<div>\n",
       "<style scoped>\n",
       "    .dataframe tbody tr th:only-of-type {\n",
       "        vertical-align: middle;\n",
       "    }\n",
       "\n",
       "    .dataframe tbody tr th {\n",
       "        vertical-align: top;\n",
       "    }\n",
       "\n",
       "    .dataframe thead th {\n",
       "        text-align: right;\n",
       "    }\n",
       "</style>\n",
       "<table border=\"1\" class=\"dataframe\">\n",
       "  <thead>\n",
       "    <tr style=\"text-align: right;\">\n",
       "      <th></th>\n",
       "      <th>state</th>\n",
       "      <th>account_length</th>\n",
       "      <th>area_code</th>\n",
       "      <th>phone_number</th>\n",
       "      <th>international_plan</th>\n",
       "      <th>voice_mail_plan</th>\n",
       "      <th>number_vmail_messages</th>\n",
       "      <th>total_day_minutes</th>\n",
       "      <th>total_day_calls</th>\n",
       "      <th>total_day_charge</th>\n",
       "      <th>...</th>\n",
       "      <th>total_night_charge</th>\n",
       "      <th>total_intl_minutes</th>\n",
       "      <th>total_intl_calls</th>\n",
       "      <th>total_intl_charge</th>\n",
       "      <th>customer_service_calls</th>\n",
       "      <th>churn</th>\n",
       "      <th>total_calls</th>\n",
       "      <th>total_charges</th>\n",
       "      <th>total_minutes</th>\n",
       "      <th>price_per_minute</th>\n",
       "    </tr>\n",
       "  </thead>\n",
       "  <tbody>\n",
       "    <tr>\n",
       "      <th>0</th>\n",
       "      <td>KS</td>\n",
       "      <td>128</td>\n",
       "      <td>415</td>\n",
       "      <td>382-4657</td>\n",
       "      <td>no</td>\n",
       "      <td>yes</td>\n",
       "      <td>25</td>\n",
       "      <td>265.1</td>\n",
       "      <td>110</td>\n",
       "      <td>45.07</td>\n",
       "      <td>...</td>\n",
       "      <td>11.01</td>\n",
       "      <td>10.0</td>\n",
       "      <td>3</td>\n",
       "      <td>2.70</td>\n",
       "      <td>1</td>\n",
       "      <td>False</td>\n",
       "      <td>303</td>\n",
       "      <td>75.56</td>\n",
       "      <td>717.2</td>\n",
       "      <td>0.062842</td>\n",
       "    </tr>\n",
       "    <tr>\n",
       "      <th>1</th>\n",
       "      <td>OH</td>\n",
       "      <td>107</td>\n",
       "      <td>415</td>\n",
       "      <td>371-7191</td>\n",
       "      <td>no</td>\n",
       "      <td>yes</td>\n",
       "      <td>26</td>\n",
       "      <td>161.6</td>\n",
       "      <td>123</td>\n",
       "      <td>27.47</td>\n",
       "      <td>...</td>\n",
       "      <td>11.45</td>\n",
       "      <td>13.7</td>\n",
       "      <td>3</td>\n",
       "      <td>3.70</td>\n",
       "      <td>1</td>\n",
       "      <td>False</td>\n",
       "      <td>332</td>\n",
       "      <td>59.24</td>\n",
       "      <td>625.2</td>\n",
       "      <td>0.043938</td>\n",
       "    </tr>\n",
       "    <tr>\n",
       "      <th>2</th>\n",
       "      <td>NJ</td>\n",
       "      <td>137</td>\n",
       "      <td>415</td>\n",
       "      <td>358-1921</td>\n",
       "      <td>no</td>\n",
       "      <td>no</td>\n",
       "      <td>0</td>\n",
       "      <td>243.4</td>\n",
       "      <td>114</td>\n",
       "      <td>41.38</td>\n",
       "      <td>...</td>\n",
       "      <td>7.32</td>\n",
       "      <td>12.2</td>\n",
       "      <td>5</td>\n",
       "      <td>3.29</td>\n",
       "      <td>0</td>\n",
       "      <td>False</td>\n",
       "      <td>333</td>\n",
       "      <td>62.29</td>\n",
       "      <td>539.4</td>\n",
       "      <td>0.076715</td>\n",
       "    </tr>\n",
       "    <tr>\n",
       "      <th>3</th>\n",
       "      <td>OH</td>\n",
       "      <td>84</td>\n",
       "      <td>408</td>\n",
       "      <td>375-9999</td>\n",
       "      <td>yes</td>\n",
       "      <td>no</td>\n",
       "      <td>0</td>\n",
       "      <td>299.4</td>\n",
       "      <td>71</td>\n",
       "      <td>50.90</td>\n",
       "      <td>...</td>\n",
       "      <td>8.86</td>\n",
       "      <td>6.6</td>\n",
       "      <td>7</td>\n",
       "      <td>1.78</td>\n",
       "      <td>2</td>\n",
       "      <td>False</td>\n",
       "      <td>255</td>\n",
       "      <td>66.80</td>\n",
       "      <td>564.8</td>\n",
       "      <td>0.090120</td>\n",
       "    </tr>\n",
       "    <tr>\n",
       "      <th>4</th>\n",
       "      <td>OK</td>\n",
       "      <td>75</td>\n",
       "      <td>415</td>\n",
       "      <td>330-6626</td>\n",
       "      <td>yes</td>\n",
       "      <td>no</td>\n",
       "      <td>0</td>\n",
       "      <td>166.7</td>\n",
       "      <td>113</td>\n",
       "      <td>28.34</td>\n",
       "      <td>...</td>\n",
       "      <td>8.41</td>\n",
       "      <td>10.1</td>\n",
       "      <td>3</td>\n",
       "      <td>2.73</td>\n",
       "      <td>3</td>\n",
       "      <td>False</td>\n",
       "      <td>359</td>\n",
       "      <td>52.09</td>\n",
       "      <td>512.0</td>\n",
       "      <td>0.055352</td>\n",
       "    </tr>\n",
       "  </tbody>\n",
       "</table>\n",
       "<p>5 rows × 25 columns</p>\n",
       "</div>"
      ],
      "text/plain": [
       "  state  account_length  area_code phone_number international_plan  \\\n",
       "0    KS             128        415     382-4657                 no   \n",
       "1    OH             107        415     371-7191                 no   \n",
       "2    NJ             137        415     358-1921                 no   \n",
       "3    OH              84        408     375-9999                yes   \n",
       "4    OK              75        415     330-6626                yes   \n",
       "\n",
       "  voice_mail_plan  number_vmail_messages  total_day_minutes  total_day_calls  \\\n",
       "0             yes                     25              265.1              110   \n",
       "1             yes                     26              161.6              123   \n",
       "2              no                      0              243.4              114   \n",
       "3              no                      0              299.4               71   \n",
       "4              no                      0              166.7              113   \n",
       "\n",
       "   total_day_charge  ...  total_night_charge  total_intl_minutes  \\\n",
       "0             45.07  ...               11.01                10.0   \n",
       "1             27.47  ...               11.45                13.7   \n",
       "2             41.38  ...                7.32                12.2   \n",
       "3             50.90  ...                8.86                 6.6   \n",
       "4             28.34  ...                8.41                10.1   \n",
       "\n",
       "   total_intl_calls  total_intl_charge  customer_service_calls  churn  \\\n",
       "0                 3               2.70                       1  False   \n",
       "1                 3               3.70                       1  False   \n",
       "2                 5               3.29                       0  False   \n",
       "3                 7               1.78                       2  False   \n",
       "4                 3               2.73                       3  False   \n",
       "\n",
       "   total_calls  total_charges  total_minutes  price_per_minute  \n",
       "0          303          75.56          717.2          0.062842  \n",
       "1          332          59.24          625.2          0.043938  \n",
       "2          333          62.29          539.4          0.076715  \n",
       "3          255          66.80          564.8          0.090120  \n",
       "4          359          52.09          512.0          0.055352  \n",
       "\n",
       "[5 rows x 25 columns]"
      ]
     },
     "execution_count": 849,
     "metadata": {},
     "output_type": "execute_result"
    }
   ],
   "source": [
    "# Quick check to make sure our columns were added correctly and math checks out\n",
    "\n",
    "df.head()"
   ]
  },
  {
   "cell_type": "markdown",
   "metadata": {},
   "source": [
    "Going to look at some summary statistics of the dataset based on where we are at."
   ]
  },
  {
   "cell_type": "code",
   "execution_count": 850,
   "metadata": {
    "ExecuteTime": {
     "end_time": "2022-12-29T20:58:27.717480Z",
     "start_time": "2022-12-29T20:58:27.636907Z"
    },
    "scrolled": true
   },
   "outputs": [
    {
     "data": {
      "text/html": [
       "<div>\n",
       "<style scoped>\n",
       "    .dataframe tbody tr th:only-of-type {\n",
       "        vertical-align: middle;\n",
       "    }\n",
       "\n",
       "    .dataframe tbody tr th {\n",
       "        vertical-align: top;\n",
       "    }\n",
       "\n",
       "    .dataframe thead th {\n",
       "        text-align: right;\n",
       "    }\n",
       "</style>\n",
       "<table border=\"1\" class=\"dataframe\">\n",
       "  <thead>\n",
       "    <tr style=\"text-align: right;\">\n",
       "      <th></th>\n",
       "      <th>account_length</th>\n",
       "      <th>area_code</th>\n",
       "      <th>number_vmail_messages</th>\n",
       "      <th>total_day_minutes</th>\n",
       "      <th>total_day_calls</th>\n",
       "      <th>total_day_charge</th>\n",
       "      <th>total_eve_minutes</th>\n",
       "      <th>total_eve_calls</th>\n",
       "      <th>total_eve_charge</th>\n",
       "      <th>total_night_minutes</th>\n",
       "      <th>total_night_calls</th>\n",
       "      <th>total_night_charge</th>\n",
       "      <th>total_intl_minutes</th>\n",
       "      <th>total_intl_calls</th>\n",
       "      <th>total_intl_charge</th>\n",
       "      <th>customer_service_calls</th>\n",
       "      <th>total_calls</th>\n",
       "      <th>total_charges</th>\n",
       "      <th>total_minutes</th>\n",
       "      <th>price_per_minute</th>\n",
       "    </tr>\n",
       "  </thead>\n",
       "  <tbody>\n",
       "    <tr>\n",
       "      <th>count</th>\n",
       "      <td>3333.000000</td>\n",
       "      <td>3333.000000</td>\n",
       "      <td>3333.000000</td>\n",
       "      <td>3333.000000</td>\n",
       "      <td>3333.000000</td>\n",
       "      <td>3333.000000</td>\n",
       "      <td>3333.000000</td>\n",
       "      <td>3333.000000</td>\n",
       "      <td>3333.000000</td>\n",
       "      <td>3333.000000</td>\n",
       "      <td>3333.000000</td>\n",
       "      <td>3333.000000</td>\n",
       "      <td>3333.000000</td>\n",
       "      <td>3333.000000</td>\n",
       "      <td>3333.000000</td>\n",
       "      <td>3333.000000</td>\n",
       "      <td>3333.000000</td>\n",
       "      <td>3333.000000</td>\n",
       "      <td>3333.000000</td>\n",
       "      <td>3333.000000</td>\n",
       "    </tr>\n",
       "    <tr>\n",
       "      <th>mean</th>\n",
       "      <td>101.064806</td>\n",
       "      <td>437.182418</td>\n",
       "      <td>8.099010</td>\n",
       "      <td>179.775098</td>\n",
       "      <td>100.435644</td>\n",
       "      <td>30.562307</td>\n",
       "      <td>200.980348</td>\n",
       "      <td>100.114311</td>\n",
       "      <td>17.083540</td>\n",
       "      <td>200.872037</td>\n",
       "      <td>100.107711</td>\n",
       "      <td>9.039325</td>\n",
       "      <td>10.237294</td>\n",
       "      <td>4.479448</td>\n",
       "      <td>2.764581</td>\n",
       "      <td>1.562856</td>\n",
       "      <td>305.137114</td>\n",
       "      <td>59.449754</td>\n",
       "      <td>591.864776</td>\n",
       "      <td>0.051355</td>\n",
       "    </tr>\n",
       "    <tr>\n",
       "      <th>std</th>\n",
       "      <td>39.822106</td>\n",
       "      <td>42.371290</td>\n",
       "      <td>13.688365</td>\n",
       "      <td>54.467389</td>\n",
       "      <td>20.069084</td>\n",
       "      <td>9.259435</td>\n",
       "      <td>50.713844</td>\n",
       "      <td>19.922625</td>\n",
       "      <td>4.310668</td>\n",
       "      <td>50.573847</td>\n",
       "      <td>19.568609</td>\n",
       "      <td>2.275873</td>\n",
       "      <td>2.791840</td>\n",
       "      <td>2.461214</td>\n",
       "      <td>0.753773</td>\n",
       "      <td>1.315491</td>\n",
       "      <td>34.448164</td>\n",
       "      <td>10.502261</td>\n",
       "      <td>89.954251</td>\n",
       "      <td>0.013085</td>\n",
       "    </tr>\n",
       "    <tr>\n",
       "      <th>min</th>\n",
       "      <td>1.000000</td>\n",
       "      <td>408.000000</td>\n",
       "      <td>0.000000</td>\n",
       "      <td>0.000000</td>\n",
       "      <td>0.000000</td>\n",
       "      <td>0.000000</td>\n",
       "      <td>0.000000</td>\n",
       "      <td>0.000000</td>\n",
       "      <td>0.000000</td>\n",
       "      <td>23.200000</td>\n",
       "      <td>33.000000</td>\n",
       "      <td>1.040000</td>\n",
       "      <td>0.000000</td>\n",
       "      <td>0.000000</td>\n",
       "      <td>0.000000</td>\n",
       "      <td>0.000000</td>\n",
       "      <td>191.000000</td>\n",
       "      <td>22.930000</td>\n",
       "      <td>284.300000</td>\n",
       "      <td>0.000000</td>\n",
       "    </tr>\n",
       "    <tr>\n",
       "      <th>25%</th>\n",
       "      <td>74.000000</td>\n",
       "      <td>408.000000</td>\n",
       "      <td>0.000000</td>\n",
       "      <td>143.700000</td>\n",
       "      <td>87.000000</td>\n",
       "      <td>24.430000</td>\n",
       "      <td>166.600000</td>\n",
       "      <td>87.000000</td>\n",
       "      <td>14.160000</td>\n",
       "      <td>167.000000</td>\n",
       "      <td>87.000000</td>\n",
       "      <td>7.520000</td>\n",
       "      <td>8.500000</td>\n",
       "      <td>3.000000</td>\n",
       "      <td>2.300000</td>\n",
       "      <td>1.000000</td>\n",
       "      <td>282.000000</td>\n",
       "      <td>52.380000</td>\n",
       "      <td>531.500000</td>\n",
       "      <td>0.042939</td>\n",
       "    </tr>\n",
       "    <tr>\n",
       "      <th>50%</th>\n",
       "      <td>101.000000</td>\n",
       "      <td>415.000000</td>\n",
       "      <td>0.000000</td>\n",
       "      <td>179.400000</td>\n",
       "      <td>101.000000</td>\n",
       "      <td>30.500000</td>\n",
       "      <td>201.400000</td>\n",
       "      <td>100.000000</td>\n",
       "      <td>17.120000</td>\n",
       "      <td>201.200000</td>\n",
       "      <td>100.000000</td>\n",
       "      <td>9.050000</td>\n",
       "      <td>10.300000</td>\n",
       "      <td>4.000000</td>\n",
       "      <td>2.780000</td>\n",
       "      <td>1.000000</td>\n",
       "      <td>305.000000</td>\n",
       "      <td>59.470000</td>\n",
       "      <td>593.600000</td>\n",
       "      <td>0.051557</td>\n",
       "    </tr>\n",
       "    <tr>\n",
       "      <th>75%</th>\n",
       "      <td>127.000000</td>\n",
       "      <td>510.000000</td>\n",
       "      <td>20.000000</td>\n",
       "      <td>216.400000</td>\n",
       "      <td>114.000000</td>\n",
       "      <td>36.790000</td>\n",
       "      <td>235.300000</td>\n",
       "      <td>114.000000</td>\n",
       "      <td>20.000000</td>\n",
       "      <td>235.300000</td>\n",
       "      <td>113.000000</td>\n",
       "      <td>10.590000</td>\n",
       "      <td>12.100000</td>\n",
       "      <td>6.000000</td>\n",
       "      <td>3.270000</td>\n",
       "      <td>2.000000</td>\n",
       "      <td>328.000000</td>\n",
       "      <td>66.480000</td>\n",
       "      <td>652.400000</td>\n",
       "      <td>0.060121</td>\n",
       "    </tr>\n",
       "    <tr>\n",
       "      <th>max</th>\n",
       "      <td>243.000000</td>\n",
       "      <td>510.000000</td>\n",
       "      <td>51.000000</td>\n",
       "      <td>350.800000</td>\n",
       "      <td>165.000000</td>\n",
       "      <td>59.640000</td>\n",
       "      <td>363.700000</td>\n",
       "      <td>170.000000</td>\n",
       "      <td>30.910000</td>\n",
       "      <td>395.000000</td>\n",
       "      <td>175.000000</td>\n",
       "      <td>17.770000</td>\n",
       "      <td>20.000000</td>\n",
       "      <td>20.000000</td>\n",
       "      <td>5.400000</td>\n",
       "      <td>9.000000</td>\n",
       "      <td>416.000000</td>\n",
       "      <td>96.150000</td>\n",
       "      <td>885.000000</td>\n",
       "      <td>0.096748</td>\n",
       "    </tr>\n",
       "  </tbody>\n",
       "</table>\n",
       "</div>"
      ],
      "text/plain": [
       "       account_length    area_code  number_vmail_messages  total_day_minutes  \\\n",
       "count     3333.000000  3333.000000            3333.000000        3333.000000   \n",
       "mean       101.064806   437.182418               8.099010         179.775098   \n",
       "std         39.822106    42.371290              13.688365          54.467389   \n",
       "min          1.000000   408.000000               0.000000           0.000000   \n",
       "25%         74.000000   408.000000               0.000000         143.700000   \n",
       "50%        101.000000   415.000000               0.000000         179.400000   \n",
       "75%        127.000000   510.000000              20.000000         216.400000   \n",
       "max        243.000000   510.000000              51.000000         350.800000   \n",
       "\n",
       "       total_day_calls  total_day_charge  total_eve_minutes  total_eve_calls  \\\n",
       "count      3333.000000       3333.000000        3333.000000      3333.000000   \n",
       "mean        100.435644         30.562307         200.980348       100.114311   \n",
       "std          20.069084          9.259435          50.713844        19.922625   \n",
       "min           0.000000          0.000000           0.000000         0.000000   \n",
       "25%          87.000000         24.430000         166.600000        87.000000   \n",
       "50%         101.000000         30.500000         201.400000       100.000000   \n",
       "75%         114.000000         36.790000         235.300000       114.000000   \n",
       "max         165.000000         59.640000         363.700000       170.000000   \n",
       "\n",
       "       total_eve_charge  total_night_minutes  total_night_calls  \\\n",
       "count       3333.000000          3333.000000        3333.000000   \n",
       "mean          17.083540           200.872037         100.107711   \n",
       "std            4.310668            50.573847          19.568609   \n",
       "min            0.000000            23.200000          33.000000   \n",
       "25%           14.160000           167.000000          87.000000   \n",
       "50%           17.120000           201.200000         100.000000   \n",
       "75%           20.000000           235.300000         113.000000   \n",
       "max           30.910000           395.000000         175.000000   \n",
       "\n",
       "       total_night_charge  total_intl_minutes  total_intl_calls  \\\n",
       "count         3333.000000         3333.000000       3333.000000   \n",
       "mean             9.039325           10.237294          4.479448   \n",
       "std              2.275873            2.791840          2.461214   \n",
       "min              1.040000            0.000000          0.000000   \n",
       "25%              7.520000            8.500000          3.000000   \n",
       "50%              9.050000           10.300000          4.000000   \n",
       "75%             10.590000           12.100000          6.000000   \n",
       "max             17.770000           20.000000         20.000000   \n",
       "\n",
       "       total_intl_charge  customer_service_calls  total_calls  total_charges  \\\n",
       "count        3333.000000             3333.000000  3333.000000    3333.000000   \n",
       "mean            2.764581                1.562856   305.137114      59.449754   \n",
       "std             0.753773                1.315491    34.448164      10.502261   \n",
       "min             0.000000                0.000000   191.000000      22.930000   \n",
       "25%             2.300000                1.000000   282.000000      52.380000   \n",
       "50%             2.780000                1.000000   305.000000      59.470000   \n",
       "75%             3.270000                2.000000   328.000000      66.480000   \n",
       "max             5.400000                9.000000   416.000000      96.150000   \n",
       "\n",
       "       total_minutes  price_per_minute  \n",
       "count    3333.000000       3333.000000  \n",
       "mean      591.864776          0.051355  \n",
       "std        89.954251          0.013085  \n",
       "min       284.300000          0.000000  \n",
       "25%       531.500000          0.042939  \n",
       "50%       593.600000          0.051557  \n",
       "75%       652.400000          0.060121  \n",
       "max       885.000000          0.096748  "
      ]
     },
     "execution_count": 850,
     "metadata": {},
     "output_type": "execute_result"
    }
   ],
   "source": [
    "df.describe()"
   ]
  },
  {
   "cell_type": "code",
   "execution_count": 851,
   "metadata": {
    "ExecuteTime": {
     "end_time": "2022-12-29T20:58:27.958420Z",
     "start_time": "2022-12-29T20:58:27.719894Z"
    },
    "scrolled": false
   },
   "outputs": [
    {
     "data": {
      "image/png": "[encoded data removed]",
      "text/plain": [
       "<Figure size 1440x864 with 1 Axes>"
      ]
     },
     "metadata": {
      "needs_background": "light"
     },
     "output_type": "display_data"
    }
   ],
   "source": [
    "fix, ax = plt.subplots(figsize=(20,12))\n",
    "\n",
    "df['international_plan'].value_counts().plot(kind='bar', color=c('blue'))\n",
    "\n",
    "ax.set_title('# of Customers with International Plan')\n",
    "ax.set_xlabel('Internation Plan Purchased?', labelpad=15, fontsize=16)\n",
    "ax.set_ylabel('# of Customers', labelpad=15, fontsize=16)\n",
    "\n",
    "plt.show()"
   ]
  },
  {
   "cell_type": "markdown",
   "metadata": {},
   "source": [
    "There are 323 accounts that purchased a international plan (roughly 10% of customers.). Going to take a look to see if churn within the international accounts is similar to those accounts that did not purchase international plans."
   ]
  },
  {
   "cell_type": "code",
   "execution_count": 852,
   "metadata": {
    "ExecuteTime": {
     "end_time": "2022-12-29T20:58:27.990758Z",
     "start_time": "2022-12-29T20:58:27.961559Z"
    },
    "scrolled": true
   },
   "outputs": [
    {
     "data": {
      "text/html": [
       "<div>\n",
       "<style scoped>\n",
       "    .dataframe tbody tr th:only-of-type {\n",
       "        vertical-align: middle;\n",
       "    }\n",
       "\n",
       "    .dataframe tbody tr th {\n",
       "        vertical-align: top;\n",
       "    }\n",
       "\n",
       "    .dataframe thead th {\n",
       "        text-align: right;\n",
       "    }\n",
       "</style>\n",
       "<table border=\"1\" class=\"dataframe\">\n",
       "  <thead>\n",
       "    <tr style=\"text-align: right;\">\n",
       "      <th>churn</th>\n",
       "      <th>False</th>\n",
       "      <th>True</th>\n",
       "    </tr>\n",
       "    <tr>\n",
       "      <th>international_plan</th>\n",
       "      <th></th>\n",
       "      <th></th>\n",
       "    </tr>\n",
       "  </thead>\n",
       "  <tbody>\n",
       "    <tr>\n",
       "      <th>no</th>\n",
       "      <td>2664</td>\n",
       "      <td>346</td>\n",
       "    </tr>\n",
       "    <tr>\n",
       "      <th>yes</th>\n",
       "      <td>186</td>\n",
       "      <td>137</td>\n",
       "    </tr>\n",
       "  </tbody>\n",
       "</table>\n",
       "</div>"
      ],
      "text/plain": [
       "churn               False  True \n",
       "international_plan              \n",
       "no                   2664    346\n",
       "yes                   186    137"
      ]
     },
     "execution_count": 852,
     "metadata": {},
     "output_type": "execute_result"
    }
   ],
   "source": [
    "# Checking our target/ dataset for balance before creating our baseline classifcation model.\n",
    "\n",
    "pd.pivot_table(df, \n",
    "               values='account_length', \n",
    "               index='international_plan', \n",
    "               columns='churn',\n",
    "               aggfunc='count'\n",
    "              )"
   ]
  },
  {
   "cell_type": "markdown",
   "metadata": {},
   "source": [
    "International plans experience a higher churn percentage than those without.  Going to remove those international plans as it is a small percentage of my overall records (roughly 10%).  We can always come back to these if necessary.  Going to also look at voice mail plans.  However, according to this, about 1/3 of the churn that was experienced were customers that had purchased the international plan.\n"
   ]
  },
  {
   "cell_type": "code",
   "execution_count": 853,
   "metadata": {
    "ExecuteTime": {
     "end_time": "2022-12-29T20:58:28.013130Z",
     "start_time": "2022-12-29T20:58:27.992937Z"
    }
   },
   "outputs": [
    {
     "data": {
      "text/html": [
       "<div>\n",
       "<style scoped>\n",
       "    .dataframe tbody tr th:only-of-type {\n",
       "        vertical-align: middle;\n",
       "    }\n",
       "\n",
       "    .dataframe tbody tr th {\n",
       "        vertical-align: top;\n",
       "    }\n",
       "\n",
       "    .dataframe thead th {\n",
       "        text-align: right;\n",
       "    }\n",
       "</style>\n",
       "<table border=\"1\" class=\"dataframe\">\n",
       "  <thead>\n",
       "    <tr style=\"text-align: right;\">\n",
       "      <th>churn</th>\n",
       "      <th>False</th>\n",
       "      <th>True</th>\n",
       "    </tr>\n",
       "    <tr>\n",
       "      <th>voice_mail_plan</th>\n",
       "      <th></th>\n",
       "      <th></th>\n",
       "    </tr>\n",
       "  </thead>\n",
       "  <tbody>\n",
       "    <tr>\n",
       "      <th>no</th>\n",
       "      <td>2008</td>\n",
       "      <td>403</td>\n",
       "    </tr>\n",
       "    <tr>\n",
       "      <th>yes</th>\n",
       "      <td>842</td>\n",
       "      <td>80</td>\n",
       "    </tr>\n",
       "  </tbody>\n",
       "</table>\n",
       "</div>"
      ],
      "text/plain": [
       "churn            False  True \n",
       "voice_mail_plan              \n",
       "no                2008    403\n",
       "yes                842     80"
      ]
     },
     "execution_count": 853,
     "metadata": {},
     "output_type": "execute_result"
    }
   ],
   "source": [
    "# Creating pivot table for voice mail plan vs churn.\n",
    "\n",
    "pd.pivot_table(df, \n",
    "               values='account_length', \n",
    "               index='voice_mail_plan', \n",
    "               columns='churn',\n",
    "               aggfunc='count'\n",
    "              )"
   ]
  },
  {
   "cell_type": "markdown",
   "metadata": {},
   "source": [
    "Looks like those plans with a voice mail plan have a lower churn percentage than those without. 10% of those with the voice mail plan vs 20% of those without a voice mail plan churn.  We will keep this in mind as we complete our analyses.  We could always remove later.\n"
   ]
  },
  {
   "cell_type": "code",
   "execution_count": 854,
   "metadata": {
    "ExecuteTime": {
     "end_time": "2022-12-29T20:58:29.293218Z",
     "start_time": "2022-12-29T20:58:28.016278Z"
    },
    "scrolled": false
   },
   "outputs": [
    {
     "data": {
      "image/png": "[encoded data removed]",
      "text/plain": [
       "<Figure size 1440x864 with 1 Axes>"
      ]
     },
     "metadata": {
      "needs_background": "light"
     },
     "output_type": "display_data"
    }
   ],
   "source": [
    "fix, ax = plt.subplots(figsize=(20,12))\n",
    "\n",
    "df['state'].value_counts().plot(kind='bar', color=c('blue'))\n",
    "\n",
    "ax.set_title('# of Customers by State')\n",
    "ax.set_xlabel('State', labelpad=15, fontsize=16)\n",
    "ax.set_ylabel('# of Customers', labelpad= 15, fontsize=16)\n",
    "\n",
    "plt.show()"
   ]
  },
  {
   "cell_type": "markdown",
   "metadata": {},
   "source": [
    "Overall the distribution of states is pretty good!  No concerns here, however we will need to encode this categorical column if we want to retain this information."
   ]
  },
  {
   "cell_type": "code",
   "execution_count": 855,
   "metadata": {
    "ExecuteTime": {
     "end_time": "2022-12-29T20:58:29.363248Z",
     "start_time": "2022-12-29T20:58:29.296494Z"
    }
   },
   "outputs": [
    {
     "data": {
      "text/html": [
       "<div>\n",
       "<style scoped>\n",
       "    .dataframe tbody tr th:only-of-type {\n",
       "        vertical-align: middle;\n",
       "    }\n",
       "\n",
       "    .dataframe tbody tr th {\n",
       "        vertical-align: top;\n",
       "    }\n",
       "\n",
       "    .dataframe thead th {\n",
       "        text-align: right;\n",
       "    }\n",
       "</style>\n",
       "<table border=\"1\" class=\"dataframe\">\n",
       "  <thead>\n",
       "    <tr style=\"text-align: right;\">\n",
       "      <th></th>\n",
       "      <th>state</th>\n",
       "      <th>account_length</th>\n",
       "      <th>area_code</th>\n",
       "      <th>phone_number</th>\n",
       "      <th>international_plan</th>\n",
       "      <th>voice_mail_plan</th>\n",
       "      <th>number_vmail_messages</th>\n",
       "      <th>total_day_minutes</th>\n",
       "      <th>total_day_calls</th>\n",
       "      <th>total_day_charge</th>\n",
       "      <th>...</th>\n",
       "      <th>total_intl_calls</th>\n",
       "      <th>total_intl_charge</th>\n",
       "      <th>customer_service_calls</th>\n",
       "      <th>churn</th>\n",
       "      <th>total_calls</th>\n",
       "      <th>total_charges</th>\n",
       "      <th>total_minutes</th>\n",
       "      <th>price_per_minute</th>\n",
       "      <th>phone_number_prefix</th>\n",
       "      <th>line_number</th>\n",
       "    </tr>\n",
       "  </thead>\n",
       "  <tbody>\n",
       "    <tr>\n",
       "      <th>0</th>\n",
       "      <td>KS</td>\n",
       "      <td>128</td>\n",
       "      <td>415</td>\n",
       "      <td>382-4657</td>\n",
       "      <td>no</td>\n",
       "      <td>yes</td>\n",
       "      <td>25</td>\n",
       "      <td>265.1</td>\n",
       "      <td>110</td>\n",
       "      <td>45.07</td>\n",
       "      <td>...</td>\n",
       "      <td>3</td>\n",
       "      <td>2.70</td>\n",
       "      <td>1</td>\n",
       "      <td>False</td>\n",
       "      <td>303</td>\n",
       "      <td>75.56</td>\n",
       "      <td>717.2</td>\n",
       "      <td>0.062842</td>\n",
       "      <td>382</td>\n",
       "      <td>4657</td>\n",
       "    </tr>\n",
       "    <tr>\n",
       "      <th>1</th>\n",
       "      <td>OH</td>\n",
       "      <td>107</td>\n",
       "      <td>415</td>\n",
       "      <td>371-7191</td>\n",
       "      <td>no</td>\n",
       "      <td>yes</td>\n",
       "      <td>26</td>\n",
       "      <td>161.6</td>\n",
       "      <td>123</td>\n",
       "      <td>27.47</td>\n",
       "      <td>...</td>\n",
       "      <td>3</td>\n",
       "      <td>3.70</td>\n",
       "      <td>1</td>\n",
       "      <td>False</td>\n",
       "      <td>332</td>\n",
       "      <td>59.24</td>\n",
       "      <td>625.2</td>\n",
       "      <td>0.043938</td>\n",
       "      <td>371</td>\n",
       "      <td>7191</td>\n",
       "    </tr>\n",
       "    <tr>\n",
       "      <th>2</th>\n",
       "      <td>NJ</td>\n",
       "      <td>137</td>\n",
       "      <td>415</td>\n",
       "      <td>358-1921</td>\n",
       "      <td>no</td>\n",
       "      <td>no</td>\n",
       "      <td>0</td>\n",
       "      <td>243.4</td>\n",
       "      <td>114</td>\n",
       "      <td>41.38</td>\n",
       "      <td>...</td>\n",
       "      <td>5</td>\n",
       "      <td>3.29</td>\n",
       "      <td>0</td>\n",
       "      <td>False</td>\n",
       "      <td>333</td>\n",
       "      <td>62.29</td>\n",
       "      <td>539.4</td>\n",
       "      <td>0.076715</td>\n",
       "      <td>358</td>\n",
       "      <td>1921</td>\n",
       "    </tr>\n",
       "    <tr>\n",
       "      <th>3</th>\n",
       "      <td>OH</td>\n",
       "      <td>84</td>\n",
       "      <td>408</td>\n",
       "      <td>375-9999</td>\n",
       "      <td>yes</td>\n",
       "      <td>no</td>\n",
       "      <td>0</td>\n",
       "      <td>299.4</td>\n",
       "      <td>71</td>\n",
       "      <td>50.90</td>\n",
       "      <td>...</td>\n",
       "      <td>7</td>\n",
       "      <td>1.78</td>\n",
       "      <td>2</td>\n",
       "      <td>False</td>\n",
       "      <td>255</td>\n",
       "      <td>66.80</td>\n",
       "      <td>564.8</td>\n",
       "      <td>0.090120</td>\n",
       "      <td>375</td>\n",
       "      <td>9999</td>\n",
       "    </tr>\n",
       "    <tr>\n",
       "      <th>4</th>\n",
       "      <td>OK</td>\n",
       "      <td>75</td>\n",
       "      <td>415</td>\n",
       "      <td>330-6626</td>\n",
       "      <td>yes</td>\n",
       "      <td>no</td>\n",
       "      <td>0</td>\n",
       "      <td>166.7</td>\n",
       "      <td>113</td>\n",
       "      <td>28.34</td>\n",
       "      <td>...</td>\n",
       "      <td>3</td>\n",
       "      <td>2.73</td>\n",
       "      <td>3</td>\n",
       "      <td>False</td>\n",
       "      <td>359</td>\n",
       "      <td>52.09</td>\n",
       "      <td>512.0</td>\n",
       "      <td>0.055352</td>\n",
       "      <td>330</td>\n",
       "      <td>6626</td>\n",
       "    </tr>\n",
       "    <tr>\n",
       "      <th>...</th>\n",
       "      <td>...</td>\n",
       "      <td>...</td>\n",
       "      <td>...</td>\n",
       "      <td>...</td>\n",
       "      <td>...</td>\n",
       "      <td>...</td>\n",
       "      <td>...</td>\n",
       "      <td>...</td>\n",
       "      <td>...</td>\n",
       "      <td>...</td>\n",
       "      <td>...</td>\n",
       "      <td>...</td>\n",
       "      <td>...</td>\n",
       "      <td>...</td>\n",
       "      <td>...</td>\n",
       "      <td>...</td>\n",
       "      <td>...</td>\n",
       "      <td>...</td>\n",
       "      <td>...</td>\n",
       "      <td>...</td>\n",
       "      <td>...</td>\n",
       "    </tr>\n",
       "    <tr>\n",
       "      <th>3328</th>\n",
       "      <td>AZ</td>\n",
       "      <td>192</td>\n",
       "      <td>415</td>\n",
       "      <td>414-4276</td>\n",
       "      <td>no</td>\n",
       "      <td>yes</td>\n",
       "      <td>36</td>\n",
       "      <td>156.2</td>\n",
       "      <td>77</td>\n",
       "      <td>26.55</td>\n",
       "      <td>...</td>\n",
       "      <td>6</td>\n",
       "      <td>2.67</td>\n",
       "      <td>2</td>\n",
       "      <td>False</td>\n",
       "      <td>292</td>\n",
       "      <td>60.10</td>\n",
       "      <td>660.7</td>\n",
       "      <td>0.040185</td>\n",
       "      <td>414</td>\n",
       "      <td>4276</td>\n",
       "    </tr>\n",
       "    <tr>\n",
       "      <th>3329</th>\n",
       "      <td>WV</td>\n",
       "      <td>68</td>\n",
       "      <td>415</td>\n",
       "      <td>370-3271</td>\n",
       "      <td>no</td>\n",
       "      <td>no</td>\n",
       "      <td>0</td>\n",
       "      <td>231.1</td>\n",
       "      <td>57</td>\n",
       "      <td>39.29</td>\n",
       "      <td>...</td>\n",
       "      <td>4</td>\n",
       "      <td>2.59</td>\n",
       "      <td>3</td>\n",
       "      <td>False</td>\n",
       "      <td>239</td>\n",
       "      <td>63.53</td>\n",
       "      <td>585.4</td>\n",
       "      <td>0.067117</td>\n",
       "      <td>370</td>\n",
       "      <td>3271</td>\n",
       "    </tr>\n",
       "    <tr>\n",
       "      <th>3330</th>\n",
       "      <td>RI</td>\n",
       "      <td>28</td>\n",
       "      <td>510</td>\n",
       "      <td>328-8230</td>\n",
       "      <td>no</td>\n",
       "      <td>no</td>\n",
       "      <td>0</td>\n",
       "      <td>180.8</td>\n",
       "      <td>109</td>\n",
       "      <td>30.74</td>\n",
       "      <td>...</td>\n",
       "      <td>6</td>\n",
       "      <td>3.81</td>\n",
       "      <td>2</td>\n",
       "      <td>False</td>\n",
       "      <td>264</td>\n",
       "      <td>67.74</td>\n",
       "      <td>675.6</td>\n",
       "      <td>0.045500</td>\n",
       "      <td>328</td>\n",
       "      <td>8230</td>\n",
       "    </tr>\n",
       "    <tr>\n",
       "      <th>3331</th>\n",
       "      <td>CT</td>\n",
       "      <td>184</td>\n",
       "      <td>510</td>\n",
       "      <td>364-6381</td>\n",
       "      <td>yes</td>\n",
       "      <td>no</td>\n",
       "      <td>0</td>\n",
       "      <td>213.8</td>\n",
       "      <td>105</td>\n",
       "      <td>36.35</td>\n",
       "      <td>...</td>\n",
       "      <td>10</td>\n",
       "      <td>1.35</td>\n",
       "      <td>2</td>\n",
       "      <td>False</td>\n",
       "      <td>336</td>\n",
       "      <td>57.53</td>\n",
       "      <td>517.6</td>\n",
       "      <td>0.070228</td>\n",
       "      <td>364</td>\n",
       "      <td>6381</td>\n",
       "    </tr>\n",
       "    <tr>\n",
       "      <th>3332</th>\n",
       "      <td>TN</td>\n",
       "      <td>74</td>\n",
       "      <td>415</td>\n",
       "      <td>400-4344</td>\n",
       "      <td>no</td>\n",
       "      <td>yes</td>\n",
       "      <td>25</td>\n",
       "      <td>234.4</td>\n",
       "      <td>113</td>\n",
       "      <td>39.85</td>\n",
       "      <td>...</td>\n",
       "      <td>4</td>\n",
       "      <td>3.70</td>\n",
       "      <td>0</td>\n",
       "      <td>False</td>\n",
       "      <td>276</td>\n",
       "      <td>77.01</td>\n",
       "      <td>755.4</td>\n",
       "      <td>0.052754</td>\n",
       "      <td>400</td>\n",
       "      <td>4344</td>\n",
       "    </tr>\n",
       "  </tbody>\n",
       "</table>\n",
       "<p>3333 rows × 27 columns</p>\n",
       "</div>"
      ],
      "text/plain": [
       "     state  account_length  area_code phone_number international_plan  \\\n",
       "0       KS             128        415     382-4657                 no   \n",
       "1       OH             107        415     371-7191                 no   \n",
       "2       NJ             137        415     358-1921                 no   \n",
       "3       OH              84        408     375-9999                yes   \n",
       "4       OK              75        415     330-6626                yes   \n",
       "...    ...             ...        ...          ...                ...   \n",
       "3328    AZ             192        415     414-4276                 no   \n",
       "3329    WV              68        415     370-3271                 no   \n",
       "3330    RI              28        510     328-8230                 no   \n",
       "3331    CT             184        510     364-6381                yes   \n",
       "3332    TN              74        415     400-4344                 no   \n",
       "\n",
       "     voice_mail_plan  number_vmail_messages  total_day_minutes  \\\n",
       "0                yes                     25              265.1   \n",
       "1                yes                     26              161.6   \n",
       "2                 no                      0              243.4   \n",
       "3                 no                      0              299.4   \n",
       "4                 no                      0              166.7   \n",
       "...              ...                    ...                ...   \n",
       "3328             yes                     36              156.2   \n",
       "3329              no                      0              231.1   \n",
       "3330              no                      0              180.8   \n",
       "3331              no                      0              213.8   \n",
       "3332             yes                     25              234.4   \n",
       "\n",
       "      total_day_calls  total_day_charge  ...  total_intl_calls  \\\n",
       "0                 110             45.07  ...                 3   \n",
       "1                 123             27.47  ...                 3   \n",
       "2                 114             41.38  ...                 5   \n",
       "3                  71             50.90  ...                 7   \n",
       "4                 113             28.34  ...                 3   \n",
       "...               ...               ...  ...               ...   \n",
       "3328               77             26.55  ...                 6   \n",
       "3329               57             39.29  ...                 4   \n",
       "3330              109             30.74  ...                 6   \n",
       "3331              105             36.35  ...                10   \n",
       "3332              113             39.85  ...                 4   \n",
       "\n",
       "      total_intl_charge  customer_service_calls  churn  total_calls  \\\n",
       "0                  2.70                       1  False          303   \n",
       "1                  3.70                       1  False          332   \n",
       "2                  3.29                       0  False          333   \n",
       "3                  1.78                       2  False          255   \n",
       "4                  2.73                       3  False          359   \n",
       "...                 ...                     ...    ...          ...   \n",
       "3328               2.67                       2  False          292   \n",
       "3329               2.59                       3  False          239   \n",
       "3330               3.81                       2  False          264   \n",
       "3331               1.35                       2  False          336   \n",
       "3332               3.70                       0  False          276   \n",
       "\n",
       "      total_charges  total_minutes  price_per_minute  phone_number_prefix  \\\n",
       "0             75.56          717.2          0.062842                  382   \n",
       "1             59.24          625.2          0.043938                  371   \n",
       "2             62.29          539.4          0.076715                  358   \n",
       "3             66.80          564.8          0.090120                  375   \n",
       "4             52.09          512.0          0.055352                  330   \n",
       "...             ...            ...               ...                  ...   \n",
       "3328          60.10          660.7          0.040185                  414   \n",
       "3329          63.53          585.4          0.067117                  370   \n",
       "3330          67.74          675.6          0.045500                  328   \n",
       "3331          57.53          517.6          0.070228                  364   \n",
       "3332          77.01          755.4          0.052754                  400   \n",
       "\n",
       "      line_number  \n",
       "0            4657  \n",
       "1            7191  \n",
       "2            1921  \n",
       "3            9999  \n",
       "4            6626  \n",
       "...           ...  \n",
       "3328         4276  \n",
       "3329         3271  \n",
       "3330         8230  \n",
       "3331         6381  \n",
       "3332         4344  \n",
       "\n",
       "[3333 rows x 27 columns]"
      ]
     },
     "execution_count": 855,
     "metadata": {},
     "output_type": "execute_result"
    }
   ],
   "source": [
    "# Since we are thinking about dropping our state column, we still have area_code, and our phone_number_prefix,\n",
    "# to give us an idea of where the users are located.  Going to split those columns out from the line_number,\n",
    "# which won't really help us.\n",
    "\n",
    "df[['phone_number_prefix','line_number']] = df.phone_number.str.split(\"-\",expand=True,).astype(int)\n",
    "df"
   ]
  },
  {
   "cell_type": "code",
   "execution_count": 856,
   "metadata": {
    "ExecuteTime": {
     "end_time": "2022-12-29T20:58:29.371990Z",
     "start_time": "2022-12-29T20:58:29.365721Z"
    }
   },
   "outputs": [],
   "source": [
    "# dropping state, and phone number\n",
    "\n",
    "df = df.drop(['state',\n",
    "              'phone_number', \n",
    "              'line_number'\n",
    "             ], \n",
    "             axis=1\n",
    "            )"
   ]
  },
  {
   "cell_type": "code",
   "execution_count": 857,
   "metadata": {
    "ExecuteTime": {
     "end_time": "2022-12-29T20:58:29.382968Z",
     "start_time": "2022-12-29T20:58:29.374492Z"
    }
   },
   "outputs": [],
   "source": [
    "# Going back to look at our columns that need transformed from string to integer // international plan\n",
    "\n",
    "df = df.replace({'international_plan': \n",
    "                 {'yes': 1, \n",
    "                  'no': 0\n",
    "                 }\n",
    "                }\n",
    "               )"
   ]
  },
  {
   "cell_type": "code",
   "execution_count": 858,
   "metadata": {
    "ExecuteTime": {
     "end_time": "2022-12-29T20:58:29.394012Z",
     "start_time": "2022-12-29T20:58:29.385110Z"
    }
   },
   "outputs": [],
   "source": [
    "# Going back to look at our columns that need transformed from string to integer // voice mail plan\n",
    "\n",
    "df = df.replace({'voice_mail_plan': \n",
    "                 {'yes': 1, \n",
    "                  'no': 0\n",
    "                 }\n",
    "                }\n",
    "               )"
   ]
  },
  {
   "cell_type": "code",
   "execution_count": 859,
   "metadata": {
    "ExecuteTime": {
     "end_time": "2022-12-29T20:58:29.399927Z",
     "start_time": "2022-12-29T20:58:29.396296Z"
    }
   },
   "outputs": [],
   "source": [
    "# Going back to look at our columns that need transformed from string to integer // voice mail plan\n",
    "\n",
    "df['churn'] = df['churn'].astype(int)"
   ]
  },
  {
   "cell_type": "code",
   "execution_count": 860,
   "metadata": {
    "ExecuteTime": {
     "end_time": "2022-12-29T20:58:29.418882Z",
     "start_time": "2022-12-29T20:58:29.403659Z"
    }
   },
   "outputs": [
    {
     "name": "stdout",
     "output_type": "stream",
     "text": [
      "<class 'pandas.core.frame.DataFrame'>\n",
      "RangeIndex: 3333 entries, 0 to 3332\n",
      "Data columns (total 24 columns):\n",
      " #   Column                  Non-Null Count  Dtype  \n",
      "---  ------                  --------------  -----  \n",
      " 0   account_length          3333 non-null   int64  \n",
      " 1   area_code               3333 non-null   int64  \n",
      " 2   international_plan      3333 non-null   int64  \n",
      " 3   voice_mail_plan         3333 non-null   int64  \n",
      " 4   number_vmail_messages   3333 non-null   int64  \n",
      " 5   total_day_minutes       3333 non-null   float64\n",
      " 6   total_day_calls         3333 non-null   int64  \n",
      " 7   total_day_charge        3333 non-null   float64\n",
      " 8   total_eve_minutes       3333 non-null   float64\n",
      " 9   total_eve_calls         3333 non-null   int64  \n",
      " 10  total_eve_charge        3333 non-null   float64\n",
      " 11  total_night_minutes     3333 non-null   float64\n",
      " 12  total_night_calls       3333 non-null   int64  \n",
      " 13  total_night_charge      3333 non-null   float64\n",
      " 14  total_intl_minutes      3333 non-null   float64\n",
      " 15  total_intl_calls        3333 non-null   int64  \n",
      " 16  total_intl_charge       3333 non-null   float64\n",
      " 17  customer_service_calls  3333 non-null   int64  \n",
      " 18  churn                   3333 non-null   int64  \n",
      " 19  total_calls             3333 non-null   int64  \n",
      " 20  total_charges           3333 non-null   float64\n",
      " 21  total_minutes           3333 non-null   float64\n",
      " 22  price_per_minute        3333 non-null   float64\n",
      " 23  phone_number_prefix     3333 non-null   int64  \n",
      "dtypes: float64(11), int64(13)\n",
      "memory usage: 625.1 KB\n"
     ]
    }
   ],
   "source": [
    "df.info()"
   ]
  },
  {
   "cell_type": "code",
   "execution_count": 861,
   "metadata": {
    "ExecuteTime": {
     "end_time": "2022-12-29T20:58:35.119694Z",
     "start_time": "2022-12-29T20:58:29.427657Z"
    }
   },
   "outputs": [
    {
     "data": {
      "image/png": "[encoded data removed]",
      "text/plain": [
       "<Figure size 2880x2880 with 25 Axes>"
      ]
     },
     "metadata": {
      "needs_background": "light"
     },
     "output_type": "display_data"
    }
   ],
   "source": [
    "# Going to look at overall distribution and histograms to visually inspect our data\n",
    "\n",
    "df.hist(bins='auto', \n",
    "        figsize=(40,40),\n",
    "        color=c('blue')\n",
    "       );"
   ]
  },
  {
   "cell_type": "code",
   "execution_count": 862,
   "metadata": {
    "ExecuteTime": {
     "end_time": "2022-12-29T20:58:35.149048Z",
     "start_time": "2022-12-29T20:58:35.122539Z"
    },
    "scrolled": true
   },
   "outputs": [
    {
     "data": {
      "text/html": [
       "<div>\n",
       "<style scoped>\n",
       "    .dataframe tbody tr th:only-of-type {\n",
       "        vertical-align: middle;\n",
       "    }\n",
       "\n",
       "    .dataframe tbody tr th {\n",
       "        vertical-align: top;\n",
       "    }\n",
       "\n",
       "    .dataframe thead th {\n",
       "        text-align: right;\n",
       "    }\n",
       "</style>\n",
       "<table border=\"1\" class=\"dataframe\">\n",
       "  <thead>\n",
       "    <tr style=\"text-align: right;\">\n",
       "      <th>phone_number_prefix</th>\n",
       "      <th>327</th>\n",
       "      <th>328</th>\n",
       "      <th>329</th>\n",
       "      <th>330</th>\n",
       "      <th>331</th>\n",
       "      <th>332</th>\n",
       "      <th>333</th>\n",
       "      <th>334</th>\n",
       "      <th>335</th>\n",
       "      <th>336</th>\n",
       "      <th>...</th>\n",
       "      <th>413</th>\n",
       "      <th>414</th>\n",
       "      <th>415</th>\n",
       "      <th>416</th>\n",
       "      <th>417</th>\n",
       "      <th>418</th>\n",
       "      <th>419</th>\n",
       "      <th>420</th>\n",
       "      <th>421</th>\n",
       "      <th>422</th>\n",
       "    </tr>\n",
       "    <tr>\n",
       "      <th>area_code</th>\n",
       "      <th></th>\n",
       "      <th></th>\n",
       "      <th></th>\n",
       "      <th></th>\n",
       "      <th></th>\n",
       "      <th></th>\n",
       "      <th></th>\n",
       "      <th></th>\n",
       "      <th></th>\n",
       "      <th></th>\n",
       "      <th></th>\n",
       "      <th></th>\n",
       "      <th></th>\n",
       "      <th></th>\n",
       "      <th></th>\n",
       "      <th></th>\n",
       "      <th></th>\n",
       "      <th></th>\n",
       "      <th></th>\n",
       "      <th></th>\n",
       "      <th></th>\n",
       "    </tr>\n",
       "  </thead>\n",
       "  <tbody>\n",
       "    <tr>\n",
       "      <th>408</th>\n",
       "      <td>3</td>\n",
       "      <td>9</td>\n",
       "      <td>9</td>\n",
       "      <td>5</td>\n",
       "      <td>6</td>\n",
       "      <td>12</td>\n",
       "      <td>13</td>\n",
       "      <td>11</td>\n",
       "      <td>10</td>\n",
       "      <td>14</td>\n",
       "      <td>...</td>\n",
       "      <td>6</td>\n",
       "      <td>4</td>\n",
       "      <td>10</td>\n",
       "      <td>10</td>\n",
       "      <td>15</td>\n",
       "      <td>6</td>\n",
       "      <td>6</td>\n",
       "      <td>9</td>\n",
       "      <td>5</td>\n",
       "      <td>7</td>\n",
       "    </tr>\n",
       "    <tr>\n",
       "      <th>415</th>\n",
       "      <td>10</td>\n",
       "      <td>12</td>\n",
       "      <td>17</td>\n",
       "      <td>20</td>\n",
       "      <td>10</td>\n",
       "      <td>21</td>\n",
       "      <td>25</td>\n",
       "      <td>20</td>\n",
       "      <td>16</td>\n",
       "      <td>20</td>\n",
       "      <td>...</td>\n",
       "      <td>12</td>\n",
       "      <td>15</td>\n",
       "      <td>21</td>\n",
       "      <td>22</td>\n",
       "      <td>21</td>\n",
       "      <td>21</td>\n",
       "      <td>13</td>\n",
       "      <td>18</td>\n",
       "      <td>13</td>\n",
       "      <td>9</td>\n",
       "    </tr>\n",
       "    <tr>\n",
       "      <th>510</th>\n",
       "      <td>6</td>\n",
       "      <td>11</td>\n",
       "      <td>11</td>\n",
       "      <td>9</td>\n",
       "      <td>9</td>\n",
       "      <td>11</td>\n",
       "      <td>8</td>\n",
       "      <td>7</td>\n",
       "      <td>8</td>\n",
       "      <td>7</td>\n",
       "      <td>...</td>\n",
       "      <td>10</td>\n",
       "      <td>10</td>\n",
       "      <td>5</td>\n",
       "      <td>5</td>\n",
       "      <td>10</td>\n",
       "      <td>5</td>\n",
       "      <td>8</td>\n",
       "      <td>8</td>\n",
       "      <td>6</td>\n",
       "      <td>3</td>\n",
       "    </tr>\n",
       "  </tbody>\n",
       "</table>\n",
       "<p>3 rows × 96 columns</p>\n",
       "</div>"
      ],
      "text/plain": [
       "phone_number_prefix  327  328  329  330  331  332  333  334  335  336  ...  \\\n",
       "area_code                                                              ...   \n",
       "408                    3    9    9    5    6   12   13   11   10   14  ...   \n",
       "415                   10   12   17   20   10   21   25   20   16   20  ...   \n",
       "510                    6   11   11    9    9   11    8    7    8    7  ...   \n",
       "\n",
       "phone_number_prefix  413  414  415  416  417  418  419  420  421  422  \n",
       "area_code                                                              \n",
       "408                    6    4   10   10   15    6    6    9    5    7  \n",
       "415                   12   15   21   22   21   21   13   18   13    9  \n",
       "510                   10   10    5    5   10    5    8    8    6    3  \n",
       "\n",
       "[3 rows x 96 columns]"
      ]
     },
     "execution_count": 862,
     "metadata": {},
     "output_type": "execute_result"
    }
   ],
   "source": [
    "# Before summarizing the table above, I am going to take a peek at the area code column vs the prefix columns.\n",
    "\n",
    "df['area_code'].value_counts()\n",
    "\n",
    "\n",
    "pd.pivot_table(df, \n",
    "               values='account_length', \n",
    "               index='area_code', \n",
    "               columns='phone_number_prefix',\n",
    "               aggfunc='count'\n",
    "              )"
   ]
  },
  {
   "cell_type": "markdown",
   "metadata": {},
   "source": [
    "The histograms above show a pretty good distribution of values across the board.  We only have 3 area codes for the all the prefixes that we see.  We may want to encode this category since it is categorical feature.  I will also encode the phone number prefix, and the state columns before running any models.  Going to continue to review."
   ]
  },
  {
   "cell_type": "code",
   "execution_count": 863,
   "metadata": {
    "ExecuteTime": {
     "end_time": "2022-12-29T20:58:38.364385Z",
     "start_time": "2022-12-29T20:58:35.151309Z"
    },
    "scrolled": false
   },
   "outputs": [
    {
     "data": {
      "image/png": "[encoded data removed]",
      "text/plain": [
       "<Figure size 1728x1080 with 2 Axes>"
      ]
     },
     "metadata": {
      "needs_background": "light"
     },
     "output_type": "display_data"
    }
   ],
   "source": [
    "# Creating a heatmap to look at colinearity and potential categories that will lead to churn prediction.\n",
    "\n",
    "corr = df.corr().abs()\n",
    "\n",
    "fix, ax = plt.subplots(figsize = (24,15))\n",
    "matrix = np.triu(corr)\n",
    "ax.set_title('Feature Correlation Matrix', pad=15, fontsize=15)\n",
    "heatmap = sns.heatmap(corr, annot=True, cmap=pal, fmt='.2f', mask=matrix, linewidths=1)\n",
    "plt.show()"
   ]
  },
  {
   "cell_type": "markdown",
   "metadata": {},
   "source": [
    "Charges and total minutes are perfectly correlated, which makes sense.  I wonder if the price per minute is the same for all customers, or if it is different.  Also the number of voicemail messages, and the voice mail plan category are also highly correlated.  Meaning if they purchased the plan, it is highly likely that they used it.  Day minutes were highly correlated with the total minutes vs evening minutes.  It looks like churn had the highest correlation with the international plan (which we identified as a possibility earlier).  Total day minutes, total day charges, and customer service calls.  Customer service calls could be related to the actual service that the customer experienced, or could be the fact that the customer had to call in to cancel their plan, thus driving that columns correlation higher."
   ]
  },
  {
   "cell_type": "code",
   "execution_count": 864,
   "metadata": {
    "ExecuteTime": {
     "end_time": "2022-12-29T20:58:38.375609Z",
     "start_time": "2022-12-29T20:58:38.366470Z"
    }
   },
   "outputs": [
    {
     "name": "stdout",
     "output_type": "stream",
     "text": [
      "Raw Counts\n",
      "0    2850\n",
      "1     483\n",
      "Name: churn, dtype: int64\n",
      "\n",
      "Percentages\n",
      "0    0.855086\n",
      "1    0.144914\n",
      "Name: churn, dtype: float64\n"
     ]
    }
   ],
   "source": [
    "# Checking our target/ dataset for balance before creating our baseline classifcation model.\n",
    "\n",
    "print('Raw Counts')\n",
    "print(df['churn'].value_counts())\n",
    "print()\n",
    "print('Percentages')\n",
    "print(df['churn'].value_counts(normalize=True))"
   ]
  },
  {
   "cell_type": "markdown",
   "metadata": {},
   "source": [
    "A baseline model that always chose the majority class would have an accuracy of over 88%. Therefore we will want to report additional metrics at the end."
   ]
  },
  {
   "cell_type": "markdown",
   "metadata": {},
   "source": [
    "# Baseline Logistic Regression Model"
   ]
  },
  {
   "cell_type": "code",
   "execution_count": 865,
   "metadata": {
    "ExecuteTime": {
     "end_time": "2022-12-29T20:58:38.388644Z",
     "start_time": "2022-12-29T20:58:38.378189Z"
    }
   },
   "outputs": [
    {
     "name": "stdout",
     "output_type": "stream",
     "text": [
      "<class 'pandas.core.frame.DataFrame'>\n",
      "RangeIndex: 3333 entries, 0 to 3332\n",
      "Data columns (total 24 columns):\n",
      " #   Column                  Non-Null Count  Dtype  \n",
      "---  ------                  --------------  -----  \n",
      " 0   account_length          3333 non-null   int64  \n",
      " 1   area_code               3333 non-null   int64  \n",
      " 2   international_plan      3333 non-null   int64  \n",
      " 3   voice_mail_plan         3333 non-null   int64  \n",
      " 4   number_vmail_messages   3333 non-null   int64  \n",
      " 5   total_day_minutes       3333 non-null   float64\n",
      " 6   total_day_calls         3333 non-null   int64  \n",
      " 7   total_day_charge        3333 non-null   float64\n",
      " 8   total_eve_minutes       3333 non-null   float64\n",
      " 9   total_eve_calls         3333 non-null   int64  \n",
      " 10  total_eve_charge        3333 non-null   float64\n",
      " 11  total_night_minutes     3333 non-null   float64\n",
      " 12  total_night_calls       3333 non-null   int64  \n",
      " 13  total_night_charge      3333 non-null   float64\n",
      " 14  total_intl_minutes      3333 non-null   float64\n",
      " 15  total_intl_calls        3333 non-null   int64  \n",
      " 16  total_intl_charge       3333 non-null   float64\n",
      " 17  customer_service_calls  3333 non-null   int64  \n",
      " 18  churn                   3333 non-null   int64  \n",
      " 19  total_calls             3333 non-null   int64  \n",
      " 20  total_charges           3333 non-null   float64\n",
      " 21  total_minutes           3333 non-null   float64\n",
      " 22  price_per_minute        3333 non-null   float64\n",
      " 23  phone_number_prefix     3333 non-null   int64  \n",
      "dtypes: float64(11), int64(13)\n",
      "memory usage: 625.1 KB\n"
     ]
    }
   ],
   "source": [
    "# Quick look at our dataframe\n",
    "\n",
    "df.info()"
   ]
  },
  {
   "cell_type": "code",
   "execution_count": 869,
   "metadata": {
    "ExecuteTime": {
     "end_time": "2022-12-29T20:58:38.459198Z",
     "start_time": "2022-12-29T20:58:38.436021Z"
    }
   },
   "outputs": [
    {
     "data": {
      "text/plain": [
       "0.8551422845691382"
      ]
     },
     "execution_count": 869,
     "metadata": {},
     "output_type": "execute_result"
    }
   ],
   "source": [
    "# Also looking at a dummy model with 5 cross validation folds.  Mean accuracy is about\n",
    "# 86%.  This aligns with our assumption above with the imbalance of our churned \n",
    "# customer count.\n",
    "\n",
    "dummy_model = DummyClassifier(strategy='most_frequent')\n",
    "\n",
    "cv_results = cross_val_score(dummy_model, \n",
    "                             X_train, \n",
    "                             y_train, \n",
    "                             cv=5)\n",
    "\n",
    "dummy_model.fit(X_train, y_train)\n",
    "\n",
    "np.mean(cv_results)"
   ]
  },
  {
   "cell_type": "code",
   "execution_count": 902,
   "metadata": {
    "ExecuteTime": {
     "end_time": "2022-12-29T22:19:31.420434Z",
     "start_time": "2022-12-29T22:19:31.219870Z"
    }
   },
   "outputs": [
    {
     "data": {
      "image/png": "[encoded data removed]",
      "text/plain": [
       "<Figure size 432x288 with 2 Axes>"
      ]
     },
     "metadata": {
      "needs_background": "light"
     },
     "output_type": "display_data"
    }
   ],
   "source": [
    "# Visualize dummy model confusion matrix\n",
    "\n",
    "fig, ax = plt.subplots()\n",
    "\n",
    "fig.suptitle(\"Dummy Model\")\n",
    "\n",
    "plot_confusion_matrix(dummy_model, \n",
    "                      X_train, \n",
    "                      y_train, \n",
    "                      ax=ax\n",
    "                      );"
   ]
  },
  {
   "cell_type": "code",
   "execution_count": 885,
   "metadata": {
    "ExecuteTime": {
     "end_time": "2022-12-29T21:48:17.564770Z",
     "start_time": "2022-12-29T21:48:17.350655Z"
    },
    "scrolled": true
   },
   "outputs": [
    {
     "data": {
      "text/plain": [
       "<sklearn.metrics._plot.roc_curve.RocCurveDisplay at 0x7fc16c2eaf70>"
      ]
     },
     "execution_count": 885,
     "metadata": {},
     "output_type": "execute_result"
    },
    {
     "data": {
      "image/png": "[encoded data removed]",
      "text/plain": [
       "<Figure size 432x288 with 1 Axes>"
      ]
     },
     "metadata": {
      "needs_background": "light"
     },
     "output_type": "display_data"
    }
   ],
   "source": [
    "# Hallmark curve for dummy model\n",
    "\n",
    "plot_roc_curve(dummy_model, X_train, y_train);"
   ]
  },
  {
   "cell_type": "code",
   "execution_count": 886,
   "metadata": {
    "ExecuteTime": {
     "end_time": "2022-12-29T21:48:18.476232Z",
     "start_time": "2022-12-29T21:48:18.468060Z"
    },
    "scrolled": true
   },
   "outputs": [
    {
     "name": "stdout",
     "output_type": "stream",
     "text": [
      "Train percent churn: 0.1448579431772709\n",
      "Test percent churn:  0.145083932853717\n"
     ]
    }
   ],
   "source": [
    "# Looking for similar values for target distribution roughly 85/15.\n",
    "\n",
    "print(\"Train percent churn:\", y_train.value_counts(normalize=True)[1])\n",
    "print(\"Test percent churn: \", y_test.value_counts(normalize=True)[1])"
   ]
  },
  {
   "cell_type": "markdown",
   "metadata": {},
   "source": [
    "## Pipeline & Logistic Regression Model"
   ]
  },
  {
   "cell_type": "code",
   "execution_count": 890,
   "metadata": {
    "ExecuteTime": {
     "end_time": "2022-12-29T21:57:48.932132Z",
     "start_time": "2022-12-29T21:57:48.927989Z"
    }
   },
   "outputs": [],
   "source": [
    "# Labeling columns for different preprocessing steps\n",
    "\n",
    "cat_columns = []\n",
    "\n",
    "num_columns = ['account_length', 'number_vmail_messages', 'total_day_minutes', 'total_day_calls',\n",
    "            'total_day_charge', 'total_eve_minutes', 'total_eve_calls', 'total_eve_charge',\n",
    "            'total_night_minutes', 'total_night_calls', 'total_night_charge', 'total_intl_minutes',\n",
    "            'total_intl_calls', 'total_intl_charge', 'customer_service_calls', 'total_calls', \n",
    "            'total_minutes', 'price_per_minute'\n",
    "           ]\n",
    "\n",
    "binary_columns = ['international_plan', 'voice_mail_plan']"
   ]
  },
  {
   "cell_type": "code",
   "execution_count": 891,
   "metadata": {
    "ExecuteTime": {
     "end_time": "2022-12-29T21:57:49.106715Z",
     "start_time": "2022-12-29T21:57:49.097192Z"
    }
   },
   "outputs": [],
   "source": [
    "# import train_test \n",
    "from sklearn.model_selection import train_test_split\n",
    "\n",
    "# situate target and non-target features\n",
    "X = df.drop('churn', axis=1)\n",
    "y = df['churn']\n",
    "\n",
    "# create splits\n",
    "X_train, X_test, y_train, y_test = train_test_split(X, y, random_state=42, stratify=y)"
   ]
  },
  {
   "cell_type": "code",
   "execution_count": 892,
   "metadata": {
    "ExecuteTime": {
     "end_time": "2022-12-29T21:57:49.586106Z",
     "start_time": "2022-12-29T21:57:49.579957Z"
    }
   },
   "outputs": [],
   "source": [
    "# Create subsets of the dataset representing binary, numerical and categorical data \n",
    "# to be able to preprocess them differently for modeling. \\\n",
    "X_train_binary = X_train[binary_columns]\n",
    "X_train_nums = X_train[num_columns]\n",
    "X_train_cats = X_train[cat_columns]"
   ]
  },
  {
   "cell_type": "code",
   "execution_count": 893,
   "metadata": {
    "ExecuteTime": {
     "end_time": "2022-12-29T21:57:50.159199Z",
     "start_time": "2022-12-29T21:57:50.153632Z"
    }
   },
   "outputs": [],
   "source": [
    "binary_preprocessing = Pipeline(steps=[\n",
    "    ('simple_imputer', SimpleImputer(strategy='most_frequent'))\n",
    "])\n",
    "\n",
    "numerical_preprocessing = Pipeline(steps=[\n",
    "    ('simple_imputer', SimpleImputer(strategy='median')),\n",
    "    ('scaler', StandardScaler())\n",
    "])\n",
    "\n",
    "categorical_preprocessing = Pipeline(steps=[\n",
    "    ('simple_imputer', SimpleImputer(strategy='constant', fill_value='missing')),\n",
    "    ('ohe', OneHotEncoder(drop='first', sparse=False))\n",
    "])\n",
    "\n",
    "#grab columns out of a pandas data frame and then apply a specified transformer.\n",
    "preprocessor = ColumnTransformer(transformers=[\n",
    "    ('binary_preprocess', binary_preprocessing, X_train_binary.columns),\n",
    "    ('num_preprocess', numerical_preprocessing, X_train_nums.columns),\n",
    "    ('cat_preprocess', categorical_preprocessing, X_train_cats.columns)] # remainder='passthrough'\n",
    ")"
   ]
  },
  {
   "cell_type": "code",
   "execution_count": 894,
   "metadata": {
    "ExecuteTime": {
     "end_time": "2022-12-29T21:57:50.786226Z",
     "start_time": "2022-12-29T21:57:50.741747Z"
    },
    "code_folding": [],
    "scrolled": false
   },
   "outputs": [],
   "source": [
    "# Baseline model \n",
    "baseline_logreg = Pipeline([\n",
    "    (\"preprocessor\", preprocessor),\n",
    "    (\"estimator\", LogisticRegression(random_state=42))\n",
    "])\n",
    "    \n",
    "# Train model\n",
    "baseline_logreg.fit(X_train, y_train);"
   ]
  },
  {
   "cell_type": "code",
   "execution_count": 900,
   "metadata": {
    "ExecuteTime": {
     "end_time": "2022-12-29T22:07:43.593667Z",
     "start_time": "2022-12-29T22:07:43.576921Z"
    }
   },
   "outputs": [
    {
     "data": {
      "text/plain": [
       "0.8731492597038816"
      ]
     },
     "execution_count": 900,
     "metadata": {},
     "output_type": "execute_result"
    }
   ],
   "source": [
    "baseline_logreg.score(X_train, y_train)"
   ]
  },
  {
   "cell_type": "code",
   "execution_count": 881,
   "metadata": {
    "ExecuteTime": {
     "end_time": "2022-12-29T20:59:09.432188Z",
     "start_time": "2022-12-29T20:59:09.419253Z"
    }
   },
   "outputs": [],
   "source": [
    "# This function plots confusion matrix (train), Roc_Auc curve as well as \n",
    "# cross validated, train and test roc_auc, recall, specificity and accuracy scores\n",
    "\n",
    "def model_evaluation_roc_auc(model):\n",
    "    with plt.style.context('seaborn-talk'):\n",
    "        fig, (ax1, ax2) = plt.subplots(ncols=2, figsize=(12, 5))\n",
    "\n",
    "        # Plot confusion matrix for the test set\n",
    "        plot_confusion_matrix(model, X_test, y_test, normalize = 'true', ax=ax1,  cmap = 'Blues') \n",
    "        ax1.grid(False) \n",
    "        ax1.set_title(\"Confusion Matrix - Train\")\n",
    "        \n",
    "        # plot Roc curve for the test and train\n",
    "        plot_roc_curve(model, X_train, y_train, ax=ax2, name ='Train ROC curve')\n",
    "        plot_roc_curve(model, X_test, y_test, ax=ax2, name ='Test ROC curve' )\n",
    "        ax2.plot([0, 1], [0, 1], color='navy', lw=2, linestyle='--')\n",
    "        ax2.set_xlabel('False Positive Rate')\n",
    "        ax2.set_ylabel('True Positive Rate')\n",
    "        ax2.set_title('Receiver operating characteristic (ROC) Curve')\n",
    "        plt.show()\n",
    "        \n",
    "        # Print classification Scores for the test set\n",
    "        y_true = y_test\n",
    "        y_pred = model.predict(X_test)\n",
    "        divider = ('----' * 14) \n",
    "        table_title = 'Classification Report - Test:'\n",
    "        table = classification_report(y_true, y_pred, digits=3)\n",
    "        print('\\n', divider, table_title, divider, table, divider, divider, '\\n' , sep='\\n') \n",
    "        \n",
    "        # Print roc_auc for test and train \n",
    "        roc_score_train_cv = cross_val_score(estimator=model, X=X_train,  y=y_train, \n",
    "                                         cv=StratifiedKFold(shuffle=True), scoring='roc_auc').mean()\n",
    "        roc_score_train = roc_auc_score(y_train, model.predict_proba(X_train)[:, 1]) \n",
    "        roc_score_test = roc_auc_score(y_test, model.predict_proba(X_test)[:, 1])\n",
    "        \n",
    "        # Find Sensitivity and Specificity Scores:\n",
    "        recall_score_train = recall_score(y_train, model.predict(X_train))\n",
    "        recall_score_test = recall_score(y_test, model.predict(X_test))\n",
    "        \n",
    "        tn, fp, fn, tp = confusion_matrix(y_train, model.predict(X_train)).ravel()\n",
    "        specificity_score_train = tn / (tn+fp) \n",
    "        \n",
    "        tn1, fp1, fn1, tp1 = confusion_matrix(y_test, model.predict(X_test)).ravel()\n",
    "        specificity_score_test = tn1 / (tn1+fp1) \n",
    "        \n",
    "        # Print accuracy for test and train \n",
    "        acc_score_train = accuracy_score(y_train, model.predict(X_train)) \n",
    "        acc_score_test = accuracy_score(y_test, model.predict(X_test))\n",
    "        \n",
    "        print(f\" Mean Cross Validated Roc_Auc Score: {roc_score_train_cv :.2%}\")    \n",
    "        print(f\" Train Roc_Auc Score: {roc_score_train :.2%}\")  \n",
    "        print(f\" Test Roc_Auc Score: {roc_score_test :.2%}\")    \n",
    "        print('\\n', divider, divider, '\\n' , sep='\\n')\n",
    "        \n",
    "        print(f\" Train Accuracy Score: {acc_score_train :.2%}\")  \n",
    "        print(f\" Test Accuracy Score: {acc_score_test :.2%}\")    \n",
    "        print('\\n', divider, divider, '\\n' , sep='\\n')\n",
    "        \n",
    "        print(f\" Train Sensitivity/Recall score: {recall_score_train :.2%}\")    \n",
    "        print(f\" Test Sensitivity/Recall score: {recall_score_test :.2%}\")  \n",
    "        print('\\n', divider, divider, '\\n' , sep='\\n')\n",
    "        \n",
    "        print(f\" Train Specificity score: {specificity_score_train :.2%}\")    \n",
    "        print(f\" Test Specificity Score: {specificity_score_test :.2%}\")   \n",
    "        print('\\n', divider, divider, '\\n' , sep='\\n')\n",
    "        "
   ]
  },
  {
   "cell_type": "code",
   "execution_count": 882,
   "metadata": {
    "ExecuteTime": {
     "end_time": "2022-12-29T20:59:13.011222Z",
     "start_time": "2022-12-29T20:59:12.330505Z"
    }
   },
   "outputs": [
    {
     "data": {
      "image/png": "[encoded data removed]",
      "text/plain": [
       "<Figure size 864x360 with 3 Axes>"
      ]
     },
     "metadata": {
      "needs_background": "light"
     },
     "output_type": "display_data"
    },
    {
     "name": "stdout",
     "output_type": "stream",
     "text": [
      "\n",
      "\n",
      "--------------------------------------------------------\n",
      "Classification Report - Test:\n",
      "--------------------------------------------------------\n",
      "              precision    recall  f1-score   support\n",
      "\n",
      "           0      0.889     0.971     0.928       713\n",
      "           1      0.625     0.289     0.395       121\n",
      "\n",
      "    accuracy                          0.872       834\n",
      "   macro avg      0.757     0.630     0.662       834\n",
      "weighted avg      0.851     0.872     0.851       834\n",
      "\n",
      "--------------------------------------------------------\n",
      "--------------------------------------------------------\n",
      "\n",
      "\n",
      " Mean Cross Validated Roc_Auc Score: 84.56%\n",
      " Train Roc_Auc Score: 85.32%\n",
      " Test Roc_Auc Score: 82.10%\n",
      "\n",
      "\n",
      "--------------------------------------------------------\n",
      "--------------------------------------------------------\n",
      "\n",
      "\n",
      " Train Accuracy Score: 87.31%\n",
      " Test Accuracy Score: 87.17%\n",
      "\n",
      "\n",
      "--------------------------------------------------------\n",
      "--------------------------------------------------------\n",
      "\n",
      "\n",
      " Train Sensitivity/Recall score: 29.01%\n",
      " Test Sensitivity/Recall score: 28.93%\n",
      "\n",
      "\n",
      "--------------------------------------------------------\n",
      "--------------------------------------------------------\n",
      "\n",
      "\n",
      " Train Specificity score: 97.19%\n",
      " Test Specificity Score: 97.05%\n",
      "\n",
      "\n",
      "--------------------------------------------------------\n",
      "--------------------------------------------------------\n",
      "\n",
      "\n"
     ]
    }
   ],
   "source": [
    "\n",
    "model_evaluation_roc_auc(baseline_logreg)"
   ]
  },
  {
   "cell_type": "code",
   "execution_count": 803,
   "metadata": {
    "ExecuteTime": {
     "end_time": "2022-12-29T16:45:50.354099Z",
     "start_time": "2022-12-29T16:45:50.343154Z"
    }
   },
   "outputs": [],
   "source": [
    "# There should be two underscores between estimator name and it's parameters in a Pipeline\n",
    "\n",
    "parameters = {\n",
    "    'estimator__penalty' : ['l1','l2'], # default = l2 elasticnet is both\n",
    "    'estimator__fit_intercept':[True, False],\n",
    "    'estimator__C'       : [0.001,0.01,0.1,0.5,1,10,100], #np.logspace(-3,3,7) # default=1.0\n",
    "    'estimator__solver'  : ['newton-cg', 'lbfgs', 'liblinear'], # default = ’lbfgs’\n",
    "    'estimator__max_iter'  : [50,100,200,300]  # default = 100\n",
    "}\n",
    "      \n",
    "# Create the grid, with \"logreg_pipeline\" as the estimator\n",
    "best_logreg = GridSearchCV(estimator = baseline_logreg,   # model\n",
    "                          param_grid = parameters,     # hyperparameters\n",
    "                          scoring ='roc_auc',          # metric for scoring\n",
    "                          cv = 5,                      # number of folds for cross-validation\n",
    "                          n_jobs = -1                  # 1 job per core of the computer.\n",
    ")                      \n",
    "\n"
   ]
  },
  {
   "cell_type": "code",
   "execution_count": 804,
   "metadata": {
    "ExecuteTime": {
     "end_time": "2022-12-29T16:46:29.166693Z",
     "start_time": "2022-12-29T16:45:50.862821Z"
    }
   },
   "outputs": [
    {
     "data": {
      "text/plain": [
       "{'estimator__C': 0.5,\n",
       " 'estimator__fit_intercept': True,\n",
       " 'estimator__max_iter': 50,\n",
       " 'estimator__penalty': 'l1',\n",
       " 'estimator__solver': 'liblinear'}"
      ]
     },
     "execution_count": 804,
     "metadata": {},
     "output_type": "execute_result"
    }
   ],
   "source": [
    "# Train the pipeline (tranformations & predictor)\n",
    "best_logreg.fit(X_train, y_train);\n",
    "best_logreg.best_params_"
   ]
  },
  {
   "cell_type": "code",
   "execution_count": 805,
   "metadata": {
    "ExecuteTime": {
     "end_time": "2022-12-29T16:47:19.122493Z",
     "start_time": "2022-12-29T16:47:17.943394Z"
    },
    "scrolled": true
   },
   "outputs": [
    {
     "data": {
      "image/png": "[encoded data removed]",
      "text/plain": [
       "<Figure size 864x360 with 3 Axes>"
      ]
     },
     "metadata": {
      "needs_background": "light"
     },
     "output_type": "display_data"
    },
    {
     "name": "stdout",
     "output_type": "stream",
     "text": [
      "\n",
      "\n",
      "--------------------------------------------------------\n",
      "Classification Report - Test:\n",
      "--------------------------------------------------------\n",
      "              precision    recall  f1-score   support\n",
      "\n",
      "           0      0.891     0.966     0.927       713\n",
      "           1      0.607     0.306     0.407       121\n",
      "\n",
      "    accuracy                          0.871       834\n",
      "   macro avg      0.749     0.636     0.667       834\n",
      "weighted avg      0.850     0.871     0.852       834\n",
      "\n",
      "--------------------------------------------------------\n",
      "--------------------------------------------------------\n",
      "\n",
      "\n",
      " Mean Cross Validated Roc_Auc Score: 83.98%\n",
      " Train Roc_Auc Score: 85.87%\n",
      " Test Roc_Auc Score: 81.43%\n",
      "\n",
      "\n",
      "--------------------------------------------------------\n",
      "--------------------------------------------------------\n",
      "\n",
      "\n",
      " Train Accuracy Score: 88.00%\n",
      " Test Accuracy Score: 87.05%\n",
      "\n",
      "\n",
      "--------------------------------------------------------\n",
      "--------------------------------------------------------\n",
      "\n",
      "\n",
      " Train Sensitivity/Recall score: 31.49%\n",
      " Test Sensitivity/Recall score: 30.58%\n",
      "\n",
      "\n",
      "--------------------------------------------------------\n",
      "--------------------------------------------------------\n",
      "\n",
      "\n",
      " Train Specificity score: 97.57%\n",
      " Test Specificity Score: 96.63%\n",
      "\n",
      "\n",
      "--------------------------------------------------------\n",
      "--------------------------------------------------------\n",
      "\n",
      "\n"
     ]
    }
   ],
   "source": [
    "model_evaluation_roc_auc(best_logreg.best_estimator_)"
   ]
  },
  {
   "cell_type": "markdown",
   "metadata": {
    "ExecuteTime": {
     "end_time": "2022-12-22T23:13:51.618037Z",
     "start_time": "2022-12-22T23:13:51.614994Z"
    },
    "heading_collapsed": true
   },
   "source": [
    "# Build KNN Model"
   ]
  },
  {
   "cell_type": "code",
   "execution_count": 157,
   "metadata": {
    "ExecuteTime": {
     "end_time": "2022-12-22T23:12:47.954023Z",
     "start_time": "2022-12-22T23:12:47.932533Z"
    },
    "hidden": true
   },
   "outputs": [],
   "source": [
    "# import class\n",
    "from sklearn.preprocessing import StandardScaler\n",
    "\n",
    "scaler = StandardScaler()\n",
    "scaler.fit(X_train)\n",
    "\n",
    "X_train_scaled = scaler.transform(X_train)\n",
    "X_test_scaled = scaler.transform(X_test)"
   ]
  },
  {
   "cell_type": "code",
   "execution_count": 158,
   "metadata": {
    "ExecuteTime": {
     "end_time": "2022-12-22T23:13:03.202689Z",
     "start_time": "2022-12-22T23:13:03.004778Z"
    },
    "hidden": true
   },
   "outputs": [
    {
     "data": {
      "text/plain": [
       "1.1238999517038402"
      ]
     },
     "execution_count": 158,
     "metadata": {},
     "output_type": "execute_result"
    }
   ],
   "source": [
    "# Relevant imports\n",
    "from sklearn.neighbors import KNeighborsClassifier\n",
    "from sklearn.model_selection import cross_val_score\n",
    "\n",
    "# Creating the model\n",
    "knn_baseline_model = KNeighborsClassifier()\n",
    "\n",
    "# Perform cross-validation\n",
    "knn_baseline_log_loss = -cross_val_score(knn_baseline_model, X_train_scaled, y_train, scoring=\"neg_log_loss\").mean()\n",
    "\n",
    "knn_baseline_log_loss"
   ]
  },
  {
   "cell_type": "code",
   "execution_count": 159,
   "metadata": {
    "ExecuteTime": {
     "end_time": "2022-12-22T23:13:15.949952Z",
     "start_time": "2022-12-22T23:13:15.743246Z"
    },
    "hidden": true
   },
   "outputs": [
    {
     "data": {
      "text/plain": [
       "0.454726724156682"
      ]
     },
     "execution_count": 159,
     "metadata": {},
     "output_type": "execute_result"
    }
   ],
   "source": [
    "# Your code here (add more cells as needed)\n",
    "# Adjusting the neighbors value to see if we are overfitting with the default = 5.\n",
    "knn_second_model = KNeighborsClassifier(n_neighbors=25)\n",
    "\n",
    "knn_second_log_loss = -cross_val_score(knn_second_model, X_train_scaled, y_train, scoring=\"neg_log_loss\").mean()\n",
    "knn_second_log_loss"
   ]
  },
  {
   "cell_type": "code",
   "execution_count": 160,
   "metadata": {
    "ExecuteTime": {
     "end_time": "2022-12-22T23:13:31.770683Z",
     "start_time": "2022-12-22T23:13:31.550561Z"
    },
    "hidden": true
   },
   "outputs": [
    {
     "data": {
      "text/plain": [
       "0.43796041887576437"
      ]
     },
     "execution_count": 160,
     "metadata": {},
     "output_type": "execute_result"
    }
   ],
   "source": [
    "# Your code here (add more cells as needed)\n",
    "# Changing from Euclidean difference to manhattan difference\n",
    "knn_3_model = KNeighborsClassifier(n_neighbors=25, metric=\"manhattan\")\n",
    "\n",
    "knn_3_log_loss = -cross_val_score(knn_3_model, X_train_scaled, y_train, scoring=\"neg_log_loss\").mean()\n",
    "knn_3_log_loss"
   ]
  },
  {
   "cell_type": "code",
   "execution_count": 162,
   "metadata": {
    "ExecuteTime": {
     "end_time": "2022-12-22T23:14:20.503584Z",
     "start_time": "2022-12-22T23:14:20.278678Z"
    },
    "hidden": true
   },
   "outputs": [
    {
     "data": {
      "text/plain": [
       "0.3389903269381906"
      ]
     },
     "execution_count": 162,
     "metadata": {},
     "output_type": "execute_result"
    }
   ],
   "source": [
    "# Adjusting the number of neighbors once again to see if we can increase performance.\n",
    "knn_4_model = KNeighborsClassifier(n_neighbors=40, metric=\"manhattan\")\n",
    "\n",
    "knn_4_log_loss = -cross_val_score(knn_4_model, X_train_scaled, y_train, scoring=\"neg_log_loss\").mean()\n",
    "knn_4_log_loss"
   ]
  },
  {
   "cell_type": "code",
   "execution_count": 163,
   "metadata": {
    "ExecuteTime": {
     "end_time": "2022-12-22T23:14:27.953125Z",
     "start_time": "2022-12-22T23:14:27.736709Z"
    },
    "hidden": true
   },
   "outputs": [
    {
     "data": {
      "text/plain": [
       "0.3817795287387321"
      ]
     },
     "execution_count": 163,
     "metadata": {},
     "output_type": "execute_result"
    }
   ],
   "source": [
    "# Backtracking to see what increased neighbors looks like with Euclidean distance.\n",
    "knn_5_model = KNeighborsClassifier(n_neighbors=40)\n",
    "\n",
    "knn_5_log_loss = -cross_val_score(knn_5_model, X_train_scaled, y_train, scoring=\"neg_log_loss\").mean()\n",
    "knn_5_log_loss"
   ]
  },
  {
   "cell_type": "code",
   "execution_count": 164,
   "metadata": {
    "ExecuteTime": {
     "end_time": "2022-12-22T23:14:38.158795Z",
     "start_time": "2022-12-22T23:14:37.950578Z"
    },
    "hidden": true
   },
   "outputs": [
    {
     "data": {
      "text/plain": [
       "0.5986107525614939"
      ]
     },
     "execution_count": 164,
     "metadata": {},
     "output_type": "execute_result"
    }
   ],
   "source": [
    "# Backtracking to see what increased neighbors looks like with Euclidean distance.\n",
    "knn_6_model = KNeighborsClassifier(n_neighbors=15)\n",
    "\n",
    "knn_6_log_loss = -cross_val_score(knn_6_model, X_train_scaled, y_train, scoring=\"neg_log_loss\").mean()\n",
    "knn_6_log_loss"
   ]
  },
  {
   "cell_type": "markdown",
   "metadata": {},
   "source": [
    "# Build Decision Tree Model"
   ]
  },
  {
   "cell_type": "markdown",
   "metadata": {
    "ExecuteTime": {
     "end_time": "2022-12-24T16:55:11.032900Z",
     "start_time": "2022-12-24T16:55:11.030485Z"
    }
   },
   "source": [
    "# Random Forest"
   ]
  },
  {
   "cell_type": "markdown",
   "metadata": {},
   "source": [
    "# Build Another Model (XGBoost, other?)"
   ]
  },
  {
   "cell_type": "markdown",
   "metadata": {
    "ExecuteTime": {
     "end_time": "2022-12-24T13:50:56.380600Z",
     "start_time": "2022-12-24T13:50:56.351609Z"
    }
   },
   "source": [
    "# Model Evalution"
   ]
  },
  {
   "cell_type": "markdown",
   "metadata": {
    "ExecuteTime": {
     "end_time": "2022-12-24T13:50:59.998772Z",
     "start_time": "2022-12-24T13:50:59.996257Z"
    }
   },
   "source": [
    "# Final Model"
   ]
  },
  {
   "cell_type": "code",
   "execution_count": null,
   "metadata": {},
   "outputs": [],
   "source": []
  }
 ],
 "metadata": {
  "kernelspec": {
   "display_name": "Python (learn-env)",
   "language": "python",
   "name": "learn-env"
  },
  "language_info": {
   "codemirror_mode": {
    "name": "ipython",
    "version": 3
   },
   "file_extension": ".py",
   "mimetype": "text/x-python",
   "name": "python",
   "nbconvert_exporter": "python",
   "pygments_lexer": "ipython3",
   "version": "3.8.5"
  },
  "toc": {
   "base_numbering": 1,
   "nav_menu": {},
   "number_sections": true,
   "sideBar": true,
   "skip_h1_title": false,
   "title_cell": "Table of Contents",
   "title_sidebar": "Contents",
   "toc_cell": false,
   "toc_position": {},
   "toc_section_display": true,
   "toc_window_display": false
  }
 },
 "nbformat": 4,
 "nbformat_minor": 4
}
