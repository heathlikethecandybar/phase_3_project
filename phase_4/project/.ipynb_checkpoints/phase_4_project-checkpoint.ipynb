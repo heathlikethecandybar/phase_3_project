{
 "cells": [
  {
   "cell_type": "markdown",
   "id": "3b919b86",
   "metadata": {},
   "source": [
    "# Phase 4 Final Project Submission"
   ]
  },
  {
   "cell_type": "markdown",
   "id": "88497ad5",
   "metadata": {},
   "source": [
    "* Student name: Heath Rittler\n",
    "* Student pace: Self paced\n",
    "* Scheduled project review date/time: tbd\n",
    "* Instructor name: Mark Barbour\n",
    "* Blog post URL: https://medium.com/@heathlikethecandybar"
   ]
  },
  {
   "cell_type": "markdown",
   "id": "7f134d0f",
   "metadata": {
    "ExecuteTime": {
     "end_time": "2023-03-16T01:22:20.018790Z",
     "start_time": "2023-03-16T01:22:19.943054Z"
    }
   },
   "source": [
    "# Introduction"
   ]
  },
  {
   "cell_type": "markdown",
   "id": "8de0a8f7",
   "metadata": {},
   "source": [
    "## Business Case/ Summary"
   ]
  },
  {
   "cell_type": "code",
   "execution_count": null,
   "id": "330247f6",
   "metadata": {},
   "outputs": [],
   "source": []
  },
  {
   "cell_type": "markdown",
   "id": "d81f96fd",
   "metadata": {
    "ExecuteTime": {
     "end_time": "2023-03-16T01:33:47.533926Z",
     "start_time": "2023-03-16T01:33:47.519525Z"
    }
   },
   "source": [
    "**Our task is to:**\n",
    "\n",
    "Build a model that provides top 5 movie recommendations to a user, based on their ratings of other movies."
   ]
  },
  {
   "cell_type": "markdown",
   "id": "d87c8be9",
   "metadata": {
    "ExecuteTime": {
     "end_time": "2023-03-16T01:23:50.925734Z",
     "start_time": "2023-03-16T01:23:50.923245Z"
    }
   },
   "source": [
    "## Modelling and Approach"
   ]
  },
  {
   "cell_type": "markdown",
   "id": "bc35573a",
   "metadata": {
    "ExecuteTime": {
     "end_time": "2023-03-16T01:43:47.236502Z",
     "start_time": "2023-03-16T01:43:47.232468Z"
    }
   },
   "source": [
    "**Collaborative Filtering**\n",
    "\n",
    "At minimum, your recommendation system must use collaborative filtering. If you have time, consider implementing a hybrid approach, e.g. using collaborative filtering as the primary mechanism, but using content-based filtering to address the cold start problem."
   ]
  },
  {
   "cell_type": "markdown",
   "id": "5b308d24",
   "metadata": {
    "ExecuteTime": {
     "end_time": "2023-03-16T01:23:23.498075Z",
     "start_time": "2023-03-16T01:23:23.495167Z"
    }
   },
   "source": [
    "## Metrics for Evaluation"
   ]
  },
  {
   "cell_type": "markdown",
   "id": "3657f630",
   "metadata": {
    "ExecuteTime": {
     "end_time": "2023-03-16T01:34:39.915200Z",
     "start_time": "2023-03-16T01:34:39.905964Z"
    }
   },
   "source": [
    "### **Evaluation**\n",
    "\n",
    "The MovieLens dataset has explicit ratings, so achieving some sort of evaluation of your model is simple enough. But you should give some thought to the question of metrics. Since the rankings are ordinal, we know we can treat this like a regression problem. But when it comes to regression metrics there are several choices: RMSE, MAE, etc. Here are some further ideas."
   ]
  },
  {
   "cell_type": "markdown",
   "id": "e1a9cc89",
   "metadata": {
    "ExecuteTime": {
     "end_time": "2023-03-16T01:22:49.949280Z",
     "start_time": "2023-03-16T01:22:49.946737Z"
    }
   },
   "source": [
    "## Core Field Names and Definitions from Data Source"
   ]
  },
  {
   "cell_type": "markdown",
   "id": "68b8490a",
   "metadata": {},
   "source": [
    "This dataset (ml-latest-small) describes 5-star rating and free-text tagging activity from MovieLens, a movie recommendation service. It contains 100836 ratings and 3683 tag applications across 9742 movies. These data were created by 610 users between March 29, 1996 and September 24, 2018. This dataset was generated on September 26, 2018.\n",
    "\n",
    "Users were selected at random for inclusion. All selected users had rated at least 20 movies. No demographic information is included. Each user is represented by an id, and no other information is provided.\n",
    "\n",
    "The data are contained in the files \n",
    "* `links.csv`\n",
    "* `movies.csv` \n",
    "* `ratings.csv` \n",
    "* `tags.csv`"
   ]
  },
  {
   "cell_type": "markdown",
   "id": "2a46b6c7",
   "metadata": {},
   "source": [
    "### `Formatting and Encoding`\n",
    "The dataset files are written as comma-separated values files with a single header row. Columns that contain commas (,) are escaped using double-quotes (\"). These files are encoded as UTF-8. If accented characters in movie titles or tag values (e.g. Misérables, Les (1995)) display incorrectly, make sure that any program reading the data, such as a text editor, terminal, or script, is configured for UTF-8."
   ]
  },
  {
   "cell_type": "markdown",
   "id": "0756ca8a",
   "metadata": {},
   "source": [
    "**`User Ids`**\n",
    "MovieLens users were selected at random for inclusion. Their ids have been anonymized. User ids are consistent between ratings.csv and tags.csv (i.e., the same id refers to the same user across the two files).\n",
    "\n",
    "**`Movie Ids`**\n",
    "Only movies with at least one rating or tag are included in the dataset. These movie ids are consistent with those used on the MovieLens web site (e.g., id 1 corresponds to the URL https://movielens.org/movies/1). Movie ids are consistent between ratings.csv, tags.csv, movies.csv, and links.csv (i.e., the same id refers to the same movie across these four data files)."
   ]
  },
  {
   "cell_type": "markdown",
   "id": "1a96a1e9",
   "metadata": {},
   "source": [
    "### `Ratings Data File Structure (ratings.csv)`\n",
    "All ratings are contained in the file ratings.csv. Each line of this file after the header row represents one rating of one movie by one user, and has the following format:\n",
    "\n",
    "userId,movieId,rating,timestamp\n",
    "The lines within this file are ordered first by userId, then, within user, by movieId.\n",
    "\n",
    "Ratings are made on a 5-star scale, with half-star increments (0.5 stars - 5.0 stars).\n",
    "\n",
    "Timestamps represent seconds since midnight Coordinated Universal Time (UTC) of January 1, 1970."
   ]
  },
  {
   "cell_type": "markdown",
   "id": "14dcda06",
   "metadata": {
    "ExecuteTime": {
     "end_time": "2023-03-16T01:41:25.978659Z",
     "start_time": "2023-03-16T01:41:25.973534Z"
    }
   },
   "source": [
    "### `Tags Data File Structure (tags.csv)`\n",
    "All tags are contained in the file tags.csv. Each line of this file after the header row represents one tag applied to one movie by one user, and has the following format:\n",
    "\n",
    "userId,movieId,tag,timestamp\n",
    "The lines within this file are ordered first by userId, then, within user, by movieId.\n",
    "\n",
    "Tags are user-generated metadata about movies. Each tag is typically a single word or short phrase. The meaning, value, and purpose of a particular tag is determined by each user.\n",
    "\n",
    "Timestamps represent seconds since midnight Coordinated Universal Time (UTC) of January 1, 1970."
   ]
  },
  {
   "cell_type": "markdown",
   "id": "f2777ac4",
   "metadata": {
    "ExecuteTime": {
     "end_time": "2023-03-16T01:42:19.463405Z",
     "start_time": "2023-03-16T01:42:19.458126Z"
    }
   },
   "source": [
    "### `Movies Data File Structure (movies.csv)`\n",
    "Movie information is contained in the file movies.csv. Each line of this file after the header row represents one movie, and has the following format:\n",
    "\n",
    "movieId,title,genres\n",
    "Movie titles are entered manually or imported from https://www.themoviedb.org/, and include the year of release in parentheses. Errors and inconsistencies may exist in these titles.\n",
    "\n",
    "Genres are a pipe-separated list, and are selected from the following:\n",
    "\n",
    "Action\n",
    "Adventure\n",
    "Animation\n",
    "Children's\n",
    "Comedy\n",
    "Crime\n",
    "Documentary\n",
    "Drama\n",
    "Fantasy\n",
    "Film-Noir\n",
    "Horror\n",
    "Musical\n",
    "Mystery\n",
    "Romance\n",
    "Sci-Fi\n",
    "Thriller\n",
    "War\n",
    "Western\n",
    "(no genres listed)"
   ]
  },
  {
   "cell_type": "markdown",
   "id": "525f67c4",
   "metadata": {
    "ExecuteTime": {
     "end_time": "2023-03-16T01:41:43.032035Z",
     "start_time": "2023-03-16T01:41:43.018355Z"
    }
   },
   "source": [
    "### `Links Data File Structure (links.csv)`\n",
    "Identifiers that can be used to link to other sources of movie data are contained in the file links.csv. Each line of this file after the header row represents one movie, and has the following format:\n",
    "\n",
    "movieId,imdbId,tmdbId\n",
    "movieId is an identifier for movies used by https://movielens.org. E.g., the movie Toy Story has the link https://movielens.org/movies/1.\n",
    "\n",
    "imdbId is an identifier for movies used by http://www.imdb.com. E.g., the movie Toy Story has the link http://www.imdb.com/title/tt0114709/.\n",
    "\n",
    "tmdbId is an identifier for movies used by https://www.themoviedb.org. E.g., the movie Toy Story has the link https://www.themoviedb.org/movie/862.\n",
    "\n",
    "Use of the resources listed above is subject to the terms of each provider."
   ]
  },
  {
   "cell_type": "markdown",
   "id": "ef942072",
   "metadata": {
    "ExecuteTime": {
     "end_time": "2023-03-16T01:24:28.254242Z",
     "start_time": "2023-03-16T01:24:28.251891Z"
    }
   },
   "source": [
    "# Data Load, Cleaning"
   ]
  },
  {
   "cell_type": "markdown",
   "id": "5855d3c9",
   "metadata": {
    "ExecuteTime": {
     "end_time": "2023-03-16T01:24:43.049099Z",
     "start_time": "2023-03-16T01:24:43.046013Z"
    }
   },
   "source": [
    "## Importing Packages"
   ]
  },
  {
   "cell_type": "code",
   "execution_count": 45,
   "id": "0ebfd771",
   "metadata": {
    "ExecuteTime": {
     "end_time": "2023-03-16T02:06:41.468294Z",
     "start_time": "2023-03-16T02:06:41.463041Z"
    }
   },
   "outputs": [],
   "source": [
    "import pandas as pd\n",
    "import numpy as np\n",
    "from matplotlib import pyplot as plt\n",
    "%matplotlib inline\n",
    "import seaborn as sns\n",
    "import statsmodels.api as sm\n",
    "from datetime import datetime\n",
    "\n",
    "from sklearn.preprocessing import LabelEncoder, OneHotEncoder, StandardScaler, FunctionTransformer\n",
    "from sklearn.model_selection import train_test_split, cross_val_score, GridSearchCV, StratifiedKFold"
   ]
  },
  {
   "cell_type": "markdown",
   "id": "3cf0826d",
   "metadata": {
    "ExecuteTime": {
     "end_time": "2023-03-16T01:24:56.065157Z",
     "start_time": "2023-03-16T01:24:56.062742Z"
    }
   },
   "source": [
    "## Choosing Colors & Templates"
   ]
  },
  {
   "cell_type": "code",
   "execution_count": null,
   "id": "17546563",
   "metadata": {},
   "outputs": [],
   "source": []
  },
  {
   "cell_type": "markdown",
   "id": "3872c1d9",
   "metadata": {
    "ExecuteTime": {
     "end_time": "2023-03-16T01:25:02.612854Z",
     "start_time": "2023-03-16T01:25:02.610057Z"
    }
   },
   "source": [
    "## Import Data"
   ]
  },
  {
   "cell_type": "markdown",
   "id": "60edf878",
   "metadata": {},
   "source": [
    "### Ratings"
   ]
  },
  {
   "cell_type": "code",
   "execution_count": 35,
   "id": "9304cf9c",
   "metadata": {
    "ExecuteTime": {
     "end_time": "2023-03-16T02:04:54.777369Z",
     "start_time": "2023-03-16T02:04:54.732644Z"
    }
   },
   "outputs": [],
   "source": [
    "# import ratings data file\n",
    "ratings = pd.read_csv('ml-latest-small/ratings.csv')"
   ]
  },
  {
   "cell_type": "code",
   "execution_count": 36,
   "id": "cf369c0d",
   "metadata": {
    "ExecuteTime": {
     "end_time": "2023-03-16T02:04:54.898494Z",
     "start_time": "2023-03-16T02:04:54.888876Z"
    },
    "scrolled": true
   },
   "outputs": [
    {
     "data": {
      "text/html": [
       "<div>\n",
       "<style scoped>\n",
       "    .dataframe tbody tr th:only-of-type {\n",
       "        vertical-align: middle;\n",
       "    }\n",
       "\n",
       "    .dataframe tbody tr th {\n",
       "        vertical-align: top;\n",
       "    }\n",
       "\n",
       "    .dataframe thead th {\n",
       "        text-align: right;\n",
       "    }\n",
       "</style>\n",
       "<table border=\"1\" class=\"dataframe\">\n",
       "  <thead>\n",
       "    <tr style=\"text-align: right;\">\n",
       "      <th></th>\n",
       "      <th>userId</th>\n",
       "      <th>movieId</th>\n",
       "      <th>rating</th>\n",
       "      <th>timestamp</th>\n",
       "    </tr>\n",
       "  </thead>\n",
       "  <tbody>\n",
       "    <tr>\n",
       "      <th>0</th>\n",
       "      <td>1</td>\n",
       "      <td>1</td>\n",
       "      <td>4.0</td>\n",
       "      <td>964982703</td>\n",
       "    </tr>\n",
       "    <tr>\n",
       "      <th>1</th>\n",
       "      <td>1</td>\n",
       "      <td>3</td>\n",
       "      <td>4.0</td>\n",
       "      <td>964981247</td>\n",
       "    </tr>\n",
       "    <tr>\n",
       "      <th>2</th>\n",
       "      <td>1</td>\n",
       "      <td>6</td>\n",
       "      <td>4.0</td>\n",
       "      <td>964982224</td>\n",
       "    </tr>\n",
       "    <tr>\n",
       "      <th>3</th>\n",
       "      <td>1</td>\n",
       "      <td>47</td>\n",
       "      <td>5.0</td>\n",
       "      <td>964983815</td>\n",
       "    </tr>\n",
       "    <tr>\n",
       "      <th>4</th>\n",
       "      <td>1</td>\n",
       "      <td>50</td>\n",
       "      <td>5.0</td>\n",
       "      <td>964982931</td>\n",
       "    </tr>\n",
       "  </tbody>\n",
       "</table>\n",
       "</div>"
      ],
      "text/plain": [
       "   userId  movieId  rating  timestamp\n",
       "0       1        1     4.0  964982703\n",
       "1       1        3     4.0  964981247\n",
       "2       1        6     4.0  964982224\n",
       "3       1       47     5.0  964983815\n",
       "4       1       50     5.0  964982931"
      ]
     },
     "execution_count": 36,
     "metadata": {},
     "output_type": "execute_result"
    }
   ],
   "source": [
    "# view the first 5 rows\n",
    "ratings.head()"
   ]
  },
  {
   "cell_type": "code",
   "execution_count": 37,
   "id": "cdb9a733",
   "metadata": {
    "ExecuteTime": {
     "end_time": "2023-03-16T02:04:55.095175Z",
     "start_time": "2023-03-16T02:04:55.083300Z"
    }
   },
   "outputs": [
    {
     "name": "stdout",
     "output_type": "stream",
     "text": [
      "<class 'pandas.core.frame.DataFrame'>\n",
      "RangeIndex: 100836 entries, 0 to 100835\n",
      "Data columns (total 4 columns):\n",
      " #   Column     Non-Null Count   Dtype  \n",
      "---  ------     --------------   -----  \n",
      " 0   userId     100836 non-null  int64  \n",
      " 1   movieId    100836 non-null  int64  \n",
      " 2   rating     100836 non-null  float64\n",
      " 3   timestamp  100836 non-null  int64  \n",
      "dtypes: float64(1), int64(3)\n",
      "memory usage: 3.1 MB\n"
     ]
    }
   ],
   "source": [
    "# view data types record counts\n",
    "ratings.info()"
   ]
  },
  {
   "cell_type": "code",
   "execution_count": 38,
   "id": "b9068c00",
   "metadata": {
    "ExecuteTime": {
     "end_time": "2023-03-16T02:04:55.268598Z",
     "start_time": "2023-03-16T02:04:55.262095Z"
    }
   },
   "outputs": [
    {
     "data": {
      "text/plain": [
       "userId       0\n",
       "movieId      0\n",
       "rating       0\n",
       "timestamp    0\n",
       "dtype: int64"
      ]
     },
     "execution_count": 38,
     "metadata": {},
     "output_type": "execute_result"
    }
   ],
   "source": [
    "# check for missing values within any columns\n",
    "ratings.isna().sum()"
   ]
  },
  {
   "cell_type": "markdown",
   "id": "81e95d30",
   "metadata": {},
   "source": [
    "### Tags"
   ]
  },
  {
   "cell_type": "code",
   "execution_count": 39,
   "id": "8b5ebd68",
   "metadata": {
    "ExecuteTime": {
     "end_time": "2023-03-16T02:04:56.169297Z",
     "start_time": "2023-03-16T02:04:56.160802Z"
    }
   },
   "outputs": [],
   "source": [
    "# import ratings data file\n",
    "tags = pd.read_csv('ml-latest-small/tags.csv')"
   ]
  },
  {
   "cell_type": "code",
   "execution_count": 40,
   "id": "58b2950d",
   "metadata": {
    "ExecuteTime": {
     "end_time": "2023-03-16T02:04:56.485078Z",
     "start_time": "2023-03-16T02:04:56.476386Z"
    }
   },
   "outputs": [
    {
     "data": {
      "text/html": [
       "<div>\n",
       "<style scoped>\n",
       "    .dataframe tbody tr th:only-of-type {\n",
       "        vertical-align: middle;\n",
       "    }\n",
       "\n",
       "    .dataframe tbody tr th {\n",
       "        vertical-align: top;\n",
       "    }\n",
       "\n",
       "    .dataframe thead th {\n",
       "        text-align: right;\n",
       "    }\n",
       "</style>\n",
       "<table border=\"1\" class=\"dataframe\">\n",
       "  <thead>\n",
       "    <tr style=\"text-align: right;\">\n",
       "      <th></th>\n",
       "      <th>userId</th>\n",
       "      <th>movieId</th>\n",
       "      <th>tag</th>\n",
       "      <th>timestamp</th>\n",
       "    </tr>\n",
       "  </thead>\n",
       "  <tbody>\n",
       "    <tr>\n",
       "      <th>0</th>\n",
       "      <td>2</td>\n",
       "      <td>60756</td>\n",
       "      <td>funny</td>\n",
       "      <td>1445714994</td>\n",
       "    </tr>\n",
       "    <tr>\n",
       "      <th>1</th>\n",
       "      <td>2</td>\n",
       "      <td>60756</td>\n",
       "      <td>Highly quotable</td>\n",
       "      <td>1445714996</td>\n",
       "    </tr>\n",
       "    <tr>\n",
       "      <th>2</th>\n",
       "      <td>2</td>\n",
       "      <td>60756</td>\n",
       "      <td>will ferrell</td>\n",
       "      <td>1445714992</td>\n",
       "    </tr>\n",
       "    <tr>\n",
       "      <th>3</th>\n",
       "      <td>2</td>\n",
       "      <td>89774</td>\n",
       "      <td>Boxing story</td>\n",
       "      <td>1445715207</td>\n",
       "    </tr>\n",
       "    <tr>\n",
       "      <th>4</th>\n",
       "      <td>2</td>\n",
       "      <td>89774</td>\n",
       "      <td>MMA</td>\n",
       "      <td>1445715200</td>\n",
       "    </tr>\n",
       "  </tbody>\n",
       "</table>\n",
       "</div>"
      ],
      "text/plain": [
       "   userId  movieId              tag   timestamp\n",
       "0       2    60756            funny  1445714994\n",
       "1       2    60756  Highly quotable  1445714996\n",
       "2       2    60756     will ferrell  1445714992\n",
       "3       2    89774     Boxing story  1445715207\n",
       "4       2    89774              MMA  1445715200"
      ]
     },
     "execution_count": 40,
     "metadata": {},
     "output_type": "execute_result"
    }
   ],
   "source": [
    "# view the first 5 rows\n",
    "tags.head()"
   ]
  },
  {
   "cell_type": "code",
   "execution_count": 41,
   "id": "bec6f0cf",
   "metadata": {
    "ExecuteTime": {
     "end_time": "2023-03-16T02:04:57.215918Z",
     "start_time": "2023-03-16T02:04:57.206271Z"
    }
   },
   "outputs": [
    {
     "name": "stdout",
     "output_type": "stream",
     "text": [
      "<class 'pandas.core.frame.DataFrame'>\n",
      "RangeIndex: 3683 entries, 0 to 3682\n",
      "Data columns (total 4 columns):\n",
      " #   Column     Non-Null Count  Dtype \n",
      "---  ------     --------------  ----- \n",
      " 0   userId     3683 non-null   int64 \n",
      " 1   movieId    3683 non-null   int64 \n",
      " 2   tag        3683 non-null   object\n",
      " 3   timestamp  3683 non-null   int64 \n",
      "dtypes: int64(3), object(1)\n",
      "memory usage: 115.2+ KB\n"
     ]
    }
   ],
   "source": [
    "# view data types record counts\n",
    "tags.info()"
   ]
  },
  {
   "cell_type": "code",
   "execution_count": 42,
   "id": "f73d7d23",
   "metadata": {
    "ExecuteTime": {
     "end_time": "2023-03-16T02:04:57.966495Z",
     "start_time": "2023-03-16T02:04:57.959886Z"
    }
   },
   "outputs": [
    {
     "data": {
      "text/plain": [
       "userId       0\n",
       "movieId      0\n",
       "tag          0\n",
       "timestamp    0\n",
       "dtype: int64"
      ]
     },
     "execution_count": 42,
     "metadata": {},
     "output_type": "execute_result"
    }
   ],
   "source": [
    "# check for missing values within any columns\n",
    "tags.isna().sum()"
   ]
  },
  {
   "cell_type": "markdown",
   "id": "a57f37e3",
   "metadata": {},
   "source": [
    "### Movies"
   ]
  },
  {
   "cell_type": "code",
   "execution_count": 43,
   "id": "c82df3c1",
   "metadata": {
    "ExecuteTime": {
     "end_time": "2023-03-16T02:05:01.354156Z",
     "start_time": "2023-03-16T02:05:01.335133Z"
    }
   },
   "outputs": [],
   "source": [
    "# import ratings data file\n",
    "movies = pd.read_csv('ml-latest-small/movies.csv')"
   ]
  },
  {
   "cell_type": "code",
   "execution_count": 44,
   "id": "f5ea2faf",
   "metadata": {
    "ExecuteTime": {
     "end_time": "2023-03-16T02:05:06.103268Z",
     "start_time": "2023-03-16T02:05:06.095011Z"
    }
   },
   "outputs": [
    {
     "data": {
      "text/html": [
       "<div>\n",
       "<style scoped>\n",
       "    .dataframe tbody tr th:only-of-type {\n",
       "        vertical-align: middle;\n",
       "    }\n",
       "\n",
       "    .dataframe tbody tr th {\n",
       "        vertical-align: top;\n",
       "    }\n",
       "\n",
       "    .dataframe thead th {\n",
       "        text-align: right;\n",
       "    }\n",
       "</style>\n",
       "<table border=\"1\" class=\"dataframe\">\n",
       "  <thead>\n",
       "    <tr style=\"text-align: right;\">\n",
       "      <th></th>\n",
       "      <th>movieId</th>\n",
       "      <th>title</th>\n",
       "      <th>genres</th>\n",
       "    </tr>\n",
       "  </thead>\n",
       "  <tbody>\n",
       "    <tr>\n",
       "      <th>0</th>\n",
       "      <td>1</td>\n",
       "      <td>Toy Story (1995)</td>\n",
       "      <td>Adventure|Animation|Children|Comedy|Fantasy</td>\n",
       "    </tr>\n",
       "    <tr>\n",
       "      <th>1</th>\n",
       "      <td>2</td>\n",
       "      <td>Jumanji (1995)</td>\n",
       "      <td>Adventure|Children|Fantasy</td>\n",
       "    </tr>\n",
       "    <tr>\n",
       "      <th>2</th>\n",
       "      <td>3</td>\n",
       "      <td>Grumpier Old Men (1995)</td>\n",
       "      <td>Comedy|Romance</td>\n",
       "    </tr>\n",
       "    <tr>\n",
       "      <th>3</th>\n",
       "      <td>4</td>\n",
       "      <td>Waiting to Exhale (1995)</td>\n",
       "      <td>Comedy|Drama|Romance</td>\n",
       "    </tr>\n",
       "    <tr>\n",
       "      <th>4</th>\n",
       "      <td>5</td>\n",
       "      <td>Father of the Bride Part II (1995)</td>\n",
       "      <td>Comedy</td>\n",
       "    </tr>\n",
       "  </tbody>\n",
       "</table>\n",
       "</div>"
      ],
      "text/plain": [
       "   movieId                               title  \\\n",
       "0        1                    Toy Story (1995)   \n",
       "1        2                      Jumanji (1995)   \n",
       "2        3             Grumpier Old Men (1995)   \n",
       "3        4            Waiting to Exhale (1995)   \n",
       "4        5  Father of the Bride Part II (1995)   \n",
       "\n",
       "                                        genres  \n",
       "0  Adventure|Animation|Children|Comedy|Fantasy  \n",
       "1                   Adventure|Children|Fantasy  \n",
       "2                               Comedy|Romance  \n",
       "3                         Comedy|Drama|Romance  \n",
       "4                                       Comedy  "
      ]
     },
     "execution_count": 44,
     "metadata": {},
     "output_type": "execute_result"
    }
   ],
   "source": [
    "# view the first 5 rows\n",
    "movies.head()"
   ]
  },
  {
   "cell_type": "code",
   "execution_count": 52,
   "id": "779276fd",
   "metadata": {
    "ExecuteTime": {
     "end_time": "2023-03-16T02:13:26.706862Z",
     "start_time": "2023-03-16T02:13:26.696493Z"
    },
    "scrolled": true
   },
   "outputs": [
    {
     "name": "stdout",
     "output_type": "stream",
     "text": [
      "<class 'pandas.core.frame.DataFrame'>\n",
      "RangeIndex: 9742 entries, 0 to 9741\n",
      "Data columns (total 3 columns):\n",
      " #   Column   Non-Null Count  Dtype \n",
      "---  ------   --------------  ----- \n",
      " 0   movieId  9742 non-null   int64 \n",
      " 1   title    9742 non-null   object\n",
      " 2   genres   9742 non-null   object\n",
      "dtypes: int64(1), object(2)\n",
      "memory usage: 228.5+ KB\n"
     ]
    }
   ],
   "source": [
    "# view data types record counts\n",
    "movies.info()"
   ]
  },
  {
   "cell_type": "code",
   "execution_count": 53,
   "id": "e6ea9e06",
   "metadata": {
    "ExecuteTime": {
     "end_time": "2023-03-16T02:13:40.869516Z",
     "start_time": "2023-03-16T02:13:40.862666Z"
    },
    "scrolled": true
   },
   "outputs": [
    {
     "data": {
      "text/plain": [
       "movieId    0\n",
       "title      0\n",
       "genres     0\n",
       "dtype: int64"
      ]
     },
     "execution_count": 53,
     "metadata": {},
     "output_type": "execute_result"
    }
   ],
   "source": [
    "# check for missing values within any columns\n",
    "movies.isna().sum()"
   ]
  },
  {
   "cell_type": "code",
   "execution_count": 123,
   "id": "c51bf54f",
   "metadata": {
    "ExecuteTime": {
     "end_time": "2023-03-16T03:06:29.335899Z",
     "start_time": "2023-03-16T03:06:29.289846Z"
    }
   },
   "outputs": [
    {
     "data": {
      "text/html": [
       "<div>\n",
       "<style scoped>\n",
       "    .dataframe tbody tr th:only-of-type {\n",
       "        vertical-align: middle;\n",
       "    }\n",
       "\n",
       "    .dataframe tbody tr th {\n",
       "        vertical-align: top;\n",
       "    }\n",
       "\n",
       "    .dataframe thead th {\n",
       "        text-align: right;\n",
       "    }\n",
       "</style>\n",
       "<table border=\"1\" class=\"dataframe\">\n",
       "  <thead>\n",
       "    <tr style=\"text-align: right;\">\n",
       "      <th></th>\n",
       "      <th>genre_0</th>\n",
       "      <th>genre_1</th>\n",
       "      <th>genre_2</th>\n",
       "      <th>genre_3</th>\n",
       "      <th>genre_4</th>\n",
       "      <th>genre_5</th>\n",
       "      <th>genre_6</th>\n",
       "      <th>genre_7</th>\n",
       "      <th>genre_8</th>\n",
       "      <th>genre_9</th>\n",
       "    </tr>\n",
       "  </thead>\n",
       "  <tbody>\n",
       "    <tr>\n",
       "      <th>0</th>\n",
       "      <td>Adventure</td>\n",
       "      <td>Animation</td>\n",
       "      <td>Children</td>\n",
       "      <td>Comedy</td>\n",
       "      <td>Fantasy</td>\n",
       "      <td>None</td>\n",
       "      <td>None</td>\n",
       "      <td>None</td>\n",
       "      <td>None</td>\n",
       "      <td>None</td>\n",
       "    </tr>\n",
       "    <tr>\n",
       "      <th>1</th>\n",
       "      <td>Adventure</td>\n",
       "      <td>Children</td>\n",
       "      <td>Fantasy</td>\n",
       "      <td>None</td>\n",
       "      <td>None</td>\n",
       "      <td>None</td>\n",
       "      <td>None</td>\n",
       "      <td>None</td>\n",
       "      <td>None</td>\n",
       "      <td>None</td>\n",
       "    </tr>\n",
       "    <tr>\n",
       "      <th>2</th>\n",
       "      <td>Comedy</td>\n",
       "      <td>Romance</td>\n",
       "      <td>None</td>\n",
       "      <td>None</td>\n",
       "      <td>None</td>\n",
       "      <td>None</td>\n",
       "      <td>None</td>\n",
       "      <td>None</td>\n",
       "      <td>None</td>\n",
       "      <td>None</td>\n",
       "    </tr>\n",
       "    <tr>\n",
       "      <th>3</th>\n",
       "      <td>Comedy</td>\n",
       "      <td>Drama</td>\n",
       "      <td>Romance</td>\n",
       "      <td>None</td>\n",
       "      <td>None</td>\n",
       "      <td>None</td>\n",
       "      <td>None</td>\n",
       "      <td>None</td>\n",
       "      <td>None</td>\n",
       "      <td>None</td>\n",
       "    </tr>\n",
       "    <tr>\n",
       "      <th>4</th>\n",
       "      <td>Comedy</td>\n",
       "      <td>None</td>\n",
       "      <td>None</td>\n",
       "      <td>None</td>\n",
       "      <td>None</td>\n",
       "      <td>None</td>\n",
       "      <td>None</td>\n",
       "      <td>None</td>\n",
       "      <td>None</td>\n",
       "      <td>None</td>\n",
       "    </tr>\n",
       "  </tbody>\n",
       "</table>\n",
       "</div>"
      ],
      "text/plain": [
       "     genre_0    genre_1   genre_2 genre_3  genre_4 genre_5 genre_6 genre_7  \\\n",
       "0  Adventure  Animation  Children  Comedy  Fantasy    None    None    None   \n",
       "1  Adventure   Children   Fantasy    None     None    None    None    None   \n",
       "2     Comedy    Romance      None    None     None    None    None    None   \n",
       "3     Comedy      Drama   Romance    None     None    None    None    None   \n",
       "4     Comedy       None      None    None     None    None    None    None   \n",
       "\n",
       "  genre_8 genre_9  \n",
       "0    None    None  \n",
       "1    None    None  \n",
       "2    None    None  \n",
       "3    None    None  \n",
       "4    None    None  "
      ]
     },
     "execution_count": 123,
     "metadata": {},
     "output_type": "execute_result"
    }
   ],
   "source": [
    "# split out genres\n",
    "movie_genres = movies.genres.str.split(\"|\", expand = True).add_prefix('genre_')\n",
    "movie_genres.head()"
   ]
  },
  {
   "cell_type": "code",
   "execution_count": 124,
   "id": "bb2070c0",
   "metadata": {
    "ExecuteTime": {
     "end_time": "2023-03-16T03:06:31.783841Z",
     "start_time": "2023-03-16T03:06:31.773565Z"
    }
   },
   "outputs": [],
   "source": [
    "# concat df back together\n",
    "movies_2 = pd.concat([movies, movie_genres], axis=1)\n",
    "\n",
    "# drop old genres column\n",
    "movies_2.drop('genres', axis=1, inplace=True)"
   ]
  },
  {
   "cell_type": "code",
   "execution_count": 125,
   "id": "ab035c74",
   "metadata": {
    "ExecuteTime": {
     "end_time": "2023-03-16T03:06:32.742957Z",
     "start_time": "2023-03-16T03:06:32.729178Z"
    },
    "scrolled": true
   },
   "outputs": [
    {
     "data": {
      "text/html": [
       "<div>\n",
       "<style scoped>\n",
       "    .dataframe tbody tr th:only-of-type {\n",
       "        vertical-align: middle;\n",
       "    }\n",
       "\n",
       "    .dataframe tbody tr th {\n",
       "        vertical-align: top;\n",
       "    }\n",
       "\n",
       "    .dataframe thead th {\n",
       "        text-align: right;\n",
       "    }\n",
       "</style>\n",
       "<table border=\"1\" class=\"dataframe\">\n",
       "  <thead>\n",
       "    <tr style=\"text-align: right;\">\n",
       "      <th></th>\n",
       "      <th>movieId</th>\n",
       "      <th>title</th>\n",
       "      <th>genre_0</th>\n",
       "      <th>genre_1</th>\n",
       "      <th>genre_2</th>\n",
       "      <th>genre_3</th>\n",
       "      <th>genre_4</th>\n",
       "      <th>genre_5</th>\n",
       "      <th>genre_6</th>\n",
       "      <th>genre_7</th>\n",
       "      <th>genre_8</th>\n",
       "      <th>genre_9</th>\n",
       "    </tr>\n",
       "  </thead>\n",
       "  <tbody>\n",
       "    <tr>\n",
       "      <th>0</th>\n",
       "      <td>1</td>\n",
       "      <td>Toy Story (1995)</td>\n",
       "      <td>Adventure</td>\n",
       "      <td>Animation</td>\n",
       "      <td>Children</td>\n",
       "      <td>Comedy</td>\n",
       "      <td>Fantasy</td>\n",
       "      <td>None</td>\n",
       "      <td>None</td>\n",
       "      <td>None</td>\n",
       "      <td>None</td>\n",
       "      <td>None</td>\n",
       "    </tr>\n",
       "    <tr>\n",
       "      <th>1</th>\n",
       "      <td>2</td>\n",
       "      <td>Jumanji (1995)</td>\n",
       "      <td>Adventure</td>\n",
       "      <td>Children</td>\n",
       "      <td>Fantasy</td>\n",
       "      <td>None</td>\n",
       "      <td>None</td>\n",
       "      <td>None</td>\n",
       "      <td>None</td>\n",
       "      <td>None</td>\n",
       "      <td>None</td>\n",
       "      <td>None</td>\n",
       "    </tr>\n",
       "    <tr>\n",
       "      <th>2</th>\n",
       "      <td>3</td>\n",
       "      <td>Grumpier Old Men (1995)</td>\n",
       "      <td>Comedy</td>\n",
       "      <td>Romance</td>\n",
       "      <td>None</td>\n",
       "      <td>None</td>\n",
       "      <td>None</td>\n",
       "      <td>None</td>\n",
       "      <td>None</td>\n",
       "      <td>None</td>\n",
       "      <td>None</td>\n",
       "      <td>None</td>\n",
       "    </tr>\n",
       "    <tr>\n",
       "      <th>3</th>\n",
       "      <td>4</td>\n",
       "      <td>Waiting to Exhale (1995)</td>\n",
       "      <td>Comedy</td>\n",
       "      <td>Drama</td>\n",
       "      <td>Romance</td>\n",
       "      <td>None</td>\n",
       "      <td>None</td>\n",
       "      <td>None</td>\n",
       "      <td>None</td>\n",
       "      <td>None</td>\n",
       "      <td>None</td>\n",
       "      <td>None</td>\n",
       "    </tr>\n",
       "    <tr>\n",
       "      <th>4</th>\n",
       "      <td>5</td>\n",
       "      <td>Father of the Bride Part II (1995)</td>\n",
       "      <td>Comedy</td>\n",
       "      <td>None</td>\n",
       "      <td>None</td>\n",
       "      <td>None</td>\n",
       "      <td>None</td>\n",
       "      <td>None</td>\n",
       "      <td>None</td>\n",
       "      <td>None</td>\n",
       "      <td>None</td>\n",
       "      <td>None</td>\n",
       "    </tr>\n",
       "  </tbody>\n",
       "</table>\n",
       "</div>"
      ],
      "text/plain": [
       "   movieId                               title    genre_0    genre_1  \\\n",
       "0        1                    Toy Story (1995)  Adventure  Animation   \n",
       "1        2                      Jumanji (1995)  Adventure   Children   \n",
       "2        3             Grumpier Old Men (1995)     Comedy    Romance   \n",
       "3        4            Waiting to Exhale (1995)     Comedy      Drama   \n",
       "4        5  Father of the Bride Part II (1995)     Comedy       None   \n",
       "\n",
       "    genre_2 genre_3  genre_4 genre_5 genre_6 genre_7 genre_8 genre_9  \n",
       "0  Children  Comedy  Fantasy    None    None    None    None    None  \n",
       "1   Fantasy    None     None    None    None    None    None    None  \n",
       "2      None    None     None    None    None    None    None    None  \n",
       "3   Romance    None     None    None    None    None    None    None  \n",
       "4      None    None     None    None    None    None    None    None  "
      ]
     },
     "execution_count": 125,
     "metadata": {},
     "output_type": "execute_result"
    }
   ],
   "source": [
    "# view first 5 rows\n",
    "movies_2.head()"
   ]
  },
  {
   "cell_type": "markdown",
   "id": "d09b9ed9",
   "metadata": {},
   "source": [
    "This looks great, however, I don't like how a single genre column could have more than one value.  It is hard for us to tell which are westerns as we would need to traverse multiple columns.  I am going to create now single columns for each genre, and a boolean flag so we can tell at a glance the movies and genre distributions."
   ]
  },
  {
   "cell_type": "code",
   "execution_count": 126,
   "id": "0783e4cd",
   "metadata": {
    "ExecuteTime": {
     "end_time": "2023-03-16T03:06:39.699944Z",
     "start_time": "2023-03-16T03:06:39.692487Z"
    }
   },
   "outputs": [
    {
     "data": {
      "text/plain": [
       "Comedy                2779\n",
       "Drama                 2226\n",
       "Action                1828\n",
       "Adventure              653\n",
       "Crime                  537\n",
       "Horror                 468\n",
       "Documentary            386\n",
       "Animation              298\n",
       "Children               197\n",
       "Thriller                84\n",
       "Sci-Fi                  62\n",
       "Mystery                 48\n",
       "Fantasy                 42\n",
       "Romance                 38\n",
       "(no genres listed)      34\n",
       "Western                 23\n",
       "Musical                 23\n",
       "Film-Noir               12\n",
       "War                      4\n",
       "Name: genre_0, dtype: int64"
      ]
     },
     "execution_count": 126,
     "metadata": {},
     "output_type": "execute_result"
    }
   ],
   "source": [
    "# viewing the first column of genres to start splitting out into our denormalized data frame\n",
    "movies_2['genre_0'].value_counts()"
   ]
  },
  {
   "cell_type": "code",
   "execution_count": 150,
   "id": "a2524f55",
   "metadata": {
    "ExecuteTime": {
     "end_time": "2023-03-16T03:10:49.619962Z",
     "start_time": "2023-03-16T03:10:49.617298Z"
    }
   },
   "outputs": [],
   "source": [
    "movies_denormal = movies"
   ]
  },
  {
   "cell_type": "code",
   "execution_count": 151,
   "id": "fc048af9",
   "metadata": {
    "ExecuteTime": {
     "end_time": "2023-03-16T03:10:49.764934Z",
     "start_time": "2023-03-16T03:10:49.753157Z"
    }
   },
   "outputs": [],
   "source": [
    "# comedies\n",
    "movies_denormal['Comedy'] = movies['genres'].str.contains(\"Comedy\", case=False)"
   ]
  },
  {
   "cell_type": "code",
   "execution_count": 152,
   "id": "244a09ed",
   "metadata": {
    "ExecuteTime": {
     "end_time": "2023-03-16T03:10:49.933235Z",
     "start_time": "2023-03-16T03:10:49.919664Z"
    }
   },
   "outputs": [],
   "source": [
    "# drama\n",
    "movies_denormal['Drama'] = movies['genres'].str.contains(\"Drama\", case=False)"
   ]
  },
  {
   "cell_type": "code",
   "execution_count": 153,
   "id": "a03db27c",
   "metadata": {
    "ExecuteTime": {
     "end_time": "2023-03-16T03:10:50.099677Z",
     "start_time": "2023-03-16T03:10:50.088819Z"
    }
   },
   "outputs": [],
   "source": [
    "# action\n",
    "movies_denormal['Action'] = movies['genres'].str.contains(\"Action\", case=False)"
   ]
  },
  {
   "cell_type": "code",
   "execution_count": 154,
   "id": "965fd6e5",
   "metadata": {
    "ExecuteTime": {
     "end_time": "2023-03-16T03:10:50.269609Z",
     "start_time": "2023-03-16T03:10:50.257324Z"
    }
   },
   "outputs": [],
   "source": [
    "# adventure\n",
    "movies_denormal['Adventure'] = movies['genres'].str.contains(\"Adventure\", case=False)"
   ]
  },
  {
   "cell_type": "code",
   "execution_count": 155,
   "id": "2415d49e",
   "metadata": {
    "ExecuteTime": {
     "end_time": "2023-03-16T03:10:50.427117Z",
     "start_time": "2023-03-16T03:10:50.415310Z"
    }
   },
   "outputs": [],
   "source": [
    "# crime\n",
    "movies_denormal['Crime'] = movies['genres'].str.contains(\"Crime\", case=False)"
   ]
  },
  {
   "cell_type": "code",
   "execution_count": 156,
   "id": "6a82dd73",
   "metadata": {
    "ExecuteTime": {
     "end_time": "2023-03-16T03:10:50.583522Z",
     "start_time": "2023-03-16T03:10:50.572624Z"
    }
   },
   "outputs": [],
   "source": [
    "# horror\n",
    "movies_denormal['Horror'] = movies['genres'].str.contains(\"Horror\", case=False)"
   ]
  },
  {
   "cell_type": "code",
   "execution_count": 157,
   "id": "635d5d0d",
   "metadata": {
    "ExecuteTime": {
     "end_time": "2023-03-16T03:10:50.763144Z",
     "start_time": "2023-03-16T03:10:50.752510Z"
    }
   },
   "outputs": [],
   "source": [
    "# documentary\n",
    "movies_denormal['Documentary'] = movies['genres'].str.contains(\"Documentary\", case=False)"
   ]
  },
  {
   "cell_type": "code",
   "execution_count": 158,
   "id": "96340915",
   "metadata": {
    "ExecuteTime": {
     "end_time": "2023-03-16T03:10:50.957699Z",
     "start_time": "2023-03-16T03:10:50.947359Z"
    }
   },
   "outputs": [],
   "source": [
    "# animation\n",
    "movies_denormal['Animation'] = movies['genres'].str.contains(\"Animation\", case=False)"
   ]
  },
  {
   "cell_type": "code",
   "execution_count": 159,
   "id": "3d9b9fe0",
   "metadata": {
    "ExecuteTime": {
     "end_time": "2023-03-16T03:10:51.167375Z",
     "start_time": "2023-03-16T03:10:51.156667Z"
    }
   },
   "outputs": [],
   "source": [
    "# children\n",
    "movies_denormal['Children'] = movies['genres'].str.contains(\"Children\", case=False)"
   ]
  },
  {
   "cell_type": "code",
   "execution_count": 160,
   "id": "b617d65a",
   "metadata": {
    "ExecuteTime": {
     "end_time": "2023-03-16T03:10:51.375239Z",
     "start_time": "2023-03-16T03:10:51.364310Z"
    }
   },
   "outputs": [],
   "source": [
    "# thriller\n",
    "movies_denormal['Thriller'] = movies['genres'].str.contains(\"Thriller\", case=False)"
   ]
  },
  {
   "cell_type": "code",
   "execution_count": 161,
   "id": "136cbc2e",
   "metadata": {
    "ExecuteTime": {
     "end_time": "2023-03-16T03:10:51.543655Z",
     "start_time": "2023-03-16T03:10:51.531083Z"
    }
   },
   "outputs": [],
   "source": [
    "# sci-fi\n",
    "movies_denormal['Sci_Fi'] = movies['genres'].str.contains(\"Sci-Fi\", case=False)"
   ]
  },
  {
   "cell_type": "code",
   "execution_count": 162,
   "id": "869d226f",
   "metadata": {
    "ExecuteTime": {
     "end_time": "2023-03-16T03:10:51.741734Z",
     "start_time": "2023-03-16T03:10:51.731086Z"
    },
    "code_folding": []
   },
   "outputs": [],
   "source": [
    "# mystery\n",
    "movies_denormal['Mystery'] = movies['genres'].str.contains(\"Mystery\", case=False)"
   ]
  },
  {
   "cell_type": "code",
   "execution_count": 163,
   "id": "88666cd8",
   "metadata": {
    "ExecuteTime": {
     "end_time": "2023-03-16T03:10:51.958479Z",
     "start_time": "2023-03-16T03:10:51.948137Z"
    }
   },
   "outputs": [],
   "source": [
    "# fantasy\n",
    "movies_denormal['Fantasy'] = movies['genres'].str.contains(\"Fantasy\", case=False)"
   ]
  },
  {
   "cell_type": "code",
   "execution_count": 164,
   "id": "47136cff",
   "metadata": {
    "ExecuteTime": {
     "end_time": "2023-03-16T03:10:52.191975Z",
     "start_time": "2023-03-16T03:10:52.181256Z"
    }
   },
   "outputs": [],
   "source": [
    "# romance\n",
    "movies_denormal['Romance'] = movies['genres'].str.contains(\"Romance\", case=False)"
   ]
  },
  {
   "cell_type": "code",
   "execution_count": 165,
   "id": "2246c2eb",
   "metadata": {
    "ExecuteTime": {
     "end_time": "2023-03-16T03:10:52.978929Z",
     "start_time": "2023-03-16T03:10:52.969460Z"
    }
   },
   "outputs": [
    {
     "name": "stderr",
     "output_type": "stream",
     "text": [
      "/Users/heathrittler/opt/anaconda3/envs/learn-env/lib/python3.8/site-packages/pandas/core/strings.py:2001: UserWarning: This pattern has match groups. To actually get the groups, use str.extract.\n",
      "  return func(self, *args, **kwargs)\n"
     ]
    }
   ],
   "source": [
    "# (no genres listed)\n",
    "movies_denormal['(no genres listed)'] = movies['genres'].str.contains(\"(no genres listed)\", case=False)"
   ]
  },
  {
   "cell_type": "code",
   "execution_count": 166,
   "id": "09829020",
   "metadata": {
    "ExecuteTime": {
     "end_time": "2023-03-16T03:10:53.564622Z",
     "start_time": "2023-03-16T03:10:53.554434Z"
    }
   },
   "outputs": [],
   "source": [
    "# western\n",
    "movies_denormal['Western'] = movies['genres'].str.contains(\"Western\", case=False)"
   ]
  },
  {
   "cell_type": "code",
   "execution_count": 167,
   "id": "2b66a967",
   "metadata": {
    "ExecuteTime": {
     "end_time": "2023-03-16T03:10:54.017375Z",
     "start_time": "2023-03-16T03:10:54.005563Z"
    }
   },
   "outputs": [],
   "source": [
    "# musical\n",
    "movies_denormal['Musical'] = movies['genres'].str.contains(\"Musical\", case=False)"
   ]
  },
  {
   "cell_type": "code",
   "execution_count": 168,
   "id": "c06064d8",
   "metadata": {
    "ExecuteTime": {
     "end_time": "2023-03-16T03:10:54.409844Z",
     "start_time": "2023-03-16T03:10:54.399695Z"
    }
   },
   "outputs": [],
   "source": [
    "# rilm-noir\n",
    "movies_denormal['Film-Noir'] = movies['genres'].str.contains(\"Film-Noir\", case=False)"
   ]
  },
  {
   "cell_type": "code",
   "execution_count": 169,
   "id": "9f92f202",
   "metadata": {
    "ExecuteTime": {
     "end_time": "2023-03-16T03:10:54.660717Z",
     "start_time": "2023-03-16T03:10:54.649246Z"
    }
   },
   "outputs": [],
   "source": [
    "# war\n",
    "movies_denormal['War'] = movies['genres'].str.contains(\"War\", case=False)"
   ]
  },
  {
   "cell_type": "code",
   "execution_count": 170,
   "id": "31d3743f",
   "metadata": {
    "ExecuteTime": {
     "end_time": "2023-03-16T03:10:54.920196Z",
     "start_time": "2023-03-16T03:10:54.884822Z"
    },
    "scrolled": false
   },
   "outputs": [
    {
     "data": {
      "text/html": [
       "<div>\n",
       "<style scoped>\n",
       "    .dataframe tbody tr th:only-of-type {\n",
       "        vertical-align: middle;\n",
       "    }\n",
       "\n",
       "    .dataframe tbody tr th {\n",
       "        vertical-align: top;\n",
       "    }\n",
       "\n",
       "    .dataframe thead th {\n",
       "        text-align: right;\n",
       "    }\n",
       "</style>\n",
       "<table border=\"1\" class=\"dataframe\">\n",
       "  <thead>\n",
       "    <tr style=\"text-align: right;\">\n",
       "      <th></th>\n",
       "      <th>movieId</th>\n",
       "      <th>title</th>\n",
       "      <th>Comedy</th>\n",
       "      <th>Drama</th>\n",
       "      <th>Action</th>\n",
       "      <th>Crime</th>\n",
       "      <th>Horror</th>\n",
       "      <th>Documentary</th>\n",
       "      <th>Animation</th>\n",
       "      <th>Children</th>\n",
       "      <th>...</th>\n",
       "      <th>Sci_Fi</th>\n",
       "      <th>Mystery</th>\n",
       "      <th>Fantasy</th>\n",
       "      <th>Romance</th>\n",
       "      <th>(no genres listed)</th>\n",
       "      <th>Western</th>\n",
       "      <th>Musical</th>\n",
       "      <th>Film-Noir</th>\n",
       "      <th>War</th>\n",
       "      <th>Adventure</th>\n",
       "    </tr>\n",
       "  </thead>\n",
       "  <tbody>\n",
       "    <tr>\n",
       "      <th>0</th>\n",
       "      <td>1</td>\n",
       "      <td>Toy Story (1995)</td>\n",
       "      <td>True</td>\n",
       "      <td>False</td>\n",
       "      <td>False</td>\n",
       "      <td>False</td>\n",
       "      <td>False</td>\n",
       "      <td>False</td>\n",
       "      <td>True</td>\n",
       "      <td>True</td>\n",
       "      <td>...</td>\n",
       "      <td>False</td>\n",
       "      <td>False</td>\n",
       "      <td>True</td>\n",
       "      <td>False</td>\n",
       "      <td>False</td>\n",
       "      <td>False</td>\n",
       "      <td>False</td>\n",
       "      <td>False</td>\n",
       "      <td>False</td>\n",
       "      <td>True</td>\n",
       "    </tr>\n",
       "    <tr>\n",
       "      <th>1</th>\n",
       "      <td>2</td>\n",
       "      <td>Jumanji (1995)</td>\n",
       "      <td>False</td>\n",
       "      <td>False</td>\n",
       "      <td>False</td>\n",
       "      <td>False</td>\n",
       "      <td>False</td>\n",
       "      <td>False</td>\n",
       "      <td>False</td>\n",
       "      <td>True</td>\n",
       "      <td>...</td>\n",
       "      <td>False</td>\n",
       "      <td>False</td>\n",
       "      <td>True</td>\n",
       "      <td>False</td>\n",
       "      <td>False</td>\n",
       "      <td>False</td>\n",
       "      <td>False</td>\n",
       "      <td>False</td>\n",
       "      <td>False</td>\n",
       "      <td>True</td>\n",
       "    </tr>\n",
       "    <tr>\n",
       "      <th>2</th>\n",
       "      <td>3</td>\n",
       "      <td>Grumpier Old Men (1995)</td>\n",
       "      <td>True</td>\n",
       "      <td>False</td>\n",
       "      <td>False</td>\n",
       "      <td>False</td>\n",
       "      <td>False</td>\n",
       "      <td>False</td>\n",
       "      <td>False</td>\n",
       "      <td>False</td>\n",
       "      <td>...</td>\n",
       "      <td>False</td>\n",
       "      <td>False</td>\n",
       "      <td>False</td>\n",
       "      <td>True</td>\n",
       "      <td>False</td>\n",
       "      <td>False</td>\n",
       "      <td>False</td>\n",
       "      <td>False</td>\n",
       "      <td>False</td>\n",
       "      <td>False</td>\n",
       "    </tr>\n",
       "    <tr>\n",
       "      <th>3</th>\n",
       "      <td>4</td>\n",
       "      <td>Waiting to Exhale (1995)</td>\n",
       "      <td>True</td>\n",
       "      <td>True</td>\n",
       "      <td>False</td>\n",
       "      <td>False</td>\n",
       "      <td>False</td>\n",
       "      <td>False</td>\n",
       "      <td>False</td>\n",
       "      <td>False</td>\n",
       "      <td>...</td>\n",
       "      <td>False</td>\n",
       "      <td>False</td>\n",
       "      <td>False</td>\n",
       "      <td>True</td>\n",
       "      <td>False</td>\n",
       "      <td>False</td>\n",
       "      <td>False</td>\n",
       "      <td>False</td>\n",
       "      <td>False</td>\n",
       "      <td>False</td>\n",
       "    </tr>\n",
       "    <tr>\n",
       "      <th>4</th>\n",
       "      <td>5</td>\n",
       "      <td>Father of the Bride Part II (1995)</td>\n",
       "      <td>True</td>\n",
       "      <td>False</td>\n",
       "      <td>False</td>\n",
       "      <td>False</td>\n",
       "      <td>False</td>\n",
       "      <td>False</td>\n",
       "      <td>False</td>\n",
       "      <td>False</td>\n",
       "      <td>...</td>\n",
       "      <td>False</td>\n",
       "      <td>False</td>\n",
       "      <td>False</td>\n",
       "      <td>False</td>\n",
       "      <td>False</td>\n",
       "      <td>False</td>\n",
       "      <td>False</td>\n",
       "      <td>False</td>\n",
       "      <td>False</td>\n",
       "      <td>False</td>\n",
       "    </tr>\n",
       "    <tr>\n",
       "      <th>...</th>\n",
       "      <td>...</td>\n",
       "      <td>...</td>\n",
       "      <td>...</td>\n",
       "      <td>...</td>\n",
       "      <td>...</td>\n",
       "      <td>...</td>\n",
       "      <td>...</td>\n",
       "      <td>...</td>\n",
       "      <td>...</td>\n",
       "      <td>...</td>\n",
       "      <td>...</td>\n",
       "      <td>...</td>\n",
       "      <td>...</td>\n",
       "      <td>...</td>\n",
       "      <td>...</td>\n",
       "      <td>...</td>\n",
       "      <td>...</td>\n",
       "      <td>...</td>\n",
       "      <td>...</td>\n",
       "      <td>...</td>\n",
       "      <td>...</td>\n",
       "    </tr>\n",
       "    <tr>\n",
       "      <th>9737</th>\n",
       "      <td>193581</td>\n",
       "      <td>Black Butler: Book of the Atlantic (2017)</td>\n",
       "      <td>True</td>\n",
       "      <td>False</td>\n",
       "      <td>True</td>\n",
       "      <td>False</td>\n",
       "      <td>False</td>\n",
       "      <td>False</td>\n",
       "      <td>True</td>\n",
       "      <td>False</td>\n",
       "      <td>...</td>\n",
       "      <td>False</td>\n",
       "      <td>False</td>\n",
       "      <td>True</td>\n",
       "      <td>False</td>\n",
       "      <td>False</td>\n",
       "      <td>False</td>\n",
       "      <td>False</td>\n",
       "      <td>False</td>\n",
       "      <td>False</td>\n",
       "      <td>False</td>\n",
       "    </tr>\n",
       "    <tr>\n",
       "      <th>9738</th>\n",
       "      <td>193583</td>\n",
       "      <td>No Game No Life: Zero (2017)</td>\n",
       "      <td>True</td>\n",
       "      <td>False</td>\n",
       "      <td>False</td>\n",
       "      <td>False</td>\n",
       "      <td>False</td>\n",
       "      <td>False</td>\n",
       "      <td>True</td>\n",
       "      <td>False</td>\n",
       "      <td>...</td>\n",
       "      <td>False</td>\n",
       "      <td>False</td>\n",
       "      <td>True</td>\n",
       "      <td>False</td>\n",
       "      <td>False</td>\n",
       "      <td>False</td>\n",
       "      <td>False</td>\n",
       "      <td>False</td>\n",
       "      <td>False</td>\n",
       "      <td>False</td>\n",
       "    </tr>\n",
       "    <tr>\n",
       "      <th>9739</th>\n",
       "      <td>193585</td>\n",
       "      <td>Flint (2017)</td>\n",
       "      <td>False</td>\n",
       "      <td>True</td>\n",
       "      <td>False</td>\n",
       "      <td>False</td>\n",
       "      <td>False</td>\n",
       "      <td>False</td>\n",
       "      <td>False</td>\n",
       "      <td>False</td>\n",
       "      <td>...</td>\n",
       "      <td>False</td>\n",
       "      <td>False</td>\n",
       "      <td>False</td>\n",
       "      <td>False</td>\n",
       "      <td>False</td>\n",
       "      <td>False</td>\n",
       "      <td>False</td>\n",
       "      <td>False</td>\n",
       "      <td>False</td>\n",
       "      <td>False</td>\n",
       "    </tr>\n",
       "    <tr>\n",
       "      <th>9740</th>\n",
       "      <td>193587</td>\n",
       "      <td>Bungo Stray Dogs: Dead Apple (2018)</td>\n",
       "      <td>False</td>\n",
       "      <td>False</td>\n",
       "      <td>True</td>\n",
       "      <td>False</td>\n",
       "      <td>False</td>\n",
       "      <td>False</td>\n",
       "      <td>True</td>\n",
       "      <td>False</td>\n",
       "      <td>...</td>\n",
       "      <td>False</td>\n",
       "      <td>False</td>\n",
       "      <td>False</td>\n",
       "      <td>False</td>\n",
       "      <td>False</td>\n",
       "      <td>False</td>\n",
       "      <td>False</td>\n",
       "      <td>False</td>\n",
       "      <td>False</td>\n",
       "      <td>False</td>\n",
       "    </tr>\n",
       "    <tr>\n",
       "      <th>9741</th>\n",
       "      <td>193609</td>\n",
       "      <td>Andrew Dice Clay: Dice Rules (1991)</td>\n",
       "      <td>True</td>\n",
       "      <td>False</td>\n",
       "      <td>False</td>\n",
       "      <td>False</td>\n",
       "      <td>False</td>\n",
       "      <td>False</td>\n",
       "      <td>False</td>\n",
       "      <td>False</td>\n",
       "      <td>...</td>\n",
       "      <td>False</td>\n",
       "      <td>False</td>\n",
       "      <td>False</td>\n",
       "      <td>False</td>\n",
       "      <td>False</td>\n",
       "      <td>False</td>\n",
       "      <td>False</td>\n",
       "      <td>False</td>\n",
       "      <td>False</td>\n",
       "      <td>False</td>\n",
       "    </tr>\n",
       "  </tbody>\n",
       "</table>\n",
       "<p>9742 rows × 21 columns</p>\n",
       "</div>"
      ],
      "text/plain": [
       "      movieId                                      title  Comedy  Drama  \\\n",
       "0           1                           Toy Story (1995)    True  False   \n",
       "1           2                             Jumanji (1995)   False  False   \n",
       "2           3                    Grumpier Old Men (1995)    True  False   \n",
       "3           4                   Waiting to Exhale (1995)    True   True   \n",
       "4           5         Father of the Bride Part II (1995)    True  False   \n",
       "...       ...                                        ...     ...    ...   \n",
       "9737   193581  Black Butler: Book of the Atlantic (2017)    True  False   \n",
       "9738   193583               No Game No Life: Zero (2017)    True  False   \n",
       "9739   193585                               Flint (2017)   False   True   \n",
       "9740   193587        Bungo Stray Dogs: Dead Apple (2018)   False  False   \n",
       "9741   193609        Andrew Dice Clay: Dice Rules (1991)    True  False   \n",
       "\n",
       "      Action  Crime  Horror  Documentary  Animation  Children  ...  Sci_Fi  \\\n",
       "0      False  False   False        False       True      True  ...   False   \n",
       "1      False  False   False        False      False      True  ...   False   \n",
       "2      False  False   False        False      False     False  ...   False   \n",
       "3      False  False   False        False      False     False  ...   False   \n",
       "4      False  False   False        False      False     False  ...   False   \n",
       "...      ...    ...     ...          ...        ...       ...  ...     ...   \n",
       "9737    True  False   False        False       True     False  ...   False   \n",
       "9738   False  False   False        False       True     False  ...   False   \n",
       "9739   False  False   False        False      False     False  ...   False   \n",
       "9740    True  False   False        False       True     False  ...   False   \n",
       "9741   False  False   False        False      False     False  ...   False   \n",
       "\n",
       "      Mystery  Fantasy  Romance  (no genres listed)  Western  Musical  \\\n",
       "0       False     True    False               False    False    False   \n",
       "1       False     True    False               False    False    False   \n",
       "2       False    False     True               False    False    False   \n",
       "3       False    False     True               False    False    False   \n",
       "4       False    False    False               False    False    False   \n",
       "...       ...      ...      ...                 ...      ...      ...   \n",
       "9737    False     True    False               False    False    False   \n",
       "9738    False     True    False               False    False    False   \n",
       "9739    False    False    False               False    False    False   \n",
       "9740    False    False    False               False    False    False   \n",
       "9741    False    False    False               False    False    False   \n",
       "\n",
       "      Film-Noir    War  Adventure  \n",
       "0         False  False       True  \n",
       "1         False  False       True  \n",
       "2         False  False      False  \n",
       "3         False  False      False  \n",
       "4         False  False      False  \n",
       "...         ...    ...        ...  \n",
       "9737      False  False      False  \n",
       "9738      False  False      False  \n",
       "9739      False  False      False  \n",
       "9740      False  False      False  \n",
       "9741      False  False      False  \n",
       "\n",
       "[9742 rows x 21 columns]"
      ]
     },
     "execution_count": 170,
     "metadata": {},
     "output_type": "execute_result"
    }
   ],
   "source": [
    "# now let's remove our string/ concatenated genres column\n",
    "movies_denormal.drop('genres', axis=1)"
   ]
  },
  {
   "cell_type": "markdown",
   "id": "74dbfe9f",
   "metadata": {},
   "source": [
    "This now looks much better and will be easier to work with as we move forward with our EDA.  Worst case scenario, we transform back into one of the previous versions with movies, or movies2 datasets.  Now going to move on to further denomalize our data set by joining the other files onto a single data frame."
   ]
  },
  {
   "cell_type": "markdown",
   "id": "0a19ae14",
   "metadata": {},
   "source": [
    "### Join datasets together"
   ]
  },
  {
   "cell_type": "code",
   "execution_count": 58,
   "id": "8488fa6c",
   "metadata": {
    "ExecuteTime": {
     "end_time": "2023-03-16T02:18:34.188092Z",
     "start_time": "2023-03-16T02:18:34.145313Z"
    },
    "scrolled": true
   },
   "outputs": [
    {
     "data": {
      "text/html": [
       "<div>\n",
       "<style scoped>\n",
       "    .dataframe tbody tr th:only-of-type {\n",
       "        vertical-align: middle;\n",
       "    }\n",
       "\n",
       "    .dataframe tbody tr th {\n",
       "        vertical-align: top;\n",
       "    }\n",
       "\n",
       "    .dataframe thead th {\n",
       "        text-align: right;\n",
       "    }\n",
       "</style>\n",
       "<table border=\"1\" class=\"dataframe\">\n",
       "  <thead>\n",
       "    <tr style=\"text-align: right;\">\n",
       "      <th></th>\n",
       "      <th>userId</th>\n",
       "      <th>movieId</th>\n",
       "      <th>rating</th>\n",
       "      <th>timestamp</th>\n",
       "      <th>title</th>\n",
       "      <th>genres</th>\n",
       "    </tr>\n",
       "  </thead>\n",
       "  <tbody>\n",
       "    <tr>\n",
       "      <th>0</th>\n",
       "      <td>1</td>\n",
       "      <td>1</td>\n",
       "      <td>4.0</td>\n",
       "      <td>964982703</td>\n",
       "      <td>Toy Story (1995)</td>\n",
       "      <td>Adventure|Animation|Children|Comedy|Fantasy</td>\n",
       "    </tr>\n",
       "    <tr>\n",
       "      <th>1</th>\n",
       "      <td>1</td>\n",
       "      <td>3</td>\n",
       "      <td>4.0</td>\n",
       "      <td>964981247</td>\n",
       "      <td>Grumpier Old Men (1995)</td>\n",
       "      <td>Comedy|Romance</td>\n",
       "    </tr>\n",
       "    <tr>\n",
       "      <th>2</th>\n",
       "      <td>1</td>\n",
       "      <td>6</td>\n",
       "      <td>4.0</td>\n",
       "      <td>964982224</td>\n",
       "      <td>Heat (1995)</td>\n",
       "      <td>Action|Crime|Thriller</td>\n",
       "    </tr>\n",
       "    <tr>\n",
       "      <th>3</th>\n",
       "      <td>1</td>\n",
       "      <td>47</td>\n",
       "      <td>5.0</td>\n",
       "      <td>964983815</td>\n",
       "      <td>Seven (a.k.a. Se7en) (1995)</td>\n",
       "      <td>Mystery|Thriller</td>\n",
       "    </tr>\n",
       "    <tr>\n",
       "      <th>4</th>\n",
       "      <td>1</td>\n",
       "      <td>50</td>\n",
       "      <td>5.0</td>\n",
       "      <td>964982931</td>\n",
       "      <td>Usual Suspects, The (1995)</td>\n",
       "      <td>Crime|Mystery|Thriller</td>\n",
       "    </tr>\n",
       "  </tbody>\n",
       "</table>\n",
       "</div>"
      ],
      "text/plain": [
       "   userId  movieId  rating  timestamp                        title  \\\n",
       "0       1        1     4.0  964982703             Toy Story (1995)   \n",
       "1       1        3     4.0  964981247      Grumpier Old Men (1995)   \n",
       "2       1        6     4.0  964982224                  Heat (1995)   \n",
       "3       1       47     5.0  964983815  Seven (a.k.a. Se7en) (1995)   \n",
       "4       1       50     5.0  964982931   Usual Suspects, The (1995)   \n",
       "\n",
       "                                        genres  \n",
       "0  Adventure|Animation|Children|Comedy|Fantasy  \n",
       "1                               Comedy|Romance  \n",
       "2                        Action|Crime|Thriller  \n",
       "3                             Mystery|Thriller  \n",
       "4                       Crime|Mystery|Thriller  "
      ]
     },
     "execution_count": 58,
     "metadata": {},
     "output_type": "execute_result"
    }
   ],
   "source": [
    "# joining movies onto tags\n",
    "denormal = pd.merge(\n",
    "    ratings,\n",
    "    movies,\n",
    "    how=\"left\",\n",
    "    on='movieId'\n",
    ")\n",
    "\n",
    "denormal.head()\n"
   ]
  },
  {
   "cell_type": "code",
   "execution_count": null,
   "id": "48fc6a8a",
   "metadata": {},
   "outputs": [],
   "source": [
    "# joining movies onto tags\n",
    "\n",
    "denormal = pd.merge(\n",
    "    tags,\n",
    "    movies,\n",
    "    how=\"left\",\n",
    "    on='movieId'\n",
    ")\n",
    "\n",
    "denormal.head()\n"
   ]
  },
  {
   "cell_type": "markdown",
   "id": "ece953c5",
   "metadata": {
    "ExecuteTime": {
     "end_time": "2023-03-16T01:25:51.687030Z",
     "start_time": "2023-03-16T01:25:51.684549Z"
    }
   },
   "source": [
    "# Exploratory Data Analysis"
   ]
  },
  {
   "cell_type": "code",
   "execution_count": null,
   "id": "405e55cb",
   "metadata": {},
   "outputs": [],
   "source": []
  }
 ],
 "metadata": {
  "kernelspec": {
   "display_name": "Python (learn-env)",
   "language": "python",
   "name": "learn-env"
  },
  "language_info": {
   "codemirror_mode": {
    "name": "ipython",
    "version": 3
   },
   "file_extension": ".py",
   "mimetype": "text/x-python",
   "name": "python",
   "nbconvert_exporter": "python",
   "pygments_lexer": "ipython3",
   "version": "3.8.5"
  },
  "toc": {
   "base_numbering": 1,
   "nav_menu": {},
   "number_sections": true,
   "sideBar": true,
   "skip_h1_title": false,
   "title_cell": "Table of Contents",
   "title_sidebar": "Contents",
   "toc_cell": false,
   "toc_position": {},
   "toc_section_display": true,
   "toc_window_display": false
  }
 },
 "nbformat": 4,
 "nbformat_minor": 5
}
