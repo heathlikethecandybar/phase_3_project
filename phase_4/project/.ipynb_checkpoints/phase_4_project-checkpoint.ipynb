{
 "cells": [
  {
   "cell_type": "markdown",
   "metadata": {},
   "source": [
    "# Phase 4 Final Project Submission"
   ]
  },
  {
   "cell_type": "markdown",
   "metadata": {},
   "source": [
    "* Student name: Heath Rittler\n",
    "* Student pace: Self paced\n",
    "* Scheduled project review date/time: tbd\n",
    "* Instructor name: Mark Barbour\n",
    "* Blog post URL: https://medium.com/@heathlikethecandybar"
   ]
  },
  {
   "cell_type": "markdown",
   "metadata": {
    "ExecuteTime": {
     "end_time": "2023-03-16T01:22:20.018790Z",
     "start_time": "2023-03-16T01:22:19.943054Z"
    }
   },
   "source": [
    "# Introduction"
   ]
  },
  {
   "cell_type": "markdown",
   "metadata": {},
   "source": [
    "## Business Case/ Summary"
   ]
  },
  {
   "cell_type": "code",
   "execution_count": null,
   "metadata": {},
   "outputs": [],
   "source": []
  },
  {
   "cell_type": "markdown",
   "metadata": {
    "ExecuteTime": {
     "end_time": "2023-03-16T01:33:47.533926Z",
     "start_time": "2023-03-16T01:33:47.519525Z"
    }
   },
   "source": [
    "**Our task is to:**\n",
    "\n",
    "Build a model that provides top 5 movie recommendations to a user, based on their ratings of other movies."
   ]
  },
  {
   "cell_type": "markdown",
   "metadata": {
    "ExecuteTime": {
     "end_time": "2023-03-16T01:23:50.925734Z",
     "start_time": "2023-03-16T01:23:50.923245Z"
    }
   },
   "source": [
    "## Modelling and Approach"
   ]
  },
  {
   "cell_type": "markdown",
   "metadata": {},
   "source": [
    "There are two common recommendation filtering techniques: collaborative filtering and content filtering.\n",
    "\n",
    "* `Collaborative filtering` requires the model to learn the connections/similarity between users so that it can generate the best recommendation options based on users’ previous choices, or ratings. \n",
    "* `Content filtering` needs the profile of both the users and the items so that the system can determine the recommendation according to the common properties of the users and respective items."
   ]
  },
  {
   "cell_type": "markdown",
   "metadata": {
    "ExecuteTime": {
     "end_time": "2023-03-16T01:23:23.498075Z",
     "start_time": "2023-03-16T01:23:23.495167Z"
    }
   },
   "source": [
    "## Metrics for Evaluation"
   ]
  },
  {
   "cell_type": "markdown",
   "metadata": {
    "ExecuteTime": {
     "end_time": "2023-03-16T01:34:39.915200Z",
     "start_time": "2023-03-16T01:34:39.905964Z"
    }
   },
   "source": [
    "### **Evaluation**\n",
    "\n",
    "The MovieLens dataset has explicit ratings, so achieving some sort of evaluation of your model is simple enough. But you should give some thought to the question of metrics. Since the rankings are ordinal, we know we can treat this like a regression problem. But when it comes to regression metrics there are several choices: RMSE, MAE, etc. Here are some further ideas."
   ]
  },
  {
   "cell_type": "markdown",
   "metadata": {
    "ExecuteTime": {
     "end_time": "2023-03-16T01:22:49.949280Z",
     "start_time": "2023-03-16T01:22:49.946737Z"
    }
   },
   "source": [
    "## Core Field Names and Definitions from Data Source"
   ]
  },
  {
   "cell_type": "markdown",
   "metadata": {},
   "source": [
    "This dataset (ml-latest-small) describes 5-star rating and free-text tagging activity from MovieLens, a movie recommendation service. It contains 100836 ratings and 3683 tag applications across 9742 movies. These data were created by 610 users between March 29, 1996 and September 24, 2018. This dataset was generated on September 26, 2018.\n",
    "\n",
    "Users were selected at random for inclusion. All selected users had rated at least 20 movies. No demographic information is included. Each user is represented by an id, and no other information is provided.\n",
    "\n",
    "The data are contained in the files \n",
    "* `links.csv`\n",
    "* `movies.csv` \n",
    "* `ratings.csv` \n",
    "* `tags.csv`"
   ]
  },
  {
   "cell_type": "markdown",
   "metadata": {},
   "source": [
    "### `Formatting and Encoding`\n",
    "The dataset files are written as comma-separated values files with a single header row. Columns that contain commas (,) are escaped using double-quotes (\"). These files are encoded as UTF-8. If accented characters in movie titles or tag values (e.g. Misérables, Les (1995)) display incorrectly, make sure that any program reading the data, such as a text editor, terminal, or script, is configured for UTF-8."
   ]
  },
  {
   "cell_type": "markdown",
   "metadata": {},
   "source": [
    "**`User Ids`**\n",
    "MovieLens users were selected at random for inclusion. Their ids have been anonymized. User ids are consistent between ratings.csv and tags.csv (i.e., the same id refers to the same user across the two files).\n",
    "\n",
    "**`Movie Ids`**\n",
    "Only movies with at least one rating or tag are included in the dataset. These movie ids are consistent with those used on the MovieLens web site (e.g., id 1 corresponds to the URL https://movielens.org/movies/1). Movie ids are consistent between ratings.csv, tags.csv, movies.csv, and links.csv (i.e., the same id refers to the same movie across these four data files)."
   ]
  },
  {
   "cell_type": "markdown",
   "metadata": {},
   "source": [
    "### `Ratings Data File Structure (ratings.csv)`\n",
    "All ratings are contained in the file ratings.csv. Each line of this file after the header row represents one rating of one movie by one user, and has the following format:\n",
    "\n",
    "userId,movieId,rating,timestamp\n",
    "The lines within this file are ordered first by userId, then, within user, by movieId.\n",
    "\n",
    "Ratings are made on a 5-star scale, with half-star increments (0.5 stars - 5.0 stars).\n",
    "\n",
    "Timestamps represent seconds since midnight Coordinated Universal Time (UTC) of January 1, 1970."
   ]
  },
  {
   "cell_type": "markdown",
   "metadata": {
    "ExecuteTime": {
     "end_time": "2023-03-16T01:41:25.978659Z",
     "start_time": "2023-03-16T01:41:25.973534Z"
    }
   },
   "source": [
    "### `Tags Data File Structure (tags.csv)`\n",
    "All tags are contained in the file tags.csv. Each line of this file after the header row represents one tag applied to one movie by one user, and has the following format:\n",
    "\n",
    "userId,movieId,tag,timestamp\n",
    "The lines within this file are ordered first by userId, then, within user, by movieId.\n",
    "\n",
    "Tags are user-generated metadata about movies. Each tag is typically a single word or short phrase. The meaning, value, and purpose of a particular tag is determined by each user.\n",
    "\n",
    "Timestamps represent seconds since midnight Coordinated Universal Time (UTC) of January 1, 1970."
   ]
  },
  {
   "cell_type": "markdown",
   "metadata": {
    "ExecuteTime": {
     "end_time": "2023-03-16T01:42:19.463405Z",
     "start_time": "2023-03-16T01:42:19.458126Z"
    }
   },
   "source": [
    "### `Movies Data File Structure (movies.csv)`\n",
    "Movie information is contained in the file movies.csv. Each line of this file after the header row represents one movie, and has the following format:\n",
    "\n",
    "movieId,title,genres\n",
    "Movie titles are entered manually or imported from https://www.themoviedb.org/, and include the year of release in parentheses. Errors and inconsistencies may exist in these titles.\n",
    "\n",
    "Genres are a pipe-separated list, and are selected from the following:\n",
    "\n",
    "Action\n",
    "Adventure\n",
    "Animation\n",
    "Children's\n",
    "Comedy\n",
    "Crime\n",
    "Documentary\n",
    "Drama\n",
    "Fantasy\n",
    "Film-Noir\n",
    "Horror\n",
    "Musical\n",
    "Mystery\n",
    "Romance\n",
    "Sci-Fi\n",
    "Thriller\n",
    "War\n",
    "Western\n",
    "(no genres listed)"
   ]
  },
  {
   "cell_type": "markdown",
   "metadata": {
    "ExecuteTime": {
     "end_time": "2023-03-16T01:41:43.032035Z",
     "start_time": "2023-03-16T01:41:43.018355Z"
    }
   },
   "source": [
    "### `Links Data File Structure (links.csv)`\n",
    "Identifiers that can be used to link to other sources of movie data are contained in the file links.csv. Each line of this file after the header row represents one movie, and has the following format:\n",
    "\n",
    "movieId,imdbId,tmdbId\n",
    "movieId is an identifier for movies used by https://movielens.org. E.g., the movie Toy Story has the link https://movielens.org/movies/1.\n",
    "\n",
    "imdbId is an identifier for movies used by http://www.imdb.com. E.g., the movie Toy Story has the link http://www.imdb.com/title/tt0114709/.\n",
    "\n",
    "tmdbId is an identifier for movies used by https://www.themoviedb.org. E.g., the movie Toy Story has the link https://www.themoviedb.org/movie/862.\n",
    "\n",
    "Use of the resources listed above is subject to the terms of each provider."
   ]
  },
  {
   "cell_type": "markdown",
   "metadata": {
    "ExecuteTime": {
     "end_time": "2023-03-16T01:24:28.254242Z",
     "start_time": "2023-03-16T01:24:28.251891Z"
    }
   },
   "source": [
    "# Data Load, Cleaning"
   ]
  },
  {
   "cell_type": "markdown",
   "metadata": {
    "ExecuteTime": {
     "end_time": "2023-03-16T01:24:43.049099Z",
     "start_time": "2023-03-16T01:24:43.046013Z"
    }
   },
   "source": [
    "## Importing Packages"
   ]
  },
  {
   "cell_type": "code",
   "execution_count": 212,
   "metadata": {
    "ExecuteTime": {
     "end_time": "2023-04-11T02:32:31.556925Z",
     "start_time": "2023-04-11T02:32:31.551096Z"
    }
   },
   "outputs": [],
   "source": [
    "import pandas as pd\n",
    "import numpy as np\n",
    "from matplotlib import pyplot as plt\n",
    "%matplotlib inline\n",
    "import seaborn as sns\n",
    "import statsmodels.api as sm\n",
    "from datetime import datetime\n",
    "from matplotlib.colors import ListedColormap\n",
    "import matplotlib.ticker as mtick\n",
    "\n",
    "\n",
    "from sklearn.preprocessing import LabelEncoder, OneHotEncoder, StandardScaler, FunctionTransformer\n",
    "from sklearn.model_selection import train_test_split, cross_val_score, GridSearchCV, StratifiedKFold"
   ]
  },
  {
   "cell_type": "markdown",
   "metadata": {
    "ExecuteTime": {
     "end_time": "2023-03-16T01:24:56.065157Z",
     "start_time": "2023-03-16T01:24:56.062742Z"
    }
   },
   "source": [
    "## Choosing Colors & Templates"
   ]
  },
  {
   "cell_type": "code",
   "execution_count": 108,
   "metadata": {
    "ExecuteTime": {
     "end_time": "2023-04-11T01:45:20.019845Z",
     "start_time": "2023-04-11T01:45:20.011583Z"
    }
   },
   "outputs": [
    {
     "data": {
      "text/html": [
       "<svg  width=\"330\" height=\"55\"><rect x=\"0\" y=\"0\" width=\"55\" height=\"55\" style=\"fill:#e26952;stroke-width:2;stroke:rgb(255,255,255)\"/><rect x=\"55\" y=\"0\" width=\"55\" height=\"55\" style=\"fill:#f7a889;stroke-width:2;stroke:rgb(255,255,255)\"/><rect x=\"110\" y=\"0\" width=\"55\" height=\"55\" style=\"fill:#edd1c2;stroke-width:2;stroke:rgb(255,255,255)\"/><rect x=\"165\" y=\"0\" width=\"55\" height=\"55\" style=\"fill:#c9d7f0;stroke-width:2;stroke:rgb(255,255,255)\"/><rect x=\"220\" y=\"0\" width=\"55\" height=\"55\" style=\"fill:#9abbff;stroke-width:2;stroke:rgb(255,255,255)\"/><rect x=\"275\" y=\"0\" width=\"55\" height=\"55\" style=\"fill:#6788ee;stroke-width:2;stroke:rgb(255,255,255)\"/></svg>"
      ],
      "text/plain": [
       "['#e26952', '#f7a889', '#edd1c2', '#c9d7f0', '#9abbff', '#6788ee']"
      ]
     },
     "execution_count": 108,
     "metadata": {},
     "output_type": "execute_result"
    }
   ],
   "source": [
    "\n",
    "\n",
    "# Choosing standard colors for project\n",
    "\n",
    "pal = sns.color_palette(\"coolwarm_r\")\n",
    "\n",
    "color_codes = ['red', 'peach', 'tan', 'gray', 'lightblue', 'blue']\n",
    "\n",
    "my_cmap = ListedColormap(sns.color_palette(pal).as_hex())\n",
    "\n",
    "pal.as_hex()"
   ]
  },
  {
   "cell_type": "markdown",
   "metadata": {
    "ExecuteTime": {
     "end_time": "2023-03-16T01:25:02.612854Z",
     "start_time": "2023-03-16T01:25:02.610057Z"
    }
   },
   "source": [
    "## Import Data"
   ]
  },
  {
   "cell_type": "markdown",
   "metadata": {},
   "source": [
    "### Ratings"
   ]
  },
  {
   "cell_type": "code",
   "execution_count": 109,
   "metadata": {
    "ExecuteTime": {
     "end_time": "2023-04-11T01:45:20.072197Z",
     "start_time": "2023-04-11T01:45:20.023796Z"
    }
   },
   "outputs": [],
   "source": [
    "# import ratings data file\n",
    "ratings = pd.read_csv('ml-latest-small/ratings.csv')"
   ]
  },
  {
   "cell_type": "code",
   "execution_count": 110,
   "metadata": {
    "ExecuteTime": {
     "end_time": "2023-04-11T01:45:20.084596Z",
     "start_time": "2023-04-11T01:45:20.075019Z"
    },
    "scrolled": true
   },
   "outputs": [
    {
     "data": {
      "text/html": [
       "<div>\n",
       "<style scoped>\n",
       "    .dataframe tbody tr th:only-of-type {\n",
       "        vertical-align: middle;\n",
       "    }\n",
       "\n",
       "    .dataframe tbody tr th {\n",
       "        vertical-align: top;\n",
       "    }\n",
       "\n",
       "    .dataframe thead th {\n",
       "        text-align: right;\n",
       "    }\n",
       "</style>\n",
       "<table border=\"1\" class=\"dataframe\">\n",
       "  <thead>\n",
       "    <tr style=\"text-align: right;\">\n",
       "      <th></th>\n",
       "      <th>userId</th>\n",
       "      <th>movieId</th>\n",
       "      <th>rating</th>\n",
       "      <th>timestamp</th>\n",
       "    </tr>\n",
       "  </thead>\n",
       "  <tbody>\n",
       "    <tr>\n",
       "      <th>0</th>\n",
       "      <td>1</td>\n",
       "      <td>1</td>\n",
       "      <td>4.0</td>\n",
       "      <td>964982703</td>\n",
       "    </tr>\n",
       "    <tr>\n",
       "      <th>1</th>\n",
       "      <td>1</td>\n",
       "      <td>3</td>\n",
       "      <td>4.0</td>\n",
       "      <td>964981247</td>\n",
       "    </tr>\n",
       "    <tr>\n",
       "      <th>2</th>\n",
       "      <td>1</td>\n",
       "      <td>6</td>\n",
       "      <td>4.0</td>\n",
       "      <td>964982224</td>\n",
       "    </tr>\n",
       "    <tr>\n",
       "      <th>3</th>\n",
       "      <td>1</td>\n",
       "      <td>47</td>\n",
       "      <td>5.0</td>\n",
       "      <td>964983815</td>\n",
       "    </tr>\n",
       "    <tr>\n",
       "      <th>4</th>\n",
       "      <td>1</td>\n",
       "      <td>50</td>\n",
       "      <td>5.0</td>\n",
       "      <td>964982931</td>\n",
       "    </tr>\n",
       "  </tbody>\n",
       "</table>\n",
       "</div>"
      ],
      "text/plain": [
       "   userId  movieId  rating  timestamp\n",
       "0       1        1     4.0  964982703\n",
       "1       1        3     4.0  964981247\n",
       "2       1        6     4.0  964982224\n",
       "3       1       47     5.0  964983815\n",
       "4       1       50     5.0  964982931"
      ]
     },
     "execution_count": 110,
     "metadata": {},
     "output_type": "execute_result"
    }
   ],
   "source": [
    "# view the first 5 rows\n",
    "ratings.head()"
   ]
  },
  {
   "cell_type": "code",
   "execution_count": 111,
   "metadata": {
    "ExecuteTime": {
     "end_time": "2023-04-11T01:45:20.102023Z",
     "start_time": "2023-04-11T01:45:20.087445Z"
    }
   },
   "outputs": [
    {
     "name": "stdout",
     "output_type": "stream",
     "text": [
      "<class 'pandas.core.frame.DataFrame'>\n",
      "RangeIndex: 100836 entries, 0 to 100835\n",
      "Data columns (total 4 columns):\n",
      " #   Column     Non-Null Count   Dtype  \n",
      "---  ------     --------------   -----  \n",
      " 0   userId     100836 non-null  int64  \n",
      " 1   movieId    100836 non-null  int64  \n",
      " 2   rating     100836 non-null  float64\n",
      " 3   timestamp  100836 non-null  int64  \n",
      "dtypes: float64(1), int64(3)\n",
      "memory usage: 3.1 MB\n"
     ]
    }
   ],
   "source": [
    "# view data types record counts\n",
    "ratings.info()"
   ]
  },
  {
   "cell_type": "code",
   "execution_count": 112,
   "metadata": {
    "ExecuteTime": {
     "end_time": "2023-04-11T01:45:20.111209Z",
     "start_time": "2023-04-11T01:45:20.104221Z"
    }
   },
   "outputs": [
    {
     "data": {
      "text/plain": [
       "userId       0\n",
       "movieId      0\n",
       "rating       0\n",
       "timestamp    0\n",
       "dtype: int64"
      ]
     },
     "execution_count": 112,
     "metadata": {},
     "output_type": "execute_result"
    }
   ],
   "source": [
    "# check for missing values within any columns\n",
    "ratings.isna().sum()"
   ]
  },
  {
   "cell_type": "markdown",
   "metadata": {},
   "source": [
    "### Tags"
   ]
  },
  {
   "cell_type": "code",
   "execution_count": 113,
   "metadata": {
    "ExecuteTime": {
     "end_time": "2023-04-11T01:45:20.122248Z",
     "start_time": "2023-04-11T01:45:20.113536Z"
    }
   },
   "outputs": [],
   "source": [
    "# import ratings data file\n",
    "tags = pd.read_csv('ml-latest-small/tags.csv')"
   ]
  },
  {
   "cell_type": "code",
   "execution_count": 114,
   "metadata": {
    "ExecuteTime": {
     "end_time": "2023-04-11T01:45:20.135170Z",
     "start_time": "2023-04-11T01:45:20.126508Z"
    }
   },
   "outputs": [
    {
     "data": {
      "text/html": [
       "<div>\n",
       "<style scoped>\n",
       "    .dataframe tbody tr th:only-of-type {\n",
       "        vertical-align: middle;\n",
       "    }\n",
       "\n",
       "    .dataframe tbody tr th {\n",
       "        vertical-align: top;\n",
       "    }\n",
       "\n",
       "    .dataframe thead th {\n",
       "        text-align: right;\n",
       "    }\n",
       "</style>\n",
       "<table border=\"1\" class=\"dataframe\">\n",
       "  <thead>\n",
       "    <tr style=\"text-align: right;\">\n",
       "      <th></th>\n",
       "      <th>userId</th>\n",
       "      <th>movieId</th>\n",
       "      <th>tag</th>\n",
       "      <th>timestamp</th>\n",
       "    </tr>\n",
       "  </thead>\n",
       "  <tbody>\n",
       "    <tr>\n",
       "      <th>0</th>\n",
       "      <td>2</td>\n",
       "      <td>60756</td>\n",
       "      <td>funny</td>\n",
       "      <td>1445714994</td>\n",
       "    </tr>\n",
       "    <tr>\n",
       "      <th>1</th>\n",
       "      <td>2</td>\n",
       "      <td>60756</td>\n",
       "      <td>Highly quotable</td>\n",
       "      <td>1445714996</td>\n",
       "    </tr>\n",
       "    <tr>\n",
       "      <th>2</th>\n",
       "      <td>2</td>\n",
       "      <td>60756</td>\n",
       "      <td>will ferrell</td>\n",
       "      <td>1445714992</td>\n",
       "    </tr>\n",
       "    <tr>\n",
       "      <th>3</th>\n",
       "      <td>2</td>\n",
       "      <td>89774</td>\n",
       "      <td>Boxing story</td>\n",
       "      <td>1445715207</td>\n",
       "    </tr>\n",
       "    <tr>\n",
       "      <th>4</th>\n",
       "      <td>2</td>\n",
       "      <td>89774</td>\n",
       "      <td>MMA</td>\n",
       "      <td>1445715200</td>\n",
       "    </tr>\n",
       "  </tbody>\n",
       "</table>\n",
       "</div>"
      ],
      "text/plain": [
       "   userId  movieId              tag   timestamp\n",
       "0       2    60756            funny  1445714994\n",
       "1       2    60756  Highly quotable  1445714996\n",
       "2       2    60756     will ferrell  1445714992\n",
       "3       2    89774     Boxing story  1445715207\n",
       "4       2    89774              MMA  1445715200"
      ]
     },
     "execution_count": 114,
     "metadata": {},
     "output_type": "execute_result"
    }
   ],
   "source": [
    "# view the first 5 rows\n",
    "tags.head()"
   ]
  },
  {
   "cell_type": "code",
   "execution_count": 115,
   "metadata": {
    "ExecuteTime": {
     "end_time": "2023-04-11T01:45:20.150766Z",
     "start_time": "2023-04-11T01:45:20.139838Z"
    }
   },
   "outputs": [
    {
     "name": "stdout",
     "output_type": "stream",
     "text": [
      "<class 'pandas.core.frame.DataFrame'>\n",
      "RangeIndex: 3683 entries, 0 to 3682\n",
      "Data columns (total 4 columns):\n",
      " #   Column     Non-Null Count  Dtype \n",
      "---  ------     --------------  ----- \n",
      " 0   userId     3683 non-null   int64 \n",
      " 1   movieId    3683 non-null   int64 \n",
      " 2   tag        3683 non-null   object\n",
      " 3   timestamp  3683 non-null   int64 \n",
      "dtypes: int64(3), object(1)\n",
      "memory usage: 115.2+ KB\n"
     ]
    }
   ],
   "source": [
    "# view data types record counts\n",
    "tags.info()"
   ]
  },
  {
   "cell_type": "code",
   "execution_count": 116,
   "metadata": {
    "ExecuteTime": {
     "end_time": "2023-04-11T01:45:20.159301Z",
     "start_time": "2023-04-11T01:45:20.152873Z"
    }
   },
   "outputs": [
    {
     "data": {
      "text/plain": [
       "userId       0\n",
       "movieId      0\n",
       "tag          0\n",
       "timestamp    0\n",
       "dtype: int64"
      ]
     },
     "execution_count": 116,
     "metadata": {},
     "output_type": "execute_result"
    }
   ],
   "source": [
    "# check for missing values within any columns\n",
    "tags.isna().sum()"
   ]
  },
  {
   "cell_type": "markdown",
   "metadata": {},
   "source": [
    "### Movies"
   ]
  },
  {
   "cell_type": "code",
   "execution_count": 117,
   "metadata": {
    "ExecuteTime": {
     "end_time": "2023-04-11T01:45:20.179799Z",
     "start_time": "2023-04-11T01:45:20.161500Z"
    }
   },
   "outputs": [],
   "source": [
    "# import ratings data file\n",
    "movies = pd.read_csv('ml-latest-small/movies.csv')"
   ]
  },
  {
   "cell_type": "code",
   "execution_count": 118,
   "metadata": {
    "ExecuteTime": {
     "end_time": "2023-04-11T01:45:20.193988Z",
     "start_time": "2023-04-11T01:45:20.182392Z"
    }
   },
   "outputs": [
    {
     "data": {
      "text/html": [
       "<div>\n",
       "<style scoped>\n",
       "    .dataframe tbody tr th:only-of-type {\n",
       "        vertical-align: middle;\n",
       "    }\n",
       "\n",
       "    .dataframe tbody tr th {\n",
       "        vertical-align: top;\n",
       "    }\n",
       "\n",
       "    .dataframe thead th {\n",
       "        text-align: right;\n",
       "    }\n",
       "</style>\n",
       "<table border=\"1\" class=\"dataframe\">\n",
       "  <thead>\n",
       "    <tr style=\"text-align: right;\">\n",
       "      <th></th>\n",
       "      <th>movieId</th>\n",
       "      <th>title</th>\n",
       "      <th>genres</th>\n",
       "    </tr>\n",
       "  </thead>\n",
       "  <tbody>\n",
       "    <tr>\n",
       "      <th>0</th>\n",
       "      <td>1</td>\n",
       "      <td>Toy Story (1995)</td>\n",
       "      <td>Adventure|Animation|Children|Comedy|Fantasy</td>\n",
       "    </tr>\n",
       "    <tr>\n",
       "      <th>1</th>\n",
       "      <td>2</td>\n",
       "      <td>Jumanji (1995)</td>\n",
       "      <td>Adventure|Children|Fantasy</td>\n",
       "    </tr>\n",
       "    <tr>\n",
       "      <th>2</th>\n",
       "      <td>3</td>\n",
       "      <td>Grumpier Old Men (1995)</td>\n",
       "      <td>Comedy|Romance</td>\n",
       "    </tr>\n",
       "    <tr>\n",
       "      <th>3</th>\n",
       "      <td>4</td>\n",
       "      <td>Waiting to Exhale (1995)</td>\n",
       "      <td>Comedy|Drama|Romance</td>\n",
       "    </tr>\n",
       "    <tr>\n",
       "      <th>4</th>\n",
       "      <td>5</td>\n",
       "      <td>Father of the Bride Part II (1995)</td>\n",
       "      <td>Comedy</td>\n",
       "    </tr>\n",
       "  </tbody>\n",
       "</table>\n",
       "</div>"
      ],
      "text/plain": [
       "   movieId                               title  \\\n",
       "0        1                    Toy Story (1995)   \n",
       "1        2                      Jumanji (1995)   \n",
       "2        3             Grumpier Old Men (1995)   \n",
       "3        4            Waiting to Exhale (1995)   \n",
       "4        5  Father of the Bride Part II (1995)   \n",
       "\n",
       "                                        genres  \n",
       "0  Adventure|Animation|Children|Comedy|Fantasy  \n",
       "1                   Adventure|Children|Fantasy  \n",
       "2                               Comedy|Romance  \n",
       "3                         Comedy|Drama|Romance  \n",
       "4                                       Comedy  "
      ]
     },
     "execution_count": 118,
     "metadata": {},
     "output_type": "execute_result"
    }
   ],
   "source": [
    "# view the first 5 rows\n",
    "movies.head()"
   ]
  },
  {
   "cell_type": "code",
   "execution_count": 119,
   "metadata": {
    "ExecuteTime": {
     "end_time": "2023-04-11T01:45:20.210786Z",
     "start_time": "2023-04-11T01:45:20.197831Z"
    },
    "scrolled": true
   },
   "outputs": [
    {
     "name": "stdout",
     "output_type": "stream",
     "text": [
      "<class 'pandas.core.frame.DataFrame'>\n",
      "RangeIndex: 9742 entries, 0 to 9741\n",
      "Data columns (total 3 columns):\n",
      " #   Column   Non-Null Count  Dtype \n",
      "---  ------   --------------  ----- \n",
      " 0   movieId  9742 non-null   int64 \n",
      " 1   title    9742 non-null   object\n",
      " 2   genres   9742 non-null   object\n",
      "dtypes: int64(1), object(2)\n",
      "memory usage: 228.5+ KB\n"
     ]
    }
   ],
   "source": [
    "# view data types record counts\n",
    "movies.info()"
   ]
  },
  {
   "cell_type": "code",
   "execution_count": 120,
   "metadata": {
    "ExecuteTime": {
     "end_time": "2023-04-11T01:45:20.220812Z",
     "start_time": "2023-04-11T01:45:20.212969Z"
    },
    "scrolled": true
   },
   "outputs": [
    {
     "data": {
      "text/plain": [
       "movieId    0\n",
       "title      0\n",
       "genres     0\n",
       "dtype: int64"
      ]
     },
     "execution_count": 120,
     "metadata": {},
     "output_type": "execute_result"
    }
   ],
   "source": [
    "# check for missing values within any columns\n",
    "movies.isna().sum()"
   ]
  },
  {
   "cell_type": "code",
   "execution_count": 121,
   "metadata": {
    "ExecuteTime": {
     "end_time": "2023-04-11T01:45:20.269066Z",
     "start_time": "2023-04-11T01:45:20.223103Z"
    }
   },
   "outputs": [
    {
     "data": {
      "text/html": [
       "<div>\n",
       "<style scoped>\n",
       "    .dataframe tbody tr th:only-of-type {\n",
       "        vertical-align: middle;\n",
       "    }\n",
       "\n",
       "    .dataframe tbody tr th {\n",
       "        vertical-align: top;\n",
       "    }\n",
       "\n",
       "    .dataframe thead th {\n",
       "        text-align: right;\n",
       "    }\n",
       "</style>\n",
       "<table border=\"1\" class=\"dataframe\">\n",
       "  <thead>\n",
       "    <tr style=\"text-align: right;\">\n",
       "      <th></th>\n",
       "      <th>genre_0</th>\n",
       "      <th>genre_1</th>\n",
       "      <th>genre_2</th>\n",
       "      <th>genre_3</th>\n",
       "      <th>genre_4</th>\n",
       "      <th>genre_5</th>\n",
       "      <th>genre_6</th>\n",
       "      <th>genre_7</th>\n",
       "      <th>genre_8</th>\n",
       "      <th>genre_9</th>\n",
       "    </tr>\n",
       "  </thead>\n",
       "  <tbody>\n",
       "    <tr>\n",
       "      <th>0</th>\n",
       "      <td>Adventure</td>\n",
       "      <td>Animation</td>\n",
       "      <td>Children</td>\n",
       "      <td>Comedy</td>\n",
       "      <td>Fantasy</td>\n",
       "      <td>None</td>\n",
       "      <td>None</td>\n",
       "      <td>None</td>\n",
       "      <td>None</td>\n",
       "      <td>None</td>\n",
       "    </tr>\n",
       "    <tr>\n",
       "      <th>1</th>\n",
       "      <td>Adventure</td>\n",
       "      <td>Children</td>\n",
       "      <td>Fantasy</td>\n",
       "      <td>None</td>\n",
       "      <td>None</td>\n",
       "      <td>None</td>\n",
       "      <td>None</td>\n",
       "      <td>None</td>\n",
       "      <td>None</td>\n",
       "      <td>None</td>\n",
       "    </tr>\n",
       "    <tr>\n",
       "      <th>2</th>\n",
       "      <td>Comedy</td>\n",
       "      <td>Romance</td>\n",
       "      <td>None</td>\n",
       "      <td>None</td>\n",
       "      <td>None</td>\n",
       "      <td>None</td>\n",
       "      <td>None</td>\n",
       "      <td>None</td>\n",
       "      <td>None</td>\n",
       "      <td>None</td>\n",
       "    </tr>\n",
       "    <tr>\n",
       "      <th>3</th>\n",
       "      <td>Comedy</td>\n",
       "      <td>Drama</td>\n",
       "      <td>Romance</td>\n",
       "      <td>None</td>\n",
       "      <td>None</td>\n",
       "      <td>None</td>\n",
       "      <td>None</td>\n",
       "      <td>None</td>\n",
       "      <td>None</td>\n",
       "      <td>None</td>\n",
       "    </tr>\n",
       "    <tr>\n",
       "      <th>4</th>\n",
       "      <td>Comedy</td>\n",
       "      <td>None</td>\n",
       "      <td>None</td>\n",
       "      <td>None</td>\n",
       "      <td>None</td>\n",
       "      <td>None</td>\n",
       "      <td>None</td>\n",
       "      <td>None</td>\n",
       "      <td>None</td>\n",
       "      <td>None</td>\n",
       "    </tr>\n",
       "  </tbody>\n",
       "</table>\n",
       "</div>"
      ],
      "text/plain": [
       "     genre_0    genre_1   genre_2 genre_3  genre_4 genre_5 genre_6 genre_7  \\\n",
       "0  Adventure  Animation  Children  Comedy  Fantasy    None    None    None   \n",
       "1  Adventure   Children   Fantasy    None     None    None    None    None   \n",
       "2     Comedy    Romance      None    None     None    None    None    None   \n",
       "3     Comedy      Drama   Romance    None     None    None    None    None   \n",
       "4     Comedy       None      None    None     None    None    None    None   \n",
       "\n",
       "  genre_8 genre_9  \n",
       "0    None    None  \n",
       "1    None    None  \n",
       "2    None    None  \n",
       "3    None    None  \n",
       "4    None    None  "
      ]
     },
     "execution_count": 121,
     "metadata": {},
     "output_type": "execute_result"
    }
   ],
   "source": [
    "# split out genres\n",
    "movie_genres = movies.genres.str.split(\"|\", expand = True).add_prefix('genre_')\n",
    "movie_genres.head()"
   ]
  },
  {
   "cell_type": "code",
   "execution_count": 122,
   "metadata": {
    "ExecuteTime": {
     "end_time": "2023-04-11T01:45:20.281983Z",
     "start_time": "2023-04-11T01:45:20.271299Z"
    }
   },
   "outputs": [],
   "source": [
    "# concat df back together\n",
    "movies_2 = pd.concat([movies, movie_genres], axis=1)\n",
    "\n",
    "# drop old genres column\n",
    "movies_2.drop('genres', axis=1, inplace=True)"
   ]
  },
  {
   "cell_type": "code",
   "execution_count": 123,
   "metadata": {
    "ExecuteTime": {
     "end_time": "2023-04-11T01:45:20.307032Z",
     "start_time": "2023-04-11T01:45:20.286009Z"
    },
    "scrolled": true
   },
   "outputs": [
    {
     "data": {
      "text/html": [
       "<div>\n",
       "<style scoped>\n",
       "    .dataframe tbody tr th:only-of-type {\n",
       "        vertical-align: middle;\n",
       "    }\n",
       "\n",
       "    .dataframe tbody tr th {\n",
       "        vertical-align: top;\n",
       "    }\n",
       "\n",
       "    .dataframe thead th {\n",
       "        text-align: right;\n",
       "    }\n",
       "</style>\n",
       "<table border=\"1\" class=\"dataframe\">\n",
       "  <thead>\n",
       "    <tr style=\"text-align: right;\">\n",
       "      <th></th>\n",
       "      <th>movieId</th>\n",
       "      <th>title</th>\n",
       "      <th>genre_0</th>\n",
       "      <th>genre_1</th>\n",
       "      <th>genre_2</th>\n",
       "      <th>genre_3</th>\n",
       "      <th>genre_4</th>\n",
       "      <th>genre_5</th>\n",
       "      <th>genre_6</th>\n",
       "      <th>genre_7</th>\n",
       "      <th>genre_8</th>\n",
       "      <th>genre_9</th>\n",
       "    </tr>\n",
       "  </thead>\n",
       "  <tbody>\n",
       "    <tr>\n",
       "      <th>0</th>\n",
       "      <td>1</td>\n",
       "      <td>Toy Story (1995)</td>\n",
       "      <td>Adventure</td>\n",
       "      <td>Animation</td>\n",
       "      <td>Children</td>\n",
       "      <td>Comedy</td>\n",
       "      <td>Fantasy</td>\n",
       "      <td>None</td>\n",
       "      <td>None</td>\n",
       "      <td>None</td>\n",
       "      <td>None</td>\n",
       "      <td>None</td>\n",
       "    </tr>\n",
       "    <tr>\n",
       "      <th>1</th>\n",
       "      <td>2</td>\n",
       "      <td>Jumanji (1995)</td>\n",
       "      <td>Adventure</td>\n",
       "      <td>Children</td>\n",
       "      <td>Fantasy</td>\n",
       "      <td>None</td>\n",
       "      <td>None</td>\n",
       "      <td>None</td>\n",
       "      <td>None</td>\n",
       "      <td>None</td>\n",
       "      <td>None</td>\n",
       "      <td>None</td>\n",
       "    </tr>\n",
       "    <tr>\n",
       "      <th>2</th>\n",
       "      <td>3</td>\n",
       "      <td>Grumpier Old Men (1995)</td>\n",
       "      <td>Comedy</td>\n",
       "      <td>Romance</td>\n",
       "      <td>None</td>\n",
       "      <td>None</td>\n",
       "      <td>None</td>\n",
       "      <td>None</td>\n",
       "      <td>None</td>\n",
       "      <td>None</td>\n",
       "      <td>None</td>\n",
       "      <td>None</td>\n",
       "    </tr>\n",
       "    <tr>\n",
       "      <th>3</th>\n",
       "      <td>4</td>\n",
       "      <td>Waiting to Exhale (1995)</td>\n",
       "      <td>Comedy</td>\n",
       "      <td>Drama</td>\n",
       "      <td>Romance</td>\n",
       "      <td>None</td>\n",
       "      <td>None</td>\n",
       "      <td>None</td>\n",
       "      <td>None</td>\n",
       "      <td>None</td>\n",
       "      <td>None</td>\n",
       "      <td>None</td>\n",
       "    </tr>\n",
       "    <tr>\n",
       "      <th>4</th>\n",
       "      <td>5</td>\n",
       "      <td>Father of the Bride Part II (1995)</td>\n",
       "      <td>Comedy</td>\n",
       "      <td>None</td>\n",
       "      <td>None</td>\n",
       "      <td>None</td>\n",
       "      <td>None</td>\n",
       "      <td>None</td>\n",
       "      <td>None</td>\n",
       "      <td>None</td>\n",
       "      <td>None</td>\n",
       "      <td>None</td>\n",
       "    </tr>\n",
       "  </tbody>\n",
       "</table>\n",
       "</div>"
      ],
      "text/plain": [
       "   movieId                               title    genre_0    genre_1  \\\n",
       "0        1                    Toy Story (1995)  Adventure  Animation   \n",
       "1        2                      Jumanji (1995)  Adventure   Children   \n",
       "2        3             Grumpier Old Men (1995)     Comedy    Romance   \n",
       "3        4            Waiting to Exhale (1995)     Comedy      Drama   \n",
       "4        5  Father of the Bride Part II (1995)     Comedy       None   \n",
       "\n",
       "    genre_2 genre_3  genre_4 genre_5 genre_6 genre_7 genre_8 genre_9  \n",
       "0  Children  Comedy  Fantasy    None    None    None    None    None  \n",
       "1   Fantasy    None     None    None    None    None    None    None  \n",
       "2      None    None     None    None    None    None    None    None  \n",
       "3   Romance    None     None    None    None    None    None    None  \n",
       "4      None    None     None    None    None    None    None    None  "
      ]
     },
     "execution_count": 123,
     "metadata": {},
     "output_type": "execute_result"
    }
   ],
   "source": [
    "# view first 5 rows\n",
    "movies_2.head()"
   ]
  },
  {
   "cell_type": "markdown",
   "metadata": {},
   "source": [
    "This looks great, however, I don't like how a single genre column could have more than one value.  It is hard for us to tell which are westerns as we would need to traverse multiple columns.  I am going to create now single columns for each genre, and a boolean flag so we can tell at a glance the movies and genre distributions."
   ]
  },
  {
   "cell_type": "code",
   "execution_count": 124,
   "metadata": {
    "ExecuteTime": {
     "end_time": "2023-04-11T01:45:20.318170Z",
     "start_time": "2023-04-11T01:45:20.309182Z"
    }
   },
   "outputs": [
    {
     "data": {
      "text/plain": [
       "Comedy                2779\n",
       "Drama                 2226\n",
       "Action                1828\n",
       "Adventure              653\n",
       "Crime                  537\n",
       "Horror                 468\n",
       "Documentary            386\n",
       "Animation              298\n",
       "Children               197\n",
       "Thriller                84\n",
       "Sci-Fi                  62\n",
       "Mystery                 48\n",
       "Fantasy                 42\n",
       "Romance                 38\n",
       "(no genres listed)      34\n",
       "Western                 23\n",
       "Musical                 23\n",
       "Film-Noir               12\n",
       "War                      4\n",
       "Name: genre_0, dtype: int64"
      ]
     },
     "execution_count": 124,
     "metadata": {},
     "output_type": "execute_result"
    }
   ],
   "source": [
    "# viewing the first column of genres to start splitting out into our denormalized data frame\n",
    "movies_2['genre_0'].value_counts()"
   ]
  },
  {
   "cell_type": "code",
   "execution_count": 125,
   "metadata": {
    "ExecuteTime": {
     "end_time": "2023-04-11T01:45:20.323029Z",
     "start_time": "2023-04-11T01:45:20.320266Z"
    }
   },
   "outputs": [],
   "source": [
    "movies_denormal = movies"
   ]
  },
  {
   "cell_type": "code",
   "execution_count": 126,
   "metadata": {
    "ExecuteTime": {
     "end_time": "2023-04-11T01:45:20.339276Z",
     "start_time": "2023-04-11T01:45:20.325421Z"
    }
   },
   "outputs": [],
   "source": [
    "# comedies\n",
    "movies_denormal['Comedy'] = movies['genres'].str.contains(\"Comedy\", case=False)"
   ]
  },
  {
   "cell_type": "code",
   "execution_count": 127,
   "metadata": {
    "ExecuteTime": {
     "end_time": "2023-04-11T01:45:20.355692Z",
     "start_time": "2023-04-11T01:45:20.342962Z"
    }
   },
   "outputs": [],
   "source": [
    "# drama\n",
    "movies_denormal['Drama'] = movies['genres'].str.contains(\"Drama\", case=False)"
   ]
  },
  {
   "cell_type": "code",
   "execution_count": 128,
   "metadata": {
    "ExecuteTime": {
     "end_time": "2023-04-11T01:45:20.368968Z",
     "start_time": "2023-04-11T01:45:20.358038Z"
    }
   },
   "outputs": [],
   "source": [
    "# action\n",
    "movies_denormal['Action'] = movies['genres'].str.contains(\"Action\", case=False)"
   ]
  },
  {
   "cell_type": "code",
   "execution_count": 129,
   "metadata": {
    "ExecuteTime": {
     "end_time": "2023-04-11T01:45:20.385597Z",
     "start_time": "2023-04-11T01:45:20.375963Z"
    }
   },
   "outputs": [],
   "source": [
    "# adventure\n",
    "movies_denormal['Adventure'] = movies['genres'].str.contains(\"Adventure\", case=False)"
   ]
  },
  {
   "cell_type": "code",
   "execution_count": 130,
   "metadata": {
    "ExecuteTime": {
     "end_time": "2023-04-11T01:45:20.400769Z",
     "start_time": "2023-04-11T01:45:20.389677Z"
    }
   },
   "outputs": [],
   "source": [
    "# crime\n",
    "movies_denormal['Crime'] = movies['genres'].str.contains(\"Crime\", case=False)"
   ]
  },
  {
   "cell_type": "code",
   "execution_count": 131,
   "metadata": {
    "ExecuteTime": {
     "end_time": "2023-04-11T01:45:20.413177Z",
     "start_time": "2023-04-11T01:45:20.403038Z"
    }
   },
   "outputs": [],
   "source": [
    "# horror\n",
    "movies_denormal['Horror'] = movies['genres'].str.contains(\"Horror\", case=False)"
   ]
  },
  {
   "cell_type": "code",
   "execution_count": 132,
   "metadata": {
    "ExecuteTime": {
     "end_time": "2023-04-11T01:45:20.425431Z",
     "start_time": "2023-04-11T01:45:20.415662Z"
    }
   },
   "outputs": [],
   "source": [
    "# documentary\n",
    "movies_denormal['Documentary'] = movies['genres'].str.contains(\"Documentary\", case=False)"
   ]
  },
  {
   "cell_type": "code",
   "execution_count": 133,
   "metadata": {
    "ExecuteTime": {
     "end_time": "2023-04-11T01:45:20.440854Z",
     "start_time": "2023-04-11T01:45:20.427620Z"
    }
   },
   "outputs": [],
   "source": [
    "# animation\n",
    "movies_denormal['Animation'] = movies['genres'].str.contains(\"Animation\", case=False)"
   ]
  },
  {
   "cell_type": "code",
   "execution_count": 134,
   "metadata": {
    "ExecuteTime": {
     "end_time": "2023-04-11T01:45:20.454605Z",
     "start_time": "2023-04-11T01:45:20.443613Z"
    }
   },
   "outputs": [],
   "source": [
    "# children\n",
    "movies_denormal['Children'] = movies['genres'].str.contains(\"Children\", case=False)"
   ]
  },
  {
   "cell_type": "code",
   "execution_count": 135,
   "metadata": {
    "ExecuteTime": {
     "end_time": "2023-04-11T01:45:20.467723Z",
     "start_time": "2023-04-11T01:45:20.456833Z"
    }
   },
   "outputs": [],
   "source": [
    "# thriller\n",
    "movies_denormal['Thriller'] = movies['genres'].str.contains(\"Thriller\", case=False)"
   ]
  },
  {
   "cell_type": "code",
   "execution_count": 136,
   "metadata": {
    "ExecuteTime": {
     "end_time": "2023-04-11T01:45:20.481680Z",
     "start_time": "2023-04-11T01:45:20.470100Z"
    }
   },
   "outputs": [],
   "source": [
    "# sci-fi\n",
    "movies_denormal['Sci_Fi'] = movies['genres'].str.contains(\"Sci-Fi\", case=False)"
   ]
  },
  {
   "cell_type": "code",
   "execution_count": 137,
   "metadata": {
    "ExecuteTime": {
     "end_time": "2023-04-11T01:45:20.496239Z",
     "start_time": "2023-04-11T01:45:20.485054Z"
    },
    "code_folding": []
   },
   "outputs": [],
   "source": [
    "# mystery\n",
    "movies_denormal['Mystery'] = movies['genres'].str.contains(\"Mystery\", case=False)"
   ]
  },
  {
   "cell_type": "code",
   "execution_count": 138,
   "metadata": {
    "ExecuteTime": {
     "end_time": "2023-04-11T01:45:20.510821Z",
     "start_time": "2023-04-11T01:45:20.499482Z"
    }
   },
   "outputs": [],
   "source": [
    "# fantasy\n",
    "movies_denormal['Fantasy'] = movies['genres'].str.contains(\"Fantasy\", case=False)"
   ]
  },
  {
   "cell_type": "code",
   "execution_count": 139,
   "metadata": {
    "ExecuteTime": {
     "end_time": "2023-04-11T01:45:20.524341Z",
     "start_time": "2023-04-11T01:45:20.513291Z"
    }
   },
   "outputs": [],
   "source": [
    "# romance\n",
    "movies_denormal['Romance'] = movies['genres'].str.contains(\"Romance\", case=False)"
   ]
  },
  {
   "cell_type": "code",
   "execution_count": 140,
   "metadata": {
    "ExecuteTime": {
     "end_time": "2023-04-11T01:45:20.537219Z",
     "start_time": "2023-04-11T01:45:20.526614Z"
    }
   },
   "outputs": [
    {
     "name": "stderr",
     "output_type": "stream",
     "text": [
      "/Users/heathrittler/opt/anaconda3/envs/learn-env/lib/python3.8/site-packages/pandas/core/strings.py:2001: UserWarning: This pattern has match groups. To actually get the groups, use str.extract.\n",
      "  return func(self, *args, **kwargs)\n"
     ]
    }
   ],
   "source": [
    "# (no genres listed)\n",
    "movies_denormal['(no genres listed)'] = movies['genres'].str.contains(\"(no genres listed)\", case=False)"
   ]
  },
  {
   "cell_type": "code",
   "execution_count": 141,
   "metadata": {
    "ExecuteTime": {
     "end_time": "2023-04-11T01:45:20.552014Z",
     "start_time": "2023-04-11T01:45:20.540067Z"
    }
   },
   "outputs": [],
   "source": [
    "# western\n",
    "movies_denormal['Western'] = movies['genres'].str.contains(\"Western\", case=False)"
   ]
  },
  {
   "cell_type": "code",
   "execution_count": 142,
   "metadata": {
    "ExecuteTime": {
     "end_time": "2023-04-11T01:45:20.570845Z",
     "start_time": "2023-04-11T01:45:20.556673Z"
    }
   },
   "outputs": [],
   "source": [
    "# musical\n",
    "movies_denormal['Musical'] = movies['genres'].str.contains(\"Musical\", case=False)"
   ]
  },
  {
   "cell_type": "code",
   "execution_count": 143,
   "metadata": {
    "ExecuteTime": {
     "end_time": "2023-04-11T01:45:20.585325Z",
     "start_time": "2023-04-11T01:45:20.573656Z"
    }
   },
   "outputs": [],
   "source": [
    "# rilm-noir\n",
    "movies_denormal['Film-Noir'] = movies['genres'].str.contains(\"Film-Noir\", case=False)"
   ]
  },
  {
   "cell_type": "code",
   "execution_count": 144,
   "metadata": {
    "ExecuteTime": {
     "end_time": "2023-04-11T01:45:20.600065Z",
     "start_time": "2023-04-11T01:45:20.588257Z"
    }
   },
   "outputs": [],
   "source": [
    "# war\n",
    "movies_denormal['War'] = movies['genres'].str.contains(\"War\", case=False)"
   ]
  },
  {
   "cell_type": "code",
   "execution_count": 145,
   "metadata": {
    "ExecuteTime": {
     "end_time": "2023-04-11T01:45:20.640262Z",
     "start_time": "2023-04-11T01:45:20.602779Z"
    },
    "scrolled": false
   },
   "outputs": [
    {
     "data": {
      "text/html": [
       "<div>\n",
       "<style scoped>\n",
       "    .dataframe tbody tr th:only-of-type {\n",
       "        vertical-align: middle;\n",
       "    }\n",
       "\n",
       "    .dataframe tbody tr th {\n",
       "        vertical-align: top;\n",
       "    }\n",
       "\n",
       "    .dataframe thead th {\n",
       "        text-align: right;\n",
       "    }\n",
       "</style>\n",
       "<table border=\"1\" class=\"dataframe\">\n",
       "  <thead>\n",
       "    <tr style=\"text-align: right;\">\n",
       "      <th></th>\n",
       "      <th>movieId</th>\n",
       "      <th>title</th>\n",
       "      <th>Comedy</th>\n",
       "      <th>Drama</th>\n",
       "      <th>Action</th>\n",
       "      <th>Adventure</th>\n",
       "      <th>Crime</th>\n",
       "      <th>Horror</th>\n",
       "      <th>Documentary</th>\n",
       "      <th>Animation</th>\n",
       "      <th>...</th>\n",
       "      <th>Thriller</th>\n",
       "      <th>Sci_Fi</th>\n",
       "      <th>Mystery</th>\n",
       "      <th>Fantasy</th>\n",
       "      <th>Romance</th>\n",
       "      <th>(no genres listed)</th>\n",
       "      <th>Western</th>\n",
       "      <th>Musical</th>\n",
       "      <th>Film-Noir</th>\n",
       "      <th>War</th>\n",
       "    </tr>\n",
       "  </thead>\n",
       "  <tbody>\n",
       "    <tr>\n",
       "      <th>0</th>\n",
       "      <td>1</td>\n",
       "      <td>Toy Story (1995)</td>\n",
       "      <td>True</td>\n",
       "      <td>False</td>\n",
       "      <td>False</td>\n",
       "      <td>True</td>\n",
       "      <td>False</td>\n",
       "      <td>False</td>\n",
       "      <td>False</td>\n",
       "      <td>True</td>\n",
       "      <td>...</td>\n",
       "      <td>False</td>\n",
       "      <td>False</td>\n",
       "      <td>False</td>\n",
       "      <td>True</td>\n",
       "      <td>False</td>\n",
       "      <td>False</td>\n",
       "      <td>False</td>\n",
       "      <td>False</td>\n",
       "      <td>False</td>\n",
       "      <td>False</td>\n",
       "    </tr>\n",
       "    <tr>\n",
       "      <th>1</th>\n",
       "      <td>2</td>\n",
       "      <td>Jumanji (1995)</td>\n",
       "      <td>False</td>\n",
       "      <td>False</td>\n",
       "      <td>False</td>\n",
       "      <td>True</td>\n",
       "      <td>False</td>\n",
       "      <td>False</td>\n",
       "      <td>False</td>\n",
       "      <td>False</td>\n",
       "      <td>...</td>\n",
       "      <td>False</td>\n",
       "      <td>False</td>\n",
       "      <td>False</td>\n",
       "      <td>True</td>\n",
       "      <td>False</td>\n",
       "      <td>False</td>\n",
       "      <td>False</td>\n",
       "      <td>False</td>\n",
       "      <td>False</td>\n",
       "      <td>False</td>\n",
       "    </tr>\n",
       "    <tr>\n",
       "      <th>2</th>\n",
       "      <td>3</td>\n",
       "      <td>Grumpier Old Men (1995)</td>\n",
       "      <td>True</td>\n",
       "      <td>False</td>\n",
       "      <td>False</td>\n",
       "      <td>False</td>\n",
       "      <td>False</td>\n",
       "      <td>False</td>\n",
       "      <td>False</td>\n",
       "      <td>False</td>\n",
       "      <td>...</td>\n",
       "      <td>False</td>\n",
       "      <td>False</td>\n",
       "      <td>False</td>\n",
       "      <td>False</td>\n",
       "      <td>True</td>\n",
       "      <td>False</td>\n",
       "      <td>False</td>\n",
       "      <td>False</td>\n",
       "      <td>False</td>\n",
       "      <td>False</td>\n",
       "    </tr>\n",
       "    <tr>\n",
       "      <th>3</th>\n",
       "      <td>4</td>\n",
       "      <td>Waiting to Exhale (1995)</td>\n",
       "      <td>True</td>\n",
       "      <td>True</td>\n",
       "      <td>False</td>\n",
       "      <td>False</td>\n",
       "      <td>False</td>\n",
       "      <td>False</td>\n",
       "      <td>False</td>\n",
       "      <td>False</td>\n",
       "      <td>...</td>\n",
       "      <td>False</td>\n",
       "      <td>False</td>\n",
       "      <td>False</td>\n",
       "      <td>False</td>\n",
       "      <td>True</td>\n",
       "      <td>False</td>\n",
       "      <td>False</td>\n",
       "      <td>False</td>\n",
       "      <td>False</td>\n",
       "      <td>False</td>\n",
       "    </tr>\n",
       "    <tr>\n",
       "      <th>4</th>\n",
       "      <td>5</td>\n",
       "      <td>Father of the Bride Part II (1995)</td>\n",
       "      <td>True</td>\n",
       "      <td>False</td>\n",
       "      <td>False</td>\n",
       "      <td>False</td>\n",
       "      <td>False</td>\n",
       "      <td>False</td>\n",
       "      <td>False</td>\n",
       "      <td>False</td>\n",
       "      <td>...</td>\n",
       "      <td>False</td>\n",
       "      <td>False</td>\n",
       "      <td>False</td>\n",
       "      <td>False</td>\n",
       "      <td>False</td>\n",
       "      <td>False</td>\n",
       "      <td>False</td>\n",
       "      <td>False</td>\n",
       "      <td>False</td>\n",
       "      <td>False</td>\n",
       "    </tr>\n",
       "    <tr>\n",
       "      <th>...</th>\n",
       "      <td>...</td>\n",
       "      <td>...</td>\n",
       "      <td>...</td>\n",
       "      <td>...</td>\n",
       "      <td>...</td>\n",
       "      <td>...</td>\n",
       "      <td>...</td>\n",
       "      <td>...</td>\n",
       "      <td>...</td>\n",
       "      <td>...</td>\n",
       "      <td>...</td>\n",
       "      <td>...</td>\n",
       "      <td>...</td>\n",
       "      <td>...</td>\n",
       "      <td>...</td>\n",
       "      <td>...</td>\n",
       "      <td>...</td>\n",
       "      <td>...</td>\n",
       "      <td>...</td>\n",
       "      <td>...</td>\n",
       "      <td>...</td>\n",
       "    </tr>\n",
       "    <tr>\n",
       "      <th>9737</th>\n",
       "      <td>193581</td>\n",
       "      <td>Black Butler: Book of the Atlantic (2017)</td>\n",
       "      <td>True</td>\n",
       "      <td>False</td>\n",
       "      <td>True</td>\n",
       "      <td>False</td>\n",
       "      <td>False</td>\n",
       "      <td>False</td>\n",
       "      <td>False</td>\n",
       "      <td>True</td>\n",
       "      <td>...</td>\n",
       "      <td>False</td>\n",
       "      <td>False</td>\n",
       "      <td>False</td>\n",
       "      <td>True</td>\n",
       "      <td>False</td>\n",
       "      <td>False</td>\n",
       "      <td>False</td>\n",
       "      <td>False</td>\n",
       "      <td>False</td>\n",
       "      <td>False</td>\n",
       "    </tr>\n",
       "    <tr>\n",
       "      <th>9738</th>\n",
       "      <td>193583</td>\n",
       "      <td>No Game No Life: Zero (2017)</td>\n",
       "      <td>True</td>\n",
       "      <td>False</td>\n",
       "      <td>False</td>\n",
       "      <td>False</td>\n",
       "      <td>False</td>\n",
       "      <td>False</td>\n",
       "      <td>False</td>\n",
       "      <td>True</td>\n",
       "      <td>...</td>\n",
       "      <td>False</td>\n",
       "      <td>False</td>\n",
       "      <td>False</td>\n",
       "      <td>True</td>\n",
       "      <td>False</td>\n",
       "      <td>False</td>\n",
       "      <td>False</td>\n",
       "      <td>False</td>\n",
       "      <td>False</td>\n",
       "      <td>False</td>\n",
       "    </tr>\n",
       "    <tr>\n",
       "      <th>9739</th>\n",
       "      <td>193585</td>\n",
       "      <td>Flint (2017)</td>\n",
       "      <td>False</td>\n",
       "      <td>True</td>\n",
       "      <td>False</td>\n",
       "      <td>False</td>\n",
       "      <td>False</td>\n",
       "      <td>False</td>\n",
       "      <td>False</td>\n",
       "      <td>False</td>\n",
       "      <td>...</td>\n",
       "      <td>False</td>\n",
       "      <td>False</td>\n",
       "      <td>False</td>\n",
       "      <td>False</td>\n",
       "      <td>False</td>\n",
       "      <td>False</td>\n",
       "      <td>False</td>\n",
       "      <td>False</td>\n",
       "      <td>False</td>\n",
       "      <td>False</td>\n",
       "    </tr>\n",
       "    <tr>\n",
       "      <th>9740</th>\n",
       "      <td>193587</td>\n",
       "      <td>Bungo Stray Dogs: Dead Apple (2018)</td>\n",
       "      <td>False</td>\n",
       "      <td>False</td>\n",
       "      <td>True</td>\n",
       "      <td>False</td>\n",
       "      <td>False</td>\n",
       "      <td>False</td>\n",
       "      <td>False</td>\n",
       "      <td>True</td>\n",
       "      <td>...</td>\n",
       "      <td>False</td>\n",
       "      <td>False</td>\n",
       "      <td>False</td>\n",
       "      <td>False</td>\n",
       "      <td>False</td>\n",
       "      <td>False</td>\n",
       "      <td>False</td>\n",
       "      <td>False</td>\n",
       "      <td>False</td>\n",
       "      <td>False</td>\n",
       "    </tr>\n",
       "    <tr>\n",
       "      <th>9741</th>\n",
       "      <td>193609</td>\n",
       "      <td>Andrew Dice Clay: Dice Rules (1991)</td>\n",
       "      <td>True</td>\n",
       "      <td>False</td>\n",
       "      <td>False</td>\n",
       "      <td>False</td>\n",
       "      <td>False</td>\n",
       "      <td>False</td>\n",
       "      <td>False</td>\n",
       "      <td>False</td>\n",
       "      <td>...</td>\n",
       "      <td>False</td>\n",
       "      <td>False</td>\n",
       "      <td>False</td>\n",
       "      <td>False</td>\n",
       "      <td>False</td>\n",
       "      <td>False</td>\n",
       "      <td>False</td>\n",
       "      <td>False</td>\n",
       "      <td>False</td>\n",
       "      <td>False</td>\n",
       "    </tr>\n",
       "  </tbody>\n",
       "</table>\n",
       "<p>9742 rows × 21 columns</p>\n",
       "</div>"
      ],
      "text/plain": [
       "      movieId                                      title  Comedy  Drama  \\\n",
       "0           1                           Toy Story (1995)    True  False   \n",
       "1           2                             Jumanji (1995)   False  False   \n",
       "2           3                    Grumpier Old Men (1995)    True  False   \n",
       "3           4                   Waiting to Exhale (1995)    True   True   \n",
       "4           5         Father of the Bride Part II (1995)    True  False   \n",
       "...       ...                                        ...     ...    ...   \n",
       "9737   193581  Black Butler: Book of the Atlantic (2017)    True  False   \n",
       "9738   193583               No Game No Life: Zero (2017)    True  False   \n",
       "9739   193585                               Flint (2017)   False   True   \n",
       "9740   193587        Bungo Stray Dogs: Dead Apple (2018)   False  False   \n",
       "9741   193609        Andrew Dice Clay: Dice Rules (1991)    True  False   \n",
       "\n",
       "      Action  Adventure  Crime  Horror  Documentary  Animation  ...  Thriller  \\\n",
       "0      False       True  False   False        False       True  ...     False   \n",
       "1      False       True  False   False        False      False  ...     False   \n",
       "2      False      False  False   False        False      False  ...     False   \n",
       "3      False      False  False   False        False      False  ...     False   \n",
       "4      False      False  False   False        False      False  ...     False   \n",
       "...      ...        ...    ...     ...          ...        ...  ...       ...   \n",
       "9737    True      False  False   False        False       True  ...     False   \n",
       "9738   False      False  False   False        False       True  ...     False   \n",
       "9739   False      False  False   False        False      False  ...     False   \n",
       "9740    True      False  False   False        False       True  ...     False   \n",
       "9741   False      False  False   False        False      False  ...     False   \n",
       "\n",
       "      Sci_Fi  Mystery  Fantasy  Romance  (no genres listed)  Western  Musical  \\\n",
       "0      False    False     True    False               False    False    False   \n",
       "1      False    False     True    False               False    False    False   \n",
       "2      False    False    False     True               False    False    False   \n",
       "3      False    False    False     True               False    False    False   \n",
       "4      False    False    False    False               False    False    False   \n",
       "...      ...      ...      ...      ...                 ...      ...      ...   \n",
       "9737   False    False     True    False               False    False    False   \n",
       "9738   False    False     True    False               False    False    False   \n",
       "9739   False    False    False    False               False    False    False   \n",
       "9740   False    False    False    False               False    False    False   \n",
       "9741   False    False    False    False               False    False    False   \n",
       "\n",
       "      Film-Noir    War  \n",
       "0         False  False  \n",
       "1         False  False  \n",
       "2         False  False  \n",
       "3         False  False  \n",
       "4         False  False  \n",
       "...         ...    ...  \n",
       "9737      False  False  \n",
       "9738      False  False  \n",
       "9739      False  False  \n",
       "9740      False  False  \n",
       "9741      False  False  \n",
       "\n",
       "[9742 rows x 21 columns]"
      ]
     },
     "execution_count": 145,
     "metadata": {},
     "output_type": "execute_result"
    }
   ],
   "source": [
    "# now let's remove our string/ concatenated genres column\n",
    "movies_denormal.drop('genres', axis=1)"
   ]
  },
  {
   "cell_type": "markdown",
   "metadata": {},
   "source": [
    "This now looks much better and will be easier to work with as we move forward with our EDA.  Worst case scenario, we transform back into one of the previous versions with movies, or movies2 datasets.  Now going to move on to further denomalize our data set by joining the other files onto a single data frame."
   ]
  },
  {
   "cell_type": "markdown",
   "metadata": {},
   "source": [
    "### Join datasets together"
   ]
  },
  {
   "cell_type": "code",
   "execution_count": 146,
   "metadata": {
    "ExecuteTime": {
     "end_time": "2023-04-11T01:45:20.744488Z",
     "start_time": "2023-04-11T01:45:20.642763Z"
    },
    "scrolled": true
   },
   "outputs": [
    {
     "data": {
      "text/html": [
       "<div>\n",
       "<style scoped>\n",
       "    .dataframe tbody tr th:only-of-type {\n",
       "        vertical-align: middle;\n",
       "    }\n",
       "\n",
       "    .dataframe tbody tr th {\n",
       "        vertical-align: top;\n",
       "    }\n",
       "\n",
       "    .dataframe thead th {\n",
       "        text-align: right;\n",
       "    }\n",
       "</style>\n",
       "<table border=\"1\" class=\"dataframe\">\n",
       "  <thead>\n",
       "    <tr style=\"text-align: right;\">\n",
       "      <th></th>\n",
       "      <th>movieId</th>\n",
       "      <th>title</th>\n",
       "      <th>genres</th>\n",
       "      <th>Comedy</th>\n",
       "      <th>Drama</th>\n",
       "      <th>Action</th>\n",
       "      <th>Adventure</th>\n",
       "      <th>Crime</th>\n",
       "      <th>Horror</th>\n",
       "      <th>Documentary</th>\n",
       "      <th>...</th>\n",
       "      <th>Fantasy</th>\n",
       "      <th>Romance</th>\n",
       "      <th>(no genres listed)</th>\n",
       "      <th>Western</th>\n",
       "      <th>Musical</th>\n",
       "      <th>Film-Noir</th>\n",
       "      <th>War</th>\n",
       "      <th>userId</th>\n",
       "      <th>rating</th>\n",
       "      <th>timestamp</th>\n",
       "    </tr>\n",
       "  </thead>\n",
       "  <tbody>\n",
       "    <tr>\n",
       "      <th>0</th>\n",
       "      <td>1</td>\n",
       "      <td>Toy Story (1995)</td>\n",
       "      <td>Adventure|Animation|Children|Comedy|Fantasy</td>\n",
       "      <td>True</td>\n",
       "      <td>False</td>\n",
       "      <td>False</td>\n",
       "      <td>True</td>\n",
       "      <td>False</td>\n",
       "      <td>False</td>\n",
       "      <td>False</td>\n",
       "      <td>...</td>\n",
       "      <td>True</td>\n",
       "      <td>False</td>\n",
       "      <td>False</td>\n",
       "      <td>False</td>\n",
       "      <td>False</td>\n",
       "      <td>False</td>\n",
       "      <td>False</td>\n",
       "      <td>1.0</td>\n",
       "      <td>4.0</td>\n",
       "      <td>9.649827e+08</td>\n",
       "    </tr>\n",
       "    <tr>\n",
       "      <th>1</th>\n",
       "      <td>1</td>\n",
       "      <td>Toy Story (1995)</td>\n",
       "      <td>Adventure|Animation|Children|Comedy|Fantasy</td>\n",
       "      <td>True</td>\n",
       "      <td>False</td>\n",
       "      <td>False</td>\n",
       "      <td>True</td>\n",
       "      <td>False</td>\n",
       "      <td>False</td>\n",
       "      <td>False</td>\n",
       "      <td>...</td>\n",
       "      <td>True</td>\n",
       "      <td>False</td>\n",
       "      <td>False</td>\n",
       "      <td>False</td>\n",
       "      <td>False</td>\n",
       "      <td>False</td>\n",
       "      <td>False</td>\n",
       "      <td>5.0</td>\n",
       "      <td>4.0</td>\n",
       "      <td>8.474350e+08</td>\n",
       "    </tr>\n",
       "    <tr>\n",
       "      <th>2</th>\n",
       "      <td>1</td>\n",
       "      <td>Toy Story (1995)</td>\n",
       "      <td>Adventure|Animation|Children|Comedy|Fantasy</td>\n",
       "      <td>True</td>\n",
       "      <td>False</td>\n",
       "      <td>False</td>\n",
       "      <td>True</td>\n",
       "      <td>False</td>\n",
       "      <td>False</td>\n",
       "      <td>False</td>\n",
       "      <td>...</td>\n",
       "      <td>True</td>\n",
       "      <td>False</td>\n",
       "      <td>False</td>\n",
       "      <td>False</td>\n",
       "      <td>False</td>\n",
       "      <td>False</td>\n",
       "      <td>False</td>\n",
       "      <td>7.0</td>\n",
       "      <td>4.5</td>\n",
       "      <td>1.106636e+09</td>\n",
       "    </tr>\n",
       "    <tr>\n",
       "      <th>3</th>\n",
       "      <td>1</td>\n",
       "      <td>Toy Story (1995)</td>\n",
       "      <td>Adventure|Animation|Children|Comedy|Fantasy</td>\n",
       "      <td>True</td>\n",
       "      <td>False</td>\n",
       "      <td>False</td>\n",
       "      <td>True</td>\n",
       "      <td>False</td>\n",
       "      <td>False</td>\n",
       "      <td>False</td>\n",
       "      <td>...</td>\n",
       "      <td>True</td>\n",
       "      <td>False</td>\n",
       "      <td>False</td>\n",
       "      <td>False</td>\n",
       "      <td>False</td>\n",
       "      <td>False</td>\n",
       "      <td>False</td>\n",
       "      <td>15.0</td>\n",
       "      <td>2.5</td>\n",
       "      <td>1.510578e+09</td>\n",
       "    </tr>\n",
       "    <tr>\n",
       "      <th>4</th>\n",
       "      <td>1</td>\n",
       "      <td>Toy Story (1995)</td>\n",
       "      <td>Adventure|Animation|Children|Comedy|Fantasy</td>\n",
       "      <td>True</td>\n",
       "      <td>False</td>\n",
       "      <td>False</td>\n",
       "      <td>True</td>\n",
       "      <td>False</td>\n",
       "      <td>False</td>\n",
       "      <td>False</td>\n",
       "      <td>...</td>\n",
       "      <td>True</td>\n",
       "      <td>False</td>\n",
       "      <td>False</td>\n",
       "      <td>False</td>\n",
       "      <td>False</td>\n",
       "      <td>False</td>\n",
       "      <td>False</td>\n",
       "      <td>17.0</td>\n",
       "      <td>4.5</td>\n",
       "      <td>1.305696e+09</td>\n",
       "    </tr>\n",
       "  </tbody>\n",
       "</table>\n",
       "<p>5 rows × 25 columns</p>\n",
       "</div>"
      ],
      "text/plain": [
       "   movieId             title                                       genres  \\\n",
       "0        1  Toy Story (1995)  Adventure|Animation|Children|Comedy|Fantasy   \n",
       "1        1  Toy Story (1995)  Adventure|Animation|Children|Comedy|Fantasy   \n",
       "2        1  Toy Story (1995)  Adventure|Animation|Children|Comedy|Fantasy   \n",
       "3        1  Toy Story (1995)  Adventure|Animation|Children|Comedy|Fantasy   \n",
       "4        1  Toy Story (1995)  Adventure|Animation|Children|Comedy|Fantasy   \n",
       "\n",
       "   Comedy  Drama  Action  Adventure  Crime  Horror  Documentary  ...  Fantasy  \\\n",
       "0    True  False   False       True  False   False        False  ...     True   \n",
       "1    True  False   False       True  False   False        False  ...     True   \n",
       "2    True  False   False       True  False   False        False  ...     True   \n",
       "3    True  False   False       True  False   False        False  ...     True   \n",
       "4    True  False   False       True  False   False        False  ...     True   \n",
       "\n",
       "   Romance  (no genres listed)  Western  Musical  Film-Noir    War  userId  \\\n",
       "0    False               False    False    False      False  False     1.0   \n",
       "1    False               False    False    False      False  False     5.0   \n",
       "2    False               False    False    False      False  False     7.0   \n",
       "3    False               False    False    False      False  False    15.0   \n",
       "4    False               False    False    False      False  False    17.0   \n",
       "\n",
       "   rating     timestamp  \n",
       "0     4.0  9.649827e+08  \n",
       "1     4.0  8.474350e+08  \n",
       "2     4.5  1.106636e+09  \n",
       "3     2.5  1.510578e+09  \n",
       "4     4.5  1.305696e+09  \n",
       "\n",
       "[5 rows x 25 columns]"
      ]
     },
     "execution_count": 146,
     "metadata": {},
     "output_type": "execute_result"
    }
   ],
   "source": [
    "# joining movies onto tags\n",
    "denormal = pd.merge(\n",
    "    movies,\n",
    "    ratings,\n",
    "    how=\"left\",\n",
    "    on='movieId'\n",
    ")\n",
    "\n",
    "denormal.head()\n"
   ]
  },
  {
   "cell_type": "code",
   "execution_count": 147,
   "metadata": {
    "ExecuteTime": {
     "end_time": "2023-04-11T01:45:20.786567Z",
     "start_time": "2023-04-11T01:45:20.747316Z"
    }
   },
   "outputs": [
    {
     "data": {
      "text/html": [
       "<div>\n",
       "<style scoped>\n",
       "    .dataframe tbody tr th:only-of-type {\n",
       "        vertical-align: middle;\n",
       "    }\n",
       "\n",
       "    .dataframe tbody tr th {\n",
       "        vertical-align: top;\n",
       "    }\n",
       "\n",
       "    .dataframe thead th {\n",
       "        text-align: right;\n",
       "    }\n",
       "</style>\n",
       "<table border=\"1\" class=\"dataframe\">\n",
       "  <thead>\n",
       "    <tr style=\"text-align: right;\">\n",
       "      <th></th>\n",
       "      <th>userId</th>\n",
       "      <th>movieId</th>\n",
       "      <th>tag</th>\n",
       "      <th>timestamp</th>\n",
       "      <th>title</th>\n",
       "      <th>genres</th>\n",
       "      <th>Comedy</th>\n",
       "      <th>Drama</th>\n",
       "      <th>Action</th>\n",
       "      <th>Adventure</th>\n",
       "      <th>...</th>\n",
       "      <th>Thriller</th>\n",
       "      <th>Sci_Fi</th>\n",
       "      <th>Mystery</th>\n",
       "      <th>Fantasy</th>\n",
       "      <th>Romance</th>\n",
       "      <th>(no genres listed)</th>\n",
       "      <th>Western</th>\n",
       "      <th>Musical</th>\n",
       "      <th>Film-Noir</th>\n",
       "      <th>War</th>\n",
       "    </tr>\n",
       "  </thead>\n",
       "  <tbody>\n",
       "    <tr>\n",
       "      <th>0</th>\n",
       "      <td>2</td>\n",
       "      <td>60756</td>\n",
       "      <td>funny</td>\n",
       "      <td>1445714994</td>\n",
       "      <td>Step Brothers (2008)</td>\n",
       "      <td>Comedy</td>\n",
       "      <td>True</td>\n",
       "      <td>False</td>\n",
       "      <td>False</td>\n",
       "      <td>False</td>\n",
       "      <td>...</td>\n",
       "      <td>False</td>\n",
       "      <td>False</td>\n",
       "      <td>False</td>\n",
       "      <td>False</td>\n",
       "      <td>False</td>\n",
       "      <td>False</td>\n",
       "      <td>False</td>\n",
       "      <td>False</td>\n",
       "      <td>False</td>\n",
       "      <td>False</td>\n",
       "    </tr>\n",
       "    <tr>\n",
       "      <th>1</th>\n",
       "      <td>2</td>\n",
       "      <td>60756</td>\n",
       "      <td>Highly quotable</td>\n",
       "      <td>1445714996</td>\n",
       "      <td>Step Brothers (2008)</td>\n",
       "      <td>Comedy</td>\n",
       "      <td>True</td>\n",
       "      <td>False</td>\n",
       "      <td>False</td>\n",
       "      <td>False</td>\n",
       "      <td>...</td>\n",
       "      <td>False</td>\n",
       "      <td>False</td>\n",
       "      <td>False</td>\n",
       "      <td>False</td>\n",
       "      <td>False</td>\n",
       "      <td>False</td>\n",
       "      <td>False</td>\n",
       "      <td>False</td>\n",
       "      <td>False</td>\n",
       "      <td>False</td>\n",
       "    </tr>\n",
       "    <tr>\n",
       "      <th>2</th>\n",
       "      <td>2</td>\n",
       "      <td>60756</td>\n",
       "      <td>will ferrell</td>\n",
       "      <td>1445714992</td>\n",
       "      <td>Step Brothers (2008)</td>\n",
       "      <td>Comedy</td>\n",
       "      <td>True</td>\n",
       "      <td>False</td>\n",
       "      <td>False</td>\n",
       "      <td>False</td>\n",
       "      <td>...</td>\n",
       "      <td>False</td>\n",
       "      <td>False</td>\n",
       "      <td>False</td>\n",
       "      <td>False</td>\n",
       "      <td>False</td>\n",
       "      <td>False</td>\n",
       "      <td>False</td>\n",
       "      <td>False</td>\n",
       "      <td>False</td>\n",
       "      <td>False</td>\n",
       "    </tr>\n",
       "    <tr>\n",
       "      <th>3</th>\n",
       "      <td>2</td>\n",
       "      <td>89774</td>\n",
       "      <td>Boxing story</td>\n",
       "      <td>1445715207</td>\n",
       "      <td>Warrior (2011)</td>\n",
       "      <td>Drama</td>\n",
       "      <td>False</td>\n",
       "      <td>True</td>\n",
       "      <td>False</td>\n",
       "      <td>False</td>\n",
       "      <td>...</td>\n",
       "      <td>False</td>\n",
       "      <td>False</td>\n",
       "      <td>False</td>\n",
       "      <td>False</td>\n",
       "      <td>False</td>\n",
       "      <td>False</td>\n",
       "      <td>False</td>\n",
       "      <td>False</td>\n",
       "      <td>False</td>\n",
       "      <td>False</td>\n",
       "    </tr>\n",
       "    <tr>\n",
       "      <th>4</th>\n",
       "      <td>2</td>\n",
       "      <td>89774</td>\n",
       "      <td>MMA</td>\n",
       "      <td>1445715200</td>\n",
       "      <td>Warrior (2011)</td>\n",
       "      <td>Drama</td>\n",
       "      <td>False</td>\n",
       "      <td>True</td>\n",
       "      <td>False</td>\n",
       "      <td>False</td>\n",
       "      <td>...</td>\n",
       "      <td>False</td>\n",
       "      <td>False</td>\n",
       "      <td>False</td>\n",
       "      <td>False</td>\n",
       "      <td>False</td>\n",
       "      <td>False</td>\n",
       "      <td>False</td>\n",
       "      <td>False</td>\n",
       "      <td>False</td>\n",
       "      <td>False</td>\n",
       "    </tr>\n",
       "  </tbody>\n",
       "</table>\n",
       "<p>5 rows × 25 columns</p>\n",
       "</div>"
      ],
      "text/plain": [
       "   userId  movieId              tag   timestamp                 title  genres  \\\n",
       "0       2    60756            funny  1445714994  Step Brothers (2008)  Comedy   \n",
       "1       2    60756  Highly quotable  1445714996  Step Brothers (2008)  Comedy   \n",
       "2       2    60756     will ferrell  1445714992  Step Brothers (2008)  Comedy   \n",
       "3       2    89774     Boxing story  1445715207        Warrior (2011)   Drama   \n",
       "4       2    89774              MMA  1445715200        Warrior (2011)   Drama   \n",
       "\n",
       "   Comedy  Drama  Action  Adventure  ...  Thriller  Sci_Fi  Mystery  Fantasy  \\\n",
       "0    True  False   False      False  ...     False   False    False    False   \n",
       "1    True  False   False      False  ...     False   False    False    False   \n",
       "2    True  False   False      False  ...     False   False    False    False   \n",
       "3   False   True   False      False  ...     False   False    False    False   \n",
       "4   False   True   False      False  ...     False   False    False    False   \n",
       "\n",
       "   Romance  (no genres listed)  Western  Musical  Film-Noir    War  \n",
       "0    False               False    False    False      False  False  \n",
       "1    False               False    False    False      False  False  \n",
       "2    False               False    False    False      False  False  \n",
       "3    False               False    False    False      False  False  \n",
       "4    False               False    False    False      False  False  \n",
       "\n",
       "[5 rows x 25 columns]"
      ]
     },
     "execution_count": 147,
     "metadata": {},
     "output_type": "execute_result"
    }
   ],
   "source": [
    "# joining movies onto tags\n",
    "\n",
    "denormal = pd.merge(\n",
    "    tags,\n",
    "    movies,\n",
    "    how=\"left\",\n",
    "    on='movieId'\n",
    ")\n",
    "\n",
    "denormal.head()\n"
   ]
  },
  {
   "cell_type": "markdown",
   "metadata": {
    "ExecuteTime": {
     "end_time": "2023-03-16T01:25:51.687030Z",
     "start_time": "2023-03-16T01:25:51.684549Z"
    }
   },
   "source": [
    "# Exploratory Data Analysis"
   ]
  },
  {
   "cell_type": "markdown",
   "metadata": {},
   "source": [
    "* How many movies? x \n",
    "* How many users? x \n",
    "* How many ratings? x \n",
    "* How many ratings per user? per movie?\n",
    "* How many ratings by year?\n",
    "* How many movies by genre? How many ratings per genre? Average rating per genre?\n",
    "* Highest rated movies?  Lowest rated movies?\n",
    "* Distribution of ratings?\n",
    "* Tags word cloud?\n"
   ]
  },
  {
   "cell_type": "code",
   "execution_count": 148,
   "metadata": {
    "ExecuteTime": {
     "end_time": "2023-04-11T01:45:20.831461Z",
     "start_time": "2023-04-11T01:45:20.788992Z"
    },
    "scrolled": true
   },
   "outputs": [
    {
     "data": {
      "text/html": [
       "<div>\n",
       "<style scoped>\n",
       "    .dataframe tbody tr th:only-of-type {\n",
       "        vertical-align: middle;\n",
       "    }\n",
       "\n",
       "    .dataframe tbody tr th {\n",
       "        vertical-align: top;\n",
       "    }\n",
       "\n",
       "    .dataframe thead th {\n",
       "        text-align: right;\n",
       "    }\n",
       "</style>\n",
       "<table border=\"1\" class=\"dataframe\">\n",
       "  <thead>\n",
       "    <tr style=\"text-align: right;\">\n",
       "      <th></th>\n",
       "      <th>userId</th>\n",
       "      <th>movieId</th>\n",
       "      <th>rating</th>\n",
       "      <th>timestamp</th>\n",
       "    </tr>\n",
       "  </thead>\n",
       "  <tbody>\n",
       "    <tr>\n",
       "      <th>count</th>\n",
       "      <td>100836.000000</td>\n",
       "      <td>100836.000000</td>\n",
       "      <td>100836.000000</td>\n",
       "      <td>1.008360e+05</td>\n",
       "    </tr>\n",
       "    <tr>\n",
       "      <th>mean</th>\n",
       "      <td>326.127564</td>\n",
       "      <td>19435.295718</td>\n",
       "      <td>3.501557</td>\n",
       "      <td>1.205946e+09</td>\n",
       "    </tr>\n",
       "    <tr>\n",
       "      <th>std</th>\n",
       "      <td>182.618491</td>\n",
       "      <td>35530.987199</td>\n",
       "      <td>1.042529</td>\n",
       "      <td>2.162610e+08</td>\n",
       "    </tr>\n",
       "    <tr>\n",
       "      <th>min</th>\n",
       "      <td>1.000000</td>\n",
       "      <td>1.000000</td>\n",
       "      <td>0.500000</td>\n",
       "      <td>8.281246e+08</td>\n",
       "    </tr>\n",
       "    <tr>\n",
       "      <th>25%</th>\n",
       "      <td>177.000000</td>\n",
       "      <td>1199.000000</td>\n",
       "      <td>3.000000</td>\n",
       "      <td>1.019124e+09</td>\n",
       "    </tr>\n",
       "    <tr>\n",
       "      <th>50%</th>\n",
       "      <td>325.000000</td>\n",
       "      <td>2991.000000</td>\n",
       "      <td>3.500000</td>\n",
       "      <td>1.186087e+09</td>\n",
       "    </tr>\n",
       "    <tr>\n",
       "      <th>75%</th>\n",
       "      <td>477.000000</td>\n",
       "      <td>8122.000000</td>\n",
       "      <td>4.000000</td>\n",
       "      <td>1.435994e+09</td>\n",
       "    </tr>\n",
       "    <tr>\n",
       "      <th>max</th>\n",
       "      <td>610.000000</td>\n",
       "      <td>193609.000000</td>\n",
       "      <td>5.000000</td>\n",
       "      <td>1.537799e+09</td>\n",
       "    </tr>\n",
       "  </tbody>\n",
       "</table>\n",
       "</div>"
      ],
      "text/plain": [
       "              userId        movieId         rating     timestamp\n",
       "count  100836.000000  100836.000000  100836.000000  1.008360e+05\n",
       "mean      326.127564   19435.295718       3.501557  1.205946e+09\n",
       "std       182.618491   35530.987199       1.042529  2.162610e+08\n",
       "min         1.000000       1.000000       0.500000  8.281246e+08\n",
       "25%       177.000000    1199.000000       3.000000  1.019124e+09\n",
       "50%       325.000000    2991.000000       3.500000  1.186087e+09\n",
       "75%       477.000000    8122.000000       4.000000  1.435994e+09\n",
       "max       610.000000  193609.000000       5.000000  1.537799e+09"
      ]
     },
     "execution_count": 148,
     "metadata": {},
     "output_type": "execute_result"
    }
   ],
   "source": [
    "ratings.describe()"
   ]
  },
  {
   "cell_type": "code",
   "execution_count": 149,
   "metadata": {
    "ExecuteTime": {
     "end_time": "2023-04-11T01:45:20.841688Z",
     "start_time": "2023-04-11T01:45:20.835542Z"
    },
    "scrolled": true
   },
   "outputs": [
    {
     "name": "stdout",
     "output_type": "stream",
     "text": [
      "The data set contains 9724 distinct movies with at least 1 rating.\n"
     ]
    }
   ],
   "source": [
    "# of distinct movies/ movieIds\n",
    "\n",
    "movie_count = str(ratings['movieId'].nunique())\n",
    "\n",
    "print(\"The data set contains \" + movie_count + \" distinct movies with at least 1 rating.\")"
   ]
  },
  {
   "cell_type": "code",
   "execution_count": 150,
   "metadata": {
    "ExecuteTime": {
     "end_time": "2023-04-11T01:45:20.849810Z",
     "start_time": "2023-04-11T01:45:20.843960Z"
    }
   },
   "outputs": [
    {
     "name": "stdout",
     "output_type": "stream",
     "text": [
      "The data set contains 610 distinct users with at least 1 rating.\n"
     ]
    }
   ],
   "source": [
    "# of distinct users/ userIds\n",
    "\n",
    "user_count = str(ratings['userId'].nunique())\n",
    "\n",
    "print(\"The data set contains \" + user_count + \" distinct users with at least 1 rating.\")"
   ]
  },
  {
   "cell_type": "code",
   "execution_count": 151,
   "metadata": {
    "ExecuteTime": {
     "end_time": "2023-04-11T01:45:20.857289Z",
     "start_time": "2023-04-11T01:45:20.852720Z"
    }
   },
   "outputs": [
    {
     "name": "stdout",
     "output_type": "stream",
     "text": [
      "The data set contains 100836 ratings.\n"
     ]
    }
   ],
   "source": [
    "# of ratings\n",
    "\n",
    "review_count = str(ratings['userId'].count())\n",
    "\n",
    "print(\"The data set contains \" + review_count + \" ratings.\")"
   ]
  },
  {
   "cell_type": "code",
   "execution_count": 152,
   "metadata": {
    "ExecuteTime": {
     "end_time": "2023-04-11T01:45:20.869852Z",
     "start_time": "2023-04-11T01:45:20.861083Z"
    },
    "scrolled": true
   },
   "outputs": [
    {
     "name": "stdout",
     "output_type": "stream",
     "text": [
      "The average review for all movies is 3.5, and the median review for all movies is 3.5.\n"
     ]
    }
   ],
   "source": [
    "# average and median reviews\n",
    "\n",
    "avg_review = str(round(ratings.rating.mean(),2))\n",
    "med_review = str(round(ratings.rating.median(),2))\n",
    "\n",
    "print(\"The average review for all movies is \" \n",
    "      + avg_review \n",
    "      + \", and the median review for all movies is \" \n",
    "      + med_review \n",
    "      + \".\")"
   ]
  },
  {
   "cell_type": "code",
   "execution_count": 225,
   "metadata": {
    "ExecuteTime": {
     "end_time": "2023-04-11T02:35:44.055738Z",
     "start_time": "2023-04-11T02:35:43.817283Z"
    }
   },
   "outputs": [
    {
     "data": {
      "text/plain": [
       "''"
      ]
     },
     "execution_count": 225,
     "metadata": {},
     "output_type": "execute_result"
    },
    {
     "data": {
      "image/png": "[encoded data removed]",
      "text/plain": [
       "<Figure size 1152x576 with 1 Axes>"
      ]
     },
     "metadata": {
      "needs_background": "light"
     },
     "output_type": "display_data"
    }
   ],
   "source": [
    "# show total number of ratings by rating score\n",
    "\n",
    "fig, ax = plt.subplots(figsize=(16,8))\n",
    "\n",
    "ax.set_title('# of Ratings by Rating Score')\n",
    "\n",
    "\n",
    "bp = sns.countplot(data=ratings, \n",
    "            y='rating', \n",
    "            color='#35978f'\n",
    "            )\n",
    "\n",
    "bp.set_ylabel('Rating')\n",
    "bp.set_xlabel('# of Ratings')\n",
    "fmt = '{x:,.0f}'\n",
    "tick = mtick.StrMethodFormatter(fmt)\n",
    "ax.xaxis.set_major_formatter(tick)\n",
    ";"
   ]
  },
  {
   "cell_type": "code",
   "execution_count": 196,
   "metadata": {
    "ExecuteTime": {
     "end_time": "2023-04-11T02:21:29.491255Z",
     "start_time": "2023-04-11T02:21:29.459472Z"
    }
   },
   "outputs": [],
   "source": [
    "# adjusting datetime epoch to a date so we can plot ratings over time\n",
    "\n",
    "ratings['year'] = pd.to_datetime(ratings['timestamp'], unit='s').dt.year"
   ]
  },
  {
   "cell_type": "code",
   "execution_count": 197,
   "metadata": {
    "ExecuteTime": {
     "end_time": "2023-04-11T02:21:31.115785Z",
     "start_time": "2023-04-11T02:21:31.082567Z"
    }
   },
   "outputs": [
    {
     "data": {
      "text/html": [
       "<div>\n",
       "<style scoped>\n",
       "    .dataframe tbody tr th:only-of-type {\n",
       "        vertical-align: middle;\n",
       "    }\n",
       "\n",
       "    .dataframe tbody tr th {\n",
       "        vertical-align: top;\n",
       "    }\n",
       "\n",
       "    .dataframe thead th {\n",
       "        text-align: right;\n",
       "    }\n",
       "</style>\n",
       "<table border=\"1\" class=\"dataframe\">\n",
       "  <thead>\n",
       "    <tr style=\"text-align: right;\">\n",
       "      <th></th>\n",
       "      <th>userId</th>\n",
       "      <th>movieId</th>\n",
       "      <th>rating</th>\n",
       "      <th>date</th>\n",
       "      <th>year</th>\n",
       "    </tr>\n",
       "  </thead>\n",
       "  <tbody>\n",
       "    <tr>\n",
       "      <th>0</th>\n",
       "      <td>1</td>\n",
       "      <td>1</td>\n",
       "      <td>4.0</td>\n",
       "      <td>2000-07-30</td>\n",
       "      <td>2000</td>\n",
       "    </tr>\n",
       "    <tr>\n",
       "      <th>1</th>\n",
       "      <td>1</td>\n",
       "      <td>3</td>\n",
       "      <td>4.0</td>\n",
       "      <td>2000-07-30</td>\n",
       "      <td>2000</td>\n",
       "    </tr>\n",
       "    <tr>\n",
       "      <th>2</th>\n",
       "      <td>1</td>\n",
       "      <td>6</td>\n",
       "      <td>4.0</td>\n",
       "      <td>2000-07-30</td>\n",
       "      <td>2000</td>\n",
       "    </tr>\n",
       "    <tr>\n",
       "      <th>3</th>\n",
       "      <td>1</td>\n",
       "      <td>47</td>\n",
       "      <td>5.0</td>\n",
       "      <td>2000-07-30</td>\n",
       "      <td>2000</td>\n",
       "    </tr>\n",
       "    <tr>\n",
       "      <th>4</th>\n",
       "      <td>1</td>\n",
       "      <td>50</td>\n",
       "      <td>5.0</td>\n",
       "      <td>2000-07-30</td>\n",
       "      <td>2000</td>\n",
       "    </tr>\n",
       "    <tr>\n",
       "      <th>...</th>\n",
       "      <td>...</td>\n",
       "      <td>...</td>\n",
       "      <td>...</td>\n",
       "      <td>...</td>\n",
       "      <td>...</td>\n",
       "    </tr>\n",
       "    <tr>\n",
       "      <th>100831</th>\n",
       "      <td>610</td>\n",
       "      <td>166534</td>\n",
       "      <td>4.0</td>\n",
       "      <td>2017-05-03</td>\n",
       "      <td>2017</td>\n",
       "    </tr>\n",
       "    <tr>\n",
       "      <th>100832</th>\n",
       "      <td>610</td>\n",
       "      <td>168248</td>\n",
       "      <td>5.0</td>\n",
       "      <td>2017-05-03</td>\n",
       "      <td>2017</td>\n",
       "    </tr>\n",
       "    <tr>\n",
       "      <th>100833</th>\n",
       "      <td>610</td>\n",
       "      <td>168250</td>\n",
       "      <td>5.0</td>\n",
       "      <td>2017-05-08</td>\n",
       "      <td>2017</td>\n",
       "    </tr>\n",
       "    <tr>\n",
       "      <th>100834</th>\n",
       "      <td>610</td>\n",
       "      <td>168252</td>\n",
       "      <td>5.0</td>\n",
       "      <td>2017-05-03</td>\n",
       "      <td>2017</td>\n",
       "    </tr>\n",
       "    <tr>\n",
       "      <th>100835</th>\n",
       "      <td>610</td>\n",
       "      <td>170875</td>\n",
       "      <td>3.0</td>\n",
       "      <td>2017-05-03</td>\n",
       "      <td>2017</td>\n",
       "    </tr>\n",
       "  </tbody>\n",
       "</table>\n",
       "<p>100836 rows × 5 columns</p>\n",
       "</div>"
      ],
      "text/plain": [
       "        userId  movieId  rating        date  year\n",
       "0            1        1     4.0  2000-07-30  2000\n",
       "1            1        3     4.0  2000-07-30  2000\n",
       "2            1        6     4.0  2000-07-30  2000\n",
       "3            1       47     5.0  2000-07-30  2000\n",
       "4            1       50     5.0  2000-07-30  2000\n",
       "...        ...      ...     ...         ...   ...\n",
       "100831     610   166534     4.0  2017-05-03  2017\n",
       "100832     610   168248     5.0  2017-05-03  2017\n",
       "100833     610   168250     5.0  2017-05-08  2017\n",
       "100834     610   168252     5.0  2017-05-03  2017\n",
       "100835     610   170875     3.0  2017-05-03  2017\n",
       "\n",
       "[100836 rows x 5 columns]"
      ]
     },
     "execution_count": 197,
     "metadata": {},
     "output_type": "execute_result"
    }
   ],
   "source": [
    "# dropping our timestamp column as we really don't need it\n",
    "\n",
    "ratings.drop('timestamp', axis=1)"
   ]
  },
  {
   "cell_type": "code",
   "execution_count": 210,
   "metadata": {
    "ExecuteTime": {
     "end_time": "2023-04-11T02:29:55.762134Z",
     "start_time": "2023-04-11T02:29:55.734958Z"
    }
   },
   "outputs": [
    {
     "data": {
      "text/html": [
       "<div>\n",
       "<style scoped>\n",
       "    .dataframe tbody tr th:only-of-type {\n",
       "        vertical-align: middle;\n",
       "    }\n",
       "\n",
       "    .dataframe tbody tr th {\n",
       "        vertical-align: top;\n",
       "    }\n",
       "\n",
       "    .dataframe thead th {\n",
       "        text-align: right;\n",
       "    }\n",
       "</style>\n",
       "<table border=\"1\" class=\"dataframe\">\n",
       "  <thead>\n",
       "    <tr style=\"text-align: right;\">\n",
       "      <th></th>\n",
       "      <th>year</th>\n",
       "      <th>rating_x</th>\n",
       "      <th>rating_y</th>\n",
       "    </tr>\n",
       "  </thead>\n",
       "  <tbody>\n",
       "    <tr>\n",
       "      <th>0</th>\n",
       "      <td>1996</td>\n",
       "      <td>3.535927</td>\n",
       "      <td>6040</td>\n",
       "    </tr>\n",
       "    <tr>\n",
       "      <th>1</th>\n",
       "      <td>1997</td>\n",
       "      <td>3.727557</td>\n",
       "      <td>1916</td>\n",
       "    </tr>\n",
       "    <tr>\n",
       "      <th>2</th>\n",
       "      <td>1998</td>\n",
       "      <td>3.435897</td>\n",
       "      <td>507</td>\n",
       "    </tr>\n",
       "    <tr>\n",
       "      <th>3</th>\n",
       "      <td>1999</td>\n",
       "      <td>3.772448</td>\n",
       "      <td>2439</td>\n",
       "    </tr>\n",
       "    <tr>\n",
       "      <th>4</th>\n",
       "      <td>2000</td>\n",
       "      <td>3.392506</td>\n",
       "      <td>10061</td>\n",
       "    </tr>\n",
       "    <tr>\n",
       "      <th>5</th>\n",
       "      <td>2001</td>\n",
       "      <td>3.512239</td>\n",
       "      <td>3922</td>\n",
       "    </tr>\n",
       "    <tr>\n",
       "      <th>6</th>\n",
       "      <td>2002</td>\n",
       "      <td>3.606958</td>\n",
       "      <td>3478</td>\n",
       "    </tr>\n",
       "    <tr>\n",
       "      <th>7</th>\n",
       "      <td>2003</td>\n",
       "      <td>3.499377</td>\n",
       "      <td>4014</td>\n",
       "    </tr>\n",
       "    <tr>\n",
       "      <th>8</th>\n",
       "      <td>2004</td>\n",
       "      <td>3.506099</td>\n",
       "      <td>3279</td>\n",
       "    </tr>\n",
       "    <tr>\n",
       "      <th>9</th>\n",
       "      <td>2005</td>\n",
       "      <td>3.431533</td>\n",
       "      <td>5813</td>\n",
       "    </tr>\n",
       "    <tr>\n",
       "      <th>10</th>\n",
       "      <td>2006</td>\n",
       "      <td>3.487928</td>\n",
       "      <td>4059</td>\n",
       "    </tr>\n",
       "    <tr>\n",
       "      <th>11</th>\n",
       "      <td>2007</td>\n",
       "      <td>3.309039</td>\n",
       "      <td>7114</td>\n",
       "    </tr>\n",
       "    <tr>\n",
       "      <th>12</th>\n",
       "      <td>2008</td>\n",
       "      <td>3.656746</td>\n",
       "      <td>4351</td>\n",
       "    </tr>\n",
       "    <tr>\n",
       "      <th>13</th>\n",
       "      <td>2009</td>\n",
       "      <td>3.392496</td>\n",
       "      <td>4158</td>\n",
       "    </tr>\n",
       "    <tr>\n",
       "      <th>14</th>\n",
       "      <td>2010</td>\n",
       "      <td>3.463494</td>\n",
       "      <td>2301</td>\n",
       "    </tr>\n",
       "    <tr>\n",
       "      <th>15</th>\n",
       "      <td>2011</td>\n",
       "      <td>3.784024</td>\n",
       "      <td>1690</td>\n",
       "    </tr>\n",
       "    <tr>\n",
       "      <th>16</th>\n",
       "      <td>2012</td>\n",
       "      <td>3.641323</td>\n",
       "      <td>4656</td>\n",
       "    </tr>\n",
       "    <tr>\n",
       "      <th>17</th>\n",
       "      <td>2013</td>\n",
       "      <td>3.877404</td>\n",
       "      <td>1664</td>\n",
       "    </tr>\n",
       "    <tr>\n",
       "      <th>18</th>\n",
       "      <td>2014</td>\n",
       "      <td>3.510771</td>\n",
       "      <td>1439</td>\n",
       "    </tr>\n",
       "    <tr>\n",
       "      <th>19</th>\n",
       "      <td>2015</td>\n",
       "      <td>3.513830</td>\n",
       "      <td>6616</td>\n",
       "    </tr>\n",
       "    <tr>\n",
       "      <th>20</th>\n",
       "      <td>2016</td>\n",
       "      <td>3.686334</td>\n",
       "      <td>6703</td>\n",
       "    </tr>\n",
       "    <tr>\n",
       "      <th>21</th>\n",
       "      <td>2017</td>\n",
       "      <td>3.348805</td>\n",
       "      <td>8198</td>\n",
       "    </tr>\n",
       "    <tr>\n",
       "      <th>22</th>\n",
       "      <td>2018</td>\n",
       "      <td>3.389062</td>\n",
       "      <td>6418</td>\n",
       "    </tr>\n",
       "  </tbody>\n",
       "</table>\n",
       "</div>"
      ],
      "text/plain": [
       "    year  rating_x  rating_y\n",
       "0   1996  3.535927      6040\n",
       "1   1997  3.727557      1916\n",
       "2   1998  3.435897       507\n",
       "3   1999  3.772448      2439\n",
       "4   2000  3.392506     10061\n",
       "5   2001  3.512239      3922\n",
       "6   2002  3.606958      3478\n",
       "7   2003  3.499377      4014\n",
       "8   2004  3.506099      3279\n",
       "9   2005  3.431533      5813\n",
       "10  2006  3.487928      4059\n",
       "11  2007  3.309039      7114\n",
       "12  2008  3.656746      4351\n",
       "13  2009  3.392496      4158\n",
       "14  2010  3.463494      2301\n",
       "15  2011  3.784024      1690\n",
       "16  2012  3.641323      4656\n",
       "17  2013  3.877404      1664\n",
       "18  2014  3.510771      1439\n",
       "19  2015  3.513830      6616\n",
       "20  2016  3.686334      6703\n",
       "21  2017  3.348805      8198\n",
       "22  2018  3.389062      6418"
      ]
     },
     "execution_count": 210,
     "metadata": {},
     "output_type": "execute_result"
    }
   ],
   "source": [
    "ratings_yr_chrt = (\n",
    "    ratings\n",
    "    .groupby('year')['rating']\n",
    "    .mean()\n",
    "    .reset_index()\n",
    "    )\n",
    "\n",
    "counts = (\n",
    "    ratings\n",
    "    .groupby('year')['rating']\n",
    "    .count()\n",
    "    .reset_index()\n",
    "    )\n",
    "\n",
    "\n",
    "result = pd.merge(ratings_yr_chrt, counts, how=\"inner\", on=['year', 'year'])\n",
    "result"
   ]
  },
  {
   "cell_type": "code",
   "execution_count": 226,
   "metadata": {
    "ExecuteTime": {
     "end_time": "2023-04-11T02:36:26.522926Z",
     "start_time": "2023-04-11T02:36:25.991765Z"
    }
   },
   "outputs": [
    {
     "data": {
      "image/png": "[encoded data removed]",
      "text/plain": [
       "<Figure size 1152x576 with 2 Axes>"
      ]
     },
     "metadata": {
      "needs_background": "light"
     },
     "output_type": "display_data"
    }
   ],
   "source": [
    "# Summary chart for number of ratings and average rating by rating year\n",
    "\n",
    "fig, ax1 = plt.subplots(figsize=(16,8))\n",
    "\n",
    "lp = sns.lineplot(data = result['rating_y'], \n",
    "                  marker='o', \n",
    "                  sort = False, \n",
    "                  ax=ax1, \n",
    "                  label='Number of Ratings', \n",
    "                  color='#dfc27d')\n",
    "\n",
    "ax2 = ax1.twinx()\n",
    "\n",
    "bp = sns.barplot(data = result, \n",
    "                 x='year', \n",
    "                 y='rating_x', \n",
    "                 alpha=0.5, \n",
    "                 ax=ax2, \n",
    "                 color='#35978f', \n",
    "                 label='Average Rating')\n",
    "\n",
    "ax1.set_title('Number of Movies & Total Box Office Revenue by Year')\n",
    "ax1.set_xlabel('Rating Year')\n",
    "ax1.set_ylabel('# of Ratings')\n",
    "ax2.set_ylabel('Average Rating')\n",
    "fig.legend(loc='upper right', bbox_to_anchor=(.88,.88))\n",
    "ax1.get_legend().remove()\n",
    "fmt = '{x:,.0f}'\n",
    "tick = mtick.StrMethodFormatter(fmt)\n",
    "ax1.yaxis.set_major_formatter(tick);"
   ]
  },
  {
   "cell_type": "code",
   "execution_count": 278,
   "metadata": {
    "ExecuteTime": {
     "end_time": "2023-04-11T03:14:24.846382Z",
     "start_time": "2023-04-11T03:14:24.828951Z"
    }
   },
   "outputs": [
    {
     "data": {
      "text/html": [
       "<div>\n",
       "<style scoped>\n",
       "    .dataframe tbody tr th:only-of-type {\n",
       "        vertical-align: middle;\n",
       "    }\n",
       "\n",
       "    .dataframe tbody tr th {\n",
       "        vertical-align: top;\n",
       "    }\n",
       "\n",
       "    .dataframe thead th {\n",
       "        text-align: right;\n",
       "    }\n",
       "</style>\n",
       "<table border=\"1\" class=\"dataframe\">\n",
       "  <thead>\n",
       "    <tr style=\"text-align: right;\">\n",
       "      <th></th>\n",
       "      <th>movieId</th>\n",
       "      <th>rating</th>\n",
       "    </tr>\n",
       "  </thead>\n",
       "  <tbody>\n",
       "    <tr>\n",
       "      <th>5541</th>\n",
       "      <td>26696</td>\n",
       "      <td>0.5</td>\n",
       "    </tr>\n",
       "    <tr>\n",
       "      <th>2685</th>\n",
       "      <td>3604</td>\n",
       "      <td>0.5</td>\n",
       "    </tr>\n",
       "    <tr>\n",
       "      <th>4872</th>\n",
       "      <td>7312</td>\n",
       "      <td>0.5</td>\n",
       "    </tr>\n",
       "    <tr>\n",
       "      <th>9099</th>\n",
       "      <td>145724</td>\n",
       "      <td>0.5</td>\n",
       "    </tr>\n",
       "    <tr>\n",
       "      <th>7280</th>\n",
       "      <td>76030</td>\n",
       "      <td>0.5</td>\n",
       "    </tr>\n",
       "    <tr>\n",
       "      <th>...</th>\n",
       "      <td>...</td>\n",
       "      <td>...</td>\n",
       "    </tr>\n",
       "    <tr>\n",
       "      <th>2876</th>\n",
       "      <td>3851</td>\n",
       "      <td>5.0</td>\n",
       "    </tr>\n",
       "    <tr>\n",
       "      <th>8734</th>\n",
       "      <td>128087</td>\n",
       "      <td>5.0</td>\n",
       "    </tr>\n",
       "    <tr>\n",
       "      <th>5862</th>\n",
       "      <td>33138</td>\n",
       "      <td>5.0</td>\n",
       "    </tr>\n",
       "    <tr>\n",
       "      <th>7960</th>\n",
       "      <td>96608</td>\n",
       "      <td>5.0</td>\n",
       "    </tr>\n",
       "    <tr>\n",
       "      <th>6482</th>\n",
       "      <td>53355</td>\n",
       "      <td>5.0</td>\n",
       "    </tr>\n",
       "  </tbody>\n",
       "</table>\n",
       "<p>9724 rows × 2 columns</p>\n",
       "</div>"
      ],
      "text/plain": [
       "      movieId  rating\n",
       "5541    26696     0.5\n",
       "2685     3604     0.5\n",
       "4872     7312     0.5\n",
       "9099   145724     0.5\n",
       "7280    76030     0.5\n",
       "...       ...     ...\n",
       "2876     3851     5.0\n",
       "8734   128087     5.0\n",
       "5862    33138     5.0\n",
       "7960    96608     5.0\n",
       "6482    53355     5.0\n",
       "\n",
       "[9724 rows x 2 columns]"
      ]
     },
     "execution_count": 278,
     "metadata": {},
     "output_type": "execute_result"
    }
   ],
   "source": [
    "# displaying average ratings by movieId\n",
    "\n",
    "ratings_movie_chrt = (\n",
    "    ratings\n",
    "    .groupby('movieId')['rating']\n",
    "    .mean()\n",
    "    .reset_index()\n",
    "    ).sort_values(by='rating')\n",
    "\n",
    "ratings_movie_chrt"
   ]
  },
  {
   "cell_type": "code",
   "execution_count": 286,
   "metadata": {
    "ExecuteTime": {
     "end_time": "2023-04-11T03:22:13.166866Z",
     "start_time": "2023-04-11T03:22:13.126771Z"
    }
   },
   "outputs": [
    {
     "data": {
      "text/html": [
       "<div>\n",
       "<style scoped>\n",
       "    .dataframe tbody tr th:only-of-type {\n",
       "        vertical-align: middle;\n",
       "    }\n",
       "\n",
       "    .dataframe tbody tr th {\n",
       "        vertical-align: top;\n",
       "    }\n",
       "\n",
       "    .dataframe thead th {\n",
       "        text-align: right;\n",
       "    }\n",
       "</style>\n",
       "<table border=\"1\" class=\"dataframe\">\n",
       "  <thead>\n",
       "    <tr style=\"text-align: right;\">\n",
       "      <th></th>\n",
       "      <th>movieId</th>\n",
       "      <th>rating</th>\n",
       "      <th>title</th>\n",
       "      <th>genres</th>\n",
       "      <th>Comedy</th>\n",
       "      <th>Drama</th>\n",
       "      <th>Action</th>\n",
       "      <th>Adventure</th>\n",
       "      <th>Crime</th>\n",
       "      <th>Horror</th>\n",
       "      <th>...</th>\n",
       "      <th>Thriller</th>\n",
       "      <th>Sci_Fi</th>\n",
       "      <th>Mystery</th>\n",
       "      <th>Fantasy</th>\n",
       "      <th>Romance</th>\n",
       "      <th>(no genres listed)</th>\n",
       "      <th>Western</th>\n",
       "      <th>Musical</th>\n",
       "      <th>Film-Noir</th>\n",
       "      <th>War</th>\n",
       "    </tr>\n",
       "  </thead>\n",
       "  <tbody>\n",
       "    <tr>\n",
       "      <th>0</th>\n",
       "      <td>26696</td>\n",
       "      <td>0.5</td>\n",
       "      <td>Lionheart (1990)</td>\n",
       "      <td>Action</td>\n",
       "      <td>False</td>\n",
       "      <td>False</td>\n",
       "      <td>True</td>\n",
       "      <td>False</td>\n",
       "      <td>False</td>\n",
       "      <td>False</td>\n",
       "      <td>...</td>\n",
       "      <td>False</td>\n",
       "      <td>False</td>\n",
       "      <td>False</td>\n",
       "      <td>False</td>\n",
       "      <td>False</td>\n",
       "      <td>False</td>\n",
       "      <td>False</td>\n",
       "      <td>False</td>\n",
       "      <td>False</td>\n",
       "      <td>False</td>\n",
       "    </tr>\n",
       "    <tr>\n",
       "      <th>1</th>\n",
       "      <td>3604</td>\n",
       "      <td>0.5</td>\n",
       "      <td>Gypsy (1962)</td>\n",
       "      <td>Musical</td>\n",
       "      <td>False</td>\n",
       "      <td>False</td>\n",
       "      <td>False</td>\n",
       "      <td>False</td>\n",
       "      <td>False</td>\n",
       "      <td>False</td>\n",
       "      <td>...</td>\n",
       "      <td>False</td>\n",
       "      <td>False</td>\n",
       "      <td>False</td>\n",
       "      <td>False</td>\n",
       "      <td>False</td>\n",
       "      <td>False</td>\n",
       "      <td>False</td>\n",
       "      <td>True</td>\n",
       "      <td>False</td>\n",
       "      <td>False</td>\n",
       "    </tr>\n",
       "    <tr>\n",
       "      <th>2</th>\n",
       "      <td>7312</td>\n",
       "      <td>0.5</td>\n",
       "      <td>Follow Me, Boys! (1966)</td>\n",
       "      <td>Comedy|Drama</td>\n",
       "      <td>True</td>\n",
       "      <td>True</td>\n",
       "      <td>False</td>\n",
       "      <td>False</td>\n",
       "      <td>False</td>\n",
       "      <td>False</td>\n",
       "      <td>...</td>\n",
       "      <td>False</td>\n",
       "      <td>False</td>\n",
       "      <td>False</td>\n",
       "      <td>False</td>\n",
       "      <td>False</td>\n",
       "      <td>False</td>\n",
       "      <td>False</td>\n",
       "      <td>False</td>\n",
       "      <td>False</td>\n",
       "      <td>False</td>\n",
       "    </tr>\n",
       "    <tr>\n",
       "      <th>3</th>\n",
       "      <td>145724</td>\n",
       "      <td>0.5</td>\n",
       "      <td>Idaho Transfer (1973)</td>\n",
       "      <td>Sci-Fi</td>\n",
       "      <td>False</td>\n",
       "      <td>False</td>\n",
       "      <td>False</td>\n",
       "      <td>False</td>\n",
       "      <td>False</td>\n",
       "      <td>False</td>\n",
       "      <td>...</td>\n",
       "      <td>False</td>\n",
       "      <td>True</td>\n",
       "      <td>False</td>\n",
       "      <td>False</td>\n",
       "      <td>False</td>\n",
       "      <td>False</td>\n",
       "      <td>False</td>\n",
       "      <td>False</td>\n",
       "      <td>False</td>\n",
       "      <td>False</td>\n",
       "    </tr>\n",
       "    <tr>\n",
       "      <th>4</th>\n",
       "      <td>76030</td>\n",
       "      <td>0.5</td>\n",
       "      <td>Case 39 (2009)</td>\n",
       "      <td>Horror|Thriller</td>\n",
       "      <td>False</td>\n",
       "      <td>False</td>\n",
       "      <td>False</td>\n",
       "      <td>False</td>\n",
       "      <td>False</td>\n",
       "      <td>True</td>\n",
       "      <td>...</td>\n",
       "      <td>True</td>\n",
       "      <td>False</td>\n",
       "      <td>False</td>\n",
       "      <td>False</td>\n",
       "      <td>False</td>\n",
       "      <td>False</td>\n",
       "      <td>False</td>\n",
       "      <td>False</td>\n",
       "      <td>False</td>\n",
       "      <td>False</td>\n",
       "    </tr>\n",
       "    <tr>\n",
       "      <th>...</th>\n",
       "      <td>...</td>\n",
       "      <td>...</td>\n",
       "      <td>...</td>\n",
       "      <td>...</td>\n",
       "      <td>...</td>\n",
       "      <td>...</td>\n",
       "      <td>...</td>\n",
       "      <td>...</td>\n",
       "      <td>...</td>\n",
       "      <td>...</td>\n",
       "      <td>...</td>\n",
       "      <td>...</td>\n",
       "      <td>...</td>\n",
       "      <td>...</td>\n",
       "      <td>...</td>\n",
       "      <td>...</td>\n",
       "      <td>...</td>\n",
       "      <td>...</td>\n",
       "      <td>...</td>\n",
       "      <td>...</td>\n",
       "      <td>...</td>\n",
       "    </tr>\n",
       "    <tr>\n",
       "      <th>9719</th>\n",
       "      <td>3851</td>\n",
       "      <td>5.0</td>\n",
       "      <td>I'm the One That I Want (2000)</td>\n",
       "      <td>Comedy</td>\n",
       "      <td>True</td>\n",
       "      <td>False</td>\n",
       "      <td>False</td>\n",
       "      <td>False</td>\n",
       "      <td>False</td>\n",
       "      <td>False</td>\n",
       "      <td>...</td>\n",
       "      <td>False</td>\n",
       "      <td>False</td>\n",
       "      <td>False</td>\n",
       "      <td>False</td>\n",
       "      <td>False</td>\n",
       "      <td>False</td>\n",
       "      <td>False</td>\n",
       "      <td>False</td>\n",
       "      <td>False</td>\n",
       "      <td>False</td>\n",
       "    </tr>\n",
       "    <tr>\n",
       "      <th>9720</th>\n",
       "      <td>128087</td>\n",
       "      <td>5.0</td>\n",
       "      <td>Trinity and Sartana Are Coming (1972)</td>\n",
       "      <td>Comedy|Western</td>\n",
       "      <td>True</td>\n",
       "      <td>False</td>\n",
       "      <td>False</td>\n",
       "      <td>False</td>\n",
       "      <td>False</td>\n",
       "      <td>False</td>\n",
       "      <td>...</td>\n",
       "      <td>False</td>\n",
       "      <td>False</td>\n",
       "      <td>False</td>\n",
       "      <td>False</td>\n",
       "      <td>False</td>\n",
       "      <td>False</td>\n",
       "      <td>True</td>\n",
       "      <td>False</td>\n",
       "      <td>False</td>\n",
       "      <td>False</td>\n",
       "    </tr>\n",
       "    <tr>\n",
       "      <th>9721</th>\n",
       "      <td>33138</td>\n",
       "      <td>5.0</td>\n",
       "      <td>Palindromes (2004)</td>\n",
       "      <td>Adventure|Comedy|Drama</td>\n",
       "      <td>True</td>\n",
       "      <td>True</td>\n",
       "      <td>False</td>\n",
       "      <td>True</td>\n",
       "      <td>False</td>\n",
       "      <td>False</td>\n",
       "      <td>...</td>\n",
       "      <td>False</td>\n",
       "      <td>False</td>\n",
       "      <td>False</td>\n",
       "      <td>False</td>\n",
       "      <td>False</td>\n",
       "      <td>False</td>\n",
       "      <td>False</td>\n",
       "      <td>False</td>\n",
       "      <td>False</td>\n",
       "      <td>False</td>\n",
       "    </tr>\n",
       "    <tr>\n",
       "      <th>9722</th>\n",
       "      <td>96608</td>\n",
       "      <td>5.0</td>\n",
       "      <td>Runaway Brain (1995)</td>\n",
       "      <td>Animation|Comedy|Sci-Fi</td>\n",
       "      <td>True</td>\n",
       "      <td>False</td>\n",
       "      <td>False</td>\n",
       "      <td>False</td>\n",
       "      <td>False</td>\n",
       "      <td>False</td>\n",
       "      <td>...</td>\n",
       "      <td>False</td>\n",
       "      <td>True</td>\n",
       "      <td>False</td>\n",
       "      <td>False</td>\n",
       "      <td>False</td>\n",
       "      <td>False</td>\n",
       "      <td>False</td>\n",
       "      <td>False</td>\n",
       "      <td>False</td>\n",
       "      <td>False</td>\n",
       "    </tr>\n",
       "    <tr>\n",
       "      <th>9723</th>\n",
       "      <td>53355</td>\n",
       "      <td>5.0</td>\n",
       "      <td>Sun Alley (Sonnenallee) (1999)</td>\n",
       "      <td>Comedy|Romance</td>\n",
       "      <td>True</td>\n",
       "      <td>False</td>\n",
       "      <td>False</td>\n",
       "      <td>False</td>\n",
       "      <td>False</td>\n",
       "      <td>False</td>\n",
       "      <td>...</td>\n",
       "      <td>False</td>\n",
       "      <td>False</td>\n",
       "      <td>False</td>\n",
       "      <td>False</td>\n",
       "      <td>True</td>\n",
       "      <td>False</td>\n",
       "      <td>False</td>\n",
       "      <td>False</td>\n",
       "      <td>False</td>\n",
       "      <td>False</td>\n",
       "    </tr>\n",
       "  </tbody>\n",
       "</table>\n",
       "<p>9724 rows × 23 columns</p>\n",
       "</div>"
      ],
      "text/plain": [
       "      movieId  rating                                  title  \\\n",
       "0       26696     0.5                       Lionheart (1990)   \n",
       "1        3604     0.5                           Gypsy (1962)   \n",
       "2        7312     0.5                Follow Me, Boys! (1966)   \n",
       "3      145724     0.5                  Idaho Transfer (1973)   \n",
       "4       76030     0.5                         Case 39 (2009)   \n",
       "...       ...     ...                                    ...   \n",
       "9719     3851     5.0         I'm the One That I Want (2000)   \n",
       "9720   128087     5.0  Trinity and Sartana Are Coming (1972)   \n",
       "9721    33138     5.0                     Palindromes (2004)   \n",
       "9722    96608     5.0                  Runaway Brain (1995)    \n",
       "9723    53355     5.0         Sun Alley (Sonnenallee) (1999)   \n",
       "\n",
       "                       genres  Comedy  Drama  Action  Adventure  Crime  \\\n",
       "0                      Action   False  False    True      False  False   \n",
       "1                     Musical   False  False   False      False  False   \n",
       "2                Comedy|Drama    True   True   False      False  False   \n",
       "3                      Sci-Fi   False  False   False      False  False   \n",
       "4             Horror|Thriller   False  False   False      False  False   \n",
       "...                       ...     ...    ...     ...        ...    ...   \n",
       "9719                   Comedy    True  False   False      False  False   \n",
       "9720           Comedy|Western    True  False   False      False  False   \n",
       "9721   Adventure|Comedy|Drama    True   True   False       True  False   \n",
       "9722  Animation|Comedy|Sci-Fi    True  False   False      False  False   \n",
       "9723           Comedy|Romance    True  False   False      False  False   \n",
       "\n",
       "      Horror  ...  Thriller  Sci_Fi  Mystery  Fantasy  Romance  \\\n",
       "0      False  ...     False   False    False    False    False   \n",
       "1      False  ...     False   False    False    False    False   \n",
       "2      False  ...     False   False    False    False    False   \n",
       "3      False  ...     False    True    False    False    False   \n",
       "4       True  ...      True   False    False    False    False   \n",
       "...      ...  ...       ...     ...      ...      ...      ...   \n",
       "9719   False  ...     False   False    False    False    False   \n",
       "9720   False  ...     False   False    False    False    False   \n",
       "9721   False  ...     False   False    False    False    False   \n",
       "9722   False  ...     False    True    False    False    False   \n",
       "9723   False  ...     False   False    False    False     True   \n",
       "\n",
       "      (no genres listed)  Western  Musical  Film-Noir    War  \n",
       "0                  False    False    False      False  False  \n",
       "1                  False    False     True      False  False  \n",
       "2                  False    False    False      False  False  \n",
       "3                  False    False    False      False  False  \n",
       "4                  False    False    False      False  False  \n",
       "...                  ...      ...      ...        ...    ...  \n",
       "9719               False    False    False      False  False  \n",
       "9720               False     True    False      False  False  \n",
       "9721               False    False    False      False  False  \n",
       "9722               False    False    False      False  False  \n",
       "9723               False    False    False      False  False  \n",
       "\n",
       "[9724 rows x 23 columns]"
      ]
     },
     "execution_count": 286,
     "metadata": {},
     "output_type": "execute_result"
    }
   ],
   "source": [
    "ratings_movies = ratings_movie_chrt.merge(movies, left_on='movieId', right_on='movieId')\n",
    "ratings_movies"
   ]
  },
  {
   "cell_type": "code",
   "execution_count": 279,
   "metadata": {
    "ExecuteTime": {
     "end_time": "2023-04-11T03:14:29.611552Z",
     "start_time": "2023-04-11T03:14:29.598152Z"
    }
   },
   "outputs": [
    {
     "data": {
      "text/html": [
       "<div>\n",
       "<style scoped>\n",
       "    .dataframe tbody tr th:only-of-type {\n",
       "        vertical-align: middle;\n",
       "    }\n",
       "\n",
       "    .dataframe tbody tr th {\n",
       "        vertical-align: top;\n",
       "    }\n",
       "\n",
       "    .dataframe thead th {\n",
       "        text-align: right;\n",
       "    }\n",
       "</style>\n",
       "<table border=\"1\" class=\"dataframe\">\n",
       "  <thead>\n",
       "    <tr style=\"text-align: right;\">\n",
       "      <th></th>\n",
       "      <th>userId</th>\n",
       "      <th>rating</th>\n",
       "    </tr>\n",
       "  </thead>\n",
       "  <tbody>\n",
       "    <tr>\n",
       "      <th>0</th>\n",
       "      <td>1</td>\n",
       "      <td>4.366379</td>\n",
       "    </tr>\n",
       "    <tr>\n",
       "      <th>1</th>\n",
       "      <td>2</td>\n",
       "      <td>3.948276</td>\n",
       "    </tr>\n",
       "    <tr>\n",
       "      <th>2</th>\n",
       "      <td>3</td>\n",
       "      <td>2.435897</td>\n",
       "    </tr>\n",
       "    <tr>\n",
       "      <th>3</th>\n",
       "      <td>4</td>\n",
       "      <td>3.555556</td>\n",
       "    </tr>\n",
       "    <tr>\n",
       "      <th>4</th>\n",
       "      <td>5</td>\n",
       "      <td>3.636364</td>\n",
       "    </tr>\n",
       "    <tr>\n",
       "      <th>...</th>\n",
       "      <td>...</td>\n",
       "      <td>...</td>\n",
       "    </tr>\n",
       "    <tr>\n",
       "      <th>605</th>\n",
       "      <td>606</td>\n",
       "      <td>3.657399</td>\n",
       "    </tr>\n",
       "    <tr>\n",
       "      <th>606</th>\n",
       "      <td>607</td>\n",
       "      <td>3.786096</td>\n",
       "    </tr>\n",
       "    <tr>\n",
       "      <th>607</th>\n",
       "      <td>608</td>\n",
       "      <td>3.134176</td>\n",
       "    </tr>\n",
       "    <tr>\n",
       "      <th>608</th>\n",
       "      <td>609</td>\n",
       "      <td>3.270270</td>\n",
       "    </tr>\n",
       "    <tr>\n",
       "      <th>609</th>\n",
       "      <td>610</td>\n",
       "      <td>3.688556</td>\n",
       "    </tr>\n",
       "  </tbody>\n",
       "</table>\n",
       "<p>610 rows × 2 columns</p>\n",
       "</div>"
      ],
      "text/plain": [
       "     userId    rating\n",
       "0         1  4.366379\n",
       "1         2  3.948276\n",
       "2         3  2.435897\n",
       "3         4  3.555556\n",
       "4         5  3.636364\n",
       "..      ...       ...\n",
       "605     606  3.657399\n",
       "606     607  3.786096\n",
       "607     608  3.134176\n",
       "608     609  3.270270\n",
       "609     610  3.688556\n",
       "\n",
       "[610 rows x 2 columns]"
      ]
     },
     "execution_count": 279,
     "metadata": {},
     "output_type": "execute_result"
    }
   ],
   "source": [
    "# displaying average rating by userId\n",
    "ratings_user_chrt = (\n",
    "    ratings\n",
    "    .groupby('userId')['rating']\n",
    "    .mean()\n",
    "    .reset_index()\n",
    "    )\n",
    "\n",
    "ratings_user_chrt"
   ]
  },
  {
   "cell_type": "code",
   "execution_count": 265,
   "metadata": {
    "ExecuteTime": {
     "end_time": "2023-04-11T03:00:10.316537Z",
     "start_time": "2023-04-11T03:00:09.579959Z"
    }
   },
   "outputs": [
    {
     "data": {
      "image/png": "[encoded data removed]",
      "text/plain": [
       "<Figure size 1152x576 with 1 Axes>"
      ]
     },
     "metadata": {
      "needs_background": "light"
     },
     "output_type": "display_data"
    }
   ],
   "source": [
    "# creating a word cloud for the tags that were created as a part of the review process.\n",
    "\n",
    "from wordcloud import WordCloud\n",
    "\n",
    "# Read the whole text.\n",
    "text = tags['tag']\n",
    "\n",
    "# Generate a word cloud image\n",
    "wordcloud = WordCloud().generate(' '.join(tags['tag']))\n",
    "\n",
    "# take relative word frequencies into account, lower max_font_size\n",
    "wordcloud = WordCloud(background_color=\"white\",max_words=50,max_font_size=40, relative_scaling=.5,width=600, height=400).generate(' '.join(tags['tag']))\n",
    "plt.figure(figsize=(16,8))\n",
    "plt.imshow(wordcloud)\n",
    "plt.axis(\"off\")\n",
    "plt.show()"
   ]
  },
  {
   "cell_type": "code",
   "execution_count": null,
   "metadata": {},
   "outputs": [],
   "source": [
    "* How many movies? x \n",
    "* How many users? x \n",
    "* How many ratings? x \n",
    "* How many ratings per user? per movie?\n",
    "* How many ratings by year? x \n",
    "* How many movies by genre? How many ratings per genre? Average rating per genre?\n",
    "* Highest rated movies?  Lowest rated movies?\n",
    "* Distribution of ratings? x\n",
    "* Tags word cloud? x\n"
   ]
  },
  {
   "cell_type": "markdown",
   "metadata": {},
   "source": [
    "# Model Testing"
   ]
  },
  {
   "cell_type": "code",
   "execution_count": 45,
   "metadata": {
    "ExecuteTime": {
     "end_time": "2023-03-20T04:01:56.772747Z",
     "start_time": "2023-03-20T04:01:56.642263Z"
    }
   },
   "outputs": [],
   "source": [
    "from surprise import accuracy, Dataset, SVD, SVDpp, KNNBasic, NMF, CoClustering, SlopeOne, NormalPredictor, Reader\n",
    "from surprise.model_selection import train_test_split, GridSearchCV, cross_validate\n",
    "from surprise.model_selection import GridSearchCV\n",
    "\n",
    "# A reader is still needed but only the rating_scale param is requiered.\n",
    "reader = Reader(rating_scale=(1, 5))\n",
    "\n",
    "# The columns must correspond to user id, item id and ratings (in that order).\n",
    "data = Dataset.load_from_df(ratings[['userId', 'movieId', 'rating']], reader)"
   ]
  },
  {
   "cell_type": "code",
   "execution_count": 47,
   "metadata": {
    "ExecuteTime": {
     "end_time": "2023-03-20T04:05:18.391841Z",
     "start_time": "2023-03-20T04:02:27.985270Z"
    }
   },
   "outputs": [
    {
     "name": "stdout",
     "output_type": "stream",
     "text": [
      "Computing the msd similarity matrix...\n",
      "Done computing similarity matrix.\n",
      "Computing the msd similarity matrix...\n",
      "Done computing similarity matrix.\n",
      "Computing the msd similarity matrix...\n",
      "Done computing similarity matrix.\n",
      "Computing the msd similarity matrix...\n",
      "Done computing similarity matrix.\n",
      "Computing the msd similarity matrix...\n",
      "Done computing similarity matrix.\n"
     ]
    }
   ],
   "source": [
    "algo_1 = SVD()\n",
    "algo_2 = KNNBasic()\n",
    "algo_3 = NMF()\n",
    "algo_4 = CoClustering()\n",
    "algo_5 = SlopeOne()\n",
    "\n",
    "# Run 5-fold cross-validation and print results\n",
    "algo_1_dict = cross_validate(algo1, data, measures=['RMSE', 'MAE'], cv=5, verbose=False)\n",
    "algo_2_dict = cross_validate(algo2, data, measures=['RMSE', 'MAE'], cv=5, verbose=False)\n",
    "algo_3_dict = cross_validate(algo3, data, measures=['RMSE', 'MAE'], cv=5, verbose=False)\n",
    "algo_4_dict = cross_validate(algo4, data, measures=['RMSE', 'MAE'], cv=5, verbose=False)\n",
    "algo_5_dict = cross_validate(algo5, data, measures=['RMSE', 'MAE'], cv=5, verbose=False)"
   ]
  },
  {
   "cell_type": "code",
   "execution_count": 48,
   "metadata": {
    "ExecuteTime": {
     "end_time": "2023-03-20T04:05:25.595047Z",
     "start_time": "2023-03-20T04:05:25.243844Z"
    }
   },
   "outputs": [
    {
     "data": {
      "image/png": "[encoded data removed]",
      "text/plain": [
       "<Figure size 432x288 with 1 Axes>"
      ]
     },
     "metadata": {
      "needs_background": "light"
     },
     "output_type": "display_data"
    }
   ],
   "source": [
    "\n",
    "import matplotlib.pyplot as plt\n",
    "\n",
    "algos = ['SVD', 'KNN', 'NMF', 'CoClustering', 'SlopeOne']\n",
    "x_pos = np.arange(float(len(algos)))\n",
    "\n",
    "Y = [algo1_dict['test_rmse'], algo2_dict['test_rmse'], algo3_dict['test_rmse'], algo4_dict['test_rmse'], algo5_dict['test_rmse']]\n",
    "for y in range(len(Y)):\n",
    "  plt.scatter([algos[y], algos[y], algos[y], algos[y], algos[y]], Y[y], marker='o')"
   ]
  },
  {
   "cell_type": "code",
   "execution_count": 49,
   "metadata": {
    "ExecuteTime": {
     "end_time": "2023-03-20T04:05:27.487647Z",
     "start_time": "2023-03-20T04:05:27.482769Z"
    }
   },
   "outputs": [],
   "source": [
    "from collections import defaultdict\n",
    "\n",
    "def get_top_n(predictions, n=10):\n",
    "    '''Return the top-N recommendation for each user from a set of predictions.\n",
    "\n",
    "    Args:\n",
    "        predictions(list of Prediction objects): The list of predictions, as\n",
    "            returned by the test method of an algorithm.\n",
    "        n(int): The number of recommendation to output for each user. Default\n",
    "            is 10.\n",
    "\n",
    "    Returns:\n",
    "    A dict where keys are user (raw) ids and values are lists of tuples:\n",
    "        [(raw item id, rating estimation), ...] of size n.\n",
    "    '''\n",
    "\n",
    "    # First map the predictions to each user.\n",
    "    top_n = defaultdict(list)\n",
    "    for uid, iid, true_r, est, _ in predictions:\n",
    "        top_n[uid].append((iid, est))\n",
    "\n",
    "    # Then sort the predictions for each user and retrieve the k highest ones.\n",
    "    for uid, user_ratings in top_n.items():\n",
    "        user_ratings.sort(key=lambda x: x[1], reverse=True)\n",
    "        top_n[uid] = user_ratings[:n]\n",
    "\n",
    "    return top_n"
   ]
  },
  {
   "cell_type": "code",
   "execution_count": 50,
   "metadata": {
    "ExecuteTime": {
     "end_time": "2023-03-20T04:06:39.074194Z",
     "start_time": "2023-03-20T04:05:28.821443Z"
    }
   },
   "outputs": [
    {
     "name": "stdout",
     "output_type": "stream",
     "text": [
      "1 [318, 48516, 58559, 720, 898, 899, 904, 1199, 1225, 1288]\n",
      "2 [260, 1250, 2959, 750, 1262, 1204, 1136, 1249, 6787, 1233]\n",
      "3 [54001, 4993, 3639, 1217, 1261, 6016, 4002, 6, 91529, 5952]\n",
      "4 [1233, 115617, 951, 2677, 4993, 356, 54190, 58559, 3836, 1387]\n",
      "5 [1204, 1104, 951, 48516, 96821, 1136, 68237, 541, 1225, 6711]\n",
      "6 [898, 1196, 1270, 1225, 1197, 4306, 44195, 1210, 112552, 750]\n",
      "7 [2959, 1197, 475, 2571, 1249, 527, 7361, 1247, 81834, 1307]\n",
      "8 [1204, 1210, 475, 1199, 2571, 2160, 1198, 1196, 858, 260]\n",
      "9 [260, 912, 541, 1196, 1104, 3451, 1233, 1204, 1213, 858]\n",
      "10 [898, 3147, 2804, 3451, 3836, 223, 1193, 3037, 951, 1259]\n",
      "11 [2571, 50, 1198, 1197, 527, 3147, 912, 1213, 3451, 930]\n",
      "12 [356, 1136, 1198, 1208, 1213, 1617, 2542, 318, 112552, 720]\n",
      "13 [318, 527, 904, 2959, 1089, 3275, 296, 1203, 750, 589]\n",
      "14 [750, 3275, 1206, 1225, 4973, 1276, 912, 1204, 6016, 1217]\n",
      "15 [3451, 593, 1704, 750, 1204, 951, 4848, 44195, 1104, 916]\n",
      "16 [1233, 898, 908, 1204, 922, 1262, 1086, 1235, 7090, 142488]\n",
      "17 [1204, 56782, 1217, 1233, 1262, 1203, 912, 914, 1250, 57669]\n",
      "18 [750, 1233, 898, 1197, 1104, 914, 951, 1204, 912, 720]\n",
      "19 [318, 750, 1223, 1199, 4993, 2019, 50, 858, 1208, 6874]\n",
      "20 [924, 7153, 260, 4973, 1208, 750, 1221, 27156, 1247, 111]\n",
      "21 [246, 3347, 3448, 44555, 96821, 3037, 2580, 3972, 98243, 3275]\n",
      "22 [2571, 951, 527, 1198, 750, 1221, 260, 34405, 7143, 50]\n",
      "23 [6711, 142488, 6016, 1104, 318, 1262, 1197, 3468, 914, 1673]\n",
      "24 [898, 48516, 112552, 904, 1178, 2324, 1237, 3275, 1258, 1204]\n",
      "25 [50, 110, 1089, 1136, 1208, 1213, 2329, 2542, 2858, 2959]\n",
      "26 [3451, 858, 318, 1198, 1104, 260, 741, 1136, 898, 58559]\n",
      "27 [898, 31658, 1945, 3275, 1237, 908, 2542, 951, 58, 1213]\n",
      "28 [1203, 31658, 1104, 1242, 223, 745, 112552, 5690, 68954, 2324]\n",
      "29 [4226, 898, 593, 1203, 246, 2502, 5618, 38061, 3451, 4973]\n",
      "30 [1136, 1213, 48516, 898, 904, 1225, 750, 1276, 7361, 38061]\n",
      "31 [318, 50, 475, 58559, 246, 1266, 2231, 898, 2360, 3836]\n",
      "32 [1387, 1276, 1221, 1206, 750, 1250, 913, 720, 1291, 7153]\n",
      "33 [2959, 750, 4226, 858, 7361, 1197, 7438, 1732, 162, 68157]\n",
      "34 [913, 1233, 951, 912, 112852, 922, 1283, 49272, 56782, 84152]\n",
      "35 [246, 750, 318, 1136, 223, 4262, 3037, 913, 112552, 1104]\n",
      "36 [750, 1258, 110, 1276, 3275, 1204, 1225, 1213, 5902, 3037]\n",
      "37 [1223, 1258, 1199, 4226, 899, 58559, 1233, 904, 1104, 1247]\n",
      "38 [1136, 112552, 3275, 96821, 1041, 7371, 720, 67255, 1261, 5690]\n",
      "39 [904, 2019, 8874, 1208, 2959, 318, 5952, 750, 1193, 4011]\n",
      "40 [541, 7090, 593, 1104, 912, 922, 1270, 1172, 1193, 2959]\n",
      "41 [3671, 720, 1035, 1267, 168252, 1204, 1304, 1278, 142488, 1956]\n",
      "42 [4226, 1204, 105504, 1276, 1233, 778, 951, 1258, 1248, 750]\n",
      "43 [6, 50, 101, 223, 527, 608, 919, 923, 940, 1090]\n",
      "44 [1204, 1136, 750, 541, 1233, 1387, 953, 6350, 912, 951]\n",
      "45 [1148, 527, 48516, 1204, 1200, 63082, 79132, 3275, 105504, 904]\n",
      "46 [2571, 750, 912, 260, 898, 1221, 930, 3275, 951, 246]\n",
      "47 [527, 912, 898, 67255, 457, 91529, 44195, 1086, 904, 908]\n",
      "48 [260, 1136, 858, 318, 593, 750, 50, 1196, 2324, 296]\n",
      "49 [1136, 246, 1235, 48516, 1222, 1276, 2959, 5952, 904, 1203]\n",
      "50 [3451, 4993, 1221, 720, 1276, 2804, 4027, 5952, 527, 1196]\n",
      "51 [1136, 1206, 2959, 6874, 4226, 4993, 5618, 5952, 7153, 933]\n",
      "52 [1213, 475, 898, 1203, 1250, 922, 1262, 1204, 246, 1104]\n",
      "53 [1, 6, 47, 50, 101, 110, 223, 235, 260, 296]\n",
      "54 [3275, 750, 246, 475, 3037, 898, 1235, 1213, 1617, 1237]\n",
      "55 [904, 2959, 296, 750, 260, 741, 50, 4973, 4226, 104879]\n",
      "56 [1136, 1204, 1213, 908, 904, 858, 60069, 58559, 541, 4226]\n",
      "57 [318, 68157, 1235, 4973, 55820, 4226, 741, 2959, 7361, 58559]\n",
      "58 [750, 71535, 1204, 1252, 1213, 720, 105504, 56782, 76093, 1041]\n",
      "59 [898, 1104, 4993, 1217, 1267, 1136, 3275, 6016, 1199, 58559]\n",
      "60 [112552, 1262, 1172, 1197, 105504, 1204, 3100, 1270, 1104, 1213]\n",
      "61 [3275, 750, 48516, 904, 1221, 858, 1104, 246, 908, 3451]\n",
      "62 [912, 750, 1204, 2324, 904, 1104, 1136, 1262, 741, 908]\n",
      "63 [2186, 106782, 1104, 1267, 2160, 904, 928, 142488, 1212, 914]\n",
      "64 [750, 904, 1080, 3275, 48516, 1178, 1041, 6787, 5995, 720]\n",
      "65 [1258, 356, 4973, 1204, 246, 1276, 57669, 50, 750, 1208]\n",
      "66 [750, 908, 898, 1276, 3897, 2329, 3468, 1104, 57669, 1231]\n",
      "67 [904, 910, 1262, 3275, 475, 1246, 527, 1197, 898, 2160]\n",
      "68 [56782, 171763, 112552, 8950, 750, 3681, 7371, 1237, 97304, 7934]\n",
      "69 [38061, 951, 1209, 1204, 898, 475, 914, 527, 1197, 904]\n",
      "70 [750, 1136, 1104, 1223, 2959, 1041, 3030, 7153, 904, 898]\n",
      "71 [898, 246, 112552, 1237, 1258, 475, 1212, 1104, 2160, 1197]\n",
      "72 [750, 48516, 930, 1201, 904, 1197, 2019, 1208, 4878, 1136]\n",
      "73 [1204, 1235, 4993, 912, 112552, 1198, 7361, 7153, 899, 1270]\n",
      "74 [318, 527, 750, 1204, 1089, 904, 50, 1198, 720, 1201]\n",
      "75 [858, 913, 58559, 1250, 1221, 2858, 50, 1276, 750, 1233]\n",
      "76 [4973, 50, 27773, 4993, 1270, 1198, 7371, 6350, 3030, 1233]\n",
      "77 [475, 741, 457, 2329, 951, 912, 1204, 8368, 1213, 318]\n",
      "78 [246, 1223, 2959, 3508, 1136, 904, 48516, 2028, 1204, 1089]\n",
      "79 [5690, 904, 912, 1204, 1250, 908, 922, 1203, 318, 5995]\n",
      "80 [904, 246, 1198, 1237, 2329, 1217, 142488, 1673, 475, 1249]\n",
      "81 [246, 922, 3275, 1261, 475, 1276, 5690, 741, 2019, 899]\n",
      "82 [60684, 2959, 142488, 7361, 1223, 904, 2580, 4973, 318, 2324]\n",
      "83 [1208, 951, 912, 527, 1089, 3275, 2571, 38061, 3451, 1196]\n",
      "84 [2959, 7361, 4226, 6787, 1204, 1261, 2858, 1250, 720, 3275]\n",
      "85 [4993, 7153, 5952, 50, 750, 1104, 293, 1201, 3451, 1199]\n",
      "86 [750, 1204, 904, 1104, 899, 48516, 3275, 908, 177593, 27773]\n",
      "87 [1223, 318, 912, 750, 3030, 48516, 2019, 1104, 1204, 1246]\n",
      "88 [593, 1198, 296, 7090, 1201, 246, 898, 2329, 1221, 904]\n",
      "89 [2580, 926, 1298, 145283, 44555, 36529, 3141, 1344, 714, 3082]\n",
      "90 [1250, 318, 1213, 2959, 1197, 1193, 3037, 1198, 1196, 2571]\n",
      "91 [1104, 1204, 1251, 1233, 4848, 930, 1732, 38061, 66934, 78499]\n",
      "92 [750, 1213, 2959, 904, 2571, 1104, 475, 1204, 741, 1276]\n",
      "93 [296, 457, 1089, 1196, 1197, 1198, 1208, 1213, 1732, 2542]\n",
      "94 [750, 3275, 260, 1204, 48516, 1208, 2571, 1196, 898, 2019]\n",
      "95 [318, 356, 7090, 904, 750, 1262, 1136, 1203, 58559, 1237]\n",
      "96 [318, 7153, 1283, 5060, 1197, 2959, 5952, 1196, 48516, 3508]\n",
      "97 [1213, 930, 898, 527, 475, 541, 3451, 1089, 1104, 1204]\n",
      "98 [1225, 475, 57669, 1276, 318, 2959, 142488, 306, 2858, 1228]\n",
      "99 [898, 1104, 1178, 3275, 750, 1704, 48516, 1213, 8874, 951]\n",
      "100 [750, 1204, 930, 7090, 898, 1104, 1233, 1237, 318, 1193]\n",
      "101 [296, 318, 750, 904, 1221, 27773, 1258, 899, 1235, 1208]\n",
      "102 [527, 904, 1203, 4973, 910, 858, 1196, 1233, 72226, 1136]\n",
      "103 [904, 908, 3037, 910, 6787, 1250, 1204, 898, 866, 2288]\n",
      "104 [3275, 246, 475, 1261, 1267, 898, 933, 142488, 3347, 50]\n",
      "105 [246, 1041, 3424, 1104, 1252, 3451, 1262, 4848, 866, 177593]\n",
      "106 [1223, 1237, 1204, 3508, 1080, 112552, 1213, 56782, 750, 3030]\n",
      "107 [1208, 527, 1204, 750, 356, 2329, 38061, 904, 1201, 1193]\n",
      "108 [2959, 177593, 904, 7361, 4011, 1237, 318, 6874, 56782, 48780]\n",
      "109 [1237, 898, 1261, 1204, 1270, 3275, 7361, 933, 2959, 56782]\n",
      "110 [904, 4226, 2324, 1203, 1704, 318, 858, 1199, 750, 593]\n",
      "111 [5673, 3836, 898, 116897, 26326, 106642, 6214, 922, 44555, 1276]\n",
      "112 [1234, 527, 33794, 1197, 750, 4973, 2300, 1204, 4011, 1222]\n",
      "113 [1221, 898, 79132, 913, 541, 4011, 4973, 3275, 246, 318]\n",
      "114 [1104, 246, 7371, 1178, 318, 3275, 1213, 1258, 1673, 112552]\n",
      "115 [3451, 1262, 318, 1228, 1732, 1193, 2396, 904, 858, 1276]\n",
      "116 [2580, 50, 904, 2542, 913, 1172, 3508, 1248, 1235, 27156]\n",
      "117 [858, 1204, 1252, 912, 750, 1262, 904, 1196, 2571, 3147]\n",
      "118 [318, 50, 1198, 2959, 1223, 1136, 2571, 4973, 7153, 3468]\n",
      "119 [1237, 741, 1223, 898, 1136, 899, 1235, 1104, 1233, 2160]\n",
      "120 [318, 750, 1196, 904, 3451, 912, 1197, 1198, 1193, 1208]\n",
      "121 [1252, 1193, 1204, 858, 1267, 1225, 1203, 1208, 904, 866]\n",
      "122 [527, 898, 908, 912, 1203, 2324, 4226, 750, 4993, 5618]\n",
      "123 [3275, 750, 38061, 1276, 50, 1204, 1261, 1203, 741, 898]\n",
      "124 [527, 4973, 912, 1197, 1136, 1203, 1270, 1089, 1242, 904]\n",
      "125 [475, 1237, 750, 1213, 3508, 57669, 1303, 4642, 2019, 246]\n",
      "126 [1270, 3451, 1196, 1193, 1266, 898, 1208, 858, 1198, 1307]\n",
      "127 [1204, 1104, 750, 1262, 246, 3037, 912, 1213, 908, 2300]\n",
      "128 [246, 1213, 1223, 318, 1261, 1148, 922, 3836, 1235, 3037]\n",
      "129 [58559, 3275, 898, 912, 318, 1198, 1213, 3147, 112552, 1204]\n",
      "130 [1249, 904, 2324, 898, 2329, 1237, 913, 1193, 908, 1148]\n",
      "131 [246, 750, 5690, 3730, 898, 1204, 720, 1258, 527, 112552]\n",
      "132 [908, 750, 1272, 4011, 1209, 720, 1104, 1262, 1278, 741]\n",
      "133 [1262, 750, 1204, 1246, 7371, 1252, 7090, 898, 171763, 1104]\n",
      "134 [3275, 904, 750, 318, 898, 1104, 1089, 38061, 112552, 2324]\n",
      "135 [720, 1193, 778, 930, 2019, 7153, 6787, 1089, 89904, 541]\n",
      "136 [1276, 750, 58, 3451, 1233, 1086, 318, 27611, 922, 3275]\n",
      "137 [899, 898, 1283, 2194, 1217, 5690, 3037, 1104, 162, 1223]\n",
      "138 [48516, 750, 1225, 904, 7371, 926, 1136, 1209, 1250, 1204]\n",
      "139 [318, 1196, 1208, 741, 1197, 589, 1172, 356, 1041, 2571]\n",
      "140 [68954, 119145, 5690, 1261, 2329, 720, 112552, 1203, 177593, 8132]\n",
      "141 [899, 3275, 1213, 898, 912, 1104, 1204, 475, 246, 3037]\n",
      "142 [858, 2959, 1204, 318, 1104, 260, 1276, 1136, 1198, 750]\n",
      "143 [1197, 527, 951, 899, 1350, 81834, 2202, 1198, 2194, 2028]\n",
      "144 [750, 1204, 7361, 4878, 318, 1258, 3468, 1199, 898, 6016]\n",
      "145 [475, 1041, 1217, 57669, 177593, 2160, 750, 56782, 246, 4993]\n",
      "146 [1089, 356, 1193, 2571, 1079, 3451, 4973, 2019, 858, 951]\n",
      "147 [4973, 296, 1136, 260, 750, 1089, 1104, 7153, 2324, 720]\n",
      "148 [318, 1228, 1203, 106642, 904, 1208, 2186, 1178, 50, 1250]\n",
      "149 [4973, 904, 913, 908, 1204, 296, 1148, 4226, 48516, 3730]\n",
      "150 [1136, 750, 1204, 541, 1208, 50, 7153, 930, 5952, 1041]\n",
      "151 [904, 318, 1233, 1237, 898, 912, 3451, 1136, 922, 1204]\n",
      "152 [912, 4226, 898, 1204, 2019, 1261, 1617, 1283, 913, 1223]\n",
      "153 [293, 6874, 1172, 750, 47, 3730, 48516, 593, 4993, 555]\n",
      "154 [527, 318, 912, 1204, 1201, 48516, 7153, 908, 142488, 5618]\n",
      "155 [1204, 908, 1233, 246, 1250, 1237, 1089, 3275, 475, 1193]\n",
      "156 [4878, 60069, 1223, 2160, 1233, 56782, 8874, 1148, 1748, 4848]\n",
      "157 [318, 750, 356, 858, 2324, 904, 741, 110, 58559, 3275]\n",
      "158 [260, 50, 593, 2571, 750, 1104, 1198, 1041, 246, 318]\n",
      "159 [171763, 170705, 3000, 5690, 475, 76093, 4995, 142422, 898, 922]\n",
      "160 [1247, 4973, 3949, 318, 56367, 720, 60069, 4226, 1945, 69122]\n",
      "161 [50, 1209, 4878, 7361, 1193, 904, 1288, 57669, 1237, 1252]\n",
      "162 [56782, 1199, 898, 1245, 6787, 3508, 1148, 1223, 2959, 3275]\n",
      "163 [318, 1193, 260, 1250, 904, 750, 56782, 1196, 1252, 1208]\n",
      "164 [2571, 1204, 1213, 750, 2028, 246, 527, 904, 475, 933]\n",
      "165 [4993, 7153, 318, 58559, 112852, 593, 1104, 2959, 78499, 1213]\n",
      "166 [1204, 750, 1104, 1213, 3030, 78499, 1223, 922, 898, 913]\n",
      "167 [1213, 3362, 922, 105504, 1199, 48516, 3675, 54503, 6350, 2692]\n",
      "168 [318, 1199, 2324, 2959, 4226, 1261, 3468, 168252, 2571, 3508]\n",
      "169 [1262, 908, 1225, 750, 904, 3275, 930, 1199, 57669, 3451]\n",
      "170 [1041, 1252, 3275, 750, 1213, 2324, 48738, 1208, 58559, 1104]\n",
      "171 [50, 223, 356, 527, 1213, 1222, 1258, 2329, 2542, 2959]\n",
      "172 [1204, 3275, 908, 3037, 50, 1673, 951, 750, 142488, 318]\n",
      "173 [1104, 3508, 1225, 1193, 1213, 1178, 318, 1197, 7361, 1208]\n",
      "174 [1228, 318, 904, 1252, 898, 3037, 3275, 1086, 246, 1237]\n",
      "175 [2324, 356, 296, 318, 1208, 778, 2959, 1193, 858, 1213]\n",
      "176 [1208, 750, 7361, 38061, 142488, 2028, 1193, 904, 27773, 1233]\n",
      "177 [72226, 1262, 106642, 1208, 2186, 111, 3147, 1178, 908, 3836]\n",
      "178 [260, 750, 858, 926, 912, 1148, 6787, 89904, 1704, 1203]\n",
      "179 [2324, 1212, 1213, 922, 3275, 3836, 898, 177593, 2959, 246]\n",
      "180 [1223, 1203, 4973, 750, 541, 912, 296, 904, 2028, 1104]\n",
      "181 [318, 898, 3030, 31658, 1276, 4995, 1172, 908, 3836, 48516]\n",
      "182 [58, 951, 2288, 170705, 38061, 48516, 79132, 93840, 56715, 90576]\n",
      "183 [1250, 246, 1283, 58559, 3435, 1217, 1208, 296, 2959, 1204]\n",
      "184 [1198, 2571, 318, 1208, 296, 741, 260, 2028, 2959, 2324]\n",
      "185 [750, 1204, 4973, 7361, 1704, 904, 1225, 2324, 6874, 1235]\n",
      "186 [3275, 1104, 1250, 922, 1276, 246, 48516, 912, 1233, 3246]\n",
      "187 [1387, 1233, 1228, 48516, 3468, 1248, 908, 3037, 1719, 899]\n",
      "188 [318, 1104, 3147, 1276, 858, 1213, 1178, 527, 260, 1225]\n",
      "189 [750, 246, 1204, 1041, 904, 1104, 898, 1217, 1276, 1199]\n",
      "190 [1204, 951, 1136, 1104, 3451, 78499, 1089, 904, 1201, 922]\n",
      "191 [858, 527, 1204, 923, 541, 1203, 2959, 1288, 1201, 1136]\n",
      "192 [1136, 1104, 318, 1213, 1196, 1270, 1208, 246, 177593, 898]\n",
      "193 [56782, 4993, 1104, 930, 5952, 898, 720, 741, 48516, 1261]\n",
      "194 [318, 2959, 904, 50, 858, 296, 3275, 177593, 1104, 1089]\n",
      "195 [2959, 1104, 57669, 4963, 750, 1411, 4848, 1394, 1242, 4226]\n",
      "196 [904, 318, 741, 1199, 3275, 260, 903, 750, 1172, 2324]\n",
      "197 [2959, 4973, 1104, 1204, 750, 720, 1210, 4226, 5995, 38061]\n",
      "198 [1208, 527, 3275, 2160, 1262, 3451, 6377, 57504, 27773, 1276]\n",
      "199 [1193, 926, 2019, 3030, 27773, 1219, 3730, 2186, 6350, 101]\n",
      "200 [750, 858, 1204, 56782, 1136, 930, 1228, 106642, 91529, 2019]\n",
      "201 [2571, 318, 246, 1208, 1945, 908, 1221, 750, 1673, 3147]\n",
      "202 [527, 1178, 2019, 1104, 27773, 951, 5995, 5690, 1213, 904]\n",
      "203 [527, 1261, 1252, 1704, 7371, 260, 3275, 904, 1276, 1307]\n",
      "204 [741, 7153, 933, 475, 1237, 1199, 1104, 38061, 44555, 1249]\n",
      "205 [750, 2571, 1198, 318, 1204, 1196, 2959, 904, 951, 3200]\n",
      "206 [318, 750, 904, 1204, 48516, 260, 1213, 4973, 858, 1203]\n",
      "207 [246, 318, 48516, 2959, 1276, 3275, 1178, 778, 1213, 5618]\n",
      "208 [318, 912, 3451, 1204, 1208, 1262, 50, 1207, 2019, 741]\n",
      "209 [904, 142488, 1204, 48516, 750, 50, 1252, 1233, 1249, 1288]\n",
      "210 [57669, 318, 1213, 2788, 1223, 1104, 720, 112552, 1041, 56782]\n",
      "211 [1262, 1259, 741, 1276, 1213, 527, 1250, 608, 1242, 2324]\n",
      "212 [898, 1204, 1212, 1041, 3451, 912, 3275, 866, 6787, 1272]\n",
      "213 [750, 1276, 318, 1204, 904, 1213, 1233, 1258, 1104, 1704]\n",
      "214 [318, 50, 1208, 1204, 2959, 475, 2160, 922, 1104, 1201]\n",
      "215 [3037, 1262, 904, 750, 1276, 5690, 1204, 1086, 1252, 112552]\n",
      "216 [3451, 2329, 908, 1204, 1272, 541, 2692, 1276, 2028, 1250]\n",
      "217 [1213, 5690, 246, 750, 44195, 3967, 1250, 92535, 898, 112552]\n",
      "218 [2571, 318, 858, 527, 260, 1213, 2959, 720, 589, 1208]\n",
      "219 [1249, 1203, 2324, 1208, 106782, 1193, 1267, 89904, 750, 1276]\n",
      "220 [1276, 1250, 1225, 741, 1204, 1262, 1203, 3030, 171763, 1079]\n",
      "221 [4226, 2288, 5618, 2067, 78499, 899, 1704, 104879, 48516, 142488]\n",
      "222 [318, 750, 7361, 7153, 1136, 260, 1204, 4226, 2160, 1197]\n",
      "223 [750, 7371, 1204, 1252, 1228, 5952, 1248, 2959, 1214, 1237]\n",
      "224 [318, 3451, 1228, 1201, 1203, 2194, 2186, 914, 5690, 951]\n",
      "225 [1198, 111759, 1204, 1225, 1276, 3030, 1217, 318, 58559, 1262]\n",
      "226 [318, 1221, 858, 913, 7438, 745, 904, 910, 908, 293]\n",
      "227 [1104, 1276, 899, 142488, 1225, 1262, 3275, 904, 1245, 1267]\n",
      "228 [2324, 1198, 1210, 57669, 1204, 475, 750, 904, 68954, 1203]\n",
      "229 [1213, 2571, 3836, 1198, 1089, 3030, 2959, 1041, 2324, 2858]\n",
      "230 [3967, 1217, 56782, 171763, 106642, 110102, 5690, 1261, 92259, 899]\n",
      "231 [50, 1104, 4993, 475, 904, 318, 908, 2959, 1201, 1213]\n",
      "232 [1704, 2324, 56782, 2542, 1276, 1213, 1266, 1261, 177593, 750]\n",
      "233 [260, 1198, 1197, 2160, 1221, 899, 246, 1204, 951, 2078]\n",
      "234 [904, 3275, 1203, 1201, 2959, 1250, 899, 475, 81845, 79132]\n",
      "235 [951, 1204, 2571, 5690, 912, 899, 177593, 1198, 260, 1262]\n",
      "236 [1250, 3000, 1197, 260, 1267, 7153, 1203, 1276, 1104, 2959]\n",
      "237 [3451, 1249, 1225, 1237, 1221, 858, 3275, 908, 4226, 1276]\n",
      "238 [4973, 7153, 1237, 1278, 1884, 899, 1258, 1704, 908, 904]\n",
      "239 [913, 750, 908, 904, 898, 56782, 27773, 7361, 246, 1276]\n",
      "240 [1258, 922, 1237, 112552, 1201, 1250, 1204, 475, 908, 89745]\n",
      "241 [3275, 898, 1704, 3037, 2788, 48516, 1201, 96821, 57669, 1136]\n",
      "242 [4973, 1089, 2019, 1246, 4011, 1104, 3508, 6016, 858, 1213]\n",
      "243 [899, 904, 908, 1225, 2324, 4226, 48780, 1223, 1261, 7361]\n",
      "244 [527, 4993, 3451, 858, 1266, 1136, 720, 912, 1387, 2804]\n",
      "245 [318, 356, 56782, 1204, 1178, 3275, 1261, 750, 898, 1208]\n",
      "246 [1104, 318, 3836, 750, 1261, 912, 1245, 3451, 6787, 913]\n",
      "247 [475, 31658, 1208, 44555, 1203, 3451, 1233, 898, 933, 1104]\n",
      "248 [750, 7090, 246, 318, 2542, 3275, 1261, 904, 1104, 2067]\n",
      "249 [1204, 1104, 1136, 2324, 1276, 1261, 2019, 1262, 6350, 1225]\n",
      "250 [48516, 904, 750, 4973, 1104, 898, 913, 741, 1204, 6874]\n",
      "251 [4226, 750, 4973, 1193, 741, 858, 3451, 50, 1104, 27773]\n",
      "252 [50, 1204, 2542, 318, 2959, 1225, 1104, 1228, 296, 58559]\n",
      "253 [318, 1148, 904, 2959, 4011, 1193, 1250, 356, 3451, 1228]\n",
      "254 [1203, 1208, 44555, 142488, 5690, 1172, 1223, 2324, 1104, 1261]\n",
      "255 [318, 7361, 106782, 4499, 1245, 6016, 356, 3275, 50, 1178]\n",
      "256 [246, 3275, 57669, 898, 112552, 1261, 1223, 3671, 930, 904]\n",
      "257 [1104, 7153, 4993, 112552, 7371, 58559, 1237, 5618, 1136, 541]\n",
      "258 [356, 1235, 912, 1104, 1136, 899, 58559, 4011, 903, 5618]\n",
      "259 [1262, 106782, 1237, 44195, 1204, 1250, 318, 152081, 1028, 1272]\n",
      "260 [527, 951, 44555, 1208, 899, 318, 1204, 541, 924, 2324]\n",
      "261 [1197, 4973, 260, 7153, 68954, 1270, 908, 527, 2078, 1233]\n",
      "262 [2959, 4226, 2571, 1673, 750, 1204, 56782, 48516, 142488, 904]\n",
      "263 [750, 1199, 1276, 2959, 2788, 1213, 6016, 858, 1203, 898]\n",
      "264 [1204, 475, 1104, 1237, 3424, 88163, 1198, 3275, 904, 56782]\n",
      "265 [457, 898, 858, 1387, 4027, 56782, 1210, 1213, 1204, 5690]\n",
      "266 [750, 2858, 741, 4973, 527, 1221, 293, 6874, 1104, 3996]\n",
      "267 [318, 912, 1704, 3451, 527, 3836, 1213, 1089, 2019, 3275]\n",
      "268 [318, 608, 1089, 246, 1280, 1228, 177593, 1223, 3275, 1267]\n",
      "269 [2959, 1203, 4973, 750, 1261, 1208, 1148, 318, 1884, 2788]\n",
      "270 [2959, 318, 296, 2858, 1148, 527, 50, 1213, 2571, 57669]\n",
      "271 [1204, 1104, 318, 1136, 912, 858, 750, 1732, 3451, 356]\n",
      "272 [1208, 1198, 1262, 2324, 904, 1276, 527, 2329, 246, 4226]\n",
      "273 [1136, 2019, 3671, 105504, 1276, 246, 2067, 905, 2571, 899]\n",
      "274 [5902, 3030, 3451, 1237, 745, 112290, 1104, 4973, 246, 1204]\n",
      "275 [1204, 1223, 2019, 3030, 5690, 5995, 3671, 71899, 6016, 1201]\n",
      "276 [50, 110, 527, 1089, 1197, 1208, 1213, 2028, 2329, 318]\n",
      "277 [750, 858, 1204, 527, 1203, 1201, 318, 50, 1250, 1208]\n",
      "278 [2571, 1213, 3037, 1197, 858, 1248, 1262, 3508, 541, 58559]\n",
      "279 [4973, 750, 908, 2542, 1089, 1199, 3451, 246, 930, 177593]\n",
      "280 [904, 1233, 3275, 1203, 1262, 750, 7090, 922, 56782, 1223]\n",
      "281 [318, 1104, 750, 3275, 1276, 1213, 1089, 50, 2019, 2571]\n",
      "282 [1197, 246, 1673, 1233, 1237, 933, 1198, 68954, 457, 5690]\n",
      "283 [750, 2959, 858, 1237, 1197, 2571, 2019, 1225, 4973, 1204]\n",
      "284 [1246, 750, 1704, 48516, 2571, 50, 1198, 246, 2329, 3499]\n",
      "285 [318, 750, 2959, 1210, 741, 4973, 1248, 1196, 7153, 1203]\n",
      "286 [750, 318, 1208, 50, 741, 5971, 3275, 48516, 1104, 933]\n",
      "287 [296, 7153, 4226, 1258, 541, 8370, 6502, 593, 922, 1249]\n",
      "288 [858, 1089, 720, 1221, 778, 741, 68237, 68157, 933, 79132]\n",
      "289 [318, 3451, 912, 527, 3275, 1213, 903, 904, 3836, 1673]\n",
      "290 [48516, 56782, 1104, 3147, 3275, 1272, 1197, 5690, 3836, 44555]\n",
      "291 [912, 318, 1261, 1204, 6016, 1201, 3275, 1225, 904, 1213]\n",
      "292 [246, 933, 1222, 1197, 1204, 1041, 898, 1213, 3783, 34405]\n",
      "293 [2571, 750, 899, 1204, 2019, 898, 951, 3836, 1193, 2324]\n",
      "294 [2571, 951, 4973, 1208, 1682, 6874, 74458, 1304, 1272, 924]\n",
      "295 [933, 60069, 4306, 38061, 1704, 1276, 1249, 904, 4993, 898]\n",
      "296 [4226, 858, 3949, 741, 111, 4993, 1199, 1136, 1228, 1233]\n",
      "297 [296, 4226, 318, 858, 4973, 1221, 750, 1090, 1148, 48516]\n",
      "298 [527, 2329, 720, 745, 60069, 475, 3363, 2804, 2160, 2028]\n",
      "299 [2571, 7361, 593, 2542, 1249, 3275, 1673, 1267, 1209, 177593]\n",
      "300 [904, 1213, 57669, 908, 1136, 48516, 912, 1204, 1259, 56782]\n",
      "301 [318, 858, 904, 1104, 2324, 1250, 1221, 1203, 1272, 750]\n",
      "302 [2571, 750, 2959, 1204, 318, 4226, 4973, 1213, 904, 1148]\n",
      "303 [44555, 1198, 475, 1945, 1250, 908, 1204, 933, 1242, 741]\n",
      "304 [912, 58559, 2160, 1204, 68954, 905, 50, 81845, 5690, 475]\n",
      "305 [912, 6787, 7361, 96821, 1921, 4437, 6104, 928, 720, 3451]\n",
      "306 [318, 858, 1262, 48516, 898, 2324, 1196, 260, 910, 44555]\n",
      "307 [4973, 94959, 3022, 115569, 29, 2324, 78499, 89904, 1394, 1211]\n",
      "308 [1204, 1283, 923, 1041, 111, 7327, 56782, 899, 1293, 919]\n",
      "309 [922, 750, 356, 475, 1704, 1237, 1208, 2194, 58559, 110]\n",
      "310 [296, 2324, 527, 858, 1262, 318, 1089, 1732, 48516, 1213]\n",
      "311 [750, 912, 1204, 1233, 908, 1217, 1104, 5690, 2788, 1213]\n",
      "312 [318, 296, 1136, 858, 1104, 1203, 2959, 720, 1148, 50]\n",
      "313 [58559, 3030, 1246, 475, 4878, 4144, 3730, 81591, 1104, 44191]\n",
      "314 [1208, 246, 57669, 1213, 1262, 3836, 2858, 2959, 7090, 745]\n",
      "315 [1198, 318, 3275, 2959, 904, 48516, 922, 1089, 903, 1209]\n",
      "316 [318, 356, 112552, 904, 4642, 7090, 1237, 150, 899, 3275]\n",
      "317 [1136, 2019, 527, 541, 930, 951, 31658, 1201, 2788, 246]\n",
      "318 [2959, 246, 475, 3275, 50, 1213, 933, 4642, 1250, 2160]\n",
      "319 [1204, 1261, 2329, 1197, 750, 3037, 741, 1237, 1213, 8368]\n",
      "320 [898, 318, 3275, 904, 6711, 2959, 1212, 7361, 1225, 56782]\n",
      "321 [898, 1193, 904, 31658, 1250, 3451, 1237, 951, 3347, 475]\n",
      "322 [246, 908, 904, 67255, 96821, 68954, 1104, 3275, 1884, 48516]\n",
      "323 [904, 1204, 1203, 750, 898, 1201, 1219, 3468, 4226, 908]\n",
      "324 [904, 318, 1203, 2571, 750, 475, 1262, 2324, 27773, 48516]\n",
      "325 [2959, 50, 4973, 527, 1136, 608, 750, 1104, 720, 1089]\n",
      "326 [898, 1225, 1172, 741, 4878, 899, 750, 1704, 1204, 66934]\n",
      "327 [1204, 3037, 1104, 71899, 750, 951, 1201, 2571, 1210, 110]\n",
      "328 [2502, 1104, 4226, 27773, 923, 3200, 593, 31658, 5225, 4914]\n",
      "329 [908, 4642, 899, 58559, 44555, 364, 3275, 5690, 2289, 1261]\n",
      "330 [4973, 914, 1221, 1104, 3983, 168252, 1248, 1252, 3160, 48394]\n",
      "331 [2858, 745, 1080, 1221, 1262, 750, 2324, 4226, 1196, 1203]\n",
      "332 [858, 260, 1250, 1221, 1283, 1136, 1104, 1198, 5618, 951]\n",
      "333 [318, 750, 1221, 904, 58559, 913, 898, 7361, 741, 2502]\n",
      "334 [1148, 1197, 1204, 778, 50, 1225, 5690, 246, 1104, 1261]\n",
      "335 [527, 1204, 858, 2019, 1197, 7361, 750, 1178, 541, 1136]\n",
      "336 [1204, 1104, 750, 1089, 930, 1223, 1213, 1198, 2019, 56782]\n",
      "337 [457, 1089, 1197, 3147, 48516, 106782, 475, 898, 904, 2019]\n",
      "338 [1196, 1198, 260, 750, 2571, 1136, 1208, 356, 1197, 1278]\n",
      "339 [930, 2542, 6787, 910, 7090, 1673, 1204, 1148, 50, 1278]\n",
      "340 [260, 908, 1225, 858, 904, 608, 1204, 1178, 1213, 2571]\n",
      "341 [1204, 750, 58559, 858, 1104, 1261, 1225, 1262, 1208, 1252]\n",
      "342 [318, 527, 898, 3147, 912, 356, 5690, 930, 1283, 1104]\n",
      "343 [1208, 750, 475, 1267, 1204, 1104, 1223, 177593, 3451, 1193]\n",
      "344 [91529, 246, 590, 142488, 3037, 1261, 898, 2329, 1198, 904]\n",
      "345 [750, 1262, 1204, 7153, 1104, 741, 1198, 56782, 858, 2324]\n",
      "346 [951, 7090, 1204, 1262, 1246, 899, 3275, 1197, 246, 1233]\n",
      "347 [904, 608, 4973, 1223, 912, 1203, 527, 1204, 908, 750]\n",
      "348 [1197, 898, 904, 1266, 1201, 1261, 7361, 56782, 1249, 3451]\n",
      "349 [318, 1258, 898, 6787, 5690, 922, 1270, 1104, 858, 5618]\n",
      "350 [356, 318, 750, 57669, 4973, 50, 904, 1104, 3836, 1235]\n",
      "351 [1204, 750, 3275, 527, 56782, 1261, 898, 1178, 105504, 1262]\n",
      "352 [1136, 1104, 1204, 858, 122926, 750, 904, 1208, 1041, 4878]\n",
      "353 [4011, 58559, 898, 4979, 1213, 356, 1221, 1704, 745, 31658]\n",
      "354 [475, 44195, 908, 3451, 1213, 912, 6016, 78499, 904, 293]\n",
      "355 [4973, 48516, 778, 318, 4226, 56782, 3275, 1089, 296, 246]\n",
      "356 [904, 1204, 908, 750, 898, 1262, 914, 1228, 246, 899]\n",
      "357 [750, 1223, 1199, 475, 904, 5690, 2761, 5971, 57669, 1203]\n",
      "358 [318, 356, 3451, 34405, 1197, 1223, 1104, 1267, 5902, 142488]\n",
      "359 [318, 904, 898, 356, 1276, 3275, 750, 899, 1193, 912]\n",
      "360 [3508, 142488, 1267, 904, 3037, 1204, 1223, 1237, 356, 750]\n",
      "361 [246, 106642, 2542, 5690, 3671, 56782, 112552, 913, 3468, 1237]\n",
      "362 [898, 5618, 904, 1261, 3451, 1204, 4226, 750, 922, 1225]\n",
      "363 [48516, 2959, 2324, 60684, 57669, 904, 1237, 3030, 7361, 1222]\n",
      "364 [356, 527, 318, 1204, 6787, 7090, 951, 750, 3275, 1178]\n",
      "365 [1104, 1212, 44195, 922, 898, 919, 903, 3836, 912, 1261]\n",
      "366 [318, 296, 4973, 1276, 904, 750, 3275, 1104, 50, 3451]\n",
      "367 [1204, 951, 1213, 48516, 1201, 44555, 1261, 4967, 908, 4720]\n",
      "368 [318, 1288, 1136, 38061, 3996, 475, 57669, 4993, 81845, 4226]\n",
      "369 [750, 2019, 318, 1148, 1261, 1248, 296, 8949, 904, 5690]\n",
      "370 [246, 1261, 44555, 56782, 3275, 3468, 1258, 3671, 1217, 1204]\n",
      "371 [50, 1089, 1213, 2858, 2959, 318, 1704, 48516, 106782, 475]\n",
      "372 [1234, 2028, 2571, 7361, 3030, 58559, 79132, 750, 68157, 2542]\n",
      "373 [4973, 916, 1203, 750, 2329, 68954, 7361, 1233, 1201, 541]\n",
      "374 [4226, 593, 57669, 2329, 2858, 527, 50, 1276, 933, 750]\n",
      "375 [1136, 296, 858, 750, 1200, 2571, 2019, 1208, 608, 7361]\n",
      "376 [898, 1235, 1213, 246, 58559, 318, 3275, 2959, 933, 930]\n",
      "377 [750, 318, 593, 1204, 1247, 1221, 608, 858, 4226, 951]\n",
      "378 [1204, 541, 750, 1233, 904, 2324, 1276, 3508, 741, 951]\n",
      "379 [898, 3030, 3275, 750, 3451, 1172, 4011, 2160, 1041, 1197]\n",
      "380 [778, 1203, 1242, 74458, 4144, 1104, 81845, 3030, 2160, 1394]\n",
      "381 [56782, 44555, 1204, 898, 1261, 1217, 1225, 1201, 60069, 1209]\n",
      "382 [1213, 69481, 1207, 930, 2329, 1104, 56782, 1203, 1136, 5690]\n",
      "383 [296, 858, 1204, 4973, 1201, 2571, 177593, 4995, 50, 899]\n",
      "384 [318, 858, 951, 527, 1201, 5902, 866, 589, 1208, 356]\n",
      "385 [2571, 4993, 2329, 1261, 2502, 3451, 109487, 3147, 56782, 2324]\n",
      "386 [1136, 1204, 48516, 1732, 541, 1208, 1228, 1249, 260, 922]\n",
      "387 [720, 7153, 68157, 78499, 4011, 38061, 6711, 5952, 60069, 1203]\n",
      "388 [858, 1234, 593, 1213, 1104, 4993, 58559, 105504, 1204, 78499]\n",
      "389 [356, 527, 1213, 318, 904, 1262, 142488, 58559, 1276, 741]\n",
      "390 [1204, 1104, 1276, 356, 246, 951, 5952, 1225, 1233, 750]\n",
      "391 [27773, 7361, 1203, 54503, 1267, 6774, 1223, 1250, 4878, 7438]\n",
      "392 [318, 50, 260, 48516, 2959, 4993, 1199, 2571, 6016, 296]\n",
      "393 [3671, 168252, 3836, 1104, 913, 904, 112552, 104374, 119145, 2542]\n",
      "394 [318, 750, 2959, 1213, 2329, 2571, 1248, 1148, 913, 858]\n",
      "395 [318, 4226, 1193, 1249, 3451, 904, 912, 1233, 1252, 750]\n",
      "396 [260, 904, 1213, 922, 1198, 58559, 2571, 1225, 1262, 741]\n",
      "397 [260, 1196, 858, 593, 2571, 1136, 1198, 541, 912, 296]\n",
      "398 [318, 1262, 5690, 527, 1270, 56782, 1233, 50, 2160, 2959]\n",
      "399 [899, 951, 1261, 741, 1225, 475, 3000, 7090, 48516, 1104]\n",
      "400 [1262, 904, 898, 912, 1148, 913, 1204, 908, 475, 5690]\n",
      "401 [318, 904, 1208, 1262, 260, 750, 1203, 1228, 142488, 1204]\n",
      "402 [246, 1213, 475, 899, 908, 1262, 58559, 57669, 3275, 5690]\n",
      "403 [318, 898, 2571, 912, 858, 2959, 1136, 1148, 260, 904]\n",
      "404 [50, 1213, 1104, 177593, 2571, 2028, 1207, 4993, 3508, 57669]\n",
      "405 [1204, 898, 5690, 904, 58559, 318, 1262, 1193, 356, 912]\n",
      "406 [318, 904, 741, 750, 1104, 1198, 1233, 3275, 6016, 7090]\n",
      "407 [1250, 750, 908, 1198, 318, 1213, 1104, 112552, 78499, 1242]\n",
      "408 [904, 1136, 593, 1225, 750, 858, 4973, 1228, 142488, 48516]\n",
      "409 [908, 1148, 2502, 3451, 1267, 1262, 1272, 3275, 1237, 48516]\n",
      "410 [58559, 898, 6350, 6711, 1178, 1204, 1223, 48780, 902, 3275]\n",
      "411 [2571, 2959, 1213, 2028, 904, 1261, 2762, 750, 1233, 475]\n",
      "412 [750, 1704, 3037, 318, 4262, 4226, 2959, 6711, 57669, 922]\n",
      "413 [1210, 912, 1261, 5008, 1204, 1199, 1136, 898, 1172, 750]\n",
      "414 [80906, 1230, 1269, 2324, 954, 898, 1203, 5747, 3435, 3213]\n",
      "415 [527, 1204, 898, 5618, 56782, 1266, 1172, 1261, 1250, 912]\n",
      "416 [1704, 3037, 1284, 78499, 922, 2580, 33166, 1201, 912, 6016]\n",
      "417 [741, 1136, 1261, 2019, 750, 1204, 1225, 1247, 7361, 2791]\n",
      "418 [1201, 32, 1265, 858, 6874, 1228, 1221, 1204, 1197, 1252]\n",
      "419 [2324, 246, 1104, 5690, 904, 2078, 3836, 1278, 106642, 2160]\n",
      "420 [912, 858, 56782, 6787, 1262, 177593, 1233, 1178, 1204, 919]\n",
      "421 [1252, 1617, 1197, 1250, 2160, 6377, 3275, 2571, 858, 2329]\n",
      "422 [1196, 7153, 527, 1198, 1204, 1230, 1921, 4993, 1208, 177593]\n",
      "423 [3451, 48516, 1262, 3275, 1276, 527, 908, 912, 904, 58559]\n",
      "424 [1136, 898, 2398, 1233, 1283, 919, 951, 162, 106642, 914]\n",
      "425 [246, 48516, 1104, 1276, 6711, 92259, 2542, 1258, 1217, 898]\n",
      "426 [951, 1262, 1250, 111, 1208, 142488, 898, 177593, 3275, 1204]\n",
      "427 [260, 318, 898, 593, 1704, 908, 750, 858, 1673, 7361]\n",
      "428 [4226, 608, 50, 1732, 115569, 750, 2019, 904, 1249, 1193]\n",
      "429 [356, 1196, 318, 898, 1203, 3037, 1198, 1221, 1213, 3451]\n",
      "430 [904, 1193, 3451, 50, 898, 57669, 750, 922, 49272, 1233]\n",
      "431 [318, 1223, 1104, 858, 1197, 899, 4226, 593, 1252, 750]\n",
      "432 [112552, 1207, 1235, 2289, 88125, 44555, 1283, 1104, 2160, 81834]\n",
      "433 [4226, 3275, 7153, 3451, 908, 1136, 2571, 56782, 7361, 6711]\n",
      "434 [1221, 4973, 912, 1199, 922, 1283, 1203, 899, 27773, 1234]\n",
      "435 [904, 3275, 1276, 933, 1237, 908, 38061, 898, 1104, 750]\n",
      "436 [750, 475, 2571, 1196, 2959, 260, 50, 1278, 1223, 1199]\n",
      "437 [4973, 2571, 4226, 750, 858, 1221, 7153, 2959, 1104, 1198]\n",
      "438 [1198, 1276, 2329, 1250, 52885, 1291, 913, 2542, 3030, 750]\n",
      "439 [50, 4995, 898, 720, 111, 5618, 4973, 177593, 2959, 858]\n",
      "440 [2324, 858, 2329, 1204, 912, 318, 750, 2160, 2542, 1261]\n",
      "441 [48516, 898, 904, 56782, 3451, 1213, 913, 4011, 741, 1104]\n",
      "442 [1233, 1193, 750, 1104, 318, 356, 904, 541, 1198, 1213]\n",
      "443 [1283, 1223, 1288, 1203, 1207, 912, 527, 1208, 1250, 7371]\n",
      "444 [1233, 475, 912, 951, 1204, 7090, 1104, 246, 1136, 57669]\n",
      "445 [1198, 1041, 318, 1291, 50, 1104, 4226, 1196, 1248, 904]\n",
      "446 [858, 318, 2324, 750, 1089, 2959, 1204, 1136, 1219, 260]\n",
      "447 [750, 48516, 1233, 1222, 898, 1225, 912, 1283, 1041, 1204]\n",
      "448 [1242, 904, 1197, 2329, 56782, 318, 34405, 1282, 930, 1237]\n",
      "449 [296, 904, 2160, 356, 260, 1148, 5618, 1203, 1221, 88163]\n",
      "450 [2571, 527, 58559, 904, 2959, 1197, 951, 1198, 1261, 318]\n",
      "451 [1089, 318, 4973, 1197, 1136, 68157, 7361, 2019, 48516, 356]\n",
      "452 [593, 1213, 2542, 2692, 3671, 318, 1704, 48516, 58559, 80906]\n",
      "453 [1270, 1248, 58, 48516, 720, 3328, 2019, 1235, 142488, 60684]\n",
      "454 [1136, 2542, 2959, 1223, 1213, 318, 50, 4973, 475, 2571]\n",
      "455 [2329, 1266, 2324, 1225, 5690, 1172, 1204, 1270, 904, 68954]\n",
      "456 [1204, 3275, 750, 527, 318, 1201, 1213, 898, 56782, 246]\n",
      "457 [3275, 1225, 910, 899, 1104, 246, 912, 1178, 318, 908]\n",
      "458 [1276, 246, 176, 475, 50, 116797, 1237, 57669, 922, 34405]\n",
      "459 [1104, 1258, 4973, 1204, 3275, 908, 912, 904, 541, 3037]\n",
      "460 [1225, 2324, 1204, 1262, 1198, 908, 475, 1104, 858, 7361]\n",
      "461 [1261, 898, 112552, 16, 1266, 293, 3504, 5418, 1104, 2078]\n",
      "462 [1212, 898, 1217, 6350, 1250, 1272, 928, 167746, 1193, 106642]\n",
      "463 [318, 750, 2959, 1104, 904, 1193, 858, 1041, 56782, 1212]\n",
      "464 [1197, 750, 3451, 57669, 1252, 930, 68157, 1248, 7371, 1249]\n",
      "465 [296, 1136, 1148, 2959, 4973, 4226, 50, 246, 7361, 260]\n",
      "466 [246, 3275, 1217, 1201, 3347, 57669, 3671, 1204, 44555, 1225]\n",
      "467 [1213, 318, 858, 904, 2160, 1193, 912, 260, 1196, 2959]\n",
      "468 [475, 750, 4973, 1204, 593, 7153, 1041, 3000, 1250, 1197]\n",
      "469 [4226, 4973, 2959, 1223, 27773, 134130, 3451, 922, 1203, 951]\n",
      "470 [1237, 38061, 922, 904, 1193, 1196, 898, 246, 908, 1266]\n",
      "471 [750, 858, 904, 1204, 1261, 1213, 318, 898, 1266, 50]\n",
      "472 [912, 898, 1104, 4011, 1262, 1204, 913, 106642, 1213, 3147]\n",
      "473 [3275, 2019, 246, 1276, 908, 1204, 1225, 922, 79132, 1262]\n",
      "474 [68157, 168252, 105504, 81845, 2360, 56782, 81834, 78499, 69481, 38061]\n",
      "475 [1136, 2959, 318, 475, 904, 908, 750, 1200, 541, 2788]\n",
      "476 [527, 1213, 5690, 475, 246, 2571, 951, 1201, 1178, 1204]\n",
      "477 [1732, 1041, 27773, 88163, 720, 858, 68954, 2951, 3030, 1233]\n",
      "478 [318, 3468, 858, 6711, 1252, 1213, 1104, 3037, 56782, 1283]\n",
      "479 [912, 4973, 3949, 1148, 908, 1228, 1223, 2692, 1035, 1258]\n",
      "480 [68157, 5618, 58559, 912, 27773, 1252, 898, 750, 3451, 910]\n",
      "481 [318, 3275, 7090, 1245, 1198, 2959, 720, 1213, 750, 246]\n",
      "482 [527, 356, 44195, 1172, 475, 1210, 1213, 1237, 69844, 1261]\n",
      "483 [750, 4878, 1208, 541, 1222, 6, 1089, 4144, 1204, 1617]\n",
      "484 [246, 177593, 1267, 1270, 3451, 4995, 8368, 912, 1262, 951]\n",
      "485 [527, 318, 1270, 96821, 1261, 112552, 1197, 7371, 5690, 933]\n",
      "486 [2571, 2959, 527, 2324, 3275, 745, 1198, 904, 1276, 1213]\n",
      "487 [1193, 858, 1249, 1208, 912, 741, 2329, 110, 2019, 898]\n",
      "488 [750, 2571, 1204, 2959, 4011, 951, 541, 1208, 215, 2019]\n",
      "489 [527, 1222, 1208, 318, 38061, 1203, 4144, 1221, 1197, 57669]\n",
      "490 [527, 2324, 110, 2028, 1222, 858, 1221, 750, 1201, 318]\n",
      "491 [318, 908, 904, 527, 58559, 162, 912, 899, 33166, 1204]\n",
      "492 [919, 44195, 246, 1673, 1237, 912, 908, 142488, 1217, 318]\n",
      "493 [296, 50, 593, 1204, 527, 750, 1208, 2959, 1213, 318]\n",
      "494 [318, 2324, 3451, 1193, 1136, 1222, 904, 2959, 750, 3435]\n",
      "495 [296, 904, 1250, 908, 3275, 3030, 3037, 2324, 112552, 898]\n",
      "496 [1204, 750, 1223, 899, 930, 1193, 1213, 922, 1104, 1250]\n",
      "497 [1250, 356, 1197, 1136, 1213, 1237, 1259, 1178, 89745, 527]\n",
      "498 [3451, 1136, 3275, 1201, 50, 750, 1276, 1203, 3508, 922]\n",
      "499 [318, 7361, 1223, 1237, 2959, 1193, 112552, 2019, 1136, 1178]\n",
      "500 [2571, 3000, 1617, 922, 1291, 78499, 2300, 2329, 1198, 7090]\n",
      "501 [1104, 475, 356, 96829, 1213, 246, 171763, 3836, 2571, 1198]\n",
      "502 [858, 2324, 904, 778, 2959, 34405, 1204, 1262, 296, 223]\n",
      "503 [904, 3275, 3451, 1148, 1262, 4973, 1250, 1732, 741, 745]\n",
      "504 [246, 2571, 1262, 858, 260, 1204, 50, 2028, 527, 1213]\n",
      "505 [296, 1036, 778, 750, 5952, 1204, 2571, 1214, 1235, 741]\n",
      "506 [1203, 2959, 750, 4878, 904, 50, 1210, 1233, 318, 1136]\n",
      "507 [1104, 4848, 56782, 318, 1204, 2959, 1201, 858, 1261, 1250]\n",
      "508 [3037, 318, 1197, 1262, 6711, 1225, 908, 68954, 58559, 56782]\n",
      "509 [50, 858, 1104, 750, 318, 1201, 1262, 1221, 1212, 1199]\n",
      "510 [1204, 912, 260, 4973, 1272, 5618, 908, 7153, 1178, 951]\n",
      "511 [750, 1204, 904, 3508, 2160, 2019, 2329, 1196, 1197, 2028]\n",
      "512 [7153, 5952, 4993, 1104, 741, 6874, 2959, 750, 933, 1283]\n",
      "513 [527, 2324, 2571, 858, 1204, 50, 1252, 1262, 2959, 48516]\n",
      "514 [527, 318, 858, 1221, 720, 2329, 1104, 34405, 7361, 50]\n",
      "515 [1213, 475, 904, 2324, 81845, 4011, 1276, 31658, 57669, 142488]\n",
      "516 [1204, 750, 912, 898, 5618, 4993, 68157, 858, 7153, 1704]\n",
      "517 [93838, 7981, 908, 96821, 33004, 56367, 492, 72226, 1041, 5690]\n",
      "518 [1204, 898, 858, 912, 750, 1213, 2019, 922, 1208, 2067]\n",
      "519 [750, 475, 1196, 1136, 2788, 1204, 1199, 7153, 593, 5690]\n",
      "520 [2959, 527, 1203, 1233, 5690, 2160, 50, 1223, 1, 1209]\n",
      "521 [2160, 1196, 3508, 318, 177593, 1233, 914, 2959, 112552, 1197]\n",
      "522 [527, 745, 27773, 32587, 1204, 1222, 720, 5995, 1246, 3275]\n",
      "523 [50, 260, 296, 457, 1089, 1136, 1196, 1197, 1198, 1213]\n",
      "524 [1204, 112552, 1258, 2160, 246, 2571, 3508, 5690, 930, 908]\n",
      "525 [1193, 904, 898, 741, 1204, 1250, 922, 48516, 56782, 6016]\n",
      "526 [898, 1204, 3275, 1198, 951, 1136, 1041, 904, 750, 1278]\n",
      "527 [318, 3275, 1199, 898, 60069, 750, 2329, 1617, 1237, 76093]\n",
      "528 [318, 951, 1200, 1246, 50, 1198, 1148, 1884, 142488, 293]\n",
      "529 [750, 246, 2571, 2019, 1197, 318, 1219, 142488, 2067, 904]\n",
      "530 [527, 318, 50, 2571, 1197, 904, 4011, 57669, 1252, 1221]\n",
      "531 [318, 750, 1197, 720, 1196, 2959, 2160, 3508, 50, 1208]\n",
      "532 [356, 475, 922, 5690, 750, 1217, 31658, 1203, 1196, 3836]\n",
      "533 [3275, 1276, 750, 3451, 904, 318, 2580, 1245, 912, 2542]\n",
      "534 [922, 898, 1089, 904, 64716, 318, 5690, 8949, 1090, 3275]\n",
      "535 [2959, 750, 904, 922, 1262, 858, 1233, 3275, 1203, 1276]\n",
      "536 [318, 58559, 3037, 1225, 1235, 898, 112552, 1237, 908, 1276]\n",
      "537 [56782, 2360, 68157, 1104, 1136, 2761, 4011, 858, 1249, 914]\n",
      "538 [260, 296, 1089, 1136, 1208, 1213, 1222, 2571, 2959, 318]\n",
      "539 [4967, 1199, 2160, 1237, 1235, 2959, 904, 898, 922, 1704]\n",
      "540 [912, 318, 1204, 541, 951, 922, 1198, 1233, 1235, 904]\n",
      "541 [1262, 527, 112552, 858, 2324, 1261, 1252, 2028, 1704, 904]\n",
      "542 [1197, 81834, 1222, 745, 720, 1, 3681, 1041, 44555, 1213]\n",
      "543 [457, 593, 1196, 1197, 1208, 1258, 318, 58559, 720, 2288]\n",
      "544 [1136, 2571, 2959, 904, 1199, 4226, 750, 1223, 4973, 57669]\n",
      "545 [898, 3275, 318, 246, 1104, 1203, 1193, 904, 57669, 908]\n",
      "546 [7153, 1276, 2959, 1136, 5952, 56782, 260, 142488, 1208, 2028]\n",
      "547 [3451, 2160, 1237, 2028, 7361, 898, 246, 1249, 1197, 68157]\n",
      "548 [858, 318, 1262, 750, 2019, 1219, 44195, 527, 922, 1250]\n",
      "549 [4973, 3451, 1089, 1276, 1136, 1673, 1704, 296, 1223, 246]\n",
      "550 [2959, 904, 48516, 2542, 1617, 112552, 44555, 2324, 750, 99114]\n",
      "551 [527, 898, 904, 6016, 1262, 3275, 1213, 44555, 1178, 2692]\n",
      "552 [858, 260, 318, 2858, 1732, 1230, 1204, 1215, 5902, 1197]\n",
      "553 [898, 912, 750, 1204, 2067, 318, 1246, 1248, 933, 926]\n",
      "554 [1262, 4967, 1235, 81845, 1199, 745, 318, 3681, 72226, 1266]\n",
      "555 [4226, 1148, 1199, 58559, 47, 1262, 3949, 1653, 908, 4878]\n",
      "556 [318, 1204, 1208, 858, 3147, 3451, 1262, 527, 750, 904]\n",
      "557 [898, 1237, 48516, 1204, 899, 904, 56782, 750, 951, 1261]\n",
      "558 [1252, 318, 1204, 750, 904, 1221, 112552, 912, 2571, 58559]\n",
      "559 [527, 904, 2571, 1213, 1198, 34405, 2324, 2959, 50, 1199]\n",
      "560 [904, 1104, 750, 1204, 1262, 858, 1213, 44555, 1041, 1233]\n",
      "561 [858, 1221, 750, 1247, 5618, 475, 1136, 904, 1201, 741]\n",
      "562 [1223, 4973, 142488, 1041, 913, 1148, 246, 1267, 1261, 7361]\n",
      "563 [318, 50, 2959, 904, 750, 1204, 1276, 44555, 44195, 745]\n",
      "564 [48516, 2067, 246, 1204, 1673, 2542, 4973, 3275, 68157, 1217]\n",
      "565 [7361, 2571, 2959, 858, 1089, 2019, 1208, 4226, 2580, 1252]\n",
      "566 [858, 1136, 260, 3451, 1204, 7361, 57669, 2324, 38061, 951]\n",
      "567 [296, 1261, 904, 106642, 3468, 1080, 5995, 1193, 1242, 1283]\n",
      "568 [318, 1258, 778, 7361, 527, 2959, 8950, 541, 2571, 1204]\n",
      "569 [898, 1233, 1704, 58559, 318, 750, 92259, 246, 904, 6711]\n",
      "570 [1252, 50, 246, 296, 3275, 56782, 1261, 750, 177593, 1222]\n",
      "571 [1276, 593, 1262, 58559, 3147, 3037, 4306, 1198, 260, 475]\n",
      "572 [3275, 926, 44555, 1213, 56782, 79132, 296, 3683, 1245, 58559]\n",
      "573 [912, 1262, 1204, 1041, 1303, 1104, 908, 2019, 246, 87234]\n",
      "574 [2571, 1213, 1041, 904, 750, 1204, 898, 1225, 908, 1262]\n",
      "575 [527, 904, 1213, 2324, 1204, 1276, 3508, 246, 1203, 2502]\n",
      "576 [1233, 48516, 593, 1283, 908, 2571, 1148, 2858, 898, 246]\n",
      "577 [750, 1204, 904, 58559, 1228, 1283, 922, 1276, 3451, 1104]\n",
      "578 [898, 48516, 1223, 1204, 750, 3275, 912, 922, 858, 1230]\n",
      "579 [1204, 3451, 1225, 1197, 750, 1089, 4848, 4973, 1237, 858]\n",
      "580 [2324, 3328, 1446, 1719, 79132, 57669, 1252, 1215, 2019, 1261]\n",
      "581 [1204, 899, 1262, 1276, 162, 1203, 3836, 1208, 912, 56782]\n",
      "582 [1198, 904, 3275, 527, 1213, 318, 2542, 1204, 1208, 3451]\n",
      "583 [3275, 318, 1261, 5618, 1213, 44555, 1208, 750, 2329, 1276]\n",
      "584 [223, 1136, 318, 898, 904, 1259, 750, 1193, 933, 741]\n",
      "585 [1204, 912, 4973, 1203, 541, 1210, 1208, 750, 56782, 1233]\n",
      "586 [48516, 3275, 933, 56782, 1237, 246, 913, 908, 2329, 899]\n",
      "587 [1225, 1228, 318, 1262, 527, 3275, 142488, 1208, 720, 48774]\n",
      "588 [750, 4973, 2324, 4226, 2959, 5690, 60069, 1136, 933, 1035]\n",
      "589 [2571, 50, 4973, 3451, 1198, 4995, 3275, 1246, 750, 48516]\n",
      "590 [5618, 741, 1222, 1104, 27773, 720, 81845, 7090, 55118, 54503]\n",
      "591 [318, 1197, 1196, 3275, 858, 589, 1213, 1234, 910, 750]\n",
      "592 [527, 858, 1193, 1196, 904, 2571, 3451, 908, 1213, 930]\n",
      "593 [1193, 750, 27773, 1208, 3451, 1104, 1136, 1233, 1204, 1250]\n",
      "594 [112552, 898, 908, 246, 3275, 43376, 1041, 2583, 926, 6016]\n",
      "595 [1204, 318, 296, 2959, 904, 4848, 1136, 293, 4973, 2542]\n",
      "596 [1041, 1225, 44555, 922, 745, 750, 1258, 898, 48516, 1204]\n",
      "597 [296, 527, 608, 318, 6874, 68157, 720, 912, 4226, 750]\n",
      "598 [1178, 6350, 177593, 1204, 1041, 3037, 898, 99114, 2324, 1208]\n",
      "599 [1234, 2324, 1267, 3507, 74458, 527, 1041, 1193, 177593, 4967]\n",
      "600 [1080, 1221, 68157, 1203, 1283, 4878, 1250, 56782, 1276, 1188]\n",
      "601 [750, 296, 1233, 1204, 1248, 3275, 1250, 44555, 246, 1244]\n",
      "602 [5952, 1204, 2571, 8961, 4993, 750, 1197, 2028, 7153, 1196]\n",
      "603 [4878, 50, 1250, 6620, 1223, 48516, 318, 3949, 2788, 5902]\n",
      "604 [1204, 6016, 1252, 3275, 1233, 1217, 1104, 899, 1673, 142488]\n",
      "605 [899, 904, 3671, 1225, 56782, 750, 1217, 908, 913, 1198]\n",
      "606 [608, 741, 3949, 1035, 720, 1104, 1233, 1252, 3275, 1203]\n",
      "607 [246, 176, 904, 1201, 4642, 356, 142488, 2542, 3037, 7090]\n",
      "608 [1197, 1269, 2019, 54881, 1252, 3730, 1235, 57669, 6711, 7099]\n",
      "609 [1250, 904, 1104, 1193, 1136, 2959, 50, 1248, 933, 7361]\n",
      "610 [2019, 5995, 898, 1242, 1251, 720, 3451, 1104, 122926, 1206]\n"
     ]
    }
   ],
   "source": [
    "trainset = data.build_full_trainset()\n",
    "algo1.fit(trainset)\n",
    "\n",
    "# Than predict ratings for all pairs (u, i) that are NOT in the training set.\n",
    "testset = trainset.build_anti_testset()\n",
    "predictions = algo1.test(testset)\n",
    "\n",
    "top_n = get_top_n(predictions, n=3)\n",
    "\n",
    "# Print the recommended items for each user\n",
    "for uid, user_ratings in top_n.items():\n",
    "    print(uid, [iid for (iid, _) in user_ratings])"
   ]
  },
  {
   "cell_type": "code",
   "execution_count": 51,
   "metadata": {
    "ExecuteTime": {
     "end_time": "2023-03-20T04:12:44.311279Z",
     "start_time": "2023-03-20T04:10:20.170873Z"
    }
   },
   "outputs": [
    {
     "name": "stdout",
     "output_type": "stream",
     "text": [
      "Dataset ml-100k could not be found. Do you want to download it? [Y/n] n\n",
      "Ok then, I'm out!\n"
     ]
    },
    {
     "ename": "SystemExit",
     "evalue": "",
     "output_type": "error",
     "traceback": [
      "An exception has occurred, use %tb to see the full traceback.\n",
      "\u001b[0;31mSystemExit\u001b[0m\n"
     ]
    },
    {
     "name": "stderr",
     "output_type": "stream",
     "text": [
      "/Users/heathrittler/opt/anaconda3/envs/learn-env/lib/python3.8/site-packages/IPython/core/interactiveshell.py:3425: UserWarning: To exit: use 'exit', 'quit', or Ctrl-D.\n",
      "  warn(\"To exit: use 'exit', 'quit', or Ctrl-D.\", stacklevel=1)\n"
     ]
    }
   ],
   "source": [
    "from surprise import accuracy, Dataset, SVD\n",
    "from surprise.model_selection import train_test_split\n",
    "\n",
    "# Load the movielens-100k dataset (download it if needed),\n",
    "data = Dataset.load_builtin(\"ml-100k\")\n",
    "\n",
    "# sample random trainset and testset\n",
    "# test set is made of 25% of the ratings.\n",
    "trainset, testset = train_test_split(data, test_size=0.25)\n",
    "\n",
    "# We'll use the famous SVD algorithm.\n",
    "algo = SVD()\n",
    "\n",
    "# Train the algorithm on the trainset, and predict ratings for the testset\n",
    "algo.fit(trainset)\n",
    "predictions = algo.test(testset)\n",
    "\n",
    "# Then compute RMSE\n",
    "accuracy.rmse(predictions)"
   ]
  },
  {
   "cell_type": "code",
   "execution_count": null,
   "metadata": {},
   "outputs": [],
   "source": []
  }
 ],
 "metadata": {
  "kernelspec": {
   "display_name": "Python (learn-env)",
   "language": "python",
   "name": "learn-env"
  },
  "language_info": {
   "codemirror_mode": {
    "name": "ipython",
    "version": 3
   },
   "file_extension": ".py",
   "mimetype": "text/x-python",
   "name": "python",
   "nbconvert_exporter": "python",
   "pygments_lexer": "ipython3",
   "version": "3.8.5"
  },
  "toc": {
   "base_numbering": 1,
   "nav_menu": {},
   "number_sections": true,
   "sideBar": true,
   "skip_h1_title": false,
   "title_cell": "Table of Contents",
   "title_sidebar": "Contents",
   "toc_cell": false,
   "toc_position": {},
   "toc_section_display": true,
   "toc_window_display": false
  }
 },
 "nbformat": 4,
 "nbformat_minor": 5
}
